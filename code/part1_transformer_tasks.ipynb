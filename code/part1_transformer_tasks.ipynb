{
 "cells": [
  {
   "cell_type": "code",
   "execution_count": 1,
   "id": "2b8c1975-f4d8-4796-99a7-fee8e3db62c9",
   "metadata": {
    "tags": []
   },
   "outputs": [],
   "source": [
    "import pandas as pd\n",
    "import matplotlib.pyplot as plt\n",
    "import seaborn as sns\n",
    "import random\n",
    "\n",
    "import string\n",
    "import re\n",
    "\n",
    "import scipy\n",
    "import numpy as np\n",
    "from sklearn.feature_extraction.text import TfidfVectorizer, CountVectorizer\n",
    "\n",
    "from sklearn import metrics\n",
    "from sklearn.metrics import confusion_matrix,accuracy_score,roc_auc_score,roc_curve,auc,f1_score\n",
    "from sklearn.utils.class_weight import compute_class_weight\n",
    "\n",
    "import torch\n",
    "import torch.nn as nn\n",
    "import torch.optim as optim\n",
    "import torch.utils.data\n",
    "\n",
    "import torchsummary\n",
    "\n",
    "import time\n",
    "import os\n",
    "import shutil\n",
    "\n",
    "import transformers\n",
    "from transformers import BertTokenizer, BertModel\n",
    "\n",
    "from tqdm.notebook import tqdm\n",
    "tqdm.pandas()\n",
    "\n",
    "device=\"cuda\""
   ]
  },
  {
   "cell_type": "markdown",
   "id": "38d2598d-c4ac-4666-b25f-bd6746eafbbd",
   "metadata": {},
   "source": [
    "# Load Datasets\n",
    "1. Load the datasets\n",
    "2. Verify no article bodies overlap"
   ]
  },
  {
   "cell_type": "code",
   "execution_count": 2,
   "id": "3abee2c1-767d-4d73-a7dc-23b40926fa20",
   "metadata": {
    "tags": []
   },
   "outputs": [],
   "source": [
    "train_stances = pd.read_csv(\"./dataset/train_stances.csv\")\n",
    "train_bodies = pd.read_csv(\"./dataset/train_bodies.csv\")\n",
    "\n",
    "test_stances = pd.read_csv(\"./dataset/competition_test_stances.csv\")\n",
    "test_bodies = pd.read_csv(\"./dataset/competition_test_bodies.csv\")"
   ]
  },
  {
   "cell_type": "code",
   "execution_count": 3,
   "id": "36dd002c-637a-417b-bb11-4399b82a64ee",
   "metadata": {
    "tags": []
   },
   "outputs": [
    {
     "data": {
      "text/plain": [
       "ISIL Beheads American Photojournalist in Iraq                                                      127\n",
       "WHO says reports of suspected Ebola cases in Iraq are untrue                                       124\n",
       "James Foley remembered as 'brave and tireless' journalist                                          121\n",
       "Islamic Militants Post Video Claiming to Show Beheading of U.S. Journalist                         118\n",
       "US officials: Video shows American's execution                                                     112\n",
       "                                                                                                  ... \n",
       "Apple hopes to sell over 50 million watches in 2015                                                  2\n",
       "Mom Calls 911 On Masturbating Teenage Son; Boy Arrested, Charged With New ‘Self-Rape’ State Law      2\n",
       "Federal Judge: Enough With the Stupid Names                                                          2\n",
       "Sushi lover's entire body left riddled with WORMS after eating contaminated sashimi                  2\n",
       "Apple Watch Takes Two Hours to Charge, Only Delivers Notifications While on the Wrist                2\n",
       "Name: Headline, Length: 1648, dtype: int64"
      ]
     },
     "execution_count": 3,
     "metadata": {},
     "output_type": "execute_result"
    }
   ],
   "source": [
    "train_stances[\"Headline\"].value_counts()"
   ]
  },
  {
   "cell_type": "code",
   "execution_count": 4,
   "id": "893acd9c-30d6-4750-9cf0-c4d2e1ae07af",
   "metadata": {
    "tags": []
   },
   "outputs": [
    {
     "data": {
      "text/plain": [
       "Source: Joan Rivers' doc did biopsy, selfie                                                                                                                  160\n",
       "Joan Rivers Personal Doctor Allegedly Took A Selfie Before Her Biopsy And Cardiac Arrest                                                                     138\n",
       "‘Three-boobed’ woman: They’re not fake                                                                                                                        92\n",
       "Adopting Potential Werewolves Is Routine Business for Argentine Presidents                                                                                    92\n",
       "Justin Bieber Basically Saves A Russian Man From A Bear                                                                                                       88\n",
       "                                                                                                                                                            ... \n",
       "Madonna pledges oral sex for Clinton voters                                                                                                                    3\n",
       "Trump assures French President Macron 'you were my guy' – after saying before his election that rival Le Pen was 'strongest on what's going on in France'      3\n",
       "Apple Delaying Production on Larger-Screened 'iPad Pro' Until September                                                                                        3\n",
       "iOS 8.2 arriving Monday, here are full release notes                                                                                                           3\n",
       "SNOWDEN: ‘Elf On A Shelf’ Actually Hugely Successful NSA Project  Read more: http://www.duffelblog.com/2014/12/elf-on-a-shelf-snowden/#ixzz3MAOziZJf           2\n",
       "Name: Headline, Length: 894, dtype: int64"
      ]
     },
     "execution_count": 4,
     "metadata": {},
     "output_type": "execute_result"
    }
   ],
   "source": [
    "test_stances[\"Headline\"].value_counts()"
   ]
  },
  {
   "cell_type": "code",
   "execution_count": 5,
   "id": "9c663327-2f87-410c-b1f7-f3e75c46425a",
   "metadata": {},
   "outputs": [
    {
     "data": {
      "text/html": [
       "<div>\n",
       "<style scoped>\n",
       "    .dataframe tbody tr th:only-of-type {\n",
       "        vertical-align: middle;\n",
       "    }\n",
       "\n",
       "    .dataframe tbody tr th {\n",
       "        vertical-align: top;\n",
       "    }\n",
       "\n",
       "    .dataframe thead th {\n",
       "        text-align: right;\n",
       "    }\n",
       "</style>\n",
       "<table border=\"1\" class=\"dataframe\">\n",
       "  <thead>\n",
       "    <tr style=\"text-align: right;\">\n",
       "      <th></th>\n",
       "      <th>Headline</th>\n",
       "      <th>Body ID</th>\n",
       "      <th>Stance</th>\n",
       "    </tr>\n",
       "  </thead>\n",
       "  <tbody>\n",
       "    <tr>\n",
       "      <th>173</th>\n",
       "      <td>Cheese addiction breaks Kim Jong-un's ankles</td>\n",
       "      <td>2210</td>\n",
       "      <td>unrelated</td>\n",
       "    </tr>\n",
       "    <tr>\n",
       "      <th>1415</th>\n",
       "      <td>WSJ: Apple cut watch health features due to er...</td>\n",
       "      <td>1917</td>\n",
       "      <td>discuss</td>\n",
       "    </tr>\n",
       "    <tr>\n",
       "      <th>1418</th>\n",
       "      <td>Cheese blamed for North Korean leader Kim Jong...</td>\n",
       "      <td>1689</td>\n",
       "      <td>unrelated</td>\n",
       "    </tr>\n",
       "    <tr>\n",
       "      <th>1479</th>\n",
       "      <td>Cheese blamed for North Korean leader Kim Jong...</td>\n",
       "      <td>186</td>\n",
       "      <td>unrelated</td>\n",
       "    </tr>\n",
       "    <tr>\n",
       "      <th>1503</th>\n",
       "      <td>Cheese addiction breaks Kim Jong-un's ankles</td>\n",
       "      <td>2329</td>\n",
       "      <td>unrelated</td>\n",
       "    </tr>\n",
       "    <tr>\n",
       "      <th>...</th>\n",
       "      <td>...</td>\n",
       "      <td>...</td>\n",
       "      <td>...</td>\n",
       "    </tr>\n",
       "    <tr>\n",
       "      <th>48270</th>\n",
       "      <td>Apple was forced to nix key health features fr...</td>\n",
       "      <td>407</td>\n",
       "      <td>discuss</td>\n",
       "    </tr>\n",
       "    <tr>\n",
       "      <th>48852</th>\n",
       "      <td>Cheese blamed for North Korean leader Kim Jong...</td>\n",
       "      <td>2042</td>\n",
       "      <td>unrelated</td>\n",
       "    </tr>\n",
       "    <tr>\n",
       "      <th>49279</th>\n",
       "      <td>Cheese addiction breaks Kim Jong-un's ankles</td>\n",
       "      <td>1854</td>\n",
       "      <td>discuss</td>\n",
       "    </tr>\n",
       "    <tr>\n",
       "      <th>49349</th>\n",
       "      <td>Cheese blamed for North Korean leader Kim Jong...</td>\n",
       "      <td>2344</td>\n",
       "      <td>unrelated</td>\n",
       "    </tr>\n",
       "    <tr>\n",
       "      <th>49683</th>\n",
       "      <td>Cheese blamed for North Korean leader Kim Jong...</td>\n",
       "      <td>2327</td>\n",
       "      <td>unrelated</td>\n",
       "    </tr>\n",
       "  </tbody>\n",
       "</table>\n",
       "<p>156 rows × 3 columns</p>\n",
       "</div>"
      ],
      "text/plain": [
       "                                                Headline  Body ID     Stance\n",
       "173         Cheese addiction breaks Kim Jong-un's ankles     2210  unrelated\n",
       "1415   WSJ: Apple cut watch health features due to er...     1917    discuss\n",
       "1418   Cheese blamed for North Korean leader Kim Jong...     1689  unrelated\n",
       "1479   Cheese blamed for North Korean leader Kim Jong...      186  unrelated\n",
       "1503        Cheese addiction breaks Kim Jong-un's ankles     2329  unrelated\n",
       "...                                                  ...      ...        ...\n",
       "48270  Apple was forced to nix key health features fr...      407    discuss\n",
       "48852  Cheese blamed for North Korean leader Kim Jong...     2042  unrelated\n",
       "49279       Cheese addiction breaks Kim Jong-un's ankles     1854    discuss\n",
       "49349  Cheese blamed for North Korean leader Kim Jong...     2344  unrelated\n",
       "49683  Cheese blamed for North Korean leader Kim Jong...     2327  unrelated\n",
       "\n",
       "[156 rows x 3 columns]"
      ]
     },
     "execution_count": 5,
     "metadata": {},
     "output_type": "execute_result"
    }
   ],
   "source": [
    "train_stances.loc[train_stances[\"Headline\"].isin(test_stances[\"Headline\"])]"
   ]
  },
  {
   "cell_type": "code",
   "execution_count": 6,
   "id": "1c74a7d3-6556-4ee9-a420-afc665bea41c",
   "metadata": {
    "tags": []
   },
   "outputs": [
    {
     "data": {
      "text/html": [
       "<div>\n",
       "<style scoped>\n",
       "    .dataframe tbody tr th:only-of-type {\n",
       "        vertical-align: middle;\n",
       "    }\n",
       "\n",
       "    .dataframe tbody tr th {\n",
       "        vertical-align: top;\n",
       "    }\n",
       "\n",
       "    .dataframe thead th {\n",
       "        text-align: right;\n",
       "    }\n",
       "</style>\n",
       "<table border=\"1\" class=\"dataframe\">\n",
       "  <thead>\n",
       "    <tr style=\"text-align: right;\">\n",
       "      <th></th>\n",
       "      <th>Headline</th>\n",
       "      <th>Body ID</th>\n",
       "      <th>Stance</th>\n",
       "    </tr>\n",
       "  </thead>\n",
       "  <tbody>\n",
       "  </tbody>\n",
       "</table>\n",
       "</div>"
      ],
      "text/plain": [
       "Empty DataFrame\n",
       "Columns: [Headline, Body ID, Stance]\n",
       "Index: []"
      ]
     },
     "execution_count": 6,
     "metadata": {},
     "output_type": "execute_result"
    }
   ],
   "source": [
    "train_stances.loc[train_stances[\"Body ID\"].isin(test_stances[\"Body ID\"])]"
   ]
  },
  {
   "cell_type": "markdown",
   "id": "2940c0a4-12bc-4c31-8212-9062966fcc53",
   "metadata": {},
   "source": [
    "So there is overlap of the headlines in both the training and the test data but there is no overlap with the bodies of the articles so we should split the training set into training and validation such that the bodies of the articles are disjoint."
   ]
  },
  {
   "cell_type": "code",
   "execution_count": 7,
   "id": "7c157cd5-c85c-4cb3-82e9-13816de152df",
   "metadata": {
    "tags": []
   },
   "outputs": [],
   "source": [
    "test_df = test_stances.merge(test_bodies, on=\"Body ID\")\n",
    "test_df[\"Related\"] = (test_df[\"Stance\"] != \"unrelated\").astype(int)"
   ]
  },
  {
   "cell_type": "code",
   "execution_count": 8,
   "id": "a709b6c8-ba8f-4bdf-b61e-08e2728f64eb",
   "metadata": {
    "tags": []
   },
   "outputs": [
    {
     "data": {
      "text/html": [
       "<div>\n",
       "<style scoped>\n",
       "    .dataframe tbody tr th:only-of-type {\n",
       "        vertical-align: middle;\n",
       "    }\n",
       "\n",
       "    .dataframe tbody tr th {\n",
       "        vertical-align: top;\n",
       "    }\n",
       "\n",
       "    .dataframe thead th {\n",
       "        text-align: right;\n",
       "    }\n",
       "</style>\n",
       "<table border=\"1\" class=\"dataframe\">\n",
       "  <thead>\n",
       "    <tr style=\"text-align: right;\">\n",
       "      <th></th>\n",
       "      <th>Headline</th>\n",
       "      <th>Body ID</th>\n",
       "      <th>Stance</th>\n",
       "      <th>articleBody</th>\n",
       "      <th>Related</th>\n",
       "    </tr>\n",
       "  </thead>\n",
       "  <tbody>\n",
       "    <tr>\n",
       "      <th>0</th>\n",
       "      <td>Ferguson riots: Pregnant woman loses eye after...</td>\n",
       "      <td>2008</td>\n",
       "      <td>unrelated</td>\n",
       "      <td>A RESPECTED senior French police officer inves...</td>\n",
       "      <td>0</td>\n",
       "    </tr>\n",
       "    <tr>\n",
       "      <th>1</th>\n",
       "      <td>Apple Stores to install safes to secure gold A...</td>\n",
       "      <td>2008</td>\n",
       "      <td>unrelated</td>\n",
       "      <td>A RESPECTED senior French police officer inves...</td>\n",
       "      <td>0</td>\n",
       "    </tr>\n",
       "    <tr>\n",
       "      <th>2</th>\n",
       "      <td>Pregnant woman loses eye after police shoot be...</td>\n",
       "      <td>2008</td>\n",
       "      <td>unrelated</td>\n",
       "      <td>A RESPECTED senior French police officer inves...</td>\n",
       "      <td>0</td>\n",
       "    </tr>\n",
       "    <tr>\n",
       "      <th>3</th>\n",
       "      <td>We just found out the #Ferguson Protester who ...</td>\n",
       "      <td>2008</td>\n",
       "      <td>unrelated</td>\n",
       "      <td>A RESPECTED senior French police officer inves...</td>\n",
       "      <td>0</td>\n",
       "    </tr>\n",
       "    <tr>\n",
       "      <th>4</th>\n",
       "      <td>Police Chief In Charge of Paris Attacks Commit...</td>\n",
       "      <td>2008</td>\n",
       "      <td>discuss</td>\n",
       "      <td>A RESPECTED senior French police officer inves...</td>\n",
       "      <td>1</td>\n",
       "    </tr>\n",
       "    <tr>\n",
       "      <th>...</th>\n",
       "      <td>...</td>\n",
       "      <td>...</td>\n",
       "      <td>...</td>\n",
       "      <td>...</td>\n",
       "      <td>...</td>\n",
       "    </tr>\n",
       "    <tr>\n",
       "      <th>25408</th>\n",
       "      <td>A Sign That Obamacare Exchanges Are Failing</td>\n",
       "      <td>2586</td>\n",
       "      <td>disagree</td>\n",
       "      <td>Remember how much Republicans wanted to repeal...</td>\n",
       "      <td>1</td>\n",
       "    </tr>\n",
       "    <tr>\n",
       "      <th>25409</th>\n",
       "      <td>Republicans call Obamacare a 'failure.' These ...</td>\n",
       "      <td>2586</td>\n",
       "      <td>agree</td>\n",
       "      <td>Remember how much Republicans wanted to repeal...</td>\n",
       "      <td>1</td>\n",
       "    </tr>\n",
       "    <tr>\n",
       "      <th>25410</th>\n",
       "      <td>CBO’s Alternate Facts Show Obamacare is Unsust...</td>\n",
       "      <td>2586</td>\n",
       "      <td>disagree</td>\n",
       "      <td>Remember how much Republicans wanted to repeal...</td>\n",
       "      <td>1</td>\n",
       "    </tr>\n",
       "    <tr>\n",
       "      <th>25411</th>\n",
       "      <td>Why Obamacare failed</td>\n",
       "      <td>2586</td>\n",
       "      <td>disagree</td>\n",
       "      <td>Remember how much Republicans wanted to repeal...</td>\n",
       "      <td>1</td>\n",
       "    </tr>\n",
       "    <tr>\n",
       "      <th>25412</th>\n",
       "      <td>The success of the Affordable Care Act is a hu...</td>\n",
       "      <td>2586</td>\n",
       "      <td>agree</td>\n",
       "      <td>Remember how much Republicans wanted to repeal...</td>\n",
       "      <td>1</td>\n",
       "    </tr>\n",
       "  </tbody>\n",
       "</table>\n",
       "<p>25413 rows × 5 columns</p>\n",
       "</div>"
      ],
      "text/plain": [
       "                                                Headline  Body ID     Stance  \\\n",
       "0      Ferguson riots: Pregnant woman loses eye after...     2008  unrelated   \n",
       "1      Apple Stores to install safes to secure gold A...     2008  unrelated   \n",
       "2      Pregnant woman loses eye after police shoot be...     2008  unrelated   \n",
       "3      We just found out the #Ferguson Protester who ...     2008  unrelated   \n",
       "4      Police Chief In Charge of Paris Attacks Commit...     2008    discuss   \n",
       "...                                                  ...      ...        ...   \n",
       "25408        A Sign That Obamacare Exchanges Are Failing     2586   disagree   \n",
       "25409  Republicans call Obamacare a 'failure.' These ...     2586      agree   \n",
       "25410  CBO’s Alternate Facts Show Obamacare is Unsust...     2586   disagree   \n",
       "25411                               Why Obamacare failed     2586   disagree   \n",
       "25412  The success of the Affordable Care Act is a hu...     2586      agree   \n",
       "\n",
       "                                             articleBody  Related  \n",
       "0      A RESPECTED senior French police officer inves...        0  \n",
       "1      A RESPECTED senior French police officer inves...        0  \n",
       "2      A RESPECTED senior French police officer inves...        0  \n",
       "3      A RESPECTED senior French police officer inves...        0  \n",
       "4      A RESPECTED senior French police officer inves...        1  \n",
       "...                                                  ...      ...  \n",
       "25408  Remember how much Republicans wanted to repeal...        1  \n",
       "25409  Remember how much Republicans wanted to repeal...        1  \n",
       "25410  Remember how much Republicans wanted to repeal...        1  \n",
       "25411  Remember how much Republicans wanted to repeal...        1  \n",
       "25412  Remember how much Republicans wanted to repeal...        1  \n",
       "\n",
       "[25413 rows x 5 columns]"
      ]
     },
     "execution_count": 8,
     "metadata": {},
     "output_type": "execute_result"
    }
   ],
   "source": [
    "test_df"
   ]
  },
  {
   "cell_type": "code",
   "execution_count": 9,
   "id": "e2f3eadb-e5b5-421f-a374-07fd8eafccc4",
   "metadata": {
    "tags": []
   },
   "outputs": [],
   "source": [
    "train_and_val_df = train_stances.merge(train_bodies, on=\"Body ID\")\n",
    "train_and_val_df[\"Related\"] = (train_and_val_df[\"Stance\"] != \"unrelated\").astype(int)"
   ]
  },
  {
   "cell_type": "markdown",
   "id": "39776b76-e628-4ebc-a62f-58c820e86b62",
   "metadata": {},
   "source": [
    "# Exploratory Data Analysis\n",
    "TODO: Data analysis"
   ]
  },
  {
   "cell_type": "code",
   "execution_count": 10,
   "id": "aaf2b2f4-1e9b-47f0-9084-4430a64251ce",
   "metadata": {
    "tags": []
   },
   "outputs": [
    {
     "data": {
      "text/html": [
       "<div>\n",
       "<style scoped>\n",
       "    .dataframe tbody tr th:only-of-type {\n",
       "        vertical-align: middle;\n",
       "    }\n",
       "\n",
       "    .dataframe tbody tr th {\n",
       "        vertical-align: top;\n",
       "    }\n",
       "\n",
       "    .dataframe thead th {\n",
       "        text-align: right;\n",
       "    }\n",
       "</style>\n",
       "<table border=\"1\" class=\"dataframe\">\n",
       "  <thead>\n",
       "    <tr style=\"text-align: right;\">\n",
       "      <th></th>\n",
       "      <th>Headline</th>\n",
       "      <th>Body ID</th>\n",
       "      <th>Stance</th>\n",
       "      <th>articleBody</th>\n",
       "      <th>Related</th>\n",
       "    </tr>\n",
       "  </thead>\n",
       "  <tbody>\n",
       "    <tr>\n",
       "      <th>0</th>\n",
       "      <td>Police find mass graves with at least '15 bodi...</td>\n",
       "      <td>712</td>\n",
       "      <td>unrelated</td>\n",
       "      <td>Danny Boyle is directing the untitled film\\r\\n...</td>\n",
       "      <td>0</td>\n",
       "    </tr>\n",
       "    <tr>\n",
       "      <th>1</th>\n",
       "      <td>Seth Rogen to Play Apple’s Steve Wozniak</td>\n",
       "      <td>712</td>\n",
       "      <td>discuss</td>\n",
       "      <td>Danny Boyle is directing the untitled film\\r\\n...</td>\n",
       "      <td>1</td>\n",
       "    </tr>\n",
       "    <tr>\n",
       "      <th>2</th>\n",
       "      <td>Mexico police find mass grave near site 43 stu...</td>\n",
       "      <td>712</td>\n",
       "      <td>unrelated</td>\n",
       "      <td>Danny Boyle is directing the untitled film\\r\\n...</td>\n",
       "      <td>0</td>\n",
       "    </tr>\n",
       "    <tr>\n",
       "      <th>3</th>\n",
       "      <td>Mexico Says Missing Students Not Found In Firs...</td>\n",
       "      <td>712</td>\n",
       "      <td>unrelated</td>\n",
       "      <td>Danny Boyle is directing the untitled film\\r\\n...</td>\n",
       "      <td>0</td>\n",
       "    </tr>\n",
       "    <tr>\n",
       "      <th>4</th>\n",
       "      <td>New iOS 8 bug can delete all of your iCloud do...</td>\n",
       "      <td>712</td>\n",
       "      <td>unrelated</td>\n",
       "      <td>Danny Boyle is directing the untitled film\\r\\n...</td>\n",
       "      <td>0</td>\n",
       "    </tr>\n",
       "    <tr>\n",
       "      <th>...</th>\n",
       "      <td>...</td>\n",
       "      <td>...</td>\n",
       "      <td>...</td>\n",
       "      <td>...</td>\n",
       "      <td>...</td>\n",
       "    </tr>\n",
       "    <tr>\n",
       "      <th>49967</th>\n",
       "      <td>Amazon Is Opening a Brick-and-Mortar Store in ...</td>\n",
       "      <td>464</td>\n",
       "      <td>agree</td>\n",
       "      <td>Amazon, the cyber store that sells everything,...</td>\n",
       "      <td>1</td>\n",
       "    </tr>\n",
       "    <tr>\n",
       "      <th>49968</th>\n",
       "      <td>Elon University has not banned the term ‘fresh...</td>\n",
       "      <td>362</td>\n",
       "      <td>agree</td>\n",
       "      <td>ELON, N.C. – A recent rumor claims that Elon U...</td>\n",
       "      <td>1</td>\n",
       "    </tr>\n",
       "    <tr>\n",
       "      <th>49969</th>\n",
       "      <td>Fake BBC News website set up to carry Charlie ...</td>\n",
       "      <td>915</td>\n",
       "      <td>agree</td>\n",
       "      <td>A realistic-looking fake BBC News website has ...</td>\n",
       "      <td>1</td>\n",
       "    </tr>\n",
       "    <tr>\n",
       "      <th>49970</th>\n",
       "      <td>Apple was forced to nix key health features fr...</td>\n",
       "      <td>407</td>\n",
       "      <td>discuss</td>\n",
       "      <td>The health-focused smartwatch that Apple initi...</td>\n",
       "      <td>1</td>\n",
       "    </tr>\n",
       "    <tr>\n",
       "      <th>49971</th>\n",
       "      <td>If you want an Apple Watch, you’ll probably be...</td>\n",
       "      <td>1066</td>\n",
       "      <td>discuss</td>\n",
       "      <td>We still don’t know the exact date the Apple W...</td>\n",
       "      <td>1</td>\n",
       "    </tr>\n",
       "  </tbody>\n",
       "</table>\n",
       "<p>49972 rows × 5 columns</p>\n",
       "</div>"
      ],
      "text/plain": [
       "                                                Headline  Body ID     Stance  \\\n",
       "0      Police find mass graves with at least '15 bodi...      712  unrelated   \n",
       "1               Seth Rogen to Play Apple’s Steve Wozniak      712    discuss   \n",
       "2      Mexico police find mass grave near site 43 stu...      712  unrelated   \n",
       "3      Mexico Says Missing Students Not Found In Firs...      712  unrelated   \n",
       "4      New iOS 8 bug can delete all of your iCloud do...      712  unrelated   \n",
       "...                                                  ...      ...        ...   \n",
       "49967  Amazon Is Opening a Brick-and-Mortar Store in ...      464      agree   \n",
       "49968  Elon University has not banned the term ‘fresh...      362      agree   \n",
       "49969  Fake BBC News website set up to carry Charlie ...      915      agree   \n",
       "49970  Apple was forced to nix key health features fr...      407    discuss   \n",
       "49971  If you want an Apple Watch, you’ll probably be...     1066    discuss   \n",
       "\n",
       "                                             articleBody  Related  \n",
       "0      Danny Boyle is directing the untitled film\\r\\n...        0  \n",
       "1      Danny Boyle is directing the untitled film\\r\\n...        1  \n",
       "2      Danny Boyle is directing the untitled film\\r\\n...        0  \n",
       "3      Danny Boyle is directing the untitled film\\r\\n...        0  \n",
       "4      Danny Boyle is directing the untitled film\\r\\n...        0  \n",
       "...                                                  ...      ...  \n",
       "49967  Amazon, the cyber store that sells everything,...        1  \n",
       "49968  ELON, N.C. – A recent rumor claims that Elon U...        1  \n",
       "49969  A realistic-looking fake BBC News website has ...        1  \n",
       "49970  The health-focused smartwatch that Apple initi...        1  \n",
       "49971  We still don’t know the exact date the Apple W...        1  \n",
       "\n",
       "[49972 rows x 5 columns]"
      ]
     },
     "execution_count": 10,
     "metadata": {},
     "output_type": "execute_result"
    }
   ],
   "source": [
    "train_and_val_df"
   ]
  },
  {
   "cell_type": "markdown",
   "id": "53f91412-16fa-44db-b746-23f6893beb05",
   "metadata": {},
   "source": [
    "# Data Splitting\n",
    "Now we need to split the training data into a training and validation set. We leave the test set untouched in this respect."
   ]
  },
  {
   "cell_type": "code",
   "execution_count": 11,
   "id": "2b47934c-1410-45d4-8fb7-2cc52a804cbb",
   "metadata": {
    "tags": []
   },
   "outputs": [],
   "source": [
    "val_split_ratio = 0.2"
   ]
  },
  {
   "cell_type": "code",
   "execution_count": 12,
   "id": "75b918ac-1bd1-43a9-8c7a-2d0b773b6379",
   "metadata": {
    "tags": []
   },
   "outputs": [],
   "source": [
    "def split_train_val(df, ratio):\n",
    "    val_count = int(ratio * df[\"Body ID\"].nunique())\n",
    "    all_ids = list(df[\"Body ID\"].unique())\n",
    "    val_body_ids = random.sample(all_ids, val_count)\n",
    "    train_body_ids = set(all_ids) - set(val_body_ids)\n",
    "    \n",
    "    assert len(set(val_body_ids) & train_body_ids) == 0\n",
    "    \n",
    "    val_df = df.loc[df[\"Body ID\"].isin(val_body_ids)]\n",
    "    train_df = df.loc[df[\"Body ID\"].isin(train_body_ids)]\n",
    "    \n",
    "    return val_df, train_df"
   ]
  },
  {
   "cell_type": "code",
   "execution_count": 13,
   "id": "86ef902a-262b-4ae5-9156-1df31b9dfed2",
   "metadata": {
    "tags": []
   },
   "outputs": [],
   "source": [
    "val_df, train_df = split_train_val(train_and_val_df, val_split_ratio)"
   ]
  },
  {
   "cell_type": "code",
   "execution_count": 14,
   "id": "0e19675d-edf6-4e71-b771-6d58825508c7",
   "metadata": {
    "tags": []
   },
   "outputs": [
    {
     "data": {
      "text/plain": [
       "336"
      ]
     },
     "execution_count": 14,
     "metadata": {},
     "output_type": "execute_result"
    }
   ],
   "source": [
    "val_df[\"Body ID\"].nunique()"
   ]
  },
  {
   "cell_type": "code",
   "execution_count": 15,
   "id": "12d1726f-bd9a-4a08-b19b-503a2a1eee80",
   "metadata": {
    "tags": []
   },
   "outputs": [
    {
     "data": {
      "text/plain": [
       "904"
      ]
     },
     "execution_count": 15,
     "metadata": {},
     "output_type": "execute_result"
    }
   ],
   "source": [
    "test_df[\"Body ID\"].nunique()"
   ]
  },
  {
   "cell_type": "code",
   "execution_count": 16,
   "id": "5205b36c-2694-4469-aab3-cfd936b60d86",
   "metadata": {
    "tags": []
   },
   "outputs": [
    {
     "data": {
      "text/plain": [
       "1347"
      ]
     },
     "execution_count": 16,
     "metadata": {},
     "output_type": "execute_result"
    }
   ],
   "source": [
    "train_df[\"Body ID\"].nunique()"
   ]
  },
  {
   "cell_type": "code",
   "execution_count": 17,
   "id": "8b48d34d-82ff-48ed-b741-6a6508f0454e",
   "metadata": {
    "tags": []
   },
   "outputs": [],
   "source": [
    "def prepare_df(df):\n",
    "    df = df.drop(\"Body ID\", axis=1)\n",
    "    df = df.reset_index()\n",
    "    df = df.drop(\"index\", axis=1)\n",
    "    df[\"Related\"] = df[\"Stance\"] != \"unrelated\"\n",
    "    return df"
   ]
  },
  {
   "cell_type": "code",
   "execution_count": 18,
   "id": "26712e05-7471-4c55-9584-13031fd3b01b",
   "metadata": {
    "tags": []
   },
   "outputs": [],
   "source": [
    "val_df = prepare_df(val_df)\n",
    "train_df = prepare_df(train_df)\n",
    "test_df = prepare_df(test_df)"
   ]
  },
  {
   "cell_type": "code",
   "execution_count": 19,
   "id": "ee1c5501-b66b-4a33-bb32-7f1a05122d35",
   "metadata": {
    "tags": []
   },
   "outputs": [
    {
     "data": {
      "text/plain": [
       "unrelated    0.743208\n",
       "discuss      0.163193\n",
       "agree        0.077224\n",
       "disagree     0.016375\n",
       "Name: Stance, dtype: float64"
      ]
     },
     "execution_count": 19,
     "metadata": {},
     "output_type": "execute_result"
    }
   ],
   "source": [
    "val_df[\"Stance\"].value_counts(normalize=True)#.plot(kind=\"bar\")"
   ]
  },
  {
   "cell_type": "code",
   "execution_count": 20,
   "id": "39629975-8ef2-4a78-a111-8fcd0872d100",
   "metadata": {
    "tags": []
   },
   "outputs": [
    {
     "data": {
      "text/plain": [
       "unrelated    0.728049\n",
       "discuss      0.182414\n",
       "agree        0.072609\n",
       "disagree     0.016928\n",
       "Name: Stance, dtype: float64"
      ]
     },
     "execution_count": 20,
     "metadata": {},
     "output_type": "execute_result"
    }
   ],
   "source": [
    "train_df[\"Stance\"].value_counts(normalize=True)#.plot(kind=\"bar\")"
   ]
  },
  {
   "cell_type": "code",
   "execution_count": 21,
   "id": "d465624d-0694-4783-90b7-4f19b6d21aa5",
   "metadata": {
    "tags": []
   },
   "outputs": [
    {
     "data": {
      "text/plain": [
       "unrelated    0.722032\n",
       "discuss      0.175658\n",
       "agree        0.074883\n",
       "disagree     0.027427\n",
       "Name: Stance, dtype: float64"
      ]
     },
     "execution_count": 21,
     "metadata": {},
     "output_type": "execute_result"
    }
   ],
   "source": [
    "test_df[\"Stance\"].value_counts(normalize=True)#.plot(kind=\"bar\")"
   ]
  },
  {
   "cell_type": "markdown",
   "id": "bb0a7a9a-3345-4336-9a60-0413b595945b",
   "metadata": {},
   "source": [
    "# Clean the Data\n",
    "Now we have the data, need to clean the data and extract the TF-IDF features. Basic things to consider doing:\n",
    "* Remove punctuation\n",
    "* Remove URLs\n",
    "* Remove HTML\n",
    "* Remove numbers\n",
    "* Remove emojis\n",
    "* Convert to lowercase\n",
    "\n",
    "And we should also:\n",
    "* Tokenise\n",
    "* Remove stopwords\n",
    "* Lemmatisation or Stemming"
   ]
  },
  {
   "cell_type": "code",
   "execution_count": 22,
   "id": "40939c5f-0474-45ee-a941-a30cb46d74e8",
   "metadata": {
    "tags": []
   },
   "outputs": [],
   "source": [
    "# Most of this from the first practical\n",
    "additional_specials = [\"—\", \"”\", \"“\", \"’\", \"‘\"]\n",
    "\n",
    "def remove_excess_whitespace(text):\n",
    "    text = text.replace(\"\\n\", \" \")\n",
    "    text = text.replace(\"\\t\", \" \")\n",
    "    text = text.replace(\"\\r\", \" \")\n",
    "    text = text.strip()\n",
    "    return text\n",
    "\n",
    "def remove_punctuation(text):\n",
    "    punc = str.maketrans('', '', string.punctuation)\n",
    "    text = text.translate(punc)\n",
    "    \n",
    "    for special in additional_specials:\n",
    "        text = text.replace(special, \"\")\n",
    "    \n",
    "    return text\n",
    "\n",
    "def remove_urls(text):\n",
    "    url = re.compile(r'https?://\\S+|www\\.\\S+')\n",
    "    return url.sub('', text)\n",
    "\n",
    "def remove_html(text):\n",
    "    html = re.compile(r'<.*?>')\n",
    "    return html.sub('', text)\n",
    "\n",
    "def remove_numbers(text):\n",
    "    numbers = re.compile(r'\\d+')\n",
    "    return numbers.sub('', text)\n",
    "\n",
    "def remove_emojis(text):\n",
    "    emoji_pattern = re.compile(\"[\"\n",
    "                           u\"\\U0001F600-\\U0001F64F\"  # emoticons\n",
    "                           u\"\\U0001F300-\\U0001F5FF\"  # symbols & pictographs\n",
    "                           u\"\\U0001F680-\\U0001F6FF\"  # transport & map symbols\n",
    "                           u\"\\U0001F1E0-\\U0001F1FF\"  # flags (iOS)\n",
    "                           u\"\\U00002702-\\U000027B0\"\n",
    "                           u\"\\U000024C2-\\U0001F251\"\n",
    "                           \"]+\", flags=re.UNICODE)\n",
    "    \n",
    "    return emoji_pattern.sub(r'', text)\n",
    "\n",
    "def apply_cleaning(text, excess=True, punc=True, urls=True, html=True, numbers=True, emojis=True, lower=True):\n",
    "    if excess:\n",
    "        text = \" \".join(text.split())\n",
    "        \n",
    "    if punc:\n",
    "        text = remove_punctuation(text)\n",
    "    \n",
    "    if urls:\n",
    "        text = remove_urls(text)\n",
    "    \n",
    "    if html:\n",
    "        text = remove_html(text)\n",
    "    \n",
    "    if numbers:\n",
    "        text = remove_numbers(text)\n",
    "        \n",
    "    if emojis:\n",
    "        text = remove_emojis(text)\n",
    "        \n",
    "    if lower:\n",
    "        text = text.lower()\n",
    "    \n",
    "    return text"
   ]
  },
  {
   "cell_type": "code",
   "execution_count": 23,
   "id": "e6faa375-e271-428a-ba17-01b89b7c2120",
   "metadata": {
    "tags": []
   },
   "outputs": [],
   "source": [
    "config_remove_excess_whitespace = True\n",
    "config_remove_punctuation = False\n",
    "config_remove_urls = True\n",
    "config_remove_html = True\n",
    "config_remove_numbers = False\n",
    "config_remove_emojis = True\n",
    "config_convert_to_lowercase = False"
   ]
  },
  {
   "cell_type": "code",
   "execution_count": 24,
   "id": "0a2133b2-7cb9-4992-8553-4990c846c275",
   "metadata": {
    "tags": []
   },
   "outputs": [],
   "source": [
    "def process_text(text):\n",
    "    text = apply_cleaning(\n",
    "        text, \n",
    "        excess=config_remove_excess_whitespace, \n",
    "        punc=config_remove_punctuation, \n",
    "        urls=config_remove_urls, \n",
    "        html=config_remove_html, \n",
    "        numbers=config_remove_numbers, \n",
    "        emojis=config_remove_emojis, \n",
    "        lower=config_convert_to_lowercase\n",
    "    )\n",
    "    \n",
    "    return text"
   ]
  },
  {
   "cell_type": "code",
   "execution_count": 25,
   "id": "e5c5223f-c3bf-435d-84b9-4bf3d61691c6",
   "metadata": {
    "tags": []
   },
   "outputs": [
    {
     "name": "stdout",
     "output_type": "stream",
     "text": [
      "Unprocessed:\n",
      "(CNN) -- Boko Haram laughed off Nigeria's announcement of a ceasefire agreement, saying there is no such deal and schoolgirls abducted in spring have been converted to Islam and married off.\n",
      "\n",
      "Nigerian officials announced two weeks ago that they had struck a deal with the Islamist terror group.\n",
      "\n",
      "The deal, the government said, included the release of more than 200 girls whose kidnapping in April at a boarding school in the nation's north stunned the world.\n",
      "\n",
      "In a video released Saturday, the Islamist group's notorious leader fired off a series of denials.\n",
      "\n",
      "\"Don't you know the over 200 Chibok schoolgirls have converted to Islam?\" Abubakar Shekau said. \"They have now memorized two chapters of the Quran.\"\n",
      "\n",
      "Shekau slammed reports of their planned release.\n",
      "\n",
      "\"We married them off. They are in their marital homes,\" he said, chuckling.\n",
      "\n",
      "The group's leader also denied knowing the negotiator with whom the government claimed it worked out a deal, saying he does not represent Boko Haram.\n",
      "\n",
      "\"We will not spare him and will slaughter him if we get him,\" he said of the negotiator.\n",
      "\n",
      "It wasn't clear when the video was made.\n",
      "\n",
      "Mike Omeri, coordinator of Nigeria's National Information Centre, told CNN on Saturday that all these claims contradict those made in conversations in which the Nigerian government has been involved.\n",
      "\n",
      "Omeri said Nigeria's government will do everything possible to verify the claims made in the video.\n",
      "\n",
      "Nigerian officials met with Boko Haram in Chad twice during talks mediated by Chadian President Idriss Deby, according to the aide.\n",
      "\n",
      "The ceasefire deal announced October 17 followed a month of negotiations with representatives of the group, said Hassan Tukur, an aide to Nigerian President Goodluck Jonathan.\n",
      "\n",
      "After the deal was announced, the aide said final negotiations on the girls' release would be completed at a meeting a week later in Chad.\n",
      "\n",
      "That day passed without any signs of the girls.\n",
      "\n",
      "Boko Haram a growing challenge\n",
      "\n",
      "In the video, Shekau talked not of peace but of more violence -- promising more \"war, striking and killing with gun.\"\n",
      "\n",
      "This strategy appears to be playing out in parts of Nigeria, where Boko Haram fighters have continued deadly attacks on villages despite government claims of a ceasefire. More people have been abducted and scores killed in recent weeks, including one attack a day after the ceasefire that left eight dead.\n",
      "\n",
      "Days later, members of the Islamist terror group abducted at least 60 young women and girls from Christian villages in northeast Nigeria, residents said Thursday.\n",
      "\n",
      "Heavily armed fighters left 1,500 naira, or about $9, and kola nuts as a bride price for each of the women abducted, residents said.\n",
      "\n",
      "For its part, the Nigerian government isn't backing down.\n",
      "\n",
      "Rather, it is stepping up its military campaign against militants and criminals in some parts of the West African nation, Nigeria's defense ministry said on Saturday.\n",
      "\n",
      "The military claimed its airstrikes and ground operations have repelled attacks against civilians in Adamawa and Borno, two of the states in northeastern Nigeria that have been strongholds and frequent targets for Boko Haram.\n",
      "\n",
      "Officials are \"studying\" the latest video, even as the military continues to recognize the talks aimed at assuring the release of the kidnapped schoolgirls, the ministry said.\n",
      "\n",
      "Boko Haram, whose name translates to \"Western education is sin\" in the Hausa language, is trying to impose strict Sharia law across Nigeria, which is split between a majority Muslim north and a mostly Christian south. Like ISIS, it has ambitions for a caliphate, or religious state.\n",
      "\n",
      "The group's attacks have intensified in recent years in an apparent show of defiance for the nation's military onslaught. Its ambitions appear to have expanded to the destruction of the government.\n",
      "\n",
      "As part of its insurgency, it has bombed schools, churches and mosques, kidnapped women and children and assassinated politicians and religious leaders alike.\n",
      "\n",
      "CNN's Isha Sesay, Lillian Leposo, Christabelle Fombu, Greg Botelho and Nana Karikari-apau contributed to this report.\n",
      "\n",
      "Processed:\n",
      "(CNN) -- Boko Haram laughed off Nigeria's announcement of a ceasefire agreement, saying there is no such deal and schoolgirls abducted in spring have been converted to Islam and married off. Nigerian officials announced two weeks ago that they had struck a deal with the Islamist terror group. The deal, the government said, included the release of more than 200 girls whose kidnapping in April at a boarding school in the nation's north stunned the world. In a video released Saturday, the Islamist group's notorious leader fired off a series of denials. \"Don't you know the over 200 Chibok schoolgirls have converted to Islam?\" Abubakar Shekau said. \"They have now memorized two chapters of the Quran.\" Shekau slammed reports of their planned release. \"We married them off. They are in their marital homes,\" he said, chuckling. The group's leader also denied knowing the negotiator with whom the government claimed it worked out a deal, saying he does not represent Boko Haram. \"We will not spare him and will slaughter him if we get him,\" he said of the negotiator. It wasn't clear when the video was made. Mike Omeri, coordinator of Nigeria's National Information Centre, told CNN on Saturday that all these claims contradict those made in conversations in which the Nigerian government has been involved. Omeri said Nigeria's government will do everything possible to verify the claims made in the video. Nigerian officials met with Boko Haram in Chad twice during talks mediated by Chadian President Idriss Deby, according to the aide. The ceasefire deal announced October 17 followed a month of negotiations with representatives of the group, said Hassan Tukur, an aide to Nigerian President Goodluck Jonathan. After the deal was announced, the aide said final negotiations on the girls' release would be completed at a meeting a week later in Chad. That day passed without any signs of the girls. Boko Haram a growing challenge In the video, Shekau talked not of peace but of more violence -- promising more \"war, striking and killing with gun.\" This strategy appears to be playing out in parts of Nigeria, where Boko Haram fighters have continued deadly attacks on villages despite government claims of a ceasefire. More people have been abducted and scores killed in recent weeks, including one attack a day after the ceasefire that left eight dead. Days later, members of the Islamist terror group abducted at least 60 young women and girls from Christian villages in northeast Nigeria, residents said Thursday. Heavily armed fighters left 1,500 naira, or about $9, and kola nuts as a bride price for each of the women abducted, residents said. For its part, the Nigerian government isn't backing down. Rather, it is stepping up its military campaign against militants and criminals in some parts of the West African nation, Nigeria's defense ministry said on Saturday. The military claimed its airstrikes and ground operations have repelled attacks against civilians in Adamawa and Borno, two of the states in northeastern Nigeria that have been strongholds and frequent targets for Boko Haram. Officials are \"studying\" the latest video, even as the military continues to recognize the talks aimed at assuring the release of the kidnapped schoolgirls, the ministry said. Boko Haram, whose name translates to \"Western education is sin\" in the Hausa language, is trying to impose strict Sharia law across Nigeria, which is split between a majority Muslim north and a mostly Christian south. Like ISIS, it has ambitions for a caliphate, or religious state. The group's attacks have intensified in recent years in an apparent show of defiance for the nation's military onslaught. Its ambitions appear to have expanded to the destruction of the government. As part of its insurgency, it has bombed schools, churches and mosques, kidnapped women and children and assassinated politicians and religious leaders alike. CNN's Isha Sesay, Lillian Leposo, Christabelle Fombu, Greg Botelho and Nana Karikari-apau contributed to this report.\n"
     ]
    }
   ],
   "source": [
    "test_text = train_df.iloc[812][\"articleBody\"]\n",
    "print(\"Unprocessed:\")\n",
    "print(test_text)\n",
    "print()\n",
    "test_processed = process_text(test_text)\n",
    "print(\"Processed:\")\n",
    "print(test_processed)"
   ]
  },
  {
   "cell_type": "code",
   "execution_count": 26,
   "id": "2f9aa027-535f-49c1-b63b-195c1bec0965",
   "metadata": {
    "tags": []
   },
   "outputs": [
    {
     "data": {
      "text/html": [
       "<div>\n",
       "<style scoped>\n",
       "    .dataframe tbody tr th:only-of-type {\n",
       "        vertical-align: middle;\n",
       "    }\n",
       "\n",
       "    .dataframe tbody tr th {\n",
       "        vertical-align: top;\n",
       "    }\n",
       "\n",
       "    .dataframe thead th {\n",
       "        text-align: right;\n",
       "    }\n",
       "</style>\n",
       "<table border=\"1\" class=\"dataframe\">\n",
       "  <thead>\n",
       "    <tr style=\"text-align: right;\">\n",
       "      <th></th>\n",
       "      <th>Headline</th>\n",
       "      <th>Stance</th>\n",
       "      <th>articleBody</th>\n",
       "      <th>Related</th>\n",
       "    </tr>\n",
       "  </thead>\n",
       "  <tbody>\n",
       "    <tr>\n",
       "      <th>0</th>\n",
       "      <td>HBO and Apple in Talks for $15/Month Apple TV ...</td>\n",
       "      <td>unrelated</td>\n",
       "      <td>(Reuters) - A Canadian soldier was shot at the...</td>\n",
       "      <td>False</td>\n",
       "    </tr>\n",
       "    <tr>\n",
       "      <th>1</th>\n",
       "      <td>ISLAMIC STATE BEHEADS MISSING AMERICAN JOURNAL...</td>\n",
       "      <td>unrelated</td>\n",
       "      <td>(Reuters) - A Canadian soldier was shot at the...</td>\n",
       "      <td>False</td>\n",
       "    </tr>\n",
       "    <tr>\n",
       "      <th>2</th>\n",
       "      <td>Elderly Woman Arrested for Kidnapping Neighbor...</td>\n",
       "      <td>unrelated</td>\n",
       "      <td>(Reuters) - A Canadian soldier was shot at the...</td>\n",
       "      <td>False</td>\n",
       "    </tr>\n",
       "    <tr>\n",
       "      <th>3</th>\n",
       "      <td>Kim Jong-Un 'bans the name Kim Jong-un'</td>\n",
       "      <td>unrelated</td>\n",
       "      <td>(Reuters) - A Canadian soldier was shot at the...</td>\n",
       "      <td>False</td>\n",
       "    </tr>\n",
       "    <tr>\n",
       "      <th>4</th>\n",
       "      <td>Two blokes dared to eat 20-year-old burger for...</td>\n",
       "      <td>unrelated</td>\n",
       "      <td>(Reuters) - A Canadian soldier was shot at the...</td>\n",
       "      <td>False</td>\n",
       "    </tr>\n",
       "    <tr>\n",
       "      <th>...</th>\n",
       "      <td>...</td>\n",
       "      <td>...</td>\n",
       "      <td>...</td>\n",
       "      <td>...</td>\n",
       "    </tr>\n",
       "    <tr>\n",
       "      <th>39219</th>\n",
       "      <td>“Willie Nelson dead 2015” : Guitarist killed b...</td>\n",
       "      <td>agree</td>\n",
       "      <td>News of guitarist Willie Nelson’s death spread...</td>\n",
       "      <td>True</td>\n",
       "    </tr>\n",
       "    <tr>\n",
       "      <th>39220</th>\n",
       "      <td>Elon University has not banned the term ‘fresh...</td>\n",
       "      <td>agree</td>\n",
       "      <td>ELON, N.C. – A recent rumor claims that Elon U...</td>\n",
       "      <td>True</td>\n",
       "    </tr>\n",
       "    <tr>\n",
       "      <th>39221</th>\n",
       "      <td>Fake BBC News website set up to carry Charlie ...</td>\n",
       "      <td>agree</td>\n",
       "      <td>A realistic-looking fake BBC News website has ...</td>\n",
       "      <td>True</td>\n",
       "    </tr>\n",
       "    <tr>\n",
       "      <th>39222</th>\n",
       "      <td>Apple was forced to nix key health features fr...</td>\n",
       "      <td>discuss</td>\n",
       "      <td>The health-focused smartwatch that Apple initi...</td>\n",
       "      <td>True</td>\n",
       "    </tr>\n",
       "    <tr>\n",
       "      <th>39223</th>\n",
       "      <td>If you want an Apple Watch, you’ll probably be...</td>\n",
       "      <td>discuss</td>\n",
       "      <td>We still don’t know the exact date the Apple W...</td>\n",
       "      <td>True</td>\n",
       "    </tr>\n",
       "  </tbody>\n",
       "</table>\n",
       "<p>39224 rows × 4 columns</p>\n",
       "</div>"
      ],
      "text/plain": [
       "                                                Headline     Stance  \\\n",
       "0      HBO and Apple in Talks for $15/Month Apple TV ...  unrelated   \n",
       "1      ISLAMIC STATE BEHEADS MISSING AMERICAN JOURNAL...  unrelated   \n",
       "2      Elderly Woman Arrested for Kidnapping Neighbor...  unrelated   \n",
       "3                Kim Jong-Un 'bans the name Kim Jong-un'  unrelated   \n",
       "4      Two blokes dared to eat 20-year-old burger for...  unrelated   \n",
       "...                                                  ...        ...   \n",
       "39219  “Willie Nelson dead 2015” : Guitarist killed b...      agree   \n",
       "39220  Elon University has not banned the term ‘fresh...      agree   \n",
       "39221  Fake BBC News website set up to carry Charlie ...      agree   \n",
       "39222  Apple was forced to nix key health features fr...    discuss   \n",
       "39223  If you want an Apple Watch, you’ll probably be...    discuss   \n",
       "\n",
       "                                             articleBody  Related  \n",
       "0      (Reuters) - A Canadian soldier was shot at the...    False  \n",
       "1      (Reuters) - A Canadian soldier was shot at the...    False  \n",
       "2      (Reuters) - A Canadian soldier was shot at the...    False  \n",
       "3      (Reuters) - A Canadian soldier was shot at the...    False  \n",
       "4      (Reuters) - A Canadian soldier was shot at the...    False  \n",
       "...                                                  ...      ...  \n",
       "39219  News of guitarist Willie Nelson’s death spread...     True  \n",
       "39220  ELON, N.C. – A recent rumor claims that Elon U...     True  \n",
       "39221  A realistic-looking fake BBC News website has ...     True  \n",
       "39222  The health-focused smartwatch that Apple initi...     True  \n",
       "39223  We still don’t know the exact date the Apple W...     True  \n",
       "\n",
       "[39224 rows x 4 columns]"
      ]
     },
     "execution_count": 26,
     "metadata": {},
     "output_type": "execute_result"
    }
   ],
   "source": [
    "train_df"
   ]
  },
  {
   "cell_type": "code",
   "execution_count": 27,
   "id": "941daa6e-3d43-4b47-8d6f-612e282826cd",
   "metadata": {
    "tags": []
   },
   "outputs": [
    {
     "data": {
      "application/vnd.jupyter.widget-view+json": {
       "model_id": "3a340eda7dd84cbfbd83535a1bf4528c",
       "version_major": 2,
       "version_minor": 0
      },
      "text/plain": [
       "  0%|          | 0/39224 [00:00<?, ?it/s]"
      ]
     },
     "metadata": {},
     "output_type": "display_data"
    },
    {
     "data": {
      "application/vnd.jupyter.widget-view+json": {
       "model_id": "f0421c4ac0d649059ac2ed87487321d6",
       "version_major": 2,
       "version_minor": 0
      },
      "text/plain": [
       "  0%|          | 0/39224 [00:00<?, ?it/s]"
      ]
     },
     "metadata": {},
     "output_type": "display_data"
    }
   ],
   "source": [
    "train_df[\"Processed Headline\"] = train_df[\"Headline\"].progress_apply(process_text)\n",
    "train_df[\"Processed Body\"] = train_df[\"articleBody\"].progress_apply(process_text)"
   ]
  },
  {
   "cell_type": "code",
   "execution_count": 28,
   "id": "c79dabaa-044f-4761-a849-e89cce44c361",
   "metadata": {
    "tags": []
   },
   "outputs": [
    {
     "data": {
      "text/html": [
       "<div>\n",
       "<style scoped>\n",
       "    .dataframe tbody tr th:only-of-type {\n",
       "        vertical-align: middle;\n",
       "    }\n",
       "\n",
       "    .dataframe tbody tr th {\n",
       "        vertical-align: top;\n",
       "    }\n",
       "\n",
       "    .dataframe thead th {\n",
       "        text-align: right;\n",
       "    }\n",
       "</style>\n",
       "<table border=\"1\" class=\"dataframe\">\n",
       "  <thead>\n",
       "    <tr style=\"text-align: right;\">\n",
       "      <th></th>\n",
       "      <th>Headline</th>\n",
       "      <th>Stance</th>\n",
       "      <th>articleBody</th>\n",
       "      <th>Related</th>\n",
       "      <th>Processed Headline</th>\n",
       "      <th>Processed Body</th>\n",
       "    </tr>\n",
       "  </thead>\n",
       "  <tbody>\n",
       "    <tr>\n",
       "      <th>0</th>\n",
       "      <td>HBO and Apple in Talks for $15/Month Apple TV ...</td>\n",
       "      <td>unrelated</td>\n",
       "      <td>(Reuters) - A Canadian soldier was shot at the...</td>\n",
       "      <td>False</td>\n",
       "      <td>HBO and Apple in Talks for $15/Month Apple TV ...</td>\n",
       "      <td>(Reuters) - A Canadian soldier was shot at the...</td>\n",
       "    </tr>\n",
       "    <tr>\n",
       "      <th>1</th>\n",
       "      <td>ISLAMIC STATE BEHEADS MISSING AMERICAN JOURNAL...</td>\n",
       "      <td>unrelated</td>\n",
       "      <td>(Reuters) - A Canadian soldier was shot at the...</td>\n",
       "      <td>False</td>\n",
       "      <td>ISLAMIC STATE BEHEADS MISSING AMERICAN JOURNAL...</td>\n",
       "      <td>(Reuters) - A Canadian soldier was shot at the...</td>\n",
       "    </tr>\n",
       "    <tr>\n",
       "      <th>2</th>\n",
       "      <td>Elderly Woman Arrested for Kidnapping Neighbor...</td>\n",
       "      <td>unrelated</td>\n",
       "      <td>(Reuters) - A Canadian soldier was shot at the...</td>\n",
       "      <td>False</td>\n",
       "      <td>Elderly Woman Arrested for Kidnapping Neighbor...</td>\n",
       "      <td>(Reuters) - A Canadian soldier was shot at the...</td>\n",
       "    </tr>\n",
       "    <tr>\n",
       "      <th>3</th>\n",
       "      <td>Kim Jong-Un 'bans the name Kim Jong-un'</td>\n",
       "      <td>unrelated</td>\n",
       "      <td>(Reuters) - A Canadian soldier was shot at the...</td>\n",
       "      <td>False</td>\n",
       "      <td>Kim Jong-Un 'bans the name Kim Jong-un'</td>\n",
       "      <td>(Reuters) - A Canadian soldier was shot at the...</td>\n",
       "    </tr>\n",
       "    <tr>\n",
       "      <th>4</th>\n",
       "      <td>Two blokes dared to eat 20-year-old burger for...</td>\n",
       "      <td>unrelated</td>\n",
       "      <td>(Reuters) - A Canadian soldier was shot at the...</td>\n",
       "      <td>False</td>\n",
       "      <td>Two blokes dared to eat 20-year-old burger for...</td>\n",
       "      <td>(Reuters) - A Canadian soldier was shot at the...</td>\n",
       "    </tr>\n",
       "    <tr>\n",
       "      <th>...</th>\n",
       "      <td>...</td>\n",
       "      <td>...</td>\n",
       "      <td>...</td>\n",
       "      <td>...</td>\n",
       "      <td>...</td>\n",
       "      <td>...</td>\n",
       "    </tr>\n",
       "    <tr>\n",
       "      <th>39219</th>\n",
       "      <td>“Willie Nelson dead 2015” : Guitarist killed b...</td>\n",
       "      <td>agree</td>\n",
       "      <td>News of guitarist Willie Nelson’s death spread...</td>\n",
       "      <td>True</td>\n",
       "      <td>“Willie Nelson dead 2015” : Guitarist killed b...</td>\n",
       "      <td>News of guitarist Willie Nelson’s death spread...</td>\n",
       "    </tr>\n",
       "    <tr>\n",
       "      <th>39220</th>\n",
       "      <td>Elon University has not banned the term ‘fresh...</td>\n",
       "      <td>agree</td>\n",
       "      <td>ELON, N.C. – A recent rumor claims that Elon U...</td>\n",
       "      <td>True</td>\n",
       "      <td>Elon University has not banned the term ‘fresh...</td>\n",
       "      <td>ELON, N.C. – A recent rumor claims that Elon U...</td>\n",
       "    </tr>\n",
       "    <tr>\n",
       "      <th>39221</th>\n",
       "      <td>Fake BBC News website set up to carry Charlie ...</td>\n",
       "      <td>agree</td>\n",
       "      <td>A realistic-looking fake BBC News website has ...</td>\n",
       "      <td>True</td>\n",
       "      <td>Fake BBC News website set up to carry Charlie ...</td>\n",
       "      <td>A realistic-looking fake BBC News website has ...</td>\n",
       "    </tr>\n",
       "    <tr>\n",
       "      <th>39222</th>\n",
       "      <td>Apple was forced to nix key health features fr...</td>\n",
       "      <td>discuss</td>\n",
       "      <td>The health-focused smartwatch that Apple initi...</td>\n",
       "      <td>True</td>\n",
       "      <td>Apple was forced to nix key health features fr...</td>\n",
       "      <td>The health-focused smartwatch that Apple initi...</td>\n",
       "    </tr>\n",
       "    <tr>\n",
       "      <th>39223</th>\n",
       "      <td>If you want an Apple Watch, you’ll probably be...</td>\n",
       "      <td>discuss</td>\n",
       "      <td>We still don’t know the exact date the Apple W...</td>\n",
       "      <td>True</td>\n",
       "      <td>If you want an Apple Watch, you’ll probably be...</td>\n",
       "      <td>We still don’t know the exact date the Apple W...</td>\n",
       "    </tr>\n",
       "  </tbody>\n",
       "</table>\n",
       "<p>39224 rows × 6 columns</p>\n",
       "</div>"
      ],
      "text/plain": [
       "                                                Headline     Stance  \\\n",
       "0      HBO and Apple in Talks for $15/Month Apple TV ...  unrelated   \n",
       "1      ISLAMIC STATE BEHEADS MISSING AMERICAN JOURNAL...  unrelated   \n",
       "2      Elderly Woman Arrested for Kidnapping Neighbor...  unrelated   \n",
       "3                Kim Jong-Un 'bans the name Kim Jong-un'  unrelated   \n",
       "4      Two blokes dared to eat 20-year-old burger for...  unrelated   \n",
       "...                                                  ...        ...   \n",
       "39219  “Willie Nelson dead 2015” : Guitarist killed b...      agree   \n",
       "39220  Elon University has not banned the term ‘fresh...      agree   \n",
       "39221  Fake BBC News website set up to carry Charlie ...      agree   \n",
       "39222  Apple was forced to nix key health features fr...    discuss   \n",
       "39223  If you want an Apple Watch, you’ll probably be...    discuss   \n",
       "\n",
       "                                             articleBody  Related  \\\n",
       "0      (Reuters) - A Canadian soldier was shot at the...    False   \n",
       "1      (Reuters) - A Canadian soldier was shot at the...    False   \n",
       "2      (Reuters) - A Canadian soldier was shot at the...    False   \n",
       "3      (Reuters) - A Canadian soldier was shot at the...    False   \n",
       "4      (Reuters) - A Canadian soldier was shot at the...    False   \n",
       "...                                                  ...      ...   \n",
       "39219  News of guitarist Willie Nelson’s death spread...     True   \n",
       "39220  ELON, N.C. – A recent rumor claims that Elon U...     True   \n",
       "39221  A realistic-looking fake BBC News website has ...     True   \n",
       "39222  The health-focused smartwatch that Apple initi...     True   \n",
       "39223  We still don’t know the exact date the Apple W...     True   \n",
       "\n",
       "                                      Processed Headline  \\\n",
       "0      HBO and Apple in Talks for $15/Month Apple TV ...   \n",
       "1      ISLAMIC STATE BEHEADS MISSING AMERICAN JOURNAL...   \n",
       "2      Elderly Woman Arrested for Kidnapping Neighbor...   \n",
       "3                Kim Jong-Un 'bans the name Kim Jong-un'   \n",
       "4      Two blokes dared to eat 20-year-old burger for...   \n",
       "...                                                  ...   \n",
       "39219  “Willie Nelson dead 2015” : Guitarist killed b...   \n",
       "39220  Elon University has not banned the term ‘fresh...   \n",
       "39221  Fake BBC News website set up to carry Charlie ...   \n",
       "39222  Apple was forced to nix key health features fr...   \n",
       "39223  If you want an Apple Watch, you’ll probably be...   \n",
       "\n",
       "                                          Processed Body  \n",
       "0      (Reuters) - A Canadian soldier was shot at the...  \n",
       "1      (Reuters) - A Canadian soldier was shot at the...  \n",
       "2      (Reuters) - A Canadian soldier was shot at the...  \n",
       "3      (Reuters) - A Canadian soldier was shot at the...  \n",
       "4      (Reuters) - A Canadian soldier was shot at the...  \n",
       "...                                                  ...  \n",
       "39219  News of guitarist Willie Nelson’s death spread...  \n",
       "39220  ELON, N.C. – A recent rumor claims that Elon U...  \n",
       "39221  A realistic-looking fake BBC News website has ...  \n",
       "39222  The health-focused smartwatch that Apple initi...  \n",
       "39223  We still don’t know the exact date the Apple W...  \n",
       "\n",
       "[39224 rows x 6 columns]"
      ]
     },
     "execution_count": 28,
     "metadata": {},
     "output_type": "execute_result"
    }
   ],
   "source": [
    "train_df"
   ]
  },
  {
   "cell_type": "code",
   "execution_count": 29,
   "id": "04593f97-ae55-4b51-9418-577362fa703c",
   "metadata": {
    "tags": []
   },
   "outputs": [
    {
     "data": {
      "application/vnd.jupyter.widget-view+json": {
       "model_id": "4c0d8dc3ca344f96a07157ca5f7d824d",
       "version_major": 2,
       "version_minor": 0
      },
      "text/plain": [
       "  0%|          | 0/10748 [00:00<?, ?it/s]"
      ]
     },
     "metadata": {},
     "output_type": "display_data"
    },
    {
     "data": {
      "application/vnd.jupyter.widget-view+json": {
       "model_id": "b61350f2f28545aeba1c5834532ff134",
       "version_major": 2,
       "version_minor": 0
      },
      "text/plain": [
       "  0%|          | 0/10748 [00:00<?, ?it/s]"
      ]
     },
     "metadata": {},
     "output_type": "display_data"
    }
   ],
   "source": [
    "val_df[\"Processed Headline\"] = val_df[\"Headline\"].progress_apply(process_text)\n",
    "val_df[\"Processed Body\"] = val_df[\"articleBody\"].progress_apply(process_text)"
   ]
  },
  {
   "cell_type": "code",
   "execution_count": 30,
   "id": "e97b5950-887d-481e-babb-047aee6caf17",
   "metadata": {
    "tags": []
   },
   "outputs": [
    {
     "data": {
      "text/html": [
       "<div>\n",
       "<style scoped>\n",
       "    .dataframe tbody tr th:only-of-type {\n",
       "        vertical-align: middle;\n",
       "    }\n",
       "\n",
       "    .dataframe tbody tr th {\n",
       "        vertical-align: top;\n",
       "    }\n",
       "\n",
       "    .dataframe thead th {\n",
       "        text-align: right;\n",
       "    }\n",
       "</style>\n",
       "<table border=\"1\" class=\"dataframe\">\n",
       "  <thead>\n",
       "    <tr style=\"text-align: right;\">\n",
       "      <th></th>\n",
       "      <th>Headline</th>\n",
       "      <th>Stance</th>\n",
       "      <th>articleBody</th>\n",
       "      <th>Related</th>\n",
       "      <th>Processed Headline</th>\n",
       "      <th>Processed Body</th>\n",
       "    </tr>\n",
       "  </thead>\n",
       "  <tbody>\n",
       "    <tr>\n",
       "      <th>0</th>\n",
       "      <td>Police find mass graves with at least '15 bodi...</td>\n",
       "      <td>unrelated</td>\n",
       "      <td>Danny Boyle is directing the untitled film\\r\\n...</td>\n",
       "      <td>False</td>\n",
       "      <td>Police find mass graves with at least '15 bodi...</td>\n",
       "      <td>Danny Boyle is directing the untitled film Set...</td>\n",
       "    </tr>\n",
       "    <tr>\n",
       "      <th>1</th>\n",
       "      <td>Seth Rogen to Play Apple’s Steve Wozniak</td>\n",
       "      <td>discuss</td>\n",
       "      <td>Danny Boyle is directing the untitled film\\r\\n...</td>\n",
       "      <td>True</td>\n",
       "      <td>Seth Rogen to Play Apple’s Steve Wozniak</td>\n",
       "      <td>Danny Boyle is directing the untitled film Set...</td>\n",
       "    </tr>\n",
       "    <tr>\n",
       "      <th>2</th>\n",
       "      <td>Mexico police find mass grave near site 43 stu...</td>\n",
       "      <td>unrelated</td>\n",
       "      <td>Danny Boyle is directing the untitled film\\r\\n...</td>\n",
       "      <td>False</td>\n",
       "      <td>Mexico police find mass grave near site 43 stu...</td>\n",
       "      <td>Danny Boyle is directing the untitled film Set...</td>\n",
       "    </tr>\n",
       "    <tr>\n",
       "      <th>3</th>\n",
       "      <td>Mexico Says Missing Students Not Found In Firs...</td>\n",
       "      <td>unrelated</td>\n",
       "      <td>Danny Boyle is directing the untitled film\\r\\n...</td>\n",
       "      <td>False</td>\n",
       "      <td>Mexico Says Missing Students Not Found In Firs...</td>\n",
       "      <td>Danny Boyle is directing the untitled film Set...</td>\n",
       "    </tr>\n",
       "    <tr>\n",
       "      <th>4</th>\n",
       "      <td>New iOS 8 bug can delete all of your iCloud do...</td>\n",
       "      <td>unrelated</td>\n",
       "      <td>Danny Boyle is directing the untitled film\\r\\n...</td>\n",
       "      <td>False</td>\n",
       "      <td>New iOS 8 bug can delete all of your iCloud do...</td>\n",
       "      <td>Danny Boyle is directing the untitled film Set...</td>\n",
       "    </tr>\n",
       "    <tr>\n",
       "      <th>...</th>\n",
       "      <td>...</td>\n",
       "      <td>...</td>\n",
       "      <td>...</td>\n",
       "      <td>...</td>\n",
       "      <td>...</td>\n",
       "      <td>...</td>\n",
       "    </tr>\n",
       "    <tr>\n",
       "      <th>10743</th>\n",
       "      <td>US probing claims ISIS fighters seized airdrop...</td>\n",
       "      <td>discuss</td>\n",
       "      <td>Syrian activists claim militants from the Isla...</td>\n",
       "      <td>True</td>\n",
       "      <td>US probing claims ISIS fighters seized airdrop...</td>\n",
       "      <td>Syrian activists claim militants from the Isla...</td>\n",
       "    </tr>\n",
       "    <tr>\n",
       "      <th>10744</th>\n",
       "      <td>ISIS fighters seize weapons airdrop meant for ...</td>\n",
       "      <td>discuss</td>\n",
       "      <td>Syrian activists claim militants from the Isla...</td>\n",
       "      <td>True</td>\n",
       "      <td>ISIS fighters seize weapons airdrop meant for ...</td>\n",
       "      <td>Syrian activists claim militants from the Isla...</td>\n",
       "    </tr>\n",
       "    <tr>\n",
       "      <th>10745</th>\n",
       "      <td>Heartbroken girl spends week in KFC after gett...</td>\n",
       "      <td>discuss</td>\n",
       "      <td>A Chinese woman spent an entire week inside a ...</td>\n",
       "      <td>True</td>\n",
       "      <td>Heartbroken girl spends week in KFC after gett...</td>\n",
       "      <td>A Chinese woman spent an entire week inside a ...</td>\n",
       "    </tr>\n",
       "    <tr>\n",
       "      <th>10746</th>\n",
       "      <td>Comfort eating? Chinese woman, 26, spends an e...</td>\n",
       "      <td>discuss</td>\n",
       "      <td>A Chinese woman spent an entire week inside a ...</td>\n",
       "      <td>True</td>\n",
       "      <td>Comfort eating? Chinese woman, 26, spends an e...</td>\n",
       "      <td>A Chinese woman spent an entire week inside a ...</td>\n",
       "    </tr>\n",
       "    <tr>\n",
       "      <th>10747</th>\n",
       "      <td>Amazon Is Opening a Brick-and-Mortar Store in ...</td>\n",
       "      <td>agree</td>\n",
       "      <td>Amazon, the cyber store that sells everything,...</td>\n",
       "      <td>True</td>\n",
       "      <td>Amazon Is Opening a Brick-and-Mortar Store in ...</td>\n",
       "      <td>Amazon, the cyber store that sells everything,...</td>\n",
       "    </tr>\n",
       "  </tbody>\n",
       "</table>\n",
       "<p>10748 rows × 6 columns</p>\n",
       "</div>"
      ],
      "text/plain": [
       "                                                Headline     Stance  \\\n",
       "0      Police find mass graves with at least '15 bodi...  unrelated   \n",
       "1               Seth Rogen to Play Apple’s Steve Wozniak    discuss   \n",
       "2      Mexico police find mass grave near site 43 stu...  unrelated   \n",
       "3      Mexico Says Missing Students Not Found In Firs...  unrelated   \n",
       "4      New iOS 8 bug can delete all of your iCloud do...  unrelated   \n",
       "...                                                  ...        ...   \n",
       "10743  US probing claims ISIS fighters seized airdrop...    discuss   \n",
       "10744  ISIS fighters seize weapons airdrop meant for ...    discuss   \n",
       "10745  Heartbroken girl spends week in KFC after gett...    discuss   \n",
       "10746  Comfort eating? Chinese woman, 26, spends an e...    discuss   \n",
       "10747  Amazon Is Opening a Brick-and-Mortar Store in ...      agree   \n",
       "\n",
       "                                             articleBody  Related  \\\n",
       "0      Danny Boyle is directing the untitled film\\r\\n...    False   \n",
       "1      Danny Boyle is directing the untitled film\\r\\n...     True   \n",
       "2      Danny Boyle is directing the untitled film\\r\\n...    False   \n",
       "3      Danny Boyle is directing the untitled film\\r\\n...    False   \n",
       "4      Danny Boyle is directing the untitled film\\r\\n...    False   \n",
       "...                                                  ...      ...   \n",
       "10743  Syrian activists claim militants from the Isla...     True   \n",
       "10744  Syrian activists claim militants from the Isla...     True   \n",
       "10745  A Chinese woman spent an entire week inside a ...     True   \n",
       "10746  A Chinese woman spent an entire week inside a ...     True   \n",
       "10747  Amazon, the cyber store that sells everything,...     True   \n",
       "\n",
       "                                      Processed Headline  \\\n",
       "0      Police find mass graves with at least '15 bodi...   \n",
       "1               Seth Rogen to Play Apple’s Steve Wozniak   \n",
       "2      Mexico police find mass grave near site 43 stu...   \n",
       "3      Mexico Says Missing Students Not Found In Firs...   \n",
       "4      New iOS 8 bug can delete all of your iCloud do...   \n",
       "...                                                  ...   \n",
       "10743  US probing claims ISIS fighters seized airdrop...   \n",
       "10744  ISIS fighters seize weapons airdrop meant for ...   \n",
       "10745  Heartbroken girl spends week in KFC after gett...   \n",
       "10746  Comfort eating? Chinese woman, 26, spends an e...   \n",
       "10747  Amazon Is Opening a Brick-and-Mortar Store in ...   \n",
       "\n",
       "                                          Processed Body  \n",
       "0      Danny Boyle is directing the untitled film Set...  \n",
       "1      Danny Boyle is directing the untitled film Set...  \n",
       "2      Danny Boyle is directing the untitled film Set...  \n",
       "3      Danny Boyle is directing the untitled film Set...  \n",
       "4      Danny Boyle is directing the untitled film Set...  \n",
       "...                                                  ...  \n",
       "10743  Syrian activists claim militants from the Isla...  \n",
       "10744  Syrian activists claim militants from the Isla...  \n",
       "10745  A Chinese woman spent an entire week inside a ...  \n",
       "10746  A Chinese woman spent an entire week inside a ...  \n",
       "10747  Amazon, the cyber store that sells everything,...  \n",
       "\n",
       "[10748 rows x 6 columns]"
      ]
     },
     "execution_count": 30,
     "metadata": {},
     "output_type": "execute_result"
    }
   ],
   "source": [
    "val_df"
   ]
  },
  {
   "cell_type": "code",
   "execution_count": 31,
   "id": "c2b6749e-e865-46e9-98c4-217da58949e7",
   "metadata": {
    "tags": []
   },
   "outputs": [
    {
     "data": {
      "application/vnd.jupyter.widget-view+json": {
       "model_id": "0e939f94e04f41258e1ab78ddd460fdb",
       "version_major": 2,
       "version_minor": 0
      },
      "text/plain": [
       "  0%|          | 0/25413 [00:00<?, ?it/s]"
      ]
     },
     "metadata": {},
     "output_type": "display_data"
    },
    {
     "data": {
      "application/vnd.jupyter.widget-view+json": {
       "model_id": "ef59fba6cfb94b0b804258264dc4601d",
       "version_major": 2,
       "version_minor": 0
      },
      "text/plain": [
       "  0%|          | 0/25413 [00:00<?, ?it/s]"
      ]
     },
     "metadata": {},
     "output_type": "display_data"
    }
   ],
   "source": [
    "test_df[\"Processed Headline\"] = test_df[\"Headline\"].progress_apply(process_text)\n",
    "test_df[\"Processed Body\"] = test_df[\"articleBody\"].progress_apply(process_text)"
   ]
  },
  {
   "cell_type": "code",
   "execution_count": 32,
   "id": "476a0d90-0785-4e5d-817c-3e740d5792f3",
   "metadata": {
    "tags": []
   },
   "outputs": [
    {
     "data": {
      "text/html": [
       "<div>\n",
       "<style scoped>\n",
       "    .dataframe tbody tr th:only-of-type {\n",
       "        vertical-align: middle;\n",
       "    }\n",
       "\n",
       "    .dataframe tbody tr th {\n",
       "        vertical-align: top;\n",
       "    }\n",
       "\n",
       "    .dataframe thead th {\n",
       "        text-align: right;\n",
       "    }\n",
       "</style>\n",
       "<table border=\"1\" class=\"dataframe\">\n",
       "  <thead>\n",
       "    <tr style=\"text-align: right;\">\n",
       "      <th></th>\n",
       "      <th>Headline</th>\n",
       "      <th>Stance</th>\n",
       "      <th>articleBody</th>\n",
       "      <th>Related</th>\n",
       "      <th>Processed Headline</th>\n",
       "      <th>Processed Body</th>\n",
       "    </tr>\n",
       "  </thead>\n",
       "  <tbody>\n",
       "    <tr>\n",
       "      <th>0</th>\n",
       "      <td>Ferguson riots: Pregnant woman loses eye after...</td>\n",
       "      <td>unrelated</td>\n",
       "      <td>A RESPECTED senior French police officer inves...</td>\n",
       "      <td>False</td>\n",
       "      <td>Ferguson riots: Pregnant woman loses eye after...</td>\n",
       "      <td>A RESPECTED senior French police officer inves...</td>\n",
       "    </tr>\n",
       "    <tr>\n",
       "      <th>1</th>\n",
       "      <td>Apple Stores to install safes to secure gold A...</td>\n",
       "      <td>unrelated</td>\n",
       "      <td>A RESPECTED senior French police officer inves...</td>\n",
       "      <td>False</td>\n",
       "      <td>Apple Stores to install safes to secure gold A...</td>\n",
       "      <td>A RESPECTED senior French police officer inves...</td>\n",
       "    </tr>\n",
       "    <tr>\n",
       "      <th>2</th>\n",
       "      <td>Pregnant woman loses eye after police shoot be...</td>\n",
       "      <td>unrelated</td>\n",
       "      <td>A RESPECTED senior French police officer inves...</td>\n",
       "      <td>False</td>\n",
       "      <td>Pregnant woman loses eye after police shoot be...</td>\n",
       "      <td>A RESPECTED senior French police officer inves...</td>\n",
       "    </tr>\n",
       "    <tr>\n",
       "      <th>3</th>\n",
       "      <td>We just found out the #Ferguson Protester who ...</td>\n",
       "      <td>unrelated</td>\n",
       "      <td>A RESPECTED senior French police officer inves...</td>\n",
       "      <td>False</td>\n",
       "      <td>We just found out the #Ferguson Protester who ...</td>\n",
       "      <td>A RESPECTED senior French police officer inves...</td>\n",
       "    </tr>\n",
       "    <tr>\n",
       "      <th>4</th>\n",
       "      <td>Police Chief In Charge of Paris Attacks Commit...</td>\n",
       "      <td>discuss</td>\n",
       "      <td>A RESPECTED senior French police officer inves...</td>\n",
       "      <td>True</td>\n",
       "      <td>Police Chief In Charge of Paris Attacks Commit...</td>\n",
       "      <td>A RESPECTED senior French police officer inves...</td>\n",
       "    </tr>\n",
       "    <tr>\n",
       "      <th>...</th>\n",
       "      <td>...</td>\n",
       "      <td>...</td>\n",
       "      <td>...</td>\n",
       "      <td>...</td>\n",
       "      <td>...</td>\n",
       "      <td>...</td>\n",
       "    </tr>\n",
       "    <tr>\n",
       "      <th>25408</th>\n",
       "      <td>A Sign That Obamacare Exchanges Are Failing</td>\n",
       "      <td>disagree</td>\n",
       "      <td>Remember how much Republicans wanted to repeal...</td>\n",
       "      <td>True</td>\n",
       "      <td>A Sign That Obamacare Exchanges Are Failing</td>\n",
       "      <td>Remember how much Republicans wanted to repeal...</td>\n",
       "    </tr>\n",
       "    <tr>\n",
       "      <th>25409</th>\n",
       "      <td>Republicans call Obamacare a 'failure.' These ...</td>\n",
       "      <td>agree</td>\n",
       "      <td>Remember how much Republicans wanted to repeal...</td>\n",
       "      <td>True</td>\n",
       "      <td>Republicans call Obamacare a 'failure.' These ...</td>\n",
       "      <td>Remember how much Republicans wanted to repeal...</td>\n",
       "    </tr>\n",
       "    <tr>\n",
       "      <th>25410</th>\n",
       "      <td>CBO’s Alternate Facts Show Obamacare is Unsust...</td>\n",
       "      <td>disagree</td>\n",
       "      <td>Remember how much Republicans wanted to repeal...</td>\n",
       "      <td>True</td>\n",
       "      <td>CBO’s Alternate Facts Show Obamacare is Unsust...</td>\n",
       "      <td>Remember how much Republicans wanted to repeal...</td>\n",
       "    </tr>\n",
       "    <tr>\n",
       "      <th>25411</th>\n",
       "      <td>Why Obamacare failed</td>\n",
       "      <td>disagree</td>\n",
       "      <td>Remember how much Republicans wanted to repeal...</td>\n",
       "      <td>True</td>\n",
       "      <td>Why Obamacare failed</td>\n",
       "      <td>Remember how much Republicans wanted to repeal...</td>\n",
       "    </tr>\n",
       "    <tr>\n",
       "      <th>25412</th>\n",
       "      <td>The success of the Affordable Care Act is a hu...</td>\n",
       "      <td>agree</td>\n",
       "      <td>Remember how much Republicans wanted to repeal...</td>\n",
       "      <td>True</td>\n",
       "      <td>The success of the Affordable Care Act is a hu...</td>\n",
       "      <td>Remember how much Republicans wanted to repeal...</td>\n",
       "    </tr>\n",
       "  </tbody>\n",
       "</table>\n",
       "<p>25413 rows × 6 columns</p>\n",
       "</div>"
      ],
      "text/plain": [
       "                                                Headline     Stance  \\\n",
       "0      Ferguson riots: Pregnant woman loses eye after...  unrelated   \n",
       "1      Apple Stores to install safes to secure gold A...  unrelated   \n",
       "2      Pregnant woman loses eye after police shoot be...  unrelated   \n",
       "3      We just found out the #Ferguson Protester who ...  unrelated   \n",
       "4      Police Chief In Charge of Paris Attacks Commit...    discuss   \n",
       "...                                                  ...        ...   \n",
       "25408        A Sign That Obamacare Exchanges Are Failing   disagree   \n",
       "25409  Republicans call Obamacare a 'failure.' These ...      agree   \n",
       "25410  CBO’s Alternate Facts Show Obamacare is Unsust...   disagree   \n",
       "25411                               Why Obamacare failed   disagree   \n",
       "25412  The success of the Affordable Care Act is a hu...      agree   \n",
       "\n",
       "                                             articleBody  Related  \\\n",
       "0      A RESPECTED senior French police officer inves...    False   \n",
       "1      A RESPECTED senior French police officer inves...    False   \n",
       "2      A RESPECTED senior French police officer inves...    False   \n",
       "3      A RESPECTED senior French police officer inves...    False   \n",
       "4      A RESPECTED senior French police officer inves...     True   \n",
       "...                                                  ...      ...   \n",
       "25408  Remember how much Republicans wanted to repeal...     True   \n",
       "25409  Remember how much Republicans wanted to repeal...     True   \n",
       "25410  Remember how much Republicans wanted to repeal...     True   \n",
       "25411  Remember how much Republicans wanted to repeal...     True   \n",
       "25412  Remember how much Republicans wanted to repeal...     True   \n",
       "\n",
       "                                      Processed Headline  \\\n",
       "0      Ferguson riots: Pregnant woman loses eye after...   \n",
       "1      Apple Stores to install safes to secure gold A...   \n",
       "2      Pregnant woman loses eye after police shoot be...   \n",
       "3      We just found out the #Ferguson Protester who ...   \n",
       "4      Police Chief In Charge of Paris Attacks Commit...   \n",
       "...                                                  ...   \n",
       "25408        A Sign That Obamacare Exchanges Are Failing   \n",
       "25409  Republicans call Obamacare a 'failure.' These ...   \n",
       "25410  CBO’s Alternate Facts Show Obamacare is Unsust...   \n",
       "25411                               Why Obamacare failed   \n",
       "25412  The success of the Affordable Care Act is a hu...   \n",
       "\n",
       "                                          Processed Body  \n",
       "0      A RESPECTED senior French police officer inves...  \n",
       "1      A RESPECTED senior French police officer inves...  \n",
       "2      A RESPECTED senior French police officer inves...  \n",
       "3      A RESPECTED senior French police officer inves...  \n",
       "4      A RESPECTED senior French police officer inves...  \n",
       "...                                                  ...  \n",
       "25408  Remember how much Republicans wanted to repeal...  \n",
       "25409  Remember how much Republicans wanted to repeal...  \n",
       "25410  Remember how much Republicans wanted to repeal...  \n",
       "25411  Remember how much Republicans wanted to repeal...  \n",
       "25412  Remember how much Republicans wanted to repeal...  \n",
       "\n",
       "[25413 rows x 6 columns]"
      ]
     },
     "execution_count": 32,
     "metadata": {},
     "output_type": "execute_result"
    }
   ],
   "source": [
    "test_df"
   ]
  },
  {
   "cell_type": "markdown",
   "id": "fafbc18e-9f85-4204-9b29-4ad4524eb86c",
   "metadata": {},
   "source": [
    "# BERT Tokeniser"
   ]
  },
  {
   "cell_type": "code",
   "execution_count": 33,
   "id": "0f84d9d0-49ab-4ac5-aa49-b49599ccfb9f",
   "metadata": {
    "tags": []
   },
   "outputs": [],
   "source": [
    "selected_model = \"bert-base-uncased\""
   ]
  },
  {
   "cell_type": "code",
   "execution_count": 34,
   "id": "bf786855-a55c-44b3-bba8-54e5669ecd7e",
   "metadata": {
    "tags": []
   },
   "outputs": [],
   "source": [
    "tokeniser = BertTokenizer.from_pretrained(selected_model)"
   ]
  },
  {
   "cell_type": "code",
   "execution_count": 35,
   "id": "664a69c2-d428-4b74-8c5b-ebfe7618376e",
   "metadata": {
    "tags": []
   },
   "outputs": [
    {
     "data": {
      "text/plain": [
       "'(CNN) -- Boko Haram laughed off Nigeria\\'s announcement of a ceasefire agreement, saying there is no such deal and schoolgirls abducted in spring have been converted to Islam and married off. Nigerian officials announced two weeks ago that they had struck a deal with the Islamist terror group. The deal, the government said, included the release of more than 200 girls whose kidnapping in April at a boarding school in the nation\\'s north stunned the world. In a video released Saturday, the Islamist group\\'s notorious leader fired off a series of denials. \"Don\\'t you know the over 200 Chibok schoolgirls have converted to Islam?\" Abubakar Shekau said. \"They have now memorized two chapters of the Quran.\" Shekau slammed reports of their planned release. \"We married them off. They are in their marital homes,\" he said, chuckling. The group\\'s leader also denied knowing the negotiator with whom the government claimed it worked out a deal, saying he does not represent Boko Haram. \"We will not spare him and will slaughter him if we get him,\" he said of the negotiator. It wasn\\'t clear when the video was made. Mike Omeri, coordinator of Nigeria\\'s National Information Centre, told CNN on Saturday that all these claims contradict those made in conversations in which the Nigerian government has been involved. Omeri said Nigeria\\'s government will do everything possible to verify the claims made in the video. Nigerian officials met with Boko Haram in Chad twice during talks mediated by Chadian President Idriss Deby, according to the aide. The ceasefire deal announced October 17 followed a month of negotiations with representatives of the group, said Hassan Tukur, an aide to Nigerian President Goodluck Jonathan. After the deal was announced, the aide said final negotiations on the girls\\' release would be completed at a meeting a week later in Chad. That day passed without any signs of the girls. Boko Haram a growing challenge In the video, Shekau talked not of peace but of more violence -- promising more \"war, striking and killing with gun.\" This strategy appears to be playing out in parts of Nigeria, where Boko Haram fighters have continued deadly attacks on villages despite government claims of a ceasefire. More people have been abducted and scores killed in recent weeks, including one attack a day after the ceasefire that left eight dead. Days later, members of the Islamist terror group abducted at least 60 young women and girls from Christian villages in northeast Nigeria, residents said Thursday. Heavily armed fighters left 1,500 naira, or about $9, and kola nuts as a bride price for each of the women abducted, residents said. For its part, the Nigerian government isn\\'t backing down. Rather, it is stepping up its military campaign against militants and criminals in some parts of the West African nation, Nigeria\\'s defense ministry said on Saturday. The military claimed its airstrikes and ground operations have repelled attacks against civilians in Adamawa and Borno, two of the states in northeastern Nigeria that have been strongholds and frequent targets for Boko Haram. Officials are \"studying\" the latest video, even as the military continues to recognize the talks aimed at assuring the release of the kidnapped schoolgirls, the ministry said. Boko Haram, whose name translates to \"Western education is sin\" in the Hausa language, is trying to impose strict Sharia law across Nigeria, which is split between a majority Muslim north and a mostly Christian south. Like ISIS, it has ambitions for a caliphate, or religious state. The group\\'s attacks have intensified in recent years in an apparent show of defiance for the nation\\'s military onslaught. Its ambitions appear to have expanded to the destruction of the government. As part of its insurgency, it has bombed schools, churches and mosques, kidnapped women and children and assassinated politicians and religious leaders alike. CNN\\'s Isha Sesay, Lillian Leposo, Christabelle Fombu, Greg Botelho and Nana Karikari-apau contributed to this report.'"
      ]
     },
     "execution_count": 35,
     "metadata": {},
     "output_type": "execute_result"
    }
   ],
   "source": [
    "test_processed"
   ]
  },
  {
   "cell_type": "code",
   "execution_count": 36,
   "id": "935dfdcf-cea0-48ad-88fd-bac86586a810",
   "metadata": {
    "tags": []
   },
   "outputs": [
    {
     "name": "stdout",
     "output_type": "stream",
     "text": [
      "['(', 'cnn', ')', '-', '-', 'bo', '##ko', 'hara', '##m', 'laughed', 'off', 'nigeria', \"'\", 's', 'announcement', 'of', 'a', 'ceasefire', 'agreement', ',', 'saying', 'there', 'is', 'no', 'such', 'deal', 'and', 'school', '##girl', '##s', 'abducted', 'in', 'spring', 'have', 'been', 'converted', 'to', 'islam', 'and', 'married', 'off', '.', 'nigerian', 'officials', 'announced', 'two', 'weeks', 'ago', 'that', 'they', 'had', 'struck', 'a', 'deal', 'with', 'the', 'islamist', 'terror', 'group', '.', 'the', 'deal', ',', 'the', 'government', 'said', ',', 'included', 'the', 'release', 'of', 'more', 'than', '200', 'girls', 'whose', 'kidnapping', 'in', 'april', 'at', 'a', 'boarding', 'school', 'in', 'the', 'nation', \"'\", 's', 'north', 'stunned', 'the', 'world', '.', 'in', 'a', 'video', 'released', 'saturday', ',', 'the', 'islamist', 'group', \"'\", 's', 'notorious', 'leader', 'fired', 'off', 'a', 'series', 'of', 'denial', '##s', '.', '\"', 'don', \"'\", 't', 'you', 'know', 'the', 'over', '200', 'chi', '##bo', '##k', 'school', '##girl', '##s', 'have', 'converted', 'to', 'islam', '?', '\"', 'abu', '##ba', '##kar', 'she', '##ka', '##u', 'said', '.', '\"', 'they', 'have', 'now', 'memo', '##rized', 'two', 'chapters', 'of', 'the', 'quran', '.', '\"', 'she', '##ka', '##u', 'slammed', 'reports', 'of', 'their', 'planned', 'release', '.', '\"', 'we', 'married', 'them', 'off', '.', 'they', 'are', 'in', 'their', 'marital', 'homes', ',', '\"', 'he', 'said', ',', 'chuck', '##ling', '.', 'the', 'group', \"'\", 's', 'leader', 'also', 'denied', 'knowing', 'the', 'ne', '##go', '##tia', '##tor', 'with', 'whom', 'the', 'government', 'claimed', 'it', 'worked', 'out', 'a', 'deal', ',', 'saying', 'he', 'does', 'not', 'represent', 'bo', '##ko', 'hara', '##m', '.', '\"', 'we', 'will', 'not', 'spare', 'him', 'and', 'will', 'slaughter', 'him', 'if', 'we', 'get', 'him', ',', '\"', 'he', 'said', 'of', 'the', 'ne', '##go', '##tia', '##tor', '.', 'it', 'wasn', \"'\", 't', 'clear', 'when', 'the', 'video', 'was', 'made', '.', 'mike', 'om', '##eri', ',', 'coordinator', 'of', 'nigeria', \"'\", 's', 'national', 'information', 'centre', ',', 'told', 'cnn', 'on', 'saturday', 'that', 'all', 'these', 'claims', 'contra', '##dict', 'those', 'made', 'in', 'conversations', 'in', 'which', 'the', 'nigerian', 'government', 'has', 'been', 'involved', '.', 'om', '##eri', 'said', 'nigeria', \"'\", 's', 'government', 'will', 'do', 'everything', 'possible', 'to', 'verify', 'the', 'claims', 'made', 'in', 'the', 'video', '.', 'nigerian', 'officials', 'met', 'with', 'bo', '##ko', 'hara', '##m', 'in', 'chad', 'twice', 'during', 'talks', 'mediated', 'by', 'chad', '##ian', 'president', 'id', '##ris', '##s', 'de', '##by', ',', 'according', 'to', 'the', 'aide', '.', 'the', 'ceasefire', 'deal', 'announced', 'october', '17', 'followed', 'a', 'month', 'of', 'negotiations', 'with', 'representatives', 'of', 'the', 'group', ',', 'said', 'hassan', 'tu', '##kur', ',', 'an', 'aide', 'to', 'nigerian', 'president', 'good', '##lu', '##ck', 'jonathan', '.', 'after', 'the', 'deal', 'was', 'announced', ',', 'the', 'aide', 'said', 'final', 'negotiations', 'on', 'the', 'girls', \"'\", 'release', 'would', 'be', 'completed', 'at', 'a', 'meeting', 'a', 'week', 'later', 'in', 'chad', '.', 'that', 'day', 'passed', 'without', 'any', 'signs', 'of', 'the', 'girls', '.', 'bo', '##ko', 'hara', '##m', 'a', 'growing', 'challenge', 'in', 'the', 'video', ',', 'she', '##ka', '##u', 'talked', 'not', 'of', 'peace', 'but', 'of', 'more', 'violence', '-', '-', 'promising', 'more', '\"', 'war', ',', 'striking', 'and', 'killing', 'with', 'gun', '.', '\"', 'this', 'strategy', 'appears', 'to', 'be', 'playing', 'out', 'in', 'parts', 'of', 'nigeria', ',', 'where', 'bo', '##ko', 'hara', '##m', 'fighters', 'have', 'continued', 'deadly', 'attacks', 'on', 'villages', 'despite', 'government', 'claims', 'of', 'a', 'ceasefire', '.', 'more', 'people', 'have', 'been', 'abducted', 'and', 'scores', 'killed', 'in', 'recent', 'weeks', ',', 'including', 'one', 'attack', 'a', 'day', 'after', 'the', 'ceasefire', 'that', 'left', 'eight', 'dead', '.', 'days', 'later', ',', 'members', 'of', 'the', 'islamist', 'terror', 'group', 'abducted', 'at', 'least', '60', 'young', 'women', 'and', 'girls', 'from', 'christian', 'villages', 'in', 'northeast', 'nigeria', ',', 'residents', 'said', 'thursday', '.', 'heavily', 'armed', 'fighters', 'left', '1', ',', '500', 'nair', '##a', ',', 'or', 'about', '$', '9', ',', 'and', 'ko', '##la', 'nuts', 'as', 'a', 'bride', 'price', 'for', 'each', 'of', 'the', 'women', 'abducted', ',', 'residents', 'said', '.', 'for', 'its', 'part', ',', 'the', 'nigerian', 'government', 'isn', \"'\", 't', 'backing', 'down', '.', 'rather', ',', 'it', 'is', 'stepping', 'up', 'its', 'military', 'campaign', 'against', 'militants', 'and', 'criminals', 'in', 'some', 'parts', 'of', 'the', 'west', 'african', 'nation', ',', 'nigeria', \"'\", 's', 'defense', 'ministry', 'said', 'on', 'saturday', '.', 'the', 'military', 'claimed', 'its', 'airs', '##tri', '##kes', 'and', 'ground', 'operations', 'have', 'rep', '##elled', 'attacks', 'against', 'civilians', 'in', 'adam', '##awa', 'and', 'born', '##o', ',', 'two', 'of', 'the', 'states', 'in', 'northeastern', 'nigeria', 'that', 'have', 'been', 'stronghold', '##s', 'and', 'frequent', 'targets', 'for', 'bo', '##ko', 'hara', '##m', '.', 'officials', 'are', '\"', 'studying', '\"', 'the', 'latest', 'video', ',', 'even', 'as', 'the', 'military', 'continues', 'to', 'recognize', 'the', 'talks', 'aimed', 'at', 'ass', '##uring', 'the', 'release', 'of', 'the', 'kidnapped', 'school', '##girl', '##s', ',', 'the', 'ministry', 'said', '.', 'bo', '##ko', 'hara', '##m', ',', 'whose', 'name', 'translates', 'to', '\"', 'western', 'education', 'is', 'sin', '\"', 'in', 'the', 'ha', '##usa', 'language', ',', 'is', 'trying', 'to', 'impose', 'strict', 'sha', '##ria', 'law', 'across', 'nigeria', ',', 'which', 'is', 'split', 'between', 'a', 'majority', 'muslim', 'north', 'and', 'a', 'mostly', 'christian', 'south', '.', 'like', 'isis', ',', 'it', 'has', 'ambitions', 'for', 'a', 'caliphate', ',', 'or', 'religious', 'state', '.', 'the', 'group', \"'\", 's', 'attacks', 'have', 'intensified', 'in', 'recent', 'years', 'in', 'an', 'apparent', 'show', 'of', 'defiance', 'for', 'the', 'nation', \"'\", 's', 'military', 'onslaught', '.', 'its', 'ambitions', 'appear', 'to', 'have', 'expanded', 'to', 'the', 'destruction', 'of', 'the', 'government', '.', 'as', 'part', 'of', 'its', 'insurgency', ',', 'it', 'has', 'bombed', 'schools', ',', 'churches', 'and', 'mosques', ',', 'kidnapped', 'women', 'and', 'children', 'and', 'assassinated', 'politicians', 'and', 'religious', 'leaders', 'alike', '.', 'cnn', \"'\", 's', 'is', '##ha', 'se', '##say', ',', 'lillian', 'le', '##po', '##so', ',', 'christ', '##abe', '##lle', 'f', '##om', '##bu', ',', 'greg', 'bot', '##el', '##ho', 'and', 'nana', 'kari', '##kari', '-', 'ap', '##au', 'contributed', 'to', 'this', 'report', '.']\n"
     ]
    }
   ],
   "source": [
    "test_processed_tokens = tokeniser.tokenize(test_processed)\n",
    "print(test_processed_tokens)"
   ]
  },
  {
   "cell_type": "code",
   "execution_count": 37,
   "id": "908ba31f-8e9b-4321-a9cb-a923100754fb",
   "metadata": {
    "tags": []
   },
   "outputs": [
    {
     "name": "stdout",
     "output_type": "stream",
     "text": [
      "[1006, 13229, 1007, 1011, 1011, 8945, 3683, 18820, 2213, 4191, 2125, 7387, 1005, 1055, 8874, 1997, 1037, 26277, 3820, 1010, 3038, 2045, 2003, 2053, 2107, 3066, 1998, 2082, 15239, 2015, 20361, 1999, 3500, 2031, 2042, 4991, 2000, 7025, 1998, 2496, 2125, 1012, 11884, 4584, 2623, 2048, 3134, 3283, 2008, 2027, 2018, 4930, 1037, 3066, 2007, 1996, 27256, 7404, 2177, 1012, 1996, 3066, 1010, 1996, 2231, 2056, 1010, 2443, 1996, 2713, 1997, 2062, 2084, 3263, 3057, 3005, 15071, 1999, 2258, 2012, 1037, 9405, 2082, 1999, 1996, 3842, 1005, 1055, 2167, 9860, 1996, 2088, 1012, 1999, 1037, 2678, 2207, 5095, 1010, 1996, 27256, 2177, 1005, 1055, 12536, 3003, 5045, 2125, 1037, 2186, 1997, 14920, 2015, 1012, 1000, 2123, 1005, 1056, 2017, 2113, 1996, 2058, 3263, 9610, 5092, 2243, 2082, 15239, 2015, 2031, 4991, 2000, 7025, 1029, 1000, 8273, 3676, 6673, 2016, 2912, 2226, 2056, 1012, 1000, 2027, 2031, 2085, 24443, 18425, 2048, 9159, 1997, 1996, 21288, 1012, 1000, 2016, 2912, 2226, 7549, 4311, 1997, 2037, 3740, 2713, 1012, 1000, 2057, 2496, 2068, 2125, 1012, 2027, 2024, 1999, 2037, 23143, 5014, 1010, 1000, 2002, 2056, 1010, 8057, 2989, 1012, 1996, 2177, 1005, 1055, 3003, 2036, 6380, 4209, 1996, 11265, 3995, 10711, 4263, 2007, 3183, 1996, 2231, 3555, 2009, 2499, 2041, 1037, 3066, 1010, 3038, 2002, 2515, 2025, 5050, 8945, 3683, 18820, 2213, 1012, 1000, 2057, 2097, 2025, 8622, 2032, 1998, 2097, 14574, 2032, 2065, 2057, 2131, 2032, 1010, 1000, 2002, 2056, 1997, 1996, 11265, 3995, 10711, 4263, 1012, 2009, 2347, 1005, 1056, 3154, 2043, 1996, 2678, 2001, 2081, 1012, 3505, 18168, 11124, 1010, 10669, 1997, 7387, 1005, 1055, 2120, 2592, 2803, 1010, 2409, 13229, 2006, 5095, 2008, 2035, 2122, 4447, 24528, 29201, 2216, 2081, 1999, 11450, 1999, 2029, 1996, 11884, 2231, 2038, 2042, 2920, 1012, 18168, 11124, 2056, 7387, 1005, 1055, 2231, 2097, 2079, 2673, 2825, 2000, 20410, 1996, 4447, 2081, 1999, 1996, 2678, 1012, 11884, 4584, 2777, 2007, 8945, 3683, 18820, 2213, 1999, 9796, 3807, 2076, 7566, 19872, 2011, 9796, 2937, 2343, 8909, 6935, 2015, 2139, 3762, 1010, 2429, 2000, 1996, 14895, 1012, 1996, 26277, 3066, 2623, 2255, 2459, 2628, 1037, 3204, 1997, 7776, 2007, 4505, 1997, 1996, 2177, 1010, 2056, 13222, 10722, 18569, 1010, 2019, 14895, 2000, 11884, 2343, 2204, 7630, 3600, 5655, 1012, 2044, 1996, 3066, 2001, 2623, 1010, 1996, 14895, 2056, 2345, 7776, 2006, 1996, 3057, 1005, 2713, 2052, 2022, 2949, 2012, 1037, 3116, 1037, 2733, 2101, 1999, 9796, 1012, 2008, 2154, 2979, 2302, 2151, 5751, 1997, 1996, 3057, 1012, 8945, 3683, 18820, 2213, 1037, 3652, 4119, 1999, 1996, 2678, 1010, 2016, 2912, 2226, 5720, 2025, 1997, 3521, 2021, 1997, 2062, 4808, 1011, 1011, 10015, 2062, 1000, 2162, 1010, 8478, 1998, 4288, 2007, 3282, 1012, 1000, 2023, 5656, 3544, 2000, 2022, 2652, 2041, 1999, 3033, 1997, 7387, 1010, 2073, 8945, 3683, 18820, 2213, 7299, 2031, 2506, 9252, 4491, 2006, 4731, 2750, 2231, 4447, 1997, 1037, 26277, 1012, 2062, 2111, 2031, 2042, 20361, 1998, 7644, 2730, 1999, 3522, 3134, 1010, 2164, 2028, 2886, 1037, 2154, 2044, 1996, 26277, 2008, 2187, 2809, 2757, 1012, 2420, 2101, 1010, 2372, 1997, 1996, 27256, 7404, 2177, 20361, 2012, 2560, 3438, 2402, 2308, 1998, 3057, 2013, 3017, 4731, 1999, 4794, 7387, 1010, 3901, 2056, 9432, 1012, 4600, 4273, 7299, 2187, 1015, 1010, 3156, 22525, 2050, 1010, 2030, 2055, 1002, 1023, 1010, 1998, 12849, 2721, 12264, 2004, 1037, 8959, 3976, 2005, 2169, 1997, 1996, 2308, 20361, 1010, 3901, 2056, 1012, 2005, 2049, 2112, 1010, 1996, 11884, 2231, 3475, 1005, 1056, 5150, 2091, 1012, 2738, 1010, 2009, 2003, 9085, 2039, 2049, 2510, 3049, 2114, 17671, 1998, 12290, 1999, 2070, 3033, 1997, 1996, 2225, 3060, 3842, 1010, 7387, 1005, 1055, 3639, 3757, 2056, 2006, 5095, 1012, 1996, 2510, 3555, 2049, 14369, 18886, 9681, 1998, 2598, 3136, 2031, 16360, 21148, 4491, 2114, 9272, 1999, 4205, 10830, 1998, 2141, 2080, 1010, 2048, 1997, 1996, 2163, 1999, 8763, 7387, 2008, 2031, 2042, 16995, 2015, 1998, 6976, 7889, 2005, 8945, 3683, 18820, 2213, 1012, 4584, 2024, 1000, 5702, 1000, 1996, 6745, 2678, 1010, 2130, 2004, 1996, 2510, 4247, 2000, 6807, 1996, 7566, 6461, 2012, 4632, 12228, 1996, 2713, 1997, 1996, 11364, 2082, 15239, 2015, 1010, 1996, 3757, 2056, 1012, 8945, 3683, 18820, 2213, 1010, 3005, 2171, 16315, 2000, 1000, 2530, 2495, 2003, 8254, 1000, 1999, 1996, 5292, 10383, 2653, 1010, 2003, 2667, 2000, 17607, 9384, 21146, 4360, 2375, 2408, 7387, 1010, 2029, 2003, 3975, 2090, 1037, 3484, 5152, 2167, 1998, 1037, 3262, 3017, 2148, 1012, 2066, 18301, 1010, 2009, 2038, 19509, 2005, 1037, 28034, 1010, 2030, 3412, 2110, 1012, 1996, 2177, 1005, 1055, 4491, 2031, 15767, 1999, 3522, 2086, 1999, 2019, 6835, 2265, 1997, 19674, 2005, 1996, 3842, 1005, 1055, 2510, 28644, 1012, 2049, 19509, 3711, 2000, 2031, 4423, 2000, 1996, 6215, 1997, 1996, 2231, 1012, 2004, 2112, 1997, 2049, 23939, 1010, 2009, 2038, 18897, 2816, 1010, 5231, 1998, 21922, 1010, 11364, 2308, 1998, 2336, 1998, 16370, 8801, 1998, 3412, 4177, 11455, 1012, 13229, 1005, 1055, 2003, 3270, 7367, 24322, 1010, 19344, 3393, 6873, 6499, 1010, 4828, 16336, 6216, 1042, 5358, 8569, 1010, 6754, 28516, 2884, 6806, 1998, 17810, 27356, 20224, 1011, 9706, 4887, 5201, 2000, 2023, 3189, 1012]\n"
     ]
    }
   ],
   "source": [
    "test_processed_indexes = tokeniser.convert_tokens_to_ids(test_processed_tokens)\n",
    "print(test_processed_indexes)"
   ]
  },
  {
   "cell_type": "code",
   "execution_count": 38,
   "id": "ae05fc8c-eae0-4f90-af52-2f3f302f1653",
   "metadata": {
    "tags": []
   },
   "outputs": [
    {
     "data": {
      "text/plain": [
       "512"
      ]
     },
     "execution_count": 38,
     "metadata": {},
     "output_type": "execute_result"
    }
   ],
   "source": [
    "max_input_length = tokeniser.max_model_input_sizes[selected_model]\n",
    "max_input_length"
   ]
  },
  {
   "cell_type": "code",
   "execution_count": 39,
   "id": "ca48eaf0-c10d-470d-a96f-6f6370a168af",
   "metadata": {
    "tags": []
   },
   "outputs": [
    {
     "name": "stdout",
     "output_type": "stream",
     "text": [
      "['[CLS]', '(', 'cnn', ')', '-', '-', 'bo', '##ko', 'hara', '##m', 'laughed', 'off', 'nigeria', \"'\", 's', 'announcement', 'of', 'a', 'ceasefire', 'agreement', ',', 'saying', 'there', 'is', 'no', 'such', 'deal', 'and', 'school', '##girl', '##s', 'abducted', 'in', 'spring', 'have', 'been', 'converted', 'to', 'islam', 'and', 'married', 'off', '.', 'nigerian', 'officials', 'announced', 'two', 'weeks', 'ago', 'that', 'they', 'had', 'struck', 'a', 'deal', 'with', 'the', 'islamist', 'terror', 'group', '.', 'the', 'deal', ',', 'the', 'government', 'said', ',', 'included', 'the', 'release', 'of', 'more', 'than', '200', 'girls', 'whose', 'kidnapping', 'in', 'april', 'at', 'a', 'boarding', 'school', 'in', 'the', 'nation', \"'\", 's', 'north', 'stunned', 'the', 'world', '.', 'in', 'a', 'video', 'released', 'saturday', ',', 'the', 'islamist', 'group', \"'\", 's', 'not', '##o', '[SEP]']\n"
     ]
    }
   ],
   "source": [
    "test_processed_encoded = tokeniser.encode(test_processed[:max_input_length])\n",
    "test_processed_encoded_rev = tokeniser.convert_ids_to_tokens(test_processed_encoded)\n",
    "print(test_processed_encoded_rev)"
   ]
  },
  {
   "cell_type": "code",
   "execution_count": 40,
   "id": "88a1eef7-fc37-4201-8442-93f47606da55",
   "metadata": {
    "tags": []
   },
   "outputs": [
    {
     "data": {
      "text/plain": [
       "{'input_ids': [101, 1006, 13229, 1007, 1011, 1011, 8945, 3683, 18820, 2213, 4191, 2125, 7387, 1005, 1055, 8874, 1997, 1037, 26277, 3820, 1010, 3038, 2045, 2003, 2053, 2107, 3066, 1998, 2082, 15239, 2015, 20361, 1999, 3500, 2031, 2042, 4991, 2000, 7025, 1998, 2496, 2125, 1012, 11884, 4584, 2623, 2048, 3134, 3283, 2008, 2027, 2018, 4930, 1037, 3066, 2007, 1996, 27256, 7404, 2177, 1012, 1996, 3066, 1010, 1996, 2231, 2056, 1010, 2443, 1996, 2713, 1997, 2062, 2084, 3263, 3057, 3005, 15071, 1999, 2258, 2012, 1037, 9405, 2082, 1999, 1996, 3842, 1005, 1055, 2167, 9860, 1996, 2088, 1012, 1999, 1037, 2678, 2207, 5095, 1010, 1996, 27256, 2177, 1005, 1055, 12536, 3003, 5045, 2125, 1037, 2186, 1997, 14920, 2015, 1012, 1000, 2123, 1005, 1056, 2017, 2113, 1996, 2058, 3263, 9610, 5092, 2243, 2082, 15239, 2015, 2031, 4991, 2000, 7025, 1029, 1000, 8273, 3676, 6673, 2016, 2912, 2226, 2056, 1012, 1000, 2027, 2031, 2085, 24443, 18425, 2048, 9159, 1997, 1996, 21288, 1012, 1000, 2016, 2912, 2226, 7549, 4311, 1997, 2037, 3740, 2713, 1012, 1000, 2057, 2496, 2068, 2125, 1012, 2027, 2024, 1999, 2037, 23143, 5014, 1010, 1000, 2002, 2056, 1010, 8057, 2989, 1012, 1996, 2177, 1005, 1055, 3003, 2036, 6380, 4209, 1996, 11265, 3995, 10711, 4263, 2007, 3183, 1996, 2231, 3555, 2009, 2499, 2041, 1037, 3066, 1010, 3038, 2002, 2515, 2025, 5050, 8945, 3683, 18820, 2213, 1012, 1000, 2057, 2097, 2025, 8622, 2032, 1998, 2097, 14574, 2032, 2065, 2057, 2131, 2032, 1010, 1000, 2002, 2056, 1997, 1996, 11265, 3995, 10711, 4263, 1012, 2009, 2347, 1005, 1056, 3154, 2043, 1996, 2678, 2001, 2081, 1012, 3505, 18168, 11124, 1010, 10669, 1997, 7387, 1005, 1055, 2120, 2592, 2803, 1010, 2409, 13229, 2006, 5095, 2008, 2035, 2122, 4447, 24528, 29201, 2216, 2081, 1999, 11450, 1999, 2029, 1996, 11884, 2231, 2038, 2042, 2920, 1012, 18168, 11124, 2056, 7387, 1005, 1055, 2231, 2097, 2079, 2673, 2825, 2000, 20410, 1996, 4447, 2081, 1999, 1996, 2678, 1012, 11884, 4584, 2777, 2007, 8945, 3683, 18820, 2213, 1999, 9796, 3807, 2076, 7566, 19872, 2011, 9796, 2937, 2343, 8909, 6935, 2015, 2139, 3762, 1010, 2429, 2000, 1996, 14895, 1012, 1996, 26277, 3066, 2623, 2255, 2459, 2628, 1037, 3204, 1997, 7776, 2007, 4505, 1997, 1996, 2177, 1010, 2056, 13222, 10722, 18569, 1010, 2019, 14895, 2000, 11884, 2343, 2204, 7630, 3600, 5655, 1012, 2044, 1996, 3066, 2001, 2623, 1010, 1996, 14895, 2056, 2345, 7776, 2006, 1996, 3057, 1005, 2713, 2052, 2022, 2949, 2012, 1037, 3116, 1037, 2733, 2101, 1999, 9796, 1012, 2008, 2154, 2979, 2302, 2151, 5751, 1997, 1996, 3057, 1012, 8945, 3683, 18820, 2213, 1037, 3652, 4119, 1999, 1996, 2678, 1010, 2016, 2912, 2226, 5720, 2025, 1997, 3521, 2021, 1997, 2062, 4808, 1011, 1011, 10015, 2062, 1000, 2162, 1010, 8478, 1998, 4288, 2007, 3282, 1012, 1000, 2023, 5656, 3544, 2000, 2022, 2652, 2041, 1999, 3033, 1997, 7387, 1010, 2073, 8945, 3683, 18820, 2213, 7299, 2031, 2506, 9252, 4491, 2006, 4731, 2750, 2231, 4447, 1997, 1037, 26277, 1012, 2062, 2111, 2031, 2042, 20361, 1998, 7644, 2730, 1999, 3522, 3134, 1010, 2164, 2028, 2886, 1037, 2154, 2044, 1996, 26277, 2008, 2187, 2809, 2757, 1012, 2420, 2101, 1010, 2372, 1997, 1996, 27256, 102], 'token_type_ids': [0, 0, 0, 0, 0, 0, 0, 0, 0, 0, 0, 0, 0, 0, 0, 0, 0, 0, 0, 0, 0, 0, 0, 0, 0, 0, 0, 0, 0, 0, 0, 0, 0, 0, 0, 0, 0, 0, 0, 0, 0, 0, 0, 0, 0, 0, 0, 0, 0, 0, 0, 0, 0, 0, 0, 0, 0, 0, 0, 0, 0, 0, 0, 0, 0, 0, 0, 0, 0, 0, 0, 0, 0, 0, 0, 0, 0, 0, 0, 0, 0, 0, 0, 0, 0, 0, 0, 0, 0, 0, 0, 0, 0, 0, 0, 0, 0, 0, 0, 0, 0, 0, 0, 0, 0, 0, 0, 0, 0, 0, 0, 0, 0, 0, 0, 0, 0, 0, 0, 0, 0, 0, 0, 0, 0, 0, 0, 0, 0, 0, 0, 0, 0, 0, 0, 0, 0, 0, 0, 0, 0, 0, 0, 0, 0, 0, 0, 0, 0, 0, 0, 0, 0, 0, 0, 0, 0, 0, 0, 0, 0, 0, 0, 0, 0, 0, 0, 0, 0, 0, 0, 0, 0, 0, 0, 0, 0, 0, 0, 0, 0, 0, 0, 0, 0, 0, 0, 0, 0, 0, 0, 0, 0, 0, 0, 0, 0, 0, 0, 0, 0, 0, 0, 0, 0, 0, 0, 0, 0, 0, 0, 0, 0, 0, 0, 0, 0, 0, 0, 0, 0, 0, 0, 0, 0, 0, 0, 0, 0, 0, 0, 0, 0, 0, 0, 0, 0, 0, 0, 0, 0, 0, 0, 0, 0, 0, 0, 0, 0, 0, 0, 0, 0, 0, 0, 0, 0, 0, 0, 0, 0, 0, 0, 0, 0, 0, 0, 0, 0, 0, 0, 0, 0, 0, 0, 0, 0, 0, 0, 0, 0, 0, 0, 0, 0, 0, 0, 0, 0, 0, 0, 0, 0, 0, 0, 0, 0, 0, 0, 0, 0, 0, 0, 0, 0, 0, 0, 0, 0, 0, 0, 0, 0, 0, 0, 0, 0, 0, 0, 0, 0, 0, 0, 0, 0, 0, 0, 0, 0, 0, 0, 0, 0, 0, 0, 0, 0, 0, 0, 0, 0, 0, 0, 0, 0, 0, 0, 0, 0, 0, 0, 0, 0, 0, 0, 0, 0, 0, 0, 0, 0, 0, 0, 0, 0, 0, 0, 0, 0, 0, 0, 0, 0, 0, 0, 0, 0, 0, 0, 0, 0, 0, 0, 0, 0, 0, 0, 0, 0, 0, 0, 0, 0, 0, 0, 0, 0, 0, 0, 0, 0, 0, 0, 0, 0, 0, 0, 0, 0, 0, 0, 0, 0, 0, 0, 0, 0, 0, 0, 0, 0, 0, 0, 0, 0, 0, 0, 0, 0, 0, 0, 0, 0, 0, 0, 0, 0, 0, 0, 0, 0, 0, 0, 0, 0, 0, 0, 0, 0, 0, 0, 0, 0, 0, 0, 0, 0, 0, 0, 0, 0, 0, 0, 0, 0, 0, 0, 0, 0, 0, 0, 0, 0, 0, 0, 0, 0, 0, 0, 0, 0, 0, 0, 0, 0, 0, 0, 0, 0, 0, 0, 0, 0, 0, 0, 0, 0, 0, 0, 0, 0, 0, 0, 0, 0, 0, 0, 0, 0, 0, 0, 0], 'attention_mask': [1, 1, 1, 1, 1, 1, 1, 1, 1, 1, 1, 1, 1, 1, 1, 1, 1, 1, 1, 1, 1, 1, 1, 1, 1, 1, 1, 1, 1, 1, 1, 1, 1, 1, 1, 1, 1, 1, 1, 1, 1, 1, 1, 1, 1, 1, 1, 1, 1, 1, 1, 1, 1, 1, 1, 1, 1, 1, 1, 1, 1, 1, 1, 1, 1, 1, 1, 1, 1, 1, 1, 1, 1, 1, 1, 1, 1, 1, 1, 1, 1, 1, 1, 1, 1, 1, 1, 1, 1, 1, 1, 1, 1, 1, 1, 1, 1, 1, 1, 1, 1, 1, 1, 1, 1, 1, 1, 1, 1, 1, 1, 1, 1, 1, 1, 1, 1, 1, 1, 1, 1, 1, 1, 1, 1, 1, 1, 1, 1, 1, 1, 1, 1, 1, 1, 1, 1, 1, 1, 1, 1, 1, 1, 1, 1, 1, 1, 1, 1, 1, 1, 1, 1, 1, 1, 1, 1, 1, 1, 1, 1, 1, 1, 1, 1, 1, 1, 1, 1, 1, 1, 1, 1, 1, 1, 1, 1, 1, 1, 1, 1, 1, 1, 1, 1, 1, 1, 1, 1, 1, 1, 1, 1, 1, 1, 1, 1, 1, 1, 1, 1, 1, 1, 1, 1, 1, 1, 1, 1, 1, 1, 1, 1, 1, 1, 1, 1, 1, 1, 1, 1, 1, 1, 1, 1, 1, 1, 1, 1, 1, 1, 1, 1, 1, 1, 1, 1, 1, 1, 1, 1, 1, 1, 1, 1, 1, 1, 1, 1, 1, 1, 1, 1, 1, 1, 1, 1, 1, 1, 1, 1, 1, 1, 1, 1, 1, 1, 1, 1, 1, 1, 1, 1, 1, 1, 1, 1, 1, 1, 1, 1, 1, 1, 1, 1, 1, 1, 1, 1, 1, 1, 1, 1, 1, 1, 1, 1, 1, 1, 1, 1, 1, 1, 1, 1, 1, 1, 1, 1, 1, 1, 1, 1, 1, 1, 1, 1, 1, 1, 1, 1, 1, 1, 1, 1, 1, 1, 1, 1, 1, 1, 1, 1, 1, 1, 1, 1, 1, 1, 1, 1, 1, 1, 1, 1, 1, 1, 1, 1, 1, 1, 1, 1, 1, 1, 1, 1, 1, 1, 1, 1, 1, 1, 1, 1, 1, 1, 1, 1, 1, 1, 1, 1, 1, 1, 1, 1, 1, 1, 1, 1, 1, 1, 1, 1, 1, 1, 1, 1, 1, 1, 1, 1, 1, 1, 1, 1, 1, 1, 1, 1, 1, 1, 1, 1, 1, 1, 1, 1, 1, 1, 1, 1, 1, 1, 1, 1, 1, 1, 1, 1, 1, 1, 1, 1, 1, 1, 1, 1, 1, 1, 1, 1, 1, 1, 1, 1, 1, 1, 1, 1, 1, 1, 1, 1, 1, 1, 1, 1, 1, 1, 1, 1, 1, 1, 1, 1, 1, 1, 1, 1, 1, 1, 1, 1, 1, 1, 1, 1, 1, 1, 1, 1, 1, 1, 1, 1, 1, 1, 1, 1, 1, 1, 1, 1, 1, 1, 1, 1, 1, 1, 1, 1, 1, 1, 1, 1, 1, 1, 1, 1, 1, 1, 1, 1, 1, 1, 1, 1, 1, 1, 1]}"
      ]
     },
     "execution_count": 40,
     "metadata": {},
     "output_type": "execute_result"
    }
   ],
   "source": [
    "tokeniser(test_processed, truncation=True)"
   ]
  },
  {
   "cell_type": "code",
   "execution_count": 41,
   "id": "df52a6ea-33be-4281-866a-8522c3ff87ff",
   "metadata": {
    "tags": []
   },
   "outputs": [],
   "source": [
    "test_headline = train_df.iloc[812][\"Processed Headline\"]\n",
    "test_body = train_df.iloc[812][\"Processed Body\"]"
   ]
  },
  {
   "cell_type": "code",
   "execution_count": 42,
   "id": "f5d75140-4c92-4bb6-8e62-b1a82b0b70c0",
   "metadata": {
    "tags": []
   },
   "outputs": [
    {
     "data": {
      "text/plain": [
       "'Reports: Jihadists Steal Commercial Jets, Raise 9/11 Fears'"
      ]
     },
     "execution_count": 42,
     "metadata": {},
     "output_type": "execute_result"
    }
   ],
   "source": [
    "test_headline"
   ]
  },
  {
   "cell_type": "code",
   "execution_count": 43,
   "id": "3fe34337-d33e-4205-8dae-67f5ea22f71a",
   "metadata": {
    "tags": []
   },
   "outputs": [
    {
     "data": {
      "text/plain": [
       "'(CNN) -- Boko Haram laughed off Nigeria\\'s announcement of a ceasefire agreement, saying there is no such deal and schoolgirls abducted in spring have been converted to Islam and married off. Nigerian officials announced two weeks ago that they had struck a deal with the Islamist terror group. The deal, the government said, included the release of more than 200 girls whose kidnapping in April at a boarding school in the nation\\'s north stunned the world. In a video released Saturday, the Islamist group\\'s notorious leader fired off a series of denials. \"Don\\'t you know the over 200 Chibok schoolgirls have converted to Islam?\" Abubakar Shekau said. \"They have now memorized two chapters of the Quran.\" Shekau slammed reports of their planned release. \"We married them off. They are in their marital homes,\" he said, chuckling. The group\\'s leader also denied knowing the negotiator with whom the government claimed it worked out a deal, saying he does not represent Boko Haram. \"We will not spare him and will slaughter him if we get him,\" he said of the negotiator. It wasn\\'t clear when the video was made. Mike Omeri, coordinator of Nigeria\\'s National Information Centre, told CNN on Saturday that all these claims contradict those made in conversations in which the Nigerian government has been involved. Omeri said Nigeria\\'s government will do everything possible to verify the claims made in the video. Nigerian officials met with Boko Haram in Chad twice during talks mediated by Chadian President Idriss Deby, according to the aide. The ceasefire deal announced October 17 followed a month of negotiations with representatives of the group, said Hassan Tukur, an aide to Nigerian President Goodluck Jonathan. After the deal was announced, the aide said final negotiations on the girls\\' release would be completed at a meeting a week later in Chad. That day passed without any signs of the girls. Boko Haram a growing challenge In the video, Shekau talked not of peace but of more violence -- promising more \"war, striking and killing with gun.\" This strategy appears to be playing out in parts of Nigeria, where Boko Haram fighters have continued deadly attacks on villages despite government claims of a ceasefire. More people have been abducted and scores killed in recent weeks, including one attack a day after the ceasefire that left eight dead. Days later, members of the Islamist terror group abducted at least 60 young women and girls from Christian villages in northeast Nigeria, residents said Thursday. Heavily armed fighters left 1,500 naira, or about $9, and kola nuts as a bride price for each of the women abducted, residents said. For its part, the Nigerian government isn\\'t backing down. Rather, it is stepping up its military campaign against militants and criminals in some parts of the West African nation, Nigeria\\'s defense ministry said on Saturday. The military claimed its airstrikes and ground operations have repelled attacks against civilians in Adamawa and Borno, two of the states in northeastern Nigeria that have been strongholds and frequent targets for Boko Haram. Officials are \"studying\" the latest video, even as the military continues to recognize the talks aimed at assuring the release of the kidnapped schoolgirls, the ministry said. Boko Haram, whose name translates to \"Western education is sin\" in the Hausa language, is trying to impose strict Sharia law across Nigeria, which is split between a majority Muslim north and a mostly Christian south. Like ISIS, it has ambitions for a caliphate, or religious state. The group\\'s attacks have intensified in recent years in an apparent show of defiance for the nation\\'s military onslaught. Its ambitions appear to have expanded to the destruction of the government. As part of its insurgency, it has bombed schools, churches and mosques, kidnapped women and children and assassinated politicians and religious leaders alike. CNN\\'s Isha Sesay, Lillian Leposo, Christabelle Fombu, Greg Botelho and Nana Karikari-apau contributed to this report.'"
      ]
     },
     "execution_count": 43,
     "metadata": {},
     "output_type": "execute_result"
    }
   ],
   "source": [
    "test_body"
   ]
  },
  {
   "cell_type": "code",
   "execution_count": 44,
   "id": "1918c79b-7bf7-46bc-9da8-4bbf0c0db783",
   "metadata": {
    "tags": []
   },
   "outputs": [
    {
     "name": "stderr",
     "output_type": "stream",
     "text": [
      "Be aware, overflowing tokens are not returned for the setting you have chosen, i.e. sequence pairs with the 'longest_first' truncation strategy. So the returned list will always be empty even if some tokens have been removed.\n"
     ]
    }
   ],
   "source": [
    "test_concat_ids = tokeniser(test_headline, test_body, truncation=\"longest_first\", padding=\"max_length\")[\"input_ids\"]"
   ]
  },
  {
   "cell_type": "code",
   "execution_count": 45,
   "id": "e44f8743-e7bc-4760-b33e-a95a017604ee",
   "metadata": {
    "tags": []
   },
   "outputs": [
    {
     "name": "stdout",
     "output_type": "stream",
     "text": [
      "['[CLS]', 'reports', ':', 'jihad', '##ists', 'steal', 'commercial', 'jets', ',', 'raise', '9', '/', '11', 'fears', '[SEP]', '(', 'cnn', ')', '-', '-', 'bo', '##ko', 'hara', '##m', 'laughed', 'off', 'nigeria', \"'\", 's', 'announcement', 'of', 'a', 'ceasefire', 'agreement', ',', 'saying', 'there', 'is', 'no', 'such', 'deal', 'and', 'school', '##girl', '##s', 'abducted', 'in', 'spring', 'have', 'been', 'converted', 'to', 'islam', 'and', 'married', 'off', '.', 'nigerian', 'officials', 'announced', 'two', 'weeks', 'ago', 'that', 'they', 'had', 'struck', 'a', 'deal', 'with', 'the', 'islamist', 'terror', 'group', '.', 'the', 'deal', ',', 'the', 'government', 'said', ',', 'included', 'the', 'release', 'of', 'more', 'than', '200', 'girls', 'whose', 'kidnapping', 'in', 'april', 'at', 'a', 'boarding', 'school', 'in', 'the', 'nation', \"'\", 's', 'north', 'stunned', 'the', 'world', '.', 'in', 'a', 'video', 'released', 'saturday', ',', 'the', 'islamist', 'group', \"'\", 's', 'notorious', 'leader', 'fired', 'off', 'a', 'series', 'of', 'denial', '##s', '.', '\"', 'don', \"'\", 't', 'you', 'know', 'the', 'over', '200', 'chi', '##bo', '##k', 'school', '##girl', '##s', 'have', 'converted', 'to', 'islam', '?', '\"', 'abu', '##ba', '##kar', 'she', '##ka', '##u', 'said', '.', '\"', 'they', 'have', 'now', 'memo', '##rized', 'two', 'chapters', 'of', 'the', 'quran', '.', '\"', 'she', '##ka', '##u', 'slammed', 'reports', 'of', 'their', 'planned', 'release', '.', '\"', 'we', 'married', 'them', 'off', '.', 'they', 'are', 'in', 'their', 'marital', 'homes', ',', '\"', 'he', 'said', ',', 'chuck', '##ling', '.', 'the', 'group', \"'\", 's', 'leader', 'also', 'denied', 'knowing', 'the', 'ne', '##go', '##tia', '##tor', 'with', 'whom', 'the', 'government', 'claimed', 'it', 'worked', 'out', 'a', 'deal', ',', 'saying', 'he', 'does', 'not', 'represent', 'bo', '##ko', 'hara', '##m', '.', '\"', 'we', 'will', 'not', 'spare', 'him', 'and', 'will', 'slaughter', 'him', 'if', 'we', 'get', 'him', ',', '\"', 'he', 'said', 'of', 'the', 'ne', '##go', '##tia', '##tor', '.', 'it', 'wasn', \"'\", 't', 'clear', 'when', 'the', 'video', 'was', 'made', '.', 'mike', 'om', '##eri', ',', 'coordinator', 'of', 'nigeria', \"'\", 's', 'national', 'information', 'centre', ',', 'told', 'cnn', 'on', 'saturday', 'that', 'all', 'these', 'claims', 'contra', '##dict', 'those', 'made', 'in', 'conversations', 'in', 'which', 'the', 'nigerian', 'government', 'has', 'been', 'involved', '.', 'om', '##eri', 'said', 'nigeria', \"'\", 's', 'government', 'will', 'do', 'everything', 'possible', 'to', 'verify', 'the', 'claims', 'made', 'in', 'the', 'video', '.', 'nigerian', 'officials', 'met', 'with', 'bo', '##ko', 'hara', '##m', 'in', 'chad', 'twice', 'during', 'talks', 'mediated', 'by', 'chad', '##ian', 'president', 'id', '##ris', '##s', 'de', '##by', ',', 'according', 'to', 'the', 'aide', '.', 'the', 'ceasefire', 'deal', 'announced', 'october', '17', 'followed', 'a', 'month', 'of', 'negotiations', 'with', 'representatives', 'of', 'the', 'group', ',', 'said', 'hassan', 'tu', '##kur', ',', 'an', 'aide', 'to', 'nigerian', 'president', 'good', '##lu', '##ck', 'jonathan', '.', 'after', 'the', 'deal', 'was', 'announced', ',', 'the', 'aide', 'said', 'final', 'negotiations', 'on', 'the', 'girls', \"'\", 'release', 'would', 'be', 'completed', 'at', 'a', 'meeting', 'a', 'week', 'later', 'in', 'chad', '.', 'that', 'day', 'passed', 'without', 'any', 'signs', 'of', 'the', 'girls', '.', 'bo', '##ko', 'hara', '##m', 'a', 'growing', 'challenge', 'in', 'the', 'video', ',', 'she', '##ka', '##u', 'talked', 'not', 'of', 'peace', 'but', 'of', 'more', 'violence', '-', '-', 'promising', 'more', '\"', 'war', ',', 'striking', 'and', 'killing', 'with', 'gun', '.', '\"', 'this', 'strategy', 'appears', 'to', 'be', 'playing', 'out', 'in', 'parts', 'of', 'nigeria', ',', 'where', 'bo', '##ko', 'hara', '##m', 'fighters', 'have', 'continued', 'deadly', 'attacks', 'on', 'villages', 'despite', 'government', 'claims', 'of', 'a', 'ceasefire', '.', 'more', 'people', 'have', 'been', 'abducted', 'and', 'scores', 'killed', 'in', 'recent', 'weeks', ',', 'including', 'one', 'attack', 'a', 'day', 'after', '[SEP]']\n"
     ]
    }
   ],
   "source": [
    "test_concat_tokens = tokeniser.convert_ids_to_tokens(test_concat_ids)\n",
    "print(test_concat_tokens)"
   ]
  },
  {
   "cell_type": "code",
   "execution_count": 46,
   "id": "f7ce25c8-911f-4c2a-b3c7-25b570703de4",
   "metadata": {
    "tags": []
   },
   "outputs": [],
   "source": [
    "def concated_headline_body_tokens(headline, body):\n",
    "    concated_ids = tokeniser(headline, body, truncation=\"longest_first\", padding=\"max_length\", return_tensors=\"pt\")[\"input_ids\"]\n",
    "    return concated_ids"
   ]
  },
  {
   "cell_type": "code",
   "execution_count": 47,
   "id": "7e5b7b84-9a4b-4f75-9326-71493f1d76ff",
   "metadata": {
    "tags": []
   },
   "outputs": [
    {
     "data": {
      "text/html": [
       "<div>\n",
       "<style scoped>\n",
       "    .dataframe tbody tr th:only-of-type {\n",
       "        vertical-align: middle;\n",
       "    }\n",
       "\n",
       "    .dataframe tbody tr th {\n",
       "        vertical-align: top;\n",
       "    }\n",
       "\n",
       "    .dataframe thead th {\n",
       "        text-align: right;\n",
       "    }\n",
       "</style>\n",
       "<table border=\"1\" class=\"dataframe\">\n",
       "  <thead>\n",
       "    <tr style=\"text-align: right;\">\n",
       "      <th></th>\n",
       "      <th>Headline</th>\n",
       "      <th>Stance</th>\n",
       "      <th>articleBody</th>\n",
       "      <th>Related</th>\n",
       "      <th>Processed Headline</th>\n",
       "      <th>Processed Body</th>\n",
       "    </tr>\n",
       "  </thead>\n",
       "  <tbody>\n",
       "    <tr>\n",
       "      <th>0</th>\n",
       "      <td>HBO and Apple in Talks for $15/Month Apple TV ...</td>\n",
       "      <td>unrelated</td>\n",
       "      <td>(Reuters) - A Canadian soldier was shot at the...</td>\n",
       "      <td>False</td>\n",
       "      <td>HBO and Apple in Talks for $15/Month Apple TV ...</td>\n",
       "      <td>(Reuters) - A Canadian soldier was shot at the...</td>\n",
       "    </tr>\n",
       "    <tr>\n",
       "      <th>1</th>\n",
       "      <td>ISLAMIC STATE BEHEADS MISSING AMERICAN JOURNAL...</td>\n",
       "      <td>unrelated</td>\n",
       "      <td>(Reuters) - A Canadian soldier was shot at the...</td>\n",
       "      <td>False</td>\n",
       "      <td>ISLAMIC STATE BEHEADS MISSING AMERICAN JOURNAL...</td>\n",
       "      <td>(Reuters) - A Canadian soldier was shot at the...</td>\n",
       "    </tr>\n",
       "    <tr>\n",
       "      <th>2</th>\n",
       "      <td>Elderly Woman Arrested for Kidnapping Neighbor...</td>\n",
       "      <td>unrelated</td>\n",
       "      <td>(Reuters) - A Canadian soldier was shot at the...</td>\n",
       "      <td>False</td>\n",
       "      <td>Elderly Woman Arrested for Kidnapping Neighbor...</td>\n",
       "      <td>(Reuters) - A Canadian soldier was shot at the...</td>\n",
       "    </tr>\n",
       "    <tr>\n",
       "      <th>3</th>\n",
       "      <td>Kim Jong-Un 'bans the name Kim Jong-un'</td>\n",
       "      <td>unrelated</td>\n",
       "      <td>(Reuters) - A Canadian soldier was shot at the...</td>\n",
       "      <td>False</td>\n",
       "      <td>Kim Jong-Un 'bans the name Kim Jong-un'</td>\n",
       "      <td>(Reuters) - A Canadian soldier was shot at the...</td>\n",
       "    </tr>\n",
       "    <tr>\n",
       "      <th>4</th>\n",
       "      <td>Two blokes dared to eat 20-year-old burger for...</td>\n",
       "      <td>unrelated</td>\n",
       "      <td>(Reuters) - A Canadian soldier was shot at the...</td>\n",
       "      <td>False</td>\n",
       "      <td>Two blokes dared to eat 20-year-old burger for...</td>\n",
       "      <td>(Reuters) - A Canadian soldier was shot at the...</td>\n",
       "    </tr>\n",
       "    <tr>\n",
       "      <th>...</th>\n",
       "      <td>...</td>\n",
       "      <td>...</td>\n",
       "      <td>...</td>\n",
       "      <td>...</td>\n",
       "      <td>...</td>\n",
       "      <td>...</td>\n",
       "    </tr>\n",
       "    <tr>\n",
       "      <th>39219</th>\n",
       "      <td>“Willie Nelson dead 2015” : Guitarist killed b...</td>\n",
       "      <td>agree</td>\n",
       "      <td>News of guitarist Willie Nelson’s death spread...</td>\n",
       "      <td>True</td>\n",
       "      <td>“Willie Nelson dead 2015” : Guitarist killed b...</td>\n",
       "      <td>News of guitarist Willie Nelson’s death spread...</td>\n",
       "    </tr>\n",
       "    <tr>\n",
       "      <th>39220</th>\n",
       "      <td>Elon University has not banned the term ‘fresh...</td>\n",
       "      <td>agree</td>\n",
       "      <td>ELON, N.C. – A recent rumor claims that Elon U...</td>\n",
       "      <td>True</td>\n",
       "      <td>Elon University has not banned the term ‘fresh...</td>\n",
       "      <td>ELON, N.C. – A recent rumor claims that Elon U...</td>\n",
       "    </tr>\n",
       "    <tr>\n",
       "      <th>39221</th>\n",
       "      <td>Fake BBC News website set up to carry Charlie ...</td>\n",
       "      <td>agree</td>\n",
       "      <td>A realistic-looking fake BBC News website has ...</td>\n",
       "      <td>True</td>\n",
       "      <td>Fake BBC News website set up to carry Charlie ...</td>\n",
       "      <td>A realistic-looking fake BBC News website has ...</td>\n",
       "    </tr>\n",
       "    <tr>\n",
       "      <th>39222</th>\n",
       "      <td>Apple was forced to nix key health features fr...</td>\n",
       "      <td>discuss</td>\n",
       "      <td>The health-focused smartwatch that Apple initi...</td>\n",
       "      <td>True</td>\n",
       "      <td>Apple was forced to nix key health features fr...</td>\n",
       "      <td>The health-focused smartwatch that Apple initi...</td>\n",
       "    </tr>\n",
       "    <tr>\n",
       "      <th>39223</th>\n",
       "      <td>If you want an Apple Watch, you’ll probably be...</td>\n",
       "      <td>discuss</td>\n",
       "      <td>We still don’t know the exact date the Apple W...</td>\n",
       "      <td>True</td>\n",
       "      <td>If you want an Apple Watch, you’ll probably be...</td>\n",
       "      <td>We still don’t know the exact date the Apple W...</td>\n",
       "    </tr>\n",
       "  </tbody>\n",
       "</table>\n",
       "<p>39224 rows × 6 columns</p>\n",
       "</div>"
      ],
      "text/plain": [
       "                                                Headline     Stance  \\\n",
       "0      HBO and Apple in Talks for $15/Month Apple TV ...  unrelated   \n",
       "1      ISLAMIC STATE BEHEADS MISSING AMERICAN JOURNAL...  unrelated   \n",
       "2      Elderly Woman Arrested for Kidnapping Neighbor...  unrelated   \n",
       "3                Kim Jong-Un 'bans the name Kim Jong-un'  unrelated   \n",
       "4      Two blokes dared to eat 20-year-old burger for...  unrelated   \n",
       "...                                                  ...        ...   \n",
       "39219  “Willie Nelson dead 2015” : Guitarist killed b...      agree   \n",
       "39220  Elon University has not banned the term ‘fresh...      agree   \n",
       "39221  Fake BBC News website set up to carry Charlie ...      agree   \n",
       "39222  Apple was forced to nix key health features fr...    discuss   \n",
       "39223  If you want an Apple Watch, you’ll probably be...    discuss   \n",
       "\n",
       "                                             articleBody  Related  \\\n",
       "0      (Reuters) - A Canadian soldier was shot at the...    False   \n",
       "1      (Reuters) - A Canadian soldier was shot at the...    False   \n",
       "2      (Reuters) - A Canadian soldier was shot at the...    False   \n",
       "3      (Reuters) - A Canadian soldier was shot at the...    False   \n",
       "4      (Reuters) - A Canadian soldier was shot at the...    False   \n",
       "...                                                  ...      ...   \n",
       "39219  News of guitarist Willie Nelson’s death spread...     True   \n",
       "39220  ELON, N.C. – A recent rumor claims that Elon U...     True   \n",
       "39221  A realistic-looking fake BBC News website has ...     True   \n",
       "39222  The health-focused smartwatch that Apple initi...     True   \n",
       "39223  We still don’t know the exact date the Apple W...     True   \n",
       "\n",
       "                                      Processed Headline  \\\n",
       "0      HBO and Apple in Talks for $15/Month Apple TV ...   \n",
       "1      ISLAMIC STATE BEHEADS MISSING AMERICAN JOURNAL...   \n",
       "2      Elderly Woman Arrested for Kidnapping Neighbor...   \n",
       "3                Kim Jong-Un 'bans the name Kim Jong-un'   \n",
       "4      Two blokes dared to eat 20-year-old burger for...   \n",
       "...                                                  ...   \n",
       "39219  “Willie Nelson dead 2015” : Guitarist killed b...   \n",
       "39220  Elon University has not banned the term ‘fresh...   \n",
       "39221  Fake BBC News website set up to carry Charlie ...   \n",
       "39222  Apple was forced to nix key health features fr...   \n",
       "39223  If you want an Apple Watch, you’ll probably be...   \n",
       "\n",
       "                                          Processed Body  \n",
       "0      (Reuters) - A Canadian soldier was shot at the...  \n",
       "1      (Reuters) - A Canadian soldier was shot at the...  \n",
       "2      (Reuters) - A Canadian soldier was shot at the...  \n",
       "3      (Reuters) - A Canadian soldier was shot at the...  \n",
       "4      (Reuters) - A Canadian soldier was shot at the...  \n",
       "...                                                  ...  \n",
       "39219  News of guitarist Willie Nelson’s death spread...  \n",
       "39220  ELON, N.C. – A recent rumor claims that Elon U...  \n",
       "39221  A realistic-looking fake BBC News website has ...  \n",
       "39222  The health-focused smartwatch that Apple initi...  \n",
       "39223  We still don’t know the exact date the Apple W...  \n",
       "\n",
       "[39224 rows x 6 columns]"
      ]
     },
     "execution_count": 47,
     "metadata": {},
     "output_type": "execute_result"
    }
   ],
   "source": [
    "train_df"
   ]
  },
  {
   "cell_type": "code",
   "execution_count": 48,
   "id": "d3a75549-35b7-4f30-8f51-5171a4826ac2",
   "metadata": {
    "tags": []
   },
   "outputs": [
    {
     "data": {
      "text/html": [
       "<div>\n",
       "<style scoped>\n",
       "    .dataframe tbody tr th:only-of-type {\n",
       "        vertical-align: middle;\n",
       "    }\n",
       "\n",
       "    .dataframe tbody tr th {\n",
       "        vertical-align: top;\n",
       "    }\n",
       "\n",
       "    .dataframe thead th {\n",
       "        text-align: right;\n",
       "    }\n",
       "</style>\n",
       "<table border=\"1\" class=\"dataframe\">\n",
       "  <thead>\n",
       "    <tr style=\"text-align: right;\">\n",
       "      <th></th>\n",
       "      <th>Headline</th>\n",
       "      <th>Stance</th>\n",
       "      <th>articleBody</th>\n",
       "      <th>Related</th>\n",
       "      <th>Processed Headline</th>\n",
       "      <th>Processed Body</th>\n",
       "    </tr>\n",
       "  </thead>\n",
       "  <tbody>\n",
       "    <tr>\n",
       "      <th>0</th>\n",
       "      <td>HBO and Apple in Talks for $15/Month Apple TV ...</td>\n",
       "      <td>unrelated</td>\n",
       "      <td>(Reuters) - A Canadian soldier was shot at the...</td>\n",
       "      <td>False</td>\n",
       "      <td>HBO and Apple in Talks for $15/Month Apple TV ...</td>\n",
       "      <td>(Reuters) - A Canadian soldier was shot at the...</td>\n",
       "    </tr>\n",
       "    <tr>\n",
       "      <th>1</th>\n",
       "      <td>ISLAMIC STATE BEHEADS MISSING AMERICAN JOURNAL...</td>\n",
       "      <td>unrelated</td>\n",
       "      <td>(Reuters) - A Canadian soldier was shot at the...</td>\n",
       "      <td>False</td>\n",
       "      <td>ISLAMIC STATE BEHEADS MISSING AMERICAN JOURNAL...</td>\n",
       "      <td>(Reuters) - A Canadian soldier was shot at the...</td>\n",
       "    </tr>\n",
       "    <tr>\n",
       "      <th>2</th>\n",
       "      <td>Elderly Woman Arrested for Kidnapping Neighbor...</td>\n",
       "      <td>unrelated</td>\n",
       "      <td>(Reuters) - A Canadian soldier was shot at the...</td>\n",
       "      <td>False</td>\n",
       "      <td>Elderly Woman Arrested for Kidnapping Neighbor...</td>\n",
       "      <td>(Reuters) - A Canadian soldier was shot at the...</td>\n",
       "    </tr>\n",
       "    <tr>\n",
       "      <th>3</th>\n",
       "      <td>Kim Jong-Un 'bans the name Kim Jong-un'</td>\n",
       "      <td>unrelated</td>\n",
       "      <td>(Reuters) - A Canadian soldier was shot at the...</td>\n",
       "      <td>False</td>\n",
       "      <td>Kim Jong-Un 'bans the name Kim Jong-un'</td>\n",
       "      <td>(Reuters) - A Canadian soldier was shot at the...</td>\n",
       "    </tr>\n",
       "    <tr>\n",
       "      <th>4</th>\n",
       "      <td>Two blokes dared to eat 20-year-old burger for...</td>\n",
       "      <td>unrelated</td>\n",
       "      <td>(Reuters) - A Canadian soldier was shot at the...</td>\n",
       "      <td>False</td>\n",
       "      <td>Two blokes dared to eat 20-year-old burger for...</td>\n",
       "      <td>(Reuters) - A Canadian soldier was shot at the...</td>\n",
       "    </tr>\n",
       "    <tr>\n",
       "      <th>...</th>\n",
       "      <td>...</td>\n",
       "      <td>...</td>\n",
       "      <td>...</td>\n",
       "      <td>...</td>\n",
       "      <td>...</td>\n",
       "      <td>...</td>\n",
       "    </tr>\n",
       "    <tr>\n",
       "      <th>39219</th>\n",
       "      <td>“Willie Nelson dead 2015” : Guitarist killed b...</td>\n",
       "      <td>agree</td>\n",
       "      <td>News of guitarist Willie Nelson’s death spread...</td>\n",
       "      <td>True</td>\n",
       "      <td>“Willie Nelson dead 2015” : Guitarist killed b...</td>\n",
       "      <td>News of guitarist Willie Nelson’s death spread...</td>\n",
       "    </tr>\n",
       "    <tr>\n",
       "      <th>39220</th>\n",
       "      <td>Elon University has not banned the term ‘fresh...</td>\n",
       "      <td>agree</td>\n",
       "      <td>ELON, N.C. – A recent rumor claims that Elon U...</td>\n",
       "      <td>True</td>\n",
       "      <td>Elon University has not banned the term ‘fresh...</td>\n",
       "      <td>ELON, N.C. – A recent rumor claims that Elon U...</td>\n",
       "    </tr>\n",
       "    <tr>\n",
       "      <th>39221</th>\n",
       "      <td>Fake BBC News website set up to carry Charlie ...</td>\n",
       "      <td>agree</td>\n",
       "      <td>A realistic-looking fake BBC News website has ...</td>\n",
       "      <td>True</td>\n",
       "      <td>Fake BBC News website set up to carry Charlie ...</td>\n",
       "      <td>A realistic-looking fake BBC News website has ...</td>\n",
       "    </tr>\n",
       "    <tr>\n",
       "      <th>39222</th>\n",
       "      <td>Apple was forced to nix key health features fr...</td>\n",
       "      <td>discuss</td>\n",
       "      <td>The health-focused smartwatch that Apple initi...</td>\n",
       "      <td>True</td>\n",
       "      <td>Apple was forced to nix key health features fr...</td>\n",
       "      <td>The health-focused smartwatch that Apple initi...</td>\n",
       "    </tr>\n",
       "    <tr>\n",
       "      <th>39223</th>\n",
       "      <td>If you want an Apple Watch, you’ll probably be...</td>\n",
       "      <td>discuss</td>\n",
       "      <td>We still don’t know the exact date the Apple W...</td>\n",
       "      <td>True</td>\n",
       "      <td>If you want an Apple Watch, you’ll probably be...</td>\n",
       "      <td>We still don’t know the exact date the Apple W...</td>\n",
       "    </tr>\n",
       "  </tbody>\n",
       "</table>\n",
       "<p>39224 rows × 6 columns</p>\n",
       "</div>"
      ],
      "text/plain": [
       "                                                Headline     Stance  \\\n",
       "0      HBO and Apple in Talks for $15/Month Apple TV ...  unrelated   \n",
       "1      ISLAMIC STATE BEHEADS MISSING AMERICAN JOURNAL...  unrelated   \n",
       "2      Elderly Woman Arrested for Kidnapping Neighbor...  unrelated   \n",
       "3                Kim Jong-Un 'bans the name Kim Jong-un'  unrelated   \n",
       "4      Two blokes dared to eat 20-year-old burger for...  unrelated   \n",
       "...                                                  ...        ...   \n",
       "39219  “Willie Nelson dead 2015” : Guitarist killed b...      agree   \n",
       "39220  Elon University has not banned the term ‘fresh...      agree   \n",
       "39221  Fake BBC News website set up to carry Charlie ...      agree   \n",
       "39222  Apple was forced to nix key health features fr...    discuss   \n",
       "39223  If you want an Apple Watch, you’ll probably be...    discuss   \n",
       "\n",
       "                                             articleBody  Related  \\\n",
       "0      (Reuters) - A Canadian soldier was shot at the...    False   \n",
       "1      (Reuters) - A Canadian soldier was shot at the...    False   \n",
       "2      (Reuters) - A Canadian soldier was shot at the...    False   \n",
       "3      (Reuters) - A Canadian soldier was shot at the...    False   \n",
       "4      (Reuters) - A Canadian soldier was shot at the...    False   \n",
       "...                                                  ...      ...   \n",
       "39219  News of guitarist Willie Nelson’s death spread...     True   \n",
       "39220  ELON, N.C. – A recent rumor claims that Elon U...     True   \n",
       "39221  A realistic-looking fake BBC News website has ...     True   \n",
       "39222  The health-focused smartwatch that Apple initi...     True   \n",
       "39223  We still don’t know the exact date the Apple W...     True   \n",
       "\n",
       "                                      Processed Headline  \\\n",
       "0      HBO and Apple in Talks for $15/Month Apple TV ...   \n",
       "1      ISLAMIC STATE BEHEADS MISSING AMERICAN JOURNAL...   \n",
       "2      Elderly Woman Arrested for Kidnapping Neighbor...   \n",
       "3                Kim Jong-Un 'bans the name Kim Jong-un'   \n",
       "4      Two blokes dared to eat 20-year-old burger for...   \n",
       "...                                                  ...   \n",
       "39219  “Willie Nelson dead 2015” : Guitarist killed b...   \n",
       "39220  Elon University has not banned the term ‘fresh...   \n",
       "39221  Fake BBC News website set up to carry Charlie ...   \n",
       "39222  Apple was forced to nix key health features fr...   \n",
       "39223  If you want an Apple Watch, you’ll probably be...   \n",
       "\n",
       "                                          Processed Body  \n",
       "0      (Reuters) - A Canadian soldier was shot at the...  \n",
       "1      (Reuters) - A Canadian soldier was shot at the...  \n",
       "2      (Reuters) - A Canadian soldier was shot at the...  \n",
       "3      (Reuters) - A Canadian soldier was shot at the...  \n",
       "4      (Reuters) - A Canadian soldier was shot at the...  \n",
       "...                                                  ...  \n",
       "39219  News of guitarist Willie Nelson’s death spread...  \n",
       "39220  ELON, N.C. – A recent rumor claims that Elon U...  \n",
       "39221  A realistic-looking fake BBC News website has ...  \n",
       "39222  The health-focused smartwatch that Apple initi...  \n",
       "39223  We still don’t know the exact date the Apple W...  \n",
       "\n",
       "[39224 rows x 6 columns]"
      ]
     },
     "execution_count": 48,
     "metadata": {},
     "output_type": "execute_result"
    }
   ],
   "source": [
    "train_df"
   ]
  },
  {
   "cell_type": "code",
   "execution_count": 49,
   "id": "4edc62c0-6f0a-451c-bc9a-542c3a2e2344",
   "metadata": {
    "tags": []
   },
   "outputs": [
    {
     "data": {
      "application/vnd.jupyter.widget-view+json": {
       "model_id": "80349fe508884cf0a0e92ad6dc4168cb",
       "version_major": 2,
       "version_minor": 0
      },
      "text/plain": [
       "  0%|          | 0/39224 [00:00<?, ?it/s]"
      ]
     },
     "metadata": {},
     "output_type": "display_data"
    }
   ],
   "source": [
    "transformers.logging.set_verbosity_error()\n",
    "train_df[\"Transformer Input\"] = train_df.progress_apply(lambda row: concated_headline_body_tokens(row[\"Processed Headline\"], row[\"Processed Body\"]), axis=1)\n",
    "transformers.logging.set_verbosity_warning()"
   ]
  },
  {
   "cell_type": "code",
   "execution_count": 50,
   "id": "90e2b8b8-f3d6-4b96-b36c-44113482d264",
   "metadata": {},
   "outputs": [
    {
     "data": {
      "text/html": [
       "<div>\n",
       "<style scoped>\n",
       "    .dataframe tbody tr th:only-of-type {\n",
       "        vertical-align: middle;\n",
       "    }\n",
       "\n",
       "    .dataframe tbody tr th {\n",
       "        vertical-align: top;\n",
       "    }\n",
       "\n",
       "    .dataframe thead th {\n",
       "        text-align: right;\n",
       "    }\n",
       "</style>\n",
       "<table border=\"1\" class=\"dataframe\">\n",
       "  <thead>\n",
       "    <tr style=\"text-align: right;\">\n",
       "      <th></th>\n",
       "      <th>Headline</th>\n",
       "      <th>Stance</th>\n",
       "      <th>articleBody</th>\n",
       "      <th>Related</th>\n",
       "      <th>Processed Headline</th>\n",
       "      <th>Processed Body</th>\n",
       "      <th>Transformer Input</th>\n",
       "    </tr>\n",
       "  </thead>\n",
       "  <tbody>\n",
       "    <tr>\n",
       "      <th>0</th>\n",
       "      <td>HBO and Apple in Talks for $15/Month Apple TV ...</td>\n",
       "      <td>unrelated</td>\n",
       "      <td>(Reuters) - A Canadian soldier was shot at the...</td>\n",
       "      <td>False</td>\n",
       "      <td>HBO and Apple in Talks for $15/Month Apple TV ...</td>\n",
       "      <td>(Reuters) - A Canadian soldier was shot at the...</td>\n",
       "      <td>[[tensor(101), tensor(14633), tensor(1998), te...</td>\n",
       "    </tr>\n",
       "    <tr>\n",
       "      <th>1</th>\n",
       "      <td>ISLAMIC STATE BEHEADS MISSING AMERICAN JOURNAL...</td>\n",
       "      <td>unrelated</td>\n",
       "      <td>(Reuters) - A Canadian soldier was shot at the...</td>\n",
       "      <td>False</td>\n",
       "      <td>ISLAMIC STATE BEHEADS MISSING AMERICAN JOURNAL...</td>\n",
       "      <td>(Reuters) - A Canadian soldier was shot at the...</td>\n",
       "      <td>[[tensor(101), tensor(5499), tensor(2110), ten...</td>\n",
       "    </tr>\n",
       "    <tr>\n",
       "      <th>2</th>\n",
       "      <td>Elderly Woman Arrested for Kidnapping Neighbor...</td>\n",
       "      <td>unrelated</td>\n",
       "      <td>(Reuters) - A Canadian soldier was shot at the...</td>\n",
       "      <td>False</td>\n",
       "      <td>Elderly Woman Arrested for Kidnapping Neighbor...</td>\n",
       "      <td>(Reuters) - A Canadian soldier was shot at the...</td>\n",
       "      <td>[[tensor(101), tensor(9750), tensor(2450), ten...</td>\n",
       "    </tr>\n",
       "    <tr>\n",
       "      <th>3</th>\n",
       "      <td>Kim Jong-Un 'bans the name Kim Jong-un'</td>\n",
       "      <td>unrelated</td>\n",
       "      <td>(Reuters) - A Canadian soldier was shot at the...</td>\n",
       "      <td>False</td>\n",
       "      <td>Kim Jong-Un 'bans the name Kim Jong-un'</td>\n",
       "      <td>(Reuters) - A Canadian soldier was shot at the...</td>\n",
       "      <td>[[tensor(101), tensor(5035), tensor(18528), te...</td>\n",
       "    </tr>\n",
       "    <tr>\n",
       "      <th>4</th>\n",
       "      <td>Two blokes dared to eat 20-year-old burger for...</td>\n",
       "      <td>unrelated</td>\n",
       "      <td>(Reuters) - A Canadian soldier was shot at the...</td>\n",
       "      <td>False</td>\n",
       "      <td>Two blokes dared to eat 20-year-old burger for...</td>\n",
       "      <td>(Reuters) - A Canadian soldier was shot at the...</td>\n",
       "      <td>[[tensor(101), tensor(2048), tensor(1038), ten...</td>\n",
       "    </tr>\n",
       "    <tr>\n",
       "      <th>...</th>\n",
       "      <td>...</td>\n",
       "      <td>...</td>\n",
       "      <td>...</td>\n",
       "      <td>...</td>\n",
       "      <td>...</td>\n",
       "      <td>...</td>\n",
       "      <td>...</td>\n",
       "    </tr>\n",
       "    <tr>\n",
       "      <th>39219</th>\n",
       "      <td>“Willie Nelson dead 2015” : Guitarist killed b...</td>\n",
       "      <td>agree</td>\n",
       "      <td>News of guitarist Willie Nelson’s death spread...</td>\n",
       "      <td>True</td>\n",
       "      <td>“Willie Nelson dead 2015” : Guitarist killed b...</td>\n",
       "      <td>News of guitarist Willie Nelson’s death spread...</td>\n",
       "      <td>[[tensor(101), tensor(1523), tensor(9893), ten...</td>\n",
       "    </tr>\n",
       "    <tr>\n",
       "      <th>39220</th>\n",
       "      <td>Elon University has not banned the term ‘fresh...</td>\n",
       "      <td>agree</td>\n",
       "      <td>ELON, N.C. – A recent rumor claims that Elon U...</td>\n",
       "      <td>True</td>\n",
       "      <td>Elon University has not banned the term ‘fresh...</td>\n",
       "      <td>ELON, N.C. – A recent rumor claims that Elon U...</td>\n",
       "      <td>[[tensor(101), tensor(3449), tensor(2239), ten...</td>\n",
       "    </tr>\n",
       "    <tr>\n",
       "      <th>39221</th>\n",
       "      <td>Fake BBC News website set up to carry Charlie ...</td>\n",
       "      <td>agree</td>\n",
       "      <td>A realistic-looking fake BBC News website has ...</td>\n",
       "      <td>True</td>\n",
       "      <td>Fake BBC News website set up to carry Charlie ...</td>\n",
       "      <td>A realistic-looking fake BBC News website has ...</td>\n",
       "      <td>[[tensor(101), tensor(8275), tensor(4035), ten...</td>\n",
       "    </tr>\n",
       "    <tr>\n",
       "      <th>39222</th>\n",
       "      <td>Apple was forced to nix key health features fr...</td>\n",
       "      <td>discuss</td>\n",
       "      <td>The health-focused smartwatch that Apple initi...</td>\n",
       "      <td>True</td>\n",
       "      <td>Apple was forced to nix key health features fr...</td>\n",
       "      <td>The health-focused smartwatch that Apple initi...</td>\n",
       "      <td>[[tensor(101), tensor(6207), tensor(2001), ten...</td>\n",
       "    </tr>\n",
       "    <tr>\n",
       "      <th>39223</th>\n",
       "      <td>If you want an Apple Watch, you’ll probably be...</td>\n",
       "      <td>discuss</td>\n",
       "      <td>We still don’t know the exact date the Apple W...</td>\n",
       "      <td>True</td>\n",
       "      <td>If you want an Apple Watch, you’ll probably be...</td>\n",
       "      <td>We still don’t know the exact date the Apple W...</td>\n",
       "      <td>[[tensor(101), tensor(2065), tensor(2017), ten...</td>\n",
       "    </tr>\n",
       "  </tbody>\n",
       "</table>\n",
       "<p>39224 rows × 7 columns</p>\n",
       "</div>"
      ],
      "text/plain": [
       "                                                Headline     Stance  \\\n",
       "0      HBO and Apple in Talks for $15/Month Apple TV ...  unrelated   \n",
       "1      ISLAMIC STATE BEHEADS MISSING AMERICAN JOURNAL...  unrelated   \n",
       "2      Elderly Woman Arrested for Kidnapping Neighbor...  unrelated   \n",
       "3                Kim Jong-Un 'bans the name Kim Jong-un'  unrelated   \n",
       "4      Two blokes dared to eat 20-year-old burger for...  unrelated   \n",
       "...                                                  ...        ...   \n",
       "39219  “Willie Nelson dead 2015” : Guitarist killed b...      agree   \n",
       "39220  Elon University has not banned the term ‘fresh...      agree   \n",
       "39221  Fake BBC News website set up to carry Charlie ...      agree   \n",
       "39222  Apple was forced to nix key health features fr...    discuss   \n",
       "39223  If you want an Apple Watch, you’ll probably be...    discuss   \n",
       "\n",
       "                                             articleBody  Related  \\\n",
       "0      (Reuters) - A Canadian soldier was shot at the...    False   \n",
       "1      (Reuters) - A Canadian soldier was shot at the...    False   \n",
       "2      (Reuters) - A Canadian soldier was shot at the...    False   \n",
       "3      (Reuters) - A Canadian soldier was shot at the...    False   \n",
       "4      (Reuters) - A Canadian soldier was shot at the...    False   \n",
       "...                                                  ...      ...   \n",
       "39219  News of guitarist Willie Nelson’s death spread...     True   \n",
       "39220  ELON, N.C. – A recent rumor claims that Elon U...     True   \n",
       "39221  A realistic-looking fake BBC News website has ...     True   \n",
       "39222  The health-focused smartwatch that Apple initi...     True   \n",
       "39223  We still don’t know the exact date the Apple W...     True   \n",
       "\n",
       "                                      Processed Headline  \\\n",
       "0      HBO and Apple in Talks for $15/Month Apple TV ...   \n",
       "1      ISLAMIC STATE BEHEADS MISSING AMERICAN JOURNAL...   \n",
       "2      Elderly Woman Arrested for Kidnapping Neighbor...   \n",
       "3                Kim Jong-Un 'bans the name Kim Jong-un'   \n",
       "4      Two blokes dared to eat 20-year-old burger for...   \n",
       "...                                                  ...   \n",
       "39219  “Willie Nelson dead 2015” : Guitarist killed b...   \n",
       "39220  Elon University has not banned the term ‘fresh...   \n",
       "39221  Fake BBC News website set up to carry Charlie ...   \n",
       "39222  Apple was forced to nix key health features fr...   \n",
       "39223  If you want an Apple Watch, you’ll probably be...   \n",
       "\n",
       "                                          Processed Body  \\\n",
       "0      (Reuters) - A Canadian soldier was shot at the...   \n",
       "1      (Reuters) - A Canadian soldier was shot at the...   \n",
       "2      (Reuters) - A Canadian soldier was shot at the...   \n",
       "3      (Reuters) - A Canadian soldier was shot at the...   \n",
       "4      (Reuters) - A Canadian soldier was shot at the...   \n",
       "...                                                  ...   \n",
       "39219  News of guitarist Willie Nelson’s death spread...   \n",
       "39220  ELON, N.C. – A recent rumor claims that Elon U...   \n",
       "39221  A realistic-looking fake BBC News website has ...   \n",
       "39222  The health-focused smartwatch that Apple initi...   \n",
       "39223  We still don’t know the exact date the Apple W...   \n",
       "\n",
       "                                       Transformer Input  \n",
       "0      [[tensor(101), tensor(14633), tensor(1998), te...  \n",
       "1      [[tensor(101), tensor(5499), tensor(2110), ten...  \n",
       "2      [[tensor(101), tensor(9750), tensor(2450), ten...  \n",
       "3      [[tensor(101), tensor(5035), tensor(18528), te...  \n",
       "4      [[tensor(101), tensor(2048), tensor(1038), ten...  \n",
       "...                                                  ...  \n",
       "39219  [[tensor(101), tensor(1523), tensor(9893), ten...  \n",
       "39220  [[tensor(101), tensor(3449), tensor(2239), ten...  \n",
       "39221  [[tensor(101), tensor(8275), tensor(4035), ten...  \n",
       "39222  [[tensor(101), tensor(6207), tensor(2001), ten...  \n",
       "39223  [[tensor(101), tensor(2065), tensor(2017), ten...  \n",
       "\n",
       "[39224 rows x 7 columns]"
      ]
     },
     "execution_count": 50,
     "metadata": {},
     "output_type": "execute_result"
    }
   ],
   "source": [
    "train_df"
   ]
  },
  {
   "cell_type": "code",
   "execution_count": 51,
   "id": "75e76fac-d344-4803-9b43-8dd023c3f44e",
   "metadata": {
    "tags": []
   },
   "outputs": [
    {
     "data": {
      "application/vnd.jupyter.widget-view+json": {
       "model_id": "730ecb000ef34c6bbcaf81a962da4e1a",
       "version_major": 2,
       "version_minor": 0
      },
      "text/plain": [
       "  0%|          | 0/10748 [00:00<?, ?it/s]"
      ]
     },
     "metadata": {},
     "output_type": "display_data"
    }
   ],
   "source": [
    "transformers.logging.set_verbosity_error()\n",
    "val_df[\"Transformer Input\"] = val_df.progress_apply(lambda row: concated_headline_body_tokens(row[\"Processed Headline\"], row[\"Processed Body\"]), axis=1)\n",
    "transformers.logging.set_verbosity_warning()"
   ]
  },
  {
   "cell_type": "code",
   "execution_count": 52,
   "id": "75eb4b1a-9b29-4dad-a917-c51ddcfb86b0",
   "metadata": {
    "tags": []
   },
   "outputs": [
    {
     "name": "stderr",
     "output_type": "stream",
     "text": [
      "Some weights of the model checkpoint at bert-base-uncased were not used when initializing BertModel: ['cls.predictions.decoder.weight', 'cls.predictions.transform.dense.weight', 'cls.predictions.transform.dense.bias', 'cls.predictions.bias', 'cls.predictions.transform.LayerNorm.bias', 'cls.predictions.transform.LayerNorm.weight', 'cls.seq_relationship.bias', 'cls.seq_relationship.weight']\n",
      "- This IS expected if you are initializing BertModel from the checkpoint of a model trained on another task or with another architecture (e.g. initializing a BertForSequenceClassification model from a BertForPreTraining model).\n",
      "- This IS NOT expected if you are initializing BertModel from the checkpoint of a model that you expect to be exactly identical (initializing a BertForSequenceClassification model from a BertForSequenceClassification model).\n"
     ]
    }
   ],
   "source": [
    "bert = BertModel.from_pretrained(selected_model)\n",
    "bert = bert.to(device)"
   ]
  },
  {
   "cell_type": "code",
   "execution_count": 53,
   "id": "f53e9dde-e4a4-4c66-9aeb-ea72af4f77d0",
   "metadata": {
    "tags": []
   },
   "outputs": [
    {
     "data": {
      "text/plain": [
       "torch.Size([1, 512])"
      ]
     },
     "execution_count": 53,
     "metadata": {},
     "output_type": "execute_result"
    }
   ],
   "source": [
    "test_row = train_df.iloc[812]\n",
    "test_row_tokens = test_row[\"Transformer Input\"].to(device)\n",
    "test_row_tokens.shape"
   ]
  },
  {
   "cell_type": "code",
   "execution_count": 54,
   "id": "a97f2b32-58ad-4010-b7ad-9b442ca59dfe",
   "metadata": {
    "tags": []
   },
   "outputs": [],
   "source": [
    "bert_embedded_test = bert(test_row_tokens)[0]"
   ]
  },
  {
   "cell_type": "code",
   "execution_count": 55,
   "id": "1b9a0333-785d-4120-bd18-900f1af31e1b",
   "metadata": {
    "tags": []
   },
   "outputs": [
    {
     "data": {
      "text/plain": [
       "torch.Size([1, 512, 768])"
      ]
     },
     "execution_count": 55,
     "metadata": {},
     "output_type": "execute_result"
    }
   ],
   "source": [
    "bert_embedded_test.shape\n",
    "# So the CLS token output is at [i][0] for input i"
   ]
  },
  {
   "cell_type": "code",
   "execution_count": 56,
   "id": "180ee51e-d4c4-4bda-b6e0-bb9b52b3c9fc",
   "metadata": {
    "tags": []
   },
   "outputs": [
    {
     "data": {
      "text/plain": [
       "torch.Size([39224, 1])"
      ]
     },
     "execution_count": 56,
     "metadata": {},
     "output_type": "execute_result"
    }
   ],
   "source": [
    "m = lambda x: x #-1 if x == 0 else 1\n",
    "train_labels = np.array([m(x) for x in train_df[\"Related\"].values.astype(int)])# [:, np.newaxis]\n",
    "train_labels_tensor = torch.LongTensor(train_labels).unsqueeze(1)\n",
    "train_labels_tensor.shape"
   ]
  },
  {
   "cell_type": "code",
   "execution_count": 57,
   "id": "738e0479-e306-4383-9ca5-9243a302eae0",
   "metadata": {
    "tags": []
   },
   "outputs": [
    {
     "data": {
      "text/plain": [
       "torch.Size([10748, 1])"
      ]
     },
     "execution_count": 57,
     "metadata": {},
     "output_type": "execute_result"
    }
   ],
   "source": [
    "val_labels = np.array([m(x) for x in val_df[\"Related\"].values.astype(int)])# [:, np.newaxis]\n",
    "val_labels_tensor = torch.LongTensor(val_labels).unsqueeze(1)\n",
    "val_labels_tensor.shape"
   ]
  },
  {
   "cell_type": "code",
   "execution_count": 58,
   "id": "dc80042e-de75-40d9-987a-84cedc220b09",
   "metadata": {
    "tags": []
   },
   "outputs": [],
   "source": [
    "train_transformer_token_ids = torch.concat(list(train_df[\"Transformer Input\"].values))"
   ]
  },
  {
   "cell_type": "code",
   "execution_count": 59,
   "id": "0aada534-c7dc-4b59-b9c1-58a6a58f7ad2",
   "metadata": {
    "tags": []
   },
   "outputs": [
    {
     "data": {
      "text/plain": [
       "torch.Size([39224, 512])"
      ]
     },
     "execution_count": 59,
     "metadata": {},
     "output_type": "execute_result"
    }
   ],
   "source": [
    "train_transformer_token_ids.shape"
   ]
  },
  {
   "cell_type": "code",
   "execution_count": 60,
   "id": "3da16750-14aa-4f7d-ac7b-9ac6f238d071",
   "metadata": {
    "tags": []
   },
   "outputs": [],
   "source": [
    "val_transformer_token_ids = torch.concat(list(val_df[\"Transformer Input\"].values))"
   ]
  },
  {
   "cell_type": "code",
   "execution_count": 61,
   "id": "ce5c487b-28e3-4a75-9b7d-715326001a3f",
   "metadata": {
    "tags": []
   },
   "outputs": [],
   "source": [
    "batch_size = 32\n",
    "apply_loss_weighting = False"
   ]
  },
  {
   "cell_type": "code",
   "execution_count": 62,
   "id": "89a33aba-f73f-4cd6-845e-83a533db80bd",
   "metadata": {
    "tags": []
   },
   "outputs": [],
   "source": [
    "train_dataset = torch.utils.data.TensorDataset(train_transformer_token_ids, train_labels_tensor)\n",
    "train_dataloader_enc = torch.utils.data.DataLoader(train_dataset, batch_size=batch_size, shuffle=False)\n",
    "train_dataloader = torch.utils.data.DataLoader(train_dataset, batch_size=batch_size, shuffle=True)"
   ]
  },
  {
   "cell_type": "code",
   "execution_count": 63,
   "id": "64d206c8-93b9-4af8-9dc6-555e39d552df",
   "metadata": {
    "tags": []
   },
   "outputs": [
    {
     "data": {
      "text/plain": [
       "tensor([0.6868, 1.8386], dtype=torch.float64)"
      ]
     },
     "execution_count": 63,
     "metadata": {},
     "output_type": "execute_result"
    }
   ],
   "source": [
    "unique_class_labels = np.unique(train_labels)\n",
    "class_weights = compute_class_weight(\"balanced\", classes=unique_class_labels, y=train_labels)\n",
    "class_weights = torch.from_numpy(class_weights)\n",
    "class_weights"
   ]
  },
  {
   "cell_type": "code",
   "execution_count": 64,
   "id": "5ccf6958-e31e-4b71-9e6a-fd4c63da75bf",
   "metadata": {
    "tags": []
   },
   "outputs": [],
   "source": [
    "val_dataset = torch.utils.data.TensorDataset(val_transformer_token_ids, val_labels_tensor)\n",
    "val_dataloader = torch.utils.data.DataLoader(val_dataset, batch_size=batch_size, shuffle=False)"
   ]
  },
  {
   "cell_type": "markdown",
   "id": "fab061fb-7371-4d38-90a9-c6d39f52917a",
   "metadata": {
    "tags": []
   },
   "source": [
    "# Standard ML Models"
   ]
  },
  {
   "cell_type": "code",
   "execution_count": 74,
   "id": "08756760-716f-4e87-a154-323d83c038cf",
   "metadata": {
    "tags": []
   },
   "outputs": [],
   "source": [
    "# Create the confusion matrix - from Practical 1\n",
    "def plot_confusion_matrix(y_test, y_pred):\n",
    "    ''' Plot the confusion matrix for the target labels and predictions '''\n",
    "    cm = confusion_matrix(y_test, y_pred)\n",
    "\n",
    "    # Create a dataframe with the confusion matrix values\n",
    "    df_cm = pd.DataFrame(cm, range(cm.shape[0]),\n",
    "                  range(cm.shape[1]))\n",
    "\n",
    "    # Plot the confusion matrix\n",
    "    sns.set(font_scale=1.4) # for label size\n",
    "    sns.heatmap(df_cm, annot=True,fmt='.0f',cmap=\"YlGnBu\",annot_kws={\"size\": 10}) # font size\n",
    "    plt.show()"
   ]
  },
  {
   "cell_type": "code",
   "execution_count": 75,
   "id": "78e2bf14-4d36-4c01-afcf-a0bbb0a33051",
   "metadata": {
    "tags": []
   },
   "outputs": [],
   "source": [
    "# ROC Curve\n",
    "# plot no skill\n",
    "# Calculate the points in the ROC curve - from Practical 1\n",
    "def plot_roc_curve(y_test, y_pred):\n",
    "    ''' Plot the ROC curve for the target labels and predictions'''\n",
    "    fpr, tpr, thresholds = roc_curve(y_test, y_pred, pos_label=1)\n",
    "    roc_auc= auc(fpr,tpr)\n",
    "    plt.figure(figsize=(12, 12))\n",
    "    ax = plt.subplot(121)\n",
    "    ax.set_aspect(1)\n",
    "    \n",
    "    plt.title('Receiver Operating Characteristic')\n",
    "    plt.plot(fpr, tpr, 'b', label = 'AUC = %0.2f' % roc_auc)\n",
    "    plt.legend(loc = 'lower right')\n",
    "    plt.plot([0, 1], [0, 1],'r--')\n",
    "    plt.xlim([0, 1])\n",
    "    plt.ylim([0, 1])\n",
    "    plt.ylabel('True Positive Rate')\n",
    "    plt.xlabel('False Positive Rate')\n",
    "    plt.show()"
   ]
  },
  {
   "cell_type": "markdown",
   "id": "98812dbb-9a7d-4420-bf6a-c3374720b8ac",
   "metadata": {},
   "source": [
    "## Need to extract BERT CLS tokens for these"
   ]
  },
  {
   "cell_type": "code",
   "execution_count": 76,
   "id": "c5c8d53b-8b68-4a45-b799-a31b2dc18ddc",
   "metadata": {
    "tags": []
   },
   "outputs": [
    {
     "data": {
      "application/vnd.jupyter.widget-view+json": {
       "model_id": "53c1d15159864d5fb85fb7effdced0fc",
       "version_major": 2,
       "version_minor": 0
      },
      "text/plain": [
       "  0%|          | 0/1226 [00:00<?, ?it/s]"
      ]
     },
     "metadata": {},
     "output_type": "display_data"
    }
   ],
   "source": [
    "train_bert_df = pd.DataFrame({\n",
    "    \"CLS Output\": pd.Series(dtype=object),\n",
    "    \"Related\": pd.Series(dtype=bool)\n",
    "})\n",
    "\n",
    "with torch.no_grad():\n",
    "    for tokens, labels in tqdm(train_dataloader_enc):\n",
    "        tokens = tokens.to(device)\n",
    "        cls_outputs = bert(tokens)[0].detach().cpu()\n",
    "        rows = []\n",
    "        \n",
    "        for cls_output, label in zip(cls_outputs, labels):\n",
    "            rows.append({\"CLS Output\": cls_output.numpy(), \"Related\": label.item() == 1})\n",
    "        \n",
    "        train_bert_df = pd.concat([train_bert_df, pd.DataFrame(rows)], axis=0, ignore_index=True)\n",
    "\n",
    "train_bert_df = train_bert_df.sample(frac=1).reset_index(drop=True)"
   ]
  },
  {
   "cell_type": "code",
   "execution_count": 77,
   "id": "c78f1aa5-667e-43f4-a9a0-5dc10d1056fb",
   "metadata": {
    "tags": []
   },
   "outputs": [
    {
     "data": {
      "application/vnd.jupyter.widget-view+json": {
       "model_id": "fe2b9a0f1eba41b19b9b14d7e1d83b4b",
       "version_major": 2,
       "version_minor": 0
      },
      "text/plain": [
       "  0%|          | 0/336 [00:00<?, ?it/s]"
      ]
     },
     "metadata": {},
     "output_type": "display_data"
    }
   ],
   "source": [
    "val_bert_df = pd.DataFrame({\n",
    "    \"CLS Output\": pd.Series(dtype=object),\n",
    "    \"Related\": pd.Series(dtype=bool)\n",
    "})\n",
    "\n",
    "with torch.no_grad():\n",
    "    for tokens, labels in tqdm(val_dataloader):\n",
    "        tokens = tokens.to(device)\n",
    "        cls_outputs = bert(tokens)[0].detach().cpu()\n",
    "        rows = []\n",
    "        \n",
    "        for cls_output, label in zip(cls_outputs, labels):\n",
    "            rows.append({\"CLS Output\": cls_output.numpy(), \"Related\": label.item() == 1})\n",
    "        \n",
    "        val_bert_df = pd.concat([val_bert_df, pd.DataFrame(rows)], axis=0, ignore_index=True)\n",
    "\n",
    "val_bert_df = val_bert_df.sample(frac=1).reset_index(drop=True)"
   ]
  },
  {
   "cell_type": "code",
   "execution_count": 78,
   "id": "693c6738-107b-41ec-866c-42eb5d0c222b",
   "metadata": {
    "tags": []
   },
   "outputs": [
    {
     "data": {
      "text/html": [
       "<div>\n",
       "<style scoped>\n",
       "    .dataframe tbody tr th:only-of-type {\n",
       "        vertical-align: middle;\n",
       "    }\n",
       "\n",
       "    .dataframe tbody tr th {\n",
       "        vertical-align: top;\n",
       "    }\n",
       "\n",
       "    .dataframe thead th {\n",
       "        text-align: right;\n",
       "    }\n",
       "</style>\n",
       "<table border=\"1\" class=\"dataframe\">\n",
       "  <thead>\n",
       "    <tr style=\"text-align: right;\">\n",
       "      <th></th>\n",
       "      <th>CLS Output</th>\n",
       "      <th>Related</th>\n",
       "    </tr>\n",
       "  </thead>\n",
       "  <tbody>\n",
       "    <tr>\n",
       "      <th>0</th>\n",
       "      <td>[[-0.34326658, 0.36517367, -0.5840294, 0.11459...</td>\n",
       "      <td>False</td>\n",
       "    </tr>\n",
       "    <tr>\n",
       "      <th>1</th>\n",
       "      <td>[[0.016007526, -0.21476755, -0.048804443, -0.3...</td>\n",
       "      <td>False</td>\n",
       "    </tr>\n",
       "    <tr>\n",
       "      <th>2</th>\n",
       "      <td>[[-0.53133136, -0.21920921, 0.2819307, -0.1196...</td>\n",
       "      <td>False</td>\n",
       "    </tr>\n",
       "    <tr>\n",
       "      <th>3</th>\n",
       "      <td>[[-0.39362964, -0.29681164, 0.42485055, -0.071...</td>\n",
       "      <td>False</td>\n",
       "    </tr>\n",
       "    <tr>\n",
       "      <th>4</th>\n",
       "      <td>[[-0.2369354, 0.10395724, -0.23445871, 0.06743...</td>\n",
       "      <td>False</td>\n",
       "    </tr>\n",
       "    <tr>\n",
       "      <th>...</th>\n",
       "      <td>...</td>\n",
       "      <td>...</td>\n",
       "    </tr>\n",
       "    <tr>\n",
       "      <th>39219</th>\n",
       "      <td>[[-0.31434163, -1.0140011, -0.22602957, 0.2552...</td>\n",
       "      <td>False</td>\n",
       "    </tr>\n",
       "    <tr>\n",
       "      <th>39220</th>\n",
       "      <td>[[-0.46506372, 0.23114684, -0.14275485, 0.2136...</td>\n",
       "      <td>False</td>\n",
       "    </tr>\n",
       "    <tr>\n",
       "      <th>39221</th>\n",
       "      <td>[[-0.7953826, 0.26478225, -0.17036456, 0.31143...</td>\n",
       "      <td>False</td>\n",
       "    </tr>\n",
       "    <tr>\n",
       "      <th>39222</th>\n",
       "      <td>[[-0.99910885, 0.3724223, -0.509763, 0.2427289...</td>\n",
       "      <td>False</td>\n",
       "    </tr>\n",
       "    <tr>\n",
       "      <th>39223</th>\n",
       "      <td>[[-0.18317029, 0.4287268, -0.16691895, 0.32736...</td>\n",
       "      <td>False</td>\n",
       "    </tr>\n",
       "  </tbody>\n",
       "</table>\n",
       "<p>39224 rows × 2 columns</p>\n",
       "</div>"
      ],
      "text/plain": [
       "                                              CLS Output  Related\n",
       "0      [[-0.34326658, 0.36517367, -0.5840294, 0.11459...    False\n",
       "1      [[0.016007526, -0.21476755, -0.048804443, -0.3...    False\n",
       "2      [[-0.53133136, -0.21920921, 0.2819307, -0.1196...    False\n",
       "3      [[-0.39362964, -0.29681164, 0.42485055, -0.071...    False\n",
       "4      [[-0.2369354, 0.10395724, -0.23445871, 0.06743...    False\n",
       "...                                                  ...      ...\n",
       "39219  [[-0.31434163, -1.0140011, -0.22602957, 0.2552...    False\n",
       "39220  [[-0.46506372, 0.23114684, -0.14275485, 0.2136...    False\n",
       "39221  [[-0.7953826, 0.26478225, -0.17036456, 0.31143...    False\n",
       "39222  [[-0.99910885, 0.3724223, -0.509763, 0.2427289...    False\n",
       "39223  [[-0.18317029, 0.4287268, -0.16691895, 0.32736...    False\n",
       "\n",
       "[39224 rows x 2 columns]"
      ]
     },
     "execution_count": 78,
     "metadata": {},
     "output_type": "execute_result"
    }
   ],
   "source": [
    "train_bert_df"
   ]
  },
  {
   "cell_type": "code",
   "execution_count": 79,
   "id": "80807ebc-cd1d-460c-8d42-7de1eb62c443",
   "metadata": {
    "tags": []
   },
   "outputs": [
    {
     "data": {
      "text/html": [
       "<div>\n",
       "<style scoped>\n",
       "    .dataframe tbody tr th:only-of-type {\n",
       "        vertical-align: middle;\n",
       "    }\n",
       "\n",
       "    .dataframe tbody tr th {\n",
       "        vertical-align: top;\n",
       "    }\n",
       "\n",
       "    .dataframe thead th {\n",
       "        text-align: right;\n",
       "    }\n",
       "</style>\n",
       "<table border=\"1\" class=\"dataframe\">\n",
       "  <thead>\n",
       "    <tr style=\"text-align: right;\">\n",
       "      <th></th>\n",
       "      <th>CLS Output</th>\n",
       "      <th>Related</th>\n",
       "    </tr>\n",
       "  </thead>\n",
       "  <tbody>\n",
       "    <tr>\n",
       "      <th>0</th>\n",
       "      <td>[[-0.57361656, -0.18418948, 0.24991547, 0.3978...</td>\n",
       "      <td>False</td>\n",
       "    </tr>\n",
       "    <tr>\n",
       "      <th>1</th>\n",
       "      <td>[[-0.13854364, -0.1367868, 0.4549456, 0.289825...</td>\n",
       "      <td>False</td>\n",
       "    </tr>\n",
       "    <tr>\n",
       "      <th>2</th>\n",
       "      <td>[[-0.6371334, -0.58085626, -0.7009059, -0.0713...</td>\n",
       "      <td>True</td>\n",
       "    </tr>\n",
       "    <tr>\n",
       "      <th>3</th>\n",
       "      <td>[[-0.5669046, 0.37112597, -0.27369532, 0.07890...</td>\n",
       "      <td>True</td>\n",
       "    </tr>\n",
       "    <tr>\n",
       "      <th>4</th>\n",
       "      <td>[[-0.14785111, 0.34502283, -0.50307065, 0.4218...</td>\n",
       "      <td>False</td>\n",
       "    </tr>\n",
       "    <tr>\n",
       "      <th>...</th>\n",
       "      <td>...</td>\n",
       "      <td>...</td>\n",
       "    </tr>\n",
       "    <tr>\n",
       "      <th>10743</th>\n",
       "      <td>[[-0.15648781, -0.23415855, -0.058399748, 0.09...</td>\n",
       "      <td>False</td>\n",
       "    </tr>\n",
       "    <tr>\n",
       "      <th>10744</th>\n",
       "      <td>[[-0.60972524, -0.64969605, -0.46111962, 0.140...</td>\n",
       "      <td>False</td>\n",
       "    </tr>\n",
       "    <tr>\n",
       "      <th>10745</th>\n",
       "      <td>[[-0.4086986, 0.27373657, -0.3493088, -0.01856...</td>\n",
       "      <td>False</td>\n",
       "    </tr>\n",
       "    <tr>\n",
       "      <th>10746</th>\n",
       "      <td>[[-0.7675553, 0.13341556, -0.6063807, 0.110620...</td>\n",
       "      <td>True</td>\n",
       "    </tr>\n",
       "    <tr>\n",
       "      <th>10747</th>\n",
       "      <td>[[-0.43282184, 0.06902995, -0.25782397, 0.3469...</td>\n",
       "      <td>False</td>\n",
       "    </tr>\n",
       "  </tbody>\n",
       "</table>\n",
       "<p>10748 rows × 2 columns</p>\n",
       "</div>"
      ],
      "text/plain": [
       "                                              CLS Output  Related\n",
       "0      [[-0.57361656, -0.18418948, 0.24991547, 0.3978...    False\n",
       "1      [[-0.13854364, -0.1367868, 0.4549456, 0.289825...    False\n",
       "2      [[-0.6371334, -0.58085626, -0.7009059, -0.0713...     True\n",
       "3      [[-0.5669046, 0.37112597, -0.27369532, 0.07890...     True\n",
       "4      [[-0.14785111, 0.34502283, -0.50307065, 0.4218...    False\n",
       "...                                                  ...      ...\n",
       "10743  [[-0.15648781, -0.23415855, -0.058399748, 0.09...    False\n",
       "10744  [[-0.60972524, -0.64969605, -0.46111962, 0.140...    False\n",
       "10745  [[-0.4086986, 0.27373657, -0.3493088, -0.01856...    False\n",
       "10746  [[-0.7675553, 0.13341556, -0.6063807, 0.110620...     True\n",
       "10747  [[-0.43282184, 0.06902995, -0.25782397, 0.3469...    False\n",
       "\n",
       "[10748 rows x 2 columns]"
      ]
     },
     "execution_count": 79,
     "metadata": {},
     "output_type": "execute_result"
    }
   ],
   "source": [
    "val_bert_df"
   ]
  },
  {
   "cell_type": "code",
   "execution_count": 80,
   "id": "49f3aaeb-3e02-4ca3-be6c-2bb1463e393c",
   "metadata": {
    "tags": []
   },
   "outputs": [
    {
     "ename": "MemoryError",
     "evalue": "Unable to allocate 57.5 GiB for an array with shape (39224, 512, 768) and data type float32",
     "output_type": "error",
     "traceback": [
      "\u001b[1;31m---------------------------------------------------------------------------\u001b[0m",
      "\u001b[1;31mMemoryError\u001b[0m                               Traceback (most recent call last)",
      "Cell \u001b[1;32mIn[80], line 1\u001b[0m\n\u001b[1;32m----> 1\u001b[0m train_bert_features \u001b[38;5;241m=\u001b[39m \u001b[43mnp\u001b[49m\u001b[38;5;241;43m.\u001b[39;49m\u001b[43marray\u001b[49m\u001b[43m(\u001b[49m\u001b[38;5;28;43mlist\u001b[39;49m\u001b[43m(\u001b[49m\u001b[43mtrain_bert_df\u001b[49m\u001b[43m[\u001b[49m\u001b[38;5;124;43m\"\u001b[39;49m\u001b[38;5;124;43mCLS Output\u001b[39;49m\u001b[38;5;124;43m\"\u001b[39;49m\u001b[43m]\u001b[49m\u001b[38;5;241;43m.\u001b[39;49m\u001b[43mvalues\u001b[49m\u001b[43m)\u001b[49m\u001b[43m)\u001b[49m\n\u001b[0;32m      2\u001b[0m train_bert_labels \u001b[38;5;241m=\u001b[39m np\u001b[38;5;241m.\u001b[39marray([m(x) \u001b[38;5;28;01mfor\u001b[39;00m x \u001b[38;5;129;01min\u001b[39;00m train_bert_df[\u001b[38;5;124m\"\u001b[39m\u001b[38;5;124mRelated\u001b[39m\u001b[38;5;124m\"\u001b[39m]\u001b[38;5;241m.\u001b[39mvalues\u001b[38;5;241m.\u001b[39mastype(\u001b[38;5;28mint\u001b[39m)])\n",
      "\u001b[1;31mMemoryError\u001b[0m: Unable to allocate 57.5 GiB for an array with shape (39224, 512, 768) and data type float32"
     ]
    }
   ],
   "source": [
    "train_bert_features = np.array(list(train_bert_df[\"CLS Output\"].values))\n",
    "train_bert_labels = np.array([m(x) for x in train_bert_df[\"Related\"].values.astype(int)])"
   ]
  },
  {
   "cell_type": "code",
   "execution_count": null,
   "id": "c1d3b5cb-e2ed-46c3-b22e-585a8d5bee4a",
   "metadata": {
    "tags": []
   },
   "outputs": [],
   "source": [
    "val_bert_features = np.array(list(val_bert_df[\"CLS Output\"].values))\n",
    "val_bert_labels = np.array([m(x) for x in val_bert_df[\"Related\"].values.astype(int)])"
   ]
  },
  {
   "cell_type": "code",
   "execution_count": null,
   "id": "7598f3d6-b06d-402e-b2a9-687b870714a5",
   "metadata": {
    "tags": []
   },
   "outputs": [],
   "source": [
    "train_bert_features.shape"
   ]
  },
  {
   "cell_type": "code",
   "execution_count": null,
   "id": "9ff0d370-8e14-4bfb-880c-2fc215ee8110",
   "metadata": {
    "tags": []
   },
   "outputs": [],
   "source": [
    "train_bert_labels.shape"
   ]
  },
  {
   "cell_type": "markdown",
   "id": "3f3bb5e0-0855-424d-97e9-4cefec96331b",
   "metadata": {},
   "source": [
    "## Gradient Boost"
   ]
  },
  {
   "cell_type": "code",
   "execution_count": null,
   "id": "efc0e565-5f98-4236-89f4-6ed30fb82127",
   "metadata": {
    "tags": []
   },
   "outputs": [],
   "source": [
    "from lightgbm import LGBMClassifier\n",
    "from sklearn.metrics import f1_score\n",
    "\n",
    "def f1_metric(ytrue,preds):\n",
    "    ''' Return the F1 Score value for the preds and true values, ytrue '''\n",
    "    return 'f1_score', f1_score((preds>=0.5).astype('int'), ytrue, average='macro'), True\n",
    "\n",
    "# set the model parameters\n",
    "params = {\n",
    "    'learning_rate': 0.06,\n",
    "    'n_estimators': 1500,\n",
    "    'colsample_bytree': 0.5,\n",
    "    'metric': 'f1_score'\n",
    "}\n",
    "\n",
    "full_clf = LGBMClassifier(**params)\n",
    "\n",
    "\n",
    "\n",
    "# Fit or train the xgboost model\n",
    "full_clf.fit(train_bert_features.astype(np.float32), train_bert_labels, eval_set=[(train_bert_features.astype(np.float32), train_bert_labels), (val_bert_features.astype(np.float32), val_bert_labels)],\n",
    "             verbose=400, eval_metric=f1_metric)\n",
    "\n",
    "#Show the results\n",
    "print(\"train score:\", full_clf.score(train_bert_features.astype(np.float32), train_bert_labels))\n",
    "print(\"val score:\", full_clf.score(val_bert_features.astype(np.float32), val_bert_labels))"
   ]
  },
  {
   "cell_type": "code",
   "execution_count": null,
   "id": "7d819c89-f1be-412d-9c27-456558f2ae86",
   "metadata": {
    "tags": []
   },
   "outputs": [],
   "source": [
    "# Predicting the Test set results\n",
    "y_pred = full_clf.predict(val_bert_features.astype(np.float32))\n",
    "\n",
    "print(metrics.classification_report(val_bert_labels, y_pred))\n",
    "plot_confusion_matrix(val_bert_labels, y_pred)\n",
    "plot_roc_curve(val_bert_labels, y_pred)"
   ]
  },
  {
   "cell_type": "markdown",
   "id": "38a482db-e468-4ce7-9515-7be16de2c42a",
   "metadata": {},
   "source": [
    "# Everything here is from the Practical"
   ]
  },
  {
   "cell_type": "code",
   "execution_count": 66,
   "id": "7e9a1918-6674-4cb0-8781-0c3184a83726",
   "metadata": {
    "tags": []
   },
   "outputs": [],
   "source": [
    "class BERTGRUSentiment(nn.Module):\n",
    "    def __init__(self,\n",
    "                 bert,\n",
    "                 hidden_dim,\n",
    "                 output_dim,\n",
    "                 n_layers,\n",
    "                 bidirectional,\n",
    "                 dropout):\n",
    "        \n",
    "        super().__init__()\n",
    "        \n",
    "        self.bert = bert\n",
    "        \n",
    "        embedding_dim = bert.config.to_dict()['hidden_size']\n",
    "        \n",
    "        self.rnn = nn.GRU(embedding_dim,\n",
    "                          hidden_dim,\n",
    "                          num_layers = n_layers,\n",
    "                          bidirectional = bidirectional,\n",
    "                          batch_first = True,\n",
    "                          dropout = 0 if n_layers < 2 else dropout)\n",
    "        \n",
    "        self.out = nn.Linear(hidden_dim * 2 if bidirectional else hidden_dim, output_dim)\n",
    "        \n",
    "        self.dropout = nn.Dropout(dropout)\n",
    "        \n",
    "    def forward(self, ids):\n",
    "        with torch.no_grad():\n",
    "            embedded = self.bert(ids)[0]\n",
    "        \n",
    "        print(embedded.shape)\n",
    "        \n",
    "        _, hidden = self.rnn(embedded)\n",
    "    \n",
    "        \n",
    "        if self.rnn.bidirectional:\n",
    "            hidden = self.dropout(torch.cat((hidden[-2,:,:], hidden[-1,:,:]), dim = 1))\n",
    "        else:\n",
    "            hidden = self.dropout(hidden[-1,:,:])\n",
    "        \n",
    "        output = self.out(hidden)        \n",
    "        \n",
    "        return output"
   ]
  },
  {
   "cell_type": "code",
   "execution_count": 67,
   "id": "e5c95f8c-2a25-47f0-acf1-d79c59afda78",
   "metadata": {
    "tags": []
   },
   "outputs": [],
   "source": [
    "HIDDEN_DIM = 256\n",
    "OUTPUT_DIM = 1\n",
    "N_LAYERS = 2\n",
    "BIDIRECTIONAL = True\n",
    "DROPOUT = 0.25\n",
    "\n",
    "model = BERTGRUSentiment(bert,\n",
    "                         HIDDEN_DIM,\n",
    "                         OUTPUT_DIM,\n",
    "                         N_LAYERS,\n",
    "                         BIDIRECTIONAL,\n",
    "                         DROPOUT)"
   ]
  },
  {
   "cell_type": "code",
   "execution_count": 68,
   "id": "5037e28f-5e9c-4d8d-9792-c851dd45df2e",
   "metadata": {
    "tags": []
   },
   "outputs": [],
   "source": [
    "for name, param in model.named_parameters():                \n",
    "    if name.startswith('bert'):\n",
    "        param.requires_grad = False"
   ]
  },
  {
   "cell_type": "code",
   "execution_count": 69,
   "id": "f2c22c0d-124a-478b-bb22-7c820835716a",
   "metadata": {
    "tags": []
   },
   "outputs": [
    {
     "name": "stdout",
     "output_type": "stream",
     "text": [
      "rnn.weight_ih_l0\n",
      "rnn.weight_hh_l0\n",
      "rnn.bias_ih_l0\n",
      "rnn.bias_hh_l0\n",
      "rnn.weight_ih_l0_reverse\n",
      "rnn.weight_hh_l0_reverse\n",
      "rnn.bias_ih_l0_reverse\n",
      "rnn.bias_hh_l0_reverse\n",
      "rnn.weight_ih_l1\n",
      "rnn.weight_hh_l1\n",
      "rnn.bias_ih_l1\n",
      "rnn.bias_hh_l1\n",
      "rnn.weight_ih_l1_reverse\n",
      "rnn.weight_hh_l1_reverse\n",
      "rnn.bias_ih_l1_reverse\n",
      "rnn.bias_hh_l1_reverse\n",
      "out.weight\n",
      "out.bias\n"
     ]
    }
   ],
   "source": [
    "for name, param in model.named_parameters():                \n",
    "    if param.requires_grad:\n",
    "        print(name)"
   ]
  },
  {
   "cell_type": "code",
   "execution_count": 70,
   "id": "4440dc41-423d-40b9-a102-9029fb712a5f",
   "metadata": {
    "tags": []
   },
   "outputs": [],
   "source": [
    "opt = optim.Adam(model.parameters())"
   ]
  },
  {
   "cell_type": "code",
   "execution_count": 71,
   "id": "0b0bcc3a-2f42-4647-acf6-b9915ac0fb05",
   "metadata": {
    "tags": []
   },
   "outputs": [],
   "source": [
    "model = model.to(device)"
   ]
  },
  {
   "cell_type": "code",
   "execution_count": 72,
   "id": "5b5f5f94-c756-49aa-9744-a7d9385eec48",
   "metadata": {},
   "outputs": [],
   "source": [
    "def evaluate_model(model, dataloader, labels, apply_loss_weighting):\n",
    "    if not apply_loss_weighting:\n",
    "        loss_func = nn.BCEWithLogitsLoss()\n",
    "    \n",
    "    with torch.no_grad():\n",
    "        model.eval()\n",
    "        \n",
    "        all_pred = np.array([])\n",
    "        total_loss = 0\n",
    "        \n",
    "        for inp, labels in tqdm(dataloader):\n",
    "            inp = inp.to(device)\n",
    "            labels = labels.to(device)\n",
    "            \n",
    "            loss_weights = torch.zeros_like(labels)\n",
    "            loss_weights[labels == 0] = class_weights[0]\n",
    "            loss_weights[labels == 1] = class_weights[1]\n",
    "            loss_func = nn.BCEWithLogitsLoss(weight=loss_weights)\n",
    "        \n",
    "            pred = model(inp)\n",
    "            loss = loss_func(pred, labels.float())\n",
    "            pred = torch.sigmoid(pred)\n",
    "            \n",
    "            all_pred = np.concatenate([all_pred, pred.cpu().round().numpy().squeeze()])\n",
    "            total_loss += loss.item()\n",
    "        \n",
    "        model.train()\n",
    "    \n",
    "    return all_pred, total_loss / len(dataloader)"
   ]
  },
  {
   "cell_type": "code",
   "execution_count": 73,
   "id": "3f380851-5b7b-47c4-a263-c5aa60914997",
   "metadata": {
    "tags": []
   },
   "outputs": [
    {
     "data": {
      "application/vnd.jupyter.widget-view+json": {
       "model_id": "e6e7e10c7b7d407fb4f8a2ab4052420e",
       "version_major": 2,
       "version_minor": 0
      },
      "text/plain": [
       "  0%|          | 0/1226 [00:00<?, ?it/s]"
      ]
     },
     "metadata": {},
     "output_type": "display_data"
    },
    {
     "name": "stdout",
     "output_type": "stream",
     "text": [
      "torch.Size([32, 512, 768])\n",
      "torch.Size([32, 512, 768])\n",
      "torch.Size([32, 512, 768])\n",
      "torch.Size([32, 512, 768])\n",
      "torch.Size([32, 512, 768])\n",
      "torch.Size([32, 512, 768])\n",
      "torch.Size([32, 512, 768])\n",
      "torch.Size([32, 512, 768])\n",
      "torch.Size([32, 512, 768])\n",
      "torch.Size([32, 512, 768])\n",
      "torch.Size([32, 512, 768])\n",
      "torch.Size([32, 512, 768])\n",
      "torch.Size([32, 512, 768])\n",
      "torch.Size([32, 512, 768])\n",
      "torch.Size([32, 512, 768])\n",
      "torch.Size([32, 512, 768])\n",
      "torch.Size([32, 512, 768])\n",
      "torch.Size([32, 512, 768])\n",
      "torch.Size([32, 512, 768])\n",
      "torch.Size([32, 512, 768])\n",
      "torch.Size([32, 512, 768])\n",
      "torch.Size([32, 512, 768])\n",
      "torch.Size([32, 512, 768])\n",
      "torch.Size([32, 512, 768])\n",
      "torch.Size([32, 512, 768])\n",
      "torch.Size([32, 512, 768])\n",
      "torch.Size([32, 512, 768])\n",
      "torch.Size([32, 512, 768])\n",
      "torch.Size([32, 512, 768])\n",
      "torch.Size([32, 512, 768])\n",
      "torch.Size([32, 512, 768])\n",
      "torch.Size([32, 512, 768])\n",
      "torch.Size([32, 512, 768])\n",
      "torch.Size([32, 512, 768])\n",
      "torch.Size([32, 512, 768])\n",
      "torch.Size([32, 512, 768])\n",
      "torch.Size([32, 512, 768])\n",
      "torch.Size([32, 512, 768])\n",
      "torch.Size([32, 512, 768])\n",
      "torch.Size([32, 512, 768])\n",
      "torch.Size([32, 512, 768])\n",
      "[1:40] Loss: 0.394\n",
      "torch.Size([32, 512, 768])\n",
      "torch.Size([32, 512, 768])\n",
      "torch.Size([32, 512, 768])\n",
      "torch.Size([32, 512, 768])\n",
      "torch.Size([32, 512, 768])\n",
      "torch.Size([32, 512, 768])\n",
      "torch.Size([32, 512, 768])\n",
      "torch.Size([32, 512, 768])\n",
      "torch.Size([32, 512, 768])\n",
      "torch.Size([32, 512, 768])\n",
      "torch.Size([32, 512, 768])\n",
      "torch.Size([32, 512, 768])\n",
      "torch.Size([32, 512, 768])\n",
      "torch.Size([32, 512, 768])\n",
      "torch.Size([32, 512, 768])\n",
      "torch.Size([32, 512, 768])\n",
      "torch.Size([32, 512, 768])\n",
      "torch.Size([32, 512, 768])\n",
      "torch.Size([32, 512, 768])\n",
      "torch.Size([32, 512, 768])\n",
      "torch.Size([32, 512, 768])\n",
      "torch.Size([32, 512, 768])\n",
      "torch.Size([32, 512, 768])\n",
      "torch.Size([32, 512, 768])\n",
      "torch.Size([32, 512, 768])\n",
      "torch.Size([32, 512, 768])\n",
      "torch.Size([32, 512, 768])\n",
      "torch.Size([32, 512, 768])\n",
      "torch.Size([32, 512, 768])\n",
      "torch.Size([32, 512, 768])\n",
      "torch.Size([32, 512, 768])\n",
      "torch.Size([32, 512, 768])\n",
      "torch.Size([32, 512, 768])\n",
      "torch.Size([32, 512, 768])\n",
      "torch.Size([32, 512, 768])\n",
      "torch.Size([32, 512, 768])\n",
      "torch.Size([32, 512, 768])\n",
      "torch.Size([32, 512, 768])\n",
      "torch.Size([32, 512, 768])\n",
      "torch.Size([32, 512, 768])\n",
      "[1:80] Loss: 0.174\n",
      "torch.Size([32, 512, 768])\n",
      "torch.Size([32, 512, 768])\n",
      "torch.Size([32, 512, 768])\n",
      "torch.Size([32, 512, 768])\n",
      "torch.Size([32, 512, 768])\n",
      "torch.Size([32, 512, 768])\n",
      "torch.Size([32, 512, 768])\n",
      "torch.Size([32, 512, 768])\n",
      "torch.Size([32, 512, 768])\n",
      "torch.Size([32, 512, 768])\n",
      "torch.Size([32, 512, 768])\n",
      "torch.Size([32, 512, 768])\n",
      "torch.Size([32, 512, 768])\n",
      "torch.Size([32, 512, 768])\n",
      "torch.Size([32, 512, 768])\n",
      "torch.Size([32, 512, 768])\n",
      "torch.Size([32, 512, 768])\n",
      "torch.Size([32, 512, 768])\n",
      "torch.Size([32, 512, 768])\n",
      "torch.Size([32, 512, 768])\n",
      "torch.Size([32, 512, 768])\n",
      "torch.Size([32, 512, 768])\n",
      "torch.Size([32, 512, 768])\n",
      "torch.Size([32, 512, 768])\n",
      "torch.Size([32, 512, 768])\n",
      "torch.Size([32, 512, 768])\n",
      "torch.Size([32, 512, 768])\n",
      "torch.Size([32, 512, 768])\n",
      "torch.Size([32, 512, 768])\n",
      "torch.Size([32, 512, 768])\n",
      "torch.Size([32, 512, 768])\n",
      "torch.Size([32, 512, 768])\n",
      "torch.Size([32, 512, 768])\n",
      "torch.Size([32, 512, 768])\n",
      "torch.Size([32, 512, 768])\n",
      "torch.Size([32, 512, 768])\n",
      "torch.Size([32, 512, 768])\n",
      "torch.Size([32, 512, 768])\n",
      "torch.Size([32, 512, 768])\n",
      "torch.Size([32, 512, 768])\n",
      "[1:120] Loss: 0.163\n",
      "torch.Size([32, 512, 768])\n",
      "torch.Size([32, 512, 768])\n",
      "torch.Size([32, 512, 768])\n",
      "torch.Size([32, 512, 768])\n",
      "torch.Size([32, 512, 768])\n",
      "torch.Size([32, 512, 768])\n",
      "torch.Size([32, 512, 768])\n",
      "torch.Size([32, 512, 768])\n",
      "torch.Size([32, 512, 768])\n",
      "torch.Size([32, 512, 768])\n",
      "torch.Size([32, 512, 768])\n",
      "torch.Size([32, 512, 768])\n",
      "torch.Size([32, 512, 768])\n",
      "torch.Size([32, 512, 768])\n",
      "torch.Size([32, 512, 768])\n",
      "torch.Size([32, 512, 768])\n",
      "torch.Size([32, 512, 768])\n",
      "torch.Size([32, 512, 768])\n",
      "torch.Size([32, 512, 768])\n",
      "torch.Size([32, 512, 768])\n",
      "torch.Size([32, 512, 768])\n",
      "torch.Size([32, 512, 768])\n",
      "torch.Size([32, 512, 768])\n",
      "torch.Size([32, 512, 768])\n",
      "torch.Size([32, 512, 768])\n",
      "torch.Size([32, 512, 768])\n",
      "torch.Size([32, 512, 768])\n",
      "torch.Size([32, 512, 768])\n",
      "torch.Size([32, 512, 768])\n",
      "torch.Size([32, 512, 768])\n",
      "torch.Size([32, 512, 768])\n",
      "torch.Size([32, 512, 768])\n",
      "torch.Size([32, 512, 768])\n",
      "torch.Size([32, 512, 768])\n",
      "torch.Size([32, 512, 768])\n",
      "torch.Size([32, 512, 768])\n",
      "torch.Size([32, 512, 768])\n",
      "torch.Size([32, 512, 768])\n",
      "torch.Size([32, 512, 768])\n",
      "torch.Size([32, 512, 768])\n",
      "[1:160] Loss: 0.152\n",
      "torch.Size([32, 512, 768])\n",
      "torch.Size([32, 512, 768])\n",
      "torch.Size([32, 512, 768])\n",
      "torch.Size([32, 512, 768])\n",
      "torch.Size([32, 512, 768])\n",
      "torch.Size([32, 512, 768])\n",
      "torch.Size([32, 512, 768])\n",
      "torch.Size([32, 512, 768])\n",
      "torch.Size([32, 512, 768])\n",
      "torch.Size([32, 512, 768])\n",
      "torch.Size([32, 512, 768])\n",
      "torch.Size([32, 512, 768])\n",
      "torch.Size([32, 512, 768])\n",
      "torch.Size([32, 512, 768])\n",
      "torch.Size([32, 512, 768])\n",
      "torch.Size([32, 512, 768])\n",
      "torch.Size([32, 512, 768])\n",
      "torch.Size([32, 512, 768])\n",
      "torch.Size([32, 512, 768])\n",
      "torch.Size([32, 512, 768])\n",
      "torch.Size([32, 512, 768])\n",
      "torch.Size([32, 512, 768])\n",
      "torch.Size([32, 512, 768])\n",
      "torch.Size([32, 512, 768])\n",
      "torch.Size([32, 512, 768])\n",
      "torch.Size([32, 512, 768])\n",
      "torch.Size([32, 512, 768])\n",
      "torch.Size([32, 512, 768])\n",
      "torch.Size([32, 512, 768])\n",
      "torch.Size([32, 512, 768])\n",
      "torch.Size([32, 512, 768])\n",
      "torch.Size([32, 512, 768])\n",
      "torch.Size([32, 512, 768])\n",
      "torch.Size([32, 512, 768])\n",
      "torch.Size([32, 512, 768])\n",
      "torch.Size([32, 512, 768])\n",
      "torch.Size([32, 512, 768])\n",
      "torch.Size([32, 512, 768])\n",
      "torch.Size([32, 512, 768])\n",
      "torch.Size([32, 512, 768])\n",
      "[1:200] Loss: 0.110\n",
      "torch.Size([32, 512, 768])\n",
      "torch.Size([32, 512, 768])\n",
      "torch.Size([32, 512, 768])\n",
      "torch.Size([32, 512, 768])\n",
      "torch.Size([32, 512, 768])\n",
      "torch.Size([32, 512, 768])\n",
      "torch.Size([32, 512, 768])\n",
      "torch.Size([32, 512, 768])\n",
      "torch.Size([32, 512, 768])\n",
      "torch.Size([32, 512, 768])\n",
      "torch.Size([32, 512, 768])\n",
      "torch.Size([32, 512, 768])\n",
      "torch.Size([32, 512, 768])\n",
      "torch.Size([32, 512, 768])\n",
      "torch.Size([32, 512, 768])\n",
      "torch.Size([32, 512, 768])\n",
      "torch.Size([32, 512, 768])\n",
      "torch.Size([32, 512, 768])\n",
      "torch.Size([32, 512, 768])\n",
      "torch.Size([32, 512, 768])\n",
      "torch.Size([32, 512, 768])\n",
      "torch.Size([32, 512, 768])\n",
      "torch.Size([32, 512, 768])\n",
      "torch.Size([32, 512, 768])\n",
      "torch.Size([32, 512, 768])\n",
      "torch.Size([32, 512, 768])\n",
      "torch.Size([32, 512, 768])\n",
      "torch.Size([32, 512, 768])\n",
      "torch.Size([32, 512, 768])\n",
      "torch.Size([32, 512, 768])\n",
      "torch.Size([32, 512, 768])\n",
      "torch.Size([32, 512, 768])\n",
      "torch.Size([32, 512, 768])\n",
      "torch.Size([32, 512, 768])\n",
      "torch.Size([32, 512, 768])\n",
      "torch.Size([32, 512, 768])\n",
      "torch.Size([32, 512, 768])\n",
      "torch.Size([32, 512, 768])\n",
      "torch.Size([32, 512, 768])\n",
      "torch.Size([32, 512, 768])\n",
      "[1:240] Loss: 0.107\n",
      "torch.Size([32, 512, 768])\n",
      "torch.Size([32, 512, 768])\n",
      "torch.Size([32, 512, 768])\n",
      "torch.Size([32, 512, 768])\n",
      "torch.Size([32, 512, 768])\n",
      "torch.Size([32, 512, 768])\n",
      "torch.Size([32, 512, 768])\n"
     ]
    },
    {
     "ename": "KeyboardInterrupt",
     "evalue": "",
     "output_type": "error",
     "traceback": [
      "\u001b[1;31m---------------------------------------------------------------------------\u001b[0m",
      "\u001b[1;31mKeyboardInterrupt\u001b[0m                         Traceback (most recent call last)",
      "Cell \u001b[1;32mIn[73], line 27\u001b[0m\n\u001b[0;32m     24\u001b[0m     loss_weights[labels \u001b[38;5;241m==\u001b[39m \u001b[38;5;241m1\u001b[39m] \u001b[38;5;241m=\u001b[39m class_weights[\u001b[38;5;241m1\u001b[39m]\n\u001b[0;32m     25\u001b[0m     loss_func \u001b[38;5;241m=\u001b[39m nn\u001b[38;5;241m.\u001b[39mBCEWithLogitsLoss(weight\u001b[38;5;241m=\u001b[39mloss_weights)\n\u001b[1;32m---> 27\u001b[0m predictions \u001b[38;5;241m=\u001b[39m \u001b[43mmodel\u001b[49m\u001b[43m(\u001b[49m\u001b[43minp\u001b[49m\u001b[43m)\u001b[49m\n\u001b[0;32m     28\u001b[0m loss \u001b[38;5;241m=\u001b[39m loss_func(predictions, labels\u001b[38;5;241m.\u001b[39mfloat())\n\u001b[0;32m     30\u001b[0m opt\u001b[38;5;241m.\u001b[39mzero_grad()\n",
      "File \u001b[1;32mF:\\Documents\\Development\\GitHub\\natural-language-processing-y4\\code\\env\\lib\\site-packages\\torch\\nn\\modules\\module.py:1130\u001b[0m, in \u001b[0;36mModule._call_impl\u001b[1;34m(self, *input, **kwargs)\u001b[0m\n\u001b[0;32m   1126\u001b[0m \u001b[38;5;66;03m# If we don't have any hooks, we want to skip the rest of the logic in\u001b[39;00m\n\u001b[0;32m   1127\u001b[0m \u001b[38;5;66;03m# this function, and just call forward.\u001b[39;00m\n\u001b[0;32m   1128\u001b[0m \u001b[38;5;28;01mif\u001b[39;00m \u001b[38;5;129;01mnot\u001b[39;00m (\u001b[38;5;28mself\u001b[39m\u001b[38;5;241m.\u001b[39m_backward_hooks \u001b[38;5;129;01mor\u001b[39;00m \u001b[38;5;28mself\u001b[39m\u001b[38;5;241m.\u001b[39m_forward_hooks \u001b[38;5;129;01mor\u001b[39;00m \u001b[38;5;28mself\u001b[39m\u001b[38;5;241m.\u001b[39m_forward_pre_hooks \u001b[38;5;129;01mor\u001b[39;00m _global_backward_hooks\n\u001b[0;32m   1129\u001b[0m         \u001b[38;5;129;01mor\u001b[39;00m _global_forward_hooks \u001b[38;5;129;01mor\u001b[39;00m _global_forward_pre_hooks):\n\u001b[1;32m-> 1130\u001b[0m     \u001b[38;5;28;01mreturn\u001b[39;00m forward_call(\u001b[38;5;241m*\u001b[39m\u001b[38;5;28minput\u001b[39m, \u001b[38;5;241m*\u001b[39m\u001b[38;5;241m*\u001b[39mkwargs)\n\u001b[0;32m   1131\u001b[0m \u001b[38;5;66;03m# Do not call functions when jit is used\u001b[39;00m\n\u001b[0;32m   1132\u001b[0m full_backward_hooks, non_full_backward_hooks \u001b[38;5;241m=\u001b[39m [], []\n",
      "Cell \u001b[1;32mIn[66], line 29\u001b[0m, in \u001b[0;36mBERTGRUSentiment.forward\u001b[1;34m(self, ids)\u001b[0m\n\u001b[0;32m     27\u001b[0m \u001b[38;5;28;01mdef\u001b[39;00m \u001b[38;5;21mforward\u001b[39m(\u001b[38;5;28mself\u001b[39m, ids):\n\u001b[0;32m     28\u001b[0m     \u001b[38;5;28;01mwith\u001b[39;00m torch\u001b[38;5;241m.\u001b[39mno_grad():\n\u001b[1;32m---> 29\u001b[0m         embedded \u001b[38;5;241m=\u001b[39m \u001b[38;5;28;43mself\u001b[39;49m\u001b[38;5;241;43m.\u001b[39;49m\u001b[43mbert\u001b[49m\u001b[43m(\u001b[49m\u001b[43mids\u001b[49m\u001b[43m)\u001b[49m[\u001b[38;5;241m0\u001b[39m]\n\u001b[0;32m     31\u001b[0m     \u001b[38;5;28mprint\u001b[39m(embedded\u001b[38;5;241m.\u001b[39mshape)\n\u001b[0;32m     33\u001b[0m     _, hidden \u001b[38;5;241m=\u001b[39m \u001b[38;5;28mself\u001b[39m\u001b[38;5;241m.\u001b[39mrnn(embedded)\n",
      "File \u001b[1;32mF:\\Documents\\Development\\GitHub\\natural-language-processing-y4\\code\\env\\lib\\site-packages\\torch\\nn\\modules\\module.py:1130\u001b[0m, in \u001b[0;36mModule._call_impl\u001b[1;34m(self, *input, **kwargs)\u001b[0m\n\u001b[0;32m   1126\u001b[0m \u001b[38;5;66;03m# If we don't have any hooks, we want to skip the rest of the logic in\u001b[39;00m\n\u001b[0;32m   1127\u001b[0m \u001b[38;5;66;03m# this function, and just call forward.\u001b[39;00m\n\u001b[0;32m   1128\u001b[0m \u001b[38;5;28;01mif\u001b[39;00m \u001b[38;5;129;01mnot\u001b[39;00m (\u001b[38;5;28mself\u001b[39m\u001b[38;5;241m.\u001b[39m_backward_hooks \u001b[38;5;129;01mor\u001b[39;00m \u001b[38;5;28mself\u001b[39m\u001b[38;5;241m.\u001b[39m_forward_hooks \u001b[38;5;129;01mor\u001b[39;00m \u001b[38;5;28mself\u001b[39m\u001b[38;5;241m.\u001b[39m_forward_pre_hooks \u001b[38;5;129;01mor\u001b[39;00m _global_backward_hooks\n\u001b[0;32m   1129\u001b[0m         \u001b[38;5;129;01mor\u001b[39;00m _global_forward_hooks \u001b[38;5;129;01mor\u001b[39;00m _global_forward_pre_hooks):\n\u001b[1;32m-> 1130\u001b[0m     \u001b[38;5;28;01mreturn\u001b[39;00m forward_call(\u001b[38;5;241m*\u001b[39m\u001b[38;5;28minput\u001b[39m, \u001b[38;5;241m*\u001b[39m\u001b[38;5;241m*\u001b[39mkwargs)\n\u001b[0;32m   1131\u001b[0m \u001b[38;5;66;03m# Do not call functions when jit is used\u001b[39;00m\n\u001b[0;32m   1132\u001b[0m full_backward_hooks, non_full_backward_hooks \u001b[38;5;241m=\u001b[39m [], []\n",
      "File \u001b[1;32mF:\\Documents\\Development\\GitHub\\natural-language-processing-y4\\code\\env\\lib\\site-packages\\transformers\\models\\bert\\modeling_bert.py:1019\u001b[0m, in \u001b[0;36mBertModel.forward\u001b[1;34m(self, input_ids, attention_mask, token_type_ids, position_ids, head_mask, inputs_embeds, encoder_hidden_states, encoder_attention_mask, past_key_values, use_cache, output_attentions, output_hidden_states, return_dict)\u001b[0m\n\u001b[0;32m   1010\u001b[0m head_mask \u001b[38;5;241m=\u001b[39m \u001b[38;5;28mself\u001b[39m\u001b[38;5;241m.\u001b[39mget_head_mask(head_mask, \u001b[38;5;28mself\u001b[39m\u001b[38;5;241m.\u001b[39mconfig\u001b[38;5;241m.\u001b[39mnum_hidden_layers)\n\u001b[0;32m   1012\u001b[0m embedding_output \u001b[38;5;241m=\u001b[39m \u001b[38;5;28mself\u001b[39m\u001b[38;5;241m.\u001b[39membeddings(\n\u001b[0;32m   1013\u001b[0m     input_ids\u001b[38;5;241m=\u001b[39minput_ids,\n\u001b[0;32m   1014\u001b[0m     position_ids\u001b[38;5;241m=\u001b[39mposition_ids,\n\u001b[1;32m   (...)\u001b[0m\n\u001b[0;32m   1017\u001b[0m     past_key_values_length\u001b[38;5;241m=\u001b[39mpast_key_values_length,\n\u001b[0;32m   1018\u001b[0m )\n\u001b[1;32m-> 1019\u001b[0m encoder_outputs \u001b[38;5;241m=\u001b[39m \u001b[38;5;28;43mself\u001b[39;49m\u001b[38;5;241;43m.\u001b[39;49m\u001b[43mencoder\u001b[49m\u001b[43m(\u001b[49m\n\u001b[0;32m   1020\u001b[0m \u001b[43m    \u001b[49m\u001b[43membedding_output\u001b[49m\u001b[43m,\u001b[49m\n\u001b[0;32m   1021\u001b[0m \u001b[43m    \u001b[49m\u001b[43mattention_mask\u001b[49m\u001b[38;5;241;43m=\u001b[39;49m\u001b[43mextended_attention_mask\u001b[49m\u001b[43m,\u001b[49m\n\u001b[0;32m   1022\u001b[0m \u001b[43m    \u001b[49m\u001b[43mhead_mask\u001b[49m\u001b[38;5;241;43m=\u001b[39;49m\u001b[43mhead_mask\u001b[49m\u001b[43m,\u001b[49m\n\u001b[0;32m   1023\u001b[0m \u001b[43m    \u001b[49m\u001b[43mencoder_hidden_states\u001b[49m\u001b[38;5;241;43m=\u001b[39;49m\u001b[43mencoder_hidden_states\u001b[49m\u001b[43m,\u001b[49m\n\u001b[0;32m   1024\u001b[0m \u001b[43m    \u001b[49m\u001b[43mencoder_attention_mask\u001b[49m\u001b[38;5;241;43m=\u001b[39;49m\u001b[43mencoder_extended_attention_mask\u001b[49m\u001b[43m,\u001b[49m\n\u001b[0;32m   1025\u001b[0m \u001b[43m    \u001b[49m\u001b[43mpast_key_values\u001b[49m\u001b[38;5;241;43m=\u001b[39;49m\u001b[43mpast_key_values\u001b[49m\u001b[43m,\u001b[49m\n\u001b[0;32m   1026\u001b[0m \u001b[43m    \u001b[49m\u001b[43muse_cache\u001b[49m\u001b[38;5;241;43m=\u001b[39;49m\u001b[43muse_cache\u001b[49m\u001b[43m,\u001b[49m\n\u001b[0;32m   1027\u001b[0m \u001b[43m    \u001b[49m\u001b[43moutput_attentions\u001b[49m\u001b[38;5;241;43m=\u001b[39;49m\u001b[43moutput_attentions\u001b[49m\u001b[43m,\u001b[49m\n\u001b[0;32m   1028\u001b[0m \u001b[43m    \u001b[49m\u001b[43moutput_hidden_states\u001b[49m\u001b[38;5;241;43m=\u001b[39;49m\u001b[43moutput_hidden_states\u001b[49m\u001b[43m,\u001b[49m\n\u001b[0;32m   1029\u001b[0m \u001b[43m    \u001b[49m\u001b[43mreturn_dict\u001b[49m\u001b[38;5;241;43m=\u001b[39;49m\u001b[43mreturn_dict\u001b[49m\u001b[43m,\u001b[49m\n\u001b[0;32m   1030\u001b[0m \u001b[43m\u001b[49m\u001b[43m)\u001b[49m\n\u001b[0;32m   1031\u001b[0m sequence_output \u001b[38;5;241m=\u001b[39m encoder_outputs[\u001b[38;5;241m0\u001b[39m]\n\u001b[0;32m   1032\u001b[0m pooled_output \u001b[38;5;241m=\u001b[39m \u001b[38;5;28mself\u001b[39m\u001b[38;5;241m.\u001b[39mpooler(sequence_output) \u001b[38;5;28;01mif\u001b[39;00m \u001b[38;5;28mself\u001b[39m\u001b[38;5;241m.\u001b[39mpooler \u001b[38;5;129;01mis\u001b[39;00m \u001b[38;5;129;01mnot\u001b[39;00m \u001b[38;5;28;01mNone\u001b[39;00m \u001b[38;5;28;01melse\u001b[39;00m \u001b[38;5;28;01mNone\u001b[39;00m\n",
      "File \u001b[1;32mF:\\Documents\\Development\\GitHub\\natural-language-processing-y4\\code\\env\\lib\\site-packages\\torch\\nn\\modules\\module.py:1130\u001b[0m, in \u001b[0;36mModule._call_impl\u001b[1;34m(self, *input, **kwargs)\u001b[0m\n\u001b[0;32m   1126\u001b[0m \u001b[38;5;66;03m# If we don't have any hooks, we want to skip the rest of the logic in\u001b[39;00m\n\u001b[0;32m   1127\u001b[0m \u001b[38;5;66;03m# this function, and just call forward.\u001b[39;00m\n\u001b[0;32m   1128\u001b[0m \u001b[38;5;28;01mif\u001b[39;00m \u001b[38;5;129;01mnot\u001b[39;00m (\u001b[38;5;28mself\u001b[39m\u001b[38;5;241m.\u001b[39m_backward_hooks \u001b[38;5;129;01mor\u001b[39;00m \u001b[38;5;28mself\u001b[39m\u001b[38;5;241m.\u001b[39m_forward_hooks \u001b[38;5;129;01mor\u001b[39;00m \u001b[38;5;28mself\u001b[39m\u001b[38;5;241m.\u001b[39m_forward_pre_hooks \u001b[38;5;129;01mor\u001b[39;00m _global_backward_hooks\n\u001b[0;32m   1129\u001b[0m         \u001b[38;5;129;01mor\u001b[39;00m _global_forward_hooks \u001b[38;5;129;01mor\u001b[39;00m _global_forward_pre_hooks):\n\u001b[1;32m-> 1130\u001b[0m     \u001b[38;5;28;01mreturn\u001b[39;00m forward_call(\u001b[38;5;241m*\u001b[39m\u001b[38;5;28minput\u001b[39m, \u001b[38;5;241m*\u001b[39m\u001b[38;5;241m*\u001b[39mkwargs)\n\u001b[0;32m   1131\u001b[0m \u001b[38;5;66;03m# Do not call functions when jit is used\u001b[39;00m\n\u001b[0;32m   1132\u001b[0m full_backward_hooks, non_full_backward_hooks \u001b[38;5;241m=\u001b[39m [], []\n",
      "File \u001b[1;32mF:\\Documents\\Development\\GitHub\\natural-language-processing-y4\\code\\env\\lib\\site-packages\\transformers\\models\\bert\\modeling_bert.py:609\u001b[0m, in \u001b[0;36mBertEncoder.forward\u001b[1;34m(self, hidden_states, attention_mask, head_mask, encoder_hidden_states, encoder_attention_mask, past_key_values, use_cache, output_attentions, output_hidden_states, return_dict)\u001b[0m\n\u001b[0;32m    600\u001b[0m     layer_outputs \u001b[38;5;241m=\u001b[39m torch\u001b[38;5;241m.\u001b[39mutils\u001b[38;5;241m.\u001b[39mcheckpoint\u001b[38;5;241m.\u001b[39mcheckpoint(\n\u001b[0;32m    601\u001b[0m         create_custom_forward(layer_module),\n\u001b[0;32m    602\u001b[0m         hidden_states,\n\u001b[1;32m   (...)\u001b[0m\n\u001b[0;32m    606\u001b[0m         encoder_attention_mask,\n\u001b[0;32m    607\u001b[0m     )\n\u001b[0;32m    608\u001b[0m \u001b[38;5;28;01melse\u001b[39;00m:\n\u001b[1;32m--> 609\u001b[0m     layer_outputs \u001b[38;5;241m=\u001b[39m \u001b[43mlayer_module\u001b[49m\u001b[43m(\u001b[49m\n\u001b[0;32m    610\u001b[0m \u001b[43m        \u001b[49m\u001b[43mhidden_states\u001b[49m\u001b[43m,\u001b[49m\n\u001b[0;32m    611\u001b[0m \u001b[43m        \u001b[49m\u001b[43mattention_mask\u001b[49m\u001b[43m,\u001b[49m\n\u001b[0;32m    612\u001b[0m \u001b[43m        \u001b[49m\u001b[43mlayer_head_mask\u001b[49m\u001b[43m,\u001b[49m\n\u001b[0;32m    613\u001b[0m \u001b[43m        \u001b[49m\u001b[43mencoder_hidden_states\u001b[49m\u001b[43m,\u001b[49m\n\u001b[0;32m    614\u001b[0m \u001b[43m        \u001b[49m\u001b[43mencoder_attention_mask\u001b[49m\u001b[43m,\u001b[49m\n\u001b[0;32m    615\u001b[0m \u001b[43m        \u001b[49m\u001b[43mpast_key_value\u001b[49m\u001b[43m,\u001b[49m\n\u001b[0;32m    616\u001b[0m \u001b[43m        \u001b[49m\u001b[43moutput_attentions\u001b[49m\u001b[43m,\u001b[49m\n\u001b[0;32m    617\u001b[0m \u001b[43m    \u001b[49m\u001b[43m)\u001b[49m\n\u001b[0;32m    619\u001b[0m hidden_states \u001b[38;5;241m=\u001b[39m layer_outputs[\u001b[38;5;241m0\u001b[39m]\n\u001b[0;32m    620\u001b[0m \u001b[38;5;28;01mif\u001b[39;00m use_cache:\n",
      "File \u001b[1;32mF:\\Documents\\Development\\GitHub\\natural-language-processing-y4\\code\\env\\lib\\site-packages\\torch\\nn\\modules\\module.py:1130\u001b[0m, in \u001b[0;36mModule._call_impl\u001b[1;34m(self, *input, **kwargs)\u001b[0m\n\u001b[0;32m   1126\u001b[0m \u001b[38;5;66;03m# If we don't have any hooks, we want to skip the rest of the logic in\u001b[39;00m\n\u001b[0;32m   1127\u001b[0m \u001b[38;5;66;03m# this function, and just call forward.\u001b[39;00m\n\u001b[0;32m   1128\u001b[0m \u001b[38;5;28;01mif\u001b[39;00m \u001b[38;5;129;01mnot\u001b[39;00m (\u001b[38;5;28mself\u001b[39m\u001b[38;5;241m.\u001b[39m_backward_hooks \u001b[38;5;129;01mor\u001b[39;00m \u001b[38;5;28mself\u001b[39m\u001b[38;5;241m.\u001b[39m_forward_hooks \u001b[38;5;129;01mor\u001b[39;00m \u001b[38;5;28mself\u001b[39m\u001b[38;5;241m.\u001b[39m_forward_pre_hooks \u001b[38;5;129;01mor\u001b[39;00m _global_backward_hooks\n\u001b[0;32m   1129\u001b[0m         \u001b[38;5;129;01mor\u001b[39;00m _global_forward_hooks \u001b[38;5;129;01mor\u001b[39;00m _global_forward_pre_hooks):\n\u001b[1;32m-> 1130\u001b[0m     \u001b[38;5;28;01mreturn\u001b[39;00m forward_call(\u001b[38;5;241m*\u001b[39m\u001b[38;5;28minput\u001b[39m, \u001b[38;5;241m*\u001b[39m\u001b[38;5;241m*\u001b[39mkwargs)\n\u001b[0;32m   1131\u001b[0m \u001b[38;5;66;03m# Do not call functions when jit is used\u001b[39;00m\n\u001b[0;32m   1132\u001b[0m full_backward_hooks, non_full_backward_hooks \u001b[38;5;241m=\u001b[39m [], []\n",
      "File \u001b[1;32mF:\\Documents\\Development\\GitHub\\natural-language-processing-y4\\code\\env\\lib\\site-packages\\transformers\\models\\bert\\modeling_bert.py:537\u001b[0m, in \u001b[0;36mBertLayer.forward\u001b[1;34m(self, hidden_states, attention_mask, head_mask, encoder_hidden_states, encoder_attention_mask, past_key_value, output_attentions)\u001b[0m\n\u001b[0;32m    534\u001b[0m     cross_attn_present_key_value \u001b[38;5;241m=\u001b[39m cross_attention_outputs[\u001b[38;5;241m-\u001b[39m\u001b[38;5;241m1\u001b[39m]\n\u001b[0;32m    535\u001b[0m     present_key_value \u001b[38;5;241m=\u001b[39m present_key_value \u001b[38;5;241m+\u001b[39m cross_attn_present_key_value\n\u001b[1;32m--> 537\u001b[0m layer_output \u001b[38;5;241m=\u001b[39m \u001b[43mapply_chunking_to_forward\u001b[49m\u001b[43m(\u001b[49m\n\u001b[0;32m    538\u001b[0m \u001b[43m    \u001b[49m\u001b[38;5;28;43mself\u001b[39;49m\u001b[38;5;241;43m.\u001b[39;49m\u001b[43mfeed_forward_chunk\u001b[49m\u001b[43m,\u001b[49m\u001b[43m \u001b[49m\u001b[38;5;28;43mself\u001b[39;49m\u001b[38;5;241;43m.\u001b[39;49m\u001b[43mchunk_size_feed_forward\u001b[49m\u001b[43m,\u001b[49m\u001b[43m \u001b[49m\u001b[38;5;28;43mself\u001b[39;49m\u001b[38;5;241;43m.\u001b[39;49m\u001b[43mseq_len_dim\u001b[49m\u001b[43m,\u001b[49m\u001b[43m \u001b[49m\u001b[43mattention_output\u001b[49m\n\u001b[0;32m    539\u001b[0m \u001b[43m\u001b[49m\u001b[43m)\u001b[49m\n\u001b[0;32m    540\u001b[0m outputs \u001b[38;5;241m=\u001b[39m (layer_output,) \u001b[38;5;241m+\u001b[39m outputs\n\u001b[0;32m    542\u001b[0m \u001b[38;5;66;03m# if decoder, return the attn key/values as the last output\u001b[39;00m\n",
      "File \u001b[1;32mF:\\Documents\\Development\\GitHub\\natural-language-processing-y4\\code\\env\\lib\\site-packages\\transformers\\pytorch_utils.py:249\u001b[0m, in \u001b[0;36mapply_chunking_to_forward\u001b[1;34m(forward_fn, chunk_size, chunk_dim, *input_tensors)\u001b[0m\n\u001b[0;32m    246\u001b[0m     \u001b[38;5;66;03m# concatenate output at same dimension\u001b[39;00m\n\u001b[0;32m    247\u001b[0m     \u001b[38;5;28;01mreturn\u001b[39;00m torch\u001b[38;5;241m.\u001b[39mcat(output_chunks, dim\u001b[38;5;241m=\u001b[39mchunk_dim)\n\u001b[1;32m--> 249\u001b[0m \u001b[38;5;28;01mreturn\u001b[39;00m \u001b[43mforward_fn\u001b[49m\u001b[43m(\u001b[49m\u001b[38;5;241;43m*\u001b[39;49m\u001b[43minput_tensors\u001b[49m\u001b[43m)\u001b[49m\n",
      "File \u001b[1;32mF:\\Documents\\Development\\GitHub\\natural-language-processing-y4\\code\\env\\lib\\site-packages\\transformers\\models\\bert\\modeling_bert.py:549\u001b[0m, in \u001b[0;36mBertLayer.feed_forward_chunk\u001b[1;34m(self, attention_output)\u001b[0m\n\u001b[0;32m    548\u001b[0m \u001b[38;5;28;01mdef\u001b[39;00m \u001b[38;5;21mfeed_forward_chunk\u001b[39m(\u001b[38;5;28mself\u001b[39m, attention_output):\n\u001b[1;32m--> 549\u001b[0m     intermediate_output \u001b[38;5;241m=\u001b[39m \u001b[38;5;28;43mself\u001b[39;49m\u001b[38;5;241;43m.\u001b[39;49m\u001b[43mintermediate\u001b[49m\u001b[43m(\u001b[49m\u001b[43mattention_output\u001b[49m\u001b[43m)\u001b[49m\n\u001b[0;32m    550\u001b[0m     layer_output \u001b[38;5;241m=\u001b[39m \u001b[38;5;28mself\u001b[39m\u001b[38;5;241m.\u001b[39moutput(intermediate_output, attention_output)\n\u001b[0;32m    551\u001b[0m     \u001b[38;5;28;01mreturn\u001b[39;00m layer_output\n",
      "File \u001b[1;32mF:\\Documents\\Development\\GitHub\\natural-language-processing-y4\\code\\env\\lib\\site-packages\\torch\\nn\\modules\\module.py:1130\u001b[0m, in \u001b[0;36mModule._call_impl\u001b[1;34m(self, *input, **kwargs)\u001b[0m\n\u001b[0;32m   1126\u001b[0m \u001b[38;5;66;03m# If we don't have any hooks, we want to skip the rest of the logic in\u001b[39;00m\n\u001b[0;32m   1127\u001b[0m \u001b[38;5;66;03m# this function, and just call forward.\u001b[39;00m\n\u001b[0;32m   1128\u001b[0m \u001b[38;5;28;01mif\u001b[39;00m \u001b[38;5;129;01mnot\u001b[39;00m (\u001b[38;5;28mself\u001b[39m\u001b[38;5;241m.\u001b[39m_backward_hooks \u001b[38;5;129;01mor\u001b[39;00m \u001b[38;5;28mself\u001b[39m\u001b[38;5;241m.\u001b[39m_forward_hooks \u001b[38;5;129;01mor\u001b[39;00m \u001b[38;5;28mself\u001b[39m\u001b[38;5;241m.\u001b[39m_forward_pre_hooks \u001b[38;5;129;01mor\u001b[39;00m _global_backward_hooks\n\u001b[0;32m   1129\u001b[0m         \u001b[38;5;129;01mor\u001b[39;00m _global_forward_hooks \u001b[38;5;129;01mor\u001b[39;00m _global_forward_pre_hooks):\n\u001b[1;32m-> 1130\u001b[0m     \u001b[38;5;28;01mreturn\u001b[39;00m forward_call(\u001b[38;5;241m*\u001b[39m\u001b[38;5;28minput\u001b[39m, \u001b[38;5;241m*\u001b[39m\u001b[38;5;241m*\u001b[39mkwargs)\n\u001b[0;32m   1131\u001b[0m \u001b[38;5;66;03m# Do not call functions when jit is used\u001b[39;00m\n\u001b[0;32m   1132\u001b[0m full_backward_hooks, non_full_backward_hooks \u001b[38;5;241m=\u001b[39m [], []\n",
      "File \u001b[1;32mF:\\Documents\\Development\\GitHub\\natural-language-processing-y4\\code\\env\\lib\\site-packages\\transformers\\models\\bert\\modeling_bert.py:449\u001b[0m, in \u001b[0;36mBertIntermediate.forward\u001b[1;34m(self, hidden_states)\u001b[0m\n\u001b[0;32m    448\u001b[0m \u001b[38;5;28;01mdef\u001b[39;00m \u001b[38;5;21mforward\u001b[39m(\u001b[38;5;28mself\u001b[39m, hidden_states: torch\u001b[38;5;241m.\u001b[39mTensor) \u001b[38;5;241m-\u001b[39m\u001b[38;5;241m>\u001b[39m torch\u001b[38;5;241m.\u001b[39mTensor:\n\u001b[1;32m--> 449\u001b[0m     hidden_states \u001b[38;5;241m=\u001b[39m \u001b[38;5;28;43mself\u001b[39;49m\u001b[38;5;241;43m.\u001b[39;49m\u001b[43mdense\u001b[49m\u001b[43m(\u001b[49m\u001b[43mhidden_states\u001b[49m\u001b[43m)\u001b[49m\n\u001b[0;32m    450\u001b[0m     hidden_states \u001b[38;5;241m=\u001b[39m \u001b[38;5;28mself\u001b[39m\u001b[38;5;241m.\u001b[39mintermediate_act_fn(hidden_states)\n\u001b[0;32m    451\u001b[0m     \u001b[38;5;28;01mreturn\u001b[39;00m hidden_states\n",
      "File \u001b[1;32mF:\\Documents\\Development\\GitHub\\natural-language-processing-y4\\code\\env\\lib\\site-packages\\torch\\nn\\modules\\module.py:1130\u001b[0m, in \u001b[0;36mModule._call_impl\u001b[1;34m(self, *input, **kwargs)\u001b[0m\n\u001b[0;32m   1126\u001b[0m \u001b[38;5;66;03m# If we don't have any hooks, we want to skip the rest of the logic in\u001b[39;00m\n\u001b[0;32m   1127\u001b[0m \u001b[38;5;66;03m# this function, and just call forward.\u001b[39;00m\n\u001b[0;32m   1128\u001b[0m \u001b[38;5;28;01mif\u001b[39;00m \u001b[38;5;129;01mnot\u001b[39;00m (\u001b[38;5;28mself\u001b[39m\u001b[38;5;241m.\u001b[39m_backward_hooks \u001b[38;5;129;01mor\u001b[39;00m \u001b[38;5;28mself\u001b[39m\u001b[38;5;241m.\u001b[39m_forward_hooks \u001b[38;5;129;01mor\u001b[39;00m \u001b[38;5;28mself\u001b[39m\u001b[38;5;241m.\u001b[39m_forward_pre_hooks \u001b[38;5;129;01mor\u001b[39;00m _global_backward_hooks\n\u001b[0;32m   1129\u001b[0m         \u001b[38;5;129;01mor\u001b[39;00m _global_forward_hooks \u001b[38;5;129;01mor\u001b[39;00m _global_forward_pre_hooks):\n\u001b[1;32m-> 1130\u001b[0m     \u001b[38;5;28;01mreturn\u001b[39;00m forward_call(\u001b[38;5;241m*\u001b[39m\u001b[38;5;28minput\u001b[39m, \u001b[38;5;241m*\u001b[39m\u001b[38;5;241m*\u001b[39mkwargs)\n\u001b[0;32m   1131\u001b[0m \u001b[38;5;66;03m# Do not call functions when jit is used\u001b[39;00m\n\u001b[0;32m   1132\u001b[0m full_backward_hooks, non_full_backward_hooks \u001b[38;5;241m=\u001b[39m [], []\n",
      "File \u001b[1;32mF:\\Documents\\Development\\GitHub\\natural-language-processing-y4\\code\\env\\lib\\site-packages\\torch\\nn\\modules\\linear.py:114\u001b[0m, in \u001b[0;36mLinear.forward\u001b[1;34m(self, input)\u001b[0m\n\u001b[0;32m    113\u001b[0m \u001b[38;5;28;01mdef\u001b[39;00m \u001b[38;5;21mforward\u001b[39m(\u001b[38;5;28mself\u001b[39m, \u001b[38;5;28minput\u001b[39m: Tensor) \u001b[38;5;241m-\u001b[39m\u001b[38;5;241m>\u001b[39m Tensor:\n\u001b[1;32m--> 114\u001b[0m     \u001b[38;5;28;01mreturn\u001b[39;00m \u001b[43mF\u001b[49m\u001b[38;5;241;43m.\u001b[39;49m\u001b[43mlinear\u001b[49m\u001b[43m(\u001b[49m\u001b[38;5;28;43minput\u001b[39;49m\u001b[43m,\u001b[49m\u001b[43m \u001b[49m\u001b[38;5;28;43mself\u001b[39;49m\u001b[38;5;241;43m.\u001b[39;49m\u001b[43mweight\u001b[49m\u001b[43m,\u001b[49m\u001b[43m \u001b[49m\u001b[38;5;28;43mself\u001b[39;49m\u001b[38;5;241;43m.\u001b[39;49m\u001b[43mbias\u001b[49m\u001b[43m)\u001b[49m\n",
      "\u001b[1;31mKeyboardInterrupt\u001b[0m: "
     ]
    }
   ],
   "source": [
    "best_validation_loss = 1e9\n",
    "save_path = f\"./runs/{time.time()}_{model.__class__.__qualname__}_{'weighted' if apply_loss_weighting else 'no_weight'}\"\n",
    "epochs_since_best_validation = 0\n",
    "\n",
    "os.makedirs(save_path, exist_ok=True)\n",
    "\n",
    "if not apply_loss_weighting:\n",
    "    loss_func = nn.BCEWithLogitsLoss()\n",
    "    \n",
    "for epoch in range(1, 101):\n",
    "    model.train()\n",
    "    epoch_st = time.time()\n",
    "    epoch_loss = 0\n",
    "    \n",
    "    batch_acc_loss = 0\n",
    "    \n",
    "    for batch_no, (inp, labels) in enumerate(tqdm(train_dataloader)):\n",
    "        inp = inp.to(device)\n",
    "        labels = labels.to(device)\n",
    "\n",
    "        if apply_loss_weighting:\n",
    "            loss_weights = torch.zeros_like(labels)\n",
    "            loss_weights[labels == 0] = class_weights[0]\n",
    "            loss_weights[labels == 1] = class_weights[1]\n",
    "            loss_func = nn.BCEWithLogitsLoss(weight=loss_weights)\n",
    "\n",
    "        predictions = model(inp)\n",
    "        loss = loss_func(predictions, labels.float())\n",
    "\n",
    "        opt.zero_grad()\n",
    "        loss.backward()\n",
    "        opt.step()\n",
    "\n",
    "        epoch_loss += loss.item()\n",
    "        batch_acc_loss += loss.item()\n",
    "\n",
    "        if batch_no != 0 and batch_no % 40 == 0:\n",
    "            print(f\"[{epoch}:{batch_no}] Loss: {(batch_acc_loss / 40):.3f}\")\n",
    "            batch_acc_loss = 0\n",
    "\n",
    "    epoch_dt = time.time() - epoch_st\n",
    "    print(f\"[{epoch}:END] Took {epoch_dt:.3f}s\")\n",
    "    print(f\"[{epoch}:END] Training Loss: {(epoch_loss / len(train_dataloader)):.3f}\")\n",
    "    \n",
    "    validation_pred, avg_validation_loss = evaluate_model(model, val_dataloader, val_labels, apply_loss_weighting)\n",
    "    print(f\"[{epoch}:END] Validation Loss: {avg_validation_loss:.3f}\")\n",
    "    print(f\"[{epoch}:END] Validation Accuracy: {(validation_pred == val_labels).mean() * 100:.3f}%\")\n",
    "    \n",
    "    print(metrics.classification_report(val_labels, validation_pred))\n",
    "    plot_confusion_matrix(val_labels, validation_pred)\n",
    "    plot_roc_curve(val_labels, validation_pred)\n",
    "    \n",
    "    epochs_since_best_validation += 1\n",
    "    \n",
    "    if avg_validation_loss < best_validation_loss:\n",
    "        epochs_since_best_validation = 0\n",
    "        best_validation_loss = avg_validation_loss\n",
    "        torch.save(model.state_dict(), f\"{save_path}/model_{epoch}.pth\")\n",
    "        print(f\"[{epoch}:END] Validation loss improved, saved model to {save_path}/model_{epoch}.pth\")\n",
    "    \n",
    "    if epochs_since_best_validation >= 2:\n",
    "        print(f\"[END] Stopping early as validation loss hasn't improved in 2 epochs\")\n",
    "        break\n",
    "        \n",
    "print(\"Training complete\")"
   ]
  },
  {
   "cell_type": "code",
   "execution_count": null,
   "id": "e66a1541-ab7b-4375-870e-4b82f594fa4e",
   "metadata": {},
   "outputs": [],
   "source": []
  }
 ],
 "metadata": {
  "kernelspec": {
   "display_name": "Python 3 (ipykernel)",
   "language": "python",
   "name": "python3"
  },
  "language_info": {
   "codemirror_mode": {
    "name": "ipython",
    "version": 3
   },
   "file_extension": ".py",
   "mimetype": "text/x-python",
   "name": "python",
   "nbconvert_exporter": "python",
   "pygments_lexer": "ipython3",
   "version": "3.10.7"
  }
 },
 "nbformat": 4,
 "nbformat_minor": 5
}
