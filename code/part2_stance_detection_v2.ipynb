{
 "cells": [
  {
   "cell_type": "code",
   "execution_count": 1,
   "id": "f5ace933-6cab-4a51-ab2e-30b688e939c3",
   "metadata": {},
   "outputs": [],
   "source": [
    "import pandas as pd\n",
    "import matplotlib.pyplot as plt\n",
    "import seaborn as sns\n",
    "import random\n",
    "\n",
    "import string\n",
    "import re\n",
    "\n",
    "import scipy\n",
    "import numpy as np\n",
    "from sklearn.feature_extraction.text import TfidfVectorizer, CountVectorizer\n",
    "\n",
    "from sklearn import metrics\n",
    "from sklearn.metrics import confusion_matrix,accuracy_score,roc_auc_score,roc_curve,auc,f1_score, ConfusionMatrixDisplay\n",
    "from sklearn.utils.class_weight import compute_class_weight\n",
    "\n",
    "import evaluate\n",
    "\n",
    "import torch\n",
    "import torch.nn as nn\n",
    "import torch.optim as optim\n",
    "import torch.utils.data\n",
    "\n",
    "import torchinfo\n",
    "\n",
    "import wandb\n",
    "\n",
    "import time\n",
    "import os\n",
    "import shutil\n",
    "import json\n",
    "from datetime import datetime\n",
    "\n",
    "import transformers\n",
    "from transformers import BertTokenizer, BertModel\n",
    "\n",
    "from tqdm.notebook import tqdm\n",
    "tqdm.pandas()\n",
    "\n",
    "device=\"cuda\""
   ]
  },
  {
   "cell_type": "markdown",
   "id": "312b07aa-9493-430f-952e-8610baea8eb1",
   "metadata": {
    "jp-MarkdownHeadingCollapsed": true,
    "tags": []
   },
   "source": [
    "## Dataset Loading"
   ]
  },
  {
   "cell_type": "code",
   "execution_count": 2,
   "id": "b45426d0-91f8-421a-b299-3f24ae4b3463",
   "metadata": {
    "tags": []
   },
   "outputs": [],
   "source": [
    "train_stances = pd.read_csv(\"./dataset/train_stances.csv\")\n",
    "train_bodies = pd.read_csv(\"./dataset/train_bodies.csv\")\n",
    "\n",
    "test_stances = pd.read_csv(\"./dataset/competition_test_stances.csv\")\n",
    "test_bodies = pd.read_csv(\"./dataset/competition_test_bodies.csv\")"
   ]
  },
  {
   "cell_type": "markdown",
   "id": "b68637f1-6554-4979-934a-f0f950214459",
   "metadata": {},
   "source": [
    "Join the two datasets and add a label for related articles"
   ]
  },
  {
   "cell_type": "code",
   "execution_count": 3,
   "id": "b58a598b-432f-47cc-9b61-113b3b99d59d",
   "metadata": {
    "tags": []
   },
   "outputs": [],
   "source": [
    "test_df = test_stances.merge(test_bodies, on=\"Body ID\")\n",
    "test_df[\"Related\"] = (test_df[\"Stance\"] != \"unrelated\").astype(int)\n",
    "\n",
    "train_and_val_df = train_stances.merge(train_bodies, on=\"Body ID\")\n",
    "train_and_val_df[\"Related\"] = (train_and_val_df[\"Stance\"] != \"unrelated\").astype(int)"
   ]
  },
  {
   "cell_type": "markdown",
   "id": "dbf4eca3-9dfb-4e35-b327-d646834fe43a",
   "metadata": {},
   "source": [
    "For training the stance detection we only want those that are related"
   ]
  },
  {
   "cell_type": "code",
   "execution_count": 4,
   "id": "7afe446d-1ae7-45a9-b1ed-ad3aac30c7fb",
   "metadata": {
    "tags": []
   },
   "outputs": [],
   "source": [
    "train_and_val_df = train_and_val_df[train_and_val_df[\"Related\"] == True]\n",
    "test_df = test_df[test_df[\"Related\"] == True]"
   ]
  },
  {
   "cell_type": "code",
   "execution_count": 5,
   "id": "fcf8797c-6244-46b9-92a5-90c1638b578d",
   "metadata": {
    "tags": []
   },
   "outputs": [],
   "source": [
    "val_split_ratio = 0.2\n",
    "\n",
    "def split_train_val(df, ratio):\n",
    "    val_count = int(ratio * df[\"Body ID\"].nunique())\n",
    "    all_ids = list(df[\"Body ID\"].unique())\n",
    "    val_body_ids = random.sample(all_ids, val_count)\n",
    "    train_body_ids = set(all_ids) - set(val_body_ids)\n",
    "    \n",
    "    assert len(set(val_body_ids) & train_body_ids) == 0\n",
    "    \n",
    "    val_df = df.loc[df[\"Body ID\"].isin(val_body_ids)]\n",
    "    train_df = df.loc[df[\"Body ID\"].isin(train_body_ids)]\n",
    "    \n",
    "    return val_df, train_df"
   ]
  },
  {
   "cell_type": "code",
   "execution_count": 6,
   "id": "c398b0b2-92a4-4519-adfb-d6e582cdb0f1",
   "metadata": {
    "tags": []
   },
   "outputs": [],
   "source": [
    "val_df, train_df = split_train_val(train_and_val_df, val_split_ratio)\n",
    "\n",
    "def prepare_df(df):\n",
    "    df = df.drop(\"Body ID\", axis=1)\n",
    "    df = df.reset_index()\n",
    "    df = df.drop(\"index\", axis=1)\n",
    "    df[\"Related\"] = df[\"Stance\"] != \"unrelated\"\n",
    "    return df"
   ]
  },
  {
   "cell_type": "code",
   "execution_count": 7,
   "id": "8631c329-c506-4dd9-94e7-673812a69f97",
   "metadata": {
    "tags": []
   },
   "outputs": [],
   "source": [
    "val_df = prepare_df(val_df)\n",
    "train_df = prepare_df(train_df)\n",
    "test_df = prepare_df(test_df)"
   ]
  },
  {
   "cell_type": "code",
   "execution_count": 8,
   "id": "f569b7b1-145a-43af-9f8f-6e8ac3ffefed",
   "metadata": {
    "tags": []
   },
   "outputs": [],
   "source": [
    "# Most of this from the first practical\n",
    "additional_specials = [\"—\", \"”\", \"“\", \"’\", \"‘\"]\n",
    "\n",
    "def remove_excess_whitespace(text):\n",
    "    text = text.replace(\"\\n\", \" \")\n",
    "    text = text.replace(\"\\t\", \" \")\n",
    "    text = text.replace(\"\\r\", \" \")\n",
    "    text = text.strip()\n",
    "    return text\n",
    "\n",
    "def remove_punctuation(text):\n",
    "    punc = str.maketrans('', '', string.punctuation)\n",
    "    text = text.translate(punc)\n",
    "    \n",
    "    for special in additional_specials:\n",
    "        text = text.replace(special, \"\")\n",
    "    \n",
    "    return text\n",
    "\n",
    "def remove_urls(text):\n",
    "    url = re.compile(r'https?://\\S+|www\\.\\S+')\n",
    "    return url.sub('', text)\n",
    "\n",
    "def remove_html(text):\n",
    "    html = re.compile(r'<.*?>')\n",
    "    return html.sub('', text)\n",
    "\n",
    "def remove_numbers(text):\n",
    "    numbers = re.compile(r'\\d+')\n",
    "    return numbers.sub('', text)\n",
    "\n",
    "def remove_emojis(text):\n",
    "    emoji_pattern = re.compile(\"[\"\n",
    "                           u\"\\U0001F600-\\U0001F64F\"  # emoticons\n",
    "                           u\"\\U0001F300-\\U0001F5FF\"  # symbols & pictographs\n",
    "                           u\"\\U0001F680-\\U0001F6FF\"  # transport & map symbols\n",
    "                           u\"\\U0001F1E0-\\U0001F1FF\"  # flags (iOS)\n",
    "                           u\"\\U00002702-\\U000027B0\"\n",
    "                           u\"\\U000024C2-\\U0001F251\"\n",
    "                           \"]+\", flags=re.UNICODE)\n",
    "    \n",
    "    return emoji_pattern.sub(r'', text)\n",
    "\n",
    "def apply_cleaning(text, excess=True, punc=True, urls=True, html=True, numbers=True, emojis=True, lower=True):\n",
    "    if excess:\n",
    "        text = \" \".join(text.split())\n",
    "        \n",
    "    if punc:\n",
    "        text = remove_punctuation(text)\n",
    "    \n",
    "    if urls:\n",
    "        text = remove_urls(text)\n",
    "    \n",
    "    if html:\n",
    "        text = remove_html(text)\n",
    "    \n",
    "    if numbers:\n",
    "        text = remove_numbers(text)\n",
    "        \n",
    "    if emojis:\n",
    "        text = remove_emojis(text)\n",
    "        \n",
    "    if lower:\n",
    "        text = text.lower()\n",
    "    \n",
    "    return text"
   ]
  },
  {
   "cell_type": "code",
   "execution_count": 9,
   "id": "57827710-0aeb-4535-95ce-96c470d4de4d",
   "metadata": {
    "tags": []
   },
   "outputs": [],
   "source": [
    "config_remove_excess_whitespace = True\n",
    "config_remove_punctuation = False\n",
    "config_remove_urls = True\n",
    "config_remove_html = True\n",
    "config_remove_numbers = False\n",
    "config_remove_emojis = True\n",
    "config_convert_to_lowercase = False"
   ]
  },
  {
   "cell_type": "code",
   "execution_count": 10,
   "id": "1fc22f57-f5e0-4a0c-b0c9-435f58f46cc6",
   "metadata": {
    "tags": []
   },
   "outputs": [],
   "source": [
    "def process_text(text):\n",
    "    text = apply_cleaning(\n",
    "        text, \n",
    "        excess=config_remove_excess_whitespace, \n",
    "        punc=config_remove_punctuation, \n",
    "        urls=config_remove_urls, \n",
    "        html=config_remove_html, \n",
    "        numbers=config_remove_numbers, \n",
    "        emojis=config_remove_emojis, \n",
    "        lower=config_convert_to_lowercase\n",
    "    )\n",
    "    \n",
    "    return text"
   ]
  },
  {
   "cell_type": "code",
   "execution_count": 11,
   "id": "e2375b99-6500-4d20-8c87-0599d738a5ed",
   "metadata": {
    "tags": []
   },
   "outputs": [
    {
     "data": {
      "application/vnd.jupyter.widget-view+json": {
       "model_id": "e2928d8d93804e41ba148df11ef2bddf",
       "version_major": 2,
       "version_minor": 0
      },
      "text/plain": [
       "  0%|          | 0/10876 [00:00<?, ?it/s]"
      ]
     },
     "metadata": {},
     "output_type": "display_data"
    },
    {
     "data": {
      "application/vnd.jupyter.widget-view+json": {
       "model_id": "9b40b39dff31421ab0d7e962d180d49f",
       "version_major": 2,
       "version_minor": 0
      },
      "text/plain": [
       "  0%|          | 0/10876 [00:00<?, ?it/s]"
      ]
     },
     "metadata": {},
     "output_type": "display_data"
    },
    {
     "data": {
      "application/vnd.jupyter.widget-view+json": {
       "model_id": "35372a5a9d1942ec8a6c7ac50245e660",
       "version_major": 2,
       "version_minor": 0
      },
      "text/plain": [
       "  0%|          | 0/2551 [00:00<?, ?it/s]"
      ]
     },
     "metadata": {},
     "output_type": "display_data"
    },
    {
     "data": {
      "application/vnd.jupyter.widget-view+json": {
       "model_id": "749cd77994fb43a39ee2f9f8397fa9ce",
       "version_major": 2,
       "version_minor": 0
      },
      "text/plain": [
       "  0%|          | 0/2551 [00:00<?, ?it/s]"
      ]
     },
     "metadata": {},
     "output_type": "display_data"
    },
    {
     "data": {
      "application/vnd.jupyter.widget-view+json": {
       "model_id": "fe58131fee2c4ec5849e66307802b7e0",
       "version_major": 2,
       "version_minor": 0
      },
      "text/plain": [
       "  0%|          | 0/7064 [00:00<?, ?it/s]"
      ]
     },
     "metadata": {},
     "output_type": "display_data"
    },
    {
     "data": {
      "application/vnd.jupyter.widget-view+json": {
       "model_id": "b03e6ddea724476388410c5a46099833",
       "version_major": 2,
       "version_minor": 0
      },
      "text/plain": [
       "  0%|          | 0/7064 [00:00<?, ?it/s]"
      ]
     },
     "metadata": {},
     "output_type": "display_data"
    }
   ],
   "source": [
    "train_df[\"Processed Headline\"] = train_df[\"Headline\"].progress_apply(process_text)\n",
    "train_df[\"Processed Body\"] = train_df[\"articleBody\"].progress_apply(process_text)\n",
    "\n",
    "val_df[\"Processed Headline\"] = val_df[\"Headline\"].progress_apply(process_text)\n",
    "val_df[\"Processed Body\"] = val_df[\"articleBody\"].progress_apply(process_text)\n",
    "\n",
    "test_df[\"Processed Headline\"] = test_df[\"Headline\"].progress_apply(process_text)\n",
    "test_df[\"Processed Body\"] = test_df[\"articleBody\"].progress_apply(process_text)"
   ]
  },
  {
   "cell_type": "code",
   "execution_count": 12,
   "id": "8299c888-0453-4cac-a47a-d00c1bc7a0f2",
   "metadata": {
    "tags": []
   },
   "outputs": [],
   "source": [
    "selected_model = \"bert-base-uncased\"\n",
    "tokeniser = BertTokenizer.from_pretrained(selected_model)"
   ]
  },
  {
   "cell_type": "code",
   "execution_count": 13,
   "id": "24fdb892-9093-43af-86b8-54ad7a1014ab",
   "metadata": {
    "tags": []
   },
   "outputs": [],
   "source": [
    "def concated_headline_body_tokens(headline, body):\n",
    "    concated = tokeniser(headline, body, truncation=\"longest_first\", padding=\"max_length\", return_tensors=\"pt\")\n",
    "    input_ids = concated[\"input_ids\"]\n",
    "    attention_mask = concated[\"attention_mask\"]\n",
    "    return input_ids, attention_mask"
   ]
  },
  {
   "cell_type": "code",
   "execution_count": 14,
   "id": "ff62241d-afba-4213-8663-464fe4354ce9",
   "metadata": {
    "tags": []
   },
   "outputs": [
    {
     "data": {
      "application/vnd.jupyter.widget-view+json": {
       "model_id": "c8d30cc24b334569a3e5b0fc133e2250",
       "version_major": 2,
       "version_minor": 0
      },
      "text/plain": [
       "  0%|          | 0/10876 [00:00<?, ?it/s]"
      ]
     },
     "metadata": {},
     "output_type": "display_data"
    }
   ],
   "source": [
    "transformers.logging.set_verbosity_error()\n",
    "train_df[[\"input_ids\", \"attention_mask\"]] = train_df.progress_apply(lambda row: concated_headline_body_tokens(row[\"Processed Headline\"], row[\"Processed Body\"]), axis=\"columns\", result_type=\"expand\") # type: ignore\n",
    "transformers.logging.set_verbosity_warning()"
   ]
  },
  {
   "cell_type": "code",
   "execution_count": 15,
   "id": "ae659d0b-986b-465d-93c8-5314d13f43ff",
   "metadata": {
    "tags": []
   },
   "outputs": [
    {
     "data": {
      "application/vnd.jupyter.widget-view+json": {
       "model_id": "87e066ff9ba942409bea9023e12fac70",
       "version_major": 2,
       "version_minor": 0
      },
      "text/plain": [
       "  0%|          | 0/2551 [00:00<?, ?it/s]"
      ]
     },
     "metadata": {},
     "output_type": "display_data"
    }
   ],
   "source": [
    "transformers.logging.set_verbosity_error()\n",
    "val_df[[\"input_ids\", \"attention_mask\"]] = val_df.progress_apply(lambda row: concated_headline_body_tokens(row[\"Processed Headline\"], row[\"Processed Body\"]), axis=\"columns\", result_type=\"expand\") # type: ignore\n",
    "transformers.logging.set_verbosity_warning()"
   ]
  },
  {
   "cell_type": "code",
   "execution_count": 16,
   "id": "e6d12ed8-7b93-406d-a918-cc294b2a64a0",
   "metadata": {
    "tags": []
   },
   "outputs": [
    {
     "data": {
      "application/vnd.jupyter.widget-view+json": {
       "model_id": "1c5c3faa5cef4a0eb587a688736e49c7",
       "version_major": 2,
       "version_minor": 0
      },
      "text/plain": [
       "  0%|          | 0/7064 [00:00<?, ?it/s]"
      ]
     },
     "metadata": {},
     "output_type": "display_data"
    }
   ],
   "source": [
    "transformers.logging.set_verbosity_error()\n",
    "test_df[[\"input_ids\", \"attention_mask\"]] = test_df.progress_apply(lambda row: concated_headline_body_tokens(row[\"Processed Headline\"], row[\"Processed Body\"]), axis=\"columns\", result_type=\"expand\") # type: ignore\n",
    "transformers.logging.set_verbosity_warning()"
   ]
  },
  {
   "cell_type": "code",
   "execution_count": 17,
   "id": "f18ec070-8ab0-4c59-b443-9b600467a554",
   "metadata": {
    "tags": []
   },
   "outputs": [],
   "source": [
    "labels2id = {\n",
    "    \"agree\": 0,\n",
    "    \"disagree\": 1,\n",
    "    \"discuss\": 2\n",
    "}"
   ]
  },
  {
   "cell_type": "code",
   "execution_count": 18,
   "id": "f900fab6-51cc-40e3-b62f-7ca01a73ede8",
   "metadata": {
    "tags": []
   },
   "outputs": [
    {
     "data": {
      "text/plain": [
       "torch.Size([10876, 1])"
      ]
     },
     "execution_count": 18,
     "metadata": {},
     "output_type": "execute_result"
    }
   ],
   "source": [
    "train_labels = np.array([labels2id[x] for x in train_df[\"Stance\"].values])\n",
    "train_labels_tensor = torch.LongTensor(train_labels).unsqueeze(1)\n",
    "train_labels_tensor.shape"
   ]
  },
  {
   "cell_type": "code",
   "execution_count": 19,
   "id": "2bd01b94-b99a-48b8-9fde-56c6cbdb2918",
   "metadata": {
    "tags": []
   },
   "outputs": [
    {
     "data": {
      "text/plain": [
       "torch.Size([2551, 1])"
      ]
     },
     "execution_count": 19,
     "metadata": {},
     "output_type": "execute_result"
    }
   ],
   "source": [
    "val_labels = np.array([labels2id[x] for x in val_df[\"Stance\"].values])\n",
    "val_labels_tensor = torch.LongTensor(val_labels).unsqueeze(1)\n",
    "val_labels_tensor.shape"
   ]
  },
  {
   "cell_type": "code",
   "execution_count": 20,
   "id": "83813836-4aaa-4210-ad4e-7f700c3afe21",
   "metadata": {
    "tags": []
   },
   "outputs": [
    {
     "data": {
      "text/plain": [
       "torch.Size([7064, 1])"
      ]
     },
     "execution_count": 20,
     "metadata": {},
     "output_type": "execute_result"
    }
   ],
   "source": [
    "test_labels = np.array([labels2id[x] for x in test_df[\"Stance\"].values])\n",
    "test_labels_tensor = torch.LongTensor(test_labels).unsqueeze(1)\n",
    "test_labels_tensor.shape"
   ]
  },
  {
   "cell_type": "code",
   "execution_count": 21,
   "id": "569955e4-4382-4c14-8948-4fd96baadfbc",
   "metadata": {
    "tags": []
   },
   "outputs": [
    {
     "data": {
      "text/plain": [
       "tensor([1.2145, 5.4353, 0.5018], dtype=torch.float64)"
      ]
     },
     "execution_count": 21,
     "metadata": {},
     "output_type": "execute_result"
    }
   ],
   "source": [
    "unique_class_labels = np.unique(train_labels)\n",
    "class_weights = compute_class_weight(\"balanced\", classes=unique_class_labels, y=train_labels)\n",
    "class_weights_tensor = torch.from_numpy(class_weights)\n",
    "class_weights_tensor"
   ]
  },
  {
   "cell_type": "code",
   "execution_count": 22,
   "id": "3460c306-91df-499f-98d4-3b56e81dd643",
   "metadata": {
    "tags": []
   },
   "outputs": [],
   "source": [
    "# From Practical\n",
    "def plot_confusion_matrix(y_test, y_pred):\n",
    "    ''' Plot the confusion matrix for the target labels and predictions '''\n",
    "#     cm = confusion_matrix(y_test, y_pred)\n",
    "\n",
    "#     # Create a dataframe with the confusion matrix values\n",
    "#     df_cm = pd.DataFrame(cm, range(cm.shape[0]),\n",
    "#                   range(cm.shape[1]))\n",
    "\n",
    "#     # Plot the confusion matrix\n",
    "#     sns.set(font_scale=1.4) # for label size\n",
    "#     sns.heatmap(df_cm, annot=True,fmt='.0f',cmap=\"YlGnBu\",annot_kws={\"size\": 10}) # font size\n",
    "    ConfusionMatrixDisplay.from_predictions(y_test, y_pred, normalize=\"true\", display_labels=list(labels2id.keys()))\n",
    "    plt.show()"
   ]
  },
  {
   "cell_type": "code",
   "execution_count": 23,
   "id": "6ee35411-9eed-4123-8589-c19df40c529f",
   "metadata": {
    "tags": []
   },
   "outputs": [],
   "source": [
    "class TransformerTokenDataset(torch.utils.data.Dataset):\n",
    "    def __init__(self, input_ids, attention_masks, labels):\n",
    "        self.input_ids = input_ids\n",
    "        self.attention_masks = attention_masks\n",
    "        self.labels = labels\n",
    "    \n",
    "    def __getitem__(self, idx):\n",
    "        item = {\n",
    "            \"input_ids\": self.input_ids[idx],\n",
    "            \"attention_mask\": self.attention_masks[idx],\n",
    "            \"labels\": self.labels[idx] \n",
    "        }\n",
    "\n",
    "        return item\n",
    "    \n",
    "    def get_labels(self):\n",
    "        return self.labels\n",
    "    \n",
    "    def __len__(self):\n",
    "        return len(self.labels)"
   ]
  },
  {
   "cell_type": "code",
   "execution_count": 24,
   "id": "ce224410-00f5-497e-8e81-1913a8bff013",
   "metadata": {
    "tags": []
   },
   "outputs": [],
   "source": [
    "train_transformer_input_ids = torch.concat(list(train_df[\"input_ids\"].values))\n",
    "train_transformer_attention_masks = torch.concat(list(train_df[\"attention_mask\"].values))\n",
    "train_dataset = TransformerTokenDataset(train_transformer_input_ids, train_transformer_attention_masks, train_labels_tensor)"
   ]
  },
  {
   "cell_type": "code",
   "execution_count": 25,
   "id": "8947aa1d-bdcc-4f38-8cfc-85138badfc07",
   "metadata": {
    "tags": []
   },
   "outputs": [],
   "source": [
    "val_transformer_input_ids = torch.concat(list(val_df[\"input_ids\"].values))\n",
    "val_transformer_attention_masks = torch.concat(list(val_df[\"attention_mask\"].values))\n",
    "val_dataset = TransformerTokenDataset(val_transformer_input_ids, val_transformer_attention_masks, val_labels_tensor)"
   ]
  },
  {
   "cell_type": "code",
   "execution_count": 26,
   "id": "84f6f7ff-29a0-4ac3-bd98-d404cc46d8b4",
   "metadata": {
    "tags": []
   },
   "outputs": [],
   "source": [
    "test_transformer_input_ids = torch.concat(list(test_df[\"input_ids\"].values))\n",
    "test_transformer_attention_masks = torch.concat(list(test_df[\"attention_mask\"].values))\n",
    "test_dataset = TransformerTokenDataset(test_transformer_input_ids, test_transformer_attention_masks, test_labels_tensor)"
   ]
  },
  {
   "cell_type": "code",
   "execution_count": 27,
   "id": "5ada35a7-e82b-41b9-a84c-2e57244b76ec",
   "metadata": {
    "tags": []
   },
   "outputs": [],
   "source": [
    "batch_size = 8"
   ]
  },
  {
   "cell_type": "code",
   "execution_count": 28,
   "id": "286dd7c0-3988-4025-b734-3b512a351cd0",
   "metadata": {
    "tags": []
   },
   "outputs": [
    {
     "data": {
      "text/plain": [
       "discuss     0.664215\n",
       "agree       0.274458\n",
       "disagree    0.061328\n",
       "Name: Stance, dtype: float64"
      ]
     },
     "execution_count": 28,
     "metadata": {},
     "output_type": "execute_result"
    }
   ],
   "source": [
    "train_df[\"Stance\"].value_counts(normalize=True)#.plot(kind=\"bar\")"
   ]
  },
  {
   "cell_type": "markdown",
   "id": "f903d7f1-8fbb-4a47-bfb8-d2e311e40899",
   "metadata": {
    "tags": []
   },
   "source": [
    "# On to Training..."
   ]
  },
  {
   "cell_type": "code",
   "execution_count": 142,
   "id": "6922b1c8-3b7b-402d-b2d5-f04e0dc34306",
   "metadata": {
    "tags": []
   },
   "outputs": [
    {
     "data": {
      "text/plain": [
       "<module 'my_trainer' from 'F:\\\\Documents\\\\Development\\\\GitHub\\\\natural-language-processing-y4\\\\code\\\\my_trainer.py'>"
      ]
     },
     "execution_count": 142,
     "metadata": {},
     "output_type": "execute_result"
    }
   ],
   "source": [
    "import my_trainer\n",
    "import importlib\n",
    "importlib.reload(my_trainer)"
   ]
  },
  {
   "cell_type": "code",
   "execution_count": 143,
   "id": "f0d15754-30ed-499c-8522-c15a704b170d",
   "metadata": {
    "tags": []
   },
   "outputs": [
    {
     "ename": "ZeroDivisionError",
     "evalue": "division by zero",
     "output_type": "error",
     "traceback": [
      "\u001b[1;31m---------------------------------------------------------------------------\u001b[0m",
      "\u001b[1;31mZeroDivisionError\u001b[0m                         Traceback (most recent call last)",
      "Cell \u001b[1;32mIn[143], line 1\u001b[0m\n\u001b[1;32m----> 1\u001b[0m \u001b[38;5;241;43m1\u001b[39;49m\u001b[38;5;241;43m/\u001b[39;49m\u001b[38;5;241;43m0\u001b[39;49m\n",
      "\u001b[1;31mZeroDivisionError\u001b[0m: division by zero"
     ]
    }
   ],
   "source": [
    "1/0"
   ]
  },
  {
   "cell_type": "code",
   "execution_count": 144,
   "id": "2cb35e7d-e391-4553-bf60-f87f26108113",
   "metadata": {
    "tags": []
   },
   "outputs": [],
   "source": [
    "import gc\n",
    "\n",
    "# model_trainer.model = None\n",
    "\n",
    "model_trainer = None\n",
    "bert = None\n",
    "\n",
    "gc.collect()\n",
    "\n",
    "with torch.no_grad():\n",
    "    torch.cuda.empty_cache()"
   ]
  },
  {
   "cell_type": "markdown",
   "id": "9935b54e-27a8-4081-ae96-1aed3a16e24d",
   "metadata": {
    "jp-MarkdownHeadingCollapsed": true,
    "tags": []
   },
   "source": [
    "## Practical: GRU"
   ]
  },
  {
   "cell_type": "code",
   "execution_count": 114,
   "id": "d387de8e-e72e-46c1-8f62-df27005c9ce5",
   "metadata": {
    "tags": []
   },
   "outputs": [],
   "source": [
    "class BERTGRUSentiment(nn.Module):\n",
    "    def __init__(self,\n",
    "                 bert,\n",
    "                 hidden_dim,\n",
    "                 output_dim,\n",
    "                 n_layers,\n",
    "                 bidirectional,\n",
    "                 dropout):\n",
    "        \n",
    "        super().__init__()\n",
    "        \n",
    "        self.bert = bert\n",
    "        \n",
    "        embedding_dim = bert.config.to_dict()['hidden_size']\n",
    "        \n",
    "        self.rnn = nn.GRU(embedding_dim,\n",
    "                          hidden_dim,\n",
    "                          num_layers = n_layers,\n",
    "                          bidirectional = bidirectional,\n",
    "                          batch_first = True,\n",
    "                          dropout = 0 if n_layers < 2 else dropout)\n",
    "        \n",
    "        self.out = nn.Linear(hidden_dim * 2 if bidirectional else hidden_dim, output_dim)\n",
    "        \n",
    "        self.dropout = nn.Dropout(dropout)\n",
    "        \n",
    "    def forward(self, ids, mask):\n",
    "        embedded = self.bert(input_ids=ids, attention_mask=mask)[0]\n",
    "        \n",
    "        # print(embedded.shape)\n",
    "        \n",
    "        _, hidden = self.rnn(embedded)\n",
    "    \n",
    "        \n",
    "        if self.rnn.bidirectional:\n",
    "            hidden = self.dropout(torch.cat((hidden[-2,:,:], hidden[-1,:,:]), dim = 1))\n",
    "        else:\n",
    "            hidden = self.dropout(hidden[-1,:,:])\n",
    "        \n",
    "        output = self.out(hidden)        \n",
    "        \n",
    "        return output"
   ]
  },
  {
   "cell_type": "code",
   "execution_count": 117,
   "id": "8311aad6-a3f6-4f48-8063-4f1ac8bd21d0",
   "metadata": {
    "tags": []
   },
   "outputs": [
    {
     "name": "stderr",
     "output_type": "stream",
     "text": [
      "Some weights of the model checkpoint at bert-base-uncased were not used when initializing BertModel: ['cls.predictions.transform.dense.weight', 'cls.seq_relationship.weight', 'cls.predictions.transform.LayerNorm.weight', 'cls.predictions.bias', 'cls.seq_relationship.bias', 'cls.predictions.transform.dense.bias', 'cls.predictions.transform.LayerNorm.bias', 'cls.predictions.decoder.weight']\n",
      "- This IS expected if you are initializing BertModel from the checkpoint of a model trained on another task or with another architecture (e.g. initializing a BertForSequenceClassification model from a BertForPreTraining model).\n",
      "- This IS NOT expected if you are initializing BertModel from the checkpoint of a model that you expect to be exactly identical (initializing a BertForSequenceClassification model from a BertForSequenceClassification model).\n"
     ]
    },
    {
     "name": "stdout",
     "output_type": "stream",
     "text": [
      "Model Initialised\n",
      "Model Initialised\n",
      "Loss Initialised\n",
      "Unique labels [0, 1, 2]\n",
      "Calculated inverse\n",
      "Distribution [3.6435510887772193, 16.30584707646177, 1.5055370985603544]\n",
      "Normalised Distribution [0.16982344826390317, 0.7600044873579476, 0.07017206437814937]\n",
      "Train Data Sampler Initialised\n",
      "Dataloaders Initialised\n",
      "Dumped Config\n"
     ]
    }
   ],
   "source": [
    "bert = BertModel.from_pretrained(selected_model)\n",
    "bert = bert.to(device)\n",
    "\n",
    "model_trainer = my_trainer.TransformerBasedModelTrainer(\n",
    "    model_class=BERTGRUSentiment,\n",
    "    model_transformer=bert,\n",
    "    model_freeze_transformer=False,\n",
    "    model_config={\n",
    "        \"hidden_dim\": 256,\n",
    "        \"output_dim\": 3,\n",
    "        \"n_layers\": 2,\n",
    "        \"bidirectional\": True,\n",
    "        \"dropout\": 0.25\n",
    "    },\n",
    "    optimiser_class=optim.AdamW,\n",
    "    optimiser_config={\n",
    "        \"lr\": 5e-5\n",
    "    },\n",
    "    hf_scheduler_name=\"linear\",\n",
    "    hf_scheduler_config={\n",
    "        \"num_warmup_steps\": 0,\n",
    "        \"num_training_steps\": 10 * (len(train_dataset) + 1) // 8\n",
    "    },\n",
    "    loss_class=nn.CrossEntropyLoss,\n",
    "    batch_size=8,\n",
    "    max_epochs=100,\n",
    "    train_dataset=train_dataset,\n",
    "    val_dataset=val_dataset,\n",
    "    test_dataset=test_dataset,\n",
    "    label_names=list(labels2id.keys()),\n",
    "    sampling_weight_fn=\"inverse\",\n",
    "    no_improvement_epochs_stop=3,\n",
    "    eval_batch_size=None,\n",
    "    loss_weights=None,\n",
    "    device=\"cuda:0\"\n",
    ")"
   ]
  },
  {
   "cell_type": "code",
   "execution_count": 118,
   "id": "c84140db-c5b6-4867-b12b-64d588008ce2",
   "metadata": {
    "tags": []
   },
   "outputs": [
    {
     "name": "stdout",
     "output_type": "stream",
     "text": [
      "[2023-04-12 14:12:19] Starting epoch 1\n",
      "[2023-04-12 14:12:19] Starting epoch training\n",
      "[2023-04-12 14:12:19] Set model to train mode\n"
     ]
    },
    {
     "data": {
      "application/vnd.jupyter.widget-view+json": {
       "model_id": "8144642ed08f441dba6a4d09a86864bc",
       "version_major": 2,
       "version_minor": 0
      },
      "text/plain": [
       "  0%|          | 0/1359 [00:00<?, ?it/s]"
      ]
     },
     "metadata": {},
     "output_type": "display_data"
    },
    {
     "name": "stdout",
     "output_type": "stream",
     "text": [
      "[2023-04-12 14:12:43][1:40] Loss: 0.736\n",
      "[2023-04-12 14:13:07][1:80] Loss: 0.718\n",
      "[2023-04-12 14:13:32][1:120] Loss: 0.536\n",
      "[2023-04-12 14:13:57][1:160] Loss: 0.562\n",
      "[2023-04-12 14:14:21][1:200] Loss: 0.532\n",
      "[2023-04-12 14:14:47][1:240] Loss: 0.517\n",
      "[2023-04-12 14:15:11][1:280] Loss: 0.459\n",
      "[2023-04-12 14:15:35][1:320] Loss: 0.508\n",
      "[2023-04-12 14:15:59][1:360] Loss: 0.407\n",
      "[2023-04-12 14:16:22][1:400] Loss: 0.437\n",
      "[2023-04-12 14:16:46][1:440] Loss: 0.432\n",
      "[2023-04-12 14:17:10][1:480] Loss: 0.369\n",
      "[2023-04-12 14:17:34][1:520] Loss: 0.372\n",
      "[2023-04-12 14:17:58][1:560] Loss: 0.305\n",
      "[2023-04-12 14:18:21][1:600] Loss: 0.372\n",
      "[2023-04-12 14:18:45][1:640] Loss: 0.240\n",
      "[2023-04-12 14:19:09][1:680] Loss: 0.320\n",
      "[2023-04-12 14:19:33][1:720] Loss: 0.348\n",
      "[2023-04-12 14:19:57][1:760] Loss: 0.320\n",
      "[2023-04-12 14:20:20][1:800] Loss: 0.328\n",
      "[2023-04-12 14:20:44][1:840] Loss: 0.326\n",
      "[2023-04-12 14:21:08][1:880] Loss: 0.337\n",
      "[2023-04-12 14:21:32][1:920] Loss: 0.289\n",
      "[2023-04-12 14:21:55][1:960] Loss: 0.373\n",
      "[2023-04-12 14:22:19][1:1000] Loss: 0.281\n",
      "[2023-04-12 14:22:43][1:1040] Loss: 0.236\n",
      "[2023-04-12 14:23:07][1:1080] Loss: 0.298\n",
      "[2023-04-12 14:23:31][1:1120] Loss: 0.289\n",
      "[2023-04-12 14:23:54][1:1160] Loss: 0.268\n",
      "[2023-04-12 14:24:18][1:1200] Loss: 0.294\n",
      "[2023-04-12 14:24:42][1:1240] Loss: 0.307\n",
      "[2023-04-12 14:25:06][1:1280] Loss: 0.170\n",
      "[2023-04-12 14:25:30][1:1320] Loss: 0.303\n",
      "[2023-04-12 14:25:52][1:END] Took 813.408s\n",
      "[2023-04-12 14:25:52][1:END] Training Loss: 0.376\n",
      "[2023-04-12 14:25:52] Finished epoch training\n",
      "[2023-04-12 14:25:52] Epoch Loss: 0.3758300156068712\n",
      "[2023-04-12 14:25:52] Starting validation evaluation\n",
      "[2023-04-12 14:25:52] Using model to generate predictions\n",
      "[2023-04-12 14:25:52] Set model to eval mode\n"
     ]
    },
    {
     "data": {
      "application/vnd.jupyter.widget-view+json": {
       "model_id": "a11f7a1c26f64863b4968f8d93e7e4ca",
       "version_major": 2,
       "version_minor": 0
      },
      "text/plain": [
       "  0%|          | 0/319 [00:00<?, ?it/s]"
      ]
     },
     "metadata": {},
     "output_type": "display_data"
    },
    {
     "name": "stdout",
     "output_type": "stream",
     "text": [
      "[2023-04-12 14:26:56] Set model to train mode\n"
     ]
    },
    {
     "data": {
      "image/png": "[encoded data removed]",
      "text/plain": [
       "<Figure size 640x480 with 2 Axes>"
      ]
     },
     "metadata": {},
     "output_type": "display_data"
    },
    {
     "name": "stdout",
     "output_type": "stream",
     "text": [
      "[2023-04-12 14:26:59] Classification Report:\n",
      "[2023-04-12 14:26:59]               precision    recall  f1-score   support\n",
      "\n",
      "           0       0.37      0.76      0.50       693\n",
      "           1       0.29      0.87      0.43       173\n",
      "           2       0.95      0.33      0.49      1685\n",
      "\n",
      "    accuracy                           0.48      2551\n",
      "   macro avg       0.54      0.66      0.47      2551\n",
      "weighted avg       0.75      0.48      0.49      2551\n",
      "\n",
      "[2023-04-12 14:26:59] Epoch Accuracy {'accuracy': 0.4849078792630341}\n",
      "[2023-04-12 14:26:59] Finished validation evaluation\n",
      "[2023-04-12 14:26:59] Beat best validation loss, new validation loss: 1.194500881255981 (surpassed 1000000000.0 from epoch -1)\n",
      "[2023-04-12 14:27:00] Saved best model\n",
      "[2023-04-12 14:27:00] Logged to wandb\n",
      "[2023-04-12 14:27:00] Starting epoch 2\n",
      "[2023-04-12 14:27:00] Starting epoch training\n",
      "[2023-04-12 14:27:00] Set model to train mode\n"
     ]
    },
    {
     "data": {
      "application/vnd.jupyter.widget-view+json": {
       "model_id": "6a0976d6b76443448475c68921d6b451",
       "version_major": 2,
       "version_minor": 0
      },
      "text/plain": [
       "  0%|          | 0/1359 [00:00<?, ?it/s]"
      ]
     },
     "metadata": {},
     "output_type": "display_data"
    },
    {
     "name": "stdout",
     "output_type": "stream",
     "text": [
      "[2023-04-12 14:27:24][2:40] Loss: 0.215\n",
      "[2023-04-12 14:27:48][2:80] Loss: 0.232\n",
      "[2023-04-12 14:28:12][2:120] Loss: 0.223\n",
      "[2023-04-12 14:28:35][2:160] Loss: 0.230\n",
      "[2023-04-12 14:28:59][2:200] Loss: 0.299\n",
      "[2023-04-12 14:29:23][2:240] Loss: 0.182\n",
      "[2023-04-12 14:29:46][2:280] Loss: 0.177\n",
      "[2023-04-12 14:30:10][2:320] Loss: 0.159\n",
      "[2023-04-12 14:30:34][2:360] Loss: 0.197\n",
      "[2023-04-12 14:30:57][2:400] Loss: 0.176\n",
      "[2023-04-12 14:31:21][2:440] Loss: 0.218\n",
      "[2023-04-12 14:31:45][2:480] Loss: 0.162\n",
      "[2023-04-12 14:32:08][2:520] Loss: 0.165\n",
      "[2023-04-12 14:32:32][2:560] Loss: 0.272\n",
      "[2023-04-12 14:32:56][2:600] Loss: 0.175\n",
      "[2023-04-12 14:33:19][2:640] Loss: 0.240\n",
      "[2023-04-12 14:33:43][2:680] Loss: 0.191\n",
      "[2023-04-12 14:34:06][2:720] Loss: 0.184\n",
      "[2023-04-12 14:34:30][2:760] Loss: 0.131\n",
      "[2023-04-12 14:34:54][2:800] Loss: 0.246\n",
      "[2023-04-12 14:35:17][2:840] Loss: 0.177\n",
      "[2023-04-12 14:35:41][2:880] Loss: 0.218\n",
      "[2023-04-12 14:36:05][2:920] Loss: 0.158\n",
      "[2023-04-12 14:36:28][2:960] Loss: 0.180\n",
      "[2023-04-12 14:36:52][2:1000] Loss: 0.174\n",
      "[2023-04-12 14:37:16][2:1040] Loss: 0.194\n",
      "[2023-04-12 14:37:39][2:1080] Loss: 0.225\n",
      "[2023-04-12 14:38:03][2:1120] Loss: 0.125\n",
      "[2023-04-12 14:38:26][2:1160] Loss: 0.128\n",
      "[2023-04-12 14:38:50][2:1200] Loss: 0.154\n",
      "[2023-04-12 14:39:14][2:1240] Loss: 0.227\n",
      "[2023-04-12 14:39:37][2:1280] Loss: 0.274\n",
      "[2023-04-12 14:40:01][2:1320] Loss: 0.182\n",
      "[2023-04-12 14:40:23][2:END] Took 803.229s\n",
      "[2023-04-12 14:40:23][2:END] Training Loss: 0.196\n",
      "[2023-04-12 14:40:23] Finished epoch training\n",
      "[2023-04-12 14:40:23] Epoch Loss: 0.1957484261770791\n",
      "[2023-04-12 14:40:23] Starting validation evaluation\n",
      "[2023-04-12 14:40:23] Using model to generate predictions\n",
      "[2023-04-12 14:40:23] Set model to eval mode\n"
     ]
    },
    {
     "data": {
      "application/vnd.jupyter.widget-view+json": {
       "model_id": "03bb063d35f3429dbe778d37e879b104",
       "version_major": 2,
       "version_minor": 0
      },
      "text/plain": [
       "  0%|          | 0/319 [00:00<?, ?it/s]"
      ]
     },
     "metadata": {},
     "output_type": "display_data"
    },
    {
     "name": "stdout",
     "output_type": "stream",
     "text": [
      "[2023-04-12 14:41:27] Set model to train mode\n"
     ]
    },
    {
     "data": {
      "image/png": "[encoded data removed]",
      "text/plain": [
       "<Figure size 640x480 with 2 Axes>"
      ]
     },
     "metadata": {},
     "output_type": "display_data"
    },
    {
     "name": "stdout",
     "output_type": "stream",
     "text": [
      "[2023-04-12 14:41:31] Classification Report:\n",
      "[2023-04-12 14:41:31]               precision    recall  f1-score   support\n",
      "\n",
      "           0       0.69      0.65      0.67       693\n",
      "           1       0.36      0.76      0.49       173\n",
      "           2       0.89      0.81      0.85      1685\n",
      "\n",
      "    accuracy                           0.76      2551\n",
      "   macro avg       0.65      0.74      0.67      2551\n",
      "weighted avg       0.80      0.76      0.78      2551\n",
      "\n",
      "[2023-04-12 14:41:31] Epoch Accuracy {'accuracy': 0.7632301058408467}\n",
      "[2023-04-12 14:41:31] Finished validation evaluation\n",
      "[2023-04-12 14:41:31] Beat best validation loss, new validation loss: 0.7187516227843339 (surpassed 1.194500881255981 from epoch 1)\n",
      "[2023-04-12 14:41:32] Saved best model\n",
      "[2023-04-12 14:41:32] Logged to wandb\n",
      "[2023-04-12 14:41:32] Starting epoch 3\n",
      "[2023-04-12 14:41:32] Starting epoch training\n",
      "[2023-04-12 14:41:32] Set model to train mode\n"
     ]
    },
    {
     "data": {
      "application/vnd.jupyter.widget-view+json": {
       "model_id": "8f0f538ff780451ab6f3067df50ff60a",
       "version_major": 2,
       "version_minor": 0
      },
      "text/plain": [
       "  0%|          | 0/1359 [00:00<?, ?it/s]"
      ]
     },
     "metadata": {},
     "output_type": "display_data"
    },
    {
     "name": "stdout",
     "output_type": "stream",
     "text": [
      "[2023-04-12 14:41:56][3:40] Loss: 0.155\n",
      "[2023-04-12 14:42:19][3:80] Loss: 0.130\n",
      "[2023-04-12 14:42:43][3:120] Loss: 0.169\n",
      "[2023-04-12 14:43:07][3:160] Loss: 0.107\n",
      "[2023-04-12 14:43:30][3:200] Loss: 0.181\n",
      "[2023-04-12 14:43:54][3:240] Loss: 0.145\n",
      "[2023-04-12 14:44:18][3:280] Loss: 0.100\n",
      "[2023-04-12 14:44:41][3:320] Loss: 0.139\n",
      "[2023-04-12 14:45:05][3:360] Loss: 0.122\n",
      "[2023-04-12 14:45:28][3:400] Loss: 0.136\n",
      "[2023-04-12 14:45:52][3:440] Loss: 0.220\n",
      "[2023-04-12 14:46:16][3:480] Loss: 0.132\n",
      "[2023-04-12 14:46:39][3:520] Loss: 0.103\n",
      "[2023-04-12 14:47:03][3:560] Loss: 0.183\n",
      "[2023-04-12 14:47:27][3:600] Loss: 0.113\n",
      "[2023-04-12 14:47:50][3:640] Loss: 0.155\n",
      "[2023-04-12 14:48:14][3:680] Loss: 0.144\n",
      "[2023-04-12 14:48:38][3:720] Loss: 0.104\n",
      "[2023-04-12 14:49:01][3:760] Loss: 0.124\n",
      "[2023-04-12 14:49:25][3:800] Loss: 0.127\n",
      "[2023-04-12 14:49:49][3:840] Loss: 0.119\n",
      "[2023-04-12 14:50:12][3:880] Loss: 0.089\n",
      "[2023-04-12 14:50:36][3:920] Loss: 0.152\n",
      "[2023-04-12 14:50:59][3:960] Loss: 0.172\n",
      "[2023-04-12 14:51:23][3:1000] Loss: 0.067\n",
      "[2023-04-12 14:51:47][3:1040] Loss: 0.174\n",
      "[2023-04-12 14:52:10][3:1080] Loss: 0.111\n",
      "[2023-04-12 14:52:34][3:1120] Loss: 0.123\n",
      "[2023-04-12 14:52:58][3:1160] Loss: 0.084\n",
      "[2023-04-12 14:53:21][3:1200] Loss: 0.126\n",
      "[2023-04-12 14:53:45][3:1240] Loss: 0.101\n",
      "[2023-04-12 14:54:09][3:1280] Loss: 0.138\n",
      "[2023-04-12 14:54:32][3:1320] Loss: 0.118\n",
      "[2023-04-12 14:54:55][3:END] Took 803.105s\n",
      "[2023-04-12 14:54:55][3:END] Training Loss: 0.131\n",
      "[2023-04-12 14:54:55] Finished epoch training\n",
      "[2023-04-12 14:54:55] Epoch Loss: 0.13081432976814794\n",
      "[2023-04-12 14:54:55] Starting validation evaluation\n",
      "[2023-04-12 14:54:55] Using model to generate predictions\n",
      "[2023-04-12 14:54:55] Set model to eval mode\n"
     ]
    },
    {
     "data": {
      "application/vnd.jupyter.widget-view+json": {
       "model_id": "2d95758ced2140bf85b43ed9c7555569",
       "version_major": 2,
       "version_minor": 0
      },
      "text/plain": [
       "  0%|          | 0/319 [00:00<?, ?it/s]"
      ]
     },
     "metadata": {},
     "output_type": "display_data"
    },
    {
     "name": "stdout",
     "output_type": "stream",
     "text": [
      "[2023-04-12 14:55:58] Set model to train mode\n"
     ]
    },
    {
     "data": {
      "image/png": "[encoded data removed]",
      "text/plain": [
       "<Figure size 640x480 with 2 Axes>"
      ]
     },
     "metadata": {},
     "output_type": "display_data"
    },
    {
     "name": "stdout",
     "output_type": "stream",
     "text": [
      "[2023-04-12 14:56:02] Classification Report:\n",
      "[2023-04-12 14:56:02]               precision    recall  f1-score   support\n",
      "\n",
      "           0       0.65      0.84      0.73       693\n",
      "           1       0.56      0.79      0.66       173\n",
      "           2       0.92      0.77      0.84      1685\n",
      "\n",
      "    accuracy                           0.79      2551\n",
      "   macro avg       0.71      0.80      0.74      2551\n",
      "weighted avg       0.82      0.79      0.80      2551\n",
      "\n",
      "[2023-04-12 14:56:02] Epoch Accuracy {'accuracy': 0.7926303410427283}\n",
      "[2023-04-12 14:56:02] Finished validation evaluation\n",
      "[2023-04-12 14:56:02] Beat best validation loss, new validation loss: 0.676996048119468 (surpassed 0.7187516227843339 from epoch 2)\n",
      "[2023-04-12 14:56:03] Saved best model\n",
      "[2023-04-12 14:56:03] Logged to wandb\n",
      "[2023-04-12 14:56:03] Starting epoch 4\n",
      "[2023-04-12 14:56:03] Starting epoch training\n",
      "[2023-04-12 14:56:03] Set model to train mode\n"
     ]
    },
    {
     "data": {
      "application/vnd.jupyter.widget-view+json": {
       "model_id": "b3c5791defe84d39892bf39f23106a06",
       "version_major": 2,
       "version_minor": 0
      },
      "text/plain": [
       "  0%|          | 0/1359 [00:00<?, ?it/s]"
      ]
     },
     "metadata": {},
     "output_type": "display_data"
    },
    {
     "name": "stdout",
     "output_type": "stream",
     "text": [
      "[2023-04-12 14:56:27][4:40] Loss: 0.097\n",
      "[2023-04-12 14:56:51][4:80] Loss: 0.086\n",
      "[2023-04-12 14:57:14][4:120] Loss: 0.106\n",
      "[2023-04-12 14:57:38][4:160] Loss: 0.137\n",
      "[2023-04-12 14:58:01][4:200] Loss: 0.078\n",
      "[2023-04-12 14:58:25][4:240] Loss: 0.091\n",
      "[2023-04-12 14:58:49][4:280] Loss: 0.098\n",
      "[2023-04-12 14:59:12][4:320] Loss: 0.128\n",
      "[2023-04-12 14:59:36][4:360] Loss: 0.101\n",
      "[2023-04-12 15:00:00][4:400] Loss: 0.077\n",
      "[2023-04-12 15:00:23][4:440] Loss: 0.041\n",
      "[2023-04-12 15:00:47][4:480] Loss: 0.060\n",
      "[2023-04-12 15:01:11][4:520] Loss: 0.094\n",
      "[2023-04-12 15:01:34][4:560] Loss: 0.084\n",
      "[2023-04-12 15:01:58][4:600] Loss: 0.072\n",
      "[2023-04-12 15:02:21][4:640] Loss: 0.068\n",
      "[2023-04-12 15:02:45][4:680] Loss: 0.066\n",
      "[2023-04-12 15:03:09][4:720] Loss: 0.106\n",
      "[2023-04-12 15:03:32][4:760] Loss: 0.077\n",
      "[2023-04-12 15:03:56][4:800] Loss: 0.037\n",
      "[2023-04-12 15:04:20][4:840] Loss: 0.064\n",
      "[2023-04-12 15:04:43][4:880] Loss: 0.056\n",
      "[2023-04-12 15:05:07][4:920] Loss: 0.063\n",
      "[2023-04-12 15:05:31][4:960] Loss: 0.055\n",
      "[2023-04-12 15:05:55][4:1000] Loss: 0.080\n",
      "[2023-04-12 15:06:19][4:1040] Loss: 0.099\n",
      "[2023-04-12 15:06:43][4:1080] Loss: 0.040\n",
      "[2023-04-12 15:07:06][4:1120] Loss: 0.104\n",
      "[2023-04-12 15:07:30][4:1160] Loss: 0.035\n",
      "[2023-04-12 15:07:54][4:1200] Loss: 0.110\n",
      "[2023-04-12 15:08:18][4:1240] Loss: 0.165\n",
      "[2023-04-12 15:08:41][4:1280] Loss: 0.052\n",
      "[2023-04-12 15:09:05][4:1320] Loss: 0.100\n",
      "[2023-04-12 15:09:28][4:END] Took 805.214s\n",
      "[2023-04-12 15:09:28][4:END] Training Loss: 0.083\n",
      "[2023-04-12 15:09:28] Finished epoch training\n",
      "[2023-04-12 15:09:28] Epoch Loss: 0.08326849735774047\n",
      "[2023-04-12 15:09:28] Starting validation evaluation\n",
      "[2023-04-12 15:09:28] Using model to generate predictions\n",
      "[2023-04-12 15:09:28] Set model to eval mode\n"
     ]
    },
    {
     "data": {
      "application/vnd.jupyter.widget-view+json": {
       "model_id": "27ed0dc0d720491abd61cbe121086b25",
       "version_major": 2,
       "version_minor": 0
      },
      "text/plain": [
       "  0%|          | 0/319 [00:00<?, ?it/s]"
      ]
     },
     "metadata": {},
     "output_type": "display_data"
    },
    {
     "name": "stdout",
     "output_type": "stream",
     "text": [
      "[2023-04-12 15:10:32] Set model to train mode\n"
     ]
    },
    {
     "data": {
      "image/png": "[encoded data removed]",
      "text/plain": [
       "<Figure size 640x480 with 2 Axes>"
      ]
     },
     "metadata": {},
     "output_type": "display_data"
    },
    {
     "name": "stdout",
     "output_type": "stream",
     "text": [
      "[2023-04-12 15:10:35] Classification Report:\n",
      "[2023-04-12 15:10:35]               precision    recall  f1-score   support\n",
      "\n",
      "           0       0.65      0.88      0.75       693\n",
      "           1       0.66      0.77      0.71       173\n",
      "           2       0.94      0.79      0.86      1685\n",
      "\n",
      "    accuracy                           0.81      2551\n",
      "   macro avg       0.75      0.81      0.77      2551\n",
      "weighted avg       0.84      0.81      0.82      2551\n",
      "\n",
      "[2023-04-12 15:10:35] Epoch Accuracy {'accuracy': 0.8126225009800079}\n",
      "[2023-04-12 15:10:35] Finished validation evaluation\n",
      "[2023-04-12 15:10:35] Beat best validation loss, new validation loss: 0.5981405067599166 (surpassed 0.676996048119468 from epoch 3)\n",
      "[2023-04-12 15:10:36] Saved best model\n",
      "[2023-04-12 15:10:36] Logged to wandb\n",
      "[2023-04-12 15:10:36] Starting epoch 5\n",
      "[2023-04-12 15:10:36] Starting epoch training\n",
      "[2023-04-12 15:10:36] Set model to train mode\n"
     ]
    },
    {
     "data": {
      "application/vnd.jupyter.widget-view+json": {
       "model_id": "21f2c7501ab44f6eb71be676d0a1ef35",
       "version_major": 2,
       "version_minor": 0
      },
      "text/plain": [
       "  0%|          | 0/1359 [00:00<?, ?it/s]"
      ]
     },
     "metadata": {},
     "output_type": "display_data"
    },
    {
     "name": "stdout",
     "output_type": "stream",
     "text": [
      "[2023-04-12 15:11:00][5:40] Loss: 0.077\n",
      "[2023-04-12 15:11:24][5:80] Loss: 0.091\n",
      "[2023-04-12 15:11:48][5:120] Loss: 0.050\n",
      "[2023-04-12 15:12:11][5:160] Loss: 0.061\n",
      "[2023-04-12 15:12:35][5:200] Loss: 0.059\n",
      "[2023-04-12 15:12:59][5:240] Loss: 0.056\n",
      "[2023-04-12 15:13:22][5:280] Loss: 0.028\n",
      "[2023-04-12 15:13:46][5:320] Loss: 0.073\n",
      "[2023-04-12 15:14:10][5:360] Loss: 0.036\n",
      "[2023-04-12 15:14:33][5:400] Loss: 0.044\n",
      "[2023-04-12 15:14:57][5:440] Loss: 0.093\n",
      "[2023-04-12 15:15:20][5:480] Loss: 0.018\n",
      "[2023-04-12 15:15:44][5:520] Loss: 0.092\n",
      "[2023-04-12 15:16:08][5:560] Loss: 0.051\n",
      "[2023-04-12 15:16:31][5:600] Loss: 0.020\n",
      "[2023-04-12 15:16:55][5:640] Loss: 0.050\n",
      "[2023-04-12 15:17:19][5:680] Loss: 0.018\n",
      "[2023-04-12 15:17:42][5:720] Loss: 0.047\n",
      "[2023-04-12 15:18:06][5:760] Loss: 0.090\n",
      "[2023-04-12 15:18:30][5:800] Loss: 0.034\n",
      "[2023-04-12 15:18:53][5:840] Loss: 0.037\n",
      "[2023-04-12 15:19:17][5:880] Loss: 0.078\n",
      "[2023-04-12 15:19:40][5:920] Loss: 0.062\n",
      "[2023-04-12 15:20:04][5:960] Loss: 0.052\n",
      "[2023-04-12 15:20:28][5:1000] Loss: 0.101\n",
      "[2023-04-12 15:20:51][5:1040] Loss: 0.084\n",
      "[2023-04-12 15:21:16][5:1080] Loss: 0.088\n",
      "[2023-04-12 15:21:41][5:1120] Loss: 0.019\n",
      "[2023-04-12 15:22:05][5:1160] Loss: 0.044\n",
      "[2023-04-12 15:22:30][5:1200] Loss: 0.058\n",
      "[2023-04-12 15:22:56][5:1240] Loss: 0.038\n",
      "[2023-04-12 15:23:21][5:1280] Loss: 0.058\n",
      "[2023-04-12 15:23:45][5:1320] Loss: 0.031\n",
      "[2023-04-12 15:24:08][5:END] Took 812.225s\n",
      "[2023-04-12 15:24:08][5:END] Training Loss: 0.055\n",
      "[2023-04-12 15:24:08] Finished epoch training\n",
      "[2023-04-12 15:24:08] Epoch Loss: 0.05537929583146944\n",
      "[2023-04-12 15:24:08] Starting validation evaluation\n",
      "[2023-04-12 15:24:08] Using model to generate predictions\n",
      "[2023-04-12 15:24:08] Set model to eval mode\n"
     ]
    },
    {
     "data": {
      "application/vnd.jupyter.widget-view+json": {
       "model_id": "5b63b69591984c1795b05e66d68ea8dd",
       "version_major": 2,
       "version_minor": 0
      },
      "text/plain": [
       "  0%|          | 0/319 [00:00<?, ?it/s]"
      ]
     },
     "metadata": {},
     "output_type": "display_data"
    },
    {
     "name": "stdout",
     "output_type": "stream",
     "text": [
      "[2023-04-12 15:25:13] Set model to train mode\n"
     ]
    },
    {
     "data": {
      "image/png": "[encoded data removed]",
      "text/plain": [
       "<Figure size 640x480 with 2 Axes>"
      ]
     },
     "metadata": {},
     "output_type": "display_data"
    },
    {
     "name": "stdout",
     "output_type": "stream",
     "text": [
      "[2023-04-12 15:25:16] Classification Report:\n",
      "[2023-04-12 15:25:16]               precision    recall  f1-score   support\n",
      "\n",
      "           0       0.65      0.87      0.74       693\n",
      "           1       0.70      0.72      0.71       173\n",
      "           2       0.93      0.80      0.86      1685\n",
      "\n",
      "    accuracy                           0.81      2551\n",
      "   macro avg       0.76      0.79      0.77      2551\n",
      "weighted avg       0.84      0.81      0.82      2551\n",
      "\n",
      "[2023-04-12 15:25:16] Epoch Accuracy {'accuracy': 0.8106624852998824}\n",
      "[2023-04-12 15:25:16] Finished validation evaluation\n",
      "[2023-04-12 15:25:16] Logged to wandb\n",
      "[2023-04-12 15:25:16] Starting epoch 6\n",
      "[2023-04-12 15:25:16] Starting epoch training\n",
      "[2023-04-12 15:25:16] Set model to train mode\n"
     ]
    },
    {
     "data": {
      "application/vnd.jupyter.widget-view+json": {
       "model_id": "0cb6eb8b949442d49d71caa058ce46df",
       "version_major": 2,
       "version_minor": 0
      },
      "text/plain": [
       "  0%|          | 0/1359 [00:00<?, ?it/s]"
      ]
     },
     "metadata": {},
     "output_type": "display_data"
    },
    {
     "name": "stdout",
     "output_type": "stream",
     "text": [
      "[2023-04-12 15:25:41][6:40] Loss: 0.008\n",
      "[2023-04-12 15:26:07][6:80] Loss: 0.118\n",
      "[2023-04-12 15:26:31][6:120] Loss: 0.090\n",
      "[2023-04-12 15:26:55][6:160] Loss: 0.063\n",
      "[2023-04-12 15:27:22][6:200] Loss: 0.083\n",
      "[2023-04-12 15:27:46][6:240] Loss: 0.046\n",
      "[2023-04-12 15:28:10][6:280] Loss: 0.051\n",
      "[2023-04-12 15:28:36][6:320] Loss: 0.045\n",
      "[2023-04-12 15:29:02][6:360] Loss: 0.097\n",
      "[2023-04-12 15:29:26][6:400] Loss: 0.057\n",
      "[2023-04-12 15:29:50][6:440] Loss: 0.051\n",
      "[2023-04-12 15:30:14][6:480] Loss: 0.063\n",
      "[2023-04-12 15:30:38][6:520] Loss: 0.050\n",
      "[2023-04-12 15:31:02][6:560] Loss: 0.054\n",
      "[2023-04-12 15:31:27][6:600] Loss: 0.039\n",
      "[2023-04-12 15:31:51][6:640] Loss: 0.055\n",
      "[2023-04-12 15:32:16][6:680] Loss: 0.031\n",
      "[2023-04-12 15:32:41][6:720] Loss: 0.048\n",
      "[2023-04-12 15:33:06][6:760] Loss: 0.033\n",
      "[2023-04-12 15:33:30][6:800] Loss: 0.021\n",
      "[2023-04-12 15:33:54][6:840] Loss: 0.107\n",
      "[2023-04-12 15:34:18][6:880] Loss: 0.052\n",
      "[2023-04-12 15:34:41][6:920] Loss: 0.032\n",
      "[2023-04-12 15:35:05][6:960] Loss: 0.045\n",
      "[2023-04-12 15:35:30][6:1000] Loss: 0.041\n",
      "[2023-04-12 15:35:54][6:1040] Loss: 0.036\n",
      "[2023-04-12 15:36:18][6:1080] Loss: 0.064\n",
      "[2023-04-12 15:36:42][6:1120] Loss: 0.051\n",
      "[2023-04-12 15:37:06][6:1160] Loss: 0.024\n",
      "[2023-04-12 15:37:30][6:1200] Loss: 0.042\n",
      "[2023-04-12 15:37:54][6:1240] Loss: 0.080\n",
      "[2023-04-12 15:38:17][6:1280] Loss: 0.068\n",
      "[2023-04-12 15:38:41][6:1320] Loss: 0.041\n",
      "[2023-04-12 15:39:03][6:END] Took 827.318s\n",
      "[2023-04-12 15:39:03][6:END] Training Loss: 0.053\n",
      "[2023-04-12 15:39:03] Finished epoch training\n",
      "[2023-04-12 15:39:03] Epoch Loss: 0.052776159449652485\n",
      "[2023-04-12 15:39:03] Starting validation evaluation\n",
      "[2023-04-12 15:39:03] Using model to generate predictions\n",
      "[2023-04-12 15:39:03] Set model to eval mode\n"
     ]
    },
    {
     "data": {
      "application/vnd.jupyter.widget-view+json": {
       "model_id": "07d661049bb84648925b8c6445c4e924",
       "version_major": 2,
       "version_minor": 0
      },
      "text/plain": [
       "  0%|          | 0/319 [00:00<?, ?it/s]"
      ]
     },
     "metadata": {},
     "output_type": "display_data"
    },
    {
     "name": "stdout",
     "output_type": "stream",
     "text": [
      "[2023-04-12 15:40:07] Set model to train mode\n"
     ]
    },
    {
     "data": {
      "image/png": "[encoded data removed]",
      "text/plain": [
       "<Figure size 640x480 with 2 Axes>"
      ]
     },
     "metadata": {},
     "output_type": "display_data"
    },
    {
     "name": "stdout",
     "output_type": "stream",
     "text": [
      "[2023-04-12 15:40:10] Classification Report:\n",
      "[2023-04-12 15:40:10]               precision    recall  f1-score   support\n",
      "\n",
      "           0       0.69      0.82      0.75       693\n",
      "           1       0.67      0.75      0.71       173\n",
      "           2       0.91      0.83      0.87      1685\n",
      "\n",
      "    accuracy                           0.82      2551\n",
      "   macro avg       0.76      0.80      0.78      2551\n",
      "weighted avg       0.84      0.82      0.83      2551\n",
      "\n",
      "[2023-04-12 15:40:10] Epoch Accuracy {'accuracy': 0.82203057624461}\n",
      "[2023-04-12 15:40:10] Finished validation evaluation\n",
      "[2023-04-12 15:40:10] Logged to wandb\n",
      "[2023-04-12 15:40:10] Starting epoch 7\n",
      "[2023-04-12 15:40:10] Starting epoch training\n",
      "[2023-04-12 15:40:10] Set model to train mode\n"
     ]
    },
    {
     "data": {
      "application/vnd.jupyter.widget-view+json": {
       "model_id": "1e144a60dc324b7095570754c4ddc4ed",
       "version_major": 2,
       "version_minor": 0
      },
      "text/plain": [
       "  0%|          | 0/1359 [00:00<?, ?it/s]"
      ]
     },
     "metadata": {},
     "output_type": "display_data"
    },
    {
     "name": "stdout",
     "output_type": "stream",
     "text": [
      "[2023-04-12 15:40:35][7:40] Loss: 0.021\n",
      "[2023-04-12 15:40:58][7:80] Loss: 0.021\n",
      "[2023-04-12 15:41:22][7:120] Loss: 0.017\n",
      "[2023-04-12 15:41:45][7:160] Loss: 0.025\n",
      "[2023-04-12 15:42:09][7:200] Loss: 0.036\n",
      "[2023-04-12 15:42:33][7:240] Loss: 0.036\n",
      "[2023-04-12 15:42:56][7:280] Loss: 0.026\n",
      "[2023-04-12 15:43:20][7:320] Loss: 0.031\n",
      "[2023-04-12 15:43:44][7:360] Loss: 0.042\n",
      "[2023-04-12 15:44:07][7:400] Loss: 0.029\n",
      "[2023-04-12 15:44:31][7:440] Loss: 0.021\n",
      "[2023-04-12 15:44:55][7:480] Loss: 0.029\n",
      "[2023-04-12 15:45:18][7:520] Loss: 0.030\n",
      "[2023-04-12 15:45:42][7:560] Loss: 0.022\n",
      "[2023-04-12 15:46:05][7:600] Loss: 0.059\n",
      "[2023-04-12 15:46:29][7:640] Loss: 0.030\n",
      "[2023-04-12 15:46:53][7:680] Loss: 0.072\n",
      "[2023-04-12 15:47:16][7:720] Loss: 0.083\n",
      "[2023-04-12 15:47:40][7:760] Loss: 0.011\n",
      "[2023-04-12 15:48:04][7:800] Loss: 0.011\n",
      "[2023-04-12 15:48:27][7:840] Loss: 0.011\n",
      "[2023-04-12 15:48:51][7:880] Loss: 0.033\n",
      "[2023-04-12 15:49:15][7:920] Loss: 0.047\n",
      "[2023-04-12 15:49:38][7:960] Loss: 0.038\n",
      "[2023-04-12 15:50:02][7:1000] Loss: 0.114\n",
      "[2023-04-12 15:50:25][7:1040] Loss: 0.058\n",
      "[2023-04-12 15:50:49][7:1080] Loss: 0.031\n",
      "[2023-04-12 15:51:13][7:1120] Loss: 0.038\n",
      "[2023-04-12 15:51:36][7:1160] Loss: 0.034\n",
      "[2023-04-12 15:52:00][7:1200] Loss: 0.031\n",
      "[2023-04-12 15:52:24][7:1240] Loss: 0.030\n",
      "[2023-04-12 15:52:47][7:1280] Loss: 0.098\n",
      "[2023-04-12 15:53:11][7:1320] Loss: 0.043\n",
      "[2023-04-12 15:53:33][7:END] Took 803.005s\n",
      "[2023-04-12 15:53:33][7:END] Training Loss: 0.038\n",
      "[2023-04-12 15:53:33] Finished epoch training\n",
      "[2023-04-12 15:53:33] Epoch Loss: 0.03771122854875094\n",
      "[2023-04-12 15:53:33] Starting validation evaluation\n",
      "[2023-04-12 15:53:33] Using model to generate predictions\n",
      "[2023-04-12 15:53:33] Set model to eval mode\n"
     ]
    },
    {
     "data": {
      "application/vnd.jupyter.widget-view+json": {
       "model_id": "e0b2c752d9d04cae8a0113a9ba8558b6",
       "version_major": 2,
       "version_minor": 0
      },
      "text/plain": [
       "  0%|          | 0/319 [00:00<?, ?it/s]"
      ]
     },
     "metadata": {},
     "output_type": "display_data"
    },
    {
     "name": "stdout",
     "output_type": "stream",
     "text": [
      "[2023-04-12 15:54:37] Set model to train mode\n"
     ]
    },
    {
     "data": {
      "image/png": "[encoded data removed]",
      "text/plain": [
       "<Figure size 640x480 with 2 Axes>"
      ]
     },
     "metadata": {},
     "output_type": "display_data"
    },
    {
     "name": "stdout",
     "output_type": "stream",
     "text": [
      "[2023-04-12 15:54:40] Classification Report:\n",
      "[2023-04-12 15:54:40]               precision    recall  f1-score   support\n",
      "\n",
      "           0       0.61      0.85      0.71       693\n",
      "           1       0.67      0.68      0.67       173\n",
      "           2       0.92      0.76      0.83      1685\n",
      "\n",
      "    accuracy                           0.78      2551\n",
      "   macro avg       0.73      0.77      0.74      2551\n",
      "weighted avg       0.82      0.78      0.79      2551\n",
      "\n",
      "[2023-04-12 15:54:40] Epoch Accuracy {'accuracy': 0.782438259506076}\n",
      "[2023-04-12 15:54:40] Finished validation evaluation\n",
      "[2023-04-12 15:54:40] Early stopping triggered, best validation loss achieved at 4 (loss: 0.5981405067599166)\n",
      "[2023-04-12 15:54:40] Loading best model (epoch 0.5981405067599166) for evaluation\n",
      "[2023-04-12 15:54:41] Starting test evaluation\n",
      "[2023-04-12 15:54:41] Using model to generate predictions\n",
      "[2023-04-12 15:54:41] Set model to eval mode\n"
     ]
    },
    {
     "data": {
      "application/vnd.jupyter.widget-view+json": {
       "model_id": "c0710345873c454e907533ac7495614a",
       "version_major": 2,
       "version_minor": 0
      },
      "text/plain": [
       "  0%|          | 0/883 [00:00<?, ?it/s]"
      ]
     },
     "metadata": {},
     "output_type": "display_data"
    },
    {
     "name": "stdout",
     "output_type": "stream",
     "text": [
      "[2023-04-12 15:57:37] Set model to train mode\n"
     ]
    },
    {
     "data": {
      "image/png": "[encoded data removed]",
      "text/plain": [
       "<Figure size 640x480 with 2 Axes>"
      ]
     },
     "metadata": {},
     "output_type": "display_data"
    },
    {
     "name": "stdout",
     "output_type": "stream",
     "text": [
      "[2023-04-12 15:57:41] Classification Report:\n",
      "[2023-04-12 15:57:41]               precision    recall  f1-score   support\n",
      "\n",
      "           0       0.51      0.80      0.62      1903\n",
      "           1       0.48      0.38      0.42       697\n",
      "           2       0.88      0.69      0.77      4464\n",
      "\n",
      "    accuracy                           0.69      7064\n",
      "   macro avg       0.62      0.62      0.60      7064\n",
      "weighted avg       0.74      0.69      0.70      7064\n",
      "\n",
      "[2023-04-12 15:57:41] Finished test evaluation\n"
     ]
    }
   ],
   "source": [
    "model_trainer.train()"
   ]
  },
  {
   "cell_type": "markdown",
   "id": "1e1c2667-03ef-49ce-ae91-5e45bedae38f",
   "metadata": {
    "jp-MarkdownHeadingCollapsed": true,
    "tags": []
   },
   "source": [
    "## Transformer+MLP"
   ]
  },
  {
   "cell_type": "code",
   "execution_count": null,
   "id": "e2d5c354-3e8f-4cc4-bc26-1b788dfa393c",
   "metadata": {
    "tags": []
   },
   "outputs": [],
   "source": [
    "class TransformerWithMLPHead(nn.Module):\n",
    "    def __init__(self, bert, hidden_layers, hidden_dim, output_dim, dropout_prob):\n",
    "        super().__init__()\n",
    "        \n",
    "        self.bert = bert\n",
    "        embedding_dim = bert.config.to_dict()['hidden_size']\n",
    "        \n",
    "        if hidden_layers == 0:\n",
    "            hidden_dim = [embedding_dim]\n",
    "        else:\n",
    "            if type(hidden_dim) is int:\n",
    "                hidden_dim = [embedding_dim] + [hidden_dim] * hidden_layers\n",
    "            else:\n",
    "                hidden_dim = [embedding_dim] + hidden_dim\n",
    "        \n",
    "        layers = []\n",
    "        \n",
    "        for i in range(hidden_layers):\n",
    "            layers += [\n",
    "                nn.Linear(hidden_dim[i], hidden_dim[i + 1]),\n",
    "                nn.Dropout(dropout_prob)\n",
    "            ]\n",
    "            \n",
    "        if hidden_layers == 0:\n",
    "            layers.append(nn.Dropout(dropout_prob))\n",
    "        \n",
    "        layers.append(nn.Linear(hidden_dim[-1], output_dim))\n",
    "        \n",
    "        self.head = nn.Sequential(*layers)\n",
    "        \n",
    "    def forward(self, input_ids, mask):\n",
    "        with torch.no_grad():\n",
    "            bert_embeddings = self.bert(input_ids, attention_mask=mask)[0][:, 0, :]\n",
    "        \n",
    "        output = self.head(bert_embeddings)\n",
    "        return output"
   ]
  },
  {
   "cell_type": "code",
   "execution_count": null,
   "id": "07c050c9-a6f8-48df-9f2d-c663e24db6f1",
   "metadata": {
    "tags": []
   },
   "outputs": [],
   "source": [
    "bert = BertModel.from_pretrained(selected_model)\n",
    "bert = bert.to(device)\n",
    "\n",
    "model_trainer = TransformerBasedModelTrainer(\n",
    "    model_class=TransformerWithMLPHead,\n",
    "    model_transformer=bert,\n",
    "    model_freeze_transformer=False,\n",
    "    model_config={\n",
    "        \"hidden_layers\": 0,\n",
    "        \"hidden_dim\": [],\n",
    "        \"output_dim\": 3,\n",
    "        \"dropout_prob\": 0.2\n",
    "    },\n",
    "    optimiser_class=optim.AdamW,\n",
    "    optimiser_config={\n",
    "        \"lr\": 5e-5\n",
    "    },\n",
    "    loss_class=nn.CrossEntropyLoss,\n",
    "    batch_size=8,\n",
    "    max_epochs=100,\n",
    "    train_dataset=train_dataset,\n",
    "    val_dataset=val_dataset,\n",
    "    test_dataset=test_dataset,\n",
    "    label_names=list(labels2id.keys()),\n",
    "    sampling_weight_fn=None,\n",
    "    no_improvement_epochs_stop=3,\n",
    "    eval_batch_size=None,\n",
    "    loss_weights=None,\n",
    "    device=\"cuda:0\"\n",
    ")"
   ]
  },
  {
   "cell_type": "code",
   "execution_count": null,
   "id": "66fa302f-a3a0-4125-9fa4-5b9fddbe892b",
   "metadata": {
    "tags": []
   },
   "outputs": [],
   "source": [
    "model_trainer.train()"
   ]
  },
  {
   "cell_type": "markdown",
   "id": "f32c9c11-5a8d-4f5e-9425-4505208fa842",
   "metadata": {
    "tags": []
   },
   "source": [
    "## Their BERT MLP"
   ]
  },
  {
   "cell_type": "code",
   "execution_count": 94,
   "id": "b6c38396-e9cf-4470-a185-18b5f5871adf",
   "metadata": {
    "tags": []
   },
   "outputs": [],
   "source": [
    "class TransformerMLPDummy(nn.Module):\n",
    "    def __init__(self, bert):\n",
    "        super().__init__()\n",
    "        self.bert = bert\n",
    "        \n",
    "    def forward(self, input_ids, mask):\n",
    "        out = self.bert(input_ids, attention_mask=mask)\n",
    "        return out[\"logits\"]"
   ]
  },
  {
   "cell_type": "code",
   "execution_count": 95,
   "id": "19506fde-f9d1-43b1-b8e5-47fe32824eac",
   "metadata": {
    "tags": []
   },
   "outputs": [
    {
     "name": "stderr",
     "output_type": "stream",
     "text": [
      "Some weights of the model checkpoint at bert-base-uncased were not used when initializing BertForSequenceClassification: ['cls.predictions.transform.dense.weight', 'cls.seq_relationship.weight', 'cls.predictions.transform.LayerNorm.weight', 'cls.predictions.bias', 'cls.seq_relationship.bias', 'cls.predictions.transform.dense.bias', 'cls.predictions.transform.LayerNorm.bias', 'cls.predictions.decoder.weight']\n",
      "- This IS expected if you are initializing BertForSequenceClassification from the checkpoint of a model trained on another task or with another architecture (e.g. initializing a BertForSequenceClassification model from a BertForPreTraining model).\n",
      "- This IS NOT expected if you are initializing BertForSequenceClassification from the checkpoint of a model that you expect to be exactly identical (initializing a BertForSequenceClassification model from a BertForSequenceClassification model).\n",
      "Some weights of BertForSequenceClassification were not initialized from the model checkpoint at bert-base-uncased and are newly initialized: ['classifier.weight', 'classifier.bias']\n",
      "You should probably TRAIN this model on a down-stream task to be able to use it for predictions and inference.\n"
     ]
    },
    {
     "name": "stdout",
     "output_type": "stream",
     "text": [
      "Model Initialised\n",
      "Model Initialised\n",
      "Loss Initialised\n",
      "Unique labels [0, 1, 2]\n",
      "Calculated inverse\n",
      "Distribution [3.6435510887772193, 16.30584707646177, 1.5055370985603544]\n",
      "Normalised Distribution [0.16982344826390317, 0.7600044873579476, 0.07017206437814937]\n",
      "Train Data Sampler Initialised\n",
      "Dataloaders Initialised\n",
      "Dumped Config\n"
     ]
    }
   ],
   "source": [
    "from transformers import BertForSequenceClassification\n",
    "\n",
    "bert = BertForSequenceClassification.from_pretrained(\n",
    "    selected_model,\n",
    "    num_labels=3\n",
    ")\n",
    "\n",
    "model_trainer = my_trainer.TransformerBasedModelTrainer(\n",
    "    model_class=TransformerMLPDummy,\n",
    "    model_transformer=bert,\n",
    "    model_freeze_transformer=False,\n",
    "    model_config={},\n",
    "    optimiser_class=optim.AdamW,\n",
    "    optimiser_config={\n",
    "        \"lr\": 5e-5\n",
    "    },\n",
    "    hf_scheduler_name=\"linear\",\n",
    "    hf_scheduler_config={\n",
    "        \"num_warmup_steps\": 0,\n",
    "        \"num_training_steps\": 10 * (len(train_dataset) + 1) // 8\n",
    "    },\n",
    "    loss_class=nn.CrossEntropyLoss,\n",
    "    batch_size=8,\n",
    "    max_epochs=10,\n",
    "    train_dataset=train_dataset,\n",
    "    val_dataset=val_dataset,\n",
    "    test_dataset=test_dataset,\n",
    "    label_names=list(labels2id.keys()),\n",
    "    sampling_weight_fn=\"inverse\",\n",
    "    no_improvement_epochs_stop=3,\n",
    "    eval_batch_size=None,\n",
    "    loss_weights=None,\n",
    "    device=\"cuda:0\"\n",
    ")"
   ]
  },
  {
   "cell_type": "code",
   "execution_count": 96,
   "id": "5d3a040d-94f3-498c-a1ca-db8745a72810",
   "metadata": {
    "tags": []
   },
   "outputs": [
    {
     "name": "stdout",
     "output_type": "stream",
     "text": [
      "[2023-04-12 12:23:48] Starting epoch 1\n",
      "[2023-04-12 12:23:48] Starting epoch training\n",
      "[2023-04-12 12:23:48] Set model to train mode\n"
     ]
    },
    {
     "data": {
      "application/vnd.jupyter.widget-view+json": {
       "model_id": "f329d1fe6a1a4ab7940fb6ed923eb3a9",
       "version_major": 2,
       "version_minor": 0
      },
      "text/plain": [
       "  0%|          | 0/1359 [00:00<?, ?it/s]"
      ]
     },
     "metadata": {},
     "output_type": "display_data"
    },
    {
     "name": "stdout",
     "output_type": "stream",
     "text": [
      "[2023-04-12 12:24:09][1:40] Loss: 0.791\n",
      "[2023-04-12 12:24:30][1:80] Loss: 0.713\n",
      "[2023-04-12 12:24:50][1:120] Loss: 0.692\n",
      "[2023-04-12 12:25:10][1:160] Loss: 0.724\n",
      "[2023-04-12 12:25:30][1:200] Loss: 0.753\n",
      "[2023-04-12 12:25:51][1:240] Loss: 0.807\n",
      "[2023-04-12 12:26:11][1:280] Loss: 0.654\n",
      "[2023-04-12 12:26:31][1:320] Loss: 0.664\n",
      "[2023-04-12 12:26:51][1:360] Loss: 0.633\n",
      "[2023-04-12 12:27:12][1:400] Loss: 0.713\n",
      "[2023-04-12 12:27:33][1:440] Loss: 0.761\n",
      "[2023-04-12 12:27:54][1:480] Loss: 0.660\n",
      "[2023-04-12 12:28:15][1:520] Loss: 0.708\n",
      "[2023-04-12 12:28:36][1:560] Loss: 0.624\n",
      "[2023-04-12 12:28:57][1:600] Loss: 0.639\n",
      "[2023-04-12 12:29:17][1:640] Loss: 0.661\n",
      "[2023-04-12 12:29:38][1:680] Loss: 0.662\n",
      "[2023-04-12 12:29:59][1:720] Loss: 0.667\n",
      "[2023-04-12 12:30:20][1:760] Loss: 0.666\n",
      "[2023-04-12 12:30:41][1:800] Loss: 0.709\n",
      "[2023-04-12 12:31:01][1:840] Loss: 0.660\n",
      "[2023-04-12 12:31:22][1:880] Loss: 0.737\n",
      "[2023-04-12 12:31:43][1:920] Loss: 0.729\n",
      "[2023-04-12 12:32:04][1:960] Loss: 0.741\n",
      "[2023-04-12 12:32:24][1:1000] Loss: 0.744\n",
      "[2023-04-12 12:32:45][1:1040] Loss: 0.703\n",
      "[2023-04-12 12:33:06][1:1080] Loss: 0.698\n",
      "[2023-04-12 12:33:27][1:1120] Loss: 0.670\n",
      "[2023-04-12 12:33:47][1:1160] Loss: 0.663\n",
      "[2023-04-12 12:34:08][1:1200] Loss: 0.745\n",
      "[2023-04-12 12:34:29][1:1240] Loss: 0.649\n",
      "[2023-04-12 12:34:50][1:1280] Loss: 0.749\n",
      "[2023-04-12 12:35:10][1:1320] Loss: 0.653\n",
      "[2023-04-12 12:35:30][1:END] Took 702.016s\n",
      "[2023-04-12 12:35:30][1:END] Training Loss: 0.699\n",
      "[2023-04-12 12:35:30] Finished epoch training\n",
      "[2023-04-12 12:35:30] Epoch Loss: 0.6989939562247202\n",
      "[2023-04-12 12:35:30] Starting validation evaluation\n",
      "[2023-04-12 12:35:30] Using model to generate predictions\n",
      "[2023-04-12 12:35:30] Set model to eval mode\n"
     ]
    },
    {
     "data": {
      "application/vnd.jupyter.widget-view+json": {
       "model_id": "98bf3fd3da094522b011c4263a491f47",
       "version_major": 2,
       "version_minor": 0
      },
      "text/plain": [
       "  0%|          | 0/319 [00:00<?, ?it/s]"
      ]
     },
     "metadata": {},
     "output_type": "display_data"
    },
    {
     "name": "stdout",
     "output_type": "stream",
     "text": [
      "[2023-04-12 12:36:23] Set model to train mode\n"
     ]
    },
    {
     "name": "stderr",
     "output_type": "stream",
     "text": [
      "F:\\Documents\\Development\\GitHub\\natural-language-processing-y4\\code\\env\\lib\\site-packages\\sklearn\\metrics\\_classification.py:1344: UndefinedMetricWarning: Precision and F-score are ill-defined and being set to 0.0 in labels with no predicted samples. Use `zero_division` parameter to control this behavior.\n",
      "  _warn_prf(average, modifier, msg_start, len(result))\n",
      "F:\\Documents\\Development\\GitHub\\natural-language-processing-y4\\code\\env\\lib\\site-packages\\sklearn\\metrics\\_classification.py:1344: UndefinedMetricWarning: Precision and F-score are ill-defined and being set to 0.0 in labels with no predicted samples. Use `zero_division` parameter to control this behavior.\n",
      "  _warn_prf(average, modifier, msg_start, len(result))\n",
      "F:\\Documents\\Development\\GitHub\\natural-language-processing-y4\\code\\env\\lib\\site-packages\\sklearn\\metrics\\_classification.py:1344: UndefinedMetricWarning: Precision and F-score are ill-defined and being set to 0.0 in labels with no predicted samples. Use `zero_division` parameter to control this behavior.\n",
      "  _warn_prf(average, modifier, msg_start, len(result))\n",
      "F:\\Documents\\Development\\GitHub\\natural-language-processing-y4\\code\\env\\lib\\site-packages\\sklearn\\metrics\\_classification.py:1344: UndefinedMetricWarning: Precision is ill-defined and being set to 0.0 in labels with no predicted samples. Use `zero_division` parameter to control this behavior.\n",
      "  _warn_prf(average, modifier, msg_start, len(result))\n"
     ]
    },
    {
     "data": {
      "image/png": "[encoded data removed]",
      "text/plain": [
       "<Figure size 640x480 with 2 Axes>"
      ]
     },
     "metadata": {},
     "output_type": "display_data"
    },
    {
     "name": "stdout",
     "output_type": "stream",
     "text": [
      "[2023-04-12 12:36:26] Classification Report:\n",
      "[2023-04-12 12:36:26]               precision    recall  f1-score   support\n",
      "\n",
      "           0       0.00      0.00      0.00       693\n",
      "           1       0.07      1.00      0.13       173\n",
      "           2       0.00      0.00      0.00      1685\n",
      "\n",
      "    accuracy                           0.07      2551\n",
      "   macro avg       0.02      0.33      0.04      2551\n",
      "weighted avg       0.00      0.07      0.01      2551\n",
      "\n",
      "[2023-04-12 12:36:26] Epoch Accuracy {'accuracy': 0.06781654253234026}\n",
      "[2023-04-12 12:36:26] Finished validation evaluation\n",
      "[2023-04-12 12:36:26] Beat best validation loss, new validation loss: 2.26084501111769 (surpassed 1000000000.0 from epoch -1)\n"
     ]
    },
    {
     "name": "stderr",
     "output_type": "stream",
     "text": [
      "F:\\Documents\\Development\\GitHub\\natural-language-processing-y4\\code\\env\\lib\\site-packages\\sklearn\\metrics\\_classification.py:1344: UndefinedMetricWarning: Precision and F-score are ill-defined and being set to 0.0 in labels with no predicted samples. Use `zero_division` parameter to control this behavior.\n",
      "  _warn_prf(average, modifier, msg_start, len(result))\n",
      "F:\\Documents\\Development\\GitHub\\natural-language-processing-y4\\code\\env\\lib\\site-packages\\sklearn\\metrics\\_classification.py:1344: UndefinedMetricWarning: Precision and F-score are ill-defined and being set to 0.0 in labels with no predicted samples. Use `zero_division` parameter to control this behavior.\n",
      "  _warn_prf(average, modifier, msg_start, len(result))\n",
      "F:\\Documents\\Development\\GitHub\\natural-language-processing-y4\\code\\env\\lib\\site-packages\\sklearn\\metrics\\_classification.py:1344: UndefinedMetricWarning: Precision and F-score are ill-defined and being set to 0.0 in labels with no predicted samples. Use `zero_division` parameter to control this behavior.\n",
      "  _warn_prf(average, modifier, msg_start, len(result))\n"
     ]
    },
    {
     "name": "stdout",
     "output_type": "stream",
     "text": [
      "[2023-04-12 12:36:28] Saved best model\n",
      "[2023-04-12 12:36:28] Logged to wandb\n",
      "[2023-04-12 12:36:28] Starting epoch 2\n",
      "[2023-04-12 12:36:28] Starting epoch training\n",
      "[2023-04-12 12:36:28] Set model to train mode\n"
     ]
    },
    {
     "data": {
      "application/vnd.jupyter.widget-view+json": {
       "model_id": "4dec7746ca714c009276d3d976cf9a81",
       "version_major": 2,
       "version_minor": 0
      },
      "text/plain": [
       "  0%|          | 0/1359 [00:00<?, ?it/s]"
      ]
     },
     "metadata": {},
     "output_type": "display_data"
    },
    {
     "name": "stdout",
     "output_type": "stream",
     "text": [
      "[2023-04-12 12:36:48][2:40] Loss: 0.787\n",
      "[2023-04-12 12:37:09][2:80] Loss: 0.683\n",
      "[2023-04-12 12:37:29][2:120] Loss: 0.722\n",
      "[2023-04-12 12:37:49][2:160] Loss: 0.739\n",
      "[2023-04-12 12:38:09][2:200] Loss: 0.612\n",
      "[2023-04-12 12:38:29][2:240] Loss: 0.754\n",
      "[2023-04-12 12:38:50][2:280] Loss: 0.632\n",
      "[2023-04-12 12:39:10][2:320] Loss: 0.694\n",
      "[2023-04-12 12:39:30][2:360] Loss: 0.712\n",
      "[2023-04-12 12:39:50][2:400] Loss: 0.681\n",
      "[2023-04-12 12:40:11][2:440] Loss: 0.760\n",
      "[2023-04-12 12:40:31][2:480] Loss: 0.717\n",
      "[2023-04-12 12:40:51][2:520] Loss: 0.749\n",
      "[2023-04-12 12:41:11][2:560] Loss: 0.759\n",
      "[2023-04-12 12:41:32][2:600] Loss: 0.734\n",
      "[2023-04-12 12:41:52][2:640] Loss: 0.743\n",
      "[2023-04-12 12:42:12][2:680] Loss: 0.679\n",
      "[2023-04-12 12:42:32][2:720] Loss: 0.716\n",
      "[2023-04-12 12:42:53][2:760] Loss: 0.674\n",
      "[2023-04-12 12:43:13][2:800] Loss: 0.687\n",
      "[2023-04-12 12:43:33][2:840] Loss: 0.719\n",
      "[2023-04-12 12:43:53][2:880] Loss: 0.700\n",
      "[2023-04-12 12:44:14][2:920] Loss: 0.653\n",
      "[2023-04-12 12:44:34][2:960] Loss: 0.655\n",
      "[2023-04-12 12:44:54][2:1000] Loss: 0.761\n",
      "[2023-04-12 12:45:14][2:1040] Loss: 0.636\n",
      "[2023-04-12 12:45:34][2:1080] Loss: 0.775\n",
      "[2023-04-12 12:45:55][2:1120] Loss: 0.772\n",
      "[2023-04-12 12:46:15][2:1160] Loss: 0.688\n",
      "[2023-04-12 12:46:35][2:1200] Loss: 0.698\n",
      "[2023-04-12 12:46:55][2:1240] Loss: 0.711\n",
      "[2023-04-12 12:47:15][2:1280] Loss: 0.760\n",
      "[2023-04-12 12:47:36][2:1320] Loss: 0.616\n",
      "[2023-04-12 12:47:55][2:END] Took 687.378s\n",
      "[2023-04-12 12:47:55][2:END] Training Loss: 0.708\n",
      "[2023-04-12 12:47:55] Finished epoch training\n",
      "[2023-04-12 12:47:55] Epoch Loss: 0.7075534309311945\n",
      "[2023-04-12 12:47:55] Starting validation evaluation\n",
      "[2023-04-12 12:47:55] Using model to generate predictions\n",
      "[2023-04-12 12:47:55] Set model to eval mode\n"
     ]
    },
    {
     "data": {
      "application/vnd.jupyter.widget-view+json": {
       "model_id": "a47fcb428994453f94a41fa734eb57e0",
       "version_major": 2,
       "version_minor": 0
      },
      "text/plain": [
       "  0%|          | 0/319 [00:00<?, ?it/s]"
      ]
     },
     "metadata": {},
     "output_type": "display_data"
    },
    {
     "name": "stdout",
     "output_type": "stream",
     "text": [
      "[2023-04-12 12:48:47] Set model to train mode\n"
     ]
    },
    {
     "name": "stderr",
     "output_type": "stream",
     "text": [
      "F:\\Documents\\Development\\GitHub\\natural-language-processing-y4\\code\\env\\lib\\site-packages\\sklearn\\metrics\\_classification.py:1344: UndefinedMetricWarning: Precision and F-score are ill-defined and being set to 0.0 in labels with no predicted samples. Use `zero_division` parameter to control this behavior.\n",
      "  _warn_prf(average, modifier, msg_start, len(result))\n",
      "F:\\Documents\\Development\\GitHub\\natural-language-processing-y4\\code\\env\\lib\\site-packages\\sklearn\\metrics\\_classification.py:1344: UndefinedMetricWarning: Precision and F-score are ill-defined and being set to 0.0 in labels with no predicted samples. Use `zero_division` parameter to control this behavior.\n",
      "  _warn_prf(average, modifier, msg_start, len(result))\n",
      "F:\\Documents\\Development\\GitHub\\natural-language-processing-y4\\code\\env\\lib\\site-packages\\sklearn\\metrics\\_classification.py:1344: UndefinedMetricWarning: Precision and F-score are ill-defined and being set to 0.0 in labels with no predicted samples. Use `zero_division` parameter to control this behavior.\n",
      "  _warn_prf(average, modifier, msg_start, len(result))\n",
      "F:\\Documents\\Development\\GitHub\\natural-language-processing-y4\\code\\env\\lib\\site-packages\\sklearn\\metrics\\_classification.py:1344: UndefinedMetricWarning: Precision is ill-defined and being set to 0.0 in labels with no predicted samples. Use `zero_division` parameter to control this behavior.\n",
      "  _warn_prf(average, modifier, msg_start, len(result))\n"
     ]
    },
    {
     "data": {
      "image/png": "[encoded data removed]",
      "text/plain": [
       "<Figure size 640x480 with 2 Axes>"
      ]
     },
     "metadata": {},
     "output_type": "display_data"
    },
    {
     "name": "stdout",
     "output_type": "stream",
     "text": [
      "[2023-04-12 12:48:51] Classification Report:\n",
      "[2023-04-12 12:48:51]               precision    recall  f1-score   support\n",
      "\n",
      "           0       0.00      0.00      0.00       693\n",
      "           1       0.07      1.00      0.13       173\n",
      "           2       0.00      0.00      0.00      1685\n",
      "\n",
      "    accuracy                           0.07      2551\n",
      "   macro avg       0.02      0.33      0.04      2551\n",
      "weighted avg       0.00      0.07      0.01      2551\n",
      "\n",
      "[2023-04-12 12:48:51] Epoch Accuracy {'accuracy': 0.06781654253234026}\n",
      "[2023-04-12 12:48:51] Finished validation evaluation\n",
      "[2023-04-12 12:48:51] Beat best validation loss, new validation loss: 2.1794836347379656 (surpassed 2.26084501111769 from epoch 1)\n"
     ]
    },
    {
     "name": "stderr",
     "output_type": "stream",
     "text": [
      "F:\\Documents\\Development\\GitHub\\natural-language-processing-y4\\code\\env\\lib\\site-packages\\sklearn\\metrics\\_classification.py:1344: UndefinedMetricWarning: Precision and F-score are ill-defined and being set to 0.0 in labels with no predicted samples. Use `zero_division` parameter to control this behavior.\n",
      "  _warn_prf(average, modifier, msg_start, len(result))\n",
      "F:\\Documents\\Development\\GitHub\\natural-language-processing-y4\\code\\env\\lib\\site-packages\\sklearn\\metrics\\_classification.py:1344: UndefinedMetricWarning: Precision and F-score are ill-defined and being set to 0.0 in labels with no predicted samples. Use `zero_division` parameter to control this behavior.\n",
      "  _warn_prf(average, modifier, msg_start, len(result))\n",
      "F:\\Documents\\Development\\GitHub\\natural-language-processing-y4\\code\\env\\lib\\site-packages\\sklearn\\metrics\\_classification.py:1344: UndefinedMetricWarning: Precision and F-score are ill-defined and being set to 0.0 in labels with no predicted samples. Use `zero_division` parameter to control this behavior.\n",
      "  _warn_prf(average, modifier, msg_start, len(result))\n"
     ]
    },
    {
     "name": "stdout",
     "output_type": "stream",
     "text": [
      "[2023-04-12 12:48:52] Saved best model\n",
      "[2023-04-12 12:48:52] Logged to wandb\n",
      "[2023-04-12 12:48:52] Starting epoch 3\n",
      "[2023-04-12 12:48:52] Starting epoch training\n",
      "[2023-04-12 12:48:52] Set model to train mode\n"
     ]
    },
    {
     "data": {
      "application/vnd.jupyter.widget-view+json": {
       "model_id": "defd398d62674e0393df09beb7b0e18e",
       "version_major": 2,
       "version_minor": 0
      },
      "text/plain": [
       "  0%|          | 0/1359 [00:00<?, ?it/s]"
      ]
     },
     "metadata": {},
     "output_type": "display_data"
    },
    {
     "name": "stdout",
     "output_type": "stream",
     "text": [
      "[2023-04-12 12:49:13][3:40] Loss: 0.726\n",
      "[2023-04-12 12:49:33][3:80] Loss: 0.669\n",
      "[2023-04-12 12:49:54][3:120] Loss: 0.759\n",
      "[2023-04-12 12:50:14][3:160] Loss: 0.625\n",
      "[2023-04-12 12:50:34][3:200] Loss: 0.649\n",
      "[2023-04-12 12:50:54][3:240] Loss: 0.780\n",
      "[2023-04-12 12:51:15][3:280] Loss: 0.763\n",
      "[2023-04-12 12:51:35][3:320] Loss: 0.731\n",
      "[2023-04-12 12:51:55][3:360] Loss: 0.729\n",
      "[2023-04-12 12:52:17][3:400] Loss: 0.672\n"
     ]
    },
    {
     "ename": "KeyboardInterrupt",
     "evalue": "",
     "output_type": "error",
     "traceback": [
      "\u001b[1;31m---------------------------------------------------------------------------\u001b[0m",
      "\u001b[1;31mKeyboardInterrupt\u001b[0m                         Traceback (most recent call last)",
      "Cell \u001b[1;32mIn[96], line 1\u001b[0m\n\u001b[1;32m----> 1\u001b[0m \u001b[43mmodel_trainer\u001b[49m\u001b[38;5;241;43m.\u001b[39;49m\u001b[43mtrain\u001b[49m\u001b[43m(\u001b[49m\u001b[43m)\u001b[49m\n",
      "File \u001b[1;32mF:\\Documents\\Development\\GitHub\\natural-language-processing-y4\\code\\my_trainer.py:212\u001b[0m, in \u001b[0;36mTransformerBasedModelTrainer.train\u001b[1;34m(self)\u001b[0m\n\u001b[0;32m    209\u001b[0m \u001b[38;5;28mself\u001b[39m\u001b[38;5;241m.\u001b[39m_log(\u001b[38;5;124mf\u001b[39m\u001b[38;5;124m\"\u001b[39m\u001b[38;5;124mStarting epoch \u001b[39m\u001b[38;5;132;01m{\u001b[39;00mepoch\u001b[38;5;132;01m}\u001b[39;00m\u001b[38;5;124m\"\u001b[39m)\n\u001b[0;32m    211\u001b[0m \u001b[38;5;28mself\u001b[39m\u001b[38;5;241m.\u001b[39m_log(\u001b[38;5;124m\"\u001b[39m\u001b[38;5;124mStarting epoch training\u001b[39m\u001b[38;5;124m\"\u001b[39m)\n\u001b[1;32m--> 212\u001b[0m epoch_loss \u001b[38;5;241m=\u001b[39m \u001b[38;5;28;43mself\u001b[39;49m\u001b[38;5;241;43m.\u001b[39;49m\u001b[43m_train_epoch\u001b[49m\u001b[43m(\u001b[49m\u001b[43mepoch\u001b[49m\u001b[43m)\u001b[49m\n\u001b[0;32m    213\u001b[0m \u001b[38;5;28mself\u001b[39m\u001b[38;5;241m.\u001b[39m_log(\u001b[38;5;124m\"\u001b[39m\u001b[38;5;124mFinished epoch training\u001b[39m\u001b[38;5;124m\"\u001b[39m)\n\u001b[0;32m    215\u001b[0m \u001b[38;5;28mself\u001b[39m\u001b[38;5;241m.\u001b[39m_log(\u001b[38;5;124mf\u001b[39m\u001b[38;5;124m\"\u001b[39m\u001b[38;5;124mEpoch Loss: \u001b[39m\u001b[38;5;132;01m{\u001b[39;00mepoch_loss\u001b[38;5;132;01m}\u001b[39;00m\u001b[38;5;124m\"\u001b[39m)\n",
      "File \u001b[1;32mF:\\Documents\\Development\\GitHub\\natural-language-processing-y4\\code\\my_trainer.py:269\u001b[0m, in \u001b[0;36mTransformerBasedModelTrainer._train_epoch\u001b[1;34m(self, epoch)\u001b[0m\n\u001b[0;32m    266\u001b[0m loss \u001b[38;5;241m=\u001b[39m \u001b[38;5;28mself\u001b[39m\u001b[38;5;241m.\u001b[39mloss_fn(predictions, labels)\n\u001b[0;32m    268\u001b[0m \u001b[38;5;28mself\u001b[39m\u001b[38;5;241m.\u001b[39moptimiser\u001b[38;5;241m.\u001b[39mzero_grad()\n\u001b[1;32m--> 269\u001b[0m \u001b[43mloss\u001b[49m\u001b[38;5;241;43m.\u001b[39;49m\u001b[43mbackward\u001b[49m\u001b[43m(\u001b[49m\u001b[43m)\u001b[49m\n\u001b[0;32m    270\u001b[0m \u001b[38;5;28mself\u001b[39m\u001b[38;5;241m.\u001b[39moptimiser\u001b[38;5;241m.\u001b[39mstep()\n\u001b[0;32m    272\u001b[0m \u001b[38;5;28;01mif\u001b[39;00m \u001b[38;5;28mself\u001b[39m\u001b[38;5;241m.\u001b[39mscheduler \u001b[38;5;129;01mis\u001b[39;00m \u001b[38;5;129;01mnot\u001b[39;00m \u001b[38;5;28;01mNone\u001b[39;00m:\n",
      "File \u001b[1;32mF:\\Documents\\Development\\GitHub\\natural-language-processing-y4\\code\\env\\lib\\site-packages\\torch\\_tensor.py:396\u001b[0m, in \u001b[0;36mTensor.backward\u001b[1;34m(self, gradient, retain_graph, create_graph, inputs)\u001b[0m\n\u001b[0;32m    387\u001b[0m \u001b[38;5;28;01mif\u001b[39;00m has_torch_function_unary(\u001b[38;5;28mself\u001b[39m):\n\u001b[0;32m    388\u001b[0m     \u001b[38;5;28;01mreturn\u001b[39;00m handle_torch_function(\n\u001b[0;32m    389\u001b[0m         Tensor\u001b[38;5;241m.\u001b[39mbackward,\n\u001b[0;32m    390\u001b[0m         (\u001b[38;5;28mself\u001b[39m,),\n\u001b[1;32m   (...)\u001b[0m\n\u001b[0;32m    394\u001b[0m         create_graph\u001b[38;5;241m=\u001b[39mcreate_graph,\n\u001b[0;32m    395\u001b[0m         inputs\u001b[38;5;241m=\u001b[39minputs)\n\u001b[1;32m--> 396\u001b[0m \u001b[43mtorch\u001b[49m\u001b[38;5;241;43m.\u001b[39;49m\u001b[43mautograd\u001b[49m\u001b[38;5;241;43m.\u001b[39;49m\u001b[43mbackward\u001b[49m\u001b[43m(\u001b[49m\u001b[38;5;28;43mself\u001b[39;49m\u001b[43m,\u001b[49m\u001b[43m \u001b[49m\u001b[43mgradient\u001b[49m\u001b[43m,\u001b[49m\u001b[43m \u001b[49m\u001b[43mretain_graph\u001b[49m\u001b[43m,\u001b[49m\u001b[43m \u001b[49m\u001b[43mcreate_graph\u001b[49m\u001b[43m,\u001b[49m\u001b[43m \u001b[49m\u001b[43minputs\u001b[49m\u001b[38;5;241;43m=\u001b[39;49m\u001b[43minputs\u001b[49m\u001b[43m)\u001b[49m\n",
      "File \u001b[1;32mF:\\Documents\\Development\\GitHub\\natural-language-processing-y4\\code\\env\\lib\\site-packages\\torch\\autograd\\__init__.py:173\u001b[0m, in \u001b[0;36mbackward\u001b[1;34m(tensors, grad_tensors, retain_graph, create_graph, grad_variables, inputs)\u001b[0m\n\u001b[0;32m    168\u001b[0m     retain_graph \u001b[38;5;241m=\u001b[39m create_graph\n\u001b[0;32m    170\u001b[0m \u001b[38;5;66;03m# The reason we repeat same the comment below is that\u001b[39;00m\n\u001b[0;32m    171\u001b[0m \u001b[38;5;66;03m# some Python versions print out the first line of a multi-line function\u001b[39;00m\n\u001b[0;32m    172\u001b[0m \u001b[38;5;66;03m# calls in the traceback and some print out the last line\u001b[39;00m\n\u001b[1;32m--> 173\u001b[0m \u001b[43mVariable\u001b[49m\u001b[38;5;241;43m.\u001b[39;49m\u001b[43m_execution_engine\u001b[49m\u001b[38;5;241;43m.\u001b[39;49m\u001b[43mrun_backward\u001b[49m\u001b[43m(\u001b[49m\u001b[43m  \u001b[49m\u001b[38;5;66;43;03m# Calls into the C++ engine to run the backward pass\u001b[39;49;00m\n\u001b[0;32m    174\u001b[0m \u001b[43m    \u001b[49m\u001b[43mtensors\u001b[49m\u001b[43m,\u001b[49m\u001b[43m \u001b[49m\u001b[43mgrad_tensors_\u001b[49m\u001b[43m,\u001b[49m\u001b[43m \u001b[49m\u001b[43mretain_graph\u001b[49m\u001b[43m,\u001b[49m\u001b[43m \u001b[49m\u001b[43mcreate_graph\u001b[49m\u001b[43m,\u001b[49m\u001b[43m \u001b[49m\u001b[43minputs\u001b[49m\u001b[43m,\u001b[49m\n\u001b[0;32m    175\u001b[0m \u001b[43m    \u001b[49m\u001b[43mallow_unreachable\u001b[49m\u001b[38;5;241;43m=\u001b[39;49m\u001b[38;5;28;43;01mTrue\u001b[39;49;00m\u001b[43m,\u001b[49m\u001b[43m \u001b[49m\u001b[43maccumulate_grad\u001b[49m\u001b[38;5;241;43m=\u001b[39;49m\u001b[38;5;28;43;01mTrue\u001b[39;49;00m\u001b[43m)\u001b[49m\n",
      "\u001b[1;31mKeyboardInterrupt\u001b[0m: "
     ]
    }
   ],
   "source": [
    "model_trainer.train()"
   ]
  },
  {
   "cell_type": "markdown",
   "id": "51330aa1-e68d-43bc-a4d5-74a8fabc8223",
   "metadata": {
    "tags": []
   },
   "source": [
    "## BERT+CNN"
   ]
  },
  {
   "cell_type": "code",
   "execution_count": 145,
   "id": "edff9c0c-9d6a-4202-bfa0-a8795a5f4114",
   "metadata": {
    "tags": []
   },
   "outputs": [],
   "source": [
    "class BERTWithCNN(nn.Module):\n",
    "    def __init__(self, bert):\n",
    "        super().__init__()\n",
    "        \n",
    "        self.bert = bert\n",
    "        embedding_dim = bert.config.to_dict()[\"hidden_size\"]\n",
    "        \n",
    "        # self.layers = nn.Sequential(\n",
    "        #     # nn.Conv2d(1, 3, kernel_size=(2, 768), stride=(1, 1)),\n",
    "        #     # nn.ReLU(),\n",
    "        #     # nn.Conv2d(1, 3, kernel_size=(3, 768), stride=(1, 1)),\n",
    "        #     # nn.ReLU(),\n",
    "        #     # nn.Conv2d(1, 3, kernel_size=(4, 768), stride=(1, 1)),\n",
    "        #     # nn.ReLU(),\n",
    "        #     # nn.Conv1d(in_channels=768, out_channels=384, kernel_size=5, padding=\"valid\", stride=1),\n",
    "        #     # nn.ReLU(),\n",
    "        #     # nn.MaxPool1d(kernel_size= 64- 5 + 1),\n",
    "        #     # nn.Dropout(0.2),\n",
    "        #     # nn.Linear(384, 192),\n",
    "        #     # nn.Linear(192, 3)\n",
    "        # )\n",
    "        \n",
    "        # self.lstm = nn.LSTM(\n",
    "        \n",
    "        self.first_conv = nn.Sequential(\n",
    "            nn.Conv1d(768, 512, 5, padding=2),\n",
    "            nn.ReLU(),\n",
    "            # nn.MaxPool1d(256 + 1)\n",
    "        )\n",
    "        \n",
    "        self.second_conv = nn.Sequential(\n",
    "            nn.Conv1d(512, 256, 5, padding=2),\n",
    "            nn.ReLU(),\n",
    "            # nn.MaxPool1d(256 + 1)\n",
    "        )\n",
    "        \n",
    "        self.rnn = nn.GRU(256,\n",
    "                          256,\n",
    "                          num_layers = 2,\n",
    "                          bidirectional = True,\n",
    "                          batch_first = True,\n",
    "                          dropout = 0.2)\n",
    "        \n",
    "        self.out = nn.Linear(256 * 2, 3)\n",
    "        \n",
    "        self.dropout = nn.Dropout(0.2)\n",
    "        \n",
    "        # self.conv = nn.Conv1d(768, 384, 5, padding=2)\n",
    "    \n",
    "    def forward(self, ids, mask):\n",
    "        embedded = self.bert(input_ids=ids, attention_mask=mask)[0]\n",
    "        \n",
    "        # (b, 512, 768)\n",
    "        # print(\"BERT Embeddings (N, L, C)\", embedded.shape)\n",
    "        \n",
    "        embedded = embedded.permute(0, 2, 1)\n",
    "        # print(\"Rearranged to (N, C, L)\", embedded.shape)\n",
    "        \n",
    "        x = self.first_conv(embedded)\n",
    "        # print(\"After Conv\", x.shape)\n",
    "        \n",
    "        x = self.second_conv(x)\n",
    "        # print(\"After Conv 2\", x.shape)\n",
    "        \n",
    "        x = x.permute(0, 2, 1)\n",
    "        # print(\"Rearranged to (N, L, C)\", embedded.shape)\n",
    "        \n",
    "        \n",
    "        _, hidden = self.rnn(x)\n",
    "    \n",
    "        \n",
    "        if self.rnn.bidirectional:\n",
    "            hidden = self.dropout(torch.cat((hidden[-2,:,:], hidden[-1,:,:]), dim = 1))\n",
    "        else:\n",
    "            hidden = self.dropout(hidden[-1,:,:])\n",
    "        \n",
    "        output = self.out(hidden)        \n",
    "        \n",
    "        return output\n",
    "        \n",
    "        # processed = processed.permute(0, 2, 1)\n",
    "        # print(processed.shape)\n",
    "        # embedded = embedded.permute(0, 2, 1)\n",
    "        \n",
    "        #x = self.layers(embedded)\n",
    "        #print(x.shape)\n",
    "        "
   ]
  },
  {
   "cell_type": "code",
   "execution_count": 148,
   "id": "c92ea68e-8470-45b5-9a61-1bbfb277f4d5",
   "metadata": {
    "tags": []
   },
   "outputs": [
    {
     "name": "stderr",
     "output_type": "stream",
     "text": [
      "Some weights of the model checkpoint at bert-base-uncased were not used when initializing BertModel: ['cls.predictions.transform.dense.weight', 'cls.seq_relationship.weight', 'cls.predictions.transform.LayerNorm.weight', 'cls.predictions.bias', 'cls.seq_relationship.bias', 'cls.predictions.transform.dense.bias', 'cls.predictions.transform.LayerNorm.bias', 'cls.predictions.decoder.weight']\n",
      "- This IS expected if you are initializing BertModel from the checkpoint of a model trained on another task or with another architecture (e.g. initializing a BertForSequenceClassification model from a BertForPreTraining model).\n",
      "- This IS NOT expected if you are initializing BertModel from the checkpoint of a model that you expect to be exactly identical (initializing a BertForSequenceClassification model from a BertForSequenceClassification model).\n"
     ]
    },
    {
     "name": "stdout",
     "output_type": "stream",
     "text": [
      "Model Initialised\n",
      "Model Initialised\n",
      "Loss Initialised\n",
      "Unique labels [0, 1, 2]\n",
      "Distribution [0.25, 0.25, 0.125]\n",
      "Normalised Distribution [0.4, 0.4, 0.2]\n",
      "Train Data Sampler Initialised\n",
      "Dataloaders Initialised\n",
      "Dumped Config\n"
     ]
    }
   ],
   "source": [
    "bert = BertModel.from_pretrained(selected_model)\n",
    "bert = bert.to(device)\n",
    "\n",
    "model_trainer = my_trainer.TransformerBasedModelTrainer(\n",
    "    model_class=BERTWithCNN,\n",
    "    model_transformer=bert,\n",
    "    model_freeze_transformer=False,\n",
    "    model_config={},\n",
    "    optimiser_class=optim.AdamW,\n",
    "    optimiser_config={\n",
    "        \"lr\": 5e-5\n",
    "    },\n",
    "    hf_scheduler_name=\"linear\",\n",
    "    hf_scheduler_config={\n",
    "        \"num_warmup_steps\": 0,\n",
    "        \"num_training_steps\": 10 * (len(train_dataset) + 1) // 8\n",
    "    },\n",
    "    loss_class=nn.CrossEntropyLoss,\n",
    "    batch_size=8,\n",
    "    max_epochs=10,\n",
    "    train_dataset=train_dataset,\n",
    "    val_dataset=val_dataset,\n",
    "    test_dataset=test_dataset,\n",
    "    label_names=list(labels2id.keys()),\n",
    "    sampling_weight_fn=[0.25, 0.25, 0.125],\n",
    "    no_improvement_epochs_stop=3,\n",
    "    eval_batch_size=None,\n",
    "    loss_weights=None,\n",
    "    device=\"cuda:0\"\n",
    ")"
   ]
  },
  {
   "cell_type": "code",
   "execution_count": 149,
   "id": "83739dcb-b05e-4fe9-81c0-ad570ae9ae22",
   "metadata": {
    "tags": []
   },
   "outputs": [
    {
     "name": "stdout",
     "output_type": "stream",
     "text": [
      "[2023-04-12 20:25:19] Starting epoch 1\n",
      "[2023-04-12 20:25:19] Starting epoch training\n",
      "[2023-04-12 20:25:19] Set model to train mode\n"
     ]
    },
    {
     "data": {
      "application/vnd.jupyter.widget-view+json": {
       "model_id": "dbaecf7d10434f5c9e67cb559992335f",
       "version_major": 2,
       "version_minor": 0
      },
      "text/plain": [
       "  0%|          | 0/1359 [00:00<?, ?it/s]"
      ]
     },
     "metadata": {},
     "output_type": "display_data"
    },
    {
     "name": "stdout",
     "output_type": "stream",
     "text": [
      "[2023-04-12 20:25:43][1:40] Loss: 1.095\n",
      "[2023-04-12 20:26:06][1:80] Loss: 0.973\n",
      "[2023-04-12 20:26:29][1:120] Loss: 0.855\n",
      "[2023-04-12 20:26:53][1:160] Loss: 0.802\n",
      "[2023-04-12 20:27:16][1:200] Loss: 0.780\n",
      "[2023-04-12 20:27:39][1:240] Loss: 0.718\n",
      "[2023-04-12 20:28:02][1:280] Loss: 0.765\n",
      "[2023-04-12 20:28:25][1:320] Loss: 0.705\n",
      "[2023-04-12 20:28:48][1:360] Loss: 0.632\n",
      "[2023-04-12 20:29:12][1:400] Loss: 0.666\n",
      "[2023-04-12 20:29:35][1:440] Loss: 0.584\n",
      "[2023-04-12 20:29:58][1:480] Loss: 0.670\n",
      "[2023-04-12 20:30:21][1:520] Loss: 0.619\n",
      "[2023-04-12 20:30:44][1:560] Loss: 0.587\n",
      "[2023-04-12 20:31:08][1:600] Loss: 0.505\n",
      "[2023-04-12 20:31:31][1:640] Loss: 0.557\n",
      "[2023-04-12 20:31:54][1:680] Loss: 0.501\n",
      "[2023-04-12 20:32:17][1:720] Loss: 0.523\n",
      "[2023-04-12 20:32:40][1:760] Loss: 0.490\n",
      "[2023-04-12 20:33:03][1:800] Loss: 0.513\n",
      "[2023-04-12 20:33:27][1:840] Loss: 0.364\n",
      "[2023-04-12 20:33:50][1:880] Loss: 0.505\n",
      "[2023-04-12 20:34:13][1:920] Loss: 0.427\n",
      "[2023-04-12 20:34:36][1:960] Loss: 0.428\n",
      "[2023-04-12 20:34:59][1:1000] Loss: 0.390\n",
      "[2023-04-12 20:35:23][1:1040] Loss: 0.372\n",
      "[2023-04-12 20:35:46][1:1080] Loss: 0.410\n",
      "[2023-04-12 20:36:09][1:1120] Loss: 0.497\n",
      "[2023-04-12 20:36:32][1:1160] Loss: 0.409\n",
      "[2023-04-12 20:36:55][1:1200] Loss: 0.316\n",
      "[2023-04-12 20:37:18][1:1240] Loss: 0.334\n",
      "[2023-04-12 20:37:42][1:1280] Loss: 0.325\n",
      "[2023-04-12 20:38:05][1:1320] Loss: 0.363\n",
      "[2023-04-12 20:38:27][1:END] Took 787.882s\n",
      "[2023-04-12 20:38:27][1:END] Training Loss: 0.559\n",
      "[2023-04-12 20:38:27] Finished epoch training\n",
      "[2023-04-12 20:38:27] Epoch Loss: 0.5592419837873547\n",
      "[2023-04-12 20:38:27] Starting validation evaluation\n",
      "[2023-04-12 20:38:27] Using model to generate predictions\n",
      "[2023-04-12 20:38:27] Set model to eval mode\n"
     ]
    },
    {
     "data": {
      "application/vnd.jupyter.widget-view+json": {
       "model_id": "2a655b66aa4a4f6db74fc73c34a14295",
       "version_major": 2,
       "version_minor": 0
      },
      "text/plain": [
       "  0%|          | 0/319 [00:00<?, ?it/s]"
      ]
     },
     "metadata": {},
     "output_type": "display_data"
    },
    {
     "name": "stdout",
     "output_type": "stream",
     "text": [
      "[2023-04-12 20:39:26] Set model to train mode\n"
     ]
    },
    {
     "data": {
      "image/png": "[encoded data removed]",
      "text/plain": [
       "<Figure size 640x480 with 2 Axes>"
      ]
     },
     "metadata": {},
     "output_type": "display_data"
    },
    {
     "name": "stdout",
     "output_type": "stream",
     "text": [
      "[2023-04-12 20:39:30] Classification Report:\n",
      "[2023-04-12 20:39:30]               precision    recall  f1-score   support\n",
      "\n",
      "           0       0.51      0.82      0.63       693\n",
      "           1       0.35      0.76      0.48       173\n",
      "           2       0.96      0.61      0.74      1685\n",
      "\n",
      "    accuracy                           0.68      2551\n",
      "   macro avg       0.61      0.73      0.62      2551\n",
      "weighted avg       0.80      0.68      0.70      2551\n",
      "\n",
      "[2023-04-12 20:39:30] Epoch Accuracy {'accuracy': 0.675421403371227}\n",
      "[2023-04-12 20:39:30] Finished validation evaluation\n",
      "[2023-04-12 20:39:30] Beat best validation loss, new validation loss: 0.8610193000341471 (surpassed 1000000000.0 from epoch -1)\n",
      "[2023-04-12 20:39:31] Saved best model\n",
      "[2023-04-12 20:39:31] Logged to wandb\n",
      "[2023-04-12 20:39:31] Starting epoch 2\n",
      "[2023-04-12 20:39:31] Starting epoch training\n",
      "[2023-04-12 20:39:31] Set model to train mode\n"
     ]
    },
    {
     "data": {
      "application/vnd.jupyter.widget-view+json": {
       "model_id": "ba2ced243ce84f728b43f366dc756594",
       "version_major": 2,
       "version_minor": 0
      },
      "text/plain": [
       "  0%|          | 0/1359 [00:00<?, ?it/s]"
      ]
     },
     "metadata": {},
     "output_type": "display_data"
    },
    {
     "name": "stdout",
     "output_type": "stream",
     "text": [
      "[2023-04-12 20:39:55][2:40] Loss: 0.327\n",
      "[2023-04-12 20:40:17][2:80] Loss: 0.342\n",
      "[2023-04-12 20:40:40][2:120] Loss: 0.345\n",
      "[2023-04-12 20:41:02][2:160] Loss: 0.263\n",
      "[2023-04-12 20:41:25][2:200] Loss: 0.309\n",
      "[2023-04-12 20:41:48][2:240] Loss: 0.258\n",
      "[2023-04-12 20:42:10][2:280] Loss: 0.320\n",
      "[2023-04-12 20:42:33][2:320] Loss: 0.317\n",
      "[2023-04-12 20:42:56][2:360] Loss: 0.212\n",
      "[2023-04-12 20:43:18][2:400] Loss: 0.258\n",
      "[2023-04-12 20:43:41][2:440] Loss: 0.238\n",
      "[2023-04-12 20:44:03][2:480] Loss: 0.233\n",
      "[2023-04-12 20:44:26][2:520] Loss: 0.243\n",
      "[2023-04-12 20:44:49][2:560] Loss: 0.213\n",
      "[2023-04-12 20:45:11][2:600] Loss: 0.280\n",
      "[2023-04-12 20:45:34][2:640] Loss: 0.217\n",
      "[2023-04-12 20:45:57][2:680] Loss: 0.250\n",
      "[2023-04-12 20:46:19][2:720] Loss: 0.180\n",
      "[2023-04-12 20:46:42][2:760] Loss: 0.162\n",
      "[2023-04-12 20:47:05][2:800] Loss: 0.185\n",
      "[2023-04-12 20:47:27][2:840] Loss: 0.231\n",
      "[2023-04-12 20:47:50][2:880] Loss: 0.151\n",
      "[2023-04-12 20:48:12][2:920] Loss: 0.202\n",
      "[2023-04-12 20:48:35][2:960] Loss: 0.158\n",
      "[2023-04-12 20:48:58][2:1000] Loss: 0.125\n",
      "[2023-04-12 20:49:20][2:1040] Loss: 0.281\n",
      "[2023-04-12 20:49:43][2:1080] Loss: 0.171\n",
      "[2023-04-12 20:50:06][2:1120] Loss: 0.174\n",
      "[2023-04-12 20:50:28][2:1160] Loss: 0.143\n",
      "[2023-04-12 20:50:51][2:1200] Loss: 0.287\n",
      "[2023-04-12 20:51:14][2:1240] Loss: 0.176\n",
      "[2023-04-12 20:51:36][2:1280] Loss: 0.175\n",
      "[2023-04-12 20:51:59][2:1320] Loss: 0.225\n",
      "[2023-04-12 20:52:20][2:END] Took 769.125s\n",
      "[2023-04-12 20:52:20][2:END] Training Loss: 0.232\n",
      "[2023-04-12 20:52:20] Finished epoch training\n",
      "[2023-04-12 20:52:20] Epoch Loss: 0.23170213597450431\n",
      "[2023-04-12 20:52:20] Starting validation evaluation\n",
      "[2023-04-12 20:52:20] Using model to generate predictions\n",
      "[2023-04-12 20:52:20] Set model to eval mode\n"
     ]
    },
    {
     "data": {
      "application/vnd.jupyter.widget-view+json": {
       "model_id": "d44823b9b0ef464aa6f688c7d2b7d3f9",
       "version_major": 2,
       "version_minor": 0
      },
      "text/plain": [
       "  0%|          | 0/319 [00:00<?, ?it/s]"
      ]
     },
     "metadata": {},
     "output_type": "display_data"
    },
    {
     "name": "stdout",
     "output_type": "stream",
     "text": [
      "[2023-04-12 20:53:20] Set model to train mode\n"
     ]
    },
    {
     "data": {
      "image/png": "[encoded data removed]",
      "text/plain": [
       "<Figure size 640x480 with 2 Axes>"
      ]
     },
     "metadata": {},
     "output_type": "display_data"
    },
    {
     "name": "stdout",
     "output_type": "stream",
     "text": [
      "[2023-04-12 20:53:23] Classification Report:\n",
      "[2023-04-12 20:53:23]               precision    recall  f1-score   support\n",
      "\n",
      "           0       0.61      0.80      0.69       693\n",
      "           1       0.48      0.59      0.53       173\n",
      "           2       0.93      0.78      0.85      1685\n",
      "\n",
      "    accuracy                           0.77      2551\n",
      "   macro avg       0.67      0.72      0.69      2551\n",
      "weighted avg       0.81      0.77      0.78      2551\n",
      "\n",
      "[2023-04-12 20:53:23] Epoch Accuracy {'accuracy': 0.7745981967855743}\n",
      "[2023-04-12 20:53:23] Finished validation evaluation\n",
      "[2023-04-12 20:53:23] Beat best validation loss, new validation loss: 0.68181134019701 (surpassed 0.8610193000341471 from epoch 1)\n",
      "[2023-04-12 20:53:24] Saved best model\n",
      "[2023-04-12 20:53:24] Logged to wandb\n",
      "[2023-04-12 20:53:24] Starting epoch 3\n",
      "[2023-04-12 20:53:24] Starting epoch training\n",
      "[2023-04-12 20:53:24] Set model to train mode\n"
     ]
    },
    {
     "data": {
      "application/vnd.jupyter.widget-view+json": {
       "model_id": "fd3d2b7d40dd4fee9f7bc461de2173cf",
       "version_major": 2,
       "version_minor": 0
      },
      "text/plain": [
       "  0%|          | 0/1359 [00:00<?, ?it/s]"
      ]
     },
     "metadata": {},
     "output_type": "display_data"
    },
    {
     "name": "stdout",
     "output_type": "stream",
     "text": [
      "[2023-04-12 20:53:48][3:40] Loss: 0.114\n",
      "[2023-04-12 20:54:10][3:80] Loss: 0.118\n",
      "[2023-04-12 20:54:33][3:120] Loss: 0.195\n",
      "[2023-04-12 20:54:55][3:160] Loss: 0.150\n",
      "[2023-04-12 20:55:18][3:200] Loss: 0.156\n",
      "[2023-04-12 20:55:41][3:240] Loss: 0.067\n",
      "[2023-04-12 20:56:03][3:280] Loss: 0.164\n",
      "[2023-04-12 20:56:26][3:320] Loss: 0.163\n",
      "[2023-04-12 20:56:49][3:360] Loss: 0.106\n",
      "[2023-04-12 20:57:11][3:400] Loss: 0.199\n",
      "[2023-04-12 20:57:34][3:440] Loss: 0.118\n",
      "[2023-04-12 20:57:57][3:480] Loss: 0.155\n",
      "[2023-04-12 20:58:19][3:520] Loss: 0.160\n",
      "[2023-04-12 20:58:42][3:560] Loss: 0.167\n",
      "[2023-04-12 20:59:05][3:600] Loss: 0.147\n",
      "[2023-04-12 20:59:27][3:640] Loss: 0.138\n",
      "[2023-04-12 20:59:50][3:680] Loss: 0.117\n",
      "[2023-04-12 21:00:12][3:720] Loss: 0.081\n",
      "[2023-04-12 21:00:35][3:760] Loss: 0.122\n",
      "[2023-04-12 21:00:58][3:800] Loss: 0.094\n",
      "[2023-04-12 21:01:20][3:840] Loss: 0.127\n",
      "[2023-04-12 21:01:43][3:880] Loss: 0.045\n",
      "[2023-04-12 21:02:06][3:920] Loss: 0.087\n",
      "[2023-04-12 21:02:28][3:960] Loss: 0.148\n",
      "[2023-04-12 21:02:51][3:1000] Loss: 0.105\n",
      "[2023-04-12 21:03:14][3:1040] Loss: 0.159\n",
      "[2023-04-12 21:03:36][3:1080] Loss: 0.075\n",
      "[2023-04-12 21:03:59][3:1120] Loss: 0.161\n",
      "[2023-04-12 21:04:21][3:1160] Loss: 0.087\n",
      "[2023-04-12 21:04:44][3:1200] Loss: 0.061\n",
      "[2023-04-12 21:05:07][3:1240] Loss: 0.100\n",
      "[2023-04-12 21:05:30][3:1280] Loss: 0.094\n",
      "[2023-04-12 21:05:52][3:1320] Loss: 0.081\n",
      "[2023-04-12 21:06:14][3:END] Took 769.296s\n",
      "[2023-04-12 21:06:14][3:END] Training Loss: 0.122\n",
      "[2023-04-12 21:06:14] Finished epoch training\n",
      "[2023-04-12 21:06:14] Epoch Loss: 0.1215524566873793\n",
      "[2023-04-12 21:06:14] Starting validation evaluation\n",
      "[2023-04-12 21:06:14] Using model to generate predictions\n",
      "[2023-04-12 21:06:14] Set model to eval mode\n"
     ]
    },
    {
     "data": {
      "application/vnd.jupyter.widget-view+json": {
       "model_id": "f1126d0360084fb1841f3c34e6d5fc4b",
       "version_major": 2,
       "version_minor": 0
      },
      "text/plain": [
       "  0%|          | 0/319 [00:00<?, ?it/s]"
      ]
     },
     "metadata": {},
     "output_type": "display_data"
    },
    {
     "name": "stdout",
     "output_type": "stream",
     "text": [
      "[2023-04-12 21:07:13] Set model to train mode\n"
     ]
    },
    {
     "data": {
      "image/png": "[encoded data removed]",
      "text/plain": [
       "<Figure size 640x480 with 2 Axes>"
      ]
     },
     "metadata": {},
     "output_type": "display_data"
    },
    {
     "name": "stdout",
     "output_type": "stream",
     "text": [
      "[2023-04-12 21:07:16] Classification Report:\n",
      "[2023-04-12 21:07:16]               precision    recall  f1-score   support\n",
      "\n",
      "           0       0.72      0.83      0.77       693\n",
      "           1       0.64      0.69      0.66       173\n",
      "           2       0.91      0.85      0.88      1685\n",
      "\n",
      "    accuracy                           0.83      2551\n",
      "   macro avg       0.76      0.79      0.77      2551\n",
      "weighted avg       0.84      0.83      0.84      2551\n",
      "\n",
      "[2023-04-12 21:07:16] Epoch Accuracy {'accuracy': 0.8326146609172873}\n",
      "[2023-04-12 21:07:16] Finished validation evaluation\n",
      "[2023-04-12 21:07:16] Beat best validation loss, new validation loss: 0.6496915617540951 (surpassed 0.68181134019701 from epoch 2)\n",
      "[2023-04-12 21:07:18] Saved best model\n",
      "[2023-04-12 21:07:18] Logged to wandb\n",
      "[2023-04-12 21:07:18] Starting epoch 4\n",
      "[2023-04-12 21:07:18] Starting epoch training\n",
      "[2023-04-12 21:07:18] Set model to train mode\n"
     ]
    },
    {
     "data": {
      "application/vnd.jupyter.widget-view+json": {
       "model_id": "6f7d3467898347f9a54608bcc618861d",
       "version_major": 2,
       "version_minor": 0
      },
      "text/plain": [
       "  0%|          | 0/1359 [00:00<?, ?it/s]"
      ]
     },
     "metadata": {},
     "output_type": "display_data"
    },
    {
     "name": "stdout",
     "output_type": "stream",
     "text": [
      "[2023-04-12 21:07:41][4:40] Loss: 0.079\n",
      "[2023-04-12 21:08:03][4:80] Loss: 0.096\n",
      "[2023-04-12 21:08:26][4:120] Loss: 0.131\n",
      "[2023-04-12 21:08:49][4:160] Loss: 0.119\n",
      "[2023-04-12 21:09:12][4:200] Loss: 0.039\n",
      "[2023-04-12 21:09:34][4:240] Loss: 0.064\n",
      "[2023-04-12 21:09:57][4:280] Loss: 0.112\n",
      "[2023-04-12 21:10:19][4:320] Loss: 0.157\n",
      "[2023-04-12 21:10:42][4:360] Loss: 0.072\n",
      "[2023-04-12 21:11:05][4:400] Loss: 0.081\n",
      "[2023-04-12 21:11:27][4:440] Loss: 0.060\n",
      "[2023-04-12 21:11:50][4:480] Loss: 0.073\n",
      "[2023-04-12 21:12:13][4:520] Loss: 0.122\n",
      "[2023-04-12 21:12:35][4:560] Loss: 0.109\n",
      "[2023-04-12 21:12:58][4:600] Loss: 0.088\n",
      "[2023-04-12 21:13:21][4:640] Loss: 0.065\n",
      "[2023-04-12 21:13:43][4:680] Loss: 0.063\n",
      "[2023-04-12 21:14:06][4:720] Loss: 0.023\n",
      "[2023-04-12 21:14:29][4:760] Loss: 0.088\n",
      "[2023-04-12 21:14:51][4:800] Loss: 0.053\n",
      "[2023-04-12 21:15:14][4:840] Loss: 0.066\n",
      "[2023-04-12 21:15:36][4:880] Loss: 0.043\n",
      "[2023-04-12 21:15:59][4:920] Loss: 0.079\n",
      "[2023-04-12 21:16:22][4:960] Loss: 0.059\n",
      "[2023-04-12 21:16:44][4:1000] Loss: 0.078\n",
      "[2023-04-12 21:17:07][4:1040] Loss: 0.095\n",
      "[2023-04-12 21:17:30][4:1080] Loss: 0.058\n",
      "[2023-04-12 21:17:52][4:1120] Loss: 0.054\n",
      "[2023-04-12 21:18:15][4:1160] Loss: 0.055\n",
      "[2023-04-12 21:18:38][4:1200] Loss: 0.066\n",
      "[2023-04-12 21:19:01][4:1240] Loss: 0.038\n",
      "[2023-04-12 21:19:23][4:1280] Loss: 0.043\n",
      "[2023-04-12 21:19:46][4:1320] Loss: 0.055\n",
      "[2023-04-12 21:20:07][4:END] Took 769.584s\n",
      "[2023-04-12 21:20:07][4:END] Training Loss: 0.075\n",
      "[2023-04-12 21:20:07] Finished epoch training\n",
      "[2023-04-12 21:20:07] Epoch Loss: 0.07451821851932647\n",
      "[2023-04-12 21:20:07] Starting validation evaluation\n",
      "[2023-04-12 21:20:07] Using model to generate predictions\n",
      "[2023-04-12 21:20:07] Set model to eval mode\n"
     ]
    },
    {
     "data": {
      "application/vnd.jupyter.widget-view+json": {
       "model_id": "33aec245bbfa4105b0febc17d05e10a6",
       "version_major": 2,
       "version_minor": 0
      },
      "text/plain": [
       "  0%|          | 0/319 [00:00<?, ?it/s]"
      ]
     },
     "metadata": {},
     "output_type": "display_data"
    },
    {
     "name": "stdout",
     "output_type": "stream",
     "text": [
      "[2023-04-12 21:21:06] Set model to train mode\n"
     ]
    },
    {
     "data": {
      "image/png": "[encoded data removed]",
      "text/plain": [
       "<Figure size 640x480 with 2 Axes>"
      ]
     },
     "metadata": {},
     "output_type": "display_data"
    },
    {
     "name": "stdout",
     "output_type": "stream",
     "text": [
      "[2023-04-12 21:21:10] Classification Report:\n",
      "[2023-04-12 21:21:10]               precision    recall  f1-score   support\n",
      "\n",
      "           0       0.72      0.79      0.75       693\n",
      "           1       0.66      0.55      0.60       173\n",
      "           2       0.89      0.87      0.88      1685\n",
      "\n",
      "    accuracy                           0.83      2551\n",
      "   macro avg       0.76      0.74      0.74      2551\n",
      "weighted avg       0.83      0.83      0.83      2551\n",
      "\n",
      "[2023-04-12 21:21:10] Epoch Accuracy {'accuracy': 0.8255586044688358}\n",
      "[2023-04-12 21:21:10] Finished validation evaluation\n",
      "[2023-04-12 21:21:10] Logged to wandb\n",
      "[2023-04-12 21:21:10] Starting epoch 5\n",
      "[2023-04-12 21:21:10] Starting epoch training\n",
      "[2023-04-12 21:21:10] Set model to train mode\n"
     ]
    },
    {
     "data": {
      "application/vnd.jupyter.widget-view+json": {
       "model_id": "0f701e477042447f9ad84015fefe6e7c",
       "version_major": 2,
       "version_minor": 0
      },
      "text/plain": [
       "  0%|          | 0/1359 [00:00<?, ?it/s]"
      ]
     },
     "metadata": {},
     "output_type": "display_data"
    },
    {
     "name": "stdout",
     "output_type": "stream",
     "text": [
      "[2023-04-12 21:21:33][5:40] Loss: 0.103\n",
      "[2023-04-12 21:21:56][5:80] Loss: 0.073\n",
      "[2023-04-12 21:22:18][5:120] Loss: 0.069\n",
      "[2023-04-12 21:22:41][5:160] Loss: 0.043\n",
      "[2023-04-12 21:23:04][5:200] Loss: 0.074\n",
      "[2023-04-12 21:23:26][5:240] Loss: 0.037\n",
      "[2023-04-12 21:23:49][5:280] Loss: 0.059\n",
      "[2023-04-12 21:24:12][5:320] Loss: 0.050\n",
      "[2023-04-12 21:24:34][5:360] Loss: 0.053\n",
      "[2023-04-12 21:24:57][5:400] Loss: 0.099\n",
      "[2023-04-12 21:25:20][5:440] Loss: 0.024\n",
      "[2023-04-12 21:25:42][5:480] Loss: 0.062\n",
      "[2023-04-12 21:26:05][5:520] Loss: 0.031\n",
      "[2023-04-12 21:26:27][5:560] Loss: 0.022\n",
      "[2023-04-12 21:26:50][5:600] Loss: 0.041\n",
      "[2023-04-12 21:27:13][5:640] Loss: 0.046\n",
      "[2023-04-12 21:27:35][5:680] Loss: 0.046\n",
      "[2023-04-12 21:27:58][5:720] Loss: 0.044\n",
      "[2023-04-12 21:28:21][5:760] Loss: 0.038\n",
      "[2023-04-12 21:28:43][5:800] Loss: 0.007\n",
      "[2023-04-12 21:29:06][5:840] Loss: 0.046\n",
      "[2023-04-12 21:29:29][5:880] Loss: 0.049\n",
      "[2023-04-12 21:29:51][5:920] Loss: 0.067\n",
      "[2023-04-12 21:30:14][5:960] Loss: 0.053\n",
      "[2023-04-12 21:30:37][5:1000] Loss: 0.024\n",
      "[2023-04-12 21:30:59][5:1040] Loss: 0.058\n",
      "[2023-04-12 21:31:22][5:1080] Loss: 0.088\n",
      "[2023-04-12 21:31:45][5:1120] Loss: 0.028\n",
      "[2023-04-12 21:32:07][5:1160] Loss: 0.037\n",
      "[2023-04-12 21:32:30][5:1200] Loss: 0.032\n",
      "[2023-04-12 21:32:52][5:1240] Loss: 0.057\n",
      "[2023-04-12 21:33:15][5:1280] Loss: 0.020\n",
      "[2023-04-12 21:33:38][5:1320] Loss: 0.040\n",
      "[2023-04-12 21:33:59][5:END] Took 769.719s\n",
      "[2023-04-12 21:33:59][5:END] Training Loss: 0.049\n",
      "[2023-04-12 21:33:59] Finished epoch training\n",
      "[2023-04-12 21:33:59] Epoch Loss: 0.048591838691128666\n",
      "[2023-04-12 21:33:59] Starting validation evaluation\n",
      "[2023-04-12 21:33:59] Using model to generate predictions\n",
      "[2023-04-12 21:33:59] Set model to eval mode\n"
     ]
    },
    {
     "data": {
      "application/vnd.jupyter.widget-view+json": {
       "model_id": "8071df9d30064ed29e352e762517529d",
       "version_major": 2,
       "version_minor": 0
      },
      "text/plain": [
       "  0%|          | 0/319 [00:00<?, ?it/s]"
      ]
     },
     "metadata": {},
     "output_type": "display_data"
    },
    {
     "name": "stdout",
     "output_type": "stream",
     "text": [
      "[2023-04-12 21:34:59] Set model to train mode\n"
     ]
    },
    {
     "data": {
      "image/png": "[encoded data removed]",
      "text/plain": [
       "<Figure size 640x480 with 2 Axes>"
      ]
     },
     "metadata": {},
     "output_type": "display_data"
    },
    {
     "name": "stdout",
     "output_type": "stream",
     "text": [
      "[2023-04-12 21:35:02] Classification Report:\n",
      "[2023-04-12 21:35:02]               precision    recall  f1-score   support\n",
      "\n",
      "           0       0.76      0.77      0.77       693\n",
      "           1       0.72      0.57      0.63       173\n",
      "           2       0.88      0.90      0.89      1685\n",
      "\n",
      "    accuracy                           0.84      2551\n",
      "   macro avg       0.79      0.75      0.76      2551\n",
      "weighted avg       0.84      0.84      0.84      2551\n",
      "\n",
      "[2023-04-12 21:35:02] Epoch Accuracy {'accuracy': 0.8404547236377891}\n",
      "[2023-04-12 21:35:02] Finished validation evaluation\n",
      "[2023-04-12 21:35:02] Logged to wandb\n",
      "[2023-04-12 21:35:02] Starting epoch 6\n",
      "[2023-04-12 21:35:02] Starting epoch training\n",
      "[2023-04-12 21:35:02] Set model to train mode\n"
     ]
    },
    {
     "data": {
      "application/vnd.jupyter.widget-view+json": {
       "model_id": "82311b1d78bd49ad9a7f8ada910a1bfd",
       "version_major": 2,
       "version_minor": 0
      },
      "text/plain": [
       "  0%|          | 0/1359 [00:00<?, ?it/s]"
      ]
     },
     "metadata": {},
     "output_type": "display_data"
    },
    {
     "name": "stdout",
     "output_type": "stream",
     "text": [
      "[2023-04-12 21:35:25][6:40] Loss: 0.054\n",
      "[2023-04-12 21:35:48][6:80] Loss: 0.035\n",
      "[2023-04-12 21:36:13][6:120] Loss: 0.062\n",
      "[2023-04-12 21:36:38][6:160] Loss: 0.072\n",
      "[2023-04-12 21:37:01][6:200] Loss: 0.126\n",
      "[2023-04-12 21:37:24][6:240] Loss: 0.047\n",
      "[2023-04-12 21:37:47][6:280] Loss: 0.019\n",
      "[2023-04-12 21:38:10][6:320] Loss: 0.050\n",
      "[2023-04-12 21:38:33][6:360] Loss: 0.029\n",
      "[2023-04-12 21:38:56][6:400] Loss: 0.020\n",
      "[2023-04-12 21:39:20][6:440] Loss: 0.024\n",
      "[2023-04-12 21:39:43][6:480] Loss: 0.028\n",
      "[2023-04-12 21:40:06][6:520] Loss: 0.018\n",
      "[2023-04-12 21:40:29][6:560] Loss: 0.024\n",
      "[2023-04-12 21:40:52][6:600] Loss: 0.041\n",
      "[2023-04-12 21:41:15][6:640] Loss: 0.060\n",
      "[2023-04-12 21:41:38][6:680] Loss: 0.034\n",
      "[2023-04-12 21:42:01][6:720] Loss: 0.012\n",
      "[2023-04-12 21:42:24][6:760] Loss: 0.021\n",
      "[2023-04-12 21:42:47][6:800] Loss: 0.075\n",
      "[2023-04-12 21:43:10][6:840] Loss: 0.035\n",
      "[2023-04-12 21:43:33][6:880] Loss: 0.013\n",
      "[2023-04-12 21:43:56][6:920] Loss: 0.041\n",
      "[2023-04-12 21:44:19][6:960] Loss: 0.030\n",
      "[2023-04-12 21:44:42][6:1000] Loss: 0.061\n",
      "[2023-04-12 21:45:06][6:1040] Loss: 0.058\n",
      "[2023-04-12 21:45:29][6:1080] Loss: 0.027\n",
      "[2023-04-12 21:45:52][6:1120] Loss: 0.010\n",
      "[2023-04-12 21:46:15][6:1160] Loss: 0.022\n",
      "[2023-04-12 21:46:38][6:1200] Loss: 0.013\n",
      "[2023-04-12 21:47:01][6:1240] Loss: 0.051\n",
      "[2023-04-12 21:47:24][6:1280] Loss: 0.040\n",
      "[2023-04-12 21:47:47][6:1320] Loss: 0.056\n",
      "[2023-04-12 21:48:09][6:END] Took 787.490s\n",
      "[2023-04-12 21:48:09][6:END] Training Loss: 0.040\n",
      "[2023-04-12 21:48:09] Finished epoch training\n",
      "[2023-04-12 21:48:09] Epoch Loss: 0.03973940412771413\n",
      "[2023-04-12 21:48:09] Starting validation evaluation\n",
      "[2023-04-12 21:48:09] Using model to generate predictions\n",
      "[2023-04-12 21:48:09] Set model to eval mode\n"
     ]
    },
    {
     "data": {
      "application/vnd.jupyter.widget-view+json": {
       "model_id": "2af4c946143a48bcb4baad8a43108646",
       "version_major": 2,
       "version_minor": 0
      },
      "text/plain": [
       "  0%|          | 0/319 [00:00<?, ?it/s]"
      ]
     },
     "metadata": {},
     "output_type": "display_data"
    },
    {
     "name": "stdout",
     "output_type": "stream",
     "text": [
      "[2023-04-12 21:49:09] Set model to train mode\n"
     ]
    },
    {
     "data": {
      "image/png": "[encoded data removed]",
      "text/plain": [
       "<Figure size 640x480 with 2 Axes>"
      ]
     },
     "metadata": {},
     "output_type": "display_data"
    },
    {
     "name": "stdout",
     "output_type": "stream",
     "text": [
      "[2023-04-12 21:49:12] Classification Report:\n",
      "[2023-04-12 21:49:12]               precision    recall  f1-score   support\n",
      "\n",
      "           0       0.74      0.79      0.76       693\n",
      "           1       0.61      0.73      0.66       173\n",
      "           2       0.91      0.87      0.89      1685\n",
      "\n",
      "    accuracy                           0.84      2551\n",
      "   macro avg       0.75      0.79      0.77      2551\n",
      "weighted avg       0.84      0.84      0.84      2551\n",
      "\n",
      "[2023-04-12 21:49:12] Epoch Accuracy {'accuracy': 0.8357506860054881}\n",
      "[2023-04-12 21:49:12] Finished validation evaluation\n",
      "[2023-04-12 21:49:12] Early stopping triggered, best validation loss achieved at 3 (loss: 0.6496915617540951)\n",
      "[2023-04-12 21:49:12] Loading best model (epoch 0.6496915617540951) for evaluation\n",
      "[2023-04-12 21:49:12] Starting test evaluation\n",
      "[2023-04-12 21:49:12] Using model to generate predictions\n",
      "[2023-04-12 21:49:12] Set model to eval mode\n"
     ]
    },
    {
     "data": {
      "application/vnd.jupyter.widget-view+json": {
       "model_id": "26fa53830e1047969696cd10fbd1f5e6",
       "version_major": 2,
       "version_minor": 0
      },
      "text/plain": [
       "  0%|          | 0/883 [00:00<?, ?it/s]"
      ]
     },
     "metadata": {},
     "output_type": "display_data"
    },
    {
     "name": "stdout",
     "output_type": "stream",
     "text": [
      "[2023-04-12 21:51:56] Set model to train mode\n"
     ]
    },
    {
     "data": {
      "image/png": "[encoded data removed]",
      "text/plain": [
       "<Figure size 640x480 with 2 Axes>"
      ]
     },
     "metadata": {},
     "output_type": "display_data"
    },
    {
     "name": "stdout",
     "output_type": "stream",
     "text": [
      "[2023-04-12 21:52:00] Classification Report:\n",
      "[2023-04-12 21:52:00]               precision    recall  f1-score   support\n",
      "\n",
      "           0       0.59      0.78      0.67      1903\n",
      "           1       0.55      0.34      0.42       697\n",
      "           2       0.87      0.80      0.83      4464\n",
      "\n",
      "    accuracy                           0.75      7064\n",
      "   macro avg       0.67      0.64      0.64      7064\n",
      "weighted avg       0.76      0.75      0.75      7064\n",
      "\n",
      "[2023-04-12 21:52:00] Finished test evaluation\n"
     ]
    }
   ],
   "source": [
    "model_trainer.train()"
   ]
  },
  {
   "cell_type": "code",
   "execution_count": null,
   "id": "5a0ddc52-b78a-46e6-9f1d-2e3bc7970742",
   "metadata": {},
   "outputs": [],
   "source": []
  }
 ],
 "metadata": {
  "kernelspec": {
   "display_name": "Python 3 (ipykernel)",
   "language": "python",
   "name": "python3"
  },
  "language_info": {
   "codemirror_mode": {
    "name": "ipython",
    "version": 3
   },
   "file_extension": ".py",
   "mimetype": "text/x-python",
   "name": "python",
   "nbconvert_exporter": "python",
   "pygments_lexer": "ipython3",
   "version": "3.10.7"
  }
 },
 "nbformat": 4,
 "nbformat_minor": 5
}
