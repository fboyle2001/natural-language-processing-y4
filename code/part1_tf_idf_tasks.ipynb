{
 "cells": [
  {
   "cell_type": "code",
   "execution_count": 67,
   "id": "2b8c1975-f4d8-4796-99a7-fee8e3db62c9",
   "metadata": {
    "tags": []
   },
   "outputs": [],
   "source": [
    "import pandas as pd\n",
    "import matplotlib.pyplot as plt\n",
    "import seaborn as sns\n",
    "import random\n",
    "\n",
    "import string\n",
    "import re\n",
    "\n",
    "import nltk\n",
    "from nltk.corpus import stopwords\n",
    "from nltk.util import ngrams\n",
    "from nltk.tokenize import word_tokenize\n",
    "from nltk.stem import WordNetLemmatizer, PorterStemmer\n",
    "from nltk.corpus import wordnet\n",
    "\n",
    "import scipy\n",
    "import numpy as np\n",
    "from sklearn.feature_extraction.text import TfidfVectorizer, CountVectorizer\n",
    "\n",
    "from sklearn import metrics\n",
    "from sklearn.metrics import confusion_matrix,accuracy_score,roc_auc_score,roc_curve,auc,f1_score\n",
    "from sklearn.utils.class_weight import compute_class_weight\n",
    "\n",
    "import torch\n",
    "import torch.nn as nn\n",
    "import torch.optim as optim\n",
    "import torch.utils.data\n",
    "\n",
    "import torchsummary\n",
    "\n",
    "import time\n",
    "import os\n",
    "import shutil\n",
    "\n",
    "from tqdm.notebook import tqdm\n",
    "tqdm.pandas()"
   ]
  },
  {
   "cell_type": "code",
   "execution_count": 4,
   "id": "093e4280-5593-4ee6-a5fd-aaf23e57b124",
   "metadata": {
    "tags": []
   },
   "outputs": [
    {
     "name": "stderr",
     "output_type": "stream",
     "text": [
      "[nltk_data] Downloading package punkt to\n",
      "[nltk_data]     C:\\Users\\yoyo1\\AppData\\Roaming\\nltk_data...\n",
      "[nltk_data]   Package punkt is already up-to-date!\n",
      "[nltk_data] Downloading package wordnet to\n",
      "[nltk_data]     C:\\Users\\yoyo1\\AppData\\Roaming\\nltk_data...\n",
      "[nltk_data]   Package wordnet is already up-to-date!\n",
      "[nltk_data] Downloading package stopwords to\n",
      "[nltk_data]     C:\\Users\\yoyo1\\AppData\\Roaming\\nltk_data...\n",
      "[nltk_data]   Package stopwords is already up-to-date!\n"
     ]
    },
    {
     "data": {
      "text/plain": [
       "True"
      ]
     },
     "execution_count": 4,
     "metadata": {},
     "output_type": "execute_result"
    }
   ],
   "source": [
    "nltk.download('punkt')\n",
    "nltk.download('wordnet')\n",
    "nltk.download('stopwords')"
   ]
  },
  {
   "cell_type": "markdown",
   "id": "38d2598d-c4ac-4666-b25f-bd6746eafbbd",
   "metadata": {},
   "source": [
    "# Load Datasets\n",
    "1. Load the datasets\n",
    "2. Verify no article bodies overlap"
   ]
  },
  {
   "cell_type": "code",
   "execution_count": 5,
   "id": "3abee2c1-767d-4d73-a7dc-23b40926fa20",
   "metadata": {
    "tags": []
   },
   "outputs": [],
   "source": [
    "train_stances = pd.read_csv(\"./dataset/train_stances.csv\")\n",
    "train_bodies = pd.read_csv(\"./dataset/train_bodies.csv\")\n",
    "\n",
    "test_stances = pd.read_csv(\"./dataset/competition_test_stances.csv\")\n",
    "test_bodies = pd.read_csv(\"./dataset/competition_test_bodies.csv\")"
   ]
  },
  {
   "cell_type": "code",
   "execution_count": 6,
   "id": "36dd002c-637a-417b-bb11-4399b82a64ee",
   "metadata": {
    "tags": []
   },
   "outputs": [
    {
     "data": {
      "text/plain": [
       "ISIL Beheads American Photojournalist in Iraq                                                      127\n",
       "WHO says reports of suspected Ebola cases in Iraq are untrue                                       124\n",
       "James Foley remembered as 'brave and tireless' journalist                                          121\n",
       "Islamic Militants Post Video Claiming to Show Beheading of U.S. Journalist                         118\n",
       "US officials: Video shows American's execution                                                     112\n",
       "                                                                                                  ... \n",
       "Apple hopes to sell over 50 million watches in 2015                                                  2\n",
       "Mom Calls 911 On Masturbating Teenage Son; Boy Arrested, Charged With New ‘Self-Rape’ State Law      2\n",
       "Federal Judge: Enough With the Stupid Names                                                          2\n",
       "Sushi lover's entire body left riddled with WORMS after eating contaminated sashimi                  2\n",
       "Apple Watch Takes Two Hours to Charge, Only Delivers Notifications While on the Wrist                2\n",
       "Name: Headline, Length: 1648, dtype: int64"
      ]
     },
     "execution_count": 6,
     "metadata": {},
     "output_type": "execute_result"
    }
   ],
   "source": [
    "train_stances[\"Headline\"].value_counts()"
   ]
  },
  {
   "cell_type": "code",
   "execution_count": 7,
   "id": "893acd9c-30d6-4750-9cf0-c4d2e1ae07af",
   "metadata": {
    "tags": []
   },
   "outputs": [
    {
     "data": {
      "text/plain": [
       "Source: Joan Rivers' doc did biopsy, selfie                                                                                                                  160\n",
       "Joan Rivers Personal Doctor Allegedly Took A Selfie Before Her Biopsy And Cardiac Arrest                                                                     138\n",
       "‘Three-boobed’ woman: They’re not fake                                                                                                                        92\n",
       "Adopting Potential Werewolves Is Routine Business for Argentine Presidents                                                                                    92\n",
       "Justin Bieber Basically Saves A Russian Man From A Bear                                                                                                       88\n",
       "                                                                                                                                                            ... \n",
       "Madonna pledges oral sex for Clinton voters                                                                                                                    3\n",
       "Trump assures French President Macron 'you were my guy' – after saying before his election that rival Le Pen was 'strongest on what's going on in France'      3\n",
       "Apple Delaying Production on Larger-Screened 'iPad Pro' Until September                                                                                        3\n",
       "iOS 8.2 arriving Monday, here are full release notes                                                                                                           3\n",
       "SNOWDEN: ‘Elf On A Shelf’ Actually Hugely Successful NSA Project  Read more: http://www.duffelblog.com/2014/12/elf-on-a-shelf-snowden/#ixzz3MAOziZJf           2\n",
       "Name: Headline, Length: 894, dtype: int64"
      ]
     },
     "execution_count": 7,
     "metadata": {},
     "output_type": "execute_result"
    }
   ],
   "source": [
    "test_stances[\"Headline\"].value_counts()"
   ]
  },
  {
   "cell_type": "code",
   "execution_count": 8,
   "id": "9c663327-2f87-410c-b1f7-f3e75c46425a",
   "metadata": {},
   "outputs": [
    {
     "data": {
      "text/html": [
       "<div>\n",
       "<style scoped>\n",
       "    .dataframe tbody tr th:only-of-type {\n",
       "        vertical-align: middle;\n",
       "    }\n",
       "\n",
       "    .dataframe tbody tr th {\n",
       "        vertical-align: top;\n",
       "    }\n",
       "\n",
       "    .dataframe thead th {\n",
       "        text-align: right;\n",
       "    }\n",
       "</style>\n",
       "<table border=\"1\" class=\"dataframe\">\n",
       "  <thead>\n",
       "    <tr style=\"text-align: right;\">\n",
       "      <th></th>\n",
       "      <th>Headline</th>\n",
       "      <th>Body ID</th>\n",
       "      <th>Stance</th>\n",
       "    </tr>\n",
       "  </thead>\n",
       "  <tbody>\n",
       "    <tr>\n",
       "      <th>173</th>\n",
       "      <td>Cheese addiction breaks Kim Jong-un's ankles</td>\n",
       "      <td>2210</td>\n",
       "      <td>unrelated</td>\n",
       "    </tr>\n",
       "    <tr>\n",
       "      <th>1415</th>\n",
       "      <td>WSJ: Apple cut watch health features due to er...</td>\n",
       "      <td>1917</td>\n",
       "      <td>discuss</td>\n",
       "    </tr>\n",
       "    <tr>\n",
       "      <th>1418</th>\n",
       "      <td>Cheese blamed for North Korean leader Kim Jong...</td>\n",
       "      <td>1689</td>\n",
       "      <td>unrelated</td>\n",
       "    </tr>\n",
       "    <tr>\n",
       "      <th>1479</th>\n",
       "      <td>Cheese blamed for North Korean leader Kim Jong...</td>\n",
       "      <td>186</td>\n",
       "      <td>unrelated</td>\n",
       "    </tr>\n",
       "    <tr>\n",
       "      <th>1503</th>\n",
       "      <td>Cheese addiction breaks Kim Jong-un's ankles</td>\n",
       "      <td>2329</td>\n",
       "      <td>unrelated</td>\n",
       "    </tr>\n",
       "    <tr>\n",
       "      <th>...</th>\n",
       "      <td>...</td>\n",
       "      <td>...</td>\n",
       "      <td>...</td>\n",
       "    </tr>\n",
       "    <tr>\n",
       "      <th>48270</th>\n",
       "      <td>Apple was forced to nix key health features fr...</td>\n",
       "      <td>407</td>\n",
       "      <td>discuss</td>\n",
       "    </tr>\n",
       "    <tr>\n",
       "      <th>48852</th>\n",
       "      <td>Cheese blamed for North Korean leader Kim Jong...</td>\n",
       "      <td>2042</td>\n",
       "      <td>unrelated</td>\n",
       "    </tr>\n",
       "    <tr>\n",
       "      <th>49279</th>\n",
       "      <td>Cheese addiction breaks Kim Jong-un's ankles</td>\n",
       "      <td>1854</td>\n",
       "      <td>discuss</td>\n",
       "    </tr>\n",
       "    <tr>\n",
       "      <th>49349</th>\n",
       "      <td>Cheese blamed for North Korean leader Kim Jong...</td>\n",
       "      <td>2344</td>\n",
       "      <td>unrelated</td>\n",
       "    </tr>\n",
       "    <tr>\n",
       "      <th>49683</th>\n",
       "      <td>Cheese blamed for North Korean leader Kim Jong...</td>\n",
       "      <td>2327</td>\n",
       "      <td>unrelated</td>\n",
       "    </tr>\n",
       "  </tbody>\n",
       "</table>\n",
       "<p>156 rows × 3 columns</p>\n",
       "</div>"
      ],
      "text/plain": [
       "                                                Headline  Body ID     Stance\n",
       "173         Cheese addiction breaks Kim Jong-un's ankles     2210  unrelated\n",
       "1415   WSJ: Apple cut watch health features due to er...     1917    discuss\n",
       "1418   Cheese blamed for North Korean leader Kim Jong...     1689  unrelated\n",
       "1479   Cheese blamed for North Korean leader Kim Jong...      186  unrelated\n",
       "1503        Cheese addiction breaks Kim Jong-un's ankles     2329  unrelated\n",
       "...                                                  ...      ...        ...\n",
       "48270  Apple was forced to nix key health features fr...      407    discuss\n",
       "48852  Cheese blamed for North Korean leader Kim Jong...     2042  unrelated\n",
       "49279       Cheese addiction breaks Kim Jong-un's ankles     1854    discuss\n",
       "49349  Cheese blamed for North Korean leader Kim Jong...     2344  unrelated\n",
       "49683  Cheese blamed for North Korean leader Kim Jong...     2327  unrelated\n",
       "\n",
       "[156 rows x 3 columns]"
      ]
     },
     "execution_count": 8,
     "metadata": {},
     "output_type": "execute_result"
    }
   ],
   "source": [
    "train_stances.loc[train_stances[\"Headline\"].isin(test_stances[\"Headline\"])]"
   ]
  },
  {
   "cell_type": "code",
   "execution_count": 9,
   "id": "1c74a7d3-6556-4ee9-a420-afc665bea41c",
   "metadata": {
    "tags": []
   },
   "outputs": [
    {
     "data": {
      "text/html": [
       "<div>\n",
       "<style scoped>\n",
       "    .dataframe tbody tr th:only-of-type {\n",
       "        vertical-align: middle;\n",
       "    }\n",
       "\n",
       "    .dataframe tbody tr th {\n",
       "        vertical-align: top;\n",
       "    }\n",
       "\n",
       "    .dataframe thead th {\n",
       "        text-align: right;\n",
       "    }\n",
       "</style>\n",
       "<table border=\"1\" class=\"dataframe\">\n",
       "  <thead>\n",
       "    <tr style=\"text-align: right;\">\n",
       "      <th></th>\n",
       "      <th>Headline</th>\n",
       "      <th>Body ID</th>\n",
       "      <th>Stance</th>\n",
       "    </tr>\n",
       "  </thead>\n",
       "  <tbody>\n",
       "  </tbody>\n",
       "</table>\n",
       "</div>"
      ],
      "text/plain": [
       "Empty DataFrame\n",
       "Columns: [Headline, Body ID, Stance]\n",
       "Index: []"
      ]
     },
     "execution_count": 9,
     "metadata": {},
     "output_type": "execute_result"
    }
   ],
   "source": [
    "train_stances.loc[train_stances[\"Body ID\"].isin(test_stances[\"Body ID\"])]"
   ]
  },
  {
   "cell_type": "markdown",
   "id": "2940c0a4-12bc-4c31-8212-9062966fcc53",
   "metadata": {},
   "source": [
    "So there is overlap of the headlines in both the training and the test data but there is no overlap with the bodies of the articles so we should split the training set into training and validation such that the bodies of the articles are disjoint."
   ]
  },
  {
   "cell_type": "code",
   "execution_count": 10,
   "id": "7c157cd5-c85c-4cb3-82e9-13816de152df",
   "metadata": {
    "tags": []
   },
   "outputs": [],
   "source": [
    "test_df = test_stances.merge(test_bodies, on=\"Body ID\")\n",
    "test_df[\"Related\"] = (test_df[\"Stance\"] != \"unrelated\").astype(int)"
   ]
  },
  {
   "cell_type": "code",
   "execution_count": 11,
   "id": "a709b6c8-ba8f-4bdf-b61e-08e2728f64eb",
   "metadata": {
    "tags": []
   },
   "outputs": [
    {
     "data": {
      "text/html": [
       "<div>\n",
       "<style scoped>\n",
       "    .dataframe tbody tr th:only-of-type {\n",
       "        vertical-align: middle;\n",
       "    }\n",
       "\n",
       "    .dataframe tbody tr th {\n",
       "        vertical-align: top;\n",
       "    }\n",
       "\n",
       "    .dataframe thead th {\n",
       "        text-align: right;\n",
       "    }\n",
       "</style>\n",
       "<table border=\"1\" class=\"dataframe\">\n",
       "  <thead>\n",
       "    <tr style=\"text-align: right;\">\n",
       "      <th></th>\n",
       "      <th>Headline</th>\n",
       "      <th>Body ID</th>\n",
       "      <th>Stance</th>\n",
       "      <th>articleBody</th>\n",
       "      <th>Related</th>\n",
       "    </tr>\n",
       "  </thead>\n",
       "  <tbody>\n",
       "    <tr>\n",
       "      <th>0</th>\n",
       "      <td>Ferguson riots: Pregnant woman loses eye after...</td>\n",
       "      <td>2008</td>\n",
       "      <td>unrelated</td>\n",
       "      <td>A RESPECTED senior French police officer inves...</td>\n",
       "      <td>0</td>\n",
       "    </tr>\n",
       "    <tr>\n",
       "      <th>1</th>\n",
       "      <td>Apple Stores to install safes to secure gold A...</td>\n",
       "      <td>2008</td>\n",
       "      <td>unrelated</td>\n",
       "      <td>A RESPECTED senior French police officer inves...</td>\n",
       "      <td>0</td>\n",
       "    </tr>\n",
       "    <tr>\n",
       "      <th>2</th>\n",
       "      <td>Pregnant woman loses eye after police shoot be...</td>\n",
       "      <td>2008</td>\n",
       "      <td>unrelated</td>\n",
       "      <td>A RESPECTED senior French police officer inves...</td>\n",
       "      <td>0</td>\n",
       "    </tr>\n",
       "    <tr>\n",
       "      <th>3</th>\n",
       "      <td>We just found out the #Ferguson Protester who ...</td>\n",
       "      <td>2008</td>\n",
       "      <td>unrelated</td>\n",
       "      <td>A RESPECTED senior French police officer inves...</td>\n",
       "      <td>0</td>\n",
       "    </tr>\n",
       "    <tr>\n",
       "      <th>4</th>\n",
       "      <td>Police Chief In Charge of Paris Attacks Commit...</td>\n",
       "      <td>2008</td>\n",
       "      <td>discuss</td>\n",
       "      <td>A RESPECTED senior French police officer inves...</td>\n",
       "      <td>1</td>\n",
       "    </tr>\n",
       "    <tr>\n",
       "      <th>...</th>\n",
       "      <td>...</td>\n",
       "      <td>...</td>\n",
       "      <td>...</td>\n",
       "      <td>...</td>\n",
       "      <td>...</td>\n",
       "    </tr>\n",
       "    <tr>\n",
       "      <th>25408</th>\n",
       "      <td>A Sign That Obamacare Exchanges Are Failing</td>\n",
       "      <td>2586</td>\n",
       "      <td>disagree</td>\n",
       "      <td>Remember how much Republicans wanted to repeal...</td>\n",
       "      <td>1</td>\n",
       "    </tr>\n",
       "    <tr>\n",
       "      <th>25409</th>\n",
       "      <td>Republicans call Obamacare a 'failure.' These ...</td>\n",
       "      <td>2586</td>\n",
       "      <td>agree</td>\n",
       "      <td>Remember how much Republicans wanted to repeal...</td>\n",
       "      <td>1</td>\n",
       "    </tr>\n",
       "    <tr>\n",
       "      <th>25410</th>\n",
       "      <td>CBO’s Alternate Facts Show Obamacare is Unsust...</td>\n",
       "      <td>2586</td>\n",
       "      <td>disagree</td>\n",
       "      <td>Remember how much Republicans wanted to repeal...</td>\n",
       "      <td>1</td>\n",
       "    </tr>\n",
       "    <tr>\n",
       "      <th>25411</th>\n",
       "      <td>Why Obamacare failed</td>\n",
       "      <td>2586</td>\n",
       "      <td>disagree</td>\n",
       "      <td>Remember how much Republicans wanted to repeal...</td>\n",
       "      <td>1</td>\n",
       "    </tr>\n",
       "    <tr>\n",
       "      <th>25412</th>\n",
       "      <td>The success of the Affordable Care Act is a hu...</td>\n",
       "      <td>2586</td>\n",
       "      <td>agree</td>\n",
       "      <td>Remember how much Republicans wanted to repeal...</td>\n",
       "      <td>1</td>\n",
       "    </tr>\n",
       "  </tbody>\n",
       "</table>\n",
       "<p>25413 rows × 5 columns</p>\n",
       "</div>"
      ],
      "text/plain": [
       "                                                Headline  Body ID     Stance  \\\n",
       "0      Ferguson riots: Pregnant woman loses eye after...     2008  unrelated   \n",
       "1      Apple Stores to install safes to secure gold A...     2008  unrelated   \n",
       "2      Pregnant woman loses eye after police shoot be...     2008  unrelated   \n",
       "3      We just found out the #Ferguson Protester who ...     2008  unrelated   \n",
       "4      Police Chief In Charge of Paris Attacks Commit...     2008    discuss   \n",
       "...                                                  ...      ...        ...   \n",
       "25408        A Sign That Obamacare Exchanges Are Failing     2586   disagree   \n",
       "25409  Republicans call Obamacare a 'failure.' These ...     2586      agree   \n",
       "25410  CBO’s Alternate Facts Show Obamacare is Unsust...     2586   disagree   \n",
       "25411                               Why Obamacare failed     2586   disagree   \n",
       "25412  The success of the Affordable Care Act is a hu...     2586      agree   \n",
       "\n",
       "                                             articleBody  Related  \n",
       "0      A RESPECTED senior French police officer inves...        0  \n",
       "1      A RESPECTED senior French police officer inves...        0  \n",
       "2      A RESPECTED senior French police officer inves...        0  \n",
       "3      A RESPECTED senior French police officer inves...        0  \n",
       "4      A RESPECTED senior French police officer inves...        1  \n",
       "...                                                  ...      ...  \n",
       "25408  Remember how much Republicans wanted to repeal...        1  \n",
       "25409  Remember how much Republicans wanted to repeal...        1  \n",
       "25410  Remember how much Republicans wanted to repeal...        1  \n",
       "25411  Remember how much Republicans wanted to repeal...        1  \n",
       "25412  Remember how much Republicans wanted to repeal...        1  \n",
       "\n",
       "[25413 rows x 5 columns]"
      ]
     },
     "execution_count": 11,
     "metadata": {},
     "output_type": "execute_result"
    }
   ],
   "source": [
    "test_df"
   ]
  },
  {
   "cell_type": "code",
   "execution_count": 12,
   "id": "e2f3eadb-e5b5-421f-a374-07fd8eafccc4",
   "metadata": {
    "tags": []
   },
   "outputs": [],
   "source": [
    "train_and_val_df = train_stances.merge(train_bodies, on=\"Body ID\")\n",
    "train_and_val_df[\"Related\"] = (train_and_val_df[\"Stance\"] != \"unrelated\").astype(int)"
   ]
  },
  {
   "cell_type": "markdown",
   "id": "39776b76-e628-4ebc-a62f-58c820e86b62",
   "metadata": {},
   "source": [
    "# Exploratory Data Analysis\n",
    "TODO: Data analysis"
   ]
  },
  {
   "cell_type": "code",
   "execution_count": 13,
   "id": "aaf2b2f4-1e9b-47f0-9084-4430a64251ce",
   "metadata": {
    "tags": []
   },
   "outputs": [
    {
     "data": {
      "text/html": [
       "<div>\n",
       "<style scoped>\n",
       "    .dataframe tbody tr th:only-of-type {\n",
       "        vertical-align: middle;\n",
       "    }\n",
       "\n",
       "    .dataframe tbody tr th {\n",
       "        vertical-align: top;\n",
       "    }\n",
       "\n",
       "    .dataframe thead th {\n",
       "        text-align: right;\n",
       "    }\n",
       "</style>\n",
       "<table border=\"1\" class=\"dataframe\">\n",
       "  <thead>\n",
       "    <tr style=\"text-align: right;\">\n",
       "      <th></th>\n",
       "      <th>Headline</th>\n",
       "      <th>Body ID</th>\n",
       "      <th>Stance</th>\n",
       "      <th>articleBody</th>\n",
       "      <th>Related</th>\n",
       "    </tr>\n",
       "  </thead>\n",
       "  <tbody>\n",
       "    <tr>\n",
       "      <th>0</th>\n",
       "      <td>Police find mass graves with at least '15 bodi...</td>\n",
       "      <td>712</td>\n",
       "      <td>unrelated</td>\n",
       "      <td>Danny Boyle is directing the untitled film\\r\\n...</td>\n",
       "      <td>0</td>\n",
       "    </tr>\n",
       "    <tr>\n",
       "      <th>1</th>\n",
       "      <td>Seth Rogen to Play Apple’s Steve Wozniak</td>\n",
       "      <td>712</td>\n",
       "      <td>discuss</td>\n",
       "      <td>Danny Boyle is directing the untitled film\\r\\n...</td>\n",
       "      <td>1</td>\n",
       "    </tr>\n",
       "    <tr>\n",
       "      <th>2</th>\n",
       "      <td>Mexico police find mass grave near site 43 stu...</td>\n",
       "      <td>712</td>\n",
       "      <td>unrelated</td>\n",
       "      <td>Danny Boyle is directing the untitled film\\r\\n...</td>\n",
       "      <td>0</td>\n",
       "    </tr>\n",
       "    <tr>\n",
       "      <th>3</th>\n",
       "      <td>Mexico Says Missing Students Not Found In Firs...</td>\n",
       "      <td>712</td>\n",
       "      <td>unrelated</td>\n",
       "      <td>Danny Boyle is directing the untitled film\\r\\n...</td>\n",
       "      <td>0</td>\n",
       "    </tr>\n",
       "    <tr>\n",
       "      <th>4</th>\n",
       "      <td>New iOS 8 bug can delete all of your iCloud do...</td>\n",
       "      <td>712</td>\n",
       "      <td>unrelated</td>\n",
       "      <td>Danny Boyle is directing the untitled film\\r\\n...</td>\n",
       "      <td>0</td>\n",
       "    </tr>\n",
       "    <tr>\n",
       "      <th>...</th>\n",
       "      <td>...</td>\n",
       "      <td>...</td>\n",
       "      <td>...</td>\n",
       "      <td>...</td>\n",
       "      <td>...</td>\n",
       "    </tr>\n",
       "    <tr>\n",
       "      <th>49967</th>\n",
       "      <td>Amazon Is Opening a Brick-and-Mortar Store in ...</td>\n",
       "      <td>464</td>\n",
       "      <td>agree</td>\n",
       "      <td>Amazon, the cyber store that sells everything,...</td>\n",
       "      <td>1</td>\n",
       "    </tr>\n",
       "    <tr>\n",
       "      <th>49968</th>\n",
       "      <td>Elon University has not banned the term ‘fresh...</td>\n",
       "      <td>362</td>\n",
       "      <td>agree</td>\n",
       "      <td>ELON, N.C. – A recent rumor claims that Elon U...</td>\n",
       "      <td>1</td>\n",
       "    </tr>\n",
       "    <tr>\n",
       "      <th>49969</th>\n",
       "      <td>Fake BBC News website set up to carry Charlie ...</td>\n",
       "      <td>915</td>\n",
       "      <td>agree</td>\n",
       "      <td>A realistic-looking fake BBC News website has ...</td>\n",
       "      <td>1</td>\n",
       "    </tr>\n",
       "    <tr>\n",
       "      <th>49970</th>\n",
       "      <td>Apple was forced to nix key health features fr...</td>\n",
       "      <td>407</td>\n",
       "      <td>discuss</td>\n",
       "      <td>The health-focused smartwatch that Apple initi...</td>\n",
       "      <td>1</td>\n",
       "    </tr>\n",
       "    <tr>\n",
       "      <th>49971</th>\n",
       "      <td>If you want an Apple Watch, you’ll probably be...</td>\n",
       "      <td>1066</td>\n",
       "      <td>discuss</td>\n",
       "      <td>We still don’t know the exact date the Apple W...</td>\n",
       "      <td>1</td>\n",
       "    </tr>\n",
       "  </tbody>\n",
       "</table>\n",
       "<p>49972 rows × 5 columns</p>\n",
       "</div>"
      ],
      "text/plain": [
       "                                                Headline  Body ID     Stance  \\\n",
       "0      Police find mass graves with at least '15 bodi...      712  unrelated   \n",
       "1               Seth Rogen to Play Apple’s Steve Wozniak      712    discuss   \n",
       "2      Mexico police find mass grave near site 43 stu...      712  unrelated   \n",
       "3      Mexico Says Missing Students Not Found In Firs...      712  unrelated   \n",
       "4      New iOS 8 bug can delete all of your iCloud do...      712  unrelated   \n",
       "...                                                  ...      ...        ...   \n",
       "49967  Amazon Is Opening a Brick-and-Mortar Store in ...      464      agree   \n",
       "49968  Elon University has not banned the term ‘fresh...      362      agree   \n",
       "49969  Fake BBC News website set up to carry Charlie ...      915      agree   \n",
       "49970  Apple was forced to nix key health features fr...      407    discuss   \n",
       "49971  If you want an Apple Watch, you’ll probably be...     1066    discuss   \n",
       "\n",
       "                                             articleBody  Related  \n",
       "0      Danny Boyle is directing the untitled film\\r\\n...        0  \n",
       "1      Danny Boyle is directing the untitled film\\r\\n...        1  \n",
       "2      Danny Boyle is directing the untitled film\\r\\n...        0  \n",
       "3      Danny Boyle is directing the untitled film\\r\\n...        0  \n",
       "4      Danny Boyle is directing the untitled film\\r\\n...        0  \n",
       "...                                                  ...      ...  \n",
       "49967  Amazon, the cyber store that sells everything,...        1  \n",
       "49968  ELON, N.C. – A recent rumor claims that Elon U...        1  \n",
       "49969  A realistic-looking fake BBC News website has ...        1  \n",
       "49970  The health-focused smartwatch that Apple initi...        1  \n",
       "49971  We still don’t know the exact date the Apple W...        1  \n",
       "\n",
       "[49972 rows x 5 columns]"
      ]
     },
     "execution_count": 13,
     "metadata": {},
     "output_type": "execute_result"
    }
   ],
   "source": [
    "train_and_val_df"
   ]
  },
  {
   "cell_type": "markdown",
   "id": "53f91412-16fa-44db-b746-23f6893beb05",
   "metadata": {},
   "source": [
    "# Data Splitting\n",
    "Now we need to split the training data into a training and validation set. We leave the test set untouched in this respect."
   ]
  },
  {
   "cell_type": "code",
   "execution_count": 14,
   "id": "2b47934c-1410-45d4-8fb7-2cc52a804cbb",
   "metadata": {
    "tags": []
   },
   "outputs": [],
   "source": [
    "val_split_ratio = 0.2"
   ]
  },
  {
   "cell_type": "code",
   "execution_count": 15,
   "id": "75b918ac-1bd1-43a9-8c7a-2d0b773b6379",
   "metadata": {
    "tags": []
   },
   "outputs": [],
   "source": [
    "def split_train_val(df, ratio):\n",
    "    val_count = int(ratio * df[\"Body ID\"].nunique())\n",
    "    all_ids = list(df[\"Body ID\"].unique())\n",
    "    val_body_ids = random.sample(all_ids, val_count)\n",
    "    train_body_ids = set(all_ids) - set(val_body_ids)\n",
    "    \n",
    "    assert len(set(val_body_ids) & train_body_ids) == 0\n",
    "    \n",
    "    val_df = df.loc[df[\"Body ID\"].isin(val_body_ids)]\n",
    "    train_df = df.loc[df[\"Body ID\"].isin(train_body_ids)]\n",
    "    \n",
    "    return val_df, train_df"
   ]
  },
  {
   "cell_type": "code",
   "execution_count": 16,
   "id": "86ef902a-262b-4ae5-9156-1df31b9dfed2",
   "metadata": {
    "tags": []
   },
   "outputs": [],
   "source": [
    "val_df, train_df = split_train_val(train_and_val_df, val_split_ratio)"
   ]
  },
  {
   "cell_type": "code",
   "execution_count": 17,
   "id": "0e19675d-edf6-4e71-b771-6d58825508c7",
   "metadata": {
    "tags": []
   },
   "outputs": [
    {
     "data": {
      "text/plain": [
       "336"
      ]
     },
     "execution_count": 17,
     "metadata": {},
     "output_type": "execute_result"
    }
   ],
   "source": [
    "val_df[\"Body ID\"].nunique()"
   ]
  },
  {
   "cell_type": "code",
   "execution_count": 18,
   "id": "12d1726f-bd9a-4a08-b19b-503a2a1eee80",
   "metadata": {
    "tags": []
   },
   "outputs": [
    {
     "data": {
      "text/plain": [
       "904"
      ]
     },
     "execution_count": 18,
     "metadata": {},
     "output_type": "execute_result"
    }
   ],
   "source": [
    "test_df[\"Body ID\"].nunique()"
   ]
  },
  {
   "cell_type": "code",
   "execution_count": 19,
   "id": "5205b36c-2694-4469-aab3-cfd936b60d86",
   "metadata": {
    "tags": []
   },
   "outputs": [
    {
     "data": {
      "text/plain": [
       "1347"
      ]
     },
     "execution_count": 19,
     "metadata": {},
     "output_type": "execute_result"
    }
   ],
   "source": [
    "train_df[\"Body ID\"].nunique()"
   ]
  },
  {
   "cell_type": "code",
   "execution_count": 20,
   "id": "8b48d34d-82ff-48ed-b741-6a6508f0454e",
   "metadata": {
    "tags": []
   },
   "outputs": [],
   "source": [
    "def prepare_df(df):\n",
    "    df = df.drop(\"Body ID\", axis=1)\n",
    "    df = df.reset_index()\n",
    "    df = df.drop(\"index\", axis=1)\n",
    "    df[\"Related\"] = df[\"Stance\"] != \"unrelated\"\n",
    "    return df"
   ]
  },
  {
   "cell_type": "code",
   "execution_count": 21,
   "id": "26712e05-7471-4c55-9584-13031fd3b01b",
   "metadata": {
    "tags": []
   },
   "outputs": [],
   "source": [
    "val_df = prepare_df(val_df)\n",
    "train_df = prepare_df(train_df)\n",
    "test_df = prepare_df(test_df)"
   ]
  },
  {
   "cell_type": "code",
   "execution_count": 22,
   "id": "ee1c5501-b66b-4a33-bb32-7f1a05122d35",
   "metadata": {
    "tags": []
   },
   "outputs": [
    {
     "data": {
      "text/plain": [
       "unrelated    0.686372\n",
       "discuss      0.217335\n",
       "agree        0.074570\n",
       "disagree     0.021723\n",
       "Name: Stance, dtype: float64"
      ]
     },
     "execution_count": 22,
     "metadata": {},
     "output_type": "execute_result"
    }
   ],
   "source": [
    "val_df[\"Stance\"].value_counts(normalize=True)#.plot(kind=\"bar\")"
   ]
  },
  {
   "cell_type": "code",
   "execution_count": 25,
   "id": "39629975-8ef2-4a78-a111-8fcd0872d100",
   "metadata": {
    "tags": []
   },
   "outputs": [
    {
     "data": {
      "text/plain": [
       "unrelated    0.741521\n",
       "discuss      0.169405\n",
       "agree        0.073381\n",
       "disagree     0.015693\n",
       "Name: Stance, dtype: float64"
      ]
     },
     "execution_count": 25,
     "metadata": {},
     "output_type": "execute_result"
    }
   ],
   "source": [
    "train_df[\"Stance\"].value_counts(normalize=True)#.plot(kind=\"bar\")"
   ]
  },
  {
   "cell_type": "code",
   "execution_count": 26,
   "id": "d465624d-0694-4783-90b7-4f19b6d21aa5",
   "metadata": {
    "tags": []
   },
   "outputs": [
    {
     "data": {
      "text/plain": [
       "unrelated    0.722032\n",
       "discuss      0.175658\n",
       "agree        0.074883\n",
       "disagree     0.027427\n",
       "Name: Stance, dtype: float64"
      ]
     },
     "execution_count": 26,
     "metadata": {},
     "output_type": "execute_result"
    }
   ],
   "source": [
    "test_df[\"Stance\"].value_counts(normalize=True)#.plot(kind=\"bar\")"
   ]
  },
  {
   "cell_type": "markdown",
   "id": "bb0a7a9a-3345-4336-9a60-0413b595945b",
   "metadata": {},
   "source": [
    "# Clean the Data\n",
    "Now we have the data, need to clean the data and extract the TF-IDF features. Basic things to consider doing:\n",
    "* Remove punctuation\n",
    "* Remove URLs\n",
    "* Remove HTML\n",
    "* Remove numbers\n",
    "* Remove emojis\n",
    "* Convert to lowercase\n",
    "\n",
    "And we should also:\n",
    "* Tokenise\n",
    "* Remove stopwords\n",
    "* Lemmatisation or Stemming"
   ]
  },
  {
   "cell_type": "code",
   "execution_count": 27,
   "id": "40939c5f-0474-45ee-a941-a30cb46d74e8",
   "metadata": {
    "tags": []
   },
   "outputs": [],
   "source": [
    "# Most of this from the first practical\n",
    "additional_specials = [\"—\", \"”\", \"“\", \"’\", \"‘\"]\n",
    "\n",
    "def remove_excess_whitespace(text):\n",
    "    text = text.replace(\"\\n\", \" \")\n",
    "    text = text.replace(\"\\t\", \" \")\n",
    "    text = text.replace(\"\\r\", \" \")\n",
    "    text = text.strip()\n",
    "    return text\n",
    "\n",
    "def remove_punctuation(text):\n",
    "    punc = str.maketrans('', '', string.punctuation)\n",
    "    text = text.translate(punc)\n",
    "    \n",
    "    for special in additional_specials:\n",
    "        text = text.replace(special, \"\")\n",
    "    \n",
    "    return text\n",
    "\n",
    "def remove_urls(text):\n",
    "    url = re.compile(r'https?://\\S+|www\\.\\S+')\n",
    "    return url.sub('', text)\n",
    "\n",
    "def remove_html(text):\n",
    "    html = re.compile(r'<.*?>')\n",
    "    return html.sub('', text)\n",
    "\n",
    "def remove_numbers(text):\n",
    "    numbers = re.compile(r'\\d+')\n",
    "    return numbers.sub('', text)\n",
    "\n",
    "def remove_emojis(text):\n",
    "    emoji_pattern = re.compile(\"[\"\n",
    "                           u\"\\U0001F600-\\U0001F64F\"  # emoticons\n",
    "                           u\"\\U0001F300-\\U0001F5FF\"  # symbols & pictographs\n",
    "                           u\"\\U0001F680-\\U0001F6FF\"  # transport & map symbols\n",
    "                           u\"\\U0001F1E0-\\U0001F1FF\"  # flags (iOS)\n",
    "                           u\"\\U00002702-\\U000027B0\"\n",
    "                           u\"\\U000024C2-\\U0001F251\"\n",
    "                           \"]+\", flags=re.UNICODE)\n",
    "    \n",
    "    return emoji_pattern.sub(r'', text)\n",
    "\n",
    "def apply_cleaning(text, excess=True, punc=True, urls=True, html=True, numbers=True, emojis=True, lower=True):\n",
    "    if excess:\n",
    "        text = \" \".join(text.split())\n",
    "        \n",
    "    if punc:\n",
    "        text = remove_punctuation(text)\n",
    "    \n",
    "    if urls:\n",
    "        text = remove_urls(text)\n",
    "    \n",
    "    if html:\n",
    "        text = remove_html(text)\n",
    "    \n",
    "    if numbers:\n",
    "        text = remove_numbers(text)\n",
    "        \n",
    "    if emojis:\n",
    "        text = remove_emojis(text)\n",
    "        \n",
    "    if lower:\n",
    "        text = text.lower()\n",
    "    \n",
    "    return text"
   ]
  },
  {
   "cell_type": "code",
   "execution_count": 28,
   "id": "f82f3866-a8f4-470e-b235-e81c5ac02c4c",
   "metadata": {
    "tags": []
   },
   "outputs": [],
   "source": [
    "eng_stopwords = set(stopwords.words(\"english\"))\n",
    "lemmatiser = WordNetLemmatizer()\n",
    "stemmer = PorterStemmer()\n",
    "\n",
    "def lemmatise(text):\n",
    "    tokens = word_tokenize(text)\n",
    "    return \" \".join([lemmatiser.lemmatize(x) for x in tokens])\n",
    "\n",
    "def stematise(text):\n",
    "    tokens = word_tokenize(text)\n",
    "    return \" \".join([stemmer.stem(x) for x in tokens])\n",
    "\n",
    "def apply_tokeniser(text, stops=True, sl=\"lemmatise\"):\n",
    "    word_processor = None\n",
    "    \n",
    "    if sl == \"lemmatise\":\n",
    "        word_processor = lemmatiser.lemmatize\n",
    "    elif sl == \"stematise\":\n",
    "        word_processor = stemmer.stem\n",
    "    elif sl == \"identity\":\n",
    "        word_processor = lambda x: x\n",
    "    else:\n",
    "        assert False, \"Invalid\"\n",
    "    \n",
    "    tokens = word_tokenize(text)\n",
    "    filtered_tokens = []\n",
    "    \n",
    "    if stops:\n",
    "        for token in tokens:\n",
    "            if token not in eng_stopwords:\n",
    "                filtered_tokens.append(token)\n",
    "    else:\n",
    "        filtered_tokens = tokens\n",
    "        \n",
    "    return \" \".join([word_processor(token) for token in filtered_tokens])"
   ]
  },
  {
   "cell_type": "code",
   "execution_count": 29,
   "id": "e6faa375-e271-428a-ba17-01b89b7c2120",
   "metadata": {
    "tags": []
   },
   "outputs": [],
   "source": [
    "config_remove_excess_whitespace = True\n",
    "config_remove_punctuation = True\n",
    "config_remove_urls = True\n",
    "config_remove_html = True\n",
    "config_remove_numbers = True\n",
    "config_remove_emojis = True\n",
    "config_convert_to_lowercase = True\n",
    "config_stem_or_lemm = [\"lemmatise\", \"stematise\", \"identity\"][0]\n",
    "config_remove_stopwords = True"
   ]
  },
  {
   "cell_type": "code",
   "execution_count": 30,
   "id": "0a2133b2-7cb9-4992-8553-4990c846c275",
   "metadata": {
    "tags": []
   },
   "outputs": [],
   "source": [
    "def process_text(text):\n",
    "    text = apply_cleaning(\n",
    "        text, \n",
    "        excess=config_remove_excess_whitespace, \n",
    "        punc=config_remove_punctuation, \n",
    "        urls=config_remove_urls, \n",
    "        html=config_remove_html, \n",
    "        numbers=config_remove_numbers, \n",
    "        emojis=config_remove_emojis, \n",
    "        lower=config_convert_to_lowercase\n",
    "    )\n",
    "    \n",
    "    text = apply_tokeniser(text, stops=config_remove_stopwords, sl=config_stem_or_lemm)\n",
    "    return text"
   ]
  },
  {
   "cell_type": "code",
   "execution_count": 31,
   "id": "e5c5223f-c3bf-435d-84b9-4bf3d61691c6",
   "metadata": {
    "tags": []
   },
   "outputs": [
    {
     "name": "stdout",
     "output_type": "stream",
     "text": [
      "Unprocessed:\n",
      "Tonight — finally! — ESPN is going to have an in-depth discussion on the NFL's domestic violence problem. The discussion will feature the opinions of up to 11 men and zero women, in a remarkable showing of the exact flavor of dumb meathead that ESPN is so adept at that it should trademark.\n",
      "\n",
      "The panel was ostensibly was conceived of and approved of by several people who get paid money to do their jobs. Their jobs creating television programs that are good and informative. They are bad at their jobs. A domestic violence panel involving 11 men and 0 women when women constitute the vast majority of domestic violence victims is neither good nor informative.\n",
      "\n",
      "Understandably, this has upset many people with brains that they use to think rather than promote ESPN programming, including Esquire's Ben Collins. Collins has had about enough of ESPN's blatant NFL defense. He argues that ESPN's pre-Monday Night Football man only domestic violence discussion is even more insidious when you consider just how pathetically cowardly and craven the network is.\n",
      "\n",
      "[...] you will not hear these words: \"Roger Goodell is a liar.\"\n",
      "\n",
      "You will not hear these words because ESPN has a $15.2 billion broadcasting agreement with the NFL. You will not hear these words because it would interfere with the amount of money both ESPN and the NFL can make.\n",
      "\n",
      "You will not hear these words because ESPN is not a company in the business of journalism. It is an entertainment outlet that sometimes reports convenient, timely information to drive interest in future programming.\n",
      "\n",
      "You will not hear these words because ESPN has intimidated its on-air staff into standing down against domestic violence.\n",
      "What an excellent way for ESPN and the NFL to lead into October Domestic Violence Awareness Month.\n",
      "\n",
      "[UPDATE: ESPN publicist Josh Krulewitz tells our sister site Deadspin that despite Esquire's report from the 26th, tonight's programming \"was never going to be\" a panel on domestic violence. Krulewitz says it's a \"regular episode of Countdown, hosted by Suzy Kolber.\"]\n",
      "\n",
      "Processed:\n",
      "tonight finally espn going indepth discussion nfls domestic violence problem discussion feature opinion men zero woman remarkable showing exact flavor dumb meathead espn adept trademark panel ostensibly conceived approved several people get paid money job job creating television program good informative bad job domestic violence panel involving men woman woman constitute vast majority domestic violence victim neither good informative understandably upset many people brain use think rather promote espn programming including esquire ben collins collins enough espns blatant nfl defense argues espns premonday night football man domestic violence discussion even insidious consider pathetically cowardly craven network hear word roger goodell liar hear word espn billion broadcasting agreement nfl hear word would interfere amount money espn nfl make hear word espn company business journalism entertainment outlet sometimes report convenient timely information drive interest future programming hear word espn intimidated onair staff standing domestic violence excellent way espn nfl lead october domestic violence awareness month update espn publicist josh krulewitz tell sister site deadspin despite esquire report th tonight programming never going panel domestic violence krulewitz say regular episode countdown hosted suzy kolber\n"
     ]
    }
   ],
   "source": [
    "test_text = train_df.iloc[812][\"articleBody\"]\n",
    "print(\"Unprocessed:\")\n",
    "print(test_text)\n",
    "print()\n",
    "test_processed = process_text(test_text)\n",
    "print(\"Processed:\")\n",
    "print(test_processed)"
   ]
  },
  {
   "cell_type": "code",
   "execution_count": 32,
   "id": "2f9aa027-535f-49c1-b63b-195c1bec0965",
   "metadata": {
    "tags": []
   },
   "outputs": [
    {
     "data": {
      "text/html": [
       "<div>\n",
       "<style scoped>\n",
       "    .dataframe tbody tr th:only-of-type {\n",
       "        vertical-align: middle;\n",
       "    }\n",
       "\n",
       "    .dataframe tbody tr th {\n",
       "        vertical-align: top;\n",
       "    }\n",
       "\n",
       "    .dataframe thead th {\n",
       "        text-align: right;\n",
       "    }\n",
       "</style>\n",
       "<table border=\"1\" class=\"dataframe\">\n",
       "  <thead>\n",
       "    <tr style=\"text-align: right;\">\n",
       "      <th></th>\n",
       "      <th>Headline</th>\n",
       "      <th>Stance</th>\n",
       "      <th>articleBody</th>\n",
       "      <th>Related</th>\n",
       "    </tr>\n",
       "  </thead>\n",
       "  <tbody>\n",
       "    <tr>\n",
       "      <th>0</th>\n",
       "      <td>Police find mass graves with at least '15 bodi...</td>\n",
       "      <td>unrelated</td>\n",
       "      <td>Danny Boyle is directing the untitled film\\r\\n...</td>\n",
       "      <td>False</td>\n",
       "    </tr>\n",
       "    <tr>\n",
       "      <th>1</th>\n",
       "      <td>Seth Rogen to Play Apple’s Steve Wozniak</td>\n",
       "      <td>discuss</td>\n",
       "      <td>Danny Boyle is directing the untitled film\\r\\n...</td>\n",
       "      <td>True</td>\n",
       "    </tr>\n",
       "    <tr>\n",
       "      <th>2</th>\n",
       "      <td>Mexico police find mass grave near site 43 stu...</td>\n",
       "      <td>unrelated</td>\n",
       "      <td>Danny Boyle is directing the untitled film\\r\\n...</td>\n",
       "      <td>False</td>\n",
       "    </tr>\n",
       "    <tr>\n",
       "      <th>3</th>\n",
       "      <td>Mexico Says Missing Students Not Found In Firs...</td>\n",
       "      <td>unrelated</td>\n",
       "      <td>Danny Boyle is directing the untitled film\\r\\n...</td>\n",
       "      <td>False</td>\n",
       "    </tr>\n",
       "    <tr>\n",
       "      <th>4</th>\n",
       "      <td>New iOS 8 bug can delete all of your iCloud do...</td>\n",
       "      <td>unrelated</td>\n",
       "      <td>Danny Boyle is directing the untitled film\\r\\n...</td>\n",
       "      <td>False</td>\n",
       "    </tr>\n",
       "    <tr>\n",
       "      <th>...</th>\n",
       "      <td>...</td>\n",
       "      <td>...</td>\n",
       "      <td>...</td>\n",
       "      <td>...</td>\n",
       "    </tr>\n",
       "    <tr>\n",
       "      <th>40714</th>\n",
       "      <td>Amazon Is Opening a Brick-and-Mortar Store in ...</td>\n",
       "      <td>agree</td>\n",
       "      <td>Amazon, the cyber store that sells everything,...</td>\n",
       "      <td>True</td>\n",
       "    </tr>\n",
       "    <tr>\n",
       "      <th>40715</th>\n",
       "      <td>Elon University has not banned the term ‘fresh...</td>\n",
       "      <td>agree</td>\n",
       "      <td>ELON, N.C. – A recent rumor claims that Elon U...</td>\n",
       "      <td>True</td>\n",
       "    </tr>\n",
       "    <tr>\n",
       "      <th>40716</th>\n",
       "      <td>Fake BBC News website set up to carry Charlie ...</td>\n",
       "      <td>agree</td>\n",
       "      <td>A realistic-looking fake BBC News website has ...</td>\n",
       "      <td>True</td>\n",
       "    </tr>\n",
       "    <tr>\n",
       "      <th>40717</th>\n",
       "      <td>Apple was forced to nix key health features fr...</td>\n",
       "      <td>discuss</td>\n",
       "      <td>The health-focused smartwatch that Apple initi...</td>\n",
       "      <td>True</td>\n",
       "    </tr>\n",
       "    <tr>\n",
       "      <th>40718</th>\n",
       "      <td>If you want an Apple Watch, you’ll probably be...</td>\n",
       "      <td>discuss</td>\n",
       "      <td>We still don’t know the exact date the Apple W...</td>\n",
       "      <td>True</td>\n",
       "    </tr>\n",
       "  </tbody>\n",
       "</table>\n",
       "<p>40719 rows × 4 columns</p>\n",
       "</div>"
      ],
      "text/plain": [
       "                                                Headline     Stance  \\\n",
       "0      Police find mass graves with at least '15 bodi...  unrelated   \n",
       "1               Seth Rogen to Play Apple’s Steve Wozniak    discuss   \n",
       "2      Mexico police find mass grave near site 43 stu...  unrelated   \n",
       "3      Mexico Says Missing Students Not Found In Firs...  unrelated   \n",
       "4      New iOS 8 bug can delete all of your iCloud do...  unrelated   \n",
       "...                                                  ...        ...   \n",
       "40714  Amazon Is Opening a Brick-and-Mortar Store in ...      agree   \n",
       "40715  Elon University has not banned the term ‘fresh...      agree   \n",
       "40716  Fake BBC News website set up to carry Charlie ...      agree   \n",
       "40717  Apple was forced to nix key health features fr...    discuss   \n",
       "40718  If you want an Apple Watch, you’ll probably be...    discuss   \n",
       "\n",
       "                                             articleBody  Related  \n",
       "0      Danny Boyle is directing the untitled film\\r\\n...    False  \n",
       "1      Danny Boyle is directing the untitled film\\r\\n...     True  \n",
       "2      Danny Boyle is directing the untitled film\\r\\n...    False  \n",
       "3      Danny Boyle is directing the untitled film\\r\\n...    False  \n",
       "4      Danny Boyle is directing the untitled film\\r\\n...    False  \n",
       "...                                                  ...      ...  \n",
       "40714  Amazon, the cyber store that sells everything,...     True  \n",
       "40715  ELON, N.C. – A recent rumor claims that Elon U...     True  \n",
       "40716  A realistic-looking fake BBC News website has ...     True  \n",
       "40717  The health-focused smartwatch that Apple initi...     True  \n",
       "40718  We still don’t know the exact date the Apple W...     True  \n",
       "\n",
       "[40719 rows x 4 columns]"
      ]
     },
     "execution_count": 32,
     "metadata": {},
     "output_type": "execute_result"
    }
   ],
   "source": [
    "train_df"
   ]
  },
  {
   "cell_type": "code",
   "execution_count": 33,
   "id": "941daa6e-3d43-4b47-8d6f-612e282826cd",
   "metadata": {
    "tags": []
   },
   "outputs": [],
   "source": [
    "train_df[\"Processed Headline\"] = train_df[\"Headline\"].progress_apply(process_text)\n",
    "train_df[\"Processed Body\"] = train_df[\"articleBody\"].progress_apply(process_text)"
   ]
  },
  {
   "cell_type": "code",
   "execution_count": 34,
   "id": "c79dabaa-044f-4761-a849-e89cce44c361",
   "metadata": {
    "tags": []
   },
   "outputs": [
    {
     "data": {
      "text/html": [
       "<div>\n",
       "<style scoped>\n",
       "    .dataframe tbody tr th:only-of-type {\n",
       "        vertical-align: middle;\n",
       "    }\n",
       "\n",
       "    .dataframe tbody tr th {\n",
       "        vertical-align: top;\n",
       "    }\n",
       "\n",
       "    .dataframe thead th {\n",
       "        text-align: right;\n",
       "    }\n",
       "</style>\n",
       "<table border=\"1\" class=\"dataframe\">\n",
       "  <thead>\n",
       "    <tr style=\"text-align: right;\">\n",
       "      <th></th>\n",
       "      <th>Headline</th>\n",
       "      <th>Stance</th>\n",
       "      <th>articleBody</th>\n",
       "      <th>Related</th>\n",
       "      <th>Processed Headline</th>\n",
       "      <th>Processed Body</th>\n",
       "    </tr>\n",
       "  </thead>\n",
       "  <tbody>\n",
       "    <tr>\n",
       "      <th>0</th>\n",
       "      <td>Police find mass graves with at least '15 bodi...</td>\n",
       "      <td>unrelated</td>\n",
       "      <td>Danny Boyle is directing the untitled film\\r\\n...</td>\n",
       "      <td>False</td>\n",
       "      <td>police find mass graf least body near mexico t...</td>\n",
       "      <td>danny boyle directing untitled film seth rogen...</td>\n",
       "    </tr>\n",
       "    <tr>\n",
       "      <th>1</th>\n",
       "      <td>Seth Rogen to Play Apple’s Steve Wozniak</td>\n",
       "      <td>discuss</td>\n",
       "      <td>Danny Boyle is directing the untitled film\\r\\n...</td>\n",
       "      <td>True</td>\n",
       "      <td>seth rogen play apple steve wozniak</td>\n",
       "      <td>danny boyle directing untitled film seth rogen...</td>\n",
       "    </tr>\n",
       "    <tr>\n",
       "      <th>2</th>\n",
       "      <td>Mexico police find mass grave near site 43 stu...</td>\n",
       "      <td>unrelated</td>\n",
       "      <td>Danny Boyle is directing the untitled film\\r\\n...</td>\n",
       "      <td>False</td>\n",
       "      <td>mexico police find mass grave near site studen...</td>\n",
       "      <td>danny boyle directing untitled film seth rogen...</td>\n",
       "    </tr>\n",
       "    <tr>\n",
       "      <th>3</th>\n",
       "      <td>Mexico Says Missing Students Not Found In Firs...</td>\n",
       "      <td>unrelated</td>\n",
       "      <td>Danny Boyle is directing the untitled film\\r\\n...</td>\n",
       "      <td>False</td>\n",
       "      <td>mexico say missing student found first mass graf</td>\n",
       "      <td>danny boyle directing untitled film seth rogen...</td>\n",
       "    </tr>\n",
       "    <tr>\n",
       "      <th>4</th>\n",
       "      <td>New iOS 8 bug can delete all of your iCloud do...</td>\n",
       "      <td>unrelated</td>\n",
       "      <td>Danny Boyle is directing the untitled film\\r\\n...</td>\n",
       "      <td>False</td>\n",
       "      <td>new io bug delete icloud document</td>\n",
       "      <td>danny boyle directing untitled film seth rogen...</td>\n",
       "    </tr>\n",
       "    <tr>\n",
       "      <th>...</th>\n",
       "      <td>...</td>\n",
       "      <td>...</td>\n",
       "      <td>...</td>\n",
       "      <td>...</td>\n",
       "      <td>...</td>\n",
       "      <td>...</td>\n",
       "    </tr>\n",
       "    <tr>\n",
       "      <th>40714</th>\n",
       "      <td>Amazon Is Opening a Brick-and-Mortar Store in ...</td>\n",
       "      <td>agree</td>\n",
       "      <td>Amazon, the cyber store that sells everything,...</td>\n",
       "      <td>True</td>\n",
       "      <td>amazon opening brickandmortar store manhattan</td>\n",
       "      <td>amazon cyber store sell everything plan open f...</td>\n",
       "    </tr>\n",
       "    <tr>\n",
       "      <th>40715</th>\n",
       "      <td>Elon University has not banned the term ‘fresh...</td>\n",
       "      <td>agree</td>\n",
       "      <td>ELON, N.C. – A recent rumor claims that Elon U...</td>\n",
       "      <td>True</td>\n",
       "      <td>elon university banned term freshman despite r...</td>\n",
       "      <td>elon nc – recent rumor claim elon university b...</td>\n",
       "    </tr>\n",
       "    <tr>\n",
       "      <th>40716</th>\n",
       "      <td>Fake BBC News website set up to carry Charlie ...</td>\n",
       "      <td>agree</td>\n",
       "      <td>A realistic-looking fake BBC News website has ...</td>\n",
       "      <td>True</td>\n",
       "      <td>fake bbc news website set carry charlie hebdo ...</td>\n",
       "      <td>realisticlooking fake bbc news website set car...</td>\n",
       "    </tr>\n",
       "    <tr>\n",
       "      <th>40717</th>\n",
       "      <td>Apple was forced to nix key health features fr...</td>\n",
       "      <td>discuss</td>\n",
       "      <td>The health-focused smartwatch that Apple initi...</td>\n",
       "      <td>True</td>\n",
       "      <td>apple forced nix key health feature smartwatch...</td>\n",
       "      <td>healthfocused smartwatch apple initially envis...</td>\n",
       "    </tr>\n",
       "    <tr>\n",
       "      <th>40718</th>\n",
       "      <td>If you want an Apple Watch, you’ll probably be...</td>\n",
       "      <td>discuss</td>\n",
       "      <td>We still don’t know the exact date the Apple W...</td>\n",
       "      <td>True</td>\n",
       "      <td>want apple watch youll probably trekking apple...</td>\n",
       "      <td>still dont know exact date apple watch ship ne...</td>\n",
       "    </tr>\n",
       "  </tbody>\n",
       "</table>\n",
       "<p>40719 rows × 6 columns</p>\n",
       "</div>"
      ],
      "text/plain": [
       "                                                Headline     Stance  \\\n",
       "0      Police find mass graves with at least '15 bodi...  unrelated   \n",
       "1               Seth Rogen to Play Apple’s Steve Wozniak    discuss   \n",
       "2      Mexico police find mass grave near site 43 stu...  unrelated   \n",
       "3      Mexico Says Missing Students Not Found In Firs...  unrelated   \n",
       "4      New iOS 8 bug can delete all of your iCloud do...  unrelated   \n",
       "...                                                  ...        ...   \n",
       "40714  Amazon Is Opening a Brick-and-Mortar Store in ...      agree   \n",
       "40715  Elon University has not banned the term ‘fresh...      agree   \n",
       "40716  Fake BBC News website set up to carry Charlie ...      agree   \n",
       "40717  Apple was forced to nix key health features fr...    discuss   \n",
       "40718  If you want an Apple Watch, you’ll probably be...    discuss   \n",
       "\n",
       "                                             articleBody  Related  \\\n",
       "0      Danny Boyle is directing the untitled film\\r\\n...    False   \n",
       "1      Danny Boyle is directing the untitled film\\r\\n...     True   \n",
       "2      Danny Boyle is directing the untitled film\\r\\n...    False   \n",
       "3      Danny Boyle is directing the untitled film\\r\\n...    False   \n",
       "4      Danny Boyle is directing the untitled film\\r\\n...    False   \n",
       "...                                                  ...      ...   \n",
       "40714  Amazon, the cyber store that sells everything,...     True   \n",
       "40715  ELON, N.C. – A recent rumor claims that Elon U...     True   \n",
       "40716  A realistic-looking fake BBC News website has ...     True   \n",
       "40717  The health-focused smartwatch that Apple initi...     True   \n",
       "40718  We still don’t know the exact date the Apple W...     True   \n",
       "\n",
       "                                      Processed Headline  \\\n",
       "0      police find mass graf least body near mexico t...   \n",
       "1                    seth rogen play apple steve wozniak   \n",
       "2      mexico police find mass grave near site studen...   \n",
       "3       mexico say missing student found first mass graf   \n",
       "4                      new io bug delete icloud document   \n",
       "...                                                  ...   \n",
       "40714      amazon opening brickandmortar store manhattan   \n",
       "40715  elon university banned term freshman despite r...   \n",
       "40716  fake bbc news website set carry charlie hebdo ...   \n",
       "40717  apple forced nix key health feature smartwatch...   \n",
       "40718  want apple watch youll probably trekking apple...   \n",
       "\n",
       "                                          Processed Body  \n",
       "0      danny boyle directing untitled film seth rogen...  \n",
       "1      danny boyle directing untitled film seth rogen...  \n",
       "2      danny boyle directing untitled film seth rogen...  \n",
       "3      danny boyle directing untitled film seth rogen...  \n",
       "4      danny boyle directing untitled film seth rogen...  \n",
       "...                                                  ...  \n",
       "40714  amazon cyber store sell everything plan open f...  \n",
       "40715  elon nc – recent rumor claim elon university b...  \n",
       "40716  realisticlooking fake bbc news website set car...  \n",
       "40717  healthfocused smartwatch apple initially envis...  \n",
       "40718  still dont know exact date apple watch ship ne...  \n",
       "\n",
       "[40719 rows x 6 columns]"
      ]
     },
     "execution_count": 34,
     "metadata": {},
     "output_type": "execute_result"
    }
   ],
   "source": [
    "train_df"
   ]
  },
  {
   "cell_type": "code",
   "execution_count": 68,
   "id": "04593f97-ae55-4b51-9418-577362fa703c",
   "metadata": {
    "tags": []
   },
   "outputs": [
    {
     "data": {
      "application/vnd.jupyter.widget-view+json": {
       "model_id": "04e47777c84a4aafb26771d9a5e36c7d",
       "version_major": 2,
       "version_minor": 0
      },
      "text/plain": [
       "  0%|          | 0/9253 [00:00<?, ?it/s]"
      ]
     },
     "metadata": {},
     "output_type": "display_data"
    },
    {
     "data": {
      "application/vnd.jupyter.widget-view+json": {
       "model_id": "9b36ab04e56e4d4eabbdb6a083f175f0",
       "version_major": 2,
       "version_minor": 0
      },
      "text/plain": [
       "  0%|          | 0/9253 [00:00<?, ?it/s]"
      ]
     },
     "metadata": {},
     "output_type": "display_data"
    }
   ],
   "source": [
    "val_df[\"Processed Headline\"] = val_df[\"Headline\"].progress_apply(process_text)\n",
    "val_df[\"Processed Body\"] = val_df[\"articleBody\"].progress_apply(process_text)"
   ]
  },
  {
   "cell_type": "code",
   "execution_count": 69,
   "id": "e97b5950-887d-481e-babb-047aee6caf17",
   "metadata": {
    "tags": []
   },
   "outputs": [
    {
     "data": {
      "text/html": [
       "<div>\n",
       "<style scoped>\n",
       "    .dataframe tbody tr th:only-of-type {\n",
       "        vertical-align: middle;\n",
       "    }\n",
       "\n",
       "    .dataframe tbody tr th {\n",
       "        vertical-align: top;\n",
       "    }\n",
       "\n",
       "    .dataframe thead th {\n",
       "        text-align: right;\n",
       "    }\n",
       "</style>\n",
       "<table border=\"1\" class=\"dataframe\">\n",
       "  <thead>\n",
       "    <tr style=\"text-align: right;\">\n",
       "      <th></th>\n",
       "      <th>Headline</th>\n",
       "      <th>Stance</th>\n",
       "      <th>articleBody</th>\n",
       "      <th>Related</th>\n",
       "      <th>Processed Headline</th>\n",
       "      <th>Processed Body</th>\n",
       "    </tr>\n",
       "  </thead>\n",
       "  <tbody>\n",
       "    <tr>\n",
       "      <th>0</th>\n",
       "      <td>HBO and Apple in Talks for $15/Month Apple TV ...</td>\n",
       "      <td>unrelated</td>\n",
       "      <td>(Reuters) - A Canadian soldier was shot at the...</td>\n",
       "      <td>False</td>\n",
       "      <td>hbo apple talk month apple tv streaming servic...</td>\n",
       "      <td>reuters canadian soldier shot canadian war mem...</td>\n",
       "    </tr>\n",
       "    <tr>\n",
       "      <th>1</th>\n",
       "      <td>ISLAMIC STATE BEHEADS MISSING AMERICAN JOURNAL...</td>\n",
       "      <td>unrelated</td>\n",
       "      <td>(Reuters) - A Canadian soldier was shot at the...</td>\n",
       "      <td>False</td>\n",
       "      <td>islamic state beheads missing american journal...</td>\n",
       "      <td>reuters canadian soldier shot canadian war mem...</td>\n",
       "    </tr>\n",
       "    <tr>\n",
       "      <th>2</th>\n",
       "      <td>Elderly Woman Arrested for Kidnapping Neighbor...</td>\n",
       "      <td>unrelated</td>\n",
       "      <td>(Reuters) - A Canadian soldier was shot at the...</td>\n",
       "      <td>False</td>\n",
       "      <td>elderly woman arrested kidnapping neighbor cat...</td>\n",
       "      <td>reuters canadian soldier shot canadian war mem...</td>\n",
       "    </tr>\n",
       "    <tr>\n",
       "      <th>3</th>\n",
       "      <td>Kim Jong-Un 'bans the name Kim Jong-un'</td>\n",
       "      <td>unrelated</td>\n",
       "      <td>(Reuters) - A Canadian soldier was shot at the...</td>\n",
       "      <td>False</td>\n",
       "      <td>kim jongun ban name kim jongun</td>\n",
       "      <td>reuters canadian soldier shot canadian war mem...</td>\n",
       "    </tr>\n",
       "    <tr>\n",
       "      <th>4</th>\n",
       "      <td>Two blokes dared to eat 20-year-old burger for...</td>\n",
       "      <td>unrelated</td>\n",
       "      <td>(Reuters) - A Canadian soldier was shot at the...</td>\n",
       "      <td>False</td>\n",
       "      <td>two bloke dared eat yearold burger charity</td>\n",
       "      <td>reuters canadian soldier shot canadian war mem...</td>\n",
       "    </tr>\n",
       "    <tr>\n",
       "      <th>...</th>\n",
       "      <td>...</td>\n",
       "      <td>...</td>\n",
       "      <td>...</td>\n",
       "      <td>...</td>\n",
       "      <td>...</td>\n",
       "      <td>...</td>\n",
       "    </tr>\n",
       "    <tr>\n",
       "      <th>9248</th>\n",
       "      <td>Resetting iOS 8 Preferences May Wipe iCloud Files</td>\n",
       "      <td>discuss</td>\n",
       "      <td>An alleged bug in iOS 8 appears to be deleting...</td>\n",
       "      <td>True</td>\n",
       "      <td>resetting io preference may wipe icloud file</td>\n",
       "      <td>alleged bug io appears deleting document store...</td>\n",
       "    </tr>\n",
       "    <tr>\n",
       "      <th>9249</th>\n",
       "      <td>iOS 8 bug could delete your iCloud Drive docum...</td>\n",
       "      <td>discuss</td>\n",
       "      <td>An alleged bug in iOS 8 appears to be deleting...</td>\n",
       "      <td>True</td>\n",
       "      <td>io bug could delete icloud drive document</td>\n",
       "      <td>alleged bug io appears deleting document store...</td>\n",
       "    </tr>\n",
       "    <tr>\n",
       "      <th>9250</th>\n",
       "      <td>This Is Why Rumors That ISIS Is Crossing The B...</td>\n",
       "      <td>discuss</td>\n",
       "      <td>Border Patrol agents detain immigrants who cro...</td>\n",
       "      <td>True</td>\n",
       "      <td>rumor isi crossing border u arent going away</td>\n",
       "      <td>border patrol agent detain immigrant crossed m...</td>\n",
       "    </tr>\n",
       "    <tr>\n",
       "      <th>9251</th>\n",
       "      <td>You may be able to make appointments at the Ap...</td>\n",
       "      <td>discuss</td>\n",
       "      <td>Apple is reportedly planning to market and sel...</td>\n",
       "      <td>True</td>\n",
       "      <td>may able make appointment apple store try appl...</td>\n",
       "      <td>apple reportedly planning market sell apple wa...</td>\n",
       "    </tr>\n",
       "    <tr>\n",
       "      <th>9252</th>\n",
       "      <td>BMO forecasts 19M Apple Watch sales in 2015, w...</td>\n",
       "      <td>discuss</td>\n",
       "      <td>Momentum for the Apple Watch will likely take ...</td>\n",
       "      <td>True</td>\n",
       "      <td>bmo forecast apple watch sale half selling hol...</td>\n",
       "      <td>momentum apple watch likely take short time bu...</td>\n",
       "    </tr>\n",
       "  </tbody>\n",
       "</table>\n",
       "<p>9253 rows × 6 columns</p>\n",
       "</div>"
      ],
      "text/plain": [
       "                                               Headline     Stance  \\\n",
       "0     HBO and Apple in Talks for $15/Month Apple TV ...  unrelated   \n",
       "1     ISLAMIC STATE BEHEADS MISSING AMERICAN JOURNAL...  unrelated   \n",
       "2     Elderly Woman Arrested for Kidnapping Neighbor...  unrelated   \n",
       "3               Kim Jong-Un 'bans the name Kim Jong-un'  unrelated   \n",
       "4     Two blokes dared to eat 20-year-old burger for...  unrelated   \n",
       "...                                                 ...        ...   \n",
       "9248  Resetting iOS 8 Preferences May Wipe iCloud Files    discuss   \n",
       "9249  iOS 8 bug could delete your iCloud Drive docum...    discuss   \n",
       "9250  This Is Why Rumors That ISIS Is Crossing The B...    discuss   \n",
       "9251  You may be able to make appointments at the Ap...    discuss   \n",
       "9252  BMO forecasts 19M Apple Watch sales in 2015, w...    discuss   \n",
       "\n",
       "                                            articleBody  Related  \\\n",
       "0     (Reuters) - A Canadian soldier was shot at the...    False   \n",
       "1     (Reuters) - A Canadian soldier was shot at the...    False   \n",
       "2     (Reuters) - A Canadian soldier was shot at the...    False   \n",
       "3     (Reuters) - A Canadian soldier was shot at the...    False   \n",
       "4     (Reuters) - A Canadian soldier was shot at the...    False   \n",
       "...                                                 ...      ...   \n",
       "9248  An alleged bug in iOS 8 appears to be deleting...     True   \n",
       "9249  An alleged bug in iOS 8 appears to be deleting...     True   \n",
       "9250  Border Patrol agents detain immigrants who cro...     True   \n",
       "9251  Apple is reportedly planning to market and sel...     True   \n",
       "9252  Momentum for the Apple Watch will likely take ...     True   \n",
       "\n",
       "                                     Processed Headline  \\\n",
       "0     hbo apple talk month apple tv streaming servic...   \n",
       "1     islamic state beheads missing american journal...   \n",
       "2     elderly woman arrested kidnapping neighbor cat...   \n",
       "3                        kim jongun ban name kim jongun   \n",
       "4            two bloke dared eat yearold burger charity   \n",
       "...                                                 ...   \n",
       "9248       resetting io preference may wipe icloud file   \n",
       "9249          io bug could delete icloud drive document   \n",
       "9250       rumor isi crossing border u arent going away   \n",
       "9251  may able make appointment apple store try appl...   \n",
       "9252  bmo forecast apple watch sale half selling hol...   \n",
       "\n",
       "                                         Processed Body  \n",
       "0     reuters canadian soldier shot canadian war mem...  \n",
       "1     reuters canadian soldier shot canadian war mem...  \n",
       "2     reuters canadian soldier shot canadian war mem...  \n",
       "3     reuters canadian soldier shot canadian war mem...  \n",
       "4     reuters canadian soldier shot canadian war mem...  \n",
       "...                                                 ...  \n",
       "9248  alleged bug io appears deleting document store...  \n",
       "9249  alleged bug io appears deleting document store...  \n",
       "9250  border patrol agent detain immigrant crossed m...  \n",
       "9251  apple reportedly planning market sell apple wa...  \n",
       "9252  momentum apple watch likely take short time bu...  \n",
       "\n",
       "[9253 rows x 6 columns]"
      ]
     },
     "execution_count": 69,
     "metadata": {},
     "output_type": "execute_result"
    }
   ],
   "source": [
    "val_df"
   ]
  },
  {
   "cell_type": "code",
   "execution_count": 37,
   "id": "c2b6749e-e865-46e9-98c4-217da58949e7",
   "metadata": {
    "tags": []
   },
   "outputs": [],
   "source": [
    "test_df[\"Processed Headline\"] = test_df[\"Headline\"].progress_apply(process_text)\n",
    "test_df[\"Processed Body\"] = test_df[\"articleBody\"].progress_apply(process_text)"
   ]
  },
  {
   "cell_type": "code",
   "execution_count": 38,
   "id": "476a0d90-0785-4e5d-817c-3e740d5792f3",
   "metadata": {
    "tags": []
   },
   "outputs": [
    {
     "data": {
      "text/html": [
       "<div>\n",
       "<style scoped>\n",
       "    .dataframe tbody tr th:only-of-type {\n",
       "        vertical-align: middle;\n",
       "    }\n",
       "\n",
       "    .dataframe tbody tr th {\n",
       "        vertical-align: top;\n",
       "    }\n",
       "\n",
       "    .dataframe thead th {\n",
       "        text-align: right;\n",
       "    }\n",
       "</style>\n",
       "<table border=\"1\" class=\"dataframe\">\n",
       "  <thead>\n",
       "    <tr style=\"text-align: right;\">\n",
       "      <th></th>\n",
       "      <th>Headline</th>\n",
       "      <th>Stance</th>\n",
       "      <th>articleBody</th>\n",
       "      <th>Related</th>\n",
       "      <th>Processed Headline</th>\n",
       "      <th>Processed Body</th>\n",
       "    </tr>\n",
       "  </thead>\n",
       "  <tbody>\n",
       "    <tr>\n",
       "      <th>0</th>\n",
       "      <td>Ferguson riots: Pregnant woman loses eye after...</td>\n",
       "      <td>unrelated</td>\n",
       "      <td>A RESPECTED senior French police officer inves...</td>\n",
       "      <td>False</td>\n",
       "      <td>ferguson riot pregnant woman loses eye cop fir...</td>\n",
       "      <td>respected senior french police officer investi...</td>\n",
       "    </tr>\n",
       "    <tr>\n",
       "      <th>1</th>\n",
       "      <td>Apple Stores to install safes to secure gold A...</td>\n",
       "      <td>unrelated</td>\n",
       "      <td>A RESPECTED senior French police officer inves...</td>\n",
       "      <td>False</td>\n",
       "      <td>apple store install safe secure gold apple watch</td>\n",
       "      <td>respected senior french police officer investi...</td>\n",
       "    </tr>\n",
       "    <tr>\n",
       "      <th>2</th>\n",
       "      <td>Pregnant woman loses eye after police shoot be...</td>\n",
       "      <td>unrelated</td>\n",
       "      <td>A RESPECTED senior French police officer inves...</td>\n",
       "      <td>False</td>\n",
       "      <td>pregnant woman loses eye police shoot bean bag</td>\n",
       "      <td>respected senior french police officer investi...</td>\n",
       "    </tr>\n",
       "    <tr>\n",
       "      <th>3</th>\n",
       "      <td>We just found out the #Ferguson Protester who ...</td>\n",
       "      <td>unrelated</td>\n",
       "      <td>A RESPECTED senior French police officer inves...</td>\n",
       "      <td>False</td>\n",
       "      <td>found ferguson protester claim shot eye rubber...</td>\n",
       "      <td>respected senior french police officer investi...</td>\n",
       "    </tr>\n",
       "    <tr>\n",
       "      <th>4</th>\n",
       "      <td>Police Chief In Charge of Paris Attacks Commit...</td>\n",
       "      <td>discuss</td>\n",
       "      <td>A RESPECTED senior French police officer inves...</td>\n",
       "      <td>True</td>\n",
       "      <td>police chief charge paris attack commits suicide</td>\n",
       "      <td>respected senior french police officer investi...</td>\n",
       "    </tr>\n",
       "    <tr>\n",
       "      <th>...</th>\n",
       "      <td>...</td>\n",
       "      <td>...</td>\n",
       "      <td>...</td>\n",
       "      <td>...</td>\n",
       "      <td>...</td>\n",
       "      <td>...</td>\n",
       "    </tr>\n",
       "    <tr>\n",
       "      <th>25408</th>\n",
       "      <td>A Sign That Obamacare Exchanges Are Failing</td>\n",
       "      <td>disagree</td>\n",
       "      <td>Remember how much Republicans wanted to repeal...</td>\n",
       "      <td>True</td>\n",
       "      <td>sign obamacare exchange failing</td>\n",
       "      <td>remember much republican wanted repeal obamaca...</td>\n",
       "    </tr>\n",
       "    <tr>\n",
       "      <th>25409</th>\n",
       "      <td>Republicans call Obamacare a 'failure.' These ...</td>\n",
       "      <td>agree</td>\n",
       "      <td>Remember how much Republicans wanted to repeal...</td>\n",
       "      <td>True</td>\n",
       "      <td>republican call obamacare failure chart show c...</td>\n",
       "      <td>remember much republican wanted repeal obamaca...</td>\n",
       "    </tr>\n",
       "    <tr>\n",
       "      <th>25410</th>\n",
       "      <td>CBO’s Alternate Facts Show Obamacare is Unsust...</td>\n",
       "      <td>disagree</td>\n",
       "      <td>Remember how much Republicans wanted to repeal...</td>\n",
       "      <td>True</td>\n",
       "      <td>cbos alternate fact show obamacare unsustainable</td>\n",
       "      <td>remember much republican wanted repeal obamaca...</td>\n",
       "    </tr>\n",
       "    <tr>\n",
       "      <th>25411</th>\n",
       "      <td>Why Obamacare failed</td>\n",
       "      <td>disagree</td>\n",
       "      <td>Remember how much Republicans wanted to repeal...</td>\n",
       "      <td>True</td>\n",
       "      <td>obamacare failed</td>\n",
       "      <td>remember much republican wanted repeal obamaca...</td>\n",
       "    </tr>\n",
       "    <tr>\n",
       "      <th>25412</th>\n",
       "      <td>The success of the Affordable Care Act is a hu...</td>\n",
       "      <td>agree</td>\n",
       "      <td>Remember how much Republicans wanted to repeal...</td>\n",
       "      <td>True</td>\n",
       "      <td>success affordable care act hugely inconvenien...</td>\n",
       "      <td>remember much republican wanted repeal obamaca...</td>\n",
       "    </tr>\n",
       "  </tbody>\n",
       "</table>\n",
       "<p>25413 rows × 6 columns</p>\n",
       "</div>"
      ],
      "text/plain": [
       "                                                Headline     Stance  \\\n",
       "0      Ferguson riots: Pregnant woman loses eye after...  unrelated   \n",
       "1      Apple Stores to install safes to secure gold A...  unrelated   \n",
       "2      Pregnant woman loses eye after police shoot be...  unrelated   \n",
       "3      We just found out the #Ferguson Protester who ...  unrelated   \n",
       "4      Police Chief In Charge of Paris Attacks Commit...    discuss   \n",
       "...                                                  ...        ...   \n",
       "25408        A Sign That Obamacare Exchanges Are Failing   disagree   \n",
       "25409  Republicans call Obamacare a 'failure.' These ...      agree   \n",
       "25410  CBO’s Alternate Facts Show Obamacare is Unsust...   disagree   \n",
       "25411                               Why Obamacare failed   disagree   \n",
       "25412  The success of the Affordable Care Act is a hu...      agree   \n",
       "\n",
       "                                             articleBody  Related  \\\n",
       "0      A RESPECTED senior French police officer inves...    False   \n",
       "1      A RESPECTED senior French police officer inves...    False   \n",
       "2      A RESPECTED senior French police officer inves...    False   \n",
       "3      A RESPECTED senior French police officer inves...    False   \n",
       "4      A RESPECTED senior French police officer inves...     True   \n",
       "...                                                  ...      ...   \n",
       "25408  Remember how much Republicans wanted to repeal...     True   \n",
       "25409  Remember how much Republicans wanted to repeal...     True   \n",
       "25410  Remember how much Republicans wanted to repeal...     True   \n",
       "25411  Remember how much Republicans wanted to repeal...     True   \n",
       "25412  Remember how much Republicans wanted to repeal...     True   \n",
       "\n",
       "                                      Processed Headline  \\\n",
       "0      ferguson riot pregnant woman loses eye cop fir...   \n",
       "1       apple store install safe secure gold apple watch   \n",
       "2         pregnant woman loses eye police shoot bean bag   \n",
       "3      found ferguson protester claim shot eye rubber...   \n",
       "4       police chief charge paris attack commits suicide   \n",
       "...                                                  ...   \n",
       "25408                    sign obamacare exchange failing   \n",
       "25409  republican call obamacare failure chart show c...   \n",
       "25410   cbos alternate fact show obamacare unsustainable   \n",
       "25411                                   obamacare failed   \n",
       "25412  success affordable care act hugely inconvenien...   \n",
       "\n",
       "                                          Processed Body  \n",
       "0      respected senior french police officer investi...  \n",
       "1      respected senior french police officer investi...  \n",
       "2      respected senior french police officer investi...  \n",
       "3      respected senior french police officer investi...  \n",
       "4      respected senior french police officer investi...  \n",
       "...                                                  ...  \n",
       "25408  remember much republican wanted repeal obamaca...  \n",
       "25409  remember much republican wanted repeal obamaca...  \n",
       "25410  remember much republican wanted repeal obamaca...  \n",
       "25411  remember much republican wanted repeal obamaca...  \n",
       "25412  remember much republican wanted repeal obamaca...  \n",
       "\n",
       "[25413 rows x 6 columns]"
      ]
     },
     "execution_count": 38,
     "metadata": {},
     "output_type": "execute_result"
    }
   ],
   "source": [
    "test_df"
   ]
  },
  {
   "cell_type": "markdown",
   "id": "6be6f23a-0446-414f-b71c-f186fcf25ac7",
   "metadata": {},
   "source": [
    "# TF-IDF Feature Extraction\n",
    "We want to use the same features (TODO: experiment) for both the headlines and the bodies and concatenate them (TODO: experiment). We train the TF-IDF Vectoriser on the train_df only and then transform the val_df."
   ]
  },
  {
   "cell_type": "code",
   "execution_count": 39,
   "id": "8b6dc0a9-c606-468c-ad4f-f764dff568d7",
   "metadata": {
    "tags": []
   },
   "outputs": [],
   "source": [
    "train_text = (train_df[\"Processed Headline\"].values + train_df[\"Processed Body\"].values).astype(\"U\")"
   ]
  },
  {
   "cell_type": "code",
   "execution_count": 40,
   "id": "f1644ad5-56df-480d-8db0-fa2e96d618e5",
   "metadata": {
    "tags": []
   },
   "outputs": [
    {
     "data": {
      "text/html": [
       "<style>#sk-container-id-1 {color: black;background-color: white;}#sk-container-id-1 pre{padding: 0;}#sk-container-id-1 div.sk-toggleable {background-color: white;}#sk-container-id-1 label.sk-toggleable__label {cursor: pointer;display: block;width: 100%;margin-bottom: 0;padding: 0.3em;box-sizing: border-box;text-align: center;}#sk-container-id-1 label.sk-toggleable__label-arrow:before {content: \"▸\";float: left;margin-right: 0.25em;color: #696969;}#sk-container-id-1 label.sk-toggleable__label-arrow:hover:before {color: black;}#sk-container-id-1 div.sk-estimator:hover label.sk-toggleable__label-arrow:before {color: black;}#sk-container-id-1 div.sk-toggleable__content {max-height: 0;max-width: 0;overflow: hidden;text-align: left;background-color: #f0f8ff;}#sk-container-id-1 div.sk-toggleable__content pre {margin: 0.2em;color: black;border-radius: 0.25em;background-color: #f0f8ff;}#sk-container-id-1 input.sk-toggleable__control:checked~div.sk-toggleable__content {max-height: 200px;max-width: 100%;overflow: auto;}#sk-container-id-1 input.sk-toggleable__control:checked~label.sk-toggleable__label-arrow:before {content: \"▾\";}#sk-container-id-1 div.sk-estimator input.sk-toggleable__control:checked~label.sk-toggleable__label {background-color: #d4ebff;}#sk-container-id-1 div.sk-label input.sk-toggleable__control:checked~label.sk-toggleable__label {background-color: #d4ebff;}#sk-container-id-1 input.sk-hidden--visually {border: 0;clip: rect(1px 1px 1px 1px);clip: rect(1px, 1px, 1px, 1px);height: 1px;margin: -1px;overflow: hidden;padding: 0;position: absolute;width: 1px;}#sk-container-id-1 div.sk-estimator {font-family: monospace;background-color: #f0f8ff;border: 1px dotted black;border-radius: 0.25em;box-sizing: border-box;margin-bottom: 0.5em;}#sk-container-id-1 div.sk-estimator:hover {background-color: #d4ebff;}#sk-container-id-1 div.sk-parallel-item::after {content: \"\";width: 100%;border-bottom: 1px solid gray;flex-grow: 1;}#sk-container-id-1 div.sk-label:hover label.sk-toggleable__label {background-color: #d4ebff;}#sk-container-id-1 div.sk-serial::before {content: \"\";position: absolute;border-left: 1px solid gray;box-sizing: border-box;top: 0;bottom: 0;left: 50%;z-index: 0;}#sk-container-id-1 div.sk-serial {display: flex;flex-direction: column;align-items: center;background-color: white;padding-right: 0.2em;padding-left: 0.2em;position: relative;}#sk-container-id-1 div.sk-item {position: relative;z-index: 1;}#sk-container-id-1 div.sk-parallel {display: flex;align-items: stretch;justify-content: center;background-color: white;position: relative;}#sk-container-id-1 div.sk-item::before, #sk-container-id-1 div.sk-parallel-item::before {content: \"\";position: absolute;border-left: 1px solid gray;box-sizing: border-box;top: 0;bottom: 0;left: 50%;z-index: -1;}#sk-container-id-1 div.sk-parallel-item {display: flex;flex-direction: column;z-index: 1;position: relative;background-color: white;}#sk-container-id-1 div.sk-parallel-item:first-child::after {align-self: flex-end;width: 50%;}#sk-container-id-1 div.sk-parallel-item:last-child::after {align-self: flex-start;width: 50%;}#sk-container-id-1 div.sk-parallel-item:only-child::after {width: 0;}#sk-container-id-1 div.sk-dashed-wrapped {border: 1px dashed gray;margin: 0 0.4em 0.5em 0.4em;box-sizing: border-box;padding-bottom: 0.4em;background-color: white;}#sk-container-id-1 div.sk-label label {font-family: monospace;font-weight: bold;display: inline-block;line-height: 1.2em;}#sk-container-id-1 div.sk-label-container {text-align: center;}#sk-container-id-1 div.sk-container {/* jupyter's `normalize.less` sets `[hidden] { display: none; }` but bootstrap.min.css set `[hidden] { display: none !important; }` so we also need the `!important` here to be able to override the default hidden behavior on the sphinx rendered scikit-learn.org. See: https://github.com/scikit-learn/scikit-learn/issues/21755 */display: inline-block !important;position: relative;}#sk-container-id-1 div.sk-text-repr-fallback {display: none;}</style><div id=\"sk-container-id-1\" class=\"sk-top-container\"><div class=\"sk-text-repr-fallback\"><pre>TfidfVectorizer(decode_error=&#x27;ignore&#x27;, min_df=2)</pre><b>In a Jupyter environment, please rerun this cell to show the HTML representation or trust the notebook. <br />On GitHub, the HTML representation is unable to render, please try loading this page with nbviewer.org.</b></div><div class=\"sk-container\" hidden><div class=\"sk-item\"><div class=\"sk-estimator sk-toggleable\"><input class=\"sk-toggleable__control sk-hidden--visually\" id=\"sk-estimator-id-1\" type=\"checkbox\" checked><label for=\"sk-estimator-id-1\" class=\"sk-toggleable__label sk-toggleable__label-arrow\">TfidfVectorizer</label><div class=\"sk-toggleable__content\"><pre>TfidfVectorizer(decode_error=&#x27;ignore&#x27;, min_df=2)</pre></div></div></div></div></div>"
      ],
      "text/plain": [
       "TfidfVectorizer(decode_error='ignore', min_df=2)"
      ]
     },
     "execution_count": 40,
     "metadata": {},
     "output_type": "execute_result"
    }
   ],
   "source": [
    "train_text_tfidf = TfidfVectorizer(decode_error=\"ignore\", lowercase=True, min_df=2)\n",
    "train_text_tfidf.fit(train_text)"
   ]
  },
  {
   "cell_type": "code",
   "execution_count": 41,
   "id": "b7b467ca-b853-41be-a05e-3a3948dc62d7",
   "metadata": {
    "tags": []
   },
   "outputs": [],
   "source": [
    "train_headline_features = train_text_tfidf.transform(train_df[\"Processed Headline\"].values.astype(\"U\"))\n",
    "train_body_features = train_text_tfidf.transform(train_df[\"Processed Body\"].values.astype(\"U\"))"
   ]
  },
  {
   "cell_type": "code",
   "execution_count": 42,
   "id": "35a402a3-06a7-418b-9a6b-1ead17dc1c4f",
   "metadata": {
    "tags": []
   },
   "outputs": [
    {
     "name": "stdout",
     "output_type": "stream",
     "text": [
      "(40719, 26425)\n",
      "(40719, 26425)\n"
     ]
    }
   ],
   "source": [
    "print(train_headline_features.shape)\n",
    "print(train_body_features.shape)"
   ]
  },
  {
   "cell_type": "code",
   "execution_count": 43,
   "id": "026b7b78-6cdc-4505-98d7-98a0a4da4f16",
   "metadata": {
    "tags": []
   },
   "outputs": [
    {
     "data": {
      "text/plain": [
       "scipy.sparse._csr.csr_matrix"
      ]
     },
     "execution_count": 43,
     "metadata": {},
     "output_type": "execute_result"
    }
   ],
   "source": [
    "type(train_headline_features)"
   ]
  },
  {
   "cell_type": "code",
   "execution_count": 44,
   "id": "12496d08-239a-4fc3-9424-eb0dedfd1abf",
   "metadata": {
    "tags": []
   },
   "outputs": [],
   "source": [
    "train_input_features = scipy.sparse.hstack((train_headline_features, train_body_features))"
   ]
  },
  {
   "cell_type": "code",
   "execution_count": 45,
   "id": "7cb7f1f4-2d9a-42f5-9c4b-fce8132da34c",
   "metadata": {
    "tags": []
   },
   "outputs": [
    {
     "data": {
      "text/plain": [
       "(40719, 52850)"
      ]
     },
     "execution_count": 45,
     "metadata": {},
     "output_type": "execute_result"
    }
   ],
   "source": [
    "train_input_features.shape"
   ]
  },
  {
   "cell_type": "code",
   "execution_count": 46,
   "id": "fea6fdc6-8a91-46f9-be7b-a4146e529fcf",
   "metadata": {
    "tags": []
   },
   "outputs": [
    {
     "data": {
      "text/plain": [
       "(9253, 52850)"
      ]
     },
     "execution_count": 46,
     "metadata": {},
     "output_type": "execute_result"
    }
   ],
   "source": [
    "val_headline_features = train_text_tfidf.transform(val_df[\"Processed Headline\"].values.astype(\"U\"))\n",
    "val_body_features = train_text_tfidf.transform(val_df[\"Processed Body\"].values.astype(\"U\"))\n",
    "val_input_features = scipy.sparse.hstack((val_headline_features, val_body_features))\n",
    "val_input_features.shape"
   ]
  },
  {
   "cell_type": "markdown",
   "id": "085558b8-99d1-4fc4-872a-25c4c02ecfb2",
   "metadata": {},
   "source": [
    "# Standard ML Related-Unrelated Model\n",
    "Now, using these features we can train a model to classify pairs into related/unrelated"
   ]
  },
  {
   "cell_type": "code",
   "execution_count": 49,
   "id": "fe69d855-a6be-420e-b268-9405fdd3ec25",
   "metadata": {
    "tags": []
   },
   "outputs": [
    {
     "data": {
      "text/plain": [
       "(40719,)"
      ]
     },
     "execution_count": 49,
     "metadata": {},
     "output_type": "execute_result"
    }
   ],
   "source": [
    "m = lambda x: x #-1 if x == 0 else 1\n",
    "train_labels = np.array([m(x) for x in train_df[\"Related\"].values.astype(int)])# [:, np.newaxis]\n",
    "train_labels.shape"
   ]
  },
  {
   "cell_type": "code",
   "execution_count": 50,
   "id": "c0bd95af-3653-41ae-9ae2-5fdf701dcc51",
   "metadata": {
    "tags": []
   },
   "outputs": [
    {
     "data": {
      "text/plain": [
       "(9253,)"
      ]
     },
     "execution_count": 50,
     "metadata": {},
     "output_type": "execute_result"
    }
   ],
   "source": [
    "val_labels = np.array([m(x) for x in val_df[\"Related\"].values.astype(int)]) #val_df[\"Related\"].values.astype(int)\n",
    "val_labels.shape"
   ]
  },
  {
   "cell_type": "markdown",
   "id": "01e8806e-fae0-4803-baa2-c0f0beb378fb",
   "metadata": {},
   "source": [
    "## Evaluating Model Success"
   ]
  },
  {
   "cell_type": "code",
   "execution_count": 47,
   "id": "991af4a0-9b31-47ea-adc9-f234722f7182",
   "metadata": {
    "tags": []
   },
   "outputs": [],
   "source": [
    "# Create the confusion matrix - from Practical 1\n",
    "def plot_confusion_matrix(y_test, y_pred):\n",
    "    ''' Plot the confusion matrix for the target labels and predictions '''\n",
    "    cm = confusion_matrix(y_test, y_pred)\n",
    "\n",
    "    # Create a dataframe with the confusion matrix values\n",
    "    df_cm = pd.DataFrame(cm, range(cm.shape[0]),\n",
    "                  range(cm.shape[1]))\n",
    "\n",
    "    # Plot the confusion matrix\n",
    "    sns.set(font_scale=1.4) # for label size\n",
    "    sns.heatmap(df_cm, annot=True,fmt='.0f',cmap=\"YlGnBu\",annot_kws={\"size\": 10}) # font size\n",
    "    plt.show()"
   ]
  },
  {
   "cell_type": "code",
   "execution_count": 48,
   "id": "007d6fea-74fc-4bef-ad31-8729e8abaa33",
   "metadata": {
    "tags": []
   },
   "outputs": [],
   "source": [
    "# ROC Curve\n",
    "# plot no skill\n",
    "# Calculate the points in the ROC curve - from Practical 1\n",
    "def plot_roc_curve(y_test, y_pred):\n",
    "    ''' Plot the ROC curve for the target labels and predictions'''\n",
    "    fpr, tpr, thresholds = roc_curve(y_test, y_pred, pos_label=1)\n",
    "    roc_auc= auc(fpr,tpr)\n",
    "    plt.figure(figsize=(12, 12))\n",
    "    ax = plt.subplot(121)\n",
    "    ax.set_aspect(1)\n",
    "    \n",
    "    plt.title('Receiver Operating Characteristic')\n",
    "    plt.plot(fpr, tpr, 'b', label = 'AUC = %0.2f' % roc_auc)\n",
    "    plt.legend(loc = 'lower right')\n",
    "    plt.plot([0, 1], [0, 1],'r--')\n",
    "    plt.xlim([0, 1])\n",
    "    plt.ylim([0, 1])\n",
    "    plt.ylabel('True Positive Rate')\n",
    "    plt.xlabel('False Positive Rate')\n",
    "    plt.show()"
   ]
  },
  {
   "cell_type": "markdown",
   "id": "4968dd57-8c78-4066-9218-e4851d7e6973",
   "metadata": {},
   "source": [
    "## Naive Bayes\n",
    "From practical need to adapt more"
   ]
  },
  {
   "cell_type": "code",
   "execution_count": null,
   "id": "334b1295-22b9-4900-938a-0de241245818",
   "metadata": {
    "tags": []
   },
   "outputs": [],
   "source": [
    "from sklearn.naive_bayes import MultinomialNB\n",
    "\n",
    "# create the model, train it on the train dataset and print the scores\n",
    "model = MultinomialNB() # as implemented in sklearn\n",
    "model.fit(train_input_features, train_labels)\n",
    "print(\"Train score:\", model.score(train_input_features, train_labels))\n",
    "print(\"Validation score:\", model.score(val_input_features, val_labels))"
   ]
  },
  {
   "cell_type": "code",
   "execution_count": null,
   "id": "cfc1defe-2ebe-400a-bcd3-df4ad96d4d2d",
   "metadata": {
    "tags": []
   },
   "outputs": [],
   "source": [
    "# Predicting the Test set results\n",
    "y_pred = model.predict(val_input_features)\n",
    "\n",
    "#print the classification report to highlight the accuracy with f1-score, precision and recall\n",
    "print(metrics.classification_report(val_labels, y_pred))\n",
    "plot_confusion_matrix(val_labels, y_pred)\n",
    "plot_roc_curve(val_labels, y_pred)"
   ]
  },
  {
   "cell_type": "markdown",
   "id": "b534e4fd-3793-42fe-abd4-4abb0ca285a4",
   "metadata": {
    "tags": []
   },
   "source": [
    "## Gradient Boost"
   ]
  },
  {
   "cell_type": "code",
   "execution_count": 70,
   "id": "4f5cffc4-1da2-483b-b3a7-eaf8afcdafab",
   "metadata": {
    "tags": []
   },
   "outputs": [
    {
     "name": "stderr",
     "output_type": "stream",
     "text": [
      "F:\\Documents\\Development\\GitHub\\natural-language-processing-y4\\code\\env\\lib\\site-packages\\lightgbm\\sklearn.py:736: UserWarning: 'verbose' argument is deprecated and will be removed in a future release of LightGBM. Pass 'log_evaluation()' callback via 'callbacks' argument instead.\n",
      "  _log_warning(\"'verbose' argument is deprecated and will be removed in a future release of LightGBM. \"\n"
     ]
    },
    {
     "name": "stdout",
     "output_type": "stream",
     "text": [
      "[400]\tvalid_0's f1_score: 0.963099\tvalid_1's f1_score: 0.821463\n",
      "[800]\tvalid_0's f1_score: 0.991283\tvalid_1's f1_score: 0.884192\n",
      "[1200]\tvalid_0's f1_score: 0.997817\tvalid_1's f1_score: 0.923677\n",
      "train score: 0.9995579459220512\n",
      "val score: 0.9446665946179618\n"
     ]
    }
   ],
   "source": [
    "from lightgbm import LGBMClassifier\n",
    "from sklearn.metrics import f1_score\n",
    "\n",
    "def f1_metric(ytrue,preds):\n",
    "    ''' Return the F1 Score value for the preds and true values, ytrue '''\n",
    "    return 'f1_score', f1_score((preds>=0.5).astype('int'), ytrue, average='macro'), True\n",
    "\n",
    "# set the model parameters\n",
    "params = {\n",
    "    'learning_rate': 0.06,\n",
    "    'n_estimators': 1500,\n",
    "    'colsample_bytree': 0.5,\n",
    "    'metric': 'f1_score'\n",
    "}\n",
    "\n",
    "full_clf = LGBMClassifier(**params)\n",
    "\n",
    "# Fit or train the xgboost model\n",
    "full_clf.fit(train_input_features.astype(np.float32), train_labels, eval_set=[(train_input_features.astype(np.float32), train_labels), (val_input_features.astype(np.float32), val_labels)],\n",
    "             verbose=400, eval_metric=f1_metric)\n",
    "\n",
    "#Show the results\n",
    "print(\"train score:\", full_clf.score(train_input_features.astype(np.float32), train_labels))\n",
    "print(\"val score:\", full_clf.score(val_input_features.astype(np.float32), val_labels))"
   ]
  },
  {
   "cell_type": "code",
   "execution_count": 87,
   "id": "9f75c402-f221-48ec-9e20-340bb484db0b",
   "metadata": {
    "tags": []
   },
   "outputs": [
    {
     "name": "stdout",
     "output_type": "stream",
     "text": [
      "              precision    recall  f1-score   support\n",
      "\n",
      "           0       0.97      0.95      0.96      6351\n",
      "           1       0.89      0.94      0.91      2902\n",
      "\n",
      "    accuracy                           0.94      9253\n",
      "   macro avg       0.93      0.94      0.94      9253\n",
      "weighted avg       0.95      0.94      0.95      9253\n",
      "\n"
     ]
    },
    {
     "data": {
      "image/png": "[encoded data removed]",
      "text/plain": [
       "<Figure size 640x480 with 2 Axes>"
      ]
     },
     "metadata": {},
     "output_type": "display_data"
    },
    {
     "data": {
      "image/png": "[encoded data removed]",
      "text/plain": [
       "<Figure size 1200x1200 with 1 Axes>"
      ]
     },
     "metadata": {},
     "output_type": "display_data"
    }
   ],
   "source": [
    "# Predicting the Test set results\n",
    "y_pred = full_clf.predict(val_input_features.astype(np.float32))\n",
    "\n",
    "print(metrics.classification_report(val_labels, y_pred))\n",
    "plot_confusion_matrix(val_labels, y_pred)\n",
    "plot_roc_curve(val_labels, y_pred)"
   ]
  },
  {
   "cell_type": "markdown",
   "id": "5ac06abc-2510-4dcc-b914-06e139cebb7a",
   "metadata": {},
   "source": [
    "## Decision Tree"
   ]
  },
  {
   "cell_type": "code",
   "execution_count": null,
   "id": "4a91c8b0-52dd-4be6-aaad-a2817cb078f3",
   "metadata": {
    "tags": []
   },
   "outputs": [],
   "source": [
    "from sklearn.tree import DecisionTreeClassifier\n",
    "\n",
    "model = DecisionTreeClassifier()\n",
    "model.fit(train_input_features, train_labels)\n",
    "print(\"Train score:\", model.score(train_input_features, train_labels))\n",
    "print(\"Validation score:\", model.score(val_input_features, val_labels))"
   ]
  },
  {
   "cell_type": "code",
   "execution_count": null,
   "id": "7bdce5e7-5f30-492d-ab38-846236941f6b",
   "metadata": {
    "tags": []
   },
   "outputs": [],
   "source": [
    "# Predicting the Test set results\n",
    "y_pred = model.predict(val_input_features)\n",
    "\n",
    "#print the classification report to highlight the accuracy with f1-score, precision and recall\n",
    "print(metrics.classification_report(val_labels, y_pred))\n",
    "plot_confusion_matrix(val_labels, y_pred)\n",
    "plot_roc_curve(val_labels, y_pred)"
   ]
  },
  {
   "cell_type": "markdown",
   "id": "c0a8c246-4bf1-4696-a18f-8dabd15461f5",
   "metadata": {},
   "source": [
    "## Complement Naive Bayes\n",
    "Good for imbalanced datasets"
   ]
  },
  {
   "cell_type": "code",
   "execution_count": null,
   "id": "72878368-5295-4956-a752-837d97d0405f",
   "metadata": {
    "tags": []
   },
   "outputs": [],
   "source": [
    "from sklearn.naive_bayes import ComplementNB\n",
    "\n",
    "model = ComplementNB()\n",
    "model.fit(train_input_features, train_labels)\n",
    "print(\"Train score:\", model.score(train_input_features, train_labels))\n",
    "print(\"Validation score:\", model.score(val_input_features, val_labels))"
   ]
  },
  {
   "cell_type": "code",
   "execution_count": null,
   "id": "35292426-029b-4fa3-b293-a3c7692154f6",
   "metadata": {
    "tags": []
   },
   "outputs": [],
   "source": [
    "# Predicting the Test set results\n",
    "y_pred = model.predict(val_input_features)\n",
    "\n",
    "#print the classification report to highlight the accuracy with f1-score, precision and recall\n",
    "print(metrics.classification_report(val_labels, y_pred))\n",
    "plot_confusion_matrix(val_labels, y_pred)\n",
    "plot_roc_curve(val_labels, y_pred)"
   ]
  },
  {
   "cell_type": "markdown",
   "id": "81cb4038-3bc1-45a9-b88f-f4ef4345b525",
   "metadata": {},
   "source": [
    "## Random Forest"
   ]
  },
  {
   "cell_type": "code",
   "execution_count": null,
   "id": "834d5514-ade1-434a-b47c-e3373aaf0ff9",
   "metadata": {
    "tags": []
   },
   "outputs": [],
   "source": [
    "from sklearn.ensemble import RandomForestClassifier\n",
    "\n",
    "model = RandomForestClassifier()\n",
    "model.fit(train_input_features, train_labels)\n",
    "print(\"Train score:\", model.score(train_input_features, train_labels))\n",
    "print(\"Validation score:\", model.score(val_input_features, val_labels))"
   ]
  },
  {
   "cell_type": "code",
   "execution_count": null,
   "id": "cc774f35-bb8b-45a6-a245-991401685d37",
   "metadata": {
    "tags": []
   },
   "outputs": [],
   "source": [
    "# Predicting the Test set results\n",
    "y_pred = model.predict(val_input_features)\n",
    "\n",
    "#print the classification report to highlight the accuracy with f1-score, precision and recall\n",
    "print(metrics.classification_report(val_labels, y_pred))\n",
    "plot_confusion_matrix(val_labels, y_pred)\n",
    "plot_roc_curve(val_labels, y_pred)"
   ]
  },
  {
   "cell_type": "markdown",
   "id": "4a8e2a5a-159b-42c9-84a3-de1193c62622",
   "metadata": {},
   "source": [
    "## Voting Classifier"
   ]
  },
  {
   "cell_type": "markdown",
   "id": "dce0d2d8-e414-47d7-a52a-f85c01d5b7f9",
   "metadata": {},
   "source": [
    "# Deep Learning Related/Unrelated Model"
   ]
  },
  {
   "cell_type": "code",
   "execution_count": 88,
   "id": "514ce9c4-2435-4f13-91dd-17d816a5443b",
   "metadata": {
    "tags": []
   },
   "outputs": [],
   "source": [
    "device = \"cuda\""
   ]
  },
  {
   "cell_type": "code",
   "execution_count": 89,
   "id": "5370c9ae-06d0-460d-94e0-4478919bd4ba",
   "metadata": {
    "tags": []
   },
   "outputs": [],
   "source": [
    "create_classifier_model = lambda inp_dim: nn.Sequential(*[\n",
    "    nn.Linear(inp_dim, 1024),\n",
    "    nn.Dropout(0.2),\n",
    "    nn.ReLU(),\n",
    "    nn.Linear(1024, 512),\n",
    "    nn.Dropout(0.2),\n",
    "    nn.ReLU(),\n",
    "    nn.Linear(512, 256),\n",
    "    nn.Dropout(0.2),\n",
    "    nn.ReLU(),\n",
    "    nn.Linear(256, 128),\n",
    "    nn.Dropout(0.2),\n",
    "    nn.ReLU(),\n",
    "    nn.Linear(128, 1)\n",
    "])"
   ]
  },
  {
   "cell_type": "code",
   "execution_count": 90,
   "id": "10d89c3d-938d-4fca-a2b4-1ff94846493e",
   "metadata": {
    "tags": []
   },
   "outputs": [],
   "source": [
    "inp_dim = train_input_features.shape[1]"
   ]
  },
  {
   "cell_type": "code",
   "execution_count": 91,
   "id": "063be552-483e-41d5-977d-99cc6d4e38c3",
   "metadata": {
    "tags": []
   },
   "outputs": [],
   "source": [
    "classifier_model = create_classifier_model(inp_dim).to(device)"
   ]
  },
  {
   "cell_type": "code",
   "execution_count": 92,
   "id": "fe34249e-3feb-4183-9e6d-0604c3599d10",
   "metadata": {
    "tags": []
   },
   "outputs": [
    {
     "data": {
      "text/plain": [
       "Sequential(\n",
       "  (0): Linear(in_features=52850, out_features=1024, bias=True)\n",
       "  (1): Dropout(p=0.2, inplace=False)\n",
       "  (2): ReLU()\n",
       "  (3): Linear(in_features=1024, out_features=512, bias=True)\n",
       "  (4): Dropout(p=0.2, inplace=False)\n",
       "  (5): ReLU()\n",
       "  (6): Linear(in_features=512, out_features=256, bias=True)\n",
       "  (7): Dropout(p=0.2, inplace=False)\n",
       "  (8): ReLU()\n",
       "  (9): Linear(in_features=256, out_features=128, bias=True)\n",
       "  (10): Dropout(p=0.2, inplace=False)\n",
       "  (11): ReLU()\n",
       "  (12): Linear(in_features=128, out_features=1, bias=True)\n",
       ")"
      ]
     },
     "execution_count": 92,
     "metadata": {},
     "output_type": "execute_result"
    }
   ],
   "source": [
    "classifier_model"
   ]
  },
  {
   "cell_type": "code",
   "execution_count": 93,
   "id": "384f2fd1-d563-49ff-8a7d-51a465aab35b",
   "metadata": {
    "tags": []
   },
   "outputs": [
    {
     "name": "stdout",
     "output_type": "stream",
     "text": [
      "----------------------------------------------------------------\n",
      "        Layer (type)               Output Shape         Param #\n",
      "================================================================\n",
      "            Linear-1                 [-1, 1024]      54,119,424\n",
      "           Dropout-2                 [-1, 1024]               0\n",
      "              ReLU-3                 [-1, 1024]               0\n",
      "            Linear-4                  [-1, 512]         524,800\n",
      "           Dropout-5                  [-1, 512]               0\n",
      "              ReLU-6                  [-1, 512]               0\n",
      "            Linear-7                  [-1, 256]         131,328\n",
      "           Dropout-8                  [-1, 256]               0\n",
      "              ReLU-9                  [-1, 256]               0\n",
      "           Linear-10                  [-1, 128]          32,896\n",
      "          Dropout-11                  [-1, 128]               0\n",
      "             ReLU-12                  [-1, 128]               0\n",
      "           Linear-13                    [-1, 1]             129\n",
      "================================================================\n",
      "Total params: 54,808,577\n",
      "Trainable params: 54,808,577\n",
      "Non-trainable params: 0\n",
      "----------------------------------------------------------------\n",
      "Input size (MB): 0.20\n",
      "Forward/backward pass size (MB): 0.04\n",
      "Params size (MB): 209.08\n",
      "Estimated Total Size (MB): 209.32\n",
      "----------------------------------------------------------------\n"
     ]
    }
   ],
   "source": [
    "torchsummary.summary(classifier_model, (inp_dim,))"
   ]
  },
  {
   "cell_type": "code",
   "execution_count": 94,
   "id": "91712248-7a3e-4024-882d-7aa9010fb0da",
   "metadata": {
    "tags": []
   },
   "outputs": [
    {
     "data": {
      "text/plain": [
       "tensor([0.6743, 1.9344], dtype=torch.float64)"
      ]
     },
     "execution_count": 94,
     "metadata": {},
     "output_type": "execute_result"
    }
   ],
   "source": [
    "unique_class_labels = np.unique(train_labels)\n",
    "class_weights = compute_class_weight(\"balanced\", classes=unique_class_labels, y=train_labels)\n",
    "class_weights = torch.from_numpy(class_weights)\n",
    "class_weights"
   ]
  },
  {
   "cell_type": "code",
   "execution_count": 95,
   "id": "9deecf77-9908-4b00-96e3-40488c29c91d",
   "metadata": {
    "tags": []
   },
   "outputs": [],
   "source": [
    "# loss_func = nn.BCELoss()\n",
    "opt = optim.Adam(classifier_model.parameters(), lr=1e-3)"
   ]
  },
  {
   "cell_type": "code",
   "execution_count": 96,
   "id": "d166856e-646c-47c5-a90a-e29f25e3d1db",
   "metadata": {
    "tags": []
   },
   "outputs": [],
   "source": [
    "batch_size = 64\n",
    "apply_loss_weighting = False"
   ]
  },
  {
   "cell_type": "code",
   "execution_count": 97,
   "id": "7874f254-aa05-49a7-835d-60741e0f1492",
   "metadata": {
    "tags": []
   },
   "outputs": [],
   "source": [
    "coo = train_input_features.tocoo()\n",
    "train_input_features_tensor = torch.sparse.FloatTensor(torch.LongTensor(np.vstack((coo.row, coo.col))), torch.FloatTensor(coo.data), torch.Size(coo.shape))\n",
    "train_labels_tensor = torch.FloatTensor(train_labels).unsqueeze(1)"
   ]
  },
  {
   "cell_type": "code",
   "execution_count": 98,
   "id": "92546c8c-a480-4c15-bc94-5359e0a255bc",
   "metadata": {
    "tags": []
   },
   "outputs": [],
   "source": [
    "coo = val_input_features.tocoo()\n",
    "val_input_features_tensor = torch.sparse.FloatTensor(torch.LongTensor(np.vstack((coo.row, coo.col))), torch.FloatTensor(coo.data), torch.Size(coo.shape))\n",
    "val_labels_tensor = torch.FloatTensor(val_labels).unsqueeze(1)"
   ]
  },
  {
   "cell_type": "code",
   "execution_count": 99,
   "id": "91cc43da-585d-4b93-98dc-acc687db3bc7",
   "metadata": {
    "tags": []
   },
   "outputs": [],
   "source": [
    "tfidf_train_dataset = torch.utils.data.TensorDataset(train_input_features_tensor, train_labels_tensor)\n",
    "tfidf_train_dataloader = torch.utils.data.DataLoader(tfidf_train_dataset, batch_size=batch_size, shuffle=True)"
   ]
  },
  {
   "cell_type": "code",
   "execution_count": 100,
   "id": "6349922f-b46c-4da8-a7c8-ebc8d98eed9f",
   "metadata": {
    "tags": []
   },
   "outputs": [],
   "source": [
    "tfidf_val_dataset = torch.utils.data.TensorDataset(val_input_features_tensor, val_labels_tensor)\n",
    "tfidf_val_dataloader = torch.utils.data.DataLoader(tfidf_val_dataset, batch_size=batch_size * 32, shuffle=False)"
   ]
  },
  {
   "cell_type": "code",
   "execution_count": 101,
   "id": "bee48963-fabc-49a9-8a27-08ae5f21d9d9",
   "metadata": {
    "tags": []
   },
   "outputs": [],
   "source": [
    "def evaluate_model(model, dataloader, labels, apply_loss_weighting):\n",
    "    if not apply_loss_weighting:\n",
    "        loss_func = nn.BCEWithLogitsLoss()\n",
    "    \n",
    "    with torch.no_grad():\n",
    "        model.eval()\n",
    "        \n",
    "        all_pred = np.array([])\n",
    "        total_loss = 0\n",
    "        \n",
    "        for inp, labels in tqdm(dataloader):\n",
    "            inp = inp.to_dense().to(device)\n",
    "            labels = labels.to(device)\n",
    "            \n",
    "            loss_weights = torch.zeros_like(labels)\n",
    "            loss_weights[labels == 0] = class_weights[0]\n",
    "            loss_weights[labels == 1] = class_weights[1]\n",
    "            loss_func = nn.BCEWithLogitsLoss(weight=loss_weights)\n",
    "        \n",
    "            pred = model(inp)\n",
    "            loss = loss_func(pred, labels.float())\n",
    "            pred = torch.sigmoid(pred)\n",
    "            \n",
    "            all_pred = np.concatenate([all_pred, pred.cpu().round().numpy().squeeze()])\n",
    "            total_loss += loss.item()\n",
    "        \n",
    "        model.train()\n",
    "    \n",
    "    return all_pred, total_loss / len(dataloader)"
   ]
  },
  {
   "cell_type": "code",
   "execution_count": 102,
   "id": "d80e1cff-5a70-42d8-b7c2-5dbc07752332",
   "metadata": {
    "tags": []
   },
   "outputs": [
    {
     "data": {
      "application/vnd.jupyter.widget-view+json": {
       "model_id": "4089f970ca444210a19677acd0d5a68b",
       "version_major": 2,
       "version_minor": 0
      },
      "text/plain": [
       "  0%|          | 0/637 [00:00<?, ?it/s]"
      ]
     },
     "metadata": {},
     "output_type": "display_data"
    },
    {
     "name": "stdout",
     "output_type": "stream",
     "text": [
      "[1:40] Loss: 0.579\n",
      "[1:80] Loss: 0.494\n",
      "[1:120] Loss: 0.470\n",
      "[1:160] Loss: 0.392\n",
      "[1:200] Loss: 0.307\n",
      "[1:240] Loss: 0.264\n",
      "[1:280] Loss: 0.191\n",
      "[1:320] Loss: 0.195\n",
      "[1:360] Loss: 0.151\n",
      "[1:400] Loss: 0.143\n",
      "[1:440] Loss: 0.131\n",
      "[1:480] Loss: 0.127\n",
      "[1:520] Loss: 0.096\n",
      "[1:560] Loss: 0.086\n",
      "[1:600] Loss: 0.088\n",
      "[1:END] Took 181.539s\n",
      "[1:END] Training Loss: 0.004\n"
     ]
    },
    {
     "data": {
      "application/vnd.jupyter.widget-view+json": {
       "model_id": "e649515c7aaa4ba9af79718656036326",
       "version_major": 2,
       "version_minor": 0
      },
      "text/plain": [
       "  0%|          | 0/5 [00:00<?, ?it/s]"
      ]
     },
     "metadata": {},
     "output_type": "display_data"
    },
    {
     "name": "stdout",
     "output_type": "stream",
     "text": [
      "[1:END] Validation Loss: 0.153\n",
      "[1:END] Validation Accuracy: 93.008%\n",
      "              precision    recall  f1-score   support\n",
      "\n",
      "           0       0.99      0.91      0.95      6351\n",
      "           1       0.83      0.97      0.90      2902\n",
      "\n",
      "    accuracy                           0.93      9253\n",
      "   macro avg       0.91      0.94      0.92      9253\n",
      "weighted avg       0.94      0.93      0.93      9253\n",
      "\n"
     ]
    },
    {
     "data": {
      "image/png": "[encoded data removed]",
      "text/plain": [
       "<Figure size 640x480 with 2 Axes>"
      ]
     },
     "metadata": {},
     "output_type": "display_data"
    },
    {
     "data": {
      "image/png": "[encoded data removed]",
      "text/plain": [
       "<Figure size 1200x1200 with 1 Axes>"
      ]
     },
     "metadata": {},
     "output_type": "display_data"
    },
    {
     "name": "stdout",
     "output_type": "stream",
     "text": [
      "[1:END] Validation loss improved, saved model to ./runs/1678816441.1977248_no_weight/model_1.pth\n"
     ]
    },
    {
     "data": {
      "application/vnd.jupyter.widget-view+json": {
       "model_id": "23dc6cb8ea554738963a1639cff06cf6",
       "version_major": 2,
       "version_minor": 0
      },
      "text/plain": [
       "  0%|          | 0/637 [00:00<?, ?it/s]"
      ]
     },
     "metadata": {},
     "output_type": "display_data"
    },
    {
     "name": "stdout",
     "output_type": "stream",
     "text": [
      "[2:40] Loss: 0.049\n",
      "[2:80] Loss: 0.045\n",
      "[2:120] Loss: 0.054\n",
      "[2:160] Loss: 0.039\n",
      "[2:200] Loss: 0.052\n",
      "[2:240] Loss: 0.051\n",
      "[2:280] Loss: 0.044\n",
      "[2:320] Loss: 0.048\n",
      "[2:360] Loss: 0.033\n",
      "[2:400] Loss: 0.050\n",
      "[2:440] Loss: 0.033\n",
      "[2:480] Loss: 0.027\n",
      "[2:520] Loss: 0.041\n",
      "[2:560] Loss: 0.046\n",
      "[2:600] Loss: 0.048\n",
      "[2:END] Took 180.959s\n",
      "[2:END] Training Loss: 0.001\n"
     ]
    },
    {
     "data": {
      "application/vnd.jupyter.widget-view+json": {
       "model_id": "caf782d50d904d568d26df478c505362",
       "version_major": 2,
       "version_minor": 0
      },
      "text/plain": [
       "  0%|          | 0/5 [00:00<?, ?it/s]"
      ]
     },
     "metadata": {},
     "output_type": "display_data"
    },
    {
     "name": "stdout",
     "output_type": "stream",
     "text": [
      "[2:END] Validation Loss: 0.105\n",
      "[2:END] Validation Accuracy: 96.801%\n",
      "              precision    recall  f1-score   support\n",
      "\n",
      "           0       0.98      0.97      0.98      6351\n",
      "           1       0.94      0.96      0.95      2902\n",
      "\n",
      "    accuracy                           0.97      9253\n",
      "   macro avg       0.96      0.97      0.96      9253\n",
      "weighted avg       0.97      0.97      0.97      9253\n",
      "\n"
     ]
    },
    {
     "data": {
      "image/png": "[encoded data removed]",
      "text/plain": [
       "<Figure size 640x480 with 2 Axes>"
      ]
     },
     "metadata": {},
     "output_type": "display_data"
    },
    {
     "data": {
      "image/png": "[encoded data removed]",
      "text/plain": [
       "<Figure size 1200x1200 with 1 Axes>"
      ]
     },
     "metadata": {},
     "output_type": "display_data"
    },
    {
     "name": "stdout",
     "output_type": "stream",
     "text": [
      "[2:END] Validation loss improved, saved model to ./runs/1678816441.1977248_no_weight/model_2.pth\n"
     ]
    },
    {
     "data": {
      "application/vnd.jupyter.widget-view+json": {
       "model_id": "96411a9e1643435b9d1aa9274547f6c6",
       "version_major": 2,
       "version_minor": 0
      },
      "text/plain": [
       "  0%|          | 0/637 [00:00<?, ?it/s]"
      ]
     },
     "metadata": {},
     "output_type": "display_data"
    },
    {
     "name": "stdout",
     "output_type": "stream",
     "text": [
      "[3:40] Loss: 0.025\n",
      "[3:80] Loss: 0.015\n",
      "[3:120] Loss: 0.015\n",
      "[3:160] Loss: 0.015\n",
      "[3:200] Loss: 0.017\n",
      "[3:240] Loss: 0.014\n",
      "[3:280] Loss: 0.022\n",
      "[3:320] Loss: 0.022\n",
      "[3:360] Loss: 0.013\n",
      "[3:400] Loss: 0.018\n",
      "[3:440] Loss: 0.020\n",
      "[3:480] Loss: 0.016\n",
      "[3:520] Loss: 0.016\n",
      "[3:560] Loss: 0.018\n",
      "[3:600] Loss: 0.018\n",
      "[3:END] Took 182.450s\n",
      "[3:END] Training Loss: 0.000\n"
     ]
    },
    {
     "data": {
      "application/vnd.jupyter.widget-view+json": {
       "model_id": "6b8143b7765041aca66fac06c50a57ab",
       "version_major": 2,
       "version_minor": 0
      },
      "text/plain": [
       "  0%|          | 0/5 [00:00<?, ?it/s]"
      ]
     },
     "metadata": {},
     "output_type": "display_data"
    },
    {
     "name": "stdout",
     "output_type": "stream",
     "text": [
      "[3:END] Validation Loss: 0.120\n",
      "[3:END] Validation Accuracy: 94.413%\n",
      "              precision    recall  f1-score   support\n",
      "\n",
      "           0       0.99      0.92      0.96      6351\n",
      "           1       0.86      0.99      0.92      2902\n",
      "\n",
      "    accuracy                           0.94      9253\n",
      "   macro avg       0.93      0.96      0.94      9253\n",
      "weighted avg       0.95      0.94      0.95      9253\n",
      "\n"
     ]
    },
    {
     "data": {
      "image/png": "[encoded data removed]",
      "text/plain": [
       "<Figure size 640x480 with 2 Axes>"
      ]
     },
     "metadata": {},
     "output_type": "display_data"
    },
    {
     "data": {
      "image/png": "[encoded data removed]",
      "text/plain": [
       "<Figure size 1200x1200 with 1 Axes>"
      ]
     },
     "metadata": {},
     "output_type": "display_data"
    },
    {
     "data": {
      "application/vnd.jupyter.widget-view+json": {
       "model_id": "aa2161c0dcc74e93b5b306833500ec81",
       "version_major": 2,
       "version_minor": 0
      },
      "text/plain": [
       "  0%|          | 0/637 [00:00<?, ?it/s]"
      ]
     },
     "metadata": {},
     "output_type": "display_data"
    },
    {
     "name": "stdout",
     "output_type": "stream",
     "text": [
      "[4:40] Loss: 0.011\n",
      "[4:80] Loss: 0.004\n",
      "[4:120] Loss: 0.007\n",
      "[4:160] Loss: 0.005\n",
      "[4:200] Loss: 0.014\n",
      "[4:240] Loss: 0.006\n",
      "[4:280] Loss: 0.010\n",
      "[4:320] Loss: 0.010\n",
      "[4:360] Loss: 0.007\n",
      "[4:400] Loss: 0.007\n",
      "[4:440] Loss: 0.002\n",
      "[4:480] Loss: 0.011\n",
      "[4:520] Loss: 0.008\n",
      "[4:560] Loss: 0.004\n",
      "[4:600] Loss: 0.016\n",
      "[4:END] Took 181.759s\n",
      "[4:END] Training Loss: 0.000\n"
     ]
    },
    {
     "data": {
      "application/vnd.jupyter.widget-view+json": {
       "model_id": "c7a08cde1c184beb999daa7ae7c6c759",
       "version_major": 2,
       "version_minor": 0
      },
      "text/plain": [
       "  0%|          | 0/5 [00:00<?, ?it/s]"
      ]
     },
     "metadata": {},
     "output_type": "display_data"
    },
    {
     "name": "stdout",
     "output_type": "stream",
     "text": [
      "[4:END] Validation Loss: 0.121\n",
      "[4:END] Validation Accuracy: 96.747%\n",
      "              precision    recall  f1-score   support\n",
      "\n",
      "           0       0.99      0.97      0.98      6351\n",
      "           1       0.93      0.97      0.95      2902\n",
      "\n",
      "    accuracy                           0.97      9253\n",
      "   macro avg       0.96      0.97      0.96      9253\n",
      "weighted avg       0.97      0.97      0.97      9253\n",
      "\n"
     ]
    },
    {
     "data": {
      "image/png": "[encoded data removed]",
      "text/plain": [
       "<Figure size 640x480 with 2 Axes>"
      ]
     },
     "metadata": {},
     "output_type": "display_data"
    },
    {
     "data": {
      "image/png": "[encoded data removed]",
      "text/plain": [
       "<Figure size 1200x1200 with 1 Axes>"
      ]
     },
     "metadata": {},
     "output_type": "display_data"
    },
    {
     "name": "stdout",
     "output_type": "stream",
     "text": [
      "[END] Stopping early as validation loss hasn't improved in 2 epochs\n",
      "Training complete\n"
     ]
    }
   ],
   "source": [
    "best_validation_loss = 1e9\n",
    "save_path = f\"./runs/{time.time()}_{'weighted' if apply_loss_weighting else 'no_weight'}\"\n",
    "epochs_since_best_validation = 0\n",
    "\n",
    "os.makedirs(save_path, exist_ok=True)\n",
    "\n",
    "if not apply_loss_weighting:\n",
    "    loss_func = nn.BCEWithLogitsLoss()\n",
    "\n",
    "for epoch in range(1, 101):\n",
    "    epoch_st = time.time()\n",
    "    epoch_loss = 0\n",
    "    \n",
    "    batch_acc_loss = 0\n",
    "    \n",
    "    for batch_no, (inp, labels) in enumerate(tqdm(tfidf_train_dataloader)):\n",
    "        inp = inp.to_dense().to(device)\n",
    "        labels = labels.to(device)\n",
    "        \n",
    "        if apply_loss_weighting:\n",
    "            loss_weights = torch.zeros_like(labels)\n",
    "            loss_weights[labels == 0] = class_weights[0]\n",
    "            loss_weights[labels == 1] = class_weights[1]\n",
    "            loss_func = nn.BCEWithLogitsLoss(weight=loss_weights)\n",
    "        \n",
    "        predictions = classifier_model(inp)\n",
    "        loss = loss_func(predictions, labels.float())\n",
    "        \n",
    "        opt.zero_grad()\n",
    "        loss.backward()\n",
    "        opt.step()\n",
    "        \n",
    "        epoch_loss += loss.item()\n",
    "        batch_acc_loss += loss.item()\n",
    "        \n",
    "        if batch_no != 0 and batch_no % 40 == 0:\n",
    "            print(f\"[{epoch}:{batch_no}] Loss: {(batch_acc_loss / 40):.3f}\")\n",
    "            batch_acc_loss = 0\n",
    "    \n",
    "    epoch_dt = time.time() - epoch_st\n",
    "    print(f\"[{epoch}:END] Took {epoch_dt:.3f}s\")\n",
    "    print(f\"[{epoch}:END] Training Loss: {(epoch_loss / len(tfidf_train_dataloader)):.3f}\")\n",
    "    \n",
    "    validation_pred, avg_validation_loss = evaluate_model(classifier_model, tfidf_val_dataloader, val_labels, apply_loss_weighting)\n",
    "    print(f\"[{epoch}:END] Validation Loss: {avg_validation_loss:.3f}\")\n",
    "    print(f\"[{epoch}:END] Validation Accuracy: {(validation_pred == val_labels).mean() * 100:.3f}%\")\n",
    "    \n",
    "    print(metrics.classification_report(val_labels, validation_pred))\n",
    "    plot_confusion_matrix(val_labels, validation_pred)\n",
    "    plot_roc_curve(val_labels, validation_pred)\n",
    "    \n",
    "    epochs_since_best_validation += 1\n",
    "    \n",
    "    if avg_validation_loss < best_validation_loss:\n",
    "        epochs_since_best_validation = 0\n",
    "        best_validation_loss = avg_validation_loss\n",
    "        torch.save(classifier_model.state_dict(), f\"{save_path}/model_{epoch}.pth\")\n",
    "        print(f\"[{epoch}:END] Validation loss improved, saved model to {save_path}/model_{epoch}.pth\")\n",
    "    \n",
    "    if epochs_since_best_validation >= 2:\n",
    "        print(f\"[END] Stopping early as validation loss hasn't improved in 2 epochs\")\n",
    "        break\n",
    "        \n",
    "print(\"Training complete\")"
   ]
  },
  {
   "cell_type": "code",
   "execution_count": null,
   "id": "852c49cd-4b4c-4c45-8a95-a012a4e6eea7",
   "metadata": {},
   "outputs": [],
   "source": []
  },
  {
   "cell_type": "code",
   "execution_count": null,
   "id": "b5d5e4a1-966f-4142-a56d-f5440bc3529e",
   "metadata": {},
   "outputs": [],
   "source": []
  }
 ],
 "metadata": {
  "kernelspec": {
   "display_name": "Python 3 (ipykernel)",
   "language": "python",
   "name": "python3"
  },
  "language_info": {
   "codemirror_mode": {
    "name": "ipython",
    "version": 3
   },
   "file_extension": ".py",
   "mimetype": "text/x-python",
   "name": "python",
   "nbconvert_exporter": "python",
   "pygments_lexer": "ipython3",
   "version": "3.10.7"
  }
 },
 "nbformat": 4,
 "nbformat_minor": 5
}
