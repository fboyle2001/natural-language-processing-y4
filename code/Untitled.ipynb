{
 "cells": [
  {
   "cell_type": "code",
   "execution_count": 3,
   "id": "ad4b0154-ee50-49bf-aec9-48e08ddaad9e",
   "metadata": {
    "tags": []
   },
   "outputs": [],
   "source": [
    "import pandas as pd\n",
    "import matplotlib.pyplot as plt\n",
    "\n",
    "import torch\n",
    "import torch.nn\n",
    "import torch.optim\n",
    "\n",
    "from transformers import BertTokenizer, BertModel"
   ]
  },
  {
   "cell_type": "code",
   "execution_count": 2,
   "id": "cd3a61b7-d01e-46c7-8083-ce971190c53a",
   "metadata": {
    "tags": []
   },
   "outputs": [],
   "source": [
    "bert_model_name = \"bert-base-uncased\""
   ]
  },
  {
   "cell_type": "code",
   "execution_count": 4,
   "id": "92548201-7588-4c27-b814-ab914cc3323e",
   "metadata": {
    "tags": []
   },
   "outputs": [
    {
     "name": "stderr",
     "output_type": "stream",
     "text": [
      "Downloading (…)solve/main/vocab.txt: 100%|████████████████████████████████████████████████████████████████████████████████████████████████████████████████████████████████████| 232k/232k [00:00<00:00, 822kB/s]\n",
      "Downloading (…)okenizer_config.json: 100%|███████████████████████████████████████████████████████████████████████████████████████████████████████████████████████████████████| 28.0/28.0 [00:00<00:00, 28.0kB/s]\n",
      "Downloading (…)lve/main/config.json: 100%|██████████████████████████████████████████████████████████████████████████████████████████████████████████████████████████████████████| 570/570 [00:00<00:00, 555kB/s]\n"
     ]
    },
    {
     "data": {
      "text/plain": [
       "30522"
      ]
     },
     "execution_count": 4,
     "metadata": {},
     "output_type": "execute_result"
    }
   ],
   "source": [
    "tokeniser = BertTokenizer.from_pretrained(bert_model_name)\n",
    "len(tokeniser.vocab)"
   ]
  },
  {
   "cell_type": "code",
   "execution_count": 6,
   "id": "1de5b9d0-ce15-473b-9266-8986dd159947",
   "metadata": {
    "tags": []
   },
   "outputs": [
    {
     "data": {
      "text/plain": [
       "512"
      ]
     },
     "execution_count": 6,
     "metadata": {},
     "output_type": "execute_result"
    }
   ],
   "source": [
    "max_input_tokens = tokeniser.max_model_input_sizes[bert_model_name]\n",
    "max_input_tokens"
   ]
  },
  {
   "cell_type": "code",
   "execution_count": 7,
   "id": "1f480040-39db-46ea-b55e-d98b0b7e5f9d",
   "metadata": {
    "tags": []
   },
   "outputs": [],
   "source": [
    "bodies_df = pd.read_csv(\"./dataset/train_bodies.csv\")\n",
    "stances_df = pd.read_csv(\"./dataset/train_stances.csv\")"
   ]
  },
  {
   "cell_type": "code",
   "execution_count": 12,
   "id": "de97da11-aefd-4a6a-806a-e8fb517b47d5",
   "metadata": {
    "tags": []
   },
   "outputs": [
    {
     "data": {
      "text/plain": [
       "ISIL Beheads American Photojournalist in Iraq                                                      127\n",
       "WHO says reports of suspected Ebola cases in Iraq are untrue                                       124\n",
       "James Foley remembered as 'brave and tireless' journalist                                          121\n",
       "Islamic Militants Post Video Claiming to Show Beheading of U.S. Journalist                         118\n",
       "US officials: Video shows American's execution                                                     112\n",
       "                                                                                                  ... \n",
       "Apple hopes to sell over 50 million watches in 2015                                                  2\n",
       "Mom Calls 911 On Masturbating Teenage Son; Boy Arrested, Charged With New ‘Self-Rape’ State Law      2\n",
       "Federal Judge: Enough With the Stupid Names                                                          2\n",
       "Sushi lover's entire body left riddled with WORMS after eating contaminated sashimi                  2\n",
       "Apple Watch Takes Two Hours to Charge, Only Delivers Notifications While on the Wrist                2\n",
       "Name: Headline, Length: 1648, dtype: int64"
      ]
     },
     "execution_count": 12,
     "metadata": {},
     "output_type": "execute_result"
    }
   ],
   "source": [
    "stances_df[\"Headline\"].value_counts()"
   ]
  },
  {
   "cell_type": "code",
   "execution_count": null,
   "id": "761165de-88e1-4a00-a9f4-e0339cb773a9",
   "metadata": {},
   "outputs": [],
   "source": []
  }
 ],
 "metadata": {
  "kernelspec": {
   "display_name": "Python 3 (ipykernel)",
   "language": "python",
   "name": "python3"
  },
  "language_info": {
   "codemirror_mode": {
    "name": "ipython",
    "version": 3
   },
   "file_extension": ".py",
   "mimetype": "text/x-python",
   "name": "python",
   "nbconvert_exporter": "python",
   "pygments_lexer": "ipython3",
   "version": "3.10.7"
  }
 },
 "nbformat": 4,
 "nbformat_minor": 5
}
