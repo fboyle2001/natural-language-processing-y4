{
 "cells": [
  {
   "cell_type": "code",
   "execution_count": 59,
   "id": "2b8c1975-f4d8-4796-99a7-fee8e3db62c9",
   "metadata": {
    "tags": []
   },
   "outputs": [],
   "source": [
    "import pandas as pd\n",
    "import matplotlib.pyplot as plt\n",
    "import seaborn as sns\n",
    "import random\n",
    "\n",
    "from sklearn.feature_extraction.text import TfidfVectorizer, CountVectorizer"
   ]
  },
  {
   "cell_type": "code",
   "execution_count": 2,
   "id": "3abee2c1-767d-4d73-a7dc-23b40926fa20",
   "metadata": {
    "tags": []
   },
   "outputs": [],
   "source": [
    "train_stances = pd.read_csv(\"./dataset/train_stances.csv\")\n",
    "train_bodies = pd.read_csv(\"./dataset/train_bodies.csv\")\n",
    "\n",
    "test_stances = pd.read_csv(\"./dataset/competition_test_stances.csv\")\n",
    "test_bodies = pd.read_csv(\"./dataset/competition_test_bodies.csv\")"
   ]
  },
  {
   "cell_type": "code",
   "execution_count": 3,
   "id": "36dd002c-637a-417b-bb11-4399b82a64ee",
   "metadata": {
    "tags": []
   },
   "outputs": [
    {
     "data": {
      "text/plain": [
       "ISIL Beheads American Photojournalist in Iraq                                                      127\n",
       "WHO says reports of suspected Ebola cases in Iraq are untrue                                       124\n",
       "James Foley remembered as 'brave and tireless' journalist                                          121\n",
       "Islamic Militants Post Video Claiming to Show Beheading of U.S. Journalist                         118\n",
       "US officials: Video shows American's execution                                                     112\n",
       "                                                                                                  ... \n",
       "Apple hopes to sell over 50 million watches in 2015                                                  2\n",
       "Mom Calls 911 On Masturbating Teenage Son; Boy Arrested, Charged With New ‘Self-Rape’ State Law      2\n",
       "Federal Judge: Enough With the Stupid Names                                                          2\n",
       "Sushi lover's entire body left riddled with WORMS after eating contaminated sashimi                  2\n",
       "Apple Watch Takes Two Hours to Charge, Only Delivers Notifications While on the Wrist                2\n",
       "Name: Headline, Length: 1648, dtype: int64"
      ]
     },
     "execution_count": 3,
     "metadata": {},
     "output_type": "execute_result"
    }
   ],
   "source": [
    "train_stances[\"Headline\"].value_counts()"
   ]
  },
  {
   "cell_type": "code",
   "execution_count": 4,
   "id": "893acd9c-30d6-4750-9cf0-c4d2e1ae07af",
   "metadata": {
    "tags": []
   },
   "outputs": [
    {
     "data": {
      "text/plain": [
       "Source: Joan Rivers' doc did biopsy, selfie                                                                                                                  160\n",
       "Joan Rivers Personal Doctor Allegedly Took A Selfie Before Her Biopsy And Cardiac Arrest                                                                     138\n",
       "‘Three-boobed’ woman: They’re not fake                                                                                                                        92\n",
       "Adopting Potential Werewolves Is Routine Business for Argentine Presidents                                                                                    92\n",
       "Justin Bieber Basically Saves A Russian Man From A Bear                                                                                                       88\n",
       "                                                                                                                                                            ... \n",
       "Madonna pledges oral sex for Clinton voters                                                                                                                    3\n",
       "Trump assures French President Macron 'you were my guy' – after saying before his election that rival Le Pen was 'strongest on what's going on in France'      3\n",
       "Apple Delaying Production on Larger-Screened 'iPad Pro' Until September                                                                                        3\n",
       "iOS 8.2 arriving Monday, here are full release notes                                                                                                           3\n",
       "SNOWDEN: ‘Elf On A Shelf’ Actually Hugely Successful NSA Project  Read more: http://www.duffelblog.com/2014/12/elf-on-a-shelf-snowden/#ixzz3MAOziZJf           2\n",
       "Name: Headline, Length: 894, dtype: int64"
      ]
     },
     "execution_count": 4,
     "metadata": {},
     "output_type": "execute_result"
    }
   ],
   "source": [
    "test_stances[\"Headline\"].value_counts()"
   ]
  },
  {
   "cell_type": "code",
   "execution_count": 5,
   "id": "9c663327-2f87-410c-b1f7-f3e75c46425a",
   "metadata": {},
   "outputs": [
    {
     "data": {
      "text/html": [
       "<div>\n",
       "<style scoped>\n",
       "    .dataframe tbody tr th:only-of-type {\n",
       "        vertical-align: middle;\n",
       "    }\n",
       "\n",
       "    .dataframe tbody tr th {\n",
       "        vertical-align: top;\n",
       "    }\n",
       "\n",
       "    .dataframe thead th {\n",
       "        text-align: right;\n",
       "    }\n",
       "</style>\n",
       "<table border=\"1\" class=\"dataframe\">\n",
       "  <thead>\n",
       "    <tr style=\"text-align: right;\">\n",
       "      <th></th>\n",
       "      <th>Headline</th>\n",
       "      <th>Body ID</th>\n",
       "      <th>Stance</th>\n",
       "    </tr>\n",
       "  </thead>\n",
       "  <tbody>\n",
       "    <tr>\n",
       "      <th>173</th>\n",
       "      <td>Cheese addiction breaks Kim Jong-un's ankles</td>\n",
       "      <td>2210</td>\n",
       "      <td>unrelated</td>\n",
       "    </tr>\n",
       "    <tr>\n",
       "      <th>1415</th>\n",
       "      <td>WSJ: Apple cut watch health features due to er...</td>\n",
       "      <td>1917</td>\n",
       "      <td>discuss</td>\n",
       "    </tr>\n",
       "    <tr>\n",
       "      <th>1418</th>\n",
       "      <td>Cheese blamed for North Korean leader Kim Jong...</td>\n",
       "      <td>1689</td>\n",
       "      <td>unrelated</td>\n",
       "    </tr>\n",
       "    <tr>\n",
       "      <th>1479</th>\n",
       "      <td>Cheese blamed for North Korean leader Kim Jong...</td>\n",
       "      <td>186</td>\n",
       "      <td>unrelated</td>\n",
       "    </tr>\n",
       "    <tr>\n",
       "      <th>1503</th>\n",
       "      <td>Cheese addiction breaks Kim Jong-un's ankles</td>\n",
       "      <td>2329</td>\n",
       "      <td>unrelated</td>\n",
       "    </tr>\n",
       "    <tr>\n",
       "      <th>...</th>\n",
       "      <td>...</td>\n",
       "      <td>...</td>\n",
       "      <td>...</td>\n",
       "    </tr>\n",
       "    <tr>\n",
       "      <th>48270</th>\n",
       "      <td>Apple was forced to nix key health features fr...</td>\n",
       "      <td>407</td>\n",
       "      <td>discuss</td>\n",
       "    </tr>\n",
       "    <tr>\n",
       "      <th>48852</th>\n",
       "      <td>Cheese blamed for North Korean leader Kim Jong...</td>\n",
       "      <td>2042</td>\n",
       "      <td>unrelated</td>\n",
       "    </tr>\n",
       "    <tr>\n",
       "      <th>49279</th>\n",
       "      <td>Cheese addiction breaks Kim Jong-un's ankles</td>\n",
       "      <td>1854</td>\n",
       "      <td>discuss</td>\n",
       "    </tr>\n",
       "    <tr>\n",
       "      <th>49349</th>\n",
       "      <td>Cheese blamed for North Korean leader Kim Jong...</td>\n",
       "      <td>2344</td>\n",
       "      <td>unrelated</td>\n",
       "    </tr>\n",
       "    <tr>\n",
       "      <th>49683</th>\n",
       "      <td>Cheese blamed for North Korean leader Kim Jong...</td>\n",
       "      <td>2327</td>\n",
       "      <td>unrelated</td>\n",
       "    </tr>\n",
       "  </tbody>\n",
       "</table>\n",
       "<p>156 rows × 3 columns</p>\n",
       "</div>"
      ],
      "text/plain": [
       "                                                Headline  Body ID     Stance\n",
       "173         Cheese addiction breaks Kim Jong-un's ankles     2210  unrelated\n",
       "1415   WSJ: Apple cut watch health features due to er...     1917    discuss\n",
       "1418   Cheese blamed for North Korean leader Kim Jong...     1689  unrelated\n",
       "1479   Cheese blamed for North Korean leader Kim Jong...      186  unrelated\n",
       "1503        Cheese addiction breaks Kim Jong-un's ankles     2329  unrelated\n",
       "...                                                  ...      ...        ...\n",
       "48270  Apple was forced to nix key health features fr...      407    discuss\n",
       "48852  Cheese blamed for North Korean leader Kim Jong...     2042  unrelated\n",
       "49279       Cheese addiction breaks Kim Jong-un's ankles     1854    discuss\n",
       "49349  Cheese blamed for North Korean leader Kim Jong...     2344  unrelated\n",
       "49683  Cheese blamed for North Korean leader Kim Jong...     2327  unrelated\n",
       "\n",
       "[156 rows x 3 columns]"
      ]
     },
     "execution_count": 5,
     "metadata": {},
     "output_type": "execute_result"
    }
   ],
   "source": [
    "train_stances.loc[train_stances[\"Headline\"].isin(test_stances[\"Headline\"])]"
   ]
  },
  {
   "cell_type": "code",
   "execution_count": 6,
   "id": "1c74a7d3-6556-4ee9-a420-afc665bea41c",
   "metadata": {
    "tags": []
   },
   "outputs": [
    {
     "data": {
      "text/html": [
       "<div>\n",
       "<style scoped>\n",
       "    .dataframe tbody tr th:only-of-type {\n",
       "        vertical-align: middle;\n",
       "    }\n",
       "\n",
       "    .dataframe tbody tr th {\n",
       "        vertical-align: top;\n",
       "    }\n",
       "\n",
       "    .dataframe thead th {\n",
       "        text-align: right;\n",
       "    }\n",
       "</style>\n",
       "<table border=\"1\" class=\"dataframe\">\n",
       "  <thead>\n",
       "    <tr style=\"text-align: right;\">\n",
       "      <th></th>\n",
       "      <th>Headline</th>\n",
       "      <th>Body ID</th>\n",
       "      <th>Stance</th>\n",
       "    </tr>\n",
       "  </thead>\n",
       "  <tbody>\n",
       "  </tbody>\n",
       "</table>\n",
       "</div>"
      ],
      "text/plain": [
       "Empty DataFrame\n",
       "Columns: [Headline, Body ID, Stance]\n",
       "Index: []"
      ]
     },
     "execution_count": 6,
     "metadata": {},
     "output_type": "execute_result"
    }
   ],
   "source": [
    "train_stances.loc[train_stances[\"Body ID\"].isin(test_stances[\"Body ID\"])]"
   ]
  },
  {
   "cell_type": "markdown",
   "id": "2940c0a4-12bc-4c31-8212-9062966fcc53",
   "metadata": {},
   "source": [
    "So there is overlap of the headlines in both the training and the test data but there is no overlap with the bodies of the articles so we should split the training set into training and validation such that the bodies of the articles are disjoint."
   ]
  },
  {
   "cell_type": "code",
   "execution_count": 7,
   "id": "7c157cd5-c85c-4cb3-82e9-13816de152df",
   "metadata": {
    "tags": []
   },
   "outputs": [],
   "source": [
    "test_df = test_stances.merge(test_bodies, on=\"Body ID\")"
   ]
  },
  {
   "cell_type": "code",
   "execution_count": 8,
   "id": "e2f3eadb-e5b5-421f-a374-07fd8eafccc4",
   "metadata": {
    "tags": []
   },
   "outputs": [],
   "source": [
    "train_and_val_df = train_stances.merge(train_bodies, on=\"Body ID\")"
   ]
  },
  {
   "cell_type": "code",
   "execution_count": 9,
   "id": "2b47934c-1410-45d4-8fb7-2cc52a804cbb",
   "metadata": {
    "tags": []
   },
   "outputs": [],
   "source": [
    "val_split_ratio = 0.2"
   ]
  },
  {
   "cell_type": "code",
   "execution_count": 10,
   "id": "75b918ac-1bd1-43a9-8c7a-2d0b773b6379",
   "metadata": {
    "tags": []
   },
   "outputs": [],
   "source": [
    "def split_train_val(df, ratio):\n",
    "    val_count = int(ratio * df[\"Body ID\"].nunique())\n",
    "    all_ids = list(df[\"Body ID\"].unique())\n",
    "    val_body_ids = random.sample(all_ids, val_count)\n",
    "    train_body_ids = set(all_ids) - set(val_body_ids)\n",
    "    \n",
    "    assert len(set(val_body_ids) & train_body_ids) == 0\n",
    "    \n",
    "    val_df = df.loc[df[\"Body ID\"].isin(val_body_ids)]\n",
    "    train_df = df.loc[df[\"Body ID\"].isin(train_body_ids)]\n",
    "    \n",
    "    return val_df, train_df"
   ]
  },
  {
   "cell_type": "code",
   "execution_count": 39,
   "id": "86ef902a-262b-4ae5-9156-1df31b9dfed2",
   "metadata": {
    "tags": []
   },
   "outputs": [],
   "source": [
    "val_df, train_df = split_train_val(train_and_val_df, val_split_ratio)"
   ]
  },
  {
   "cell_type": "code",
   "execution_count": 40,
   "id": "0e19675d-edf6-4e71-b771-6d58825508c7",
   "metadata": {
    "tags": []
   },
   "outputs": [
    {
     "data": {
      "text/plain": [
       "336"
      ]
     },
     "execution_count": 40,
     "metadata": {},
     "output_type": "execute_result"
    }
   ],
   "source": [
    "val_df[\"Body ID\"].nunique()"
   ]
  },
  {
   "cell_type": "code",
   "execution_count": 41,
   "id": "12d1726f-bd9a-4a08-b19b-503a2a1eee80",
   "metadata": {
    "tags": []
   },
   "outputs": [
    {
     "data": {
      "text/plain": [
       "904"
      ]
     },
     "execution_count": 41,
     "metadata": {},
     "output_type": "execute_result"
    }
   ],
   "source": [
    "test_df[\"Body ID\"].nunique()"
   ]
  },
  {
   "cell_type": "code",
   "execution_count": 42,
   "id": "5205b36c-2694-4469-aab3-cfd936b60d86",
   "metadata": {
    "tags": []
   },
   "outputs": [
    {
     "data": {
      "text/plain": [
       "1347"
      ]
     },
     "execution_count": 42,
     "metadata": {},
     "output_type": "execute_result"
    }
   ],
   "source": [
    "train_df[\"Body ID\"].nunique()"
   ]
  },
  {
   "cell_type": "code",
   "execution_count": 43,
   "id": "8b48d34d-82ff-48ed-b741-6a6508f0454e",
   "metadata": {
    "tags": []
   },
   "outputs": [],
   "source": [
    "def prepare_df(df):\n",
    "    df = df.drop(\"Body ID\", axis=1)\n",
    "    df = df.reset_index()\n",
    "    df = df.drop(\"index\", axis=1)\n",
    "    df[\"Related\"] = df[\"Stance\"] != \"unrelated\"\n",
    "    return df"
   ]
  },
  {
   "cell_type": "code",
   "execution_count": 44,
   "id": "26712e05-7471-4c55-9584-13031fd3b01b",
   "metadata": {
    "tags": []
   },
   "outputs": [],
   "source": [
    "val_df = prepare_df(val_df)\n",
    "train_df = prepare_df(train_df)\n",
    "test_df = prepare_df(test_df)"
   ]
  },
  {
   "cell_type": "code",
   "execution_count": 54,
   "id": "ee1c5501-b66b-4a33-bb32-7f1a05122d35",
   "metadata": {
    "tags": []
   },
   "outputs": [
    {
     "data": {
      "text/plain": [
       "unrelated    0.732794\n",
       "discuss      0.169002\n",
       "agree        0.081595\n",
       "disagree     0.016610\n",
       "Name: Stance, dtype: float64"
      ]
     },
     "execution_count": 54,
     "metadata": {},
     "output_type": "execute_result"
    }
   ],
   "source": [
    "val_df[\"Stance\"].value_counts(normalize=True)#.plot(kind=\"bar\")"
   ]
  },
  {
   "cell_type": "code",
   "execution_count": 55,
   "id": "39629975-8ef2-4a78-a111-8fcd0872d100",
   "metadata": {
    "tags": []
   },
   "outputs": [
    {
     "data": {
      "text/plain": [
       "unrelated    0.730955\n",
       "discuss      0.180495\n",
       "agree        0.071692\n",
       "disagree     0.016857\n",
       "Name: Stance, dtype: float64"
      ]
     },
     "execution_count": 55,
     "metadata": {},
     "output_type": "execute_result"
    }
   ],
   "source": [
    "train_df[\"Stance\"].value_counts(normalize=True)#.plot(kind=\"bar\")"
   ]
  },
  {
   "cell_type": "code",
   "execution_count": 58,
   "id": "d465624d-0694-4783-90b7-4f19b6d21aa5",
   "metadata": {
    "tags": []
   },
   "outputs": [
    {
     "data": {
      "text/plain": [
       "unrelated    0.722032\n",
       "discuss      0.175658\n",
       "agree        0.074883\n",
       "disagree     0.027427\n",
       "Name: Stance, dtype: float64"
      ]
     },
     "execution_count": 58,
     "metadata": {},
     "output_type": "execute_result"
    }
   ],
   "source": [
    "test_df[\"Stance\"].value_counts(normalize=True)#.plot(kind=\"bar\")"
   ]
  },
  {
   "cell_type": "markdown",
   "id": "c3e77494-df50-4533-9b52-14fdeb41e7ab",
   "metadata": {},
   "source": [
    "We now have the train-val-test splits sorted out with fair representation in the train and val (test doesn't matter as we can't control it, but it is approx equal anyway)"
   ]
  },
  {
   "cell_type": "code",
   "execution_count": null,
   "id": "d166a5f9-af61-4f6d-8fe2-0ff42fa909d9",
   "metadata": {},
   "outputs": [],
   "source": []
  }
 ],
 "metadata": {
  "kernelspec": {
   "display_name": "Python 3 (ipykernel)",
   "language": "python",
   "name": "python3"
  },
  "language_info": {
   "codemirror_mode": {
    "name": "ipython",
    "version": 3
   },
   "file_extension": ".py",
   "mimetype": "text/x-python",
   "name": "python",
   "nbconvert_exporter": "python",
   "pygments_lexer": "ipython3",
   "version": "3.10.7"
  }
 },
 "nbformat": 4,
 "nbformat_minor": 5
}
