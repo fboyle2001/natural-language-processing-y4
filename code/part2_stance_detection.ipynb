{
 "cells": [
  {
   "cell_type": "code",
   "execution_count": 1,
   "id": "2b8c1975-f4d8-4796-99a7-fee8e3db62c9",
   "metadata": {
    "tags": []
   },
   "outputs": [],
   "source": [
    "import pandas as pd\n",
    "import matplotlib.pyplot as plt\n",
    "import seaborn as sns\n",
    "import random\n",
    "\n",
    "import string\n",
    "import re\n",
    "\n",
    "import scipy\n",
    "import numpy as np\n",
    "from sklearn.feature_extraction.text import TfidfVectorizer, CountVectorizer\n",
    "\n",
    "from sklearn import metrics\n",
    "from sklearn.metrics import confusion_matrix,accuracy_score,roc_auc_score,roc_curve,auc,f1_score\n",
    "from sklearn.utils.class_weight import compute_class_weight\n",
    "\n",
    "import torch\n",
    "import torch.nn as nn\n",
    "import torch.optim as optim\n",
    "import torch.utils.data\n",
    "\n",
    "import torchinfo\n",
    "\n",
    "import time\n",
    "import os\n",
    "import shutil\n",
    "\n",
    "import transformers\n",
    "from transformers import BertTokenizer, BertModel\n",
    "\n",
    "from tqdm.notebook import tqdm\n",
    "tqdm.pandas()\n",
    "\n",
    "device=\"cuda\""
   ]
  },
  {
   "cell_type": "markdown",
   "id": "38d2598d-c4ac-4666-b25f-bd6746eafbbd",
   "metadata": {},
   "source": [
    "# Load Datasets\n",
    "1. Load the datasets\n",
    "2. Verify no article bodies overlap"
   ]
  },
  {
   "cell_type": "code",
   "execution_count": 2,
   "id": "3abee2c1-767d-4d73-a7dc-23b40926fa20",
   "metadata": {
    "tags": []
   },
   "outputs": [],
   "source": [
    "train_stances = pd.read_csv(\"./dataset/train_stances.csv\")\n",
    "train_bodies = pd.read_csv(\"./dataset/train_bodies.csv\")\n",
    "\n",
    "test_stances = pd.read_csv(\"./dataset/competition_test_stances.csv\")\n",
    "test_bodies = pd.read_csv(\"./dataset/competition_test_bodies.csv\")"
   ]
  },
  {
   "cell_type": "code",
   "execution_count": 3,
   "id": "36dd002c-637a-417b-bb11-4399b82a64ee",
   "metadata": {
    "tags": []
   },
   "outputs": [
    {
     "data": {
      "text/plain": [
       "ISIL Beheads American Photojournalist in Iraq                                                      127\n",
       "WHO says reports of suspected Ebola cases in Iraq are untrue                                       124\n",
       "James Foley remembered as 'brave and tireless' journalist                                          121\n",
       "Islamic Militants Post Video Claiming to Show Beheading of U.S. Journalist                         118\n",
       "US officials: Video shows American's execution                                                     112\n",
       "                                                                                                  ... \n",
       "Apple hopes to sell over 50 million watches in 2015                                                  2\n",
       "Mom Calls 911 On Masturbating Teenage Son; Boy Arrested, Charged With New ‘Self-Rape’ State Law      2\n",
       "Federal Judge: Enough With the Stupid Names                                                          2\n",
       "Sushi lover's entire body left riddled with WORMS after eating contaminated sashimi                  2\n",
       "Apple Watch Takes Two Hours to Charge, Only Delivers Notifications While on the Wrist                2\n",
       "Name: Headline, Length: 1648, dtype: int64"
      ]
     },
     "execution_count": 3,
     "metadata": {},
     "output_type": "execute_result"
    }
   ],
   "source": [
    "train_stances[\"Headline\"].value_counts()"
   ]
  },
  {
   "cell_type": "code",
   "execution_count": 4,
   "id": "893acd9c-30d6-4750-9cf0-c4d2e1ae07af",
   "metadata": {
    "tags": []
   },
   "outputs": [
    {
     "data": {
      "text/plain": [
       "Source: Joan Rivers' doc did biopsy, selfie                                                                                                                  160\n",
       "Joan Rivers Personal Doctor Allegedly Took A Selfie Before Her Biopsy And Cardiac Arrest                                                                     138\n",
       "‘Three-boobed’ woman: They’re not fake                                                                                                                        92\n",
       "Adopting Potential Werewolves Is Routine Business for Argentine Presidents                                                                                    92\n",
       "Justin Bieber Basically Saves A Russian Man From A Bear                                                                                                       88\n",
       "                                                                                                                                                            ... \n",
       "Madonna pledges oral sex for Clinton voters                                                                                                                    3\n",
       "Trump assures French President Macron 'you were my guy' – after saying before his election that rival Le Pen was 'strongest on what's going on in France'      3\n",
       "Apple Delaying Production on Larger-Screened 'iPad Pro' Until September                                                                                        3\n",
       "iOS 8.2 arriving Monday, here are full release notes                                                                                                           3\n",
       "SNOWDEN: ‘Elf On A Shelf’ Actually Hugely Successful NSA Project  Read more: http://www.duffelblog.com/2014/12/elf-on-a-shelf-snowden/#ixzz3MAOziZJf           2\n",
       "Name: Headline, Length: 894, dtype: int64"
      ]
     },
     "execution_count": 4,
     "metadata": {},
     "output_type": "execute_result"
    }
   ],
   "source": [
    "test_stances[\"Headline\"].value_counts()"
   ]
  },
  {
   "cell_type": "code",
   "execution_count": 5,
   "id": "9c663327-2f87-410c-b1f7-f3e75c46425a",
   "metadata": {},
   "outputs": [
    {
     "data": {
      "text/html": [
       "<div>\n",
       "<style scoped>\n",
       "    .dataframe tbody tr th:only-of-type {\n",
       "        vertical-align: middle;\n",
       "    }\n",
       "\n",
       "    .dataframe tbody tr th {\n",
       "        vertical-align: top;\n",
       "    }\n",
       "\n",
       "    .dataframe thead th {\n",
       "        text-align: right;\n",
       "    }\n",
       "</style>\n",
       "<table border=\"1\" class=\"dataframe\">\n",
       "  <thead>\n",
       "    <tr style=\"text-align: right;\">\n",
       "      <th></th>\n",
       "      <th>Headline</th>\n",
       "      <th>Body ID</th>\n",
       "      <th>Stance</th>\n",
       "    </tr>\n",
       "  </thead>\n",
       "  <tbody>\n",
       "    <tr>\n",
       "      <th>173</th>\n",
       "      <td>Cheese addiction breaks Kim Jong-un's ankles</td>\n",
       "      <td>2210</td>\n",
       "      <td>unrelated</td>\n",
       "    </tr>\n",
       "    <tr>\n",
       "      <th>1415</th>\n",
       "      <td>WSJ: Apple cut watch health features due to er...</td>\n",
       "      <td>1917</td>\n",
       "      <td>discuss</td>\n",
       "    </tr>\n",
       "    <tr>\n",
       "      <th>1418</th>\n",
       "      <td>Cheese blamed for North Korean leader Kim Jong...</td>\n",
       "      <td>1689</td>\n",
       "      <td>unrelated</td>\n",
       "    </tr>\n",
       "    <tr>\n",
       "      <th>1479</th>\n",
       "      <td>Cheese blamed for North Korean leader Kim Jong...</td>\n",
       "      <td>186</td>\n",
       "      <td>unrelated</td>\n",
       "    </tr>\n",
       "    <tr>\n",
       "      <th>1503</th>\n",
       "      <td>Cheese addiction breaks Kim Jong-un's ankles</td>\n",
       "      <td>2329</td>\n",
       "      <td>unrelated</td>\n",
       "    </tr>\n",
       "    <tr>\n",
       "      <th>...</th>\n",
       "      <td>...</td>\n",
       "      <td>...</td>\n",
       "      <td>...</td>\n",
       "    </tr>\n",
       "    <tr>\n",
       "      <th>48270</th>\n",
       "      <td>Apple was forced to nix key health features fr...</td>\n",
       "      <td>407</td>\n",
       "      <td>discuss</td>\n",
       "    </tr>\n",
       "    <tr>\n",
       "      <th>48852</th>\n",
       "      <td>Cheese blamed for North Korean leader Kim Jong...</td>\n",
       "      <td>2042</td>\n",
       "      <td>unrelated</td>\n",
       "    </tr>\n",
       "    <tr>\n",
       "      <th>49279</th>\n",
       "      <td>Cheese addiction breaks Kim Jong-un's ankles</td>\n",
       "      <td>1854</td>\n",
       "      <td>discuss</td>\n",
       "    </tr>\n",
       "    <tr>\n",
       "      <th>49349</th>\n",
       "      <td>Cheese blamed for North Korean leader Kim Jong...</td>\n",
       "      <td>2344</td>\n",
       "      <td>unrelated</td>\n",
       "    </tr>\n",
       "    <tr>\n",
       "      <th>49683</th>\n",
       "      <td>Cheese blamed for North Korean leader Kim Jong...</td>\n",
       "      <td>2327</td>\n",
       "      <td>unrelated</td>\n",
       "    </tr>\n",
       "  </tbody>\n",
       "</table>\n",
       "<p>156 rows × 3 columns</p>\n",
       "</div>"
      ],
      "text/plain": [
       "                                                Headline  Body ID     Stance\n",
       "173         Cheese addiction breaks Kim Jong-un's ankles     2210  unrelated\n",
       "1415   WSJ: Apple cut watch health features due to er...     1917    discuss\n",
       "1418   Cheese blamed for North Korean leader Kim Jong...     1689  unrelated\n",
       "1479   Cheese blamed for North Korean leader Kim Jong...      186  unrelated\n",
       "1503        Cheese addiction breaks Kim Jong-un's ankles     2329  unrelated\n",
       "...                                                  ...      ...        ...\n",
       "48270  Apple was forced to nix key health features fr...      407    discuss\n",
       "48852  Cheese blamed for North Korean leader Kim Jong...     2042  unrelated\n",
       "49279       Cheese addiction breaks Kim Jong-un's ankles     1854    discuss\n",
       "49349  Cheese blamed for North Korean leader Kim Jong...     2344  unrelated\n",
       "49683  Cheese blamed for North Korean leader Kim Jong...     2327  unrelated\n",
       "\n",
       "[156 rows x 3 columns]"
      ]
     },
     "execution_count": 5,
     "metadata": {},
     "output_type": "execute_result"
    }
   ],
   "source": [
    "train_stances.loc[train_stances[\"Headline\"].isin(test_stances[\"Headline\"])]"
   ]
  },
  {
   "cell_type": "code",
   "execution_count": 6,
   "id": "1c74a7d3-6556-4ee9-a420-afc665bea41c",
   "metadata": {
    "tags": []
   },
   "outputs": [
    {
     "data": {
      "text/html": [
       "<div>\n",
       "<style scoped>\n",
       "    .dataframe tbody tr th:only-of-type {\n",
       "        vertical-align: middle;\n",
       "    }\n",
       "\n",
       "    .dataframe tbody tr th {\n",
       "        vertical-align: top;\n",
       "    }\n",
       "\n",
       "    .dataframe thead th {\n",
       "        text-align: right;\n",
       "    }\n",
       "</style>\n",
       "<table border=\"1\" class=\"dataframe\">\n",
       "  <thead>\n",
       "    <tr style=\"text-align: right;\">\n",
       "      <th></th>\n",
       "      <th>Headline</th>\n",
       "      <th>Body ID</th>\n",
       "      <th>Stance</th>\n",
       "    </tr>\n",
       "  </thead>\n",
       "  <tbody>\n",
       "  </tbody>\n",
       "</table>\n",
       "</div>"
      ],
      "text/plain": [
       "Empty DataFrame\n",
       "Columns: [Headline, Body ID, Stance]\n",
       "Index: []"
      ]
     },
     "execution_count": 6,
     "metadata": {},
     "output_type": "execute_result"
    }
   ],
   "source": [
    "train_stances.loc[train_stances[\"Body ID\"].isin(test_stances[\"Body ID\"])]"
   ]
  },
  {
   "cell_type": "markdown",
   "id": "2940c0a4-12bc-4c31-8212-9062966fcc53",
   "metadata": {},
   "source": [
    "So there is overlap of the headlines in both the training and the test data but there is no overlap with the bodies of the articles so we should split the training set into training and validation such that the bodies of the articles are disjoint."
   ]
  },
  {
   "cell_type": "code",
   "execution_count": 7,
   "id": "7c157cd5-c85c-4cb3-82e9-13816de152df",
   "metadata": {
    "tags": []
   },
   "outputs": [],
   "source": [
    "test_df = test_stances.merge(test_bodies, on=\"Body ID\")\n",
    "test_df[\"Related\"] = (test_df[\"Stance\"] != \"unrelated\").astype(int)"
   ]
  },
  {
   "cell_type": "code",
   "execution_count": 8,
   "id": "a709b6c8-ba8f-4bdf-b61e-08e2728f64eb",
   "metadata": {
    "tags": []
   },
   "outputs": [
    {
     "data": {
      "text/html": [
       "<div>\n",
       "<style scoped>\n",
       "    .dataframe tbody tr th:only-of-type {\n",
       "        vertical-align: middle;\n",
       "    }\n",
       "\n",
       "    .dataframe tbody tr th {\n",
       "        vertical-align: top;\n",
       "    }\n",
       "\n",
       "    .dataframe thead th {\n",
       "        text-align: right;\n",
       "    }\n",
       "</style>\n",
       "<table border=\"1\" class=\"dataframe\">\n",
       "  <thead>\n",
       "    <tr style=\"text-align: right;\">\n",
       "      <th></th>\n",
       "      <th>Headline</th>\n",
       "      <th>Body ID</th>\n",
       "      <th>Stance</th>\n",
       "      <th>articleBody</th>\n",
       "      <th>Related</th>\n",
       "    </tr>\n",
       "  </thead>\n",
       "  <tbody>\n",
       "    <tr>\n",
       "      <th>0</th>\n",
       "      <td>Ferguson riots: Pregnant woman loses eye after...</td>\n",
       "      <td>2008</td>\n",
       "      <td>unrelated</td>\n",
       "      <td>A RESPECTED senior French police officer inves...</td>\n",
       "      <td>0</td>\n",
       "    </tr>\n",
       "    <tr>\n",
       "      <th>1</th>\n",
       "      <td>Apple Stores to install safes to secure gold A...</td>\n",
       "      <td>2008</td>\n",
       "      <td>unrelated</td>\n",
       "      <td>A RESPECTED senior French police officer inves...</td>\n",
       "      <td>0</td>\n",
       "    </tr>\n",
       "    <tr>\n",
       "      <th>2</th>\n",
       "      <td>Pregnant woman loses eye after police shoot be...</td>\n",
       "      <td>2008</td>\n",
       "      <td>unrelated</td>\n",
       "      <td>A RESPECTED senior French police officer inves...</td>\n",
       "      <td>0</td>\n",
       "    </tr>\n",
       "    <tr>\n",
       "      <th>3</th>\n",
       "      <td>We just found out the #Ferguson Protester who ...</td>\n",
       "      <td>2008</td>\n",
       "      <td>unrelated</td>\n",
       "      <td>A RESPECTED senior French police officer inves...</td>\n",
       "      <td>0</td>\n",
       "    </tr>\n",
       "    <tr>\n",
       "      <th>4</th>\n",
       "      <td>Police Chief In Charge of Paris Attacks Commit...</td>\n",
       "      <td>2008</td>\n",
       "      <td>discuss</td>\n",
       "      <td>A RESPECTED senior French police officer inves...</td>\n",
       "      <td>1</td>\n",
       "    </tr>\n",
       "    <tr>\n",
       "      <th>...</th>\n",
       "      <td>...</td>\n",
       "      <td>...</td>\n",
       "      <td>...</td>\n",
       "      <td>...</td>\n",
       "      <td>...</td>\n",
       "    </tr>\n",
       "    <tr>\n",
       "      <th>25408</th>\n",
       "      <td>A Sign That Obamacare Exchanges Are Failing</td>\n",
       "      <td>2586</td>\n",
       "      <td>disagree</td>\n",
       "      <td>Remember how much Republicans wanted to repeal...</td>\n",
       "      <td>1</td>\n",
       "    </tr>\n",
       "    <tr>\n",
       "      <th>25409</th>\n",
       "      <td>Republicans call Obamacare a 'failure.' These ...</td>\n",
       "      <td>2586</td>\n",
       "      <td>agree</td>\n",
       "      <td>Remember how much Republicans wanted to repeal...</td>\n",
       "      <td>1</td>\n",
       "    </tr>\n",
       "    <tr>\n",
       "      <th>25410</th>\n",
       "      <td>CBO’s Alternate Facts Show Obamacare is Unsust...</td>\n",
       "      <td>2586</td>\n",
       "      <td>disagree</td>\n",
       "      <td>Remember how much Republicans wanted to repeal...</td>\n",
       "      <td>1</td>\n",
       "    </tr>\n",
       "    <tr>\n",
       "      <th>25411</th>\n",
       "      <td>Why Obamacare failed</td>\n",
       "      <td>2586</td>\n",
       "      <td>disagree</td>\n",
       "      <td>Remember how much Republicans wanted to repeal...</td>\n",
       "      <td>1</td>\n",
       "    </tr>\n",
       "    <tr>\n",
       "      <th>25412</th>\n",
       "      <td>The success of the Affordable Care Act is a hu...</td>\n",
       "      <td>2586</td>\n",
       "      <td>agree</td>\n",
       "      <td>Remember how much Republicans wanted to repeal...</td>\n",
       "      <td>1</td>\n",
       "    </tr>\n",
       "  </tbody>\n",
       "</table>\n",
       "<p>25413 rows × 5 columns</p>\n",
       "</div>"
      ],
      "text/plain": [
       "                                                Headline  Body ID     Stance  \\\n",
       "0      Ferguson riots: Pregnant woman loses eye after...     2008  unrelated   \n",
       "1      Apple Stores to install safes to secure gold A...     2008  unrelated   \n",
       "2      Pregnant woman loses eye after police shoot be...     2008  unrelated   \n",
       "3      We just found out the #Ferguson Protester who ...     2008  unrelated   \n",
       "4      Police Chief In Charge of Paris Attacks Commit...     2008    discuss   \n",
       "...                                                  ...      ...        ...   \n",
       "25408        A Sign That Obamacare Exchanges Are Failing     2586   disagree   \n",
       "25409  Republicans call Obamacare a 'failure.' These ...     2586      agree   \n",
       "25410  CBO’s Alternate Facts Show Obamacare is Unsust...     2586   disagree   \n",
       "25411                               Why Obamacare failed     2586   disagree   \n",
       "25412  The success of the Affordable Care Act is a hu...     2586      agree   \n",
       "\n",
       "                                             articleBody  Related  \n",
       "0      A RESPECTED senior French police officer inves...        0  \n",
       "1      A RESPECTED senior French police officer inves...        0  \n",
       "2      A RESPECTED senior French police officer inves...        0  \n",
       "3      A RESPECTED senior French police officer inves...        0  \n",
       "4      A RESPECTED senior French police officer inves...        1  \n",
       "...                                                  ...      ...  \n",
       "25408  Remember how much Republicans wanted to repeal...        1  \n",
       "25409  Remember how much Republicans wanted to repeal...        1  \n",
       "25410  Remember how much Republicans wanted to repeal...        1  \n",
       "25411  Remember how much Republicans wanted to repeal...        1  \n",
       "25412  Remember how much Republicans wanted to repeal...        1  \n",
       "\n",
       "[25413 rows x 5 columns]"
      ]
     },
     "execution_count": 8,
     "metadata": {},
     "output_type": "execute_result"
    }
   ],
   "source": [
    "test_df"
   ]
  },
  {
   "cell_type": "code",
   "execution_count": 9,
   "id": "e2f3eadb-e5b5-421f-a374-07fd8eafccc4",
   "metadata": {
    "tags": []
   },
   "outputs": [],
   "source": [
    "train_and_val_df = train_stances.merge(train_bodies, on=\"Body ID\")\n",
    "train_and_val_df[\"Related\"] = (train_and_val_df[\"Stance\"] != \"unrelated\").astype(int)"
   ]
  },
  {
   "cell_type": "markdown",
   "id": "39776b76-e628-4ebc-a62f-58c820e86b62",
   "metadata": {},
   "source": [
    "# Exploratory Data Analysis\n",
    "TODO: Data analysis"
   ]
  },
  {
   "cell_type": "code",
   "execution_count": 10,
   "id": "aaf2b2f4-1e9b-47f0-9084-4430a64251ce",
   "metadata": {
    "tags": []
   },
   "outputs": [
    {
     "data": {
      "text/html": [
       "<div>\n",
       "<style scoped>\n",
       "    .dataframe tbody tr th:only-of-type {\n",
       "        vertical-align: middle;\n",
       "    }\n",
       "\n",
       "    .dataframe tbody tr th {\n",
       "        vertical-align: top;\n",
       "    }\n",
       "\n",
       "    .dataframe thead th {\n",
       "        text-align: right;\n",
       "    }\n",
       "</style>\n",
       "<table border=\"1\" class=\"dataframe\">\n",
       "  <thead>\n",
       "    <tr style=\"text-align: right;\">\n",
       "      <th></th>\n",
       "      <th>Headline</th>\n",
       "      <th>Body ID</th>\n",
       "      <th>Stance</th>\n",
       "      <th>articleBody</th>\n",
       "      <th>Related</th>\n",
       "    </tr>\n",
       "  </thead>\n",
       "  <tbody>\n",
       "    <tr>\n",
       "      <th>0</th>\n",
       "      <td>Police find mass graves with at least '15 bodi...</td>\n",
       "      <td>712</td>\n",
       "      <td>unrelated</td>\n",
       "      <td>Danny Boyle is directing the untitled film\\r\\n...</td>\n",
       "      <td>0</td>\n",
       "    </tr>\n",
       "    <tr>\n",
       "      <th>1</th>\n",
       "      <td>Seth Rogen to Play Apple’s Steve Wozniak</td>\n",
       "      <td>712</td>\n",
       "      <td>discuss</td>\n",
       "      <td>Danny Boyle is directing the untitled film\\r\\n...</td>\n",
       "      <td>1</td>\n",
       "    </tr>\n",
       "    <tr>\n",
       "      <th>2</th>\n",
       "      <td>Mexico police find mass grave near site 43 stu...</td>\n",
       "      <td>712</td>\n",
       "      <td>unrelated</td>\n",
       "      <td>Danny Boyle is directing the untitled film\\r\\n...</td>\n",
       "      <td>0</td>\n",
       "    </tr>\n",
       "    <tr>\n",
       "      <th>3</th>\n",
       "      <td>Mexico Says Missing Students Not Found In Firs...</td>\n",
       "      <td>712</td>\n",
       "      <td>unrelated</td>\n",
       "      <td>Danny Boyle is directing the untitled film\\r\\n...</td>\n",
       "      <td>0</td>\n",
       "    </tr>\n",
       "    <tr>\n",
       "      <th>4</th>\n",
       "      <td>New iOS 8 bug can delete all of your iCloud do...</td>\n",
       "      <td>712</td>\n",
       "      <td>unrelated</td>\n",
       "      <td>Danny Boyle is directing the untitled film\\r\\n...</td>\n",
       "      <td>0</td>\n",
       "    </tr>\n",
       "    <tr>\n",
       "      <th>...</th>\n",
       "      <td>...</td>\n",
       "      <td>...</td>\n",
       "      <td>...</td>\n",
       "      <td>...</td>\n",
       "      <td>...</td>\n",
       "    </tr>\n",
       "    <tr>\n",
       "      <th>49967</th>\n",
       "      <td>Amazon Is Opening a Brick-and-Mortar Store in ...</td>\n",
       "      <td>464</td>\n",
       "      <td>agree</td>\n",
       "      <td>Amazon, the cyber store that sells everything,...</td>\n",
       "      <td>1</td>\n",
       "    </tr>\n",
       "    <tr>\n",
       "      <th>49968</th>\n",
       "      <td>Elon University has not banned the term ‘fresh...</td>\n",
       "      <td>362</td>\n",
       "      <td>agree</td>\n",
       "      <td>ELON, N.C. – A recent rumor claims that Elon U...</td>\n",
       "      <td>1</td>\n",
       "    </tr>\n",
       "    <tr>\n",
       "      <th>49969</th>\n",
       "      <td>Fake BBC News website set up to carry Charlie ...</td>\n",
       "      <td>915</td>\n",
       "      <td>agree</td>\n",
       "      <td>A realistic-looking fake BBC News website has ...</td>\n",
       "      <td>1</td>\n",
       "    </tr>\n",
       "    <tr>\n",
       "      <th>49970</th>\n",
       "      <td>Apple was forced to nix key health features fr...</td>\n",
       "      <td>407</td>\n",
       "      <td>discuss</td>\n",
       "      <td>The health-focused smartwatch that Apple initi...</td>\n",
       "      <td>1</td>\n",
       "    </tr>\n",
       "    <tr>\n",
       "      <th>49971</th>\n",
       "      <td>If you want an Apple Watch, you’ll probably be...</td>\n",
       "      <td>1066</td>\n",
       "      <td>discuss</td>\n",
       "      <td>We still don’t know the exact date the Apple W...</td>\n",
       "      <td>1</td>\n",
       "    </tr>\n",
       "  </tbody>\n",
       "</table>\n",
       "<p>49972 rows × 5 columns</p>\n",
       "</div>"
      ],
      "text/plain": [
       "                                                Headline  Body ID     Stance  \\\n",
       "0      Police find mass graves with at least '15 bodi...      712  unrelated   \n",
       "1               Seth Rogen to Play Apple’s Steve Wozniak      712    discuss   \n",
       "2      Mexico police find mass grave near site 43 stu...      712  unrelated   \n",
       "3      Mexico Says Missing Students Not Found In Firs...      712  unrelated   \n",
       "4      New iOS 8 bug can delete all of your iCloud do...      712  unrelated   \n",
       "...                                                  ...      ...        ...   \n",
       "49967  Amazon Is Opening a Brick-and-Mortar Store in ...      464      agree   \n",
       "49968  Elon University has not banned the term ‘fresh...      362      agree   \n",
       "49969  Fake BBC News website set up to carry Charlie ...      915      agree   \n",
       "49970  Apple was forced to nix key health features fr...      407    discuss   \n",
       "49971  If you want an Apple Watch, you’ll probably be...     1066    discuss   \n",
       "\n",
       "                                             articleBody  Related  \n",
       "0      Danny Boyle is directing the untitled film\\r\\n...        0  \n",
       "1      Danny Boyle is directing the untitled film\\r\\n...        1  \n",
       "2      Danny Boyle is directing the untitled film\\r\\n...        0  \n",
       "3      Danny Boyle is directing the untitled film\\r\\n...        0  \n",
       "4      Danny Boyle is directing the untitled film\\r\\n...        0  \n",
       "...                                                  ...      ...  \n",
       "49967  Amazon, the cyber store that sells everything,...        1  \n",
       "49968  ELON, N.C. – A recent rumor claims that Elon U...        1  \n",
       "49969  A realistic-looking fake BBC News website has ...        1  \n",
       "49970  The health-focused smartwatch that Apple initi...        1  \n",
       "49971  We still don’t know the exact date the Apple W...        1  \n",
       "\n",
       "[49972 rows x 5 columns]"
      ]
     },
     "execution_count": 10,
     "metadata": {},
     "output_type": "execute_result"
    }
   ],
   "source": [
    "train_and_val_df"
   ]
  },
  {
   "cell_type": "markdown",
   "id": "f526a644-1b77-44d7-9e0c-75640869f4aa",
   "metadata": {},
   "source": [
    "Drop all rows that are unrelated"
   ]
  },
  {
   "cell_type": "code",
   "execution_count": 11,
   "id": "01bc283d-f57b-468b-a141-c36c2d9225a6",
   "metadata": {
    "tags": []
   },
   "outputs": [],
   "source": [
    "train_and_val_df = train_and_val_df[train_and_val_df[\"Related\"] == True]"
   ]
  },
  {
   "cell_type": "code",
   "execution_count": 12,
   "id": "e6fca20f-7a7e-40db-965d-da6ddeb6fab8",
   "metadata": {
    "tags": []
   },
   "outputs": [
    {
     "data": {
      "text/html": [
       "<div>\n",
       "<style scoped>\n",
       "    .dataframe tbody tr th:only-of-type {\n",
       "        vertical-align: middle;\n",
       "    }\n",
       "\n",
       "    .dataframe tbody tr th {\n",
       "        vertical-align: top;\n",
       "    }\n",
       "\n",
       "    .dataframe thead th {\n",
       "        text-align: right;\n",
       "    }\n",
       "</style>\n",
       "<table border=\"1\" class=\"dataframe\">\n",
       "  <thead>\n",
       "    <tr style=\"text-align: right;\">\n",
       "      <th></th>\n",
       "      <th>Headline</th>\n",
       "      <th>Body ID</th>\n",
       "      <th>Stance</th>\n",
       "      <th>articleBody</th>\n",
       "      <th>Related</th>\n",
       "    </tr>\n",
       "  </thead>\n",
       "  <tbody>\n",
       "    <tr>\n",
       "      <th>1</th>\n",
       "      <td>Seth Rogen to Play Apple’s Steve Wozniak</td>\n",
       "      <td>712</td>\n",
       "      <td>discuss</td>\n",
       "      <td>Danny Boyle is directing the untitled film\\r\\n...</td>\n",
       "      <td>1</td>\n",
       "    </tr>\n",
       "    <tr>\n",
       "      <th>5</th>\n",
       "      <td>Return of the Mac: Seth Rogen in talks to star...</td>\n",
       "      <td>712</td>\n",
       "      <td>discuss</td>\n",
       "      <td>Danny Boyle is directing the untitled film\\r\\n...</td>\n",
       "      <td>1</td>\n",
       "    </tr>\n",
       "    <tr>\n",
       "      <th>6</th>\n",
       "      <td>Seth Rogen Is Woz</td>\n",
       "      <td>712</td>\n",
       "      <td>discuss</td>\n",
       "      <td>Danny Boyle is directing the untitled film\\r\\n...</td>\n",
       "      <td>1</td>\n",
       "    </tr>\n",
       "    <tr>\n",
       "      <th>15</th>\n",
       "      <td>Steve Jobs Biopic Eyes Seth Rogen to Play Appl...</td>\n",
       "      <td>712</td>\n",
       "      <td>discuss</td>\n",
       "      <td>Danny Boyle is directing the untitled film\\r\\n...</td>\n",
       "      <td>1</td>\n",
       "    </tr>\n",
       "    <tr>\n",
       "      <th>20</th>\n",
       "      <td>Seth Rogen Eyed to Play Apple's Steve Wozniak ...</td>\n",
       "      <td>712</td>\n",
       "      <td>discuss</td>\n",
       "      <td>Danny Boyle is directing the untitled film\\r\\n...</td>\n",
       "      <td>1</td>\n",
       "    </tr>\n",
       "    <tr>\n",
       "      <th>...</th>\n",
       "      <td>...</td>\n",
       "      <td>...</td>\n",
       "      <td>...</td>\n",
       "      <td>...</td>\n",
       "      <td>...</td>\n",
       "    </tr>\n",
       "    <tr>\n",
       "      <th>49967</th>\n",
       "      <td>Amazon Is Opening a Brick-and-Mortar Store in ...</td>\n",
       "      <td>464</td>\n",
       "      <td>agree</td>\n",
       "      <td>Amazon, the cyber store that sells everything,...</td>\n",
       "      <td>1</td>\n",
       "    </tr>\n",
       "    <tr>\n",
       "      <th>49968</th>\n",
       "      <td>Elon University has not banned the term ‘fresh...</td>\n",
       "      <td>362</td>\n",
       "      <td>agree</td>\n",
       "      <td>ELON, N.C. – A recent rumor claims that Elon U...</td>\n",
       "      <td>1</td>\n",
       "    </tr>\n",
       "    <tr>\n",
       "      <th>49969</th>\n",
       "      <td>Fake BBC News website set up to carry Charlie ...</td>\n",
       "      <td>915</td>\n",
       "      <td>agree</td>\n",
       "      <td>A realistic-looking fake BBC News website has ...</td>\n",
       "      <td>1</td>\n",
       "    </tr>\n",
       "    <tr>\n",
       "      <th>49970</th>\n",
       "      <td>Apple was forced to nix key health features fr...</td>\n",
       "      <td>407</td>\n",
       "      <td>discuss</td>\n",
       "      <td>The health-focused smartwatch that Apple initi...</td>\n",
       "      <td>1</td>\n",
       "    </tr>\n",
       "    <tr>\n",
       "      <th>49971</th>\n",
       "      <td>If you want an Apple Watch, you’ll probably be...</td>\n",
       "      <td>1066</td>\n",
       "      <td>discuss</td>\n",
       "      <td>We still don’t know the exact date the Apple W...</td>\n",
       "      <td>1</td>\n",
       "    </tr>\n",
       "  </tbody>\n",
       "</table>\n",
       "<p>13427 rows × 5 columns</p>\n",
       "</div>"
      ],
      "text/plain": [
       "                                                Headline  Body ID   Stance  \\\n",
       "1               Seth Rogen to Play Apple’s Steve Wozniak      712  discuss   \n",
       "5      Return of the Mac: Seth Rogen in talks to star...      712  discuss   \n",
       "6                                      Seth Rogen Is Woz      712  discuss   \n",
       "15     Steve Jobs Biopic Eyes Seth Rogen to Play Appl...      712  discuss   \n",
       "20     Seth Rogen Eyed to Play Apple's Steve Wozniak ...      712  discuss   \n",
       "...                                                  ...      ...      ...   \n",
       "49967  Amazon Is Opening a Brick-and-Mortar Store in ...      464    agree   \n",
       "49968  Elon University has not banned the term ‘fresh...      362    agree   \n",
       "49969  Fake BBC News website set up to carry Charlie ...      915    agree   \n",
       "49970  Apple was forced to nix key health features fr...      407  discuss   \n",
       "49971  If you want an Apple Watch, you’ll probably be...     1066  discuss   \n",
       "\n",
       "                                             articleBody  Related  \n",
       "1      Danny Boyle is directing the untitled film\\r\\n...        1  \n",
       "5      Danny Boyle is directing the untitled film\\r\\n...        1  \n",
       "6      Danny Boyle is directing the untitled film\\r\\n...        1  \n",
       "15     Danny Boyle is directing the untitled film\\r\\n...        1  \n",
       "20     Danny Boyle is directing the untitled film\\r\\n...        1  \n",
       "...                                                  ...      ...  \n",
       "49967  Amazon, the cyber store that sells everything,...        1  \n",
       "49968  ELON, N.C. – A recent rumor claims that Elon U...        1  \n",
       "49969  A realistic-looking fake BBC News website has ...        1  \n",
       "49970  The health-focused smartwatch that Apple initi...        1  \n",
       "49971  We still don’t know the exact date the Apple W...        1  \n",
       "\n",
       "[13427 rows x 5 columns]"
      ]
     },
     "execution_count": 12,
     "metadata": {},
     "output_type": "execute_result"
    }
   ],
   "source": [
    "train_and_val_df"
   ]
  },
  {
   "cell_type": "code",
   "execution_count": 13,
   "id": "93bb2202-a367-49b3-8c0b-7c2899e07c6d",
   "metadata": {
    "tags": []
   },
   "outputs": [],
   "source": [
    "test_df = test_df[test_df[\"Related\"] == True]"
   ]
  },
  {
   "cell_type": "code",
   "execution_count": 14,
   "id": "cd4459cd-5e1a-4b18-aa14-c8174c2bc8b4",
   "metadata": {
    "tags": []
   },
   "outputs": [
    {
     "data": {
      "text/html": [
       "<div>\n",
       "<style scoped>\n",
       "    .dataframe tbody tr th:only-of-type {\n",
       "        vertical-align: middle;\n",
       "    }\n",
       "\n",
       "    .dataframe tbody tr th {\n",
       "        vertical-align: top;\n",
       "    }\n",
       "\n",
       "    .dataframe thead th {\n",
       "        text-align: right;\n",
       "    }\n",
       "</style>\n",
       "<table border=\"1\" class=\"dataframe\">\n",
       "  <thead>\n",
       "    <tr style=\"text-align: right;\">\n",
       "      <th></th>\n",
       "      <th>Headline</th>\n",
       "      <th>Body ID</th>\n",
       "      <th>Stance</th>\n",
       "      <th>articleBody</th>\n",
       "      <th>Related</th>\n",
       "    </tr>\n",
       "  </thead>\n",
       "  <tbody>\n",
       "    <tr>\n",
       "      <th>4</th>\n",
       "      <td>Police Chief In Charge of Paris Attacks Commit...</td>\n",
       "      <td>2008</td>\n",
       "      <td>discuss</td>\n",
       "      <td>A RESPECTED senior French police officer inves...</td>\n",
       "      <td>1</td>\n",
       "    </tr>\n",
       "    <tr>\n",
       "      <th>8</th>\n",
       "      <td>Police officer in Charlie Hebdo investigation ...</td>\n",
       "      <td>2008</td>\n",
       "      <td>discuss</td>\n",
       "      <td>A RESPECTED senior French police officer inves...</td>\n",
       "      <td>1</td>\n",
       "    </tr>\n",
       "    <tr>\n",
       "      <th>11</th>\n",
       "      <td>Top cop investigating Charlie Hebdo attacks ki...</td>\n",
       "      <td>2008</td>\n",
       "      <td>discuss</td>\n",
       "      <td>A RESPECTED senior French police officer inves...</td>\n",
       "      <td>1</td>\n",
       "    </tr>\n",
       "    <tr>\n",
       "      <th>13</th>\n",
       "      <td>New Twist: Charlie Hebdo Police Investigator T...</td>\n",
       "      <td>2008</td>\n",
       "      <td>discuss</td>\n",
       "      <td>A RESPECTED senior French police officer inves...</td>\n",
       "      <td>1</td>\n",
       "    </tr>\n",
       "    <tr>\n",
       "      <th>35</th>\n",
       "      <td>Report: Apple May Buy Social Network Path</td>\n",
       "      <td>1550</td>\n",
       "      <td>discuss</td>\n",
       "      <td>Dave Morin's social networking company Path is...</td>\n",
       "      <td>1</td>\n",
       "    </tr>\n",
       "    <tr>\n",
       "      <th>...</th>\n",
       "      <td>...</td>\n",
       "      <td>...</td>\n",
       "      <td>...</td>\n",
       "      <td>...</td>\n",
       "      <td>...</td>\n",
       "    </tr>\n",
       "    <tr>\n",
       "      <th>25408</th>\n",
       "      <td>A Sign That Obamacare Exchanges Are Failing</td>\n",
       "      <td>2586</td>\n",
       "      <td>disagree</td>\n",
       "      <td>Remember how much Republicans wanted to repeal...</td>\n",
       "      <td>1</td>\n",
       "    </tr>\n",
       "    <tr>\n",
       "      <th>25409</th>\n",
       "      <td>Republicans call Obamacare a 'failure.' These ...</td>\n",
       "      <td>2586</td>\n",
       "      <td>agree</td>\n",
       "      <td>Remember how much Republicans wanted to repeal...</td>\n",
       "      <td>1</td>\n",
       "    </tr>\n",
       "    <tr>\n",
       "      <th>25410</th>\n",
       "      <td>CBO’s Alternate Facts Show Obamacare is Unsust...</td>\n",
       "      <td>2586</td>\n",
       "      <td>disagree</td>\n",
       "      <td>Remember how much Republicans wanted to repeal...</td>\n",
       "      <td>1</td>\n",
       "    </tr>\n",
       "    <tr>\n",
       "      <th>25411</th>\n",
       "      <td>Why Obamacare failed</td>\n",
       "      <td>2586</td>\n",
       "      <td>disagree</td>\n",
       "      <td>Remember how much Republicans wanted to repeal...</td>\n",
       "      <td>1</td>\n",
       "    </tr>\n",
       "    <tr>\n",
       "      <th>25412</th>\n",
       "      <td>The success of the Affordable Care Act is a hu...</td>\n",
       "      <td>2586</td>\n",
       "      <td>agree</td>\n",
       "      <td>Remember how much Republicans wanted to repeal...</td>\n",
       "      <td>1</td>\n",
       "    </tr>\n",
       "  </tbody>\n",
       "</table>\n",
       "<p>7064 rows × 5 columns</p>\n",
       "</div>"
      ],
      "text/plain": [
       "                                                Headline  Body ID    Stance  \\\n",
       "4      Police Chief In Charge of Paris Attacks Commit...     2008   discuss   \n",
       "8      Police officer in Charlie Hebdo investigation ...     2008   discuss   \n",
       "11     Top cop investigating Charlie Hebdo attacks ki...     2008   discuss   \n",
       "13     New Twist: Charlie Hebdo Police Investigator T...     2008   discuss   \n",
       "35             Report: Apple May Buy Social Network Path     1550   discuss   \n",
       "...                                                  ...      ...       ...   \n",
       "25408        A Sign That Obamacare Exchanges Are Failing     2586  disagree   \n",
       "25409  Republicans call Obamacare a 'failure.' These ...     2586     agree   \n",
       "25410  CBO’s Alternate Facts Show Obamacare is Unsust...     2586  disagree   \n",
       "25411                               Why Obamacare failed     2586  disagree   \n",
       "25412  The success of the Affordable Care Act is a hu...     2586     agree   \n",
       "\n",
       "                                             articleBody  Related  \n",
       "4      A RESPECTED senior French police officer inves...        1  \n",
       "8      A RESPECTED senior French police officer inves...        1  \n",
       "11     A RESPECTED senior French police officer inves...        1  \n",
       "13     A RESPECTED senior French police officer inves...        1  \n",
       "35     Dave Morin's social networking company Path is...        1  \n",
       "...                                                  ...      ...  \n",
       "25408  Remember how much Republicans wanted to repeal...        1  \n",
       "25409  Remember how much Republicans wanted to repeal...        1  \n",
       "25410  Remember how much Republicans wanted to repeal...        1  \n",
       "25411  Remember how much Republicans wanted to repeal...        1  \n",
       "25412  Remember how much Republicans wanted to repeal...        1  \n",
       "\n",
       "[7064 rows x 5 columns]"
      ]
     },
     "execution_count": 14,
     "metadata": {},
     "output_type": "execute_result"
    }
   ],
   "source": [
    "test_df"
   ]
  },
  {
   "cell_type": "markdown",
   "id": "53f91412-16fa-44db-b746-23f6893beb05",
   "metadata": {},
   "source": [
    "# Data Splitting\n",
    "Now we need to split the training data into a training and validation set. We leave the test set untouched in this respect."
   ]
  },
  {
   "cell_type": "code",
   "execution_count": 15,
   "id": "2b47934c-1410-45d4-8fb7-2cc52a804cbb",
   "metadata": {
    "tags": []
   },
   "outputs": [],
   "source": [
    "val_split_ratio = 0.2"
   ]
  },
  {
   "cell_type": "code",
   "execution_count": 16,
   "id": "75b918ac-1bd1-43a9-8c7a-2d0b773b6379",
   "metadata": {
    "tags": []
   },
   "outputs": [],
   "source": [
    "def split_train_val(df, ratio):\n",
    "    val_count = int(ratio * df[\"Body ID\"].nunique())\n",
    "    all_ids = list(df[\"Body ID\"].unique())\n",
    "    val_body_ids = random.sample(all_ids, val_count)\n",
    "    train_body_ids = set(all_ids) - set(val_body_ids)\n",
    "    \n",
    "    assert len(set(val_body_ids) & train_body_ids) == 0\n",
    "    \n",
    "    val_df = df.loc[df[\"Body ID\"].isin(val_body_ids)]\n",
    "    train_df = df.loc[df[\"Body ID\"].isin(train_body_ids)]\n",
    "    \n",
    "    return val_df, train_df"
   ]
  },
  {
   "cell_type": "code",
   "execution_count": 17,
   "id": "86ef902a-262b-4ae5-9156-1df31b9dfed2",
   "metadata": {
    "tags": []
   },
   "outputs": [],
   "source": [
    "val_df, train_df = split_train_val(train_and_val_df, val_split_ratio)"
   ]
  },
  {
   "cell_type": "code",
   "execution_count": 18,
   "id": "0e19675d-edf6-4e71-b771-6d58825508c7",
   "metadata": {
    "tags": []
   },
   "outputs": [
    {
     "data": {
      "text/plain": [
       "336"
      ]
     },
     "execution_count": 18,
     "metadata": {},
     "output_type": "execute_result"
    }
   ],
   "source": [
    "val_df[\"Body ID\"].nunique()"
   ]
  },
  {
   "cell_type": "code",
   "execution_count": 19,
   "id": "12d1726f-bd9a-4a08-b19b-503a2a1eee80",
   "metadata": {
    "tags": []
   },
   "outputs": [
    {
     "data": {
      "text/plain": [
       "904"
      ]
     },
     "execution_count": 19,
     "metadata": {},
     "output_type": "execute_result"
    }
   ],
   "source": [
    "test_df[\"Body ID\"].nunique()"
   ]
  },
  {
   "cell_type": "code",
   "execution_count": 20,
   "id": "5205b36c-2694-4469-aab3-cfd936b60d86",
   "metadata": {
    "tags": []
   },
   "outputs": [
    {
     "data": {
      "text/plain": [
       "1347"
      ]
     },
     "execution_count": 20,
     "metadata": {},
     "output_type": "execute_result"
    }
   ],
   "source": [
    "train_df[\"Body ID\"].nunique()"
   ]
  },
  {
   "cell_type": "code",
   "execution_count": 21,
   "id": "8b48d34d-82ff-48ed-b741-6a6508f0454e",
   "metadata": {
    "tags": []
   },
   "outputs": [],
   "source": [
    "def prepare_df(df):\n",
    "    df = df.drop(\"Body ID\", axis=1)\n",
    "    df = df.reset_index()\n",
    "    df = df.drop(\"index\", axis=1)\n",
    "    df[\"Related\"] = df[\"Stance\"] != \"unrelated\"\n",
    "    return df"
   ]
  },
  {
   "cell_type": "code",
   "execution_count": 22,
   "id": "26712e05-7471-4c55-9584-13031fd3b01b",
   "metadata": {
    "tags": []
   },
   "outputs": [],
   "source": [
    "val_df = prepare_df(val_df)\n",
    "train_df = prepare_df(train_df)\n",
    "test_df = prepare_df(test_df)"
   ]
  },
  {
   "cell_type": "code",
   "execution_count": 23,
   "id": "ee1c5501-b66b-4a33-bb32-7f1a05122d35",
   "metadata": {
    "tags": []
   },
   "outputs": [
    {
     "data": {
      "text/plain": [
       "discuss     0.635936\n",
       "agree       0.289525\n",
       "disagree    0.074539\n",
       "Name: Stance, dtype: float64"
      ]
     },
     "execution_count": 23,
     "metadata": {},
     "output_type": "execute_result"
    }
   ],
   "source": [
    "val_df[\"Stance\"].value_counts(normalize=True)#.plot(kind=\"bar\")"
   ]
  },
  {
   "cell_type": "code",
   "execution_count": 24,
   "id": "39629975-8ef2-4a78-a111-8fcd0872d100",
   "metadata": {
    "tags": []
   },
   "outputs": [
    {
     "data": {
      "text/plain": [
       "discuss     0.669976\n",
       "agree       0.270270\n",
       "disagree    0.059754\n",
       "Name: Stance, dtype: float64"
      ]
     },
     "execution_count": 24,
     "metadata": {},
     "output_type": "execute_result"
    }
   ],
   "source": [
    "train_df[\"Stance\"].value_counts(normalize=True)#.plot(kind=\"bar\")"
   ]
  },
  {
   "cell_type": "code",
   "execution_count": 25,
   "id": "d465624d-0694-4783-90b7-4f19b6d21aa5",
   "metadata": {
    "tags": []
   },
   "outputs": [
    {
     "data": {
      "text/plain": [
       "discuss     0.631937\n",
       "agree       0.269394\n",
       "disagree    0.098669\n",
       "Name: Stance, dtype: float64"
      ]
     },
     "execution_count": 25,
     "metadata": {},
     "output_type": "execute_result"
    }
   ],
   "source": [
    "test_df[\"Stance\"].value_counts(normalize=True)#.plot(kind=\"bar\")"
   ]
  },
  {
   "cell_type": "markdown",
   "id": "bb0a7a9a-3345-4336-9a60-0413b595945b",
   "metadata": {},
   "source": [
    "# Clean the Data\n",
    "Now we have the data, need to clean the data and extract the TF-IDF features. Basic things to consider doing:\n",
    "* Remove punctuation\n",
    "* Remove URLs\n",
    "* Remove HTML\n",
    "* Remove numbers\n",
    "* Remove emojis\n",
    "* Convert to lowercase\n",
    "\n",
    "And we should also:\n",
    "* Tokenise\n",
    "* Remove stopwords\n",
    "* Lemmatisation or Stemming"
   ]
  },
  {
   "cell_type": "code",
   "execution_count": 26,
   "id": "40939c5f-0474-45ee-a941-a30cb46d74e8",
   "metadata": {
    "tags": []
   },
   "outputs": [],
   "source": [
    "# Most of this from the first practical\n",
    "additional_specials = [\"—\", \"”\", \"“\", \"’\", \"‘\"]\n",
    "\n",
    "def remove_excess_whitespace(text):\n",
    "    text = text.replace(\"\\n\", \" \")\n",
    "    text = text.replace(\"\\t\", \" \")\n",
    "    text = text.replace(\"\\r\", \" \")\n",
    "    text = text.strip()\n",
    "    return text\n",
    "\n",
    "def remove_punctuation(text):\n",
    "    punc = str.maketrans('', '', string.punctuation)\n",
    "    text = text.translate(punc)\n",
    "    \n",
    "    for special in additional_specials:\n",
    "        text = text.replace(special, \"\")\n",
    "    \n",
    "    return text\n",
    "\n",
    "def remove_urls(text):\n",
    "    url = re.compile(r'https?://\\S+|www\\.\\S+')\n",
    "    return url.sub('', text)\n",
    "\n",
    "def remove_html(text):\n",
    "    html = re.compile(r'<.*?>')\n",
    "    return html.sub('', text)\n",
    "\n",
    "def remove_numbers(text):\n",
    "    numbers = re.compile(r'\\d+')\n",
    "    return numbers.sub('', text)\n",
    "\n",
    "def remove_emojis(text):\n",
    "    emoji_pattern = re.compile(\"[\"\n",
    "                           u\"\\U0001F600-\\U0001F64F\"  # emoticons\n",
    "                           u\"\\U0001F300-\\U0001F5FF\"  # symbols & pictographs\n",
    "                           u\"\\U0001F680-\\U0001F6FF\"  # transport & map symbols\n",
    "                           u\"\\U0001F1E0-\\U0001F1FF\"  # flags (iOS)\n",
    "                           u\"\\U00002702-\\U000027B0\"\n",
    "                           u\"\\U000024C2-\\U0001F251\"\n",
    "                           \"]+\", flags=re.UNICODE)\n",
    "    \n",
    "    return emoji_pattern.sub(r'', text)\n",
    "\n",
    "def apply_cleaning(text, excess=True, punc=True, urls=True, html=True, numbers=True, emojis=True, lower=True):\n",
    "    if excess:\n",
    "        text = \" \".join(text.split())\n",
    "        \n",
    "    if punc:\n",
    "        text = remove_punctuation(text)\n",
    "    \n",
    "    if urls:\n",
    "        text = remove_urls(text)\n",
    "    \n",
    "    if html:\n",
    "        text = remove_html(text)\n",
    "    \n",
    "    if numbers:\n",
    "        text = remove_numbers(text)\n",
    "        \n",
    "    if emojis:\n",
    "        text = remove_emojis(text)\n",
    "        \n",
    "    if lower:\n",
    "        text = text.lower()\n",
    "    \n",
    "    return text"
   ]
  },
  {
   "cell_type": "code",
   "execution_count": 27,
   "id": "e6faa375-e271-428a-ba17-01b89b7c2120",
   "metadata": {
    "tags": []
   },
   "outputs": [],
   "source": [
    "config_remove_excess_whitespace = True\n",
    "config_remove_punctuation = False\n",
    "config_remove_urls = True\n",
    "config_remove_html = True\n",
    "config_remove_numbers = False\n",
    "config_remove_emojis = True\n",
    "config_convert_to_lowercase = False"
   ]
  },
  {
   "cell_type": "code",
   "execution_count": 28,
   "id": "0a2133b2-7cb9-4992-8553-4990c846c275",
   "metadata": {
    "tags": []
   },
   "outputs": [],
   "source": [
    "def process_text(text):\n",
    "    text = apply_cleaning(\n",
    "        text, \n",
    "        excess=config_remove_excess_whitespace, \n",
    "        punc=config_remove_punctuation, \n",
    "        urls=config_remove_urls, \n",
    "        html=config_remove_html, \n",
    "        numbers=config_remove_numbers, \n",
    "        emojis=config_remove_emojis, \n",
    "        lower=config_convert_to_lowercase\n",
    "    )\n",
    "    \n",
    "    return text"
   ]
  },
  {
   "cell_type": "code",
   "execution_count": 29,
   "id": "e5c5223f-c3bf-435d-84b9-4bf3d61691c6",
   "metadata": {
    "tags": []
   },
   "outputs": [
    {
     "name": "stdout",
     "output_type": "stream",
     "text": [
      "Unprocessed:\n",
      "(Reuters) - No suspected cases of Ebola have been found in Iraq, despite reports to the contrary in Iraqi media in the past week, the World Health Organization (WHO) said on Tuesday.\n",
      "\n",
      "Describing reports of suspect cases of the deadly viral infection in Mosul as \"rumor\", the Geneva-based United Nations health agency said it and the Iraqi health ministry had conducted a full investigation.\n",
      "\n",
      "\"All sources contacted have negated the existence of any suspected cases of Ebola,\" the WHO said in a statement.\n",
      "\n",
      "\"The (Iraqi) Ministry of Health and the World Health Organization further confirmed that the laboratory facilities in Mosul do not have the necessary capabilities to diagnose and confirm the Ebola virus.\"\n",
      "\n",
      "Reports of suspected Ebola cases appeared on Dec. 31 in Iraq's Al-Sabah newspaper, Rudaw online newspaper and on the Shafaq news agency and were relayed through other media in and outside Iraq, prompting the WHO and Iraqi authorities to investigate.\n",
      "\n",
      "Processed:\n",
      "(Reuters) - No suspected cases of Ebola have been found in Iraq, despite reports to the contrary in Iraqi media in the past week, the World Health Organization (WHO) said on Tuesday. Describing reports of suspect cases of the deadly viral infection in Mosul as \"rumor\", the Geneva-based United Nations health agency said it and the Iraqi health ministry had conducted a full investigation. \"All sources contacted have negated the existence of any suspected cases of Ebola,\" the WHO said in a statement. \"The (Iraqi) Ministry of Health and the World Health Organization further confirmed that the laboratory facilities in Mosul do not have the necessary capabilities to diagnose and confirm the Ebola virus.\" Reports of suspected Ebola cases appeared on Dec. 31 in Iraq's Al-Sabah newspaper, Rudaw online newspaper and on the Shafaq news agency and were relayed through other media in and outside Iraq, prompting the WHO and Iraqi authorities to investigate.\n"
     ]
    }
   ],
   "source": [
    "test_text = train_df.iloc[812][\"articleBody\"]\n",
    "print(\"Unprocessed:\")\n",
    "print(test_text)\n",
    "print()\n",
    "test_processed = process_text(test_text)\n",
    "print(\"Processed:\")\n",
    "print(test_processed)"
   ]
  },
  {
   "cell_type": "code",
   "execution_count": 30,
   "id": "2f9aa027-535f-49c1-b63b-195c1bec0965",
   "metadata": {
    "tags": []
   },
   "outputs": [
    {
     "data": {
      "text/html": [
       "<div>\n",
       "<style scoped>\n",
       "    .dataframe tbody tr th:only-of-type {\n",
       "        vertical-align: middle;\n",
       "    }\n",
       "\n",
       "    .dataframe tbody tr th {\n",
       "        vertical-align: top;\n",
       "    }\n",
       "\n",
       "    .dataframe thead th {\n",
       "        text-align: right;\n",
       "    }\n",
       "</style>\n",
       "<table border=\"1\" class=\"dataframe\">\n",
       "  <thead>\n",
       "    <tr style=\"text-align: right;\">\n",
       "      <th></th>\n",
       "      <th>Headline</th>\n",
       "      <th>Stance</th>\n",
       "      <th>articleBody</th>\n",
       "      <th>Related</th>\n",
       "    </tr>\n",
       "  </thead>\n",
       "  <tbody>\n",
       "    <tr>\n",
       "      <th>0</th>\n",
       "      <td>Seth Rogen to Play Apple’s Steve Wozniak</td>\n",
       "      <td>discuss</td>\n",
       "      <td>Danny Boyle is directing the untitled film\\r\\n...</td>\n",
       "      <td>True</td>\n",
       "    </tr>\n",
       "    <tr>\n",
       "      <th>1</th>\n",
       "      <td>Return of the Mac: Seth Rogen in talks to star...</td>\n",
       "      <td>discuss</td>\n",
       "      <td>Danny Boyle is directing the untitled film\\r\\n...</td>\n",
       "      <td>True</td>\n",
       "    </tr>\n",
       "    <tr>\n",
       "      <th>2</th>\n",
       "      <td>Seth Rogen Is Woz</td>\n",
       "      <td>discuss</td>\n",
       "      <td>Danny Boyle is directing the untitled film\\r\\n...</td>\n",
       "      <td>True</td>\n",
       "    </tr>\n",
       "    <tr>\n",
       "      <th>3</th>\n",
       "      <td>Steve Jobs Biopic Eyes Seth Rogen to Play Appl...</td>\n",
       "      <td>discuss</td>\n",
       "      <td>Danny Boyle is directing the untitled film\\r\\n...</td>\n",
       "      <td>True</td>\n",
       "    </tr>\n",
       "    <tr>\n",
       "      <th>4</th>\n",
       "      <td>Seth Rogen Eyed to Play Apple's Steve Wozniak ...</td>\n",
       "      <td>discuss</td>\n",
       "      <td>Danny Boyle is directing the untitled film\\r\\n...</td>\n",
       "      <td>True</td>\n",
       "    </tr>\n",
       "    <tr>\n",
       "      <th>...</th>\n",
       "      <td>...</td>\n",
       "      <td>...</td>\n",
       "      <td>...</td>\n",
       "      <td>...</td>\n",
       "    </tr>\n",
       "    <tr>\n",
       "      <th>10873</th>\n",
       "      <td>“Willie Nelson dead 2015” : Guitarist killed b...</td>\n",
       "      <td>agree</td>\n",
       "      <td>News of guitarist Willie Nelson’s death spread...</td>\n",
       "      <td>True</td>\n",
       "    </tr>\n",
       "    <tr>\n",
       "      <th>10874</th>\n",
       "      <td>Amazon Is Opening a Brick-and-Mortar Store in ...</td>\n",
       "      <td>agree</td>\n",
       "      <td>Amazon, the cyber store that sells everything,...</td>\n",
       "      <td>True</td>\n",
       "    </tr>\n",
       "    <tr>\n",
       "      <th>10875</th>\n",
       "      <td>Fake BBC News website set up to carry Charlie ...</td>\n",
       "      <td>agree</td>\n",
       "      <td>A realistic-looking fake BBC News website has ...</td>\n",
       "      <td>True</td>\n",
       "    </tr>\n",
       "    <tr>\n",
       "      <th>10876</th>\n",
       "      <td>Apple was forced to nix key health features fr...</td>\n",
       "      <td>discuss</td>\n",
       "      <td>The health-focused smartwatch that Apple initi...</td>\n",
       "      <td>True</td>\n",
       "    </tr>\n",
       "    <tr>\n",
       "      <th>10877</th>\n",
       "      <td>If you want an Apple Watch, you’ll probably be...</td>\n",
       "      <td>discuss</td>\n",
       "      <td>We still don’t know the exact date the Apple W...</td>\n",
       "      <td>True</td>\n",
       "    </tr>\n",
       "  </tbody>\n",
       "</table>\n",
       "<p>10878 rows × 4 columns</p>\n",
       "</div>"
      ],
      "text/plain": [
       "                                                Headline   Stance  \\\n",
       "0               Seth Rogen to Play Apple’s Steve Wozniak  discuss   \n",
       "1      Return of the Mac: Seth Rogen in talks to star...  discuss   \n",
       "2                                      Seth Rogen Is Woz  discuss   \n",
       "3      Steve Jobs Biopic Eyes Seth Rogen to Play Appl...  discuss   \n",
       "4      Seth Rogen Eyed to Play Apple's Steve Wozniak ...  discuss   \n",
       "...                                                  ...      ...   \n",
       "10873  “Willie Nelson dead 2015” : Guitarist killed b...    agree   \n",
       "10874  Amazon Is Opening a Brick-and-Mortar Store in ...    agree   \n",
       "10875  Fake BBC News website set up to carry Charlie ...    agree   \n",
       "10876  Apple was forced to nix key health features fr...  discuss   \n",
       "10877  If you want an Apple Watch, you’ll probably be...  discuss   \n",
       "\n",
       "                                             articleBody  Related  \n",
       "0      Danny Boyle is directing the untitled film\\r\\n...     True  \n",
       "1      Danny Boyle is directing the untitled film\\r\\n...     True  \n",
       "2      Danny Boyle is directing the untitled film\\r\\n...     True  \n",
       "3      Danny Boyle is directing the untitled film\\r\\n...     True  \n",
       "4      Danny Boyle is directing the untitled film\\r\\n...     True  \n",
       "...                                                  ...      ...  \n",
       "10873  News of guitarist Willie Nelson’s death spread...     True  \n",
       "10874  Amazon, the cyber store that sells everything,...     True  \n",
       "10875  A realistic-looking fake BBC News website has ...     True  \n",
       "10876  The health-focused smartwatch that Apple initi...     True  \n",
       "10877  We still don’t know the exact date the Apple W...     True  \n",
       "\n",
       "[10878 rows x 4 columns]"
      ]
     },
     "execution_count": 30,
     "metadata": {},
     "output_type": "execute_result"
    }
   ],
   "source": [
    "train_df"
   ]
  },
  {
   "cell_type": "code",
   "execution_count": 31,
   "id": "941daa6e-3d43-4b47-8d6f-612e282826cd",
   "metadata": {
    "tags": []
   },
   "outputs": [
    {
     "data": {
      "application/vnd.jupyter.widget-view+json": {
       "model_id": "4fa752da99594700bf25de745c9cc2e0",
       "version_major": 2,
       "version_minor": 0
      },
      "text/plain": [
       "  0%|          | 0/10878 [00:00<?, ?it/s]"
      ]
     },
     "metadata": {},
     "output_type": "display_data"
    },
    {
     "data": {
      "application/vnd.jupyter.widget-view+json": {
       "model_id": "0d74e0b9b47b47cb88e3867c639d6d00",
       "version_major": 2,
       "version_minor": 0
      },
      "text/plain": [
       "  0%|          | 0/10878 [00:00<?, ?it/s]"
      ]
     },
     "metadata": {},
     "output_type": "display_data"
    }
   ],
   "source": [
    "train_df[\"Processed Headline\"] = train_df[\"Headline\"].progress_apply(process_text)\n",
    "train_df[\"Processed Body\"] = train_df[\"articleBody\"].progress_apply(process_text)"
   ]
  },
  {
   "cell_type": "code",
   "execution_count": 32,
   "id": "c79dabaa-044f-4761-a849-e89cce44c361",
   "metadata": {
    "tags": []
   },
   "outputs": [
    {
     "data": {
      "text/html": [
       "<div>\n",
       "<style scoped>\n",
       "    .dataframe tbody tr th:only-of-type {\n",
       "        vertical-align: middle;\n",
       "    }\n",
       "\n",
       "    .dataframe tbody tr th {\n",
       "        vertical-align: top;\n",
       "    }\n",
       "\n",
       "    .dataframe thead th {\n",
       "        text-align: right;\n",
       "    }\n",
       "</style>\n",
       "<table border=\"1\" class=\"dataframe\">\n",
       "  <thead>\n",
       "    <tr style=\"text-align: right;\">\n",
       "      <th></th>\n",
       "      <th>Headline</th>\n",
       "      <th>Stance</th>\n",
       "      <th>articleBody</th>\n",
       "      <th>Related</th>\n",
       "      <th>Processed Headline</th>\n",
       "      <th>Processed Body</th>\n",
       "    </tr>\n",
       "  </thead>\n",
       "  <tbody>\n",
       "    <tr>\n",
       "      <th>0</th>\n",
       "      <td>Seth Rogen to Play Apple’s Steve Wozniak</td>\n",
       "      <td>discuss</td>\n",
       "      <td>Danny Boyle is directing the untitled film\\r\\n...</td>\n",
       "      <td>True</td>\n",
       "      <td>Seth Rogen to Play Apple’s Steve Wozniak</td>\n",
       "      <td>Danny Boyle is directing the untitled film Set...</td>\n",
       "    </tr>\n",
       "    <tr>\n",
       "      <th>1</th>\n",
       "      <td>Return of the Mac: Seth Rogen in talks to star...</td>\n",
       "      <td>discuss</td>\n",
       "      <td>Danny Boyle is directing the untitled film\\r\\n...</td>\n",
       "      <td>True</td>\n",
       "      <td>Return of the Mac: Seth Rogen in talks to star...</td>\n",
       "      <td>Danny Boyle is directing the untitled film Set...</td>\n",
       "    </tr>\n",
       "    <tr>\n",
       "      <th>2</th>\n",
       "      <td>Seth Rogen Is Woz</td>\n",
       "      <td>discuss</td>\n",
       "      <td>Danny Boyle is directing the untitled film\\r\\n...</td>\n",
       "      <td>True</td>\n",
       "      <td>Seth Rogen Is Woz</td>\n",
       "      <td>Danny Boyle is directing the untitled film Set...</td>\n",
       "    </tr>\n",
       "    <tr>\n",
       "      <th>3</th>\n",
       "      <td>Steve Jobs Biopic Eyes Seth Rogen to Play Appl...</td>\n",
       "      <td>discuss</td>\n",
       "      <td>Danny Boyle is directing the untitled film\\r\\n...</td>\n",
       "      <td>True</td>\n",
       "      <td>Steve Jobs Biopic Eyes Seth Rogen to Play Appl...</td>\n",
       "      <td>Danny Boyle is directing the untitled film Set...</td>\n",
       "    </tr>\n",
       "    <tr>\n",
       "      <th>4</th>\n",
       "      <td>Seth Rogen Eyed to Play Apple's Steve Wozniak ...</td>\n",
       "      <td>discuss</td>\n",
       "      <td>Danny Boyle is directing the untitled film\\r\\n...</td>\n",
       "      <td>True</td>\n",
       "      <td>Seth Rogen Eyed to Play Apple's Steve Wozniak ...</td>\n",
       "      <td>Danny Boyle is directing the untitled film Set...</td>\n",
       "    </tr>\n",
       "    <tr>\n",
       "      <th>...</th>\n",
       "      <td>...</td>\n",
       "      <td>...</td>\n",
       "      <td>...</td>\n",
       "      <td>...</td>\n",
       "      <td>...</td>\n",
       "      <td>...</td>\n",
       "    </tr>\n",
       "    <tr>\n",
       "      <th>10873</th>\n",
       "      <td>“Willie Nelson dead 2015” : Guitarist killed b...</td>\n",
       "      <td>agree</td>\n",
       "      <td>News of guitarist Willie Nelson’s death spread...</td>\n",
       "      <td>True</td>\n",
       "      <td>“Willie Nelson dead 2015” : Guitarist killed b...</td>\n",
       "      <td>News of guitarist Willie Nelson’s death spread...</td>\n",
       "    </tr>\n",
       "    <tr>\n",
       "      <th>10874</th>\n",
       "      <td>Amazon Is Opening a Brick-and-Mortar Store in ...</td>\n",
       "      <td>agree</td>\n",
       "      <td>Amazon, the cyber store that sells everything,...</td>\n",
       "      <td>True</td>\n",
       "      <td>Amazon Is Opening a Brick-and-Mortar Store in ...</td>\n",
       "      <td>Amazon, the cyber store that sells everything,...</td>\n",
       "    </tr>\n",
       "    <tr>\n",
       "      <th>10875</th>\n",
       "      <td>Fake BBC News website set up to carry Charlie ...</td>\n",
       "      <td>agree</td>\n",
       "      <td>A realistic-looking fake BBC News website has ...</td>\n",
       "      <td>True</td>\n",
       "      <td>Fake BBC News website set up to carry Charlie ...</td>\n",
       "      <td>A realistic-looking fake BBC News website has ...</td>\n",
       "    </tr>\n",
       "    <tr>\n",
       "      <th>10876</th>\n",
       "      <td>Apple was forced to nix key health features fr...</td>\n",
       "      <td>discuss</td>\n",
       "      <td>The health-focused smartwatch that Apple initi...</td>\n",
       "      <td>True</td>\n",
       "      <td>Apple was forced to nix key health features fr...</td>\n",
       "      <td>The health-focused smartwatch that Apple initi...</td>\n",
       "    </tr>\n",
       "    <tr>\n",
       "      <th>10877</th>\n",
       "      <td>If you want an Apple Watch, you’ll probably be...</td>\n",
       "      <td>discuss</td>\n",
       "      <td>We still don’t know the exact date the Apple W...</td>\n",
       "      <td>True</td>\n",
       "      <td>If you want an Apple Watch, you’ll probably be...</td>\n",
       "      <td>We still don’t know the exact date the Apple W...</td>\n",
       "    </tr>\n",
       "  </tbody>\n",
       "</table>\n",
       "<p>10878 rows × 6 columns</p>\n",
       "</div>"
      ],
      "text/plain": [
       "                                                Headline   Stance  \\\n",
       "0               Seth Rogen to Play Apple’s Steve Wozniak  discuss   \n",
       "1      Return of the Mac: Seth Rogen in talks to star...  discuss   \n",
       "2                                      Seth Rogen Is Woz  discuss   \n",
       "3      Steve Jobs Biopic Eyes Seth Rogen to Play Appl...  discuss   \n",
       "4      Seth Rogen Eyed to Play Apple's Steve Wozniak ...  discuss   \n",
       "...                                                  ...      ...   \n",
       "10873  “Willie Nelson dead 2015” : Guitarist killed b...    agree   \n",
       "10874  Amazon Is Opening a Brick-and-Mortar Store in ...    agree   \n",
       "10875  Fake BBC News website set up to carry Charlie ...    agree   \n",
       "10876  Apple was forced to nix key health features fr...  discuss   \n",
       "10877  If you want an Apple Watch, you’ll probably be...  discuss   \n",
       "\n",
       "                                             articleBody  Related  \\\n",
       "0      Danny Boyle is directing the untitled film\\r\\n...     True   \n",
       "1      Danny Boyle is directing the untitled film\\r\\n...     True   \n",
       "2      Danny Boyle is directing the untitled film\\r\\n...     True   \n",
       "3      Danny Boyle is directing the untitled film\\r\\n...     True   \n",
       "4      Danny Boyle is directing the untitled film\\r\\n...     True   \n",
       "...                                                  ...      ...   \n",
       "10873  News of guitarist Willie Nelson’s death spread...     True   \n",
       "10874  Amazon, the cyber store that sells everything,...     True   \n",
       "10875  A realistic-looking fake BBC News website has ...     True   \n",
       "10876  The health-focused smartwatch that Apple initi...     True   \n",
       "10877  We still don’t know the exact date the Apple W...     True   \n",
       "\n",
       "                                      Processed Headline  \\\n",
       "0               Seth Rogen to Play Apple’s Steve Wozniak   \n",
       "1      Return of the Mac: Seth Rogen in talks to star...   \n",
       "2                                      Seth Rogen Is Woz   \n",
       "3      Steve Jobs Biopic Eyes Seth Rogen to Play Appl...   \n",
       "4      Seth Rogen Eyed to Play Apple's Steve Wozniak ...   \n",
       "...                                                  ...   \n",
       "10873  “Willie Nelson dead 2015” : Guitarist killed b...   \n",
       "10874  Amazon Is Opening a Brick-and-Mortar Store in ...   \n",
       "10875  Fake BBC News website set up to carry Charlie ...   \n",
       "10876  Apple was forced to nix key health features fr...   \n",
       "10877  If you want an Apple Watch, you’ll probably be...   \n",
       "\n",
       "                                          Processed Body  \n",
       "0      Danny Boyle is directing the untitled film Set...  \n",
       "1      Danny Boyle is directing the untitled film Set...  \n",
       "2      Danny Boyle is directing the untitled film Set...  \n",
       "3      Danny Boyle is directing the untitled film Set...  \n",
       "4      Danny Boyle is directing the untitled film Set...  \n",
       "...                                                  ...  \n",
       "10873  News of guitarist Willie Nelson’s death spread...  \n",
       "10874  Amazon, the cyber store that sells everything,...  \n",
       "10875  A realistic-looking fake BBC News website has ...  \n",
       "10876  The health-focused smartwatch that Apple initi...  \n",
       "10877  We still don’t know the exact date the Apple W...  \n",
       "\n",
       "[10878 rows x 6 columns]"
      ]
     },
     "execution_count": 32,
     "metadata": {},
     "output_type": "execute_result"
    }
   ],
   "source": [
    "train_df"
   ]
  },
  {
   "cell_type": "code",
   "execution_count": 33,
   "id": "04593f97-ae55-4b51-9418-577362fa703c",
   "metadata": {
    "tags": []
   },
   "outputs": [
    {
     "data": {
      "application/vnd.jupyter.widget-view+json": {
       "model_id": "7210e78e14ad46a2b6aef935887bd6e4",
       "version_major": 2,
       "version_minor": 0
      },
      "text/plain": [
       "  0%|          | 0/2549 [00:00<?, ?it/s]"
      ]
     },
     "metadata": {},
     "output_type": "display_data"
    },
    {
     "data": {
      "application/vnd.jupyter.widget-view+json": {
       "model_id": "f6341ed3dd2d48c18d609548f68de3c9",
       "version_major": 2,
       "version_minor": 0
      },
      "text/plain": [
       "  0%|          | 0/2549 [00:00<?, ?it/s]"
      ]
     },
     "metadata": {},
     "output_type": "display_data"
    }
   ],
   "source": [
    "val_df[\"Processed Headline\"] = val_df[\"Headline\"].progress_apply(process_text)\n",
    "val_df[\"Processed Body\"] = val_df[\"articleBody\"].progress_apply(process_text)"
   ]
  },
  {
   "cell_type": "code",
   "execution_count": 34,
   "id": "e97b5950-887d-481e-babb-047aee6caf17",
   "metadata": {
    "tags": []
   },
   "outputs": [
    {
     "data": {
      "text/html": [
       "<div>\n",
       "<style scoped>\n",
       "    .dataframe tbody tr th:only-of-type {\n",
       "        vertical-align: middle;\n",
       "    }\n",
       "\n",
       "    .dataframe tbody tr th {\n",
       "        vertical-align: top;\n",
       "    }\n",
       "\n",
       "    .dataframe thead th {\n",
       "        text-align: right;\n",
       "    }\n",
       "</style>\n",
       "<table border=\"1\" class=\"dataframe\">\n",
       "  <thead>\n",
       "    <tr style=\"text-align: right;\">\n",
       "      <th></th>\n",
       "      <th>Headline</th>\n",
       "      <th>Stance</th>\n",
       "      <th>articleBody</th>\n",
       "      <th>Related</th>\n",
       "      <th>Processed Headline</th>\n",
       "      <th>Processed Body</th>\n",
       "    </tr>\n",
       "  </thead>\n",
       "  <tbody>\n",
       "    <tr>\n",
       "      <th>0</th>\n",
       "      <td>Spider burrowed through tourist's stomach and ...</td>\n",
       "      <td>disagree</td>\n",
       "      <td>Fear not arachnophobes, the story of Bunbury's...</td>\n",
       "      <td>True</td>\n",
       "      <td>Spider burrowed through tourist's stomach and ...</td>\n",
       "      <td>Fear not arachnophobes, the story of Bunbury's...</td>\n",
       "    </tr>\n",
       "    <tr>\n",
       "      <th>1</th>\n",
       "      <td>No, a spider (probably) didn't crawl through a...</td>\n",
       "      <td>agree</td>\n",
       "      <td>Fear not arachnophobes, the story of Bunbury's...</td>\n",
       "      <td>True</td>\n",
       "      <td>No, a spider (probably) didn't crawl through a...</td>\n",
       "      <td>Fear not arachnophobes, the story of Bunbury's...</td>\n",
       "    </tr>\n",
       "    <tr>\n",
       "      <th>2</th>\n",
       "      <td>Tropical spider burrowed under man's skin thro...</td>\n",
       "      <td>disagree</td>\n",
       "      <td>Fear not arachnophobes, the story of Bunbury's...</td>\n",
       "      <td>True</td>\n",
       "      <td>Tropical spider burrowed under man's skin thro...</td>\n",
       "      <td>Fear not arachnophobes, the story of Bunbury's...</td>\n",
       "    </tr>\n",
       "    <tr>\n",
       "      <th>3</th>\n",
       "      <td>Dylan Thomas Finds Tropical Spider Burrowed Un...</td>\n",
       "      <td>disagree</td>\n",
       "      <td>Fear not arachnophobes, the story of Bunbury's...</td>\n",
       "      <td>True</td>\n",
       "      <td>Dylan Thomas Finds Tropical Spider Burrowed Un...</td>\n",
       "      <td>Fear not arachnophobes, the story of Bunbury's...</td>\n",
       "    </tr>\n",
       "    <tr>\n",
       "      <th>4</th>\n",
       "      <td>Bali Awry</td>\n",
       "      <td>discuss</td>\n",
       "      <td>Fear not arachnophobes, the story of Bunbury's...</td>\n",
       "      <td>True</td>\n",
       "      <td>Bali Awry</td>\n",
       "      <td>Fear not arachnophobes, the story of Bunbury's...</td>\n",
       "    </tr>\n",
       "    <tr>\n",
       "      <th>...</th>\n",
       "      <td>...</td>\n",
       "      <td>...</td>\n",
       "      <td>...</td>\n",
       "      <td>...</td>\n",
       "      <td>...</td>\n",
       "      <td>...</td>\n",
       "    </tr>\n",
       "    <tr>\n",
       "      <th>2544</th>\n",
       "      <td>Is Apple about to launch a totally redesigned,...</td>\n",
       "      <td>discuss</td>\n",
       "      <td>Every year, Apple does some counterprogramming...</td>\n",
       "      <td>True</td>\n",
       "      <td>Is Apple about to launch a totally redesigned,...</td>\n",
       "      <td>Every year, Apple does some counterprogramming...</td>\n",
       "    </tr>\n",
       "    <tr>\n",
       "      <th>2545</th>\n",
       "      <td>Predator drones being flown over Isil's Syrian...</td>\n",
       "      <td>agree</td>\n",
       "      <td>US drones are being flown over Isil's Syrian \"...</td>\n",
       "      <td>True</td>\n",
       "      <td>Predator drones being flown over Isil's Syrian...</td>\n",
       "      <td>US drones are being flown over Isil's Syrian \"...</td>\n",
       "    </tr>\n",
       "    <tr>\n",
       "      <th>2546</th>\n",
       "      <td>Prisoner Released in Bergdahl Exchange Tried t...</td>\n",
       "      <td>discuss</td>\n",
       "      <td>At least one of five Taliban militants release...</td>\n",
       "      <td>True</td>\n",
       "      <td>Prisoner Released in Bergdahl Exchange Tried t...</td>\n",
       "      <td>At least one of five Taliban militants release...</td>\n",
       "    </tr>\n",
       "    <tr>\n",
       "      <th>2547</th>\n",
       "      <td>Kim Jong-un necks litres of rare SNAKE wine be...</td>\n",
       "      <td>agree</td>\n",
       "      <td>TYRANT Kim Jong-un is trying to boost his love...</td>\n",
       "      <td>True</td>\n",
       "      <td>Kim Jong-un necks litres of rare SNAKE wine be...</td>\n",
       "      <td>TYRANT Kim Jong-un is trying to boost his love...</td>\n",
       "    </tr>\n",
       "    <tr>\n",
       "      <th>2548</th>\n",
       "      <td>Elon University has not banned the term ‘fresh...</td>\n",
       "      <td>agree</td>\n",
       "      <td>ELON, N.C. – A recent rumor claims that Elon U...</td>\n",
       "      <td>True</td>\n",
       "      <td>Elon University has not banned the term ‘fresh...</td>\n",
       "      <td>ELON, N.C. – A recent rumor claims that Elon U...</td>\n",
       "    </tr>\n",
       "  </tbody>\n",
       "</table>\n",
       "<p>2549 rows × 6 columns</p>\n",
       "</div>"
      ],
      "text/plain": [
       "                                               Headline    Stance  \\\n",
       "0     Spider burrowed through tourist's stomach and ...  disagree   \n",
       "1     No, a spider (probably) didn't crawl through a...     agree   \n",
       "2     Tropical spider burrowed under man's skin thro...  disagree   \n",
       "3     Dylan Thomas Finds Tropical Spider Burrowed Un...  disagree   \n",
       "4                                             Bali Awry   discuss   \n",
       "...                                                 ...       ...   \n",
       "2544  Is Apple about to launch a totally redesigned,...   discuss   \n",
       "2545  Predator drones being flown over Isil's Syrian...     agree   \n",
       "2546  Prisoner Released in Bergdahl Exchange Tried t...   discuss   \n",
       "2547  Kim Jong-un necks litres of rare SNAKE wine be...     agree   \n",
       "2548  Elon University has not banned the term ‘fresh...     agree   \n",
       "\n",
       "                                            articleBody  Related  \\\n",
       "0     Fear not arachnophobes, the story of Bunbury's...     True   \n",
       "1     Fear not arachnophobes, the story of Bunbury's...     True   \n",
       "2     Fear not arachnophobes, the story of Bunbury's...     True   \n",
       "3     Fear not arachnophobes, the story of Bunbury's...     True   \n",
       "4     Fear not arachnophobes, the story of Bunbury's...     True   \n",
       "...                                                 ...      ...   \n",
       "2544  Every year, Apple does some counterprogramming...     True   \n",
       "2545  US drones are being flown over Isil's Syrian \"...     True   \n",
       "2546  At least one of five Taliban militants release...     True   \n",
       "2547  TYRANT Kim Jong-un is trying to boost his love...     True   \n",
       "2548  ELON, N.C. – A recent rumor claims that Elon U...     True   \n",
       "\n",
       "                                     Processed Headline  \\\n",
       "0     Spider burrowed through tourist's stomach and ...   \n",
       "1     No, a spider (probably) didn't crawl through a...   \n",
       "2     Tropical spider burrowed under man's skin thro...   \n",
       "3     Dylan Thomas Finds Tropical Spider Burrowed Un...   \n",
       "4                                             Bali Awry   \n",
       "...                                                 ...   \n",
       "2544  Is Apple about to launch a totally redesigned,...   \n",
       "2545  Predator drones being flown over Isil's Syrian...   \n",
       "2546  Prisoner Released in Bergdahl Exchange Tried t...   \n",
       "2547  Kim Jong-un necks litres of rare SNAKE wine be...   \n",
       "2548  Elon University has not banned the term ‘fresh...   \n",
       "\n",
       "                                         Processed Body  \n",
       "0     Fear not arachnophobes, the story of Bunbury's...  \n",
       "1     Fear not arachnophobes, the story of Bunbury's...  \n",
       "2     Fear not arachnophobes, the story of Bunbury's...  \n",
       "3     Fear not arachnophobes, the story of Bunbury's...  \n",
       "4     Fear not arachnophobes, the story of Bunbury's...  \n",
       "...                                                 ...  \n",
       "2544  Every year, Apple does some counterprogramming...  \n",
       "2545  US drones are being flown over Isil's Syrian \"...  \n",
       "2546  At least one of five Taliban militants release...  \n",
       "2547  TYRANT Kim Jong-un is trying to boost his love...  \n",
       "2548  ELON, N.C. – A recent rumor claims that Elon U...  \n",
       "\n",
       "[2549 rows x 6 columns]"
      ]
     },
     "execution_count": 34,
     "metadata": {},
     "output_type": "execute_result"
    }
   ],
   "source": [
    "val_df"
   ]
  },
  {
   "cell_type": "code",
   "execution_count": 35,
   "id": "c2b6749e-e865-46e9-98c4-217da58949e7",
   "metadata": {
    "tags": []
   },
   "outputs": [
    {
     "data": {
      "application/vnd.jupyter.widget-view+json": {
       "model_id": "21a8c5dde81e4a2cbc7daaf5eb70432e",
       "version_major": 2,
       "version_minor": 0
      },
      "text/plain": [
       "  0%|          | 0/7064 [00:00<?, ?it/s]"
      ]
     },
     "metadata": {},
     "output_type": "display_data"
    },
    {
     "data": {
      "application/vnd.jupyter.widget-view+json": {
       "model_id": "f4d6ff5b7a8a4a0192c3fbbe98c809f6",
       "version_major": 2,
       "version_minor": 0
      },
      "text/plain": [
       "  0%|          | 0/7064 [00:00<?, ?it/s]"
      ]
     },
     "metadata": {},
     "output_type": "display_data"
    }
   ],
   "source": [
    "test_df[\"Processed Headline\"] = test_df[\"Headline\"].progress_apply(process_text)\n",
    "test_df[\"Processed Body\"] = test_df[\"articleBody\"].progress_apply(process_text)"
   ]
  },
  {
   "cell_type": "code",
   "execution_count": 36,
   "id": "476a0d90-0785-4e5d-817c-3e740d5792f3",
   "metadata": {
    "tags": []
   },
   "outputs": [
    {
     "data": {
      "text/html": [
       "<div>\n",
       "<style scoped>\n",
       "    .dataframe tbody tr th:only-of-type {\n",
       "        vertical-align: middle;\n",
       "    }\n",
       "\n",
       "    .dataframe tbody tr th {\n",
       "        vertical-align: top;\n",
       "    }\n",
       "\n",
       "    .dataframe thead th {\n",
       "        text-align: right;\n",
       "    }\n",
       "</style>\n",
       "<table border=\"1\" class=\"dataframe\">\n",
       "  <thead>\n",
       "    <tr style=\"text-align: right;\">\n",
       "      <th></th>\n",
       "      <th>Headline</th>\n",
       "      <th>Stance</th>\n",
       "      <th>articleBody</th>\n",
       "      <th>Related</th>\n",
       "      <th>Processed Headline</th>\n",
       "      <th>Processed Body</th>\n",
       "    </tr>\n",
       "  </thead>\n",
       "  <tbody>\n",
       "    <tr>\n",
       "      <th>0</th>\n",
       "      <td>Police Chief In Charge of Paris Attacks Commit...</td>\n",
       "      <td>discuss</td>\n",
       "      <td>A RESPECTED senior French police officer inves...</td>\n",
       "      <td>True</td>\n",
       "      <td>Police Chief In Charge of Paris Attacks Commit...</td>\n",
       "      <td>A RESPECTED senior French police officer inves...</td>\n",
       "    </tr>\n",
       "    <tr>\n",
       "      <th>1</th>\n",
       "      <td>Police officer in Charlie Hebdo investigation ...</td>\n",
       "      <td>discuss</td>\n",
       "      <td>A RESPECTED senior French police officer inves...</td>\n",
       "      <td>True</td>\n",
       "      <td>Police officer in Charlie Hebdo investigation ...</td>\n",
       "      <td>A RESPECTED senior French police officer inves...</td>\n",
       "    </tr>\n",
       "    <tr>\n",
       "      <th>2</th>\n",
       "      <td>Top cop investigating Charlie Hebdo attacks ki...</td>\n",
       "      <td>discuss</td>\n",
       "      <td>A RESPECTED senior French police officer inves...</td>\n",
       "      <td>True</td>\n",
       "      <td>Top cop investigating Charlie Hebdo attacks ki...</td>\n",
       "      <td>A RESPECTED senior French police officer inves...</td>\n",
       "    </tr>\n",
       "    <tr>\n",
       "      <th>3</th>\n",
       "      <td>New Twist: Charlie Hebdo Police Investigator T...</td>\n",
       "      <td>discuss</td>\n",
       "      <td>A RESPECTED senior French police officer inves...</td>\n",
       "      <td>True</td>\n",
       "      <td>New Twist: Charlie Hebdo Police Investigator T...</td>\n",
       "      <td>A RESPECTED senior French police officer inves...</td>\n",
       "    </tr>\n",
       "    <tr>\n",
       "      <th>4</th>\n",
       "      <td>Report: Apple May Buy Social Network Path</td>\n",
       "      <td>discuss</td>\n",
       "      <td>Dave Morin's social networking company Path is...</td>\n",
       "      <td>True</td>\n",
       "      <td>Report: Apple May Buy Social Network Path</td>\n",
       "      <td>Dave Morin's social networking company Path is...</td>\n",
       "    </tr>\n",
       "    <tr>\n",
       "      <th>...</th>\n",
       "      <td>...</td>\n",
       "      <td>...</td>\n",
       "      <td>...</td>\n",
       "      <td>...</td>\n",
       "      <td>...</td>\n",
       "      <td>...</td>\n",
       "    </tr>\n",
       "    <tr>\n",
       "      <th>7059</th>\n",
       "      <td>A Sign That Obamacare Exchanges Are Failing</td>\n",
       "      <td>disagree</td>\n",
       "      <td>Remember how much Republicans wanted to repeal...</td>\n",
       "      <td>True</td>\n",
       "      <td>A Sign That Obamacare Exchanges Are Failing</td>\n",
       "      <td>Remember how much Republicans wanted to repeal...</td>\n",
       "    </tr>\n",
       "    <tr>\n",
       "      <th>7060</th>\n",
       "      <td>Republicans call Obamacare a 'failure.' These ...</td>\n",
       "      <td>agree</td>\n",
       "      <td>Remember how much Republicans wanted to repeal...</td>\n",
       "      <td>True</td>\n",
       "      <td>Republicans call Obamacare a 'failure.' These ...</td>\n",
       "      <td>Remember how much Republicans wanted to repeal...</td>\n",
       "    </tr>\n",
       "    <tr>\n",
       "      <th>7061</th>\n",
       "      <td>CBO’s Alternate Facts Show Obamacare is Unsust...</td>\n",
       "      <td>disagree</td>\n",
       "      <td>Remember how much Republicans wanted to repeal...</td>\n",
       "      <td>True</td>\n",
       "      <td>CBO’s Alternate Facts Show Obamacare is Unsust...</td>\n",
       "      <td>Remember how much Republicans wanted to repeal...</td>\n",
       "    </tr>\n",
       "    <tr>\n",
       "      <th>7062</th>\n",
       "      <td>Why Obamacare failed</td>\n",
       "      <td>disagree</td>\n",
       "      <td>Remember how much Republicans wanted to repeal...</td>\n",
       "      <td>True</td>\n",
       "      <td>Why Obamacare failed</td>\n",
       "      <td>Remember how much Republicans wanted to repeal...</td>\n",
       "    </tr>\n",
       "    <tr>\n",
       "      <th>7063</th>\n",
       "      <td>The success of the Affordable Care Act is a hu...</td>\n",
       "      <td>agree</td>\n",
       "      <td>Remember how much Republicans wanted to repeal...</td>\n",
       "      <td>True</td>\n",
       "      <td>The success of the Affordable Care Act is a hu...</td>\n",
       "      <td>Remember how much Republicans wanted to repeal...</td>\n",
       "    </tr>\n",
       "  </tbody>\n",
       "</table>\n",
       "<p>7064 rows × 6 columns</p>\n",
       "</div>"
      ],
      "text/plain": [
       "                                               Headline    Stance  \\\n",
       "0     Police Chief In Charge of Paris Attacks Commit...   discuss   \n",
       "1     Police officer in Charlie Hebdo investigation ...   discuss   \n",
       "2     Top cop investigating Charlie Hebdo attacks ki...   discuss   \n",
       "3     New Twist: Charlie Hebdo Police Investigator T...   discuss   \n",
       "4             Report: Apple May Buy Social Network Path   discuss   \n",
       "...                                                 ...       ...   \n",
       "7059        A Sign That Obamacare Exchanges Are Failing  disagree   \n",
       "7060  Republicans call Obamacare a 'failure.' These ...     agree   \n",
       "7061  CBO’s Alternate Facts Show Obamacare is Unsust...  disagree   \n",
       "7062                               Why Obamacare failed  disagree   \n",
       "7063  The success of the Affordable Care Act is a hu...     agree   \n",
       "\n",
       "                                            articleBody  Related  \\\n",
       "0     A RESPECTED senior French police officer inves...     True   \n",
       "1     A RESPECTED senior French police officer inves...     True   \n",
       "2     A RESPECTED senior French police officer inves...     True   \n",
       "3     A RESPECTED senior French police officer inves...     True   \n",
       "4     Dave Morin's social networking company Path is...     True   \n",
       "...                                                 ...      ...   \n",
       "7059  Remember how much Republicans wanted to repeal...     True   \n",
       "7060  Remember how much Republicans wanted to repeal...     True   \n",
       "7061  Remember how much Republicans wanted to repeal...     True   \n",
       "7062  Remember how much Republicans wanted to repeal...     True   \n",
       "7063  Remember how much Republicans wanted to repeal...     True   \n",
       "\n",
       "                                     Processed Headline  \\\n",
       "0     Police Chief In Charge of Paris Attacks Commit...   \n",
       "1     Police officer in Charlie Hebdo investigation ...   \n",
       "2     Top cop investigating Charlie Hebdo attacks ki...   \n",
       "3     New Twist: Charlie Hebdo Police Investigator T...   \n",
       "4             Report: Apple May Buy Social Network Path   \n",
       "...                                                 ...   \n",
       "7059        A Sign That Obamacare Exchanges Are Failing   \n",
       "7060  Republicans call Obamacare a 'failure.' These ...   \n",
       "7061  CBO’s Alternate Facts Show Obamacare is Unsust...   \n",
       "7062                               Why Obamacare failed   \n",
       "7063  The success of the Affordable Care Act is a hu...   \n",
       "\n",
       "                                         Processed Body  \n",
       "0     A RESPECTED senior French police officer inves...  \n",
       "1     A RESPECTED senior French police officer inves...  \n",
       "2     A RESPECTED senior French police officer inves...  \n",
       "3     A RESPECTED senior French police officer inves...  \n",
       "4     Dave Morin's social networking company Path is...  \n",
       "...                                                 ...  \n",
       "7059  Remember how much Republicans wanted to repeal...  \n",
       "7060  Remember how much Republicans wanted to repeal...  \n",
       "7061  Remember how much Republicans wanted to repeal...  \n",
       "7062  Remember how much Republicans wanted to repeal...  \n",
       "7063  Remember how much Republicans wanted to repeal...  \n",
       "\n",
       "[7064 rows x 6 columns]"
      ]
     },
     "execution_count": 36,
     "metadata": {},
     "output_type": "execute_result"
    }
   ],
   "source": [
    "test_df"
   ]
  },
  {
   "cell_type": "markdown",
   "id": "fafbc18e-9f85-4204-9b29-4ad4524eb86c",
   "metadata": {},
   "source": [
    "# BERT Tokeniser"
   ]
  },
  {
   "cell_type": "code",
   "execution_count": 37,
   "id": "0f84d9d0-49ab-4ac5-aa49-b49599ccfb9f",
   "metadata": {
    "tags": []
   },
   "outputs": [],
   "source": [
    "selected_model = \"bert-base-uncased\""
   ]
  },
  {
   "cell_type": "code",
   "execution_count": 38,
   "id": "bf786855-a55c-44b3-bba8-54e5669ecd7e",
   "metadata": {
    "tags": []
   },
   "outputs": [],
   "source": [
    "tokeniser = BertTokenizer.from_pretrained(selected_model)"
   ]
  },
  {
   "cell_type": "code",
   "execution_count": 39,
   "id": "664a69c2-d428-4b74-8c5b-ebfe7618376e",
   "metadata": {
    "tags": []
   },
   "outputs": [
    {
     "data": {
      "text/plain": [
       "'(Reuters) - No suspected cases of Ebola have been found in Iraq, despite reports to the contrary in Iraqi media in the past week, the World Health Organization (WHO) said on Tuesday. Describing reports of suspect cases of the deadly viral infection in Mosul as \"rumor\", the Geneva-based United Nations health agency said it and the Iraqi health ministry had conducted a full investigation. \"All sources contacted have negated the existence of any suspected cases of Ebola,\" the WHO said in a statement. \"The (Iraqi) Ministry of Health and the World Health Organization further confirmed that the laboratory facilities in Mosul do not have the necessary capabilities to diagnose and confirm the Ebola virus.\" Reports of suspected Ebola cases appeared on Dec. 31 in Iraq\\'s Al-Sabah newspaper, Rudaw online newspaper and on the Shafaq news agency and were relayed through other media in and outside Iraq, prompting the WHO and Iraqi authorities to investigate.'"
      ]
     },
     "execution_count": 39,
     "metadata": {},
     "output_type": "execute_result"
    }
   ],
   "source": [
    "test_processed"
   ]
  },
  {
   "cell_type": "code",
   "execution_count": 40,
   "id": "935dfdcf-cea0-48ad-88fd-bac86586a810",
   "metadata": {
    "tags": []
   },
   "outputs": [
    {
     "name": "stdout",
     "output_type": "stream",
     "text": [
      "['(', 'reuters', ')', '-', 'no', 'suspected', 'cases', 'of', 'e', '##bola', 'have', 'been', 'found', 'in', 'iraq', ',', 'despite', 'reports', 'to', 'the', 'contrary', 'in', 'iraqi', 'media', 'in', 'the', 'past', 'week', ',', 'the', 'world', 'health', 'organization', '(', 'who', ')', 'said', 'on', 'tuesday', '.', 'describing', 'reports', 'of', 'suspect', 'cases', 'of', 'the', 'deadly', 'viral', 'infection', 'in', 'mo', '##sul', 'as', '\"', 'rumor', '\"', ',', 'the', 'geneva', '-', 'based', 'united', 'nations', 'health', 'agency', 'said', 'it', 'and', 'the', 'iraqi', 'health', 'ministry', 'had', 'conducted', 'a', 'full', 'investigation', '.', '\"', 'all', 'sources', 'contacted', 'have', 'ne', '##gated', 'the', 'existence', 'of', 'any', 'suspected', 'cases', 'of', 'e', '##bola', ',', '\"', 'the', 'who', 'said', 'in', 'a', 'statement', '.', '\"', 'the', '(', 'iraqi', ')', 'ministry', 'of', 'health', 'and', 'the', 'world', 'health', 'organization', 'further', 'confirmed', 'that', 'the', 'laboratory', 'facilities', 'in', 'mo', '##sul', 'do', 'not', 'have', 'the', 'necessary', 'capabilities', 'to', 'dia', '##gno', '##se', 'and', 'confirm', 'the', 'e', '##bola', 'virus', '.', '\"', 'reports', 'of', 'suspected', 'e', '##bola', 'cases', 'appeared', 'on', 'dec', '.', '31', 'in', 'iraq', \"'\", 's', 'al', '-', 'sabah', 'newspaper', ',', 'ru', '##da', '##w', 'online', 'newspaper', 'and', 'on', 'the', 'sha', '##fa', '##q', 'news', 'agency', 'and', 'were', 'relay', '##ed', 'through', 'other', 'media', 'in', 'and', 'outside', 'iraq', ',', 'prompting', 'the', 'who', 'and', 'iraqi', 'authorities', 'to', 'investigate', '.']\n"
     ]
    }
   ],
   "source": [
    "test_processed_tokens = tokeniser.tokenize(test_processed)\n",
    "print(test_processed_tokens)"
   ]
  },
  {
   "cell_type": "code",
   "execution_count": 41,
   "id": "908ba31f-8e9b-4321-a9cb-a923100754fb",
   "metadata": {
    "tags": []
   },
   "outputs": [
    {
     "name": "stdout",
     "output_type": "stream",
     "text": [
      "[1006, 26665, 1007, 1011, 2053, 6878, 3572, 1997, 1041, 24290, 2031, 2042, 2179, 1999, 5712, 1010, 2750, 4311, 2000, 1996, 10043, 1999, 8956, 2865, 1999, 1996, 2627, 2733, 1010, 1996, 2088, 2740, 3029, 1006, 2040, 1007, 2056, 2006, 9857, 1012, 7851, 4311, 1997, 8343, 3572, 1997, 1996, 9252, 13434, 8985, 1999, 9587, 23722, 2004, 1000, 19075, 1000, 1010, 1996, 9810, 1011, 2241, 2142, 3741, 2740, 4034, 2056, 2009, 1998, 1996, 8956, 2740, 3757, 2018, 4146, 1037, 2440, 4812, 1012, 1000, 2035, 4216, 11925, 2031, 11265, 11644, 1996, 4598, 1997, 2151, 6878, 3572, 1997, 1041, 24290, 1010, 1000, 1996, 2040, 2056, 1999, 1037, 4861, 1012, 1000, 1996, 1006, 8956, 1007, 3757, 1997, 2740, 1998, 1996, 2088, 2740, 3029, 2582, 4484, 2008, 1996, 5911, 4128, 1999, 9587, 23722, 2079, 2025, 2031, 1996, 4072, 9859, 2000, 22939, 26745, 3366, 1998, 12210, 1996, 1041, 24290, 7865, 1012, 1000, 4311, 1997, 6878, 1041, 24290, 3572, 2596, 2006, 11703, 1012, 2861, 1999, 5712, 1005, 1055, 2632, 1011, 22515, 3780, 1010, 21766, 2850, 2860, 3784, 3780, 1998, 2006, 1996, 21146, 7011, 4160, 2739, 4034, 1998, 2020, 8846, 2098, 2083, 2060, 2865, 1999, 1998, 2648, 5712, 1010, 15870, 1996, 2040, 1998, 8956, 4614, 2000, 8556, 1012]\n"
     ]
    }
   ],
   "source": [
    "test_processed_indexes = tokeniser.convert_tokens_to_ids(test_processed_tokens)\n",
    "print(test_processed_indexes)"
   ]
  },
  {
   "cell_type": "code",
   "execution_count": 42,
   "id": "ae05fc8c-eae0-4f90-af52-2f3f302f1653",
   "metadata": {
    "tags": []
   },
   "outputs": [
    {
     "data": {
      "text/plain": [
       "512"
      ]
     },
     "execution_count": 42,
     "metadata": {},
     "output_type": "execute_result"
    }
   ],
   "source": [
    "max_input_length = tokeniser.max_model_input_sizes[selected_model]\n",
    "max_input_length"
   ]
  },
  {
   "cell_type": "code",
   "execution_count": 43,
   "id": "ca48eaf0-c10d-470d-a96f-6f6370a168af",
   "metadata": {
    "tags": []
   },
   "outputs": [
    {
     "name": "stdout",
     "output_type": "stream",
     "text": [
      "['[CLS]', '(', 'reuters', ')', '-', 'no', 'suspected', 'cases', 'of', 'e', '##bola', 'have', 'been', 'found', 'in', 'iraq', ',', 'despite', 'reports', 'to', 'the', 'contrary', 'in', 'iraqi', 'media', 'in', 'the', 'past', 'week', ',', 'the', 'world', 'health', 'organization', '(', 'who', ')', 'said', 'on', 'tuesday', '.', 'describing', 'reports', 'of', 'suspect', 'cases', 'of', 'the', 'deadly', 'viral', 'infection', 'in', 'mo', '##sul', 'as', '\"', 'rumor', '\"', ',', 'the', 'geneva', '-', 'based', 'united', 'nations', 'health', 'agency', 'said', 'it', 'and', 'the', 'iraqi', 'health', 'ministry', 'had', 'conducted', 'a', 'full', 'investigation', '.', '\"', 'all', 'sources', 'contacted', 'have', 'ne', '##gated', 'the', 'existence', 'of', 'any', 'suspected', 'cases', 'of', 'e', '##bola', ',', '\"', 'the', 'who', 'said', 'in', 'a', 'statement', '.', '\"', 'the', '(', 'ira', '[SEP]']\n"
     ]
    }
   ],
   "source": [
    "test_processed_encoded = tokeniser.encode(test_processed[:max_input_length])\n",
    "test_processed_encoded_rev = tokeniser.convert_ids_to_tokens(test_processed_encoded)\n",
    "print(test_processed_encoded_rev)"
   ]
  },
  {
   "cell_type": "code",
   "execution_count": 44,
   "id": "88a1eef7-fc37-4201-8442-93f47606da55",
   "metadata": {
    "tags": []
   },
   "outputs": [
    {
     "data": {
      "text/plain": [
       "{'input_ids': [101, 1006, 26665, 1007, 1011, 2053, 6878, 3572, 1997, 1041, 24290, 2031, 2042, 2179, 1999, 5712, 1010, 2750, 4311, 2000, 1996, 10043, 1999, 8956, 2865, 1999, 1996, 2627, 2733, 1010, 1996, 2088, 2740, 3029, 1006, 2040, 1007, 2056, 2006, 9857, 1012, 7851, 4311, 1997, 8343, 3572, 1997, 1996, 9252, 13434, 8985, 1999, 9587, 23722, 2004, 1000, 19075, 1000, 1010, 1996, 9810, 1011, 2241, 2142, 3741, 2740, 4034, 2056, 2009, 1998, 1996, 8956, 2740, 3757, 2018, 4146, 1037, 2440, 4812, 1012, 1000, 2035, 4216, 11925, 2031, 11265, 11644, 1996, 4598, 1997, 2151, 6878, 3572, 1997, 1041, 24290, 1010, 1000, 1996, 2040, 2056, 1999, 1037, 4861, 1012, 1000, 1996, 1006, 8956, 1007, 3757, 1997, 2740, 1998, 1996, 2088, 2740, 3029, 2582, 4484, 2008, 1996, 5911, 4128, 1999, 9587, 23722, 2079, 2025, 2031, 1996, 4072, 9859, 2000, 22939, 26745, 3366, 1998, 12210, 1996, 1041, 24290, 7865, 1012, 1000, 4311, 1997, 6878, 1041, 24290, 3572, 2596, 2006, 11703, 1012, 2861, 1999, 5712, 1005, 1055, 2632, 1011, 22515, 3780, 1010, 21766, 2850, 2860, 3784, 3780, 1998, 2006, 1996, 21146, 7011, 4160, 2739, 4034, 1998, 2020, 8846, 2098, 2083, 2060, 2865, 1999, 1998, 2648, 5712, 1010, 15870, 1996, 2040, 1998, 8956, 4614, 2000, 8556, 1012, 102], 'token_type_ids': [0, 0, 0, 0, 0, 0, 0, 0, 0, 0, 0, 0, 0, 0, 0, 0, 0, 0, 0, 0, 0, 0, 0, 0, 0, 0, 0, 0, 0, 0, 0, 0, 0, 0, 0, 0, 0, 0, 0, 0, 0, 0, 0, 0, 0, 0, 0, 0, 0, 0, 0, 0, 0, 0, 0, 0, 0, 0, 0, 0, 0, 0, 0, 0, 0, 0, 0, 0, 0, 0, 0, 0, 0, 0, 0, 0, 0, 0, 0, 0, 0, 0, 0, 0, 0, 0, 0, 0, 0, 0, 0, 0, 0, 0, 0, 0, 0, 0, 0, 0, 0, 0, 0, 0, 0, 0, 0, 0, 0, 0, 0, 0, 0, 0, 0, 0, 0, 0, 0, 0, 0, 0, 0, 0, 0, 0, 0, 0, 0, 0, 0, 0, 0, 0, 0, 0, 0, 0, 0, 0, 0, 0, 0, 0, 0, 0, 0, 0, 0, 0, 0, 0, 0, 0, 0, 0, 0, 0, 0, 0, 0, 0, 0, 0, 0, 0, 0, 0, 0, 0, 0, 0, 0, 0, 0, 0, 0, 0, 0, 0, 0, 0, 0, 0, 0, 0, 0, 0, 0, 0, 0, 0, 0, 0, 0, 0, 0, 0, 0, 0], 'attention_mask': [1, 1, 1, 1, 1, 1, 1, 1, 1, 1, 1, 1, 1, 1, 1, 1, 1, 1, 1, 1, 1, 1, 1, 1, 1, 1, 1, 1, 1, 1, 1, 1, 1, 1, 1, 1, 1, 1, 1, 1, 1, 1, 1, 1, 1, 1, 1, 1, 1, 1, 1, 1, 1, 1, 1, 1, 1, 1, 1, 1, 1, 1, 1, 1, 1, 1, 1, 1, 1, 1, 1, 1, 1, 1, 1, 1, 1, 1, 1, 1, 1, 1, 1, 1, 1, 1, 1, 1, 1, 1, 1, 1, 1, 1, 1, 1, 1, 1, 1, 1, 1, 1, 1, 1, 1, 1, 1, 1, 1, 1, 1, 1, 1, 1, 1, 1, 1, 1, 1, 1, 1, 1, 1, 1, 1, 1, 1, 1, 1, 1, 1, 1, 1, 1, 1, 1, 1, 1, 1, 1, 1, 1, 1, 1, 1, 1, 1, 1, 1, 1, 1, 1, 1, 1, 1, 1, 1, 1, 1, 1, 1, 1, 1, 1, 1, 1, 1, 1, 1, 1, 1, 1, 1, 1, 1, 1, 1, 1, 1, 1, 1, 1, 1, 1, 1, 1, 1, 1, 1, 1, 1, 1, 1, 1, 1, 1, 1, 1, 1, 1]}"
      ]
     },
     "execution_count": 44,
     "metadata": {},
     "output_type": "execute_result"
    }
   ],
   "source": [
    "tokeniser(test_processed, truncation=True)"
   ]
  },
  {
   "cell_type": "code",
   "execution_count": 45,
   "id": "df52a6ea-33be-4281-866a-8522c3ff87ff",
   "metadata": {
    "tags": []
   },
   "outputs": [],
   "source": [
    "test_headline = train_df.iloc[812][\"Processed Headline\"]\n",
    "test_body = train_df.iloc[812][\"Processed Body\"]"
   ]
  },
  {
   "cell_type": "code",
   "execution_count": 46,
   "id": "f5d75140-4c92-4bb6-8e62-b1a82b0b70c0",
   "metadata": {
    "tags": []
   },
   "outputs": [
    {
     "data": {
      "text/plain": [
       "'IRAQI HEALTH OFFICIAL: EBOLA HAS KILLED 5 ISIS FIGHTERS'"
      ]
     },
     "execution_count": 46,
     "metadata": {},
     "output_type": "execute_result"
    }
   ],
   "source": [
    "test_headline"
   ]
  },
  {
   "cell_type": "code",
   "execution_count": 47,
   "id": "3fe34337-d33e-4205-8dae-67f5ea22f71a",
   "metadata": {
    "tags": []
   },
   "outputs": [
    {
     "data": {
      "text/plain": [
       "'(Reuters) - No suspected cases of Ebola have been found in Iraq, despite reports to the contrary in Iraqi media in the past week, the World Health Organization (WHO) said on Tuesday. Describing reports of suspect cases of the deadly viral infection in Mosul as \"rumor\", the Geneva-based United Nations health agency said it and the Iraqi health ministry had conducted a full investigation. \"All sources contacted have negated the existence of any suspected cases of Ebola,\" the WHO said in a statement. \"The (Iraqi) Ministry of Health and the World Health Organization further confirmed that the laboratory facilities in Mosul do not have the necessary capabilities to diagnose and confirm the Ebola virus.\" Reports of suspected Ebola cases appeared on Dec. 31 in Iraq\\'s Al-Sabah newspaper, Rudaw online newspaper and on the Shafaq news agency and were relayed through other media in and outside Iraq, prompting the WHO and Iraqi authorities to investigate.'"
      ]
     },
     "execution_count": 47,
     "metadata": {},
     "output_type": "execute_result"
    }
   ],
   "source": [
    "test_body"
   ]
  },
  {
   "cell_type": "code",
   "execution_count": 48,
   "id": "1918c79b-7bf7-46bc-9da8-4bbf0c0db783",
   "metadata": {
    "tags": []
   },
   "outputs": [],
   "source": [
    "test_concat_ids = tokeniser(test_headline, test_body, truncation=\"longest_first\", padding=\"max_length\")[\"input_ids\"]"
   ]
  },
  {
   "cell_type": "code",
   "execution_count": 49,
   "id": "e44f8743-e7bc-4760-b33e-a95a017604ee",
   "metadata": {
    "tags": []
   },
   "outputs": [
    {
     "name": "stdout",
     "output_type": "stream",
     "text": [
      "['[CLS]', 'iraqi', 'health', 'official', ':', 'e', '##bola', 'has', 'killed', '5', 'isis', 'fighters', '[SEP]', '(', 'reuters', ')', '-', 'no', 'suspected', 'cases', 'of', 'e', '##bola', 'have', 'been', 'found', 'in', 'iraq', ',', 'despite', 'reports', 'to', 'the', 'contrary', 'in', 'iraqi', 'media', 'in', 'the', 'past', 'week', ',', 'the', 'world', 'health', 'organization', '(', 'who', ')', 'said', 'on', 'tuesday', '.', 'describing', 'reports', 'of', 'suspect', 'cases', 'of', 'the', 'deadly', 'viral', 'infection', 'in', 'mo', '##sul', 'as', '\"', 'rumor', '\"', ',', 'the', 'geneva', '-', 'based', 'united', 'nations', 'health', 'agency', 'said', 'it', 'and', 'the', 'iraqi', 'health', 'ministry', 'had', 'conducted', 'a', 'full', 'investigation', '.', '\"', 'all', 'sources', 'contacted', 'have', 'ne', '##gated', 'the', 'existence', 'of', 'any', 'suspected', 'cases', 'of', 'e', '##bola', ',', '\"', 'the', 'who', 'said', 'in', 'a', 'statement', '.', '\"', 'the', '(', 'iraqi', ')', 'ministry', 'of', 'health', 'and', 'the', 'world', 'health', 'organization', 'further', 'confirmed', 'that', 'the', 'laboratory', 'facilities', 'in', 'mo', '##sul', 'do', 'not', 'have', 'the', 'necessary', 'capabilities', 'to', 'dia', '##gno', '##se', 'and', 'confirm', 'the', 'e', '##bola', 'virus', '.', '\"', 'reports', 'of', 'suspected', 'e', '##bola', 'cases', 'appeared', 'on', 'dec', '.', '31', 'in', 'iraq', \"'\", 's', 'al', '-', 'sabah', 'newspaper', ',', 'ru', '##da', '##w', 'online', 'newspaper', 'and', 'on', 'the', 'sha', '##fa', '##q', 'news', 'agency', 'and', 'were', 'relay', '##ed', 'through', 'other', 'media', 'in', 'and', 'outside', 'iraq', ',', 'prompting', 'the', 'who', 'and', 'iraqi', 'authorities', 'to', 'investigate', '.', '[SEP]', '[PAD]', '[PAD]', '[PAD]', '[PAD]', '[PAD]', '[PAD]', '[PAD]', '[PAD]', '[PAD]', '[PAD]', '[PAD]', '[PAD]', '[PAD]', '[PAD]', '[PAD]', '[PAD]', '[PAD]', '[PAD]', '[PAD]', '[PAD]', '[PAD]', '[PAD]', '[PAD]', '[PAD]', '[PAD]', '[PAD]', '[PAD]', '[PAD]', '[PAD]', '[PAD]', '[PAD]', '[PAD]', '[PAD]', '[PAD]', '[PAD]', '[PAD]', '[PAD]', '[PAD]', '[PAD]', '[PAD]', '[PAD]', '[PAD]', '[PAD]', '[PAD]', '[PAD]', '[PAD]', '[PAD]', '[PAD]', '[PAD]', '[PAD]', '[PAD]', '[PAD]', '[PAD]', '[PAD]', '[PAD]', '[PAD]', '[PAD]', '[PAD]', '[PAD]', '[PAD]', '[PAD]', '[PAD]', '[PAD]', '[PAD]', '[PAD]', '[PAD]', '[PAD]', '[PAD]', '[PAD]', '[PAD]', '[PAD]', '[PAD]', '[PAD]', '[PAD]', '[PAD]', '[PAD]', '[PAD]', '[PAD]', '[PAD]', '[PAD]', '[PAD]', '[PAD]', '[PAD]', '[PAD]', '[PAD]', '[PAD]', '[PAD]', '[PAD]', '[PAD]', '[PAD]', '[PAD]', '[PAD]', '[PAD]', '[PAD]', '[PAD]', '[PAD]', '[PAD]', '[PAD]', '[PAD]', '[PAD]', '[PAD]', '[PAD]', '[PAD]', '[PAD]', '[PAD]', '[PAD]', '[PAD]', '[PAD]', '[PAD]', '[PAD]', '[PAD]', '[PAD]', '[PAD]', '[PAD]', '[PAD]', '[PAD]', '[PAD]', '[PAD]', '[PAD]', '[PAD]', '[PAD]', '[PAD]', '[PAD]', '[PAD]', '[PAD]', '[PAD]', '[PAD]', '[PAD]', '[PAD]', '[PAD]', '[PAD]', '[PAD]', '[PAD]', '[PAD]', '[PAD]', '[PAD]', '[PAD]', '[PAD]', '[PAD]', '[PAD]', '[PAD]', '[PAD]', '[PAD]', '[PAD]', '[PAD]', '[PAD]', '[PAD]', '[PAD]', '[PAD]', '[PAD]', '[PAD]', '[PAD]', '[PAD]', '[PAD]', '[PAD]', '[PAD]', '[PAD]', '[PAD]', '[PAD]', '[PAD]', '[PAD]', '[PAD]', '[PAD]', '[PAD]', '[PAD]', '[PAD]', '[PAD]', '[PAD]', '[PAD]', '[PAD]', '[PAD]', '[PAD]', '[PAD]', '[PAD]', '[PAD]', '[PAD]', '[PAD]', '[PAD]', '[PAD]', '[PAD]', '[PAD]', '[PAD]', '[PAD]', '[PAD]', '[PAD]', '[PAD]', '[PAD]', '[PAD]', '[PAD]', '[PAD]', '[PAD]', '[PAD]', '[PAD]', '[PAD]', '[PAD]', '[PAD]', '[PAD]', '[PAD]', '[PAD]', '[PAD]', '[PAD]', '[PAD]', '[PAD]', '[PAD]', '[PAD]', '[PAD]', '[PAD]', '[PAD]', '[PAD]', '[PAD]', '[PAD]', '[PAD]', '[PAD]', '[PAD]', '[PAD]', '[PAD]', '[PAD]', '[PAD]', '[PAD]', '[PAD]', '[PAD]', '[PAD]', '[PAD]', '[PAD]', '[PAD]', '[PAD]', '[PAD]', '[PAD]', '[PAD]', '[PAD]', '[PAD]', '[PAD]', '[PAD]', '[PAD]', '[PAD]', '[PAD]', '[PAD]', '[PAD]', '[PAD]', '[PAD]', '[PAD]', '[PAD]', '[PAD]', '[PAD]', '[PAD]', '[PAD]', '[PAD]', '[PAD]', '[PAD]', '[PAD]', '[PAD]', '[PAD]', '[PAD]', '[PAD]', '[PAD]', '[PAD]', '[PAD]', '[PAD]', '[PAD]', '[PAD]', '[PAD]', '[PAD]', '[PAD]', '[PAD]', '[PAD]', '[PAD]', '[PAD]', '[PAD]', '[PAD]', '[PAD]', '[PAD]', '[PAD]', '[PAD]', '[PAD]', '[PAD]', '[PAD]', '[PAD]', '[PAD]', '[PAD]', '[PAD]', '[PAD]', '[PAD]', '[PAD]', '[PAD]', '[PAD]', '[PAD]', '[PAD]', '[PAD]', '[PAD]', '[PAD]', '[PAD]', '[PAD]', '[PAD]', '[PAD]', '[PAD]', '[PAD]', '[PAD]', '[PAD]', '[PAD]', '[PAD]']\n"
     ]
    }
   ],
   "source": [
    "test_concat_tokens = tokeniser.convert_ids_to_tokens(test_concat_ids)\n",
    "print(test_concat_tokens)"
   ]
  },
  {
   "cell_type": "code",
   "execution_count": 50,
   "id": "f7ce25c8-911f-4c2a-b3c7-25b570703de4",
   "metadata": {
    "tags": []
   },
   "outputs": [],
   "source": [
    "def concated_headline_body_tokens(headline, body):\n",
    "    concated_ids = tokeniser(headline, body, truncation=\"longest_first\", padding=\"max_length\", return_tensors=\"pt\")[\"input_ids\"]\n",
    "    return concated_ids"
   ]
  },
  {
   "cell_type": "code",
   "execution_count": 51,
   "id": "7e5b7b84-9a4b-4f75-9326-71493f1d76ff",
   "metadata": {
    "tags": []
   },
   "outputs": [
    {
     "data": {
      "text/html": [
       "<div>\n",
       "<style scoped>\n",
       "    .dataframe tbody tr th:only-of-type {\n",
       "        vertical-align: middle;\n",
       "    }\n",
       "\n",
       "    .dataframe tbody tr th {\n",
       "        vertical-align: top;\n",
       "    }\n",
       "\n",
       "    .dataframe thead th {\n",
       "        text-align: right;\n",
       "    }\n",
       "</style>\n",
       "<table border=\"1\" class=\"dataframe\">\n",
       "  <thead>\n",
       "    <tr style=\"text-align: right;\">\n",
       "      <th></th>\n",
       "      <th>Headline</th>\n",
       "      <th>Stance</th>\n",
       "      <th>articleBody</th>\n",
       "      <th>Related</th>\n",
       "      <th>Processed Headline</th>\n",
       "      <th>Processed Body</th>\n",
       "    </tr>\n",
       "  </thead>\n",
       "  <tbody>\n",
       "    <tr>\n",
       "      <th>0</th>\n",
       "      <td>Seth Rogen to Play Apple’s Steve Wozniak</td>\n",
       "      <td>discuss</td>\n",
       "      <td>Danny Boyle is directing the untitled film\\r\\n...</td>\n",
       "      <td>True</td>\n",
       "      <td>Seth Rogen to Play Apple’s Steve Wozniak</td>\n",
       "      <td>Danny Boyle is directing the untitled film Set...</td>\n",
       "    </tr>\n",
       "    <tr>\n",
       "      <th>1</th>\n",
       "      <td>Return of the Mac: Seth Rogen in talks to star...</td>\n",
       "      <td>discuss</td>\n",
       "      <td>Danny Boyle is directing the untitled film\\r\\n...</td>\n",
       "      <td>True</td>\n",
       "      <td>Return of the Mac: Seth Rogen in talks to star...</td>\n",
       "      <td>Danny Boyle is directing the untitled film Set...</td>\n",
       "    </tr>\n",
       "    <tr>\n",
       "      <th>2</th>\n",
       "      <td>Seth Rogen Is Woz</td>\n",
       "      <td>discuss</td>\n",
       "      <td>Danny Boyle is directing the untitled film\\r\\n...</td>\n",
       "      <td>True</td>\n",
       "      <td>Seth Rogen Is Woz</td>\n",
       "      <td>Danny Boyle is directing the untitled film Set...</td>\n",
       "    </tr>\n",
       "    <tr>\n",
       "      <th>3</th>\n",
       "      <td>Steve Jobs Biopic Eyes Seth Rogen to Play Appl...</td>\n",
       "      <td>discuss</td>\n",
       "      <td>Danny Boyle is directing the untitled film\\r\\n...</td>\n",
       "      <td>True</td>\n",
       "      <td>Steve Jobs Biopic Eyes Seth Rogen to Play Appl...</td>\n",
       "      <td>Danny Boyle is directing the untitled film Set...</td>\n",
       "    </tr>\n",
       "    <tr>\n",
       "      <th>4</th>\n",
       "      <td>Seth Rogen Eyed to Play Apple's Steve Wozniak ...</td>\n",
       "      <td>discuss</td>\n",
       "      <td>Danny Boyle is directing the untitled film\\r\\n...</td>\n",
       "      <td>True</td>\n",
       "      <td>Seth Rogen Eyed to Play Apple's Steve Wozniak ...</td>\n",
       "      <td>Danny Boyle is directing the untitled film Set...</td>\n",
       "    </tr>\n",
       "    <tr>\n",
       "      <th>...</th>\n",
       "      <td>...</td>\n",
       "      <td>...</td>\n",
       "      <td>...</td>\n",
       "      <td>...</td>\n",
       "      <td>...</td>\n",
       "      <td>...</td>\n",
       "    </tr>\n",
       "    <tr>\n",
       "      <th>10873</th>\n",
       "      <td>“Willie Nelson dead 2015” : Guitarist killed b...</td>\n",
       "      <td>agree</td>\n",
       "      <td>News of guitarist Willie Nelson’s death spread...</td>\n",
       "      <td>True</td>\n",
       "      <td>“Willie Nelson dead 2015” : Guitarist killed b...</td>\n",
       "      <td>News of guitarist Willie Nelson’s death spread...</td>\n",
       "    </tr>\n",
       "    <tr>\n",
       "      <th>10874</th>\n",
       "      <td>Amazon Is Opening a Brick-and-Mortar Store in ...</td>\n",
       "      <td>agree</td>\n",
       "      <td>Amazon, the cyber store that sells everything,...</td>\n",
       "      <td>True</td>\n",
       "      <td>Amazon Is Opening a Brick-and-Mortar Store in ...</td>\n",
       "      <td>Amazon, the cyber store that sells everything,...</td>\n",
       "    </tr>\n",
       "    <tr>\n",
       "      <th>10875</th>\n",
       "      <td>Fake BBC News website set up to carry Charlie ...</td>\n",
       "      <td>agree</td>\n",
       "      <td>A realistic-looking fake BBC News website has ...</td>\n",
       "      <td>True</td>\n",
       "      <td>Fake BBC News website set up to carry Charlie ...</td>\n",
       "      <td>A realistic-looking fake BBC News website has ...</td>\n",
       "    </tr>\n",
       "    <tr>\n",
       "      <th>10876</th>\n",
       "      <td>Apple was forced to nix key health features fr...</td>\n",
       "      <td>discuss</td>\n",
       "      <td>The health-focused smartwatch that Apple initi...</td>\n",
       "      <td>True</td>\n",
       "      <td>Apple was forced to nix key health features fr...</td>\n",
       "      <td>The health-focused smartwatch that Apple initi...</td>\n",
       "    </tr>\n",
       "    <tr>\n",
       "      <th>10877</th>\n",
       "      <td>If you want an Apple Watch, you’ll probably be...</td>\n",
       "      <td>discuss</td>\n",
       "      <td>We still don’t know the exact date the Apple W...</td>\n",
       "      <td>True</td>\n",
       "      <td>If you want an Apple Watch, you’ll probably be...</td>\n",
       "      <td>We still don’t know the exact date the Apple W...</td>\n",
       "    </tr>\n",
       "  </tbody>\n",
       "</table>\n",
       "<p>10878 rows × 6 columns</p>\n",
       "</div>"
      ],
      "text/plain": [
       "                                                Headline   Stance  \\\n",
       "0               Seth Rogen to Play Apple’s Steve Wozniak  discuss   \n",
       "1      Return of the Mac: Seth Rogen in talks to star...  discuss   \n",
       "2                                      Seth Rogen Is Woz  discuss   \n",
       "3      Steve Jobs Biopic Eyes Seth Rogen to Play Appl...  discuss   \n",
       "4      Seth Rogen Eyed to Play Apple's Steve Wozniak ...  discuss   \n",
       "...                                                  ...      ...   \n",
       "10873  “Willie Nelson dead 2015” : Guitarist killed b...    agree   \n",
       "10874  Amazon Is Opening a Brick-and-Mortar Store in ...    agree   \n",
       "10875  Fake BBC News website set up to carry Charlie ...    agree   \n",
       "10876  Apple was forced to nix key health features fr...  discuss   \n",
       "10877  If you want an Apple Watch, you’ll probably be...  discuss   \n",
       "\n",
       "                                             articleBody  Related  \\\n",
       "0      Danny Boyle is directing the untitled film\\r\\n...     True   \n",
       "1      Danny Boyle is directing the untitled film\\r\\n...     True   \n",
       "2      Danny Boyle is directing the untitled film\\r\\n...     True   \n",
       "3      Danny Boyle is directing the untitled film\\r\\n...     True   \n",
       "4      Danny Boyle is directing the untitled film\\r\\n...     True   \n",
       "...                                                  ...      ...   \n",
       "10873  News of guitarist Willie Nelson’s death spread...     True   \n",
       "10874  Amazon, the cyber store that sells everything,...     True   \n",
       "10875  A realistic-looking fake BBC News website has ...     True   \n",
       "10876  The health-focused smartwatch that Apple initi...     True   \n",
       "10877  We still don’t know the exact date the Apple W...     True   \n",
       "\n",
       "                                      Processed Headline  \\\n",
       "0               Seth Rogen to Play Apple’s Steve Wozniak   \n",
       "1      Return of the Mac: Seth Rogen in talks to star...   \n",
       "2                                      Seth Rogen Is Woz   \n",
       "3      Steve Jobs Biopic Eyes Seth Rogen to Play Appl...   \n",
       "4      Seth Rogen Eyed to Play Apple's Steve Wozniak ...   \n",
       "...                                                  ...   \n",
       "10873  “Willie Nelson dead 2015” : Guitarist killed b...   \n",
       "10874  Amazon Is Opening a Brick-and-Mortar Store in ...   \n",
       "10875  Fake BBC News website set up to carry Charlie ...   \n",
       "10876  Apple was forced to nix key health features fr...   \n",
       "10877  If you want an Apple Watch, you’ll probably be...   \n",
       "\n",
       "                                          Processed Body  \n",
       "0      Danny Boyle is directing the untitled film Set...  \n",
       "1      Danny Boyle is directing the untitled film Set...  \n",
       "2      Danny Boyle is directing the untitled film Set...  \n",
       "3      Danny Boyle is directing the untitled film Set...  \n",
       "4      Danny Boyle is directing the untitled film Set...  \n",
       "...                                                  ...  \n",
       "10873  News of guitarist Willie Nelson’s death spread...  \n",
       "10874  Amazon, the cyber store that sells everything,...  \n",
       "10875  A realistic-looking fake BBC News website has ...  \n",
       "10876  The health-focused smartwatch that Apple initi...  \n",
       "10877  We still don’t know the exact date the Apple W...  \n",
       "\n",
       "[10878 rows x 6 columns]"
      ]
     },
     "execution_count": 51,
     "metadata": {},
     "output_type": "execute_result"
    }
   ],
   "source": [
    "train_df"
   ]
  },
  {
   "cell_type": "code",
   "execution_count": 52,
   "id": "d3a75549-35b7-4f30-8f51-5171a4826ac2",
   "metadata": {
    "tags": []
   },
   "outputs": [
    {
     "data": {
      "text/html": [
       "<div>\n",
       "<style scoped>\n",
       "    .dataframe tbody tr th:only-of-type {\n",
       "        vertical-align: middle;\n",
       "    }\n",
       "\n",
       "    .dataframe tbody tr th {\n",
       "        vertical-align: top;\n",
       "    }\n",
       "\n",
       "    .dataframe thead th {\n",
       "        text-align: right;\n",
       "    }\n",
       "</style>\n",
       "<table border=\"1\" class=\"dataframe\">\n",
       "  <thead>\n",
       "    <tr style=\"text-align: right;\">\n",
       "      <th></th>\n",
       "      <th>Headline</th>\n",
       "      <th>Stance</th>\n",
       "      <th>articleBody</th>\n",
       "      <th>Related</th>\n",
       "      <th>Processed Headline</th>\n",
       "      <th>Processed Body</th>\n",
       "    </tr>\n",
       "  </thead>\n",
       "  <tbody>\n",
       "    <tr>\n",
       "      <th>0</th>\n",
       "      <td>Seth Rogen to Play Apple’s Steve Wozniak</td>\n",
       "      <td>discuss</td>\n",
       "      <td>Danny Boyle is directing the untitled film\\r\\n...</td>\n",
       "      <td>True</td>\n",
       "      <td>Seth Rogen to Play Apple’s Steve Wozniak</td>\n",
       "      <td>Danny Boyle is directing the untitled film Set...</td>\n",
       "    </tr>\n",
       "    <tr>\n",
       "      <th>1</th>\n",
       "      <td>Return of the Mac: Seth Rogen in talks to star...</td>\n",
       "      <td>discuss</td>\n",
       "      <td>Danny Boyle is directing the untitled film\\r\\n...</td>\n",
       "      <td>True</td>\n",
       "      <td>Return of the Mac: Seth Rogen in talks to star...</td>\n",
       "      <td>Danny Boyle is directing the untitled film Set...</td>\n",
       "    </tr>\n",
       "    <tr>\n",
       "      <th>2</th>\n",
       "      <td>Seth Rogen Is Woz</td>\n",
       "      <td>discuss</td>\n",
       "      <td>Danny Boyle is directing the untitled film\\r\\n...</td>\n",
       "      <td>True</td>\n",
       "      <td>Seth Rogen Is Woz</td>\n",
       "      <td>Danny Boyle is directing the untitled film Set...</td>\n",
       "    </tr>\n",
       "    <tr>\n",
       "      <th>3</th>\n",
       "      <td>Steve Jobs Biopic Eyes Seth Rogen to Play Appl...</td>\n",
       "      <td>discuss</td>\n",
       "      <td>Danny Boyle is directing the untitled film\\r\\n...</td>\n",
       "      <td>True</td>\n",
       "      <td>Steve Jobs Biopic Eyes Seth Rogen to Play Appl...</td>\n",
       "      <td>Danny Boyle is directing the untitled film Set...</td>\n",
       "    </tr>\n",
       "    <tr>\n",
       "      <th>4</th>\n",
       "      <td>Seth Rogen Eyed to Play Apple's Steve Wozniak ...</td>\n",
       "      <td>discuss</td>\n",
       "      <td>Danny Boyle is directing the untitled film\\r\\n...</td>\n",
       "      <td>True</td>\n",
       "      <td>Seth Rogen Eyed to Play Apple's Steve Wozniak ...</td>\n",
       "      <td>Danny Boyle is directing the untitled film Set...</td>\n",
       "    </tr>\n",
       "    <tr>\n",
       "      <th>...</th>\n",
       "      <td>...</td>\n",
       "      <td>...</td>\n",
       "      <td>...</td>\n",
       "      <td>...</td>\n",
       "      <td>...</td>\n",
       "      <td>...</td>\n",
       "    </tr>\n",
       "    <tr>\n",
       "      <th>10873</th>\n",
       "      <td>“Willie Nelson dead 2015” : Guitarist killed b...</td>\n",
       "      <td>agree</td>\n",
       "      <td>News of guitarist Willie Nelson’s death spread...</td>\n",
       "      <td>True</td>\n",
       "      <td>“Willie Nelson dead 2015” : Guitarist killed b...</td>\n",
       "      <td>News of guitarist Willie Nelson’s death spread...</td>\n",
       "    </tr>\n",
       "    <tr>\n",
       "      <th>10874</th>\n",
       "      <td>Amazon Is Opening a Brick-and-Mortar Store in ...</td>\n",
       "      <td>agree</td>\n",
       "      <td>Amazon, the cyber store that sells everything,...</td>\n",
       "      <td>True</td>\n",
       "      <td>Amazon Is Opening a Brick-and-Mortar Store in ...</td>\n",
       "      <td>Amazon, the cyber store that sells everything,...</td>\n",
       "    </tr>\n",
       "    <tr>\n",
       "      <th>10875</th>\n",
       "      <td>Fake BBC News website set up to carry Charlie ...</td>\n",
       "      <td>agree</td>\n",
       "      <td>A realistic-looking fake BBC News website has ...</td>\n",
       "      <td>True</td>\n",
       "      <td>Fake BBC News website set up to carry Charlie ...</td>\n",
       "      <td>A realistic-looking fake BBC News website has ...</td>\n",
       "    </tr>\n",
       "    <tr>\n",
       "      <th>10876</th>\n",
       "      <td>Apple was forced to nix key health features fr...</td>\n",
       "      <td>discuss</td>\n",
       "      <td>The health-focused smartwatch that Apple initi...</td>\n",
       "      <td>True</td>\n",
       "      <td>Apple was forced to nix key health features fr...</td>\n",
       "      <td>The health-focused smartwatch that Apple initi...</td>\n",
       "    </tr>\n",
       "    <tr>\n",
       "      <th>10877</th>\n",
       "      <td>If you want an Apple Watch, you’ll probably be...</td>\n",
       "      <td>discuss</td>\n",
       "      <td>We still don’t know the exact date the Apple W...</td>\n",
       "      <td>True</td>\n",
       "      <td>If you want an Apple Watch, you’ll probably be...</td>\n",
       "      <td>We still don’t know the exact date the Apple W...</td>\n",
       "    </tr>\n",
       "  </tbody>\n",
       "</table>\n",
       "<p>10878 rows × 6 columns</p>\n",
       "</div>"
      ],
      "text/plain": [
       "                                                Headline   Stance  \\\n",
       "0               Seth Rogen to Play Apple’s Steve Wozniak  discuss   \n",
       "1      Return of the Mac: Seth Rogen in talks to star...  discuss   \n",
       "2                                      Seth Rogen Is Woz  discuss   \n",
       "3      Steve Jobs Biopic Eyes Seth Rogen to Play Appl...  discuss   \n",
       "4      Seth Rogen Eyed to Play Apple's Steve Wozniak ...  discuss   \n",
       "...                                                  ...      ...   \n",
       "10873  “Willie Nelson dead 2015” : Guitarist killed b...    agree   \n",
       "10874  Amazon Is Opening a Brick-and-Mortar Store in ...    agree   \n",
       "10875  Fake BBC News website set up to carry Charlie ...    agree   \n",
       "10876  Apple was forced to nix key health features fr...  discuss   \n",
       "10877  If you want an Apple Watch, you’ll probably be...  discuss   \n",
       "\n",
       "                                             articleBody  Related  \\\n",
       "0      Danny Boyle is directing the untitled film\\r\\n...     True   \n",
       "1      Danny Boyle is directing the untitled film\\r\\n...     True   \n",
       "2      Danny Boyle is directing the untitled film\\r\\n...     True   \n",
       "3      Danny Boyle is directing the untitled film\\r\\n...     True   \n",
       "4      Danny Boyle is directing the untitled film\\r\\n...     True   \n",
       "...                                                  ...      ...   \n",
       "10873  News of guitarist Willie Nelson’s death spread...     True   \n",
       "10874  Amazon, the cyber store that sells everything,...     True   \n",
       "10875  A realistic-looking fake BBC News website has ...     True   \n",
       "10876  The health-focused smartwatch that Apple initi...     True   \n",
       "10877  We still don’t know the exact date the Apple W...     True   \n",
       "\n",
       "                                      Processed Headline  \\\n",
       "0               Seth Rogen to Play Apple’s Steve Wozniak   \n",
       "1      Return of the Mac: Seth Rogen in talks to star...   \n",
       "2                                      Seth Rogen Is Woz   \n",
       "3      Steve Jobs Biopic Eyes Seth Rogen to Play Appl...   \n",
       "4      Seth Rogen Eyed to Play Apple's Steve Wozniak ...   \n",
       "...                                                  ...   \n",
       "10873  “Willie Nelson dead 2015” : Guitarist killed b...   \n",
       "10874  Amazon Is Opening a Brick-and-Mortar Store in ...   \n",
       "10875  Fake BBC News website set up to carry Charlie ...   \n",
       "10876  Apple was forced to nix key health features fr...   \n",
       "10877  If you want an Apple Watch, you’ll probably be...   \n",
       "\n",
       "                                          Processed Body  \n",
       "0      Danny Boyle is directing the untitled film Set...  \n",
       "1      Danny Boyle is directing the untitled film Set...  \n",
       "2      Danny Boyle is directing the untitled film Set...  \n",
       "3      Danny Boyle is directing the untitled film Set...  \n",
       "4      Danny Boyle is directing the untitled film Set...  \n",
       "...                                                  ...  \n",
       "10873  News of guitarist Willie Nelson’s death spread...  \n",
       "10874  Amazon, the cyber store that sells everything,...  \n",
       "10875  A realistic-looking fake BBC News website has ...  \n",
       "10876  The health-focused smartwatch that Apple initi...  \n",
       "10877  We still don’t know the exact date the Apple W...  \n",
       "\n",
       "[10878 rows x 6 columns]"
      ]
     },
     "execution_count": 52,
     "metadata": {},
     "output_type": "execute_result"
    }
   ],
   "source": [
    "train_df"
   ]
  },
  {
   "cell_type": "code",
   "execution_count": 53,
   "id": "4edc62c0-6f0a-451c-bc9a-542c3a2e2344",
   "metadata": {
    "tags": []
   },
   "outputs": [
    {
     "data": {
      "application/vnd.jupyter.widget-view+json": {
       "model_id": "5387fbcec98e4cef8cbb371f76cf3da3",
       "version_major": 2,
       "version_minor": 0
      },
      "text/plain": [
       "  0%|          | 0/10878 [00:00<?, ?it/s]"
      ]
     },
     "metadata": {},
     "output_type": "display_data"
    }
   ],
   "source": [
    "transformers.logging.set_verbosity_error()\n",
    "train_df[\"Transformer Input\"] = train_df.progress_apply(lambda row: concated_headline_body_tokens(row[\"Processed Headline\"], row[\"Processed Body\"]), axis=1)\n",
    "transformers.logging.set_verbosity_warning()"
   ]
  },
  {
   "cell_type": "code",
   "execution_count": 54,
   "id": "90e2b8b8-f3d6-4b96-b36c-44113482d264",
   "metadata": {},
   "outputs": [
    {
     "data": {
      "text/html": [
       "<div>\n",
       "<style scoped>\n",
       "    .dataframe tbody tr th:only-of-type {\n",
       "        vertical-align: middle;\n",
       "    }\n",
       "\n",
       "    .dataframe tbody tr th {\n",
       "        vertical-align: top;\n",
       "    }\n",
       "\n",
       "    .dataframe thead th {\n",
       "        text-align: right;\n",
       "    }\n",
       "</style>\n",
       "<table border=\"1\" class=\"dataframe\">\n",
       "  <thead>\n",
       "    <tr style=\"text-align: right;\">\n",
       "      <th></th>\n",
       "      <th>Headline</th>\n",
       "      <th>Stance</th>\n",
       "      <th>articleBody</th>\n",
       "      <th>Related</th>\n",
       "      <th>Processed Headline</th>\n",
       "      <th>Processed Body</th>\n",
       "      <th>Transformer Input</th>\n",
       "    </tr>\n",
       "  </thead>\n",
       "  <tbody>\n",
       "    <tr>\n",
       "      <th>0</th>\n",
       "      <td>Seth Rogen to Play Apple’s Steve Wozniak</td>\n",
       "      <td>discuss</td>\n",
       "      <td>Danny Boyle is directing the untitled film\\r\\n...</td>\n",
       "      <td>True</td>\n",
       "      <td>Seth Rogen to Play Apple’s Steve Wozniak</td>\n",
       "      <td>Danny Boyle is directing the untitled film Set...</td>\n",
       "      <td>[[tensor(101), tensor(6662), tensor(20996), te...</td>\n",
       "    </tr>\n",
       "    <tr>\n",
       "      <th>1</th>\n",
       "      <td>Return of the Mac: Seth Rogen in talks to star...</td>\n",
       "      <td>discuss</td>\n",
       "      <td>Danny Boyle is directing the untitled film\\r\\n...</td>\n",
       "      <td>True</td>\n",
       "      <td>Return of the Mac: Seth Rogen in talks to star...</td>\n",
       "      <td>Danny Boyle is directing the untitled film Set...</td>\n",
       "      <td>[[tensor(101), tensor(2709), tensor(1997), ten...</td>\n",
       "    </tr>\n",
       "    <tr>\n",
       "      <th>2</th>\n",
       "      <td>Seth Rogen Is Woz</td>\n",
       "      <td>discuss</td>\n",
       "      <td>Danny Boyle is directing the untitled film\\r\\n...</td>\n",
       "      <td>True</td>\n",
       "      <td>Seth Rogen Is Woz</td>\n",
       "      <td>Danny Boyle is directing the untitled film Set...</td>\n",
       "      <td>[[tensor(101), tensor(6662), tensor(20996), te...</td>\n",
       "    </tr>\n",
       "    <tr>\n",
       "      <th>3</th>\n",
       "      <td>Steve Jobs Biopic Eyes Seth Rogen to Play Appl...</td>\n",
       "      <td>discuss</td>\n",
       "      <td>Danny Boyle is directing the untitled film\\r\\n...</td>\n",
       "      <td>True</td>\n",
       "      <td>Steve Jobs Biopic Eyes Seth Rogen to Play Appl...</td>\n",
       "      <td>Danny Boyle is directing the untitled film Set...</td>\n",
       "      <td>[[tensor(101), tensor(3889), tensor(5841), ten...</td>\n",
       "    </tr>\n",
       "    <tr>\n",
       "      <th>4</th>\n",
       "      <td>Seth Rogen Eyed to Play Apple's Steve Wozniak ...</td>\n",
       "      <td>discuss</td>\n",
       "      <td>Danny Boyle is directing the untitled film\\r\\n...</td>\n",
       "      <td>True</td>\n",
       "      <td>Seth Rogen Eyed to Play Apple's Steve Wozniak ...</td>\n",
       "      <td>Danny Boyle is directing the untitled film Set...</td>\n",
       "      <td>[[tensor(101), tensor(6662), tensor(20996), te...</td>\n",
       "    </tr>\n",
       "    <tr>\n",
       "      <th>...</th>\n",
       "      <td>...</td>\n",
       "      <td>...</td>\n",
       "      <td>...</td>\n",
       "      <td>...</td>\n",
       "      <td>...</td>\n",
       "      <td>...</td>\n",
       "      <td>...</td>\n",
       "    </tr>\n",
       "    <tr>\n",
       "      <th>10873</th>\n",
       "      <td>“Willie Nelson dead 2015” : Guitarist killed b...</td>\n",
       "      <td>agree</td>\n",
       "      <td>News of guitarist Willie Nelson’s death spread...</td>\n",
       "      <td>True</td>\n",
       "      <td>“Willie Nelson dead 2015” : Guitarist killed b...</td>\n",
       "      <td>News of guitarist Willie Nelson’s death spread...</td>\n",
       "      <td>[[tensor(101), tensor(1523), tensor(9893), ten...</td>\n",
       "    </tr>\n",
       "    <tr>\n",
       "      <th>10874</th>\n",
       "      <td>Amazon Is Opening a Brick-and-Mortar Store in ...</td>\n",
       "      <td>agree</td>\n",
       "      <td>Amazon, the cyber store that sells everything,...</td>\n",
       "      <td>True</td>\n",
       "      <td>Amazon Is Opening a Brick-and-Mortar Store in ...</td>\n",
       "      <td>Amazon, the cyber store that sells everything,...</td>\n",
       "      <td>[[tensor(101), tensor(9733), tensor(2003), ten...</td>\n",
       "    </tr>\n",
       "    <tr>\n",
       "      <th>10875</th>\n",
       "      <td>Fake BBC News website set up to carry Charlie ...</td>\n",
       "      <td>agree</td>\n",
       "      <td>A realistic-looking fake BBC News website has ...</td>\n",
       "      <td>True</td>\n",
       "      <td>Fake BBC News website set up to carry Charlie ...</td>\n",
       "      <td>A realistic-looking fake BBC News website has ...</td>\n",
       "      <td>[[tensor(101), tensor(8275), tensor(4035), ten...</td>\n",
       "    </tr>\n",
       "    <tr>\n",
       "      <th>10876</th>\n",
       "      <td>Apple was forced to nix key health features fr...</td>\n",
       "      <td>discuss</td>\n",
       "      <td>The health-focused smartwatch that Apple initi...</td>\n",
       "      <td>True</td>\n",
       "      <td>Apple was forced to nix key health features fr...</td>\n",
       "      <td>The health-focused smartwatch that Apple initi...</td>\n",
       "      <td>[[tensor(101), tensor(6207), tensor(2001), ten...</td>\n",
       "    </tr>\n",
       "    <tr>\n",
       "      <th>10877</th>\n",
       "      <td>If you want an Apple Watch, you’ll probably be...</td>\n",
       "      <td>discuss</td>\n",
       "      <td>We still don’t know the exact date the Apple W...</td>\n",
       "      <td>True</td>\n",
       "      <td>If you want an Apple Watch, you’ll probably be...</td>\n",
       "      <td>We still don’t know the exact date the Apple W...</td>\n",
       "      <td>[[tensor(101), tensor(2065), tensor(2017), ten...</td>\n",
       "    </tr>\n",
       "  </tbody>\n",
       "</table>\n",
       "<p>10878 rows × 7 columns</p>\n",
       "</div>"
      ],
      "text/plain": [
       "                                                Headline   Stance  \\\n",
       "0               Seth Rogen to Play Apple’s Steve Wozniak  discuss   \n",
       "1      Return of the Mac: Seth Rogen in talks to star...  discuss   \n",
       "2                                      Seth Rogen Is Woz  discuss   \n",
       "3      Steve Jobs Biopic Eyes Seth Rogen to Play Appl...  discuss   \n",
       "4      Seth Rogen Eyed to Play Apple's Steve Wozniak ...  discuss   \n",
       "...                                                  ...      ...   \n",
       "10873  “Willie Nelson dead 2015” : Guitarist killed b...    agree   \n",
       "10874  Amazon Is Opening a Brick-and-Mortar Store in ...    agree   \n",
       "10875  Fake BBC News website set up to carry Charlie ...    agree   \n",
       "10876  Apple was forced to nix key health features fr...  discuss   \n",
       "10877  If you want an Apple Watch, you’ll probably be...  discuss   \n",
       "\n",
       "                                             articleBody  Related  \\\n",
       "0      Danny Boyle is directing the untitled film\\r\\n...     True   \n",
       "1      Danny Boyle is directing the untitled film\\r\\n...     True   \n",
       "2      Danny Boyle is directing the untitled film\\r\\n...     True   \n",
       "3      Danny Boyle is directing the untitled film\\r\\n...     True   \n",
       "4      Danny Boyle is directing the untitled film\\r\\n...     True   \n",
       "...                                                  ...      ...   \n",
       "10873  News of guitarist Willie Nelson’s death spread...     True   \n",
       "10874  Amazon, the cyber store that sells everything,...     True   \n",
       "10875  A realistic-looking fake BBC News website has ...     True   \n",
       "10876  The health-focused smartwatch that Apple initi...     True   \n",
       "10877  We still don’t know the exact date the Apple W...     True   \n",
       "\n",
       "                                      Processed Headline  \\\n",
       "0               Seth Rogen to Play Apple’s Steve Wozniak   \n",
       "1      Return of the Mac: Seth Rogen in talks to star...   \n",
       "2                                      Seth Rogen Is Woz   \n",
       "3      Steve Jobs Biopic Eyes Seth Rogen to Play Appl...   \n",
       "4      Seth Rogen Eyed to Play Apple's Steve Wozniak ...   \n",
       "...                                                  ...   \n",
       "10873  “Willie Nelson dead 2015” : Guitarist killed b...   \n",
       "10874  Amazon Is Opening a Brick-and-Mortar Store in ...   \n",
       "10875  Fake BBC News website set up to carry Charlie ...   \n",
       "10876  Apple was forced to nix key health features fr...   \n",
       "10877  If you want an Apple Watch, you’ll probably be...   \n",
       "\n",
       "                                          Processed Body  \\\n",
       "0      Danny Boyle is directing the untitled film Set...   \n",
       "1      Danny Boyle is directing the untitled film Set...   \n",
       "2      Danny Boyle is directing the untitled film Set...   \n",
       "3      Danny Boyle is directing the untitled film Set...   \n",
       "4      Danny Boyle is directing the untitled film Set...   \n",
       "...                                                  ...   \n",
       "10873  News of guitarist Willie Nelson’s death spread...   \n",
       "10874  Amazon, the cyber store that sells everything,...   \n",
       "10875  A realistic-looking fake BBC News website has ...   \n",
       "10876  The health-focused smartwatch that Apple initi...   \n",
       "10877  We still don’t know the exact date the Apple W...   \n",
       "\n",
       "                                       Transformer Input  \n",
       "0      [[tensor(101), tensor(6662), tensor(20996), te...  \n",
       "1      [[tensor(101), tensor(2709), tensor(1997), ten...  \n",
       "2      [[tensor(101), tensor(6662), tensor(20996), te...  \n",
       "3      [[tensor(101), tensor(3889), tensor(5841), ten...  \n",
       "4      [[tensor(101), tensor(6662), tensor(20996), te...  \n",
       "...                                                  ...  \n",
       "10873  [[tensor(101), tensor(1523), tensor(9893), ten...  \n",
       "10874  [[tensor(101), tensor(9733), tensor(2003), ten...  \n",
       "10875  [[tensor(101), tensor(8275), tensor(4035), ten...  \n",
       "10876  [[tensor(101), tensor(6207), tensor(2001), ten...  \n",
       "10877  [[tensor(101), tensor(2065), tensor(2017), ten...  \n",
       "\n",
       "[10878 rows x 7 columns]"
      ]
     },
     "execution_count": 54,
     "metadata": {},
     "output_type": "execute_result"
    }
   ],
   "source": [
    "train_df"
   ]
  },
  {
   "cell_type": "code",
   "execution_count": 55,
   "id": "75e76fac-d344-4803-9b43-8dd023c3f44e",
   "metadata": {
    "tags": []
   },
   "outputs": [
    {
     "data": {
      "application/vnd.jupyter.widget-view+json": {
       "model_id": "acdbc4a06dbf4efd84677b41d09681b7",
       "version_major": 2,
       "version_minor": 0
      },
      "text/plain": [
       "  0%|          | 0/2549 [00:00<?, ?it/s]"
      ]
     },
     "metadata": {},
     "output_type": "display_data"
    }
   ],
   "source": [
    "transformers.logging.set_verbosity_error()\n",
    "val_df[\"Transformer Input\"] = val_df.progress_apply(lambda row: concated_headline_body_tokens(row[\"Processed Headline\"], row[\"Processed Body\"]), axis=1)\n",
    "transformers.logging.set_verbosity_warning()"
   ]
  },
  {
   "cell_type": "code",
   "execution_count": 56,
   "id": "75eb4b1a-9b29-4dad-a917-c51ddcfb86b0",
   "metadata": {
    "tags": []
   },
   "outputs": [
    {
     "name": "stderr",
     "output_type": "stream",
     "text": [
      "Some weights of the model checkpoint at bert-base-uncased were not used when initializing BertModel: ['cls.seq_relationship.weight', 'cls.seq_relationship.bias', 'cls.predictions.bias', 'cls.predictions.transform.dense.bias', 'cls.predictions.transform.dense.weight', 'cls.predictions.decoder.weight', 'cls.predictions.transform.LayerNorm.weight', 'cls.predictions.transform.LayerNorm.bias']\n",
      "- This IS expected if you are initializing BertModel from the checkpoint of a model trained on another task or with another architecture (e.g. initializing a BertForSequenceClassification model from a BertForPreTraining model).\n",
      "- This IS NOT expected if you are initializing BertModel from the checkpoint of a model that you expect to be exactly identical (initializing a BertForSequenceClassification model from a BertForSequenceClassification model).\n"
     ]
    }
   ],
   "source": [
    "bert = BertModel.from_pretrained(selected_model)\n",
    "bert = bert.to(device)"
   ]
  },
  {
   "cell_type": "code",
   "execution_count": 57,
   "id": "f53e9dde-e4a4-4c66-9aeb-ea72af4f77d0",
   "metadata": {
    "tags": []
   },
   "outputs": [
    {
     "data": {
      "text/plain": [
       "torch.Size([1, 512])"
      ]
     },
     "execution_count": 57,
     "metadata": {},
     "output_type": "execute_result"
    }
   ],
   "source": [
    "test_row = train_df.iloc[812]\n",
    "test_row_tokens = test_row[\"Transformer Input\"].to(device)\n",
    "test_row_tokens.shape"
   ]
  },
  {
   "cell_type": "code",
   "execution_count": 58,
   "id": "a97f2b32-58ad-4010-b7ad-9b442ca59dfe",
   "metadata": {
    "tags": []
   },
   "outputs": [],
   "source": [
    "bert_embedded_test = bert(test_row_tokens)[0]"
   ]
  },
  {
   "cell_type": "code",
   "execution_count": 59,
   "id": "1b9a0333-785d-4120-bd18-900f1af31e1b",
   "metadata": {
    "tags": []
   },
   "outputs": [
    {
     "data": {
      "text/plain": [
       "torch.Size([1, 512, 768])"
      ]
     },
     "execution_count": 59,
     "metadata": {},
     "output_type": "execute_result"
    }
   ],
   "source": [
    "bert_embedded_test.shape\n",
    "# So the CLS token output is at [i][0] for input i"
   ]
  },
  {
   "cell_type": "code",
   "execution_count": 60,
   "id": "9f6b565a-3991-4d2b-8729-92eea62cdbfd",
   "metadata": {
    "tags": []
   },
   "outputs": [],
   "source": [
    "label_map = {\n",
    "    \"agree\": 0,\n",
    "    \"disagree\": 1,\n",
    "    \"discuss\": 2\n",
    "}"
   ]
  },
  {
   "cell_type": "code",
   "execution_count": 61,
   "id": "5eff0fe8-63db-4131-bffe-0b6b38e1f88c",
   "metadata": {
    "tags": []
   },
   "outputs": [
    {
     "data": {
      "text/plain": [
       "torch.Size([10878, 1])"
      ]
     },
     "execution_count": 61,
     "metadata": {},
     "output_type": "execute_result"
    }
   ],
   "source": [
    "train_labels = np.array([label_map[x] for x in train_df[\"Stance\"].values])\n",
    "train_labels_tensor = torch.LongTensor(train_labels).unsqueeze(1)\n",
    "train_labels_tensor.shape"
   ]
  },
  {
   "cell_type": "code",
   "execution_count": 62,
   "id": "02d283cc-1812-4e0f-9a3a-637e57a389ff",
   "metadata": {
    "tags": []
   },
   "outputs": [
    {
     "data": {
      "text/plain": [
       "torch.Size([2549, 1])"
      ]
     },
     "execution_count": 62,
     "metadata": {},
     "output_type": "execute_result"
    }
   ],
   "source": [
    "val_labels = np.array([label_map[x] for x in val_df[\"Stance\"].values])\n",
    "val_labels_tensor = torch.LongTensor(val_labels).unsqueeze(1)\n",
    "val_labels_tensor.shape"
   ]
  },
  {
   "cell_type": "code",
   "execution_count": 63,
   "id": "2a4c5658-e7fc-4850-a11b-e44719e1bbb8",
   "metadata": {
    "tags": []
   },
   "outputs": [],
   "source": [
    "train_transformer_token_ids = torch.concat(list(train_df[\"Transformer Input\"].values))"
   ]
  },
  {
   "cell_type": "code",
   "execution_count": 64,
   "id": "a160d970-87c3-435e-adfc-e09ef27e9d15",
   "metadata": {
    "tags": []
   },
   "outputs": [
    {
     "data": {
      "text/plain": [
       "torch.Size([10878, 512])"
      ]
     },
     "execution_count": 64,
     "metadata": {},
     "output_type": "execute_result"
    }
   ],
   "source": [
    "train_transformer_token_ids.shape"
   ]
  },
  {
   "cell_type": "code",
   "execution_count": 65,
   "id": "f4e13a41-fcee-4b33-bb86-a72aa7bc40ea",
   "metadata": {
    "tags": []
   },
   "outputs": [],
   "source": [
    "val_transformer_token_ids = torch.concat(list(val_df[\"Transformer Input\"].values))"
   ]
  },
  {
   "cell_type": "code",
   "execution_count": 66,
   "id": "fe5f0fcb-3f6a-4a39-a90a-11600282d135",
   "metadata": {
    "tags": []
   },
   "outputs": [
    {
     "data": {
      "text/plain": [
       "torch.Size([2549, 512])"
      ]
     },
     "execution_count": 66,
     "metadata": {},
     "output_type": "execute_result"
    }
   ],
   "source": [
    "val_transformer_token_ids.shape"
   ]
  },
  {
   "cell_type": "code",
   "execution_count": 67,
   "id": "3b2effaf-737c-4c92-ac46-299103f9dd3f",
   "metadata": {
    "tags": []
   },
   "outputs": [
    {
     "data": {
      "text/plain": [
       "tensor([1.2333, 5.5785, 0.4975], dtype=torch.float64)"
      ]
     },
     "execution_count": 67,
     "metadata": {},
     "output_type": "execute_result"
    }
   ],
   "source": [
    "unique_class_labels = np.unique(train_labels)\n",
    "class_weights = compute_class_weight(\"balanced\", classes=unique_class_labels, y=train_labels)\n",
    "class_weights = torch.from_numpy(class_weights)\n",
    "class_weights"
   ]
  },
  {
   "cell_type": "code",
   "execution_count": 68,
   "id": "414cce6a-992c-476a-aeaf-f0ca7b51f748",
   "metadata": {
    "tags": []
   },
   "outputs": [],
   "source": [
    "# Create the confusion matrix - from Practical 1\n",
    "def plot_confusion_matrix(y_test, y_pred):\n",
    "    ''' Plot the confusion matrix for the target labels and predictions '''\n",
    "    cm = confusion_matrix(y_test, y_pred)\n",
    "\n",
    "    # Create a dataframe with the confusion matrix values\n",
    "    df_cm = pd.DataFrame(cm, range(cm.shape[0]),\n",
    "                  range(cm.shape[1]))\n",
    "\n",
    "    # Plot the confusion matrix\n",
    "    sns.set(font_scale=1.4) # for label size\n",
    "    sns.heatmap(df_cm, annot=True,fmt='.0f',cmap=\"YlGnBu\",annot_kws={\"size\": 10}) # font size\n",
    "    plt.show()"
   ]
  },
  {
   "cell_type": "code",
   "execution_count": 78,
   "id": "1213d40a-ce44-4a2a-b482-6cfa431002c7",
   "metadata": {
    "tags": []
   },
   "outputs": [],
   "source": [
    "batch_size = 8\n",
    "apply_loss_weighting = True"
   ]
  },
  {
   "cell_type": "code",
   "execution_count": 79,
   "id": "ad3f2618-a944-448b-8f34-e08081f8b959",
   "metadata": {
    "tags": []
   },
   "outputs": [],
   "source": [
    "train_dataset = torch.utils.data.TensorDataset(train_transformer_token_ids, train_labels_tensor)\n",
    "train_dataloader_enc = torch.utils.data.DataLoader(train_dataset, batch_size=batch_size, shuffle=False)\n",
    "train_dataloader = torch.utils.data.DataLoader(train_dataset, batch_size=batch_size, shuffle=True)"
   ]
  },
  {
   "cell_type": "code",
   "execution_count": 80,
   "id": "c84b2307-9f17-4aba-a530-2a8a5564cffa",
   "metadata": {
    "tags": []
   },
   "outputs": [],
   "source": [
    "val_dataset = torch.utils.data.TensorDataset(val_transformer_token_ids, val_labels_tensor)\n",
    "val_dataloader = torch.utils.data.DataLoader(val_dataset, batch_size=batch_size, shuffle=False)"
   ]
  },
  {
   "cell_type": "markdown",
   "id": "eca2fb73-2f63-4ba3-b8bf-2abccb76101f",
   "metadata": {
    "jp-MarkdownHeadingCollapsed": true,
    "tags": []
   },
   "source": [
    "# GRU (From Practical)"
   ]
  },
  {
   "cell_type": "code",
   "execution_count": 80,
   "id": "24d9a307-90c1-4374-91fe-924f07eede67",
   "metadata": {
    "tags": []
   },
   "outputs": [],
   "source": [
    "class BERTGRUSentiment(nn.Module):\n",
    "    def __init__(self,\n",
    "                 bert,\n",
    "                 hidden_dim,\n",
    "                 output_dim,\n",
    "                 n_layers,\n",
    "                 bidirectional,\n",
    "                 dropout):\n",
    "        \n",
    "        super().__init__()\n",
    "        \n",
    "        self.bert = bert\n",
    "        \n",
    "        embedding_dim = bert.config.to_dict()['hidden_size']\n",
    "        \n",
    "        self.rnn = nn.GRU(embedding_dim,\n",
    "                          hidden_dim,\n",
    "                          num_layers = n_layers,\n",
    "                          bidirectional = bidirectional,\n",
    "                          batch_first = True,\n",
    "                          dropout = 0 if n_layers < 2 else dropout)\n",
    "        \n",
    "        self.out = nn.Linear(hidden_dim * 2 if bidirectional else hidden_dim, output_dim)\n",
    "        \n",
    "        self.dropout = nn.Dropout(dropout)\n",
    "        \n",
    "    def forward(self, ids):\n",
    "        with torch.no_grad():\n",
    "            embedded = self.bert(ids)[0]\n",
    "        \n",
    "        # print(embedded.shape)\n",
    "        \n",
    "        _, hidden = self.rnn(embedded)\n",
    "    \n",
    "        \n",
    "        if self.rnn.bidirectional:\n",
    "            hidden = self.dropout(torch.cat((hidden[-2,:,:], hidden[-1,:,:]), dim = 1))\n",
    "        else:\n",
    "            hidden = self.dropout(hidden[-1,:,:])\n",
    "        \n",
    "        output = self.out(hidden)        \n",
    "        \n",
    "        return output"
   ]
  },
  {
   "cell_type": "code",
   "execution_count": 81,
   "id": "74b26736-d529-4f80-ab10-44b371cc9a35",
   "metadata": {
    "tags": []
   },
   "outputs": [],
   "source": [
    "HIDDEN_DIM = 256\n",
    "OUTPUT_DIM = 3\n",
    "N_LAYERS = 2\n",
    "BIDIRECTIONAL = True\n",
    "DROPOUT = 0.25\n",
    "\n",
    "bert_freeze = False\n",
    "\n",
    "model = BERTGRUSentiment(bert,\n",
    "                         HIDDEN_DIM,\n",
    "                         OUTPUT_DIM,\n",
    "                         N_LAYERS,\n",
    "                         BIDIRECTIONAL,\n",
    "                         DROPOUT)"
   ]
  },
  {
   "cell_type": "code",
   "execution_count": 82,
   "id": "689766ca-458c-4dba-bba0-0c6fbd91ae86",
   "metadata": {
    "tags": []
   },
   "outputs": [],
   "source": [
    "for name, param in model.named_parameters():                \n",
    "    if name.startswith('bert'):\n",
    "        param.requires_grad = not bert_freeze"
   ]
  },
  {
   "cell_type": "code",
   "execution_count": 83,
   "id": "5c5eebf6-9974-40eb-8656-380a60c3fc7a",
   "metadata": {
    "tags": []
   },
   "outputs": [
    {
     "name": "stdout",
     "output_type": "stream",
     "text": [
      "bert.embeddings.word_embeddings.weight\n",
      "bert.embeddings.position_embeddings.weight\n",
      "bert.embeddings.token_type_embeddings.weight\n",
      "bert.embeddings.LayerNorm.weight\n",
      "bert.embeddings.LayerNorm.bias\n",
      "bert.encoder.layer.0.attention.self.query.weight\n",
      "bert.encoder.layer.0.attention.self.query.bias\n",
      "bert.encoder.layer.0.attention.self.key.weight\n",
      "bert.encoder.layer.0.attention.self.key.bias\n",
      "bert.encoder.layer.0.attention.self.value.weight\n",
      "bert.encoder.layer.0.attention.self.value.bias\n",
      "bert.encoder.layer.0.attention.output.dense.weight\n",
      "bert.encoder.layer.0.attention.output.dense.bias\n",
      "bert.encoder.layer.0.attention.output.LayerNorm.weight\n",
      "bert.encoder.layer.0.attention.output.LayerNorm.bias\n",
      "bert.encoder.layer.0.intermediate.dense.weight\n",
      "bert.encoder.layer.0.intermediate.dense.bias\n",
      "bert.encoder.layer.0.output.dense.weight\n",
      "bert.encoder.layer.0.output.dense.bias\n",
      "bert.encoder.layer.0.output.LayerNorm.weight\n",
      "bert.encoder.layer.0.output.LayerNorm.bias\n",
      "bert.encoder.layer.1.attention.self.query.weight\n",
      "bert.encoder.layer.1.attention.self.query.bias\n",
      "bert.encoder.layer.1.attention.self.key.weight\n",
      "bert.encoder.layer.1.attention.self.key.bias\n",
      "bert.encoder.layer.1.attention.self.value.weight\n",
      "bert.encoder.layer.1.attention.self.value.bias\n",
      "bert.encoder.layer.1.attention.output.dense.weight\n",
      "bert.encoder.layer.1.attention.output.dense.bias\n",
      "bert.encoder.layer.1.attention.output.LayerNorm.weight\n",
      "bert.encoder.layer.1.attention.output.LayerNorm.bias\n",
      "bert.encoder.layer.1.intermediate.dense.weight\n",
      "bert.encoder.layer.1.intermediate.dense.bias\n",
      "bert.encoder.layer.1.output.dense.weight\n",
      "bert.encoder.layer.1.output.dense.bias\n",
      "bert.encoder.layer.1.output.LayerNorm.weight\n",
      "bert.encoder.layer.1.output.LayerNorm.bias\n",
      "bert.encoder.layer.2.attention.self.query.weight\n",
      "bert.encoder.layer.2.attention.self.query.bias\n",
      "bert.encoder.layer.2.attention.self.key.weight\n",
      "bert.encoder.layer.2.attention.self.key.bias\n",
      "bert.encoder.layer.2.attention.self.value.weight\n",
      "bert.encoder.layer.2.attention.self.value.bias\n",
      "bert.encoder.layer.2.attention.output.dense.weight\n",
      "bert.encoder.layer.2.attention.output.dense.bias\n",
      "bert.encoder.layer.2.attention.output.LayerNorm.weight\n",
      "bert.encoder.layer.2.attention.output.LayerNorm.bias\n",
      "bert.encoder.layer.2.intermediate.dense.weight\n",
      "bert.encoder.layer.2.intermediate.dense.bias\n",
      "bert.encoder.layer.2.output.dense.weight\n",
      "bert.encoder.layer.2.output.dense.bias\n",
      "bert.encoder.layer.2.output.LayerNorm.weight\n",
      "bert.encoder.layer.2.output.LayerNorm.bias\n",
      "bert.encoder.layer.3.attention.self.query.weight\n",
      "bert.encoder.layer.3.attention.self.query.bias\n",
      "bert.encoder.layer.3.attention.self.key.weight\n",
      "bert.encoder.layer.3.attention.self.key.bias\n",
      "bert.encoder.layer.3.attention.self.value.weight\n",
      "bert.encoder.layer.3.attention.self.value.bias\n",
      "bert.encoder.layer.3.attention.output.dense.weight\n",
      "bert.encoder.layer.3.attention.output.dense.bias\n",
      "bert.encoder.layer.3.attention.output.LayerNorm.weight\n",
      "bert.encoder.layer.3.attention.output.LayerNorm.bias\n",
      "bert.encoder.layer.3.intermediate.dense.weight\n",
      "bert.encoder.layer.3.intermediate.dense.bias\n",
      "bert.encoder.layer.3.output.dense.weight\n",
      "bert.encoder.layer.3.output.dense.bias\n",
      "bert.encoder.layer.3.output.LayerNorm.weight\n",
      "bert.encoder.layer.3.output.LayerNorm.bias\n",
      "bert.encoder.layer.4.attention.self.query.weight\n",
      "bert.encoder.layer.4.attention.self.query.bias\n",
      "bert.encoder.layer.4.attention.self.key.weight\n",
      "bert.encoder.layer.4.attention.self.key.bias\n",
      "bert.encoder.layer.4.attention.self.value.weight\n",
      "bert.encoder.layer.4.attention.self.value.bias\n",
      "bert.encoder.layer.4.attention.output.dense.weight\n",
      "bert.encoder.layer.4.attention.output.dense.bias\n",
      "bert.encoder.layer.4.attention.output.LayerNorm.weight\n",
      "bert.encoder.layer.4.attention.output.LayerNorm.bias\n",
      "bert.encoder.layer.4.intermediate.dense.weight\n",
      "bert.encoder.layer.4.intermediate.dense.bias\n",
      "bert.encoder.layer.4.output.dense.weight\n",
      "bert.encoder.layer.4.output.dense.bias\n",
      "bert.encoder.layer.4.output.LayerNorm.weight\n",
      "bert.encoder.layer.4.output.LayerNorm.bias\n",
      "bert.encoder.layer.5.attention.self.query.weight\n",
      "bert.encoder.layer.5.attention.self.query.bias\n",
      "bert.encoder.layer.5.attention.self.key.weight\n",
      "bert.encoder.layer.5.attention.self.key.bias\n",
      "bert.encoder.layer.5.attention.self.value.weight\n",
      "bert.encoder.layer.5.attention.self.value.bias\n",
      "bert.encoder.layer.5.attention.output.dense.weight\n",
      "bert.encoder.layer.5.attention.output.dense.bias\n",
      "bert.encoder.layer.5.attention.output.LayerNorm.weight\n",
      "bert.encoder.layer.5.attention.output.LayerNorm.bias\n",
      "bert.encoder.layer.5.intermediate.dense.weight\n",
      "bert.encoder.layer.5.intermediate.dense.bias\n",
      "bert.encoder.layer.5.output.dense.weight\n",
      "bert.encoder.layer.5.output.dense.bias\n",
      "bert.encoder.layer.5.output.LayerNorm.weight\n",
      "bert.encoder.layer.5.output.LayerNorm.bias\n",
      "bert.encoder.layer.6.attention.self.query.weight\n",
      "bert.encoder.layer.6.attention.self.query.bias\n",
      "bert.encoder.layer.6.attention.self.key.weight\n",
      "bert.encoder.layer.6.attention.self.key.bias\n",
      "bert.encoder.layer.6.attention.self.value.weight\n",
      "bert.encoder.layer.6.attention.self.value.bias\n",
      "bert.encoder.layer.6.attention.output.dense.weight\n",
      "bert.encoder.layer.6.attention.output.dense.bias\n",
      "bert.encoder.layer.6.attention.output.LayerNorm.weight\n",
      "bert.encoder.layer.6.attention.output.LayerNorm.bias\n",
      "bert.encoder.layer.6.intermediate.dense.weight\n",
      "bert.encoder.layer.6.intermediate.dense.bias\n",
      "bert.encoder.layer.6.output.dense.weight\n",
      "bert.encoder.layer.6.output.dense.bias\n",
      "bert.encoder.layer.6.output.LayerNorm.weight\n",
      "bert.encoder.layer.6.output.LayerNorm.bias\n",
      "bert.encoder.layer.7.attention.self.query.weight\n",
      "bert.encoder.layer.7.attention.self.query.bias\n",
      "bert.encoder.layer.7.attention.self.key.weight\n",
      "bert.encoder.layer.7.attention.self.key.bias\n",
      "bert.encoder.layer.7.attention.self.value.weight\n",
      "bert.encoder.layer.7.attention.self.value.bias\n",
      "bert.encoder.layer.7.attention.output.dense.weight\n",
      "bert.encoder.layer.7.attention.output.dense.bias\n",
      "bert.encoder.layer.7.attention.output.LayerNorm.weight\n",
      "bert.encoder.layer.7.attention.output.LayerNorm.bias\n",
      "bert.encoder.layer.7.intermediate.dense.weight\n",
      "bert.encoder.layer.7.intermediate.dense.bias\n",
      "bert.encoder.layer.7.output.dense.weight\n",
      "bert.encoder.layer.7.output.dense.bias\n",
      "bert.encoder.layer.7.output.LayerNorm.weight\n",
      "bert.encoder.layer.7.output.LayerNorm.bias\n",
      "bert.encoder.layer.8.attention.self.query.weight\n",
      "bert.encoder.layer.8.attention.self.query.bias\n",
      "bert.encoder.layer.8.attention.self.key.weight\n",
      "bert.encoder.layer.8.attention.self.key.bias\n",
      "bert.encoder.layer.8.attention.self.value.weight\n",
      "bert.encoder.layer.8.attention.self.value.bias\n",
      "bert.encoder.layer.8.attention.output.dense.weight\n",
      "bert.encoder.layer.8.attention.output.dense.bias\n",
      "bert.encoder.layer.8.attention.output.LayerNorm.weight\n",
      "bert.encoder.layer.8.attention.output.LayerNorm.bias\n",
      "bert.encoder.layer.8.intermediate.dense.weight\n",
      "bert.encoder.layer.8.intermediate.dense.bias\n",
      "bert.encoder.layer.8.output.dense.weight\n",
      "bert.encoder.layer.8.output.dense.bias\n",
      "bert.encoder.layer.8.output.LayerNorm.weight\n",
      "bert.encoder.layer.8.output.LayerNorm.bias\n",
      "bert.encoder.layer.9.attention.self.query.weight\n",
      "bert.encoder.layer.9.attention.self.query.bias\n",
      "bert.encoder.layer.9.attention.self.key.weight\n",
      "bert.encoder.layer.9.attention.self.key.bias\n",
      "bert.encoder.layer.9.attention.self.value.weight\n",
      "bert.encoder.layer.9.attention.self.value.bias\n",
      "bert.encoder.layer.9.attention.output.dense.weight\n",
      "bert.encoder.layer.9.attention.output.dense.bias\n",
      "bert.encoder.layer.9.attention.output.LayerNorm.weight\n",
      "bert.encoder.layer.9.attention.output.LayerNorm.bias\n",
      "bert.encoder.layer.9.intermediate.dense.weight\n",
      "bert.encoder.layer.9.intermediate.dense.bias\n",
      "bert.encoder.layer.9.output.dense.weight\n",
      "bert.encoder.layer.9.output.dense.bias\n",
      "bert.encoder.layer.9.output.LayerNorm.weight\n",
      "bert.encoder.layer.9.output.LayerNorm.bias\n",
      "bert.encoder.layer.10.attention.self.query.weight\n",
      "bert.encoder.layer.10.attention.self.query.bias\n",
      "bert.encoder.layer.10.attention.self.key.weight\n",
      "bert.encoder.layer.10.attention.self.key.bias\n",
      "bert.encoder.layer.10.attention.self.value.weight\n",
      "bert.encoder.layer.10.attention.self.value.bias\n",
      "bert.encoder.layer.10.attention.output.dense.weight\n",
      "bert.encoder.layer.10.attention.output.dense.bias\n",
      "bert.encoder.layer.10.attention.output.LayerNorm.weight\n",
      "bert.encoder.layer.10.attention.output.LayerNorm.bias\n",
      "bert.encoder.layer.10.intermediate.dense.weight\n",
      "bert.encoder.layer.10.intermediate.dense.bias\n",
      "bert.encoder.layer.10.output.dense.weight\n",
      "bert.encoder.layer.10.output.dense.bias\n",
      "bert.encoder.layer.10.output.LayerNorm.weight\n",
      "bert.encoder.layer.10.output.LayerNorm.bias\n",
      "bert.encoder.layer.11.attention.self.query.weight\n",
      "bert.encoder.layer.11.attention.self.query.bias\n",
      "bert.encoder.layer.11.attention.self.key.weight\n",
      "bert.encoder.layer.11.attention.self.key.bias\n",
      "bert.encoder.layer.11.attention.self.value.weight\n",
      "bert.encoder.layer.11.attention.self.value.bias\n",
      "bert.encoder.layer.11.attention.output.dense.weight\n",
      "bert.encoder.layer.11.attention.output.dense.bias\n",
      "bert.encoder.layer.11.attention.output.LayerNorm.weight\n",
      "bert.encoder.layer.11.attention.output.LayerNorm.bias\n",
      "bert.encoder.layer.11.intermediate.dense.weight\n",
      "bert.encoder.layer.11.intermediate.dense.bias\n",
      "bert.encoder.layer.11.output.dense.weight\n",
      "bert.encoder.layer.11.output.dense.bias\n",
      "bert.encoder.layer.11.output.LayerNorm.weight\n",
      "bert.encoder.layer.11.output.LayerNorm.bias\n",
      "bert.pooler.dense.weight\n",
      "bert.pooler.dense.bias\n",
      "rnn.weight_ih_l0\n",
      "rnn.weight_hh_l0\n",
      "rnn.bias_ih_l0\n",
      "rnn.bias_hh_l0\n",
      "rnn.weight_ih_l0_reverse\n",
      "rnn.weight_hh_l0_reverse\n",
      "rnn.bias_ih_l0_reverse\n",
      "rnn.bias_hh_l0_reverse\n",
      "rnn.weight_ih_l1\n",
      "rnn.weight_hh_l1\n",
      "rnn.bias_ih_l1\n",
      "rnn.bias_hh_l1\n",
      "rnn.weight_ih_l1_reverse\n",
      "rnn.weight_hh_l1_reverse\n",
      "rnn.bias_ih_l1_reverse\n",
      "rnn.bias_hh_l1_reverse\n",
      "out.weight\n",
      "out.bias\n"
     ]
    }
   ],
   "source": [
    "for name, param in model.named_parameters():                \n",
    "    if param.requires_grad:\n",
    "        print(name)"
   ]
  },
  {
   "cell_type": "code",
   "execution_count": 84,
   "id": "cf32d3b1-67fa-4973-8bb3-5c6f341c9091",
   "metadata": {
    "tags": []
   },
   "outputs": [],
   "source": [
    "opt = optim.Adam(model.parameters())"
   ]
  },
  {
   "cell_type": "code",
   "execution_count": 85,
   "id": "512123f4-18be-4118-ae0b-48392cdce3f9",
   "metadata": {
    "tags": []
   },
   "outputs": [],
   "source": [
    "model = model.to(device)"
   ]
  },
  {
   "cell_type": "code",
   "execution_count": 86,
   "id": "983d9bf2-b8b4-49e8-96fe-adfd277b0938",
   "metadata": {
    "tags": []
   },
   "outputs": [],
   "source": [
    "def evaluate_model(model, dataloader, labels, apply_loss_weighting):\n",
    "    if not apply_loss_weighting:\n",
    "        loss_func = nn.CrossEntropyLoss()\n",
    "    else:\n",
    "        loss_func = nn.CrossEntropyLoss(weight=class_weights.float().to(device))\n",
    "    \n",
    "    with torch.no_grad():\n",
    "        model.eval()\n",
    "        \n",
    "        all_pred = np.array([])\n",
    "        total_loss = 0\n",
    "        \n",
    "        for inp, labels in tqdm(dataloader):\n",
    "            inp = inp.to(device)\n",
    "            labels = labels.to(device).squeeze()\n",
    "        \n",
    "            pred = model(inp)\n",
    "            loss = loss_func(pred, labels)\n",
    "            _, pred = torch.max(pred.data, 1)\n",
    "            \n",
    "            all_pred = np.concatenate([all_pred, pred.cpu().numpy().squeeze()])\n",
    "            total_loss += loss.item()\n",
    "        \n",
    "        model.train()\n",
    "    \n",
    "    return all_pred, total_loss / len(dataloader)"
   ]
  },
  {
   "cell_type": "code",
   "execution_count": 87,
   "id": "63327afd-e02f-40cd-85fb-d7bcf2f06ffd",
   "metadata": {
    "tags": []
   },
   "outputs": [
    {
     "data": {
      "application/vnd.jupyter.widget-view+json": {
       "model_id": "5803e635aba04c1bb159b5b0074de87c",
       "version_major": 2,
       "version_minor": 0
      },
      "text/plain": [
       "  0%|          | 0/330 [00:00<?, ?it/s]"
      ]
     },
     "metadata": {},
     "output_type": "display_data"
    },
    {
     "name": "stdout",
     "output_type": "stream",
     "text": [
      "[1:40] Loss: 1.113\n",
      "[1:80] Loss: 0.917\n",
      "[1:120] Loss: 0.904\n",
      "[1:160] Loss: 0.899\n",
      "[1:200] Loss: 0.837\n",
      "[1:240] Loss: 0.818\n",
      "[1:280] Loss: 0.801\n",
      "[1:320] Loss: 0.739\n",
      "[1:END] Took 267.594s\n",
      "[1:END] Training Loss: 0.874\n"
     ]
    },
    {
     "data": {
      "application/vnd.jupyter.widget-view+json": {
       "model_id": "d81e72c734614751b9be2e323d7b0b98",
       "version_major": 2,
       "version_minor": 0
      },
      "text/plain": [
       "  0%|          | 0/91 [00:00<?, ?it/s]"
      ]
     },
     "metadata": {},
     "output_type": "display_data"
    },
    {
     "name": "stdout",
     "output_type": "stream",
     "text": [
      "[1:END] Validation Loss: 0.801\n",
      "[1:END] Validation Accuracy: 71.063%\n",
      "              precision    recall  f1-score   support\n",
      "\n",
      "           0       0.64      0.59      0.62       814\n",
      "           1       0.26      0.55      0.35       199\n",
      "           2       0.85      0.78      0.81      1876\n",
      "\n",
      "    accuracy                           0.71      2889\n",
      "   macro avg       0.58      0.64      0.59      2889\n",
      "weighted avg       0.75      0.71      0.73      2889\n",
      "\n"
     ]
    },
    {
     "data": {
      "image/png": "[encoded data removed]",
      "text/plain": [
       "<Figure size 640x480 with 2 Axes>"
      ]
     },
     "metadata": {},
     "output_type": "display_data"
    },
    {
     "name": "stdout",
     "output_type": "stream",
     "text": [
      "[1:END] Validation loss improved, saved model to ./runs/2/1679770031.590896_BERTGRUSentiment_weighted_not_frozen/model_1.pth\n"
     ]
    },
    {
     "data": {
      "application/vnd.jupyter.widget-view+json": {
       "model_id": "5330f6faf0094a1e9e1139310dcf81d0",
       "version_major": 2,
       "version_minor": 0
      },
      "text/plain": [
       "  0%|          | 0/330 [00:00<?, ?it/s]"
      ]
     },
     "metadata": {},
     "output_type": "display_data"
    },
    {
     "name": "stdout",
     "output_type": "stream",
     "text": [
      "[2:40] Loss: 0.706\n",
      "[2:80] Loss: 0.624\n",
      "[2:120] Loss: 0.598\n",
      "[2:160] Loss: 0.610\n",
      "[2:200] Loss: 0.573\n",
      "[2:240] Loss: 0.648\n",
      "[2:280] Loss: 0.493\n",
      "[2:320] Loss: 0.518\n",
      "[2:END] Took 265.380s\n",
      "[2:END] Training Loss: 0.595\n"
     ]
    },
    {
     "data": {
      "application/vnd.jupyter.widget-view+json": {
       "model_id": "40ae3e9a3db547e98ab0751c704ec84f",
       "version_major": 2,
       "version_minor": 0
      },
      "text/plain": [
       "  0%|          | 0/91 [00:00<?, ?it/s]"
      ]
     },
     "metadata": {},
     "output_type": "display_data"
    },
    {
     "name": "stdout",
     "output_type": "stream",
     "text": [
      "[2:END] Validation Loss: 0.879\n",
      "[2:END] Validation Accuracy: 76.636%\n",
      "              precision    recall  f1-score   support\n",
      "\n",
      "           0       0.70      0.60      0.64       814\n",
      "           1       0.38      0.43      0.40       199\n",
      "           2       0.83      0.87      0.85      1876\n",
      "\n",
      "    accuracy                           0.77      2889\n",
      "   macro avg       0.64      0.63      0.63      2889\n",
      "weighted avg       0.76      0.77      0.76      2889\n",
      "\n"
     ]
    },
    {
     "data": {
      "image/png": "[encoded data removed]",
      "text/plain": [
       "<Figure size 640x480 with 2 Axes>"
      ]
     },
     "metadata": {},
     "output_type": "display_data"
    },
    {
     "data": {
      "application/vnd.jupyter.widget-view+json": {
       "model_id": "6eaa2f59a1624f0986dcb2a3d5cbfc17",
       "version_major": 2,
       "version_minor": 0
      },
      "text/plain": [
       "  0%|          | 0/330 [00:00<?, ?it/s]"
      ]
     },
     "metadata": {},
     "output_type": "display_data"
    },
    {
     "name": "stdout",
     "output_type": "stream",
     "text": [
      "[3:40] Loss: 0.473\n",
      "[3:80] Loss: 0.388\n",
      "[3:120] Loss: 0.449\n",
      "[3:160] Loss: 0.454\n",
      "[3:200] Loss: 0.412\n",
      "[3:240] Loss: 0.339\n",
      "[3:280] Loss: 0.446\n",
      "[3:320] Loss: 0.373\n",
      "[3:END] Took 265.471s\n",
      "[3:END] Training Loss: 0.416\n"
     ]
    },
    {
     "data": {
      "application/vnd.jupyter.widget-view+json": {
       "model_id": "eab4da8b62504a888634dae4d679818b",
       "version_major": 2,
       "version_minor": 0
      },
      "text/plain": [
       "  0%|          | 0/91 [00:00<?, ?it/s]"
      ]
     },
     "metadata": {},
     "output_type": "display_data"
    },
    {
     "name": "stdout",
     "output_type": "stream",
     "text": [
      "[3:END] Validation Loss: 0.837\n",
      "[3:END] Validation Accuracy: 76.393%\n",
      "              precision    recall  f1-score   support\n",
      "\n",
      "           0       0.67      0.69      0.68       814\n",
      "           1       0.35      0.59      0.44       199\n",
      "           2       0.89      0.81      0.85      1876\n",
      "\n",
      "    accuracy                           0.76      2889\n",
      "   macro avg       0.64      0.70      0.66      2889\n",
      "weighted avg       0.79      0.76      0.77      2889\n",
      "\n"
     ]
    },
    {
     "data": {
      "image/png": "[encoded data removed]",
      "text/plain": [
       "<Figure size 640x480 with 2 Axes>"
      ]
     },
     "metadata": {},
     "output_type": "display_data"
    },
    {
     "data": {
      "application/vnd.jupyter.widget-view+json": {
       "model_id": "c5fbcc655b3a409bbeb3a299d784fde0",
       "version_major": 2,
       "version_minor": 0
      },
      "text/plain": [
       "  0%|          | 0/330 [00:00<?, ?it/s]"
      ]
     },
     "metadata": {},
     "output_type": "display_data"
    },
    {
     "name": "stdout",
     "output_type": "stream",
     "text": [
      "[4:40] Loss: 0.333\n",
      "[4:80] Loss: 0.347\n",
      "[4:120] Loss: 0.386\n",
      "[4:160] Loss: 0.281\n",
      "[4:200] Loss: 0.329\n",
      "[4:240] Loss: 0.311\n",
      "[4:280] Loss: 0.258\n",
      "[4:320] Loss: 0.334\n",
      "[4:END] Took 265.434s\n",
      "[4:END] Training Loss: 0.322\n"
     ]
    },
    {
     "data": {
      "application/vnd.jupyter.widget-view+json": {
       "model_id": "38aa3f7992774121aa43cdcec45bfed1",
       "version_major": 2,
       "version_minor": 0
      },
      "text/plain": [
       "  0%|          | 0/91 [00:00<?, ?it/s]"
      ]
     },
     "metadata": {},
     "output_type": "display_data"
    },
    {
     "name": "stdout",
     "output_type": "stream",
     "text": [
      "[4:END] Validation Loss: 0.868\n",
      "[4:END] Validation Accuracy: 77.259%\n",
      "              precision    recall  f1-score   support\n",
      "\n",
      "           0       0.66      0.75      0.70       814\n",
      "           1       0.41      0.61      0.49       199\n",
      "           2       0.90      0.80      0.85      1876\n",
      "\n",
      "    accuracy                           0.77      2889\n",
      "   macro avg       0.66      0.72      0.68      2889\n",
      "weighted avg       0.80      0.77      0.78      2889\n",
      "\n"
     ]
    },
    {
     "data": {
      "image/png": "[encoded data removed]",
      "text/plain": [
       "<Figure size 640x480 with 2 Axes>"
      ]
     },
     "metadata": {},
     "output_type": "display_data"
    },
    {
     "data": {
      "application/vnd.jupyter.widget-view+json": {
       "model_id": "8e8824b78c704543a8f3c8d36894a509",
       "version_major": 2,
       "version_minor": 0
      },
      "text/plain": [
       "  0%|          | 0/330 [00:00<?, ?it/s]"
      ]
     },
     "metadata": {},
     "output_type": "display_data"
    },
    {
     "name": "stdout",
     "output_type": "stream",
     "text": [
      "[5:40] Loss: 0.195\n",
      "[5:80] Loss: 0.210\n",
      "[5:120] Loss: 0.169\n",
      "[5:160] Loss: 0.226\n",
      "[5:200] Loss: 0.238\n",
      "[5:240] Loss: 0.300\n",
      "[5:280] Loss: 0.230\n",
      "[5:320] Loss: 0.287\n",
      "[5:END] Took 265.332s\n",
      "[5:END] Training Loss: 0.230\n"
     ]
    },
    {
     "data": {
      "application/vnd.jupyter.widget-view+json": {
       "model_id": "38e483ef14714f71bfc617785fc0ebf3",
       "version_major": 2,
       "version_minor": 0
      },
      "text/plain": [
       "  0%|          | 0/91 [00:00<?, ?it/s]"
      ]
     },
     "metadata": {},
     "output_type": "display_data"
    },
    {
     "name": "stdout",
     "output_type": "stream",
     "text": [
      "[5:END] Validation Loss: 1.285\n",
      "[5:END] Validation Accuracy: 78.851%\n",
      "              precision    recall  f1-score   support\n",
      "\n",
      "           0       0.75      0.60      0.67       814\n",
      "           1       0.47      0.47      0.47       199\n",
      "           2       0.83      0.90      0.87      1876\n",
      "\n",
      "    accuracy                           0.79      2889\n",
      "   macro avg       0.68      0.66      0.67      2889\n",
      "weighted avg       0.78      0.79      0.78      2889\n",
      "\n"
     ]
    },
    {
     "data": {
      "image/png": "[encoded data removed]",
      "text/plain": [
       "<Figure size 640x480 with 2 Axes>"
      ]
     },
     "metadata": {},
     "output_type": "display_data"
    },
    {
     "name": "stdout",
     "output_type": "stream",
     "text": [
      "[END] Stopping early as validation loss hasn't improved in 4 epochs\n",
      "Training complete\n"
     ]
    }
   ],
   "source": [
    "best_validation_loss = 1e9\n",
    "save_path = f\"./runs/2/{time.time()}_{model.__class__.__qualname__}_{'weighted' if apply_loss_weighting else 'no_weight'}_{'freeze' if bert_freeze else 'not_frozen'}\"\n",
    "epochs_since_best_validation = 0\n",
    "\n",
    "os.makedirs(save_path, exist_ok=True)\n",
    "\n",
    "if not apply_loss_weighting:\n",
    "    loss_func = nn.CrossEntropyLoss()\n",
    "else:\n",
    "    loss_func = nn.CrossEntropyLoss(weight=class_weights.float().to(device))\n",
    "    \n",
    "for epoch in range(1, 101):\n",
    "    model.train()\n",
    "    epoch_st = time.time()\n",
    "    epoch_loss = 0\n",
    "    \n",
    "    batch_acc_loss = 0\n",
    "    \n",
    "    for batch_no, (inp, labels) in enumerate(tqdm(train_dataloader)):\n",
    "        inp = inp.to(device)\n",
    "        labels = labels.to(device).squeeze()\n",
    "        \n",
    "        # print(inp.shape, labels.shape)\n",
    "\n",
    "        predictions = model(inp)\n",
    "        loss = loss_func(predictions, labels)\n",
    "\n",
    "        opt.zero_grad()\n",
    "        loss.backward()\n",
    "        opt.step()\n",
    "\n",
    "        epoch_loss += loss.item()\n",
    "        batch_acc_loss += loss.item()\n",
    "\n",
    "        if batch_no != 0 and batch_no % 40 == 0:\n",
    "            print(f\"[{epoch}:{batch_no}] Loss: {(batch_acc_loss / 40):.3f}\")\n",
    "            batch_acc_loss = 0\n",
    "\n",
    "    epoch_dt = time.time() - epoch_st\n",
    "    print(f\"[{epoch}:END] Took {epoch_dt:.3f}s\")\n",
    "    print(f\"[{epoch}:END] Training Loss: {(epoch_loss / len(train_dataloader)):.3f}\")\n",
    "    \n",
    "    validation_pred, avg_validation_loss = evaluate_model(model, val_dataloader, val_labels, apply_loss_weighting)\n",
    "    print(f\"[{epoch}:END] Validation Loss: {avg_validation_loss:.3f}\")\n",
    "    print(f\"[{epoch}:END] Validation Accuracy: {(validation_pred == val_labels).mean() * 100:.3f}%\")\n",
    "    \n",
    "    print(metrics.classification_report(val_labels, validation_pred))\n",
    "    plot_confusion_matrix(val_labels, validation_pred) \n",
    "    # plot_roc_curve(val_labels, validation_pred) # meaningless for multi-class\n",
    "    \n",
    "    epochs_since_best_validation += 1\n",
    "    \n",
    "    if avg_validation_loss < best_validation_loss:\n",
    "        epochs_since_best_validation = 0\n",
    "        best_validation_loss = avg_validation_loss\n",
    "        torch.save(model.state_dict(), f\"{save_path}/model_{epoch}.pth\")\n",
    "        print(f\"[{epoch}:END] Validation loss improved, saved model to {save_path}/model_{epoch}.pth\")\n",
    "    \n",
    "    if epochs_since_best_validation >= 4:\n",
    "        print(f\"[END] Stopping early as validation loss hasn't improved in 4 epochs\")\n",
    "        break\n",
    "        \n",
    "print(\"Training complete\")"
   ]
  },
  {
   "cell_type": "markdown",
   "id": "ad718984-3dcf-4e2b-b636-898c501fa233",
   "metadata": {
    "jp-MarkdownHeadingCollapsed": true,
    "tags": []
   },
   "source": [
    "# BERT+MLP"
   ]
  },
  {
   "cell_type": "code",
   "execution_count": 73,
   "id": "6fb6d5e6-58a4-4674-af05-102359dc01e6",
   "metadata": {},
   "outputs": [],
   "source": [
    "class BERTWithMLPHead(nn.Module):\n",
    "    def __init__(self, bert, hidden_layers, hidden_dim, output_dim, dropout_prob):\n",
    "        super().__init__()\n",
    "        \n",
    "        self.bert = bert\n",
    "        embedding_dim = bert.config.to_dict()['hidden_size']\n",
    "        \n",
    "        if hidden_layers == 0:\n",
    "            hidden_dim = [embedding_dim]\n",
    "        else:\n",
    "            if type(hidden_dim) is int:\n",
    "                hidden_dim = [embedding_dim] + [hidden_dim] * hidden_layers\n",
    "            else:\n",
    "                hidden_dim = [embedding_dim] + hidden_dim\n",
    "            \n",
    "        print(hidden_dim)\n",
    "        \n",
    "        layers = []\n",
    "        \n",
    "        for i in range(hidden_layers):\n",
    "            layers += [\n",
    "                nn.Linear(hidden_dim[i], hidden_dim[i + 1]),\n",
    "                nn.Dropout(dropout_prob)\n",
    "            ]\n",
    "        \n",
    "        layers.append(nn.Linear(hidden_dim[-1], output_dim))\n",
    "        \n",
    "        self.head = nn.Sequential(*layers)\n",
    "        \n",
    "    def forward(self, batch):\n",
    "        with torch.no_grad():\n",
    "            bert_embeddings = self.bert(batch)[0][:, 0, :]\n",
    "        \n",
    "        output = self.head(bert_embeddings)\n",
    "        return output"
   ]
  },
  {
   "cell_type": "code",
   "execution_count": 74,
   "id": "d667da69-5f27-46dd-92be-432d8ca98b1e",
   "metadata": {},
   "outputs": [
    {
     "name": "stdout",
     "output_type": "stream",
     "text": [
      "[768, 256]\n"
     ]
    }
   ],
   "source": [
    "mlp_config = {\n",
    "    \"hidden_layers\": 1,\n",
    "    \"hidden_dim\": 256,\n",
    "    \"output_dim\": 3,\n",
    "    \"dropout_prob\": 0.2\n",
    "}\n",
    "\n",
    "bert_freeze = False\n",
    "\n",
    "model = BERTWithMLPHead(\n",
    "    bert=bert,\n",
    "    **mlp_config\n",
    ")"
   ]
  },
  {
   "cell_type": "code",
   "execution_count": 75,
   "id": "4d46d634-8e92-470a-8f13-6a2ced3a424b",
   "metadata": {},
   "outputs": [],
   "source": [
    "for name, param in model.named_parameters():                \n",
    "    if name.startswith('bert'):\n",
    "        param.requires_grad = not bert_freeze"
   ]
  },
  {
   "cell_type": "code",
   "execution_count": 76,
   "id": "3697e3b7-f90d-4355-bda9-f1a50ba9f515",
   "metadata": {},
   "outputs": [
    {
     "name": "stdout",
     "output_type": "stream",
     "text": [
      "bert.embeddings.word_embeddings.weight\n",
      "bert.embeddings.position_embeddings.weight\n",
      "bert.embeddings.token_type_embeddings.weight\n",
      "bert.embeddings.LayerNorm.weight\n",
      "bert.embeddings.LayerNorm.bias\n",
      "bert.encoder.layer.0.attention.self.query.weight\n",
      "bert.encoder.layer.0.attention.self.query.bias\n",
      "bert.encoder.layer.0.attention.self.key.weight\n",
      "bert.encoder.layer.0.attention.self.key.bias\n",
      "bert.encoder.layer.0.attention.self.value.weight\n",
      "bert.encoder.layer.0.attention.self.value.bias\n",
      "bert.encoder.layer.0.attention.output.dense.weight\n",
      "bert.encoder.layer.0.attention.output.dense.bias\n",
      "bert.encoder.layer.0.attention.output.LayerNorm.weight\n",
      "bert.encoder.layer.0.attention.output.LayerNorm.bias\n",
      "bert.encoder.layer.0.intermediate.dense.weight\n",
      "bert.encoder.layer.0.intermediate.dense.bias\n",
      "bert.encoder.layer.0.output.dense.weight\n",
      "bert.encoder.layer.0.output.dense.bias\n",
      "bert.encoder.layer.0.output.LayerNorm.weight\n",
      "bert.encoder.layer.0.output.LayerNorm.bias\n",
      "bert.encoder.layer.1.attention.self.query.weight\n",
      "bert.encoder.layer.1.attention.self.query.bias\n",
      "bert.encoder.layer.1.attention.self.key.weight\n",
      "bert.encoder.layer.1.attention.self.key.bias\n",
      "bert.encoder.layer.1.attention.self.value.weight\n",
      "bert.encoder.layer.1.attention.self.value.bias\n",
      "bert.encoder.layer.1.attention.output.dense.weight\n",
      "bert.encoder.layer.1.attention.output.dense.bias\n",
      "bert.encoder.layer.1.attention.output.LayerNorm.weight\n",
      "bert.encoder.layer.1.attention.output.LayerNorm.bias\n",
      "bert.encoder.layer.1.intermediate.dense.weight\n",
      "bert.encoder.layer.1.intermediate.dense.bias\n",
      "bert.encoder.layer.1.output.dense.weight\n",
      "bert.encoder.layer.1.output.dense.bias\n",
      "bert.encoder.layer.1.output.LayerNorm.weight\n",
      "bert.encoder.layer.1.output.LayerNorm.bias\n",
      "bert.encoder.layer.2.attention.self.query.weight\n",
      "bert.encoder.layer.2.attention.self.query.bias\n",
      "bert.encoder.layer.2.attention.self.key.weight\n",
      "bert.encoder.layer.2.attention.self.key.bias\n",
      "bert.encoder.layer.2.attention.self.value.weight\n",
      "bert.encoder.layer.2.attention.self.value.bias\n",
      "bert.encoder.layer.2.attention.output.dense.weight\n",
      "bert.encoder.layer.2.attention.output.dense.bias\n",
      "bert.encoder.layer.2.attention.output.LayerNorm.weight\n",
      "bert.encoder.layer.2.attention.output.LayerNorm.bias\n",
      "bert.encoder.layer.2.intermediate.dense.weight\n",
      "bert.encoder.layer.2.intermediate.dense.bias\n",
      "bert.encoder.layer.2.output.dense.weight\n",
      "bert.encoder.layer.2.output.dense.bias\n",
      "bert.encoder.layer.2.output.LayerNorm.weight\n",
      "bert.encoder.layer.2.output.LayerNorm.bias\n",
      "bert.encoder.layer.3.attention.self.query.weight\n",
      "bert.encoder.layer.3.attention.self.query.bias\n",
      "bert.encoder.layer.3.attention.self.key.weight\n",
      "bert.encoder.layer.3.attention.self.key.bias\n",
      "bert.encoder.layer.3.attention.self.value.weight\n",
      "bert.encoder.layer.3.attention.self.value.bias\n",
      "bert.encoder.layer.3.attention.output.dense.weight\n",
      "bert.encoder.layer.3.attention.output.dense.bias\n",
      "bert.encoder.layer.3.attention.output.LayerNorm.weight\n",
      "bert.encoder.layer.3.attention.output.LayerNorm.bias\n",
      "bert.encoder.layer.3.intermediate.dense.weight\n",
      "bert.encoder.layer.3.intermediate.dense.bias\n",
      "bert.encoder.layer.3.output.dense.weight\n",
      "bert.encoder.layer.3.output.dense.bias\n",
      "bert.encoder.layer.3.output.LayerNorm.weight\n",
      "bert.encoder.layer.3.output.LayerNorm.bias\n",
      "bert.encoder.layer.4.attention.self.query.weight\n",
      "bert.encoder.layer.4.attention.self.query.bias\n",
      "bert.encoder.layer.4.attention.self.key.weight\n",
      "bert.encoder.layer.4.attention.self.key.bias\n",
      "bert.encoder.layer.4.attention.self.value.weight\n",
      "bert.encoder.layer.4.attention.self.value.bias\n",
      "bert.encoder.layer.4.attention.output.dense.weight\n",
      "bert.encoder.layer.4.attention.output.dense.bias\n",
      "bert.encoder.layer.4.attention.output.LayerNorm.weight\n",
      "bert.encoder.layer.4.attention.output.LayerNorm.bias\n",
      "bert.encoder.layer.4.intermediate.dense.weight\n",
      "bert.encoder.layer.4.intermediate.dense.bias\n",
      "bert.encoder.layer.4.output.dense.weight\n",
      "bert.encoder.layer.4.output.dense.bias\n",
      "bert.encoder.layer.4.output.LayerNorm.weight\n",
      "bert.encoder.layer.4.output.LayerNorm.bias\n",
      "bert.encoder.layer.5.attention.self.query.weight\n",
      "bert.encoder.layer.5.attention.self.query.bias\n",
      "bert.encoder.layer.5.attention.self.key.weight\n",
      "bert.encoder.layer.5.attention.self.key.bias\n",
      "bert.encoder.layer.5.attention.self.value.weight\n",
      "bert.encoder.layer.5.attention.self.value.bias\n",
      "bert.encoder.layer.5.attention.output.dense.weight\n",
      "bert.encoder.layer.5.attention.output.dense.bias\n",
      "bert.encoder.layer.5.attention.output.LayerNorm.weight\n",
      "bert.encoder.layer.5.attention.output.LayerNorm.bias\n",
      "bert.encoder.layer.5.intermediate.dense.weight\n",
      "bert.encoder.layer.5.intermediate.dense.bias\n",
      "bert.encoder.layer.5.output.dense.weight\n",
      "bert.encoder.layer.5.output.dense.bias\n",
      "bert.encoder.layer.5.output.LayerNorm.weight\n",
      "bert.encoder.layer.5.output.LayerNorm.bias\n",
      "bert.encoder.layer.6.attention.self.query.weight\n",
      "bert.encoder.layer.6.attention.self.query.bias\n",
      "bert.encoder.layer.6.attention.self.key.weight\n",
      "bert.encoder.layer.6.attention.self.key.bias\n",
      "bert.encoder.layer.6.attention.self.value.weight\n",
      "bert.encoder.layer.6.attention.self.value.bias\n",
      "bert.encoder.layer.6.attention.output.dense.weight\n",
      "bert.encoder.layer.6.attention.output.dense.bias\n",
      "bert.encoder.layer.6.attention.output.LayerNorm.weight\n",
      "bert.encoder.layer.6.attention.output.LayerNorm.bias\n",
      "bert.encoder.layer.6.intermediate.dense.weight\n",
      "bert.encoder.layer.6.intermediate.dense.bias\n",
      "bert.encoder.layer.6.output.dense.weight\n",
      "bert.encoder.layer.6.output.dense.bias\n",
      "bert.encoder.layer.6.output.LayerNorm.weight\n",
      "bert.encoder.layer.6.output.LayerNorm.bias\n",
      "bert.encoder.layer.7.attention.self.query.weight\n",
      "bert.encoder.layer.7.attention.self.query.bias\n",
      "bert.encoder.layer.7.attention.self.key.weight\n",
      "bert.encoder.layer.7.attention.self.key.bias\n",
      "bert.encoder.layer.7.attention.self.value.weight\n",
      "bert.encoder.layer.7.attention.self.value.bias\n",
      "bert.encoder.layer.7.attention.output.dense.weight\n",
      "bert.encoder.layer.7.attention.output.dense.bias\n",
      "bert.encoder.layer.7.attention.output.LayerNorm.weight\n",
      "bert.encoder.layer.7.attention.output.LayerNorm.bias\n",
      "bert.encoder.layer.7.intermediate.dense.weight\n",
      "bert.encoder.layer.7.intermediate.dense.bias\n",
      "bert.encoder.layer.7.output.dense.weight\n",
      "bert.encoder.layer.7.output.dense.bias\n",
      "bert.encoder.layer.7.output.LayerNorm.weight\n",
      "bert.encoder.layer.7.output.LayerNorm.bias\n",
      "bert.encoder.layer.8.attention.self.query.weight\n",
      "bert.encoder.layer.8.attention.self.query.bias\n",
      "bert.encoder.layer.8.attention.self.key.weight\n",
      "bert.encoder.layer.8.attention.self.key.bias\n",
      "bert.encoder.layer.8.attention.self.value.weight\n",
      "bert.encoder.layer.8.attention.self.value.bias\n",
      "bert.encoder.layer.8.attention.output.dense.weight\n",
      "bert.encoder.layer.8.attention.output.dense.bias\n",
      "bert.encoder.layer.8.attention.output.LayerNorm.weight\n",
      "bert.encoder.layer.8.attention.output.LayerNorm.bias\n",
      "bert.encoder.layer.8.intermediate.dense.weight\n",
      "bert.encoder.layer.8.intermediate.dense.bias\n",
      "bert.encoder.layer.8.output.dense.weight\n",
      "bert.encoder.layer.8.output.dense.bias\n",
      "bert.encoder.layer.8.output.LayerNorm.weight\n",
      "bert.encoder.layer.8.output.LayerNorm.bias\n",
      "bert.encoder.layer.9.attention.self.query.weight\n",
      "bert.encoder.layer.9.attention.self.query.bias\n",
      "bert.encoder.layer.9.attention.self.key.weight\n",
      "bert.encoder.layer.9.attention.self.key.bias\n",
      "bert.encoder.layer.9.attention.self.value.weight\n",
      "bert.encoder.layer.9.attention.self.value.bias\n",
      "bert.encoder.layer.9.attention.output.dense.weight\n",
      "bert.encoder.layer.9.attention.output.dense.bias\n",
      "bert.encoder.layer.9.attention.output.LayerNorm.weight\n",
      "bert.encoder.layer.9.attention.output.LayerNorm.bias\n",
      "bert.encoder.layer.9.intermediate.dense.weight\n",
      "bert.encoder.layer.9.intermediate.dense.bias\n",
      "bert.encoder.layer.9.output.dense.weight\n",
      "bert.encoder.layer.9.output.dense.bias\n",
      "bert.encoder.layer.9.output.LayerNorm.weight\n",
      "bert.encoder.layer.9.output.LayerNorm.bias\n",
      "bert.encoder.layer.10.attention.self.query.weight\n",
      "bert.encoder.layer.10.attention.self.query.bias\n",
      "bert.encoder.layer.10.attention.self.key.weight\n",
      "bert.encoder.layer.10.attention.self.key.bias\n",
      "bert.encoder.layer.10.attention.self.value.weight\n",
      "bert.encoder.layer.10.attention.self.value.bias\n",
      "bert.encoder.layer.10.attention.output.dense.weight\n",
      "bert.encoder.layer.10.attention.output.dense.bias\n",
      "bert.encoder.layer.10.attention.output.LayerNorm.weight\n",
      "bert.encoder.layer.10.attention.output.LayerNorm.bias\n",
      "bert.encoder.layer.10.intermediate.dense.weight\n",
      "bert.encoder.layer.10.intermediate.dense.bias\n",
      "bert.encoder.layer.10.output.dense.weight\n",
      "bert.encoder.layer.10.output.dense.bias\n",
      "bert.encoder.layer.10.output.LayerNorm.weight\n",
      "bert.encoder.layer.10.output.LayerNorm.bias\n",
      "bert.encoder.layer.11.attention.self.query.weight\n",
      "bert.encoder.layer.11.attention.self.query.bias\n",
      "bert.encoder.layer.11.attention.self.key.weight\n",
      "bert.encoder.layer.11.attention.self.key.bias\n",
      "bert.encoder.layer.11.attention.self.value.weight\n",
      "bert.encoder.layer.11.attention.self.value.bias\n",
      "bert.encoder.layer.11.attention.output.dense.weight\n",
      "bert.encoder.layer.11.attention.output.dense.bias\n",
      "bert.encoder.layer.11.attention.output.LayerNorm.weight\n",
      "bert.encoder.layer.11.attention.output.LayerNorm.bias\n",
      "bert.encoder.layer.11.intermediate.dense.weight\n",
      "bert.encoder.layer.11.intermediate.dense.bias\n",
      "bert.encoder.layer.11.output.dense.weight\n",
      "bert.encoder.layer.11.output.dense.bias\n",
      "bert.encoder.layer.11.output.LayerNorm.weight\n",
      "bert.encoder.layer.11.output.LayerNorm.bias\n",
      "bert.pooler.dense.weight\n",
      "bert.pooler.dense.bias\n",
      "head.0.weight\n",
      "head.0.bias\n",
      "head.2.weight\n",
      "head.2.bias\n"
     ]
    }
   ],
   "source": [
    "for name, param in model.named_parameters():                \n",
    "    if param.requires_grad:\n",
    "        print(name)"
   ]
  },
  {
   "cell_type": "code",
   "execution_count": 77,
   "id": "e40528b6-5cb2-4ccb-906a-6e0bcd99381f",
   "metadata": {},
   "outputs": [],
   "source": [
    "opt = optim.Adam(model.parameters())\n",
    "model = model.to(device)"
   ]
  },
  {
   "cell_type": "code",
   "execution_count": 78,
   "id": "fd3cc1e5-3e1e-4c40-94c6-384fff055acf",
   "metadata": {},
   "outputs": [],
   "source": [
    "def evaluate_model(model, dataloader, labels, apply_loss_weighting):\n",
    "    if not apply_loss_weighting:\n",
    "        loss_func = nn.CrossEntropyLoss()\n",
    "    else:\n",
    "        loss_func = nn.CrossEntropyLoss(weight=class_weights.float().to(device))\n",
    "    \n",
    "    with torch.no_grad():\n",
    "        model.eval()\n",
    "        \n",
    "        all_pred = np.array([])\n",
    "        total_loss = 0\n",
    "        \n",
    "        for inp, labels in tqdm(dataloader):\n",
    "            inp = inp.to(device)\n",
    "            labels = labels.to(device).squeeze()\n",
    "        \n",
    "            pred = model(inp)\n",
    "            loss = loss_func(pred, labels)\n",
    "            _, pred = torch.max(pred.data, 1)\n",
    "            \n",
    "            all_pred = np.concatenate([all_pred, pred.cpu().numpy().squeeze()])\n",
    "            total_loss += loss.item()\n",
    "        \n",
    "        model.train()\n",
    "    \n",
    "    return all_pred, total_loss / len(dataloader)"
   ]
  },
  {
   "cell_type": "code",
   "execution_count": 79,
   "id": "6f9d7810-4265-4d80-9bab-4675d8f0ef98",
   "metadata": {},
   "outputs": [
    {
     "data": {
      "application/vnd.jupyter.widget-view+json": {
       "model_id": "bc809c58fca44191adc4b673d4ec93c5",
       "version_major": 2,
       "version_minor": 0
      },
      "text/plain": [
       "  0%|          | 0/330 [00:00<?, ?it/s]"
      ]
     },
     "metadata": {},
     "output_type": "display_data"
    },
    {
     "name": "stdout",
     "output_type": "stream",
     "text": [
      "[1:40] Loss: 1.144\n",
      "[1:80] Loss: 1.115\n",
      "[1:120] Loss: 1.004\n",
      "[1:160] Loss: 1.025\n",
      "[1:200] Loss: 0.998\n",
      "[1:240] Loss: 0.987\n",
      "[1:280] Loss: 1.003\n",
      "[1:320] Loss: 0.940\n",
      "[1:END] Took 234.906s\n",
      "[1:END] Training Loss: 1.024\n"
     ]
    },
    {
     "data": {
      "application/vnd.jupyter.widget-view+json": {
       "model_id": "a2fe38297c5a42cb81a9d28047cdab8f",
       "version_major": 2,
       "version_minor": 0
      },
      "text/plain": [
       "  0%|          | 0/91 [00:00<?, ?it/s]"
      ]
     },
     "metadata": {},
     "output_type": "display_data"
    },
    {
     "name": "stdout",
     "output_type": "stream",
     "text": [
      "[1:END] Validation Loss: 1.069\n",
      "[1:END] Validation Accuracy: 54.725%\n",
      "              precision    recall  f1-score   support\n",
      "\n",
      "           0       0.46      0.48      0.47       814\n",
      "           1       0.12      0.38      0.19       199\n",
      "           2       0.78      0.59      0.67      1876\n",
      "\n",
      "    accuracy                           0.55      2889\n",
      "   macro avg       0.45      0.48      0.44      2889\n",
      "weighted avg       0.64      0.55      0.58      2889\n",
      "\n"
     ]
    },
    {
     "data": {
      "image/png": "[encoded data removed]",
      "text/plain": [
       "<Figure size 640x480 with 2 Axes>"
      ]
     },
     "metadata": {},
     "output_type": "display_data"
    },
    {
     "name": "stdout",
     "output_type": "stream",
     "text": [
      "[1:END] Validation loss improved, saved model to ./runs/2/1679767669.2169046_BERTWithMLPHead_weighted_not_frozen/model_1.pth\n"
     ]
    },
    {
     "data": {
      "application/vnd.jupyter.widget-view+json": {
       "model_id": "e25f304ca7e04468b69872f4faf46ba1",
       "version_major": 2,
       "version_minor": 0
      },
      "text/plain": [
       "  0%|          | 0/330 [00:00<?, ?it/s]"
      ]
     },
     "metadata": {},
     "output_type": "display_data"
    },
    {
     "name": "stdout",
     "output_type": "stream",
     "text": [
      "[2:40] Loss: 0.956\n",
      "[2:80] Loss: 0.966\n",
      "[2:120] Loss: 0.944\n",
      "[2:160] Loss: 0.966\n",
      "[2:200] Loss: 0.930\n",
      "[2:240] Loss: 0.931\n",
      "[2:280] Loss: 0.969\n",
      "[2:320] Loss: 0.914\n",
      "[2:END] Took 233.973s\n",
      "[2:END] Training Loss: 0.948\n"
     ]
    },
    {
     "data": {
      "application/vnd.jupyter.widget-view+json": {
       "model_id": "727fb61a92a34b52bf70c79c3559eccb",
       "version_major": 2,
       "version_minor": 0
      },
      "text/plain": [
       "  0%|          | 0/91 [00:00<?, ?it/s]"
      ]
     },
     "metadata": {},
     "output_type": "display_data"
    },
    {
     "name": "stdout",
     "output_type": "stream",
     "text": [
      "[2:END] Validation Loss: 1.091\n",
      "[2:END] Validation Accuracy: 60.021%\n",
      "              precision    recall  f1-score   support\n",
      "\n",
      "           0       0.49      0.54      0.51       814\n",
      "           1       0.13      0.22      0.16       199\n",
      "           2       0.75      0.67      0.71      1876\n",
      "\n",
      "    accuracy                           0.60      2889\n",
      "   macro avg       0.46      0.47      0.46      2889\n",
      "weighted avg       0.64      0.60      0.62      2889\n",
      "\n"
     ]
    },
    {
     "data": {
      "image/png": "[encoded data removed]",
      "text/plain": [
       "<Figure size 640x480 with 2 Axes>"
      ]
     },
     "metadata": {},
     "output_type": "display_data"
    },
    {
     "data": {
      "application/vnd.jupyter.widget-view+json": {
       "model_id": "600ec88dc5544171b9e0dff14208601d",
       "version_major": 2,
       "version_minor": 0
      },
      "text/plain": [
       "  0%|          | 0/330 [00:00<?, ?it/s]"
      ]
     },
     "metadata": {},
     "output_type": "display_data"
    },
    {
     "name": "stdout",
     "output_type": "stream",
     "text": [
      "[3:40] Loss: 0.928\n",
      "[3:80] Loss: 0.942\n",
      "[3:120] Loss: 0.946\n",
      "[3:160] Loss: 0.925\n",
      "[3:200] Loss: 0.921\n",
      "[3:240] Loss: 0.915\n",
      "[3:280] Loss: 0.945\n",
      "[3:320] Loss: 0.937\n",
      "[3:END] Took 236.363s\n",
      "[3:END] Training Loss: 0.933\n"
     ]
    },
    {
     "data": {
      "application/vnd.jupyter.widget-view+json": {
       "model_id": "113c324b8ab8439bb39c241ac49b2106",
       "version_major": 2,
       "version_minor": 0
      },
      "text/plain": [
       "  0%|          | 0/91 [00:00<?, ?it/s]"
      ]
     },
     "metadata": {},
     "output_type": "display_data"
    },
    {
     "name": "stdout",
     "output_type": "stream",
     "text": [
      "[3:END] Validation Loss: 1.007\n",
      "[3:END] Validation Accuracy: 60.678%\n",
      "              precision    recall  f1-score   support\n",
      "\n",
      "           0       0.46      0.58      0.52       814\n",
      "           1       0.16      0.23      0.19       199\n",
      "           2       0.78      0.66      0.71      1876\n",
      "\n",
      "    accuracy                           0.61      2889\n",
      "   macro avg       0.47      0.49      0.47      2889\n",
      "weighted avg       0.65      0.61      0.62      2889\n",
      "\n"
     ]
    },
    {
     "data": {
      "image/png": "[encoded data removed]",
      "text/plain": [
       "<Figure size 640x480 with 2 Axes>"
      ]
     },
     "metadata": {},
     "output_type": "display_data"
    },
    {
     "name": "stdout",
     "output_type": "stream",
     "text": [
      "[3:END] Validation loss improved, saved model to ./runs/2/1679767669.2169046_BERTWithMLPHead_weighted_not_frozen/model_3.pth\n"
     ]
    },
    {
     "data": {
      "application/vnd.jupyter.widget-view+json": {
       "model_id": "ba991dbee8bb4a7391118612e4669e72",
       "version_major": 2,
       "version_minor": 0
      },
      "text/plain": [
       "  0%|          | 0/330 [00:00<?, ?it/s]"
      ]
     },
     "metadata": {},
     "output_type": "display_data"
    },
    {
     "name": "stdout",
     "output_type": "stream",
     "text": [
      "[4:40] Loss: 0.933\n",
      "[4:80] Loss: 0.926\n",
      "[4:120] Loss: 0.893\n",
      "[4:160] Loss: 0.973\n",
      "[4:200] Loss: 0.926\n",
      "[4:240] Loss: 0.918\n",
      "[4:280] Loss: 0.910\n",
      "[4:320] Loss: 0.881\n",
      "[4:END] Took 241.590s\n",
      "[4:END] Training Loss: 0.917\n"
     ]
    },
    {
     "data": {
      "application/vnd.jupyter.widget-view+json": {
       "model_id": "c8d9fa89a40e47fa863430d2c82ffa10",
       "version_major": 2,
       "version_minor": 0
      },
      "text/plain": [
       "  0%|          | 0/91 [00:00<?, ?it/s]"
      ]
     },
     "metadata": {},
     "output_type": "display_data"
    },
    {
     "name": "stdout",
     "output_type": "stream",
     "text": [
      "[4:END] Validation Loss: 1.057\n",
      "[4:END] Validation Accuracy: 54.309%\n",
      "              precision    recall  f1-score   support\n",
      "\n",
      "           0       0.50      0.33      0.40       814\n",
      "           1       0.12      0.50      0.20       199\n",
      "           2       0.77      0.64      0.70      1876\n",
      "\n",
      "    accuracy                           0.54      2889\n",
      "   macro avg       0.46      0.49      0.43      2889\n",
      "weighted avg       0.65      0.54      0.58      2889\n",
      "\n"
     ]
    },
    {
     "data": {
      "image/png": "[encoded data removed]",
      "text/plain": [
       "<Figure size 640x480 with 2 Axes>"
      ]
     },
     "metadata": {},
     "output_type": "display_data"
    },
    {
     "data": {
      "application/vnd.jupyter.widget-view+json": {
       "model_id": "ab979d90bf1142dabb3e52fa7ecb4bf0",
       "version_major": 2,
       "version_minor": 0
      },
      "text/plain": [
       "  0%|          | 0/330 [00:00<?, ?it/s]"
      ]
     },
     "metadata": {},
     "output_type": "display_data"
    },
    {
     "name": "stdout",
     "output_type": "stream",
     "text": [
      "[5:40] Loss: 0.937\n",
      "[5:80] Loss: 0.874\n",
      "[5:120] Loss: 0.925\n",
      "[5:160] Loss: 0.899\n",
      "[5:200] Loss: 0.877\n",
      "[5:240] Loss: 0.874\n",
      "[5:280] Loss: 0.909\n",
      "[5:320] Loss: 0.961\n",
      "[5:END] Took 233.795s\n",
      "[5:END] Training Loss: 0.904\n"
     ]
    },
    {
     "data": {
      "application/vnd.jupyter.widget-view+json": {
       "model_id": "4fa77b4119a943418bb2acd456c0190c",
       "version_major": 2,
       "version_minor": 0
      },
      "text/plain": [
       "  0%|          | 0/91 [00:00<?, ?it/s]"
      ]
     },
     "metadata": {},
     "output_type": "display_data"
    },
    {
     "name": "stdout",
     "output_type": "stream",
     "text": [
      "[5:END] Validation Loss: 1.107\n",
      "[5:END] Validation Accuracy: 41.329%\n",
      "              precision    recall  f1-score   support\n",
      "\n",
      "           0       0.42      0.36      0.39       814\n",
      "           1       0.11      0.69      0.19       199\n",
      "           2       0.83      0.41      0.55      1876\n",
      "\n",
      "    accuracy                           0.41      2889\n",
      "   macro avg       0.45      0.49      0.37      2889\n",
      "weighted avg       0.67      0.41      0.48      2889\n",
      "\n"
     ]
    },
    {
     "data": {
      "image/png": "[encoded data removed]",
      "text/plain": [
       "<Figure size 640x480 with 2 Axes>"
      ]
     },
     "metadata": {},
     "output_type": "display_data"
    },
    {
     "data": {
      "application/vnd.jupyter.widget-view+json": {
       "model_id": "2ab5696582fb493e9953fd656bdb262d",
       "version_major": 2,
       "version_minor": 0
      },
      "text/plain": [
       "  0%|          | 0/330 [00:00<?, ?it/s]"
      ]
     },
     "metadata": {},
     "output_type": "display_data"
    },
    {
     "name": "stdout",
     "output_type": "stream",
     "text": [
      "[6:40] Loss: 0.898\n",
      "[6:80] Loss: 0.891\n",
      "[6:120] Loss: 0.837\n",
      "[6:160] Loss: 0.845\n",
      "[6:200] Loss: 0.915\n",
      "[6:240] Loss: 0.937\n",
      "[6:280] Loss: 0.869\n",
      "[6:320] Loss: 0.903\n",
      "[6:END] Took 234.047s\n",
      "[6:END] Training Loss: 0.885\n"
     ]
    },
    {
     "data": {
      "application/vnd.jupyter.widget-view+json": {
       "model_id": "1f33ea7cc22544f595f6480ada1f2386",
       "version_major": 2,
       "version_minor": 0
      },
      "text/plain": [
       "  0%|          | 0/91 [00:00<?, ?it/s]"
      ]
     },
     "metadata": {},
     "output_type": "display_data"
    },
    {
     "name": "stdout",
     "output_type": "stream",
     "text": [
      "[6:END] Validation Loss: 1.044\n",
      "[6:END] Validation Accuracy: 61.198%\n",
      "              precision    recall  f1-score   support\n",
      "\n",
      "           0       0.52      0.35      0.42       814\n",
      "           1       0.14      0.31      0.19       199\n",
      "           2       0.75      0.76      0.76      1876\n",
      "\n",
      "    accuracy                           0.61      2889\n",
      "   macro avg       0.47      0.47      0.45      2889\n",
      "weighted avg       0.65      0.61      0.62      2889\n",
      "\n"
     ]
    },
    {
     "data": {
      "image/png": "[encoded data removed]",
      "text/plain": [
       "<Figure size 640x480 with 2 Axes>"
      ]
     },
     "metadata": {},
     "output_type": "display_data"
    },
    {
     "data": {
      "application/vnd.jupyter.widget-view+json": {
       "model_id": "e6822348b1914d10b715a24ee4af1631",
       "version_major": 2,
       "version_minor": 0
      },
      "text/plain": [
       "  0%|          | 0/330 [00:00<?, ?it/s]"
      ]
     },
     "metadata": {},
     "output_type": "display_data"
    },
    {
     "name": "stdout",
     "output_type": "stream",
     "text": [
      "[7:40] Loss: 0.914\n",
      "[7:80] Loss: 0.931\n",
      "[7:120] Loss: 0.841\n",
      "[7:160] Loss: 0.946\n",
      "[7:200] Loss: 0.922\n",
      "[7:240] Loss: 0.889\n",
      "[7:280] Loss: 0.846\n",
      "[7:320] Loss: 0.878\n",
      "[7:END] Took 239.919s\n",
      "[7:END] Training Loss: 0.895\n"
     ]
    },
    {
     "data": {
      "application/vnd.jupyter.widget-view+json": {
       "model_id": "3e0a62cb9c0f444abbdcd038265d7b96",
       "version_major": 2,
       "version_minor": 0
      },
      "text/plain": [
       "  0%|          | 0/91 [00:00<?, ?it/s]"
      ]
     },
     "metadata": {},
     "output_type": "display_data"
    },
    {
     "name": "stdout",
     "output_type": "stream",
     "text": [
      "[7:END] Validation Loss: 1.066\n",
      "[7:END] Validation Accuracy: 59.709%\n",
      "              precision    recall  f1-score   support\n",
      "\n",
      "           0       0.51      0.48      0.50       814\n",
      "           1       0.12      0.24      0.16       199\n",
      "           2       0.74      0.68      0.71      1876\n",
      "\n",
      "    accuracy                           0.60      2889\n",
      "   macro avg       0.46      0.47      0.46      2889\n",
      "weighted avg       0.64      0.60      0.61      2889\n",
      "\n"
     ]
    },
    {
     "data": {
      "image/png": "[encoded data removed]",
      "text/plain": [
       "<Figure size 640x480 with 2 Axes>"
      ]
     },
     "metadata": {},
     "output_type": "display_data"
    },
    {
     "name": "stdout",
     "output_type": "stream",
     "text": [
      "[END] Stopping early as validation loss hasn't improved in 4 epochs\n",
      "Training complete\n"
     ]
    }
   ],
   "source": [
    "best_validation_loss = 1e9\n",
    "save_path = f\"./runs/2/{time.time()}_{model.__class__.__qualname__}_{'weighted' if apply_loss_weighting else 'no_weight'}_{'freeze' if bert_freeze else 'not_frozen'}\"\n",
    "epochs_since_best_validation = 0\n",
    "\n",
    "os.makedirs(save_path, exist_ok=True)\n",
    "\n",
    "if not apply_loss_weighting:\n",
    "    loss_func = nn.CrossEntropyLoss()\n",
    "else:\n",
    "    loss_func = nn.CrossEntropyLoss(weight=class_weights.float().to(device))\n",
    "    \n",
    "for epoch in range(1, 101):\n",
    "    model.train()\n",
    "    epoch_st = time.time()\n",
    "    epoch_loss = 0\n",
    "    \n",
    "    batch_acc_loss = 0\n",
    "    \n",
    "    for batch_no, (inp, labels) in enumerate(tqdm(train_dataloader)):\n",
    "        inp = inp.to(device)\n",
    "        labels = labels.to(device).squeeze()\n",
    "        \n",
    "        # print(inp.shape, labels.shape)\n",
    "\n",
    "        predictions = model(inp)\n",
    "        # print(predictions.shape, labels.shape)\n",
    "        loss = loss_func(predictions, labels)\n",
    "\n",
    "        opt.zero_grad()\n",
    "        loss.backward()\n",
    "        opt.step()\n",
    "\n",
    "        epoch_loss += loss.item()\n",
    "        batch_acc_loss += loss.item()\n",
    "\n",
    "        if batch_no != 0 and batch_no % 40 == 0:\n",
    "            print(f\"[{epoch}:{batch_no}] Loss: {(batch_acc_loss / 40):.3f}\")\n",
    "            batch_acc_loss = 0\n",
    "\n",
    "    epoch_dt = time.time() - epoch_st\n",
    "    print(f\"[{epoch}:END] Took {epoch_dt:.3f}s\")\n",
    "    print(f\"[{epoch}:END] Training Loss: {(epoch_loss / len(train_dataloader)):.3f}\")\n",
    "    \n",
    "    validation_pred, avg_validation_loss = evaluate_model(model, val_dataloader, val_labels, apply_loss_weighting)\n",
    "    print(f\"[{epoch}:END] Validation Loss: {avg_validation_loss:.3f}\")\n",
    "    print(f\"[{epoch}:END] Validation Accuracy: {(validation_pred == val_labels).mean() * 100:.3f}%\")\n",
    "    \n",
    "    print(metrics.classification_report(val_labels, validation_pred))\n",
    "    plot_confusion_matrix(val_labels, validation_pred) \n",
    "    # plot_roc_curve(val_labels, validation_pred) # meaningless for multi-class\n",
    "    \n",
    "    epochs_since_best_validation += 1\n",
    "    \n",
    "    if avg_validation_loss < best_validation_loss:\n",
    "        epochs_since_best_validation = 0\n",
    "        best_validation_loss = avg_validation_loss\n",
    "        torch.save(model.state_dict(), f\"{save_path}/model_{epoch}.pth\")\n",
    "        print(f\"[{epoch}:END] Validation loss improved, saved model to {save_path}/model_{epoch}.pth\")\n",
    "    \n",
    "    if epochs_since_best_validation >= 4:\n",
    "        print(f\"[END] Stopping early as validation loss hasn't improved in 4 epochs\")\n",
    "        break\n",
    "        \n",
    "print(\"Training complete\")"
   ]
  },
  {
   "cell_type": "markdown",
   "id": "f7569dff-f672-43de-85d7-c50e4bd69283",
   "metadata": {
    "jp-MarkdownHeadingCollapsed": true,
    "tags": []
   },
   "source": [
    "# BERT+CNN"
   ]
  },
  {
   "cell_type": "code",
   "execution_count": 203,
   "id": "9c4c1ae5-fe84-4664-9dbc-494211ecb183",
   "metadata": {},
   "outputs": [],
   "source": [
    "class BERTWithCNN(nn.Module):\n",
    "    def __init__(self, bert):\n",
    "        super().__init__()\n",
    "        \n",
    "        self.bert = bert\n",
    "        embedding_dim = bert.config.to_dict()[\"hidden_size\"]\n",
    "        \n",
    "        # self.layers = nn.Sequential(\n",
    "        #     # nn.Conv2d(1, 3, kernel_size=(2, 768), stride=(1, 1)),\n",
    "        #     # nn.ReLU(),\n",
    "        #     # nn.Conv2d(1, 3, kernel_size=(3, 768), stride=(1, 1)),\n",
    "        #     # nn.ReLU(),\n",
    "        #     # nn.Conv2d(1, 3, kernel_size=(4, 768), stride=(1, 1)),\n",
    "        #     # nn.ReLU(),\n",
    "        #     # nn.Conv1d(in_channels=768, out_channels=384, kernel_size=5, padding=\"valid\", stride=1),\n",
    "        #     # nn.ReLU(),\n",
    "        #     # nn.MaxPool1d(kernel_size= 64- 5 + 1),\n",
    "        #     # nn.Dropout(0.2),\n",
    "        #     # nn.Linear(384, 192),\n",
    "        #     # nn.Linear(192, 3)\n",
    "        # )\n",
    "        \n",
    "        # self.lstm = nn.LSTM(\n",
    "        \n",
    "        self.first_conv = nn.Sequential(\n",
    "            nn.Conv1d(768, 512, 5, padding=2),\n",
    "            nn.ReLU(),\n",
    "            # nn.MaxPool1d(256 + 1)\n",
    "        )\n",
    "        \n",
    "        self.second_conv = nn.Sequential(\n",
    "            nn.Conv1d(512, 256, 5, padding=2),\n",
    "            nn.ReLU(),\n",
    "            # nn.MaxPool1d(256 + 1)\n",
    "        )\n",
    "        \n",
    "        self.rnn = nn.GRU(256,\n",
    "                          256,\n",
    "                          num_layers = 2,\n",
    "                          bidirectional = True,\n",
    "                          batch_first = True,\n",
    "                          dropout = 0.2)\n",
    "        \n",
    "        self.out = nn.Linear(256 * 2, 3)\n",
    "        \n",
    "        self.dropout = nn.Dropout(0.2)\n",
    "        \n",
    "        # self.conv = nn.Conv1d(768, 384, 5, padding=2)\n",
    "    \n",
    "    def forward(self, batch):\n",
    "        with torch.no_grad():\n",
    "            embedded = self.bert(batch)[0]\n",
    "        \n",
    "        # (b, 512, 768)\n",
    "        # print(\"BERT Embeddings (N, L, C)\", embedded.shape)\n",
    "        \n",
    "        embedded = embedded.permute(0, 2, 1)\n",
    "        # print(\"Rearranged to (N, C, L)\", embedded.shape)\n",
    "        \n",
    "        x = self.first_conv(embedded)\n",
    "        # print(\"After Conv\", x.shape)\n",
    "        \n",
    "        x = self.second_conv(x)\n",
    "        # print(\"After Conv 2\", x.shape)\n",
    "        \n",
    "        x = x.permute(0, 2, 1)\n",
    "        # print(\"Rearranged to (N, L, C)\", embedded.shape)\n",
    "        \n",
    "        \n",
    "        _, hidden = self.rnn(x)\n",
    "    \n",
    "        \n",
    "        if self.rnn.bidirectional:\n",
    "            hidden = self.dropout(torch.cat((hidden[-2,:,:], hidden[-1,:,:]), dim = 1))\n",
    "        else:\n",
    "            hidden = self.dropout(hidden[-1,:,:])\n",
    "        \n",
    "        output = self.out(hidden)        \n",
    "        \n",
    "        return output\n",
    "        \n",
    "        # processed = processed.permute(0, 2, 1)\n",
    "        # print(processed.shape)\n",
    "        # embedded = embedded.permute(0, 2, 1)\n",
    "        \n",
    "        #x = self.layers(embedded)\n",
    "        #print(x.shape)\n",
    "        "
   ]
  },
  {
   "cell_type": "code",
   "execution_count": 204,
   "id": "ac81dfdd-a77b-4532-900c-1d003f5386b4",
   "metadata": {},
   "outputs": [],
   "source": [
    "model = BERTWithCNN(bert)\n",
    "bert_freeze = True"
   ]
  },
  {
   "cell_type": "code",
   "execution_count": 205,
   "id": "a2ad7456-39b1-4b96-bd16-4dfdacd7c8ac",
   "metadata": {
    "tags": []
   },
   "outputs": [],
   "source": [
    "for name, param in model.named_parameters():                \n",
    "    if name.startswith('bert'):\n",
    "        param.requires_grad = not bert_freeze"
   ]
  },
  {
   "cell_type": "code",
   "execution_count": 206,
   "id": "a37e5537-83df-4a65-9ec2-91875f7881d9",
   "metadata": {
    "tags": []
   },
   "outputs": [
    {
     "name": "stdout",
     "output_type": "stream",
     "text": [
      "first_conv.0.weight\n",
      "first_conv.0.bias\n",
      "second_conv.0.weight\n",
      "second_conv.0.bias\n",
      "rnn.weight_ih_l0\n",
      "rnn.weight_hh_l0\n",
      "rnn.bias_ih_l0\n",
      "rnn.bias_hh_l0\n",
      "rnn.weight_ih_l0_reverse\n",
      "rnn.weight_hh_l0_reverse\n",
      "rnn.bias_ih_l0_reverse\n",
      "rnn.bias_hh_l0_reverse\n",
      "rnn.weight_ih_l1\n",
      "rnn.weight_hh_l1\n",
      "rnn.bias_ih_l1\n",
      "rnn.bias_hh_l1\n",
      "rnn.weight_ih_l1_reverse\n",
      "rnn.weight_hh_l1_reverse\n",
      "rnn.bias_ih_l1_reverse\n",
      "rnn.bias_hh_l1_reverse\n",
      "out.weight\n",
      "out.bias\n"
     ]
    }
   ],
   "source": [
    "for name, param in model.named_parameters():\n",
    "    if param.requires_grad:\n",
    "        print(name)"
   ]
  },
  {
   "cell_type": "code",
   "execution_count": 207,
   "id": "c3e506a1-bfe8-4170-920e-401a5e25b6fb",
   "metadata": {
    "tags": []
   },
   "outputs": [],
   "source": [
    "model = model.to(device)"
   ]
  },
  {
   "cell_type": "code",
   "execution_count": 208,
   "id": "35b8aea6-b432-435d-b7fd-faded0e64e80",
   "metadata": {
    "tags": []
   },
   "outputs": [],
   "source": [
    "opt = optim.Adam(model.parameters())"
   ]
  },
  {
   "cell_type": "code",
   "execution_count": 209,
   "id": "e05c79d6-7fe3-437f-9ee6-cd612fb5480b",
   "metadata": {
    "tags": []
   },
   "outputs": [],
   "source": [
    "def evaluate_model(model, dataloader, labels, apply_loss_weighting):\n",
    "    if not apply_loss_weighting:\n",
    "        loss_func = nn.CrossEntropyLoss()\n",
    "    else:\n",
    "        loss_func = nn.CrossEntropyLoss(weight=class_weights.float().to(device))\n",
    "    \n",
    "    with torch.no_grad():\n",
    "        model.eval()\n",
    "        \n",
    "        all_pred = np.array([])\n",
    "        total_loss = 0\n",
    "        \n",
    "        for inp, labels in tqdm(dataloader):\n",
    "            inp = inp.to(device)\n",
    "            labels = labels.to(device).squeeze()\n",
    "        \n",
    "            pred = model(inp)\n",
    "            loss = loss_func(pred, labels)\n",
    "            _, pred = torch.max(pred.data, 1)\n",
    "            \n",
    "            all_pred = np.concatenate([all_pred, pred.cpu().numpy().squeeze()])\n",
    "            total_loss += loss.item()\n",
    "        \n",
    "        model.train()\n",
    "    \n",
    "    return all_pred, total_loss / len(dataloader)"
   ]
  },
  {
   "cell_type": "code",
   "execution_count": 210,
   "id": "3fc2ca26-1133-4e28-9981-8f6f0523ffa2",
   "metadata": {
    "tags": []
   },
   "outputs": [
    {
     "data": {
      "application/vnd.jupyter.widget-view+json": {
       "model_id": "535ac32bf38e4d2cb9cfdaa6f1a019ec",
       "version_major": 2,
       "version_minor": 0
      },
      "text/plain": [
       "  0%|          | 0/337 [00:00<?, ?it/s]"
      ]
     },
     "metadata": {},
     "output_type": "display_data"
    },
    {
     "name": "stdout",
     "output_type": "stream",
     "text": [
      "[1:40] Loss: 1.163\n",
      "[1:80] Loss: 0.949\n",
      "[1:120] Loss: 0.936\n",
      "[1:160] Loss: 0.962\n",
      "[1:200] Loss: 0.936\n",
      "[1:240] Loss: 0.909\n",
      "[1:280] Loss: 0.902\n",
      "[1:320] Loss: 0.862\n",
      "[1:END] Took 277.084s\n",
      "[1:END] Training Loss: 0.943\n"
     ]
    },
    {
     "data": {
      "application/vnd.jupyter.widget-view+json": {
       "model_id": "fc3f0e2a3d644c2a9a5d0fdfcc970f38",
       "version_major": 2,
       "version_minor": 0
      },
      "text/plain": [
       "  0%|          | 0/84 [00:00<?, ?it/s]"
      ]
     },
     "metadata": {},
     "output_type": "display_data"
    },
    {
     "name": "stdout",
     "output_type": "stream",
     "text": [
      "[1:END] Validation Loss: 0.913\n",
      "[1:END] Validation Accuracy: 69.049%\n",
      "              precision    recall  f1-score   support\n",
      "\n",
      "           0       0.52      0.69      0.59       731\n",
      "           1       0.29      0.27      0.28       203\n",
      "           2       0.85      0.74      0.79      1738\n",
      "\n",
      "    accuracy                           0.69      2672\n",
      "   macro avg       0.55      0.57      0.55      2672\n",
      "weighted avg       0.72      0.69      0.70      2672\n",
      "\n"
     ]
    },
    {
     "data": {
      "image/png": "[encoded data removed]",
      "text/plain": [
       "<Figure size 640x480 with 2 Axes>"
      ]
     },
     "metadata": {},
     "output_type": "display_data"
    },
    {
     "name": "stdout",
     "output_type": "stream",
     "text": [
      "[1:END] Validation loss improved, saved model to ./runs/2/1680284211.3691754_BERTWithCNN_weighted_freeze/model_1.pth\n"
     ]
    },
    {
     "data": {
      "application/vnd.jupyter.widget-view+json": {
       "model_id": "db85481a547442fcb9a923e5654f7886",
       "version_major": 2,
       "version_minor": 0
      },
      "text/plain": [
       "  0%|          | 0/337 [00:00<?, ?it/s]"
      ]
     },
     "metadata": {},
     "output_type": "display_data"
    },
    {
     "name": "stdout",
     "output_type": "stream",
     "text": [
      "[2:40] Loss: 0.819\n",
      "[2:80] Loss: 0.776\n",
      "[2:120] Loss: 0.750\n",
      "[2:160] Loss: 0.738\n",
      "[2:200] Loss: 0.706\n",
      "[2:240] Loss: 0.684\n",
      "[2:280] Loss: 0.734\n",
      "[2:320] Loss: 0.721\n",
      "[2:END] Took 276.570s\n",
      "[2:END] Training Loss: 0.742\n"
     ]
    },
    {
     "data": {
      "application/vnd.jupyter.widget-view+json": {
       "model_id": "de710df4cd4d4e8c819006ee12ae7c56",
       "version_major": 2,
       "version_minor": 0
      },
      "text/plain": [
       "  0%|          | 0/84 [00:00<?, ?it/s]"
      ]
     },
     "metadata": {},
     "output_type": "display_data"
    },
    {
     "name": "stdout",
     "output_type": "stream",
     "text": [
      "[2:END] Validation Loss: 0.880\n",
      "[2:END] Validation Accuracy: 69.311%\n",
      "              precision    recall  f1-score   support\n",
      "\n",
      "           0       0.52      0.71      0.60       731\n",
      "           1       0.33      0.17      0.22       203\n",
      "           2       0.82      0.75      0.78      1738\n",
      "\n",
      "    accuracy                           0.69      2672\n",
      "   macro avg       0.56      0.54      0.54      2672\n",
      "weighted avg       0.70      0.69      0.69      2672\n",
      "\n"
     ]
    },
    {
     "data": {
      "image/png": "[encoded data removed]",
      "text/plain": [
       "<Figure size 640x480 with 2 Axes>"
      ]
     },
     "metadata": {},
     "output_type": "display_data"
    },
    {
     "name": "stdout",
     "output_type": "stream",
     "text": [
      "[2:END] Validation loss improved, saved model to ./runs/2/1680284211.3691754_BERTWithCNN_weighted_freeze/model_2.pth\n"
     ]
    },
    {
     "data": {
      "application/vnd.jupyter.widget-view+json": {
       "model_id": "ca53455b37394815bbb9b4e0b19b1e3e",
       "version_major": 2,
       "version_minor": 0
      },
      "text/plain": [
       "  0%|          | 0/337 [00:00<?, ?it/s]"
      ]
     },
     "metadata": {},
     "output_type": "display_data"
    },
    {
     "name": "stdout",
     "output_type": "stream",
     "text": [
      "[3:40] Loss: 0.647\n",
      "[3:80] Loss: 0.678\n",
      "[3:120] Loss: 0.636\n",
      "[3:160] Loss: 0.542\n",
      "[3:200] Loss: 0.735\n",
      "[3:240] Loss: 0.560\n",
      "[3:280] Loss: 0.599\n",
      "[3:320] Loss: 0.581\n",
      "[3:END] Took 276.542s\n",
      "[3:END] Training Loss: 0.615\n"
     ]
    },
    {
     "data": {
      "application/vnd.jupyter.widget-view+json": {
       "model_id": "bc37fe41d204439c81debbc490980e50",
       "version_major": 2,
       "version_minor": 0
      },
      "text/plain": [
       "  0%|          | 0/84 [00:00<?, ?it/s]"
      ]
     },
     "metadata": {},
     "output_type": "display_data"
    },
    {
     "name": "stdout",
     "output_type": "stream",
     "text": [
      "[3:END] Validation Loss: 0.858\n",
      "[3:END] Validation Accuracy: 67.403%\n",
      "              precision    recall  f1-score   support\n",
      "\n",
      "           0       0.52      0.68      0.59       731\n",
      "           1       0.27      0.46      0.34       203\n",
      "           2       0.89      0.70      0.78      1738\n",
      "\n",
      "    accuracy                           0.67      2672\n",
      "   macro avg       0.56      0.61      0.57      2672\n",
      "weighted avg       0.74      0.67      0.69      2672\n",
      "\n"
     ]
    },
    {
     "data": {
      "image/png": "[encoded data removed]",
      "text/plain": [
       "<Figure size 640x480 with 2 Axes>"
      ]
     },
     "metadata": {},
     "output_type": "display_data"
    },
    {
     "name": "stdout",
     "output_type": "stream",
     "text": [
      "[3:END] Validation loss improved, saved model to ./runs/2/1680284211.3691754_BERTWithCNN_weighted_freeze/model_3.pth\n"
     ]
    },
    {
     "data": {
      "application/vnd.jupyter.widget-view+json": {
       "model_id": "8ae507fcd5e94adc9b8ed1e3c53d2ea4",
       "version_major": 2,
       "version_minor": 0
      },
      "text/plain": [
       "  0%|          | 0/337 [00:00<?, ?it/s]"
      ]
     },
     "metadata": {},
     "output_type": "display_data"
    },
    {
     "name": "stdout",
     "output_type": "stream",
     "text": [
      "[4:40] Loss: 0.524\n",
      "[4:80] Loss: 0.574\n",
      "[4:120] Loss: 0.525\n",
      "[4:160] Loss: 0.544\n",
      "[4:200] Loss: 0.531\n",
      "[4:240] Loss: 0.515\n",
      "[4:280] Loss: 0.610\n",
      "[4:320] Loss: 0.548\n",
      "[4:END] Took 277.074s\n",
      "[4:END] Training Loss: 0.545\n"
     ]
    },
    {
     "data": {
      "application/vnd.jupyter.widget-view+json": {
       "model_id": "9ee94ef7443b480d9374b47b185ee4b9",
       "version_major": 2,
       "version_minor": 0
      },
      "text/plain": [
       "  0%|          | 0/84 [00:00<?, ?it/s]"
      ]
     },
     "metadata": {},
     "output_type": "display_data"
    },
    {
     "name": "stdout",
     "output_type": "stream",
     "text": [
      "[4:END] Validation Loss: 0.878\n",
      "[4:END] Validation Accuracy: 70.397%\n",
      "              precision    recall  f1-score   support\n",
      "\n",
      "           0       0.62      0.57      0.59       731\n",
      "           1       0.29      0.52      0.38       203\n",
      "           2       0.83      0.78      0.81      1738\n",
      "\n",
      "    accuracy                           0.70      2672\n",
      "   macro avg       0.58      0.62      0.59      2672\n",
      "weighted avg       0.73      0.70      0.71      2672\n",
      "\n"
     ]
    },
    {
     "data": {
      "image/png": "[encoded data removed]",
      "text/plain": [
       "<Figure size 640x480 with 2 Axes>"
      ]
     },
     "metadata": {},
     "output_type": "display_data"
    },
    {
     "data": {
      "application/vnd.jupyter.widget-view+json": {
       "model_id": "4c0f7c650fbd42f5a22b0f5d97e725a3",
       "version_major": 2,
       "version_minor": 0
      },
      "text/plain": [
       "  0%|          | 0/337 [00:00<?, ?it/s]"
      ]
     },
     "metadata": {},
     "output_type": "display_data"
    },
    {
     "name": "stdout",
     "output_type": "stream",
     "text": [
      "[5:40] Loss: 0.472\n",
      "[5:80] Loss: 0.476\n",
      "[5:120] Loss: 0.387\n",
      "[5:160] Loss: 0.430\n",
      "[5:200] Loss: 0.541\n",
      "[5:240] Loss: 0.455\n",
      "[5:280] Loss: 0.482\n",
      "[5:320] Loss: 0.456\n",
      "[5:END] Took 276.700s\n",
      "[5:END] Training Loss: 0.462\n"
     ]
    },
    {
     "data": {
      "application/vnd.jupyter.widget-view+json": {
       "model_id": "dafd8fcc3e164419a416749f37e30022",
       "version_major": 2,
       "version_minor": 0
      },
      "text/plain": [
       "  0%|          | 0/84 [00:00<?, ?it/s]"
      ]
     },
     "metadata": {},
     "output_type": "display_data"
    },
    {
     "name": "stdout",
     "output_type": "stream",
     "text": [
      "[5:END] Validation Loss: 0.926\n",
      "[5:END] Validation Accuracy: 71.557%\n",
      "              precision    recall  f1-score   support\n",
      "\n",
      "           0       0.62      0.57      0.60       731\n",
      "           1       0.30      0.52      0.38       203\n",
      "           2       0.84      0.80      0.82      1738\n",
      "\n",
      "    accuracy                           0.72      2672\n",
      "   macro avg       0.59      0.63      0.60      2672\n",
      "weighted avg       0.74      0.72      0.73      2672\n",
      "\n"
     ]
    },
    {
     "data": {
      "image/png": "[encoded data removed]",
      "text/plain": [
       "<Figure size 640x480 with 2 Axes>"
      ]
     },
     "metadata": {},
     "output_type": "display_data"
    },
    {
     "data": {
      "application/vnd.jupyter.widget-view+json": {
       "model_id": "d7ef8cccf92b4e2f9c3775c2fedecb64",
       "version_major": 2,
       "version_minor": 0
      },
      "text/plain": [
       "  0%|          | 0/337 [00:00<?, ?it/s]"
      ]
     },
     "metadata": {},
     "output_type": "display_data"
    },
    {
     "name": "stdout",
     "output_type": "stream",
     "text": [
      "[6:40] Loss: 0.360\n",
      "[6:80] Loss: 0.342\n",
      "[6:120] Loss: 0.361\n",
      "[6:160] Loss: 0.394\n",
      "[6:200] Loss: 0.403\n",
      "[6:240] Loss: 0.318\n",
      "[6:280] Loss: 0.352\n",
      "[6:320] Loss: 0.393\n",
      "[6:END] Took 278.234s\n",
      "[6:END] Training Loss: 0.364\n"
     ]
    },
    {
     "data": {
      "application/vnd.jupyter.widget-view+json": {
       "model_id": "8050007177ec4d3d8ea28a509ae30a07",
       "version_major": 2,
       "version_minor": 0
      },
      "text/plain": [
       "  0%|          | 0/84 [00:00<?, ?it/s]"
      ]
     },
     "metadata": {},
     "output_type": "display_data"
    },
    {
     "name": "stdout",
     "output_type": "stream",
     "text": [
      "[6:END] Validation Loss: 1.031\n",
      "[6:END] Validation Accuracy: 63.772%\n",
      "              precision    recall  f1-score   support\n",
      "\n",
      "           0       0.47      0.78      0.59       731\n",
      "           1       0.33      0.61      0.43       203\n",
      "           2       0.93      0.58      0.71      1738\n",
      "\n",
      "    accuracy                           0.64      2672\n",
      "   macro avg       0.58      0.66      0.58      2672\n",
      "weighted avg       0.76      0.64      0.66      2672\n",
      "\n"
     ]
    },
    {
     "data": {
      "image/png": "[encoded data removed]",
      "text/plain": [
       "<Figure size 640x480 with 2 Axes>"
      ]
     },
     "metadata": {},
     "output_type": "display_data"
    },
    {
     "data": {
      "application/vnd.jupyter.widget-view+json": {
       "model_id": "8d6b5f6024cf435daed930b49d307d16",
       "version_major": 2,
       "version_minor": 0
      },
      "text/plain": [
       "  0%|          | 0/337 [00:00<?, ?it/s]"
      ]
     },
     "metadata": {},
     "output_type": "display_data"
    },
    {
     "name": "stdout",
     "output_type": "stream",
     "text": [
      "[7:40] Loss: 0.320\n",
      "[7:80] Loss: 0.331\n",
      "[7:120] Loss: 0.378\n",
      "[7:160] Loss: 0.328\n",
      "[7:200] Loss: 0.266\n",
      "[7:240] Loss: 0.329\n",
      "[7:280] Loss: 0.322\n",
      "[7:320] Loss: 0.306\n",
      "[7:END] Took 277.754s\n",
      "[7:END] Training Loss: 0.321\n"
     ]
    },
    {
     "data": {
      "application/vnd.jupyter.widget-view+json": {
       "model_id": "764ef1bdd738463985c30ede11458bca",
       "version_major": 2,
       "version_minor": 0
      },
      "text/plain": [
       "  0%|          | 0/84 [00:00<?, ?it/s]"
      ]
     },
     "metadata": {},
     "output_type": "display_data"
    },
    {
     "name": "stdout",
     "output_type": "stream",
     "text": [
      "[7:END] Validation Loss: 1.036\n",
      "[7:END] Validation Accuracy: 73.091%\n",
      "              precision    recall  f1-score   support\n",
      "\n",
      "           0       0.61      0.61      0.61       731\n",
      "           1       0.35      0.42      0.38       203\n",
      "           2       0.84      0.82      0.83      1738\n",
      "\n",
      "    accuracy                           0.73      2672\n",
      "   macro avg       0.60      0.62      0.61      2672\n",
      "weighted avg       0.74      0.73      0.73      2672\n",
      "\n"
     ]
    },
    {
     "data": {
      "image/png": "[encoded data removed]",
      "text/plain": [
       "<Figure size 640x480 with 2 Axes>"
      ]
     },
     "metadata": {},
     "output_type": "display_data"
    },
    {
     "name": "stdout",
     "output_type": "stream",
     "text": [
      "[END] Stopping early as validation loss hasn't improved in 4 epochs\n",
      "Training complete\n"
     ]
    }
   ],
   "source": [
    "best_validation_loss = 1e9\n",
    "save_path = f\"./runs/2/{time.time()}_{model.__class__.__qualname__}_{'weighted' if apply_loss_weighting else 'no_weight'}_{'freeze' if bert_freeze else 'not_frozen'}\"\n",
    "epochs_since_best_validation = 0\n",
    "\n",
    "os.makedirs(save_path, exist_ok=True)\n",
    "\n",
    "if not apply_loss_weighting:\n",
    "    loss_func = nn.CrossEntropyLoss()\n",
    "else:\n",
    "    loss_func = nn.CrossEntropyLoss(weight=class_weights.float().to(device))\n",
    "    \n",
    "for epoch in range(1, 101):\n",
    "    model.train()\n",
    "    epoch_st = time.time()\n",
    "    epoch_loss = 0\n",
    "    \n",
    "    batch_acc_loss = 0\n",
    "    \n",
    "    for batch_no, (inp, labels) in enumerate(tqdm(train_dataloader)):\n",
    "        inp = inp.to(device)\n",
    "        labels = labels.to(device).squeeze()\n",
    "        \n",
    "        # print(inp.shape, labels.shape)\n",
    "\n",
    "        predictions = model(inp)\n",
    "        loss = loss_func(predictions, labels)\n",
    "\n",
    "        opt.zero_grad()\n",
    "        loss.backward()\n",
    "        opt.step()\n",
    "\n",
    "        epoch_loss += loss.item()\n",
    "        batch_acc_loss += loss.item()\n",
    "\n",
    "        if batch_no != 0 and batch_no % 40 == 0:\n",
    "            print(f\"[{epoch}:{batch_no}] Loss: {(batch_acc_loss / 40):.3f}\")\n",
    "            batch_acc_loss = 0\n",
    "\n",
    "    epoch_dt = time.time() - epoch_st\n",
    "    print(f\"[{epoch}:END] Took {epoch_dt:.3f}s\")\n",
    "    print(f\"[{epoch}:END] Training Loss: {(epoch_loss / len(train_dataloader)):.3f}\")\n",
    "    \n",
    "    validation_pred, avg_validation_loss = evaluate_model(model, val_dataloader, val_labels, apply_loss_weighting)\n",
    "    print(f\"[{epoch}:END] Validation Loss: {avg_validation_loss:.3f}\")\n",
    "    print(f\"[{epoch}:END] Validation Accuracy: {(validation_pred == val_labels).mean() * 100:.3f}%\")\n",
    "    \n",
    "    print(metrics.classification_report(val_labels, validation_pred))\n",
    "    plot_confusion_matrix(val_labels, validation_pred) \n",
    "    # plot_roc_curve(val_labels, validation_pred) # meaningless for multi-class\n",
    "    \n",
    "    epochs_since_best_validation += 1\n",
    "    \n",
    "    if avg_validation_loss < best_validation_loss:\n",
    "        epochs_since_best_validation = 0\n",
    "        best_validation_loss = avg_validation_loss\n",
    "        torch.save(model.state_dict(), f\"{save_path}/model_{epoch}.pth\")\n",
    "        print(f\"[{epoch}:END] Validation loss improved, saved model to {save_path}/model_{epoch}.pth\")\n",
    "    \n",
    "    if epochs_since_best_validation >= 4:\n",
    "        print(f\"[END] Stopping early as validation loss hasn't improved in 4 epochs\")\n",
    "        break\n",
    "        \n",
    "print(\"Training complete\")"
   ]
  },
  {
   "cell_type": "markdown",
   "id": "160566b2-7805-44f3-ae1a-cba937631fc4",
   "metadata": {},
   "source": [
    "# BERT Finetune"
   ]
  },
  {
   "cell_type": "code",
   "execution_count": 98,
   "id": "d2c22352-0f22-4f90-ae20-50981989d972",
   "metadata": {
    "tags": []
   },
   "outputs": [
    {
     "name": "stderr",
     "output_type": "stream",
     "text": [
      "loading configuration file config.json from cache at C:\\Users\\yoyo1/.cache\\huggingface\\hub\\models--bert-base-uncased\\snapshots\\0a6aa9128b6194f4f3c4db429b6cb4891cdb421b\\config.json\n",
      "Model config BertConfig {\n",
      "  \"architectures\": [\n",
      "    \"BertForMaskedLM\"\n",
      "  ],\n",
      "  \"attention_probs_dropout_prob\": 0.1,\n",
      "  \"classifier_dropout\": null,\n",
      "  \"gradient_checkpointing\": false,\n",
      "  \"hidden_act\": \"gelu\",\n",
      "  \"hidden_dropout_prob\": 0.1,\n",
      "  \"hidden_size\": 768,\n",
      "  \"id2label\": {\n",
      "    \"0\": \"agree\",\n",
      "    \"1\": \"disagree\",\n",
      "    \"2\": \"discuss\"\n",
      "  },\n",
      "  \"initializer_range\": 0.02,\n",
      "  \"intermediate_size\": 3072,\n",
      "  \"label2id\": {\n",
      "    \"agree\": 0,\n",
      "    \"disagree\": 1,\n",
      "    \"discuss\": 2\n",
      "  },\n",
      "  \"layer_norm_eps\": 1e-12,\n",
      "  \"max_position_embeddings\": 512,\n",
      "  \"model_type\": \"bert\",\n",
      "  \"num_attention_heads\": 12,\n",
      "  \"num_hidden_layers\": 12,\n",
      "  \"pad_token_id\": 0,\n",
      "  \"position_embedding_type\": \"absolute\",\n",
      "  \"problem_type\": \"single_label_classification\",\n",
      "  \"transformers_version\": \"4.26.1\",\n",
      "  \"type_vocab_size\": 2,\n",
      "  \"use_cache\": true,\n",
      "  \"vocab_size\": 30522\n",
      "}\n",
      "\n",
      "loading weights file pytorch_model.bin from cache at C:\\Users\\yoyo1/.cache\\huggingface\\hub\\models--bert-base-uncased\\snapshots\\0a6aa9128b6194f4f3c4db429b6cb4891cdb421b\\pytorch_model.bin\n",
      "Some weights of the model checkpoint at bert-base-uncased were not used when initializing BertForSequenceClassification: ['cls.seq_relationship.weight', 'cls.seq_relationship.bias', 'cls.predictions.bias', 'cls.predictions.transform.dense.bias', 'cls.predictions.transform.dense.weight', 'cls.predictions.decoder.weight', 'cls.predictions.transform.LayerNorm.weight', 'cls.predictions.transform.LayerNorm.bias']\n",
      "- This IS expected if you are initializing BertForSequenceClassification from the checkpoint of a model trained on another task or with another architecture (e.g. initializing a BertForSequenceClassification model from a BertForPreTraining model).\n",
      "- This IS NOT expected if you are initializing BertForSequenceClassification from the checkpoint of a model that you expect to be exactly identical (initializing a BertForSequenceClassification model from a BertForSequenceClassification model).\n",
      "Some weights of BertForSequenceClassification were not initialized from the model checkpoint at bert-base-uncased and are newly initialized: ['classifier.weight', 'classifier.bias']\n",
      "You should probably TRAIN this model on a down-stream task to be able to use it for predictions and inference.\n"
     ]
    },
    {
     "ename": "RuntimeError",
     "evalue": "CUDA out of memory. Tried to allocate 90.00 MiB (GPU 0; 8.00 GiB total capacity; 7.31 GiB already allocated; 0 bytes free; 7.35 GiB reserved in total by PyTorch) If reserved memory is >> allocated memory try setting max_split_size_mb to avoid fragmentation.  See documentation for Memory Management and PYTORCH_CUDA_ALLOC_CONF",
     "output_type": "error",
     "traceback": [
      "\u001b[1;31m---------------------------------------------------------------------------\u001b[0m",
      "\u001b[1;31mRuntimeError\u001b[0m                              Traceback (most recent call last)",
      "Cell \u001b[1;32mIn[98], line 21\u001b[0m\n\u001b[0;32m      9\u001b[0m id2label \u001b[38;5;241m=\u001b[39m {\n\u001b[0;32m     10\u001b[0m     \u001b[38;5;241m0\u001b[39m: \u001b[38;5;124m\"\u001b[39m\u001b[38;5;124magree\u001b[39m\u001b[38;5;124m\"\u001b[39m,\n\u001b[0;32m     11\u001b[0m     \u001b[38;5;241m1\u001b[39m: \u001b[38;5;124m\"\u001b[39m\u001b[38;5;124mdisagree\u001b[39m\u001b[38;5;124m\"\u001b[39m,\n\u001b[0;32m     12\u001b[0m     \u001b[38;5;241m2\u001b[39m: \u001b[38;5;124m\"\u001b[39m\u001b[38;5;124mdiscuss\u001b[39m\u001b[38;5;124m\"\u001b[39m\n\u001b[0;32m     13\u001b[0m }\n\u001b[0;32m     15\u001b[0m model \u001b[38;5;241m=\u001b[39m BertForSequenceClassification\u001b[38;5;241m.\u001b[39mfrom_pretrained(\u001b[38;5;124m\"\u001b[39m\u001b[38;5;124mbert-base-uncased\u001b[39m\u001b[38;5;124m\"\u001b[39m, \n\u001b[0;32m     16\u001b[0m                                                     problem_type\u001b[38;5;241m=\u001b[39m\u001b[38;5;124m\"\u001b[39m\u001b[38;5;124msingle_label_classification\u001b[39m\u001b[38;5;124m\"\u001b[39m, \n\u001b[0;32m     17\u001b[0m                                                     num_labels\u001b[38;5;241m=\u001b[39m\u001b[38;5;28mlen\u001b[39m(label2id\u001b[38;5;241m.\u001b[39mkeys()),\n\u001b[0;32m     18\u001b[0m                                                     id2label\u001b[38;5;241m=\u001b[39mid2label,\n\u001b[0;32m     19\u001b[0m                                                     label2id\u001b[38;5;241m=\u001b[39mlabel2id)\n\u001b[1;32m---> 21\u001b[0m model \u001b[38;5;241m=\u001b[39m \u001b[43mmodel\u001b[49m\u001b[38;5;241;43m.\u001b[39;49m\u001b[43mto\u001b[49m\u001b[43m(\u001b[49m\u001b[43mdevice\u001b[49m\u001b[43m)\u001b[49m\n",
      "File \u001b[1;32mF:\\Documents\\Development\\GitHub\\natural-language-processing-y4\\code\\env\\lib\\site-packages\\transformers\\modeling_utils.py:1749\u001b[0m, in \u001b[0;36mPreTrainedModel.to\u001b[1;34m(self, *args, **kwargs)\u001b[0m\n\u001b[0;32m   1744\u001b[0m     \u001b[38;5;28;01mraise\u001b[39;00m \u001b[38;5;167;01mValueError\u001b[39;00m(\n\u001b[0;32m   1745\u001b[0m         \u001b[38;5;124m\"\u001b[39m\u001b[38;5;124m`.to` is not supported for `8-bit` models. Please use the model as it is, since the\u001b[39m\u001b[38;5;124m\"\u001b[39m\n\u001b[0;32m   1746\u001b[0m         \u001b[38;5;124m\"\u001b[39m\u001b[38;5;124m model has already been set to the correct devices and casted to the correct `dtype`.\u001b[39m\u001b[38;5;124m\"\u001b[39m\n\u001b[0;32m   1747\u001b[0m     )\n\u001b[0;32m   1748\u001b[0m \u001b[38;5;28;01melse\u001b[39;00m:\n\u001b[1;32m-> 1749\u001b[0m     \u001b[38;5;28;01mreturn\u001b[39;00m \u001b[38;5;28msuper\u001b[39m()\u001b[38;5;241m.\u001b[39mto(\u001b[38;5;241m*\u001b[39margs, \u001b[38;5;241m*\u001b[39m\u001b[38;5;241m*\u001b[39mkwargs)\n",
      "File \u001b[1;32mF:\\Documents\\Development\\GitHub\\natural-language-processing-y4\\code\\env\\lib\\site-packages\\torch\\nn\\modules\\module.py:927\u001b[0m, in \u001b[0;36mModule.to\u001b[1;34m(self, *args, **kwargs)\u001b[0m\n\u001b[0;32m    923\u001b[0m         \u001b[38;5;28;01mreturn\u001b[39;00m t\u001b[38;5;241m.\u001b[39mto(device, dtype \u001b[38;5;28;01mif\u001b[39;00m t\u001b[38;5;241m.\u001b[39mis_floating_point() \u001b[38;5;129;01mor\u001b[39;00m t\u001b[38;5;241m.\u001b[39mis_complex() \u001b[38;5;28;01melse\u001b[39;00m \u001b[38;5;28;01mNone\u001b[39;00m,\n\u001b[0;32m    924\u001b[0m                     non_blocking, memory_format\u001b[38;5;241m=\u001b[39mconvert_to_format)\n\u001b[0;32m    925\u001b[0m     \u001b[38;5;28;01mreturn\u001b[39;00m t\u001b[38;5;241m.\u001b[39mto(device, dtype \u001b[38;5;28;01mif\u001b[39;00m t\u001b[38;5;241m.\u001b[39mis_floating_point() \u001b[38;5;129;01mor\u001b[39;00m t\u001b[38;5;241m.\u001b[39mis_complex() \u001b[38;5;28;01melse\u001b[39;00m \u001b[38;5;28;01mNone\u001b[39;00m, non_blocking)\n\u001b[1;32m--> 927\u001b[0m \u001b[38;5;28;01mreturn\u001b[39;00m \u001b[38;5;28;43mself\u001b[39;49m\u001b[38;5;241;43m.\u001b[39;49m\u001b[43m_apply\u001b[49m\u001b[43m(\u001b[49m\u001b[43mconvert\u001b[49m\u001b[43m)\u001b[49m\n",
      "File \u001b[1;32mF:\\Documents\\Development\\GitHub\\natural-language-processing-y4\\code\\env\\lib\\site-packages\\torch\\nn\\modules\\module.py:579\u001b[0m, in \u001b[0;36mModule._apply\u001b[1;34m(self, fn)\u001b[0m\n\u001b[0;32m    577\u001b[0m \u001b[38;5;28;01mdef\u001b[39;00m \u001b[38;5;21m_apply\u001b[39m(\u001b[38;5;28mself\u001b[39m, fn):\n\u001b[0;32m    578\u001b[0m     \u001b[38;5;28;01mfor\u001b[39;00m module \u001b[38;5;129;01min\u001b[39;00m \u001b[38;5;28mself\u001b[39m\u001b[38;5;241m.\u001b[39mchildren():\n\u001b[1;32m--> 579\u001b[0m         \u001b[43mmodule\u001b[49m\u001b[38;5;241;43m.\u001b[39;49m\u001b[43m_apply\u001b[49m\u001b[43m(\u001b[49m\u001b[43mfn\u001b[49m\u001b[43m)\u001b[49m\n\u001b[0;32m    581\u001b[0m     \u001b[38;5;28;01mdef\u001b[39;00m \u001b[38;5;21mcompute_should_use_set_data\u001b[39m(tensor, tensor_applied):\n\u001b[0;32m    582\u001b[0m         \u001b[38;5;28;01mif\u001b[39;00m torch\u001b[38;5;241m.\u001b[39m_has_compatible_shallow_copy_type(tensor, tensor_applied):\n\u001b[0;32m    583\u001b[0m             \u001b[38;5;66;03m# If the new tensor has compatible tensor type as the existing tensor,\u001b[39;00m\n\u001b[0;32m    584\u001b[0m             \u001b[38;5;66;03m# the current behavior is to change the tensor in-place using `.data =`,\u001b[39;00m\n\u001b[1;32m   (...)\u001b[0m\n\u001b[0;32m    589\u001b[0m             \u001b[38;5;66;03m# global flag to let the user control whether they want the future\u001b[39;00m\n\u001b[0;32m    590\u001b[0m             \u001b[38;5;66;03m# behavior of overwriting the existing tensor or not.\u001b[39;00m\n",
      "File \u001b[1;32mF:\\Documents\\Development\\GitHub\\natural-language-processing-y4\\code\\env\\lib\\site-packages\\torch\\nn\\modules\\module.py:579\u001b[0m, in \u001b[0;36mModule._apply\u001b[1;34m(self, fn)\u001b[0m\n\u001b[0;32m    577\u001b[0m \u001b[38;5;28;01mdef\u001b[39;00m \u001b[38;5;21m_apply\u001b[39m(\u001b[38;5;28mself\u001b[39m, fn):\n\u001b[0;32m    578\u001b[0m     \u001b[38;5;28;01mfor\u001b[39;00m module \u001b[38;5;129;01min\u001b[39;00m \u001b[38;5;28mself\u001b[39m\u001b[38;5;241m.\u001b[39mchildren():\n\u001b[1;32m--> 579\u001b[0m         \u001b[43mmodule\u001b[49m\u001b[38;5;241;43m.\u001b[39;49m\u001b[43m_apply\u001b[49m\u001b[43m(\u001b[49m\u001b[43mfn\u001b[49m\u001b[43m)\u001b[49m\n\u001b[0;32m    581\u001b[0m     \u001b[38;5;28;01mdef\u001b[39;00m \u001b[38;5;21mcompute_should_use_set_data\u001b[39m(tensor, tensor_applied):\n\u001b[0;32m    582\u001b[0m         \u001b[38;5;28;01mif\u001b[39;00m torch\u001b[38;5;241m.\u001b[39m_has_compatible_shallow_copy_type(tensor, tensor_applied):\n\u001b[0;32m    583\u001b[0m             \u001b[38;5;66;03m# If the new tensor has compatible tensor type as the existing tensor,\u001b[39;00m\n\u001b[0;32m    584\u001b[0m             \u001b[38;5;66;03m# the current behavior is to change the tensor in-place using `.data =`,\u001b[39;00m\n\u001b[1;32m   (...)\u001b[0m\n\u001b[0;32m    589\u001b[0m             \u001b[38;5;66;03m# global flag to let the user control whether they want the future\u001b[39;00m\n\u001b[0;32m    590\u001b[0m             \u001b[38;5;66;03m# behavior of overwriting the existing tensor or not.\u001b[39;00m\n",
      "File \u001b[1;32mF:\\Documents\\Development\\GitHub\\natural-language-processing-y4\\code\\env\\lib\\site-packages\\torch\\nn\\modules\\module.py:579\u001b[0m, in \u001b[0;36mModule._apply\u001b[1;34m(self, fn)\u001b[0m\n\u001b[0;32m    577\u001b[0m \u001b[38;5;28;01mdef\u001b[39;00m \u001b[38;5;21m_apply\u001b[39m(\u001b[38;5;28mself\u001b[39m, fn):\n\u001b[0;32m    578\u001b[0m     \u001b[38;5;28;01mfor\u001b[39;00m module \u001b[38;5;129;01min\u001b[39;00m \u001b[38;5;28mself\u001b[39m\u001b[38;5;241m.\u001b[39mchildren():\n\u001b[1;32m--> 579\u001b[0m         \u001b[43mmodule\u001b[49m\u001b[38;5;241;43m.\u001b[39;49m\u001b[43m_apply\u001b[49m\u001b[43m(\u001b[49m\u001b[43mfn\u001b[49m\u001b[43m)\u001b[49m\n\u001b[0;32m    581\u001b[0m     \u001b[38;5;28;01mdef\u001b[39;00m \u001b[38;5;21mcompute_should_use_set_data\u001b[39m(tensor, tensor_applied):\n\u001b[0;32m    582\u001b[0m         \u001b[38;5;28;01mif\u001b[39;00m torch\u001b[38;5;241m.\u001b[39m_has_compatible_shallow_copy_type(tensor, tensor_applied):\n\u001b[0;32m    583\u001b[0m             \u001b[38;5;66;03m# If the new tensor has compatible tensor type as the existing tensor,\u001b[39;00m\n\u001b[0;32m    584\u001b[0m             \u001b[38;5;66;03m# the current behavior is to change the tensor in-place using `.data =`,\u001b[39;00m\n\u001b[1;32m   (...)\u001b[0m\n\u001b[0;32m    589\u001b[0m             \u001b[38;5;66;03m# global flag to let the user control whether they want the future\u001b[39;00m\n\u001b[0;32m    590\u001b[0m             \u001b[38;5;66;03m# behavior of overwriting the existing tensor or not.\u001b[39;00m\n",
      "File \u001b[1;32mF:\\Documents\\Development\\GitHub\\natural-language-processing-y4\\code\\env\\lib\\site-packages\\torch\\nn\\modules\\module.py:602\u001b[0m, in \u001b[0;36mModule._apply\u001b[1;34m(self, fn)\u001b[0m\n\u001b[0;32m    598\u001b[0m \u001b[38;5;66;03m# Tensors stored in modules are graph leaves, and we don't want to\u001b[39;00m\n\u001b[0;32m    599\u001b[0m \u001b[38;5;66;03m# track autograd history of `param_applied`, so we have to use\u001b[39;00m\n\u001b[0;32m    600\u001b[0m \u001b[38;5;66;03m# `with torch.no_grad():`\u001b[39;00m\n\u001b[0;32m    601\u001b[0m \u001b[38;5;28;01mwith\u001b[39;00m torch\u001b[38;5;241m.\u001b[39mno_grad():\n\u001b[1;32m--> 602\u001b[0m     param_applied \u001b[38;5;241m=\u001b[39m \u001b[43mfn\u001b[49m\u001b[43m(\u001b[49m\u001b[43mparam\u001b[49m\u001b[43m)\u001b[49m\n\u001b[0;32m    603\u001b[0m should_use_set_data \u001b[38;5;241m=\u001b[39m compute_should_use_set_data(param, param_applied)\n\u001b[0;32m    604\u001b[0m \u001b[38;5;28;01mif\u001b[39;00m should_use_set_data:\n",
      "File \u001b[1;32mF:\\Documents\\Development\\GitHub\\natural-language-processing-y4\\code\\env\\lib\\site-packages\\torch\\nn\\modules\\module.py:925\u001b[0m, in \u001b[0;36mModule.to.<locals>.convert\u001b[1;34m(t)\u001b[0m\n\u001b[0;32m    922\u001b[0m \u001b[38;5;28;01mif\u001b[39;00m convert_to_format \u001b[38;5;129;01mis\u001b[39;00m \u001b[38;5;129;01mnot\u001b[39;00m \u001b[38;5;28;01mNone\u001b[39;00m \u001b[38;5;129;01mand\u001b[39;00m t\u001b[38;5;241m.\u001b[39mdim() \u001b[38;5;129;01min\u001b[39;00m (\u001b[38;5;241m4\u001b[39m, \u001b[38;5;241m5\u001b[39m):\n\u001b[0;32m    923\u001b[0m     \u001b[38;5;28;01mreturn\u001b[39;00m t\u001b[38;5;241m.\u001b[39mto(device, dtype \u001b[38;5;28;01mif\u001b[39;00m t\u001b[38;5;241m.\u001b[39mis_floating_point() \u001b[38;5;129;01mor\u001b[39;00m t\u001b[38;5;241m.\u001b[39mis_complex() \u001b[38;5;28;01melse\u001b[39;00m \u001b[38;5;28;01mNone\u001b[39;00m,\n\u001b[0;32m    924\u001b[0m                 non_blocking, memory_format\u001b[38;5;241m=\u001b[39mconvert_to_format)\n\u001b[1;32m--> 925\u001b[0m \u001b[38;5;28;01mreturn\u001b[39;00m \u001b[43mt\u001b[49m\u001b[38;5;241;43m.\u001b[39;49m\u001b[43mto\u001b[49m\u001b[43m(\u001b[49m\u001b[43mdevice\u001b[49m\u001b[43m,\u001b[49m\u001b[43m \u001b[49m\u001b[43mdtype\u001b[49m\u001b[43m \u001b[49m\u001b[38;5;28;43;01mif\u001b[39;49;00m\u001b[43m \u001b[49m\u001b[43mt\u001b[49m\u001b[38;5;241;43m.\u001b[39;49m\u001b[43mis_floating_point\u001b[49m\u001b[43m(\u001b[49m\u001b[43m)\u001b[49m\u001b[43m \u001b[49m\u001b[38;5;129;43;01mor\u001b[39;49;00m\u001b[43m \u001b[49m\u001b[43mt\u001b[49m\u001b[38;5;241;43m.\u001b[39;49m\u001b[43mis_complex\u001b[49m\u001b[43m(\u001b[49m\u001b[43m)\u001b[49m\u001b[43m \u001b[49m\u001b[38;5;28;43;01melse\u001b[39;49;00m\u001b[43m \u001b[49m\u001b[38;5;28;43;01mNone\u001b[39;49;00m\u001b[43m,\u001b[49m\u001b[43m \u001b[49m\u001b[43mnon_blocking\u001b[49m\u001b[43m)\u001b[49m\n",
      "\u001b[1;31mRuntimeError\u001b[0m: CUDA out of memory. Tried to allocate 90.00 MiB (GPU 0; 8.00 GiB total capacity; 7.31 GiB already allocated; 0 bytes free; 7.35 GiB reserved in total by PyTorch) If reserved memory is >> allocated memory try setting max_split_size_mb to avoid fragmentation.  See documentation for Memory Management and PYTORCH_CUDA_ALLOC_CONF"
     ]
    }
   ],
   "source": [
    "from transformers import BertForSequenceClassification\n",
    "\n",
    "label2id = {\n",
    "    \"agree\": 0,\n",
    "    \"disagree\": 1,\n",
    "    \"discuss\": 2\n",
    "}\n",
    "\n",
    "id2label = {\n",
    "    0: \"agree\",\n",
    "    1: \"disagree\",\n",
    "    2: \"discuss\"\n",
    "}\n",
    "\n",
    "model = BertForSequenceClassification.from_pretrained(\"bert-base-uncased\", \n",
    "                                                    problem_type=\"single_label_classification\", \n",
    "                                                    num_labels=len(label2id.keys()),\n",
    "                                                    id2label=id2label,\n",
    "                                                    label2id=label2id)\n",
    "\n",
    "model = model.to(device)"
   ]
  },
  {
   "cell_type": "code",
   "execution_count": 100,
   "id": "1581729c-6e04-48aa-8a23-9840714dfff1",
   "metadata": {
    "tags": []
   },
   "outputs": [],
   "source": []
  },
  {
   "cell_type": "code",
   "execution_count": 95,
   "id": "06fdbe65-2abd-45da-a519-261eb9a4b620",
   "metadata": {
    "tags": []
   },
   "outputs": [],
   "source": [
    "from transformers import AdamW"
   ]
  },
  {
   "cell_type": "code",
   "execution_count": 96,
   "id": "a81f8fb5-d0dc-41a7-8d9a-8bdcb5a117b6",
   "metadata": {
    "tags": []
   },
   "outputs": [
    {
     "ename": "AttributeError",
     "evalue": "'NoneType' object has no attribute 'parameters'",
     "output_type": "error",
     "traceback": [
      "\u001b[1;31m---------------------------------------------------------------------------\u001b[0m",
      "\u001b[1;31mAttributeError\u001b[0m                            Traceback (most recent call last)",
      "Cell \u001b[1;32mIn[96], line 1\u001b[0m\n\u001b[1;32m----> 1\u001b[0m optim \u001b[38;5;241m=\u001b[39m AdamW(\u001b[43mmodel\u001b[49m\u001b[38;5;241;43m.\u001b[39;49m\u001b[43mparameters\u001b[49m(), lr\u001b[38;5;241m=\u001b[39m\u001b[38;5;241m5e-5\u001b[39m)\n",
      "\u001b[1;31mAttributeError\u001b[0m: 'NoneType' object has no attribute 'parameters'"
     ]
    }
   ],
   "source": [
    "optim = AdamW(model.parameters(), lr=5e-5)"
   ]
  },
  {
   "cell_type": "code",
   "execution_count": 93,
   "id": "28a57c4d-ab4f-4a6d-a408-e4a614912bcd",
   "metadata": {
    "tags": []
   },
   "outputs": [
    {
     "data": {
      "application/vnd.jupyter.widget-view+json": {
       "model_id": "34512d214b1e4e619e0f7b9fb9953e81",
       "version_major": 2,
       "version_minor": 0
      },
      "text/plain": [
       "  0%|          | 0/1360 [00:00<?, ?it/s]"
      ]
     },
     "metadata": {},
     "output_type": "display_data"
    },
    {
     "ename": "RuntimeError",
     "evalue": "CUDA out of memory. Tried to allocate 96.00 MiB (GPU 0; 8.00 GiB total capacity; 7.24 GiB already allocated; 0 bytes free; 7.29 GiB reserved in total by PyTorch) If reserved memory is >> allocated memory try setting max_split_size_mb to avoid fragmentation.  See documentation for Memory Management and PYTORCH_CUDA_ALLOC_CONF",
     "output_type": "error",
     "traceback": [
      "\u001b[1;31m---------------------------------------------------------------------------\u001b[0m",
      "\u001b[1;31mRuntimeError\u001b[0m                              Traceback (most recent call last)",
      "Cell \u001b[1;32mIn[93], line 5\u001b[0m\n\u001b[0;32m      3\u001b[0m inp \u001b[38;5;241m=\u001b[39m inp\u001b[38;5;241m.\u001b[39mto(device)\n\u001b[0;32m      4\u001b[0m labels \u001b[38;5;241m=\u001b[39m labels\u001b[38;5;241m.\u001b[39mto(device)\u001b[38;5;241m.\u001b[39msqueeze()\n\u001b[1;32m----> 5\u001b[0m outputs \u001b[38;5;241m=\u001b[39m \u001b[43mmodel\u001b[49m\u001b[43m(\u001b[49m\u001b[43minp\u001b[49m\u001b[43m,\u001b[49m\u001b[43m \u001b[49m\u001b[43mlabels\u001b[49m\u001b[38;5;241;43m=\u001b[39;49m\u001b[43mlabels\u001b[49m\u001b[43m)\u001b[49m\n\u001b[0;32m      6\u001b[0m loss \u001b[38;5;241m=\u001b[39m outputs[\u001b[38;5;241m0\u001b[39m]\n\u001b[0;32m      7\u001b[0m loss\u001b[38;5;241m.\u001b[39mbackward()\n",
      "File \u001b[1;32mF:\\Documents\\Development\\GitHub\\natural-language-processing-y4\\code\\env\\lib\\site-packages\\torch\\nn\\modules\\module.py:1130\u001b[0m, in \u001b[0;36mModule._call_impl\u001b[1;34m(self, *input, **kwargs)\u001b[0m\n\u001b[0;32m   1126\u001b[0m \u001b[38;5;66;03m# If we don't have any hooks, we want to skip the rest of the logic in\u001b[39;00m\n\u001b[0;32m   1127\u001b[0m \u001b[38;5;66;03m# this function, and just call forward.\u001b[39;00m\n\u001b[0;32m   1128\u001b[0m \u001b[38;5;28;01mif\u001b[39;00m \u001b[38;5;129;01mnot\u001b[39;00m (\u001b[38;5;28mself\u001b[39m\u001b[38;5;241m.\u001b[39m_backward_hooks \u001b[38;5;129;01mor\u001b[39;00m \u001b[38;5;28mself\u001b[39m\u001b[38;5;241m.\u001b[39m_forward_hooks \u001b[38;5;129;01mor\u001b[39;00m \u001b[38;5;28mself\u001b[39m\u001b[38;5;241m.\u001b[39m_forward_pre_hooks \u001b[38;5;129;01mor\u001b[39;00m _global_backward_hooks\n\u001b[0;32m   1129\u001b[0m         \u001b[38;5;129;01mor\u001b[39;00m _global_forward_hooks \u001b[38;5;129;01mor\u001b[39;00m _global_forward_pre_hooks):\n\u001b[1;32m-> 1130\u001b[0m     \u001b[38;5;28;01mreturn\u001b[39;00m forward_call(\u001b[38;5;241m*\u001b[39m\u001b[38;5;28minput\u001b[39m, \u001b[38;5;241m*\u001b[39m\u001b[38;5;241m*\u001b[39mkwargs)\n\u001b[0;32m   1131\u001b[0m \u001b[38;5;66;03m# Do not call functions when jit is used\u001b[39;00m\n\u001b[0;32m   1132\u001b[0m full_backward_hooks, non_full_backward_hooks \u001b[38;5;241m=\u001b[39m [], []\n",
      "File \u001b[1;32mF:\\Documents\\Development\\GitHub\\natural-language-processing-y4\\code\\env\\lib\\site-packages\\transformers\\models\\bert\\modeling_bert.py:1563\u001b[0m, in \u001b[0;36mBertForSequenceClassification.forward\u001b[1;34m(self, input_ids, attention_mask, token_type_ids, position_ids, head_mask, inputs_embeds, labels, output_attentions, output_hidden_states, return_dict)\u001b[0m\n\u001b[0;32m   1555\u001b[0m \u001b[38;5;250m\u001b[39m\u001b[38;5;124mr\u001b[39m\u001b[38;5;124;03m\"\"\"\u001b[39;00m\n\u001b[0;32m   1556\u001b[0m \u001b[38;5;124;03mlabels (`torch.LongTensor` of shape `(batch_size,)`, *optional*):\u001b[39;00m\n\u001b[0;32m   1557\u001b[0m \u001b[38;5;124;03m    Labels for computing the sequence classification/regression loss. Indices should be in `[0, ...,\u001b[39;00m\n\u001b[0;32m   1558\u001b[0m \u001b[38;5;124;03m    config.num_labels - 1]`. If `config.num_labels == 1` a regression loss is computed (Mean-Square loss), If\u001b[39;00m\n\u001b[0;32m   1559\u001b[0m \u001b[38;5;124;03m    `config.num_labels > 1` a classification loss is computed (Cross-Entropy).\u001b[39;00m\n\u001b[0;32m   1560\u001b[0m \u001b[38;5;124;03m\"\"\"\u001b[39;00m\n\u001b[0;32m   1561\u001b[0m return_dict \u001b[38;5;241m=\u001b[39m return_dict \u001b[38;5;28;01mif\u001b[39;00m return_dict \u001b[38;5;129;01mis\u001b[39;00m \u001b[38;5;129;01mnot\u001b[39;00m \u001b[38;5;28;01mNone\u001b[39;00m \u001b[38;5;28;01melse\u001b[39;00m \u001b[38;5;28mself\u001b[39m\u001b[38;5;241m.\u001b[39mconfig\u001b[38;5;241m.\u001b[39muse_return_dict\n\u001b[1;32m-> 1563\u001b[0m outputs \u001b[38;5;241m=\u001b[39m \u001b[38;5;28;43mself\u001b[39;49m\u001b[38;5;241;43m.\u001b[39;49m\u001b[43mbert\u001b[49m\u001b[43m(\u001b[49m\n\u001b[0;32m   1564\u001b[0m \u001b[43m    \u001b[49m\u001b[43minput_ids\u001b[49m\u001b[43m,\u001b[49m\n\u001b[0;32m   1565\u001b[0m \u001b[43m    \u001b[49m\u001b[43mattention_mask\u001b[49m\u001b[38;5;241;43m=\u001b[39;49m\u001b[43mattention_mask\u001b[49m\u001b[43m,\u001b[49m\n\u001b[0;32m   1566\u001b[0m \u001b[43m    \u001b[49m\u001b[43mtoken_type_ids\u001b[49m\u001b[38;5;241;43m=\u001b[39;49m\u001b[43mtoken_type_ids\u001b[49m\u001b[43m,\u001b[49m\n\u001b[0;32m   1567\u001b[0m \u001b[43m    \u001b[49m\u001b[43mposition_ids\u001b[49m\u001b[38;5;241;43m=\u001b[39;49m\u001b[43mposition_ids\u001b[49m\u001b[43m,\u001b[49m\n\u001b[0;32m   1568\u001b[0m \u001b[43m    \u001b[49m\u001b[43mhead_mask\u001b[49m\u001b[38;5;241;43m=\u001b[39;49m\u001b[43mhead_mask\u001b[49m\u001b[43m,\u001b[49m\n\u001b[0;32m   1569\u001b[0m \u001b[43m    \u001b[49m\u001b[43minputs_embeds\u001b[49m\u001b[38;5;241;43m=\u001b[39;49m\u001b[43minputs_embeds\u001b[49m\u001b[43m,\u001b[49m\n\u001b[0;32m   1570\u001b[0m \u001b[43m    \u001b[49m\u001b[43moutput_attentions\u001b[49m\u001b[38;5;241;43m=\u001b[39;49m\u001b[43moutput_attentions\u001b[49m\u001b[43m,\u001b[49m\n\u001b[0;32m   1571\u001b[0m \u001b[43m    \u001b[49m\u001b[43moutput_hidden_states\u001b[49m\u001b[38;5;241;43m=\u001b[39;49m\u001b[43moutput_hidden_states\u001b[49m\u001b[43m,\u001b[49m\n\u001b[0;32m   1572\u001b[0m \u001b[43m    \u001b[49m\u001b[43mreturn_dict\u001b[49m\u001b[38;5;241;43m=\u001b[39;49m\u001b[43mreturn_dict\u001b[49m\u001b[43m,\u001b[49m\n\u001b[0;32m   1573\u001b[0m \u001b[43m\u001b[49m\u001b[43m)\u001b[49m\n\u001b[0;32m   1575\u001b[0m pooled_output \u001b[38;5;241m=\u001b[39m outputs[\u001b[38;5;241m1\u001b[39m]\n\u001b[0;32m   1577\u001b[0m pooled_output \u001b[38;5;241m=\u001b[39m \u001b[38;5;28mself\u001b[39m\u001b[38;5;241m.\u001b[39mdropout(pooled_output)\n",
      "File \u001b[1;32mF:\\Documents\\Development\\GitHub\\natural-language-processing-y4\\code\\env\\lib\\site-packages\\torch\\nn\\modules\\module.py:1130\u001b[0m, in \u001b[0;36mModule._call_impl\u001b[1;34m(self, *input, **kwargs)\u001b[0m\n\u001b[0;32m   1126\u001b[0m \u001b[38;5;66;03m# If we don't have any hooks, we want to skip the rest of the logic in\u001b[39;00m\n\u001b[0;32m   1127\u001b[0m \u001b[38;5;66;03m# this function, and just call forward.\u001b[39;00m\n\u001b[0;32m   1128\u001b[0m \u001b[38;5;28;01mif\u001b[39;00m \u001b[38;5;129;01mnot\u001b[39;00m (\u001b[38;5;28mself\u001b[39m\u001b[38;5;241m.\u001b[39m_backward_hooks \u001b[38;5;129;01mor\u001b[39;00m \u001b[38;5;28mself\u001b[39m\u001b[38;5;241m.\u001b[39m_forward_hooks \u001b[38;5;129;01mor\u001b[39;00m \u001b[38;5;28mself\u001b[39m\u001b[38;5;241m.\u001b[39m_forward_pre_hooks \u001b[38;5;129;01mor\u001b[39;00m _global_backward_hooks\n\u001b[0;32m   1129\u001b[0m         \u001b[38;5;129;01mor\u001b[39;00m _global_forward_hooks \u001b[38;5;129;01mor\u001b[39;00m _global_forward_pre_hooks):\n\u001b[1;32m-> 1130\u001b[0m     \u001b[38;5;28;01mreturn\u001b[39;00m forward_call(\u001b[38;5;241m*\u001b[39m\u001b[38;5;28minput\u001b[39m, \u001b[38;5;241m*\u001b[39m\u001b[38;5;241m*\u001b[39mkwargs)\n\u001b[0;32m   1131\u001b[0m \u001b[38;5;66;03m# Do not call functions when jit is used\u001b[39;00m\n\u001b[0;32m   1132\u001b[0m full_backward_hooks, non_full_backward_hooks \u001b[38;5;241m=\u001b[39m [], []\n",
      "File \u001b[1;32mF:\\Documents\\Development\\GitHub\\natural-language-processing-y4\\code\\env\\lib\\site-packages\\transformers\\models\\bert\\modeling_bert.py:1019\u001b[0m, in \u001b[0;36mBertModel.forward\u001b[1;34m(self, input_ids, attention_mask, token_type_ids, position_ids, head_mask, inputs_embeds, encoder_hidden_states, encoder_attention_mask, past_key_values, use_cache, output_attentions, output_hidden_states, return_dict)\u001b[0m\n\u001b[0;32m   1010\u001b[0m head_mask \u001b[38;5;241m=\u001b[39m \u001b[38;5;28mself\u001b[39m\u001b[38;5;241m.\u001b[39mget_head_mask(head_mask, \u001b[38;5;28mself\u001b[39m\u001b[38;5;241m.\u001b[39mconfig\u001b[38;5;241m.\u001b[39mnum_hidden_layers)\n\u001b[0;32m   1012\u001b[0m embedding_output \u001b[38;5;241m=\u001b[39m \u001b[38;5;28mself\u001b[39m\u001b[38;5;241m.\u001b[39membeddings(\n\u001b[0;32m   1013\u001b[0m     input_ids\u001b[38;5;241m=\u001b[39minput_ids,\n\u001b[0;32m   1014\u001b[0m     position_ids\u001b[38;5;241m=\u001b[39mposition_ids,\n\u001b[1;32m   (...)\u001b[0m\n\u001b[0;32m   1017\u001b[0m     past_key_values_length\u001b[38;5;241m=\u001b[39mpast_key_values_length,\n\u001b[0;32m   1018\u001b[0m )\n\u001b[1;32m-> 1019\u001b[0m encoder_outputs \u001b[38;5;241m=\u001b[39m \u001b[38;5;28;43mself\u001b[39;49m\u001b[38;5;241;43m.\u001b[39;49m\u001b[43mencoder\u001b[49m\u001b[43m(\u001b[49m\n\u001b[0;32m   1020\u001b[0m \u001b[43m    \u001b[49m\u001b[43membedding_output\u001b[49m\u001b[43m,\u001b[49m\n\u001b[0;32m   1021\u001b[0m \u001b[43m    \u001b[49m\u001b[43mattention_mask\u001b[49m\u001b[38;5;241;43m=\u001b[39;49m\u001b[43mextended_attention_mask\u001b[49m\u001b[43m,\u001b[49m\n\u001b[0;32m   1022\u001b[0m \u001b[43m    \u001b[49m\u001b[43mhead_mask\u001b[49m\u001b[38;5;241;43m=\u001b[39;49m\u001b[43mhead_mask\u001b[49m\u001b[43m,\u001b[49m\n\u001b[0;32m   1023\u001b[0m \u001b[43m    \u001b[49m\u001b[43mencoder_hidden_states\u001b[49m\u001b[38;5;241;43m=\u001b[39;49m\u001b[43mencoder_hidden_states\u001b[49m\u001b[43m,\u001b[49m\n\u001b[0;32m   1024\u001b[0m \u001b[43m    \u001b[49m\u001b[43mencoder_attention_mask\u001b[49m\u001b[38;5;241;43m=\u001b[39;49m\u001b[43mencoder_extended_attention_mask\u001b[49m\u001b[43m,\u001b[49m\n\u001b[0;32m   1025\u001b[0m \u001b[43m    \u001b[49m\u001b[43mpast_key_values\u001b[49m\u001b[38;5;241;43m=\u001b[39;49m\u001b[43mpast_key_values\u001b[49m\u001b[43m,\u001b[49m\n\u001b[0;32m   1026\u001b[0m \u001b[43m    \u001b[49m\u001b[43muse_cache\u001b[49m\u001b[38;5;241;43m=\u001b[39;49m\u001b[43muse_cache\u001b[49m\u001b[43m,\u001b[49m\n\u001b[0;32m   1027\u001b[0m \u001b[43m    \u001b[49m\u001b[43moutput_attentions\u001b[49m\u001b[38;5;241;43m=\u001b[39;49m\u001b[43moutput_attentions\u001b[49m\u001b[43m,\u001b[49m\n\u001b[0;32m   1028\u001b[0m \u001b[43m    \u001b[49m\u001b[43moutput_hidden_states\u001b[49m\u001b[38;5;241;43m=\u001b[39;49m\u001b[43moutput_hidden_states\u001b[49m\u001b[43m,\u001b[49m\n\u001b[0;32m   1029\u001b[0m \u001b[43m    \u001b[49m\u001b[43mreturn_dict\u001b[49m\u001b[38;5;241;43m=\u001b[39;49m\u001b[43mreturn_dict\u001b[49m\u001b[43m,\u001b[49m\n\u001b[0;32m   1030\u001b[0m \u001b[43m\u001b[49m\u001b[43m)\u001b[49m\n\u001b[0;32m   1031\u001b[0m sequence_output \u001b[38;5;241m=\u001b[39m encoder_outputs[\u001b[38;5;241m0\u001b[39m]\n\u001b[0;32m   1032\u001b[0m pooled_output \u001b[38;5;241m=\u001b[39m \u001b[38;5;28mself\u001b[39m\u001b[38;5;241m.\u001b[39mpooler(sequence_output) \u001b[38;5;28;01mif\u001b[39;00m \u001b[38;5;28mself\u001b[39m\u001b[38;5;241m.\u001b[39mpooler \u001b[38;5;129;01mis\u001b[39;00m \u001b[38;5;129;01mnot\u001b[39;00m \u001b[38;5;28;01mNone\u001b[39;00m \u001b[38;5;28;01melse\u001b[39;00m \u001b[38;5;28;01mNone\u001b[39;00m\n",
      "File \u001b[1;32mF:\\Documents\\Development\\GitHub\\natural-language-processing-y4\\code\\env\\lib\\site-packages\\torch\\nn\\modules\\module.py:1130\u001b[0m, in \u001b[0;36mModule._call_impl\u001b[1;34m(self, *input, **kwargs)\u001b[0m\n\u001b[0;32m   1126\u001b[0m \u001b[38;5;66;03m# If we don't have any hooks, we want to skip the rest of the logic in\u001b[39;00m\n\u001b[0;32m   1127\u001b[0m \u001b[38;5;66;03m# this function, and just call forward.\u001b[39;00m\n\u001b[0;32m   1128\u001b[0m \u001b[38;5;28;01mif\u001b[39;00m \u001b[38;5;129;01mnot\u001b[39;00m (\u001b[38;5;28mself\u001b[39m\u001b[38;5;241m.\u001b[39m_backward_hooks \u001b[38;5;129;01mor\u001b[39;00m \u001b[38;5;28mself\u001b[39m\u001b[38;5;241m.\u001b[39m_forward_hooks \u001b[38;5;129;01mor\u001b[39;00m \u001b[38;5;28mself\u001b[39m\u001b[38;5;241m.\u001b[39m_forward_pre_hooks \u001b[38;5;129;01mor\u001b[39;00m _global_backward_hooks\n\u001b[0;32m   1129\u001b[0m         \u001b[38;5;129;01mor\u001b[39;00m _global_forward_hooks \u001b[38;5;129;01mor\u001b[39;00m _global_forward_pre_hooks):\n\u001b[1;32m-> 1130\u001b[0m     \u001b[38;5;28;01mreturn\u001b[39;00m forward_call(\u001b[38;5;241m*\u001b[39m\u001b[38;5;28minput\u001b[39m, \u001b[38;5;241m*\u001b[39m\u001b[38;5;241m*\u001b[39mkwargs)\n\u001b[0;32m   1131\u001b[0m \u001b[38;5;66;03m# Do not call functions when jit is used\u001b[39;00m\n\u001b[0;32m   1132\u001b[0m full_backward_hooks, non_full_backward_hooks \u001b[38;5;241m=\u001b[39m [], []\n",
      "File \u001b[1;32mF:\\Documents\\Development\\GitHub\\natural-language-processing-y4\\code\\env\\lib\\site-packages\\transformers\\models\\bert\\modeling_bert.py:609\u001b[0m, in \u001b[0;36mBertEncoder.forward\u001b[1;34m(self, hidden_states, attention_mask, head_mask, encoder_hidden_states, encoder_attention_mask, past_key_values, use_cache, output_attentions, output_hidden_states, return_dict)\u001b[0m\n\u001b[0;32m    600\u001b[0m     layer_outputs \u001b[38;5;241m=\u001b[39m torch\u001b[38;5;241m.\u001b[39mutils\u001b[38;5;241m.\u001b[39mcheckpoint\u001b[38;5;241m.\u001b[39mcheckpoint(\n\u001b[0;32m    601\u001b[0m         create_custom_forward(layer_module),\n\u001b[0;32m    602\u001b[0m         hidden_states,\n\u001b[1;32m   (...)\u001b[0m\n\u001b[0;32m    606\u001b[0m         encoder_attention_mask,\n\u001b[0;32m    607\u001b[0m     )\n\u001b[0;32m    608\u001b[0m \u001b[38;5;28;01melse\u001b[39;00m:\n\u001b[1;32m--> 609\u001b[0m     layer_outputs \u001b[38;5;241m=\u001b[39m \u001b[43mlayer_module\u001b[49m\u001b[43m(\u001b[49m\n\u001b[0;32m    610\u001b[0m \u001b[43m        \u001b[49m\u001b[43mhidden_states\u001b[49m\u001b[43m,\u001b[49m\n\u001b[0;32m    611\u001b[0m \u001b[43m        \u001b[49m\u001b[43mattention_mask\u001b[49m\u001b[43m,\u001b[49m\n\u001b[0;32m    612\u001b[0m \u001b[43m        \u001b[49m\u001b[43mlayer_head_mask\u001b[49m\u001b[43m,\u001b[49m\n\u001b[0;32m    613\u001b[0m \u001b[43m        \u001b[49m\u001b[43mencoder_hidden_states\u001b[49m\u001b[43m,\u001b[49m\n\u001b[0;32m    614\u001b[0m \u001b[43m        \u001b[49m\u001b[43mencoder_attention_mask\u001b[49m\u001b[43m,\u001b[49m\n\u001b[0;32m    615\u001b[0m \u001b[43m        \u001b[49m\u001b[43mpast_key_value\u001b[49m\u001b[43m,\u001b[49m\n\u001b[0;32m    616\u001b[0m \u001b[43m        \u001b[49m\u001b[43moutput_attentions\u001b[49m\u001b[43m,\u001b[49m\n\u001b[0;32m    617\u001b[0m \u001b[43m    \u001b[49m\u001b[43m)\u001b[49m\n\u001b[0;32m    619\u001b[0m hidden_states \u001b[38;5;241m=\u001b[39m layer_outputs[\u001b[38;5;241m0\u001b[39m]\n\u001b[0;32m    620\u001b[0m \u001b[38;5;28;01mif\u001b[39;00m use_cache:\n",
      "File \u001b[1;32mF:\\Documents\\Development\\GitHub\\natural-language-processing-y4\\code\\env\\lib\\site-packages\\torch\\nn\\modules\\module.py:1130\u001b[0m, in \u001b[0;36mModule._call_impl\u001b[1;34m(self, *input, **kwargs)\u001b[0m\n\u001b[0;32m   1126\u001b[0m \u001b[38;5;66;03m# If we don't have any hooks, we want to skip the rest of the logic in\u001b[39;00m\n\u001b[0;32m   1127\u001b[0m \u001b[38;5;66;03m# this function, and just call forward.\u001b[39;00m\n\u001b[0;32m   1128\u001b[0m \u001b[38;5;28;01mif\u001b[39;00m \u001b[38;5;129;01mnot\u001b[39;00m (\u001b[38;5;28mself\u001b[39m\u001b[38;5;241m.\u001b[39m_backward_hooks \u001b[38;5;129;01mor\u001b[39;00m \u001b[38;5;28mself\u001b[39m\u001b[38;5;241m.\u001b[39m_forward_hooks \u001b[38;5;129;01mor\u001b[39;00m \u001b[38;5;28mself\u001b[39m\u001b[38;5;241m.\u001b[39m_forward_pre_hooks \u001b[38;5;129;01mor\u001b[39;00m _global_backward_hooks\n\u001b[0;32m   1129\u001b[0m         \u001b[38;5;129;01mor\u001b[39;00m _global_forward_hooks \u001b[38;5;129;01mor\u001b[39;00m _global_forward_pre_hooks):\n\u001b[1;32m-> 1130\u001b[0m     \u001b[38;5;28;01mreturn\u001b[39;00m forward_call(\u001b[38;5;241m*\u001b[39m\u001b[38;5;28minput\u001b[39m, \u001b[38;5;241m*\u001b[39m\u001b[38;5;241m*\u001b[39mkwargs)\n\u001b[0;32m   1131\u001b[0m \u001b[38;5;66;03m# Do not call functions when jit is used\u001b[39;00m\n\u001b[0;32m   1132\u001b[0m full_backward_hooks, non_full_backward_hooks \u001b[38;5;241m=\u001b[39m [], []\n",
      "File \u001b[1;32mF:\\Documents\\Development\\GitHub\\natural-language-processing-y4\\code\\env\\lib\\site-packages\\transformers\\models\\bert\\modeling_bert.py:495\u001b[0m, in \u001b[0;36mBertLayer.forward\u001b[1;34m(self, hidden_states, attention_mask, head_mask, encoder_hidden_states, encoder_attention_mask, past_key_value, output_attentions)\u001b[0m\n\u001b[0;32m    483\u001b[0m \u001b[38;5;28;01mdef\u001b[39;00m \u001b[38;5;21mforward\u001b[39m(\n\u001b[0;32m    484\u001b[0m     \u001b[38;5;28mself\u001b[39m,\n\u001b[0;32m    485\u001b[0m     hidden_states: torch\u001b[38;5;241m.\u001b[39mTensor,\n\u001b[1;32m   (...)\u001b[0m\n\u001b[0;32m    492\u001b[0m ) \u001b[38;5;241m-\u001b[39m\u001b[38;5;241m>\u001b[39m Tuple[torch\u001b[38;5;241m.\u001b[39mTensor]:\n\u001b[0;32m    493\u001b[0m     \u001b[38;5;66;03m# decoder uni-directional self-attention cached key/values tuple is at positions 1,2\u001b[39;00m\n\u001b[0;32m    494\u001b[0m     self_attn_past_key_value \u001b[38;5;241m=\u001b[39m past_key_value[:\u001b[38;5;241m2\u001b[39m] \u001b[38;5;28;01mif\u001b[39;00m past_key_value \u001b[38;5;129;01mis\u001b[39;00m \u001b[38;5;129;01mnot\u001b[39;00m \u001b[38;5;28;01mNone\u001b[39;00m \u001b[38;5;28;01melse\u001b[39;00m \u001b[38;5;28;01mNone\u001b[39;00m\n\u001b[1;32m--> 495\u001b[0m     self_attention_outputs \u001b[38;5;241m=\u001b[39m \u001b[38;5;28;43mself\u001b[39;49m\u001b[38;5;241;43m.\u001b[39;49m\u001b[43mattention\u001b[49m\u001b[43m(\u001b[49m\n\u001b[0;32m    496\u001b[0m \u001b[43m        \u001b[49m\u001b[43mhidden_states\u001b[49m\u001b[43m,\u001b[49m\n\u001b[0;32m    497\u001b[0m \u001b[43m        \u001b[49m\u001b[43mattention_mask\u001b[49m\u001b[43m,\u001b[49m\n\u001b[0;32m    498\u001b[0m \u001b[43m        \u001b[49m\u001b[43mhead_mask\u001b[49m\u001b[43m,\u001b[49m\n\u001b[0;32m    499\u001b[0m \u001b[43m        \u001b[49m\u001b[43moutput_attentions\u001b[49m\u001b[38;5;241;43m=\u001b[39;49m\u001b[43moutput_attentions\u001b[49m\u001b[43m,\u001b[49m\n\u001b[0;32m    500\u001b[0m \u001b[43m        \u001b[49m\u001b[43mpast_key_value\u001b[49m\u001b[38;5;241;43m=\u001b[39;49m\u001b[43mself_attn_past_key_value\u001b[49m\u001b[43m,\u001b[49m\n\u001b[0;32m    501\u001b[0m \u001b[43m    \u001b[49m\u001b[43m)\u001b[49m\n\u001b[0;32m    502\u001b[0m     attention_output \u001b[38;5;241m=\u001b[39m self_attention_outputs[\u001b[38;5;241m0\u001b[39m]\n\u001b[0;32m    504\u001b[0m     \u001b[38;5;66;03m# if decoder, the last output is tuple of self-attn cache\u001b[39;00m\n",
      "File \u001b[1;32mF:\\Documents\\Development\\GitHub\\natural-language-processing-y4\\code\\env\\lib\\site-packages\\torch\\nn\\modules\\module.py:1130\u001b[0m, in \u001b[0;36mModule._call_impl\u001b[1;34m(self, *input, **kwargs)\u001b[0m\n\u001b[0;32m   1126\u001b[0m \u001b[38;5;66;03m# If we don't have any hooks, we want to skip the rest of the logic in\u001b[39;00m\n\u001b[0;32m   1127\u001b[0m \u001b[38;5;66;03m# this function, and just call forward.\u001b[39;00m\n\u001b[0;32m   1128\u001b[0m \u001b[38;5;28;01mif\u001b[39;00m \u001b[38;5;129;01mnot\u001b[39;00m (\u001b[38;5;28mself\u001b[39m\u001b[38;5;241m.\u001b[39m_backward_hooks \u001b[38;5;129;01mor\u001b[39;00m \u001b[38;5;28mself\u001b[39m\u001b[38;5;241m.\u001b[39m_forward_hooks \u001b[38;5;129;01mor\u001b[39;00m \u001b[38;5;28mself\u001b[39m\u001b[38;5;241m.\u001b[39m_forward_pre_hooks \u001b[38;5;129;01mor\u001b[39;00m _global_backward_hooks\n\u001b[0;32m   1129\u001b[0m         \u001b[38;5;129;01mor\u001b[39;00m _global_forward_hooks \u001b[38;5;129;01mor\u001b[39;00m _global_forward_pre_hooks):\n\u001b[1;32m-> 1130\u001b[0m     \u001b[38;5;28;01mreturn\u001b[39;00m forward_call(\u001b[38;5;241m*\u001b[39m\u001b[38;5;28minput\u001b[39m, \u001b[38;5;241m*\u001b[39m\u001b[38;5;241m*\u001b[39mkwargs)\n\u001b[0;32m   1131\u001b[0m \u001b[38;5;66;03m# Do not call functions when jit is used\u001b[39;00m\n\u001b[0;32m   1132\u001b[0m full_backward_hooks, non_full_backward_hooks \u001b[38;5;241m=\u001b[39m [], []\n",
      "File \u001b[1;32mF:\\Documents\\Development\\GitHub\\natural-language-processing-y4\\code\\env\\lib\\site-packages\\transformers\\models\\bert\\modeling_bert.py:425\u001b[0m, in \u001b[0;36mBertAttention.forward\u001b[1;34m(self, hidden_states, attention_mask, head_mask, encoder_hidden_states, encoder_attention_mask, past_key_value, output_attentions)\u001b[0m\n\u001b[0;32m    415\u001b[0m \u001b[38;5;28;01mdef\u001b[39;00m \u001b[38;5;21mforward\u001b[39m(\n\u001b[0;32m    416\u001b[0m     \u001b[38;5;28mself\u001b[39m,\n\u001b[0;32m    417\u001b[0m     hidden_states: torch\u001b[38;5;241m.\u001b[39mTensor,\n\u001b[1;32m   (...)\u001b[0m\n\u001b[0;32m    423\u001b[0m     output_attentions: Optional[\u001b[38;5;28mbool\u001b[39m] \u001b[38;5;241m=\u001b[39m \u001b[38;5;28;01mFalse\u001b[39;00m,\n\u001b[0;32m    424\u001b[0m ) \u001b[38;5;241m-\u001b[39m\u001b[38;5;241m>\u001b[39m Tuple[torch\u001b[38;5;241m.\u001b[39mTensor]:\n\u001b[1;32m--> 425\u001b[0m     self_outputs \u001b[38;5;241m=\u001b[39m \u001b[38;5;28;43mself\u001b[39;49m\u001b[38;5;241;43m.\u001b[39;49m\u001b[43mself\u001b[49m\u001b[43m(\u001b[49m\n\u001b[0;32m    426\u001b[0m \u001b[43m        \u001b[49m\u001b[43mhidden_states\u001b[49m\u001b[43m,\u001b[49m\n\u001b[0;32m    427\u001b[0m \u001b[43m        \u001b[49m\u001b[43mattention_mask\u001b[49m\u001b[43m,\u001b[49m\n\u001b[0;32m    428\u001b[0m \u001b[43m        \u001b[49m\u001b[43mhead_mask\u001b[49m\u001b[43m,\u001b[49m\n\u001b[0;32m    429\u001b[0m \u001b[43m        \u001b[49m\u001b[43mencoder_hidden_states\u001b[49m\u001b[43m,\u001b[49m\n\u001b[0;32m    430\u001b[0m \u001b[43m        \u001b[49m\u001b[43mencoder_attention_mask\u001b[49m\u001b[43m,\u001b[49m\n\u001b[0;32m    431\u001b[0m \u001b[43m        \u001b[49m\u001b[43mpast_key_value\u001b[49m\u001b[43m,\u001b[49m\n\u001b[0;32m    432\u001b[0m \u001b[43m        \u001b[49m\u001b[43moutput_attentions\u001b[49m\u001b[43m,\u001b[49m\n\u001b[0;32m    433\u001b[0m \u001b[43m    \u001b[49m\u001b[43m)\u001b[49m\n\u001b[0;32m    434\u001b[0m     attention_output \u001b[38;5;241m=\u001b[39m \u001b[38;5;28mself\u001b[39m\u001b[38;5;241m.\u001b[39moutput(self_outputs[\u001b[38;5;241m0\u001b[39m], hidden_states)\n\u001b[0;32m    435\u001b[0m     outputs \u001b[38;5;241m=\u001b[39m (attention_output,) \u001b[38;5;241m+\u001b[39m self_outputs[\u001b[38;5;241m1\u001b[39m:]  \u001b[38;5;66;03m# add attentions if we output them\u001b[39;00m\n",
      "File \u001b[1;32mF:\\Documents\\Development\\GitHub\\natural-language-processing-y4\\code\\env\\lib\\site-packages\\torch\\nn\\modules\\module.py:1130\u001b[0m, in \u001b[0;36mModule._call_impl\u001b[1;34m(self, *input, **kwargs)\u001b[0m\n\u001b[0;32m   1126\u001b[0m \u001b[38;5;66;03m# If we don't have any hooks, we want to skip the rest of the logic in\u001b[39;00m\n\u001b[0;32m   1127\u001b[0m \u001b[38;5;66;03m# this function, and just call forward.\u001b[39;00m\n\u001b[0;32m   1128\u001b[0m \u001b[38;5;28;01mif\u001b[39;00m \u001b[38;5;129;01mnot\u001b[39;00m (\u001b[38;5;28mself\u001b[39m\u001b[38;5;241m.\u001b[39m_backward_hooks \u001b[38;5;129;01mor\u001b[39;00m \u001b[38;5;28mself\u001b[39m\u001b[38;5;241m.\u001b[39m_forward_hooks \u001b[38;5;129;01mor\u001b[39;00m \u001b[38;5;28mself\u001b[39m\u001b[38;5;241m.\u001b[39m_forward_pre_hooks \u001b[38;5;129;01mor\u001b[39;00m _global_backward_hooks\n\u001b[0;32m   1129\u001b[0m         \u001b[38;5;129;01mor\u001b[39;00m _global_forward_hooks \u001b[38;5;129;01mor\u001b[39;00m _global_forward_pre_hooks):\n\u001b[1;32m-> 1130\u001b[0m     \u001b[38;5;28;01mreturn\u001b[39;00m forward_call(\u001b[38;5;241m*\u001b[39m\u001b[38;5;28minput\u001b[39m, \u001b[38;5;241m*\u001b[39m\u001b[38;5;241m*\u001b[39mkwargs)\n\u001b[0;32m   1131\u001b[0m \u001b[38;5;66;03m# Do not call functions when jit is used\u001b[39;00m\n\u001b[0;32m   1132\u001b[0m full_backward_hooks, non_full_backward_hooks \u001b[38;5;241m=\u001b[39m [], []\n",
      "File \u001b[1;32mF:\\Documents\\Development\\GitHub\\natural-language-processing-y4\\code\\env\\lib\\site-packages\\transformers\\models\\bert\\modeling_bert.py:357\u001b[0m, in \u001b[0;36mBertSelfAttention.forward\u001b[1;34m(self, hidden_states, attention_mask, head_mask, encoder_hidden_states, encoder_attention_mask, past_key_value, output_attentions)\u001b[0m\n\u001b[0;32m    353\u001b[0m attention_probs \u001b[38;5;241m=\u001b[39m nn\u001b[38;5;241m.\u001b[39mfunctional\u001b[38;5;241m.\u001b[39msoftmax(attention_scores, dim\u001b[38;5;241m=\u001b[39m\u001b[38;5;241m-\u001b[39m\u001b[38;5;241m1\u001b[39m)\n\u001b[0;32m    355\u001b[0m \u001b[38;5;66;03m# This is actually dropping out entire tokens to attend to, which might\u001b[39;00m\n\u001b[0;32m    356\u001b[0m \u001b[38;5;66;03m# seem a bit unusual, but is taken from the original Transformer paper.\u001b[39;00m\n\u001b[1;32m--> 357\u001b[0m attention_probs \u001b[38;5;241m=\u001b[39m \u001b[38;5;28;43mself\u001b[39;49m\u001b[38;5;241;43m.\u001b[39;49m\u001b[43mdropout\u001b[49m\u001b[43m(\u001b[49m\u001b[43mattention_probs\u001b[49m\u001b[43m)\u001b[49m\n\u001b[0;32m    359\u001b[0m \u001b[38;5;66;03m# Mask heads if we want to\u001b[39;00m\n\u001b[0;32m    360\u001b[0m \u001b[38;5;28;01mif\u001b[39;00m head_mask \u001b[38;5;129;01mis\u001b[39;00m \u001b[38;5;129;01mnot\u001b[39;00m \u001b[38;5;28;01mNone\u001b[39;00m:\n",
      "File \u001b[1;32mF:\\Documents\\Development\\GitHub\\natural-language-processing-y4\\code\\env\\lib\\site-packages\\torch\\nn\\modules\\module.py:1130\u001b[0m, in \u001b[0;36mModule._call_impl\u001b[1;34m(self, *input, **kwargs)\u001b[0m\n\u001b[0;32m   1126\u001b[0m \u001b[38;5;66;03m# If we don't have any hooks, we want to skip the rest of the logic in\u001b[39;00m\n\u001b[0;32m   1127\u001b[0m \u001b[38;5;66;03m# this function, and just call forward.\u001b[39;00m\n\u001b[0;32m   1128\u001b[0m \u001b[38;5;28;01mif\u001b[39;00m \u001b[38;5;129;01mnot\u001b[39;00m (\u001b[38;5;28mself\u001b[39m\u001b[38;5;241m.\u001b[39m_backward_hooks \u001b[38;5;129;01mor\u001b[39;00m \u001b[38;5;28mself\u001b[39m\u001b[38;5;241m.\u001b[39m_forward_hooks \u001b[38;5;129;01mor\u001b[39;00m \u001b[38;5;28mself\u001b[39m\u001b[38;5;241m.\u001b[39m_forward_pre_hooks \u001b[38;5;129;01mor\u001b[39;00m _global_backward_hooks\n\u001b[0;32m   1129\u001b[0m         \u001b[38;5;129;01mor\u001b[39;00m _global_forward_hooks \u001b[38;5;129;01mor\u001b[39;00m _global_forward_pre_hooks):\n\u001b[1;32m-> 1130\u001b[0m     \u001b[38;5;28;01mreturn\u001b[39;00m forward_call(\u001b[38;5;241m*\u001b[39m\u001b[38;5;28minput\u001b[39m, \u001b[38;5;241m*\u001b[39m\u001b[38;5;241m*\u001b[39mkwargs)\n\u001b[0;32m   1131\u001b[0m \u001b[38;5;66;03m# Do not call functions when jit is used\u001b[39;00m\n\u001b[0;32m   1132\u001b[0m full_backward_hooks, non_full_backward_hooks \u001b[38;5;241m=\u001b[39m [], []\n",
      "File \u001b[1;32mF:\\Documents\\Development\\GitHub\\natural-language-processing-y4\\code\\env\\lib\\site-packages\\torch\\nn\\modules\\dropout.py:58\u001b[0m, in \u001b[0;36mDropout.forward\u001b[1;34m(self, input)\u001b[0m\n\u001b[0;32m     57\u001b[0m \u001b[38;5;28;01mdef\u001b[39;00m \u001b[38;5;21mforward\u001b[39m(\u001b[38;5;28mself\u001b[39m, \u001b[38;5;28minput\u001b[39m: Tensor) \u001b[38;5;241m-\u001b[39m\u001b[38;5;241m>\u001b[39m Tensor:\n\u001b[1;32m---> 58\u001b[0m     \u001b[38;5;28;01mreturn\u001b[39;00m \u001b[43mF\u001b[49m\u001b[38;5;241;43m.\u001b[39;49m\u001b[43mdropout\u001b[49m\u001b[43m(\u001b[49m\u001b[38;5;28;43minput\u001b[39;49m\u001b[43m,\u001b[49m\u001b[43m \u001b[49m\u001b[38;5;28;43mself\u001b[39;49m\u001b[38;5;241;43m.\u001b[39;49m\u001b[43mp\u001b[49m\u001b[43m,\u001b[49m\u001b[43m \u001b[49m\u001b[38;5;28;43mself\u001b[39;49m\u001b[38;5;241;43m.\u001b[39;49m\u001b[43mtraining\u001b[49m\u001b[43m,\u001b[49m\u001b[43m \u001b[49m\u001b[38;5;28;43mself\u001b[39;49m\u001b[38;5;241;43m.\u001b[39;49m\u001b[43minplace\u001b[49m\u001b[43m)\u001b[49m\n",
      "File \u001b[1;32mF:\\Documents\\Development\\GitHub\\natural-language-processing-y4\\code\\env\\lib\\site-packages\\torch\\nn\\functional.py:1252\u001b[0m, in \u001b[0;36mdropout\u001b[1;34m(input, p, training, inplace)\u001b[0m\n\u001b[0;32m   1250\u001b[0m \u001b[38;5;28;01mif\u001b[39;00m p \u001b[38;5;241m<\u001b[39m \u001b[38;5;241m0.0\u001b[39m \u001b[38;5;129;01mor\u001b[39;00m p \u001b[38;5;241m>\u001b[39m \u001b[38;5;241m1.0\u001b[39m:\n\u001b[0;32m   1251\u001b[0m     \u001b[38;5;28;01mraise\u001b[39;00m \u001b[38;5;167;01mValueError\u001b[39;00m(\u001b[38;5;124m\"\u001b[39m\u001b[38;5;124mdropout probability has to be between 0 and 1, \u001b[39m\u001b[38;5;124m\"\u001b[39m \u001b[38;5;124m\"\u001b[39m\u001b[38;5;124mbut got \u001b[39m\u001b[38;5;132;01m{}\u001b[39;00m\u001b[38;5;124m\"\u001b[39m\u001b[38;5;241m.\u001b[39mformat(p))\n\u001b[1;32m-> 1252\u001b[0m \u001b[38;5;28;01mreturn\u001b[39;00m _VF\u001b[38;5;241m.\u001b[39mdropout_(\u001b[38;5;28minput\u001b[39m, p, training) \u001b[38;5;28;01mif\u001b[39;00m inplace \u001b[38;5;28;01melse\u001b[39;00m \u001b[43m_VF\u001b[49m\u001b[38;5;241;43m.\u001b[39;49m\u001b[43mdropout\u001b[49m\u001b[43m(\u001b[49m\u001b[38;5;28;43minput\u001b[39;49m\u001b[43m,\u001b[49m\u001b[43m \u001b[49m\u001b[43mp\u001b[49m\u001b[43m,\u001b[49m\u001b[43m \u001b[49m\u001b[43mtraining\u001b[49m\u001b[43m)\u001b[49m\n",
      "\u001b[1;31mRuntimeError\u001b[0m: CUDA out of memory. Tried to allocate 96.00 MiB (GPU 0; 8.00 GiB total capacity; 7.24 GiB already allocated; 0 bytes free; 7.29 GiB reserved in total by PyTorch) If reserved memory is >> allocated memory try setting max_split_size_mb to avoid fragmentation.  See documentation for Memory Management and PYTORCH_CUDA_ALLOC_CONF"
     ]
    }
   ],
   "source": [
    "for epoch in range(10):\n",
    "    for batch_no, (inp, labels) in enumerate(tqdm(train_dataloader)):\n",
    "        inp = inp.to(device)\n",
    "        labels = labels.to(device).squeeze()\n",
    "        outputs = model(inp, labels=labels)\n",
    "        loss = outputs[0]\n",
    "        loss.backward()\n",
    "        optim.step()\n",
    "        \n",
    "model.eval()"
   ]
  },
  {
   "cell_type": "code",
   "execution_count": 101,
   "id": "8ed96624-5259-40df-8c58-d0eda4a894d6",
   "metadata": {
    "tags": []
   },
   "outputs": [],
   "source": [
    "import gc\n",
    "\n",
    "model = None\n",
    "gc.collect()\n",
    "with torch.no_grad():\n",
    "    torch.cuda.empty_cache()"
   ]
  },
  {
   "cell_type": "code",
   "execution_count": null,
   "id": "95235d84-a15c-4c4b-9bd4-7caa78c57885",
   "metadata": {},
   "outputs": [],
   "source": []
  }
 ],
 "metadata": {
  "kernelspec": {
   "display_name": "Python 3 (ipykernel)",
   "language": "python",
   "name": "python3"
  },
  "language_info": {
   "codemirror_mode": {
    "name": "ipython",
    "version": 3
   },
   "file_extension": ".py",
   "mimetype": "text/x-python",
   "name": "python",
   "nbconvert_exporter": "python",
   "pygments_lexer": "ipython3",
   "version": "3.10.7"
  }
 },
 "nbformat": 4,
 "nbformat_minor": 5
}
