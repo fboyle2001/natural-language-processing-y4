{
 "cells": [
  {
   "cell_type": "code",
   "execution_count": 1,
   "id": "2b8c1975-f4d8-4796-99a7-fee8e3db62c9",
   "metadata": {
    "tags": []
   },
   "outputs": [],
   "source": [
    "import pandas as pd\n",
    "import matplotlib.pyplot as plt\n",
    "import seaborn as sns\n",
    "import random\n",
    "\n",
    "import string\n",
    "import re\n",
    "\n",
    "import scipy\n",
    "import numpy as np\n",
    "from sklearn.feature_extraction.text import TfidfVectorizer, CountVectorizer\n",
    "\n",
    "from sklearn import metrics\n",
    "from sklearn.metrics import confusion_matrix,accuracy_score,roc_auc_score,roc_curve,auc,f1_score\n",
    "from sklearn.utils.class_weight import compute_class_weight\n",
    "\n",
    "import torch\n",
    "import torch.nn as nn\n",
    "import torch.optim as optim\n",
    "import torch.utils.data\n",
    "\n",
    "import torchsummary\n",
    "\n",
    "import time\n",
    "import os\n",
    "import shutil\n",
    "\n",
    "import transformers\n",
    "from transformers import BertTokenizer, BertModel\n",
    "\n",
    "from tqdm.notebook import tqdm\n",
    "tqdm.pandas()\n",
    "\n",
    "device=\"cuda\""
   ]
  },
  {
   "cell_type": "markdown",
   "id": "38d2598d-c4ac-4666-b25f-bd6746eafbbd",
   "metadata": {},
   "source": [
    "# Load Datasets\n",
    "1. Load the datasets\n",
    "2. Verify no article bodies overlap"
   ]
  },
  {
   "cell_type": "code",
   "execution_count": 2,
   "id": "3abee2c1-767d-4d73-a7dc-23b40926fa20",
   "metadata": {
    "tags": []
   },
   "outputs": [],
   "source": [
    "train_stances = pd.read_csv(\"./dataset/train_stances.csv\")\n",
    "train_bodies = pd.read_csv(\"./dataset/train_bodies.csv\")\n",
    "\n",
    "test_stances = pd.read_csv(\"./dataset/competition_test_stances.csv\")\n",
    "test_bodies = pd.read_csv(\"./dataset/competition_test_bodies.csv\")"
   ]
  },
  {
   "cell_type": "code",
   "execution_count": 3,
   "id": "36dd002c-637a-417b-bb11-4399b82a64ee",
   "metadata": {
    "tags": []
   },
   "outputs": [
    {
     "data": {
      "text/plain": [
       "ISIL Beheads American Photojournalist in Iraq                                                      127\n",
       "WHO says reports of suspected Ebola cases in Iraq are untrue                                       124\n",
       "James Foley remembered as 'brave and tireless' journalist                                          121\n",
       "Islamic Militants Post Video Claiming to Show Beheading of U.S. Journalist                         118\n",
       "US officials: Video shows American's execution                                                     112\n",
       "                                                                                                  ... \n",
       "Apple hopes to sell over 50 million watches in 2015                                                  2\n",
       "Mom Calls 911 On Masturbating Teenage Son; Boy Arrested, Charged With New ‘Self-Rape’ State Law      2\n",
       "Federal Judge: Enough With the Stupid Names                                                          2\n",
       "Sushi lover's entire body left riddled with WORMS after eating contaminated sashimi                  2\n",
       "Apple Watch Takes Two Hours to Charge, Only Delivers Notifications While on the Wrist                2\n",
       "Name: Headline, Length: 1648, dtype: int64"
      ]
     },
     "execution_count": 3,
     "metadata": {},
     "output_type": "execute_result"
    }
   ],
   "source": [
    "train_stances[\"Headline\"].value_counts()"
   ]
  },
  {
   "cell_type": "code",
   "execution_count": 4,
   "id": "893acd9c-30d6-4750-9cf0-c4d2e1ae07af",
   "metadata": {
    "tags": []
   },
   "outputs": [
    {
     "data": {
      "text/plain": [
       "Source: Joan Rivers' doc did biopsy, selfie                                                                                                                  160\n",
       "Joan Rivers Personal Doctor Allegedly Took A Selfie Before Her Biopsy And Cardiac Arrest                                                                     138\n",
       "‘Three-boobed’ woman: They’re not fake                                                                                                                        92\n",
       "Adopting Potential Werewolves Is Routine Business for Argentine Presidents                                                                                    92\n",
       "Justin Bieber Basically Saves A Russian Man From A Bear                                                                                                       88\n",
       "                                                                                                                                                            ... \n",
       "Madonna pledges oral sex for Clinton voters                                                                                                                    3\n",
       "Trump assures French President Macron 'you were my guy' – after saying before his election that rival Le Pen was 'strongest on what's going on in France'      3\n",
       "Apple Delaying Production on Larger-Screened 'iPad Pro' Until September                                                                                        3\n",
       "iOS 8.2 arriving Monday, here are full release notes                                                                                                           3\n",
       "SNOWDEN: ‘Elf On A Shelf’ Actually Hugely Successful NSA Project  Read more: http://www.duffelblog.com/2014/12/elf-on-a-shelf-snowden/#ixzz3MAOziZJf           2\n",
       "Name: Headline, Length: 894, dtype: int64"
      ]
     },
     "execution_count": 4,
     "metadata": {},
     "output_type": "execute_result"
    }
   ],
   "source": [
    "test_stances[\"Headline\"].value_counts()"
   ]
  },
  {
   "cell_type": "code",
   "execution_count": 5,
   "id": "9c663327-2f87-410c-b1f7-f3e75c46425a",
   "metadata": {},
   "outputs": [
    {
     "data": {
      "text/html": [
       "<div>\n",
       "<style scoped>\n",
       "    .dataframe tbody tr th:only-of-type {\n",
       "        vertical-align: middle;\n",
       "    }\n",
       "\n",
       "    .dataframe tbody tr th {\n",
       "        vertical-align: top;\n",
       "    }\n",
       "\n",
       "    .dataframe thead th {\n",
       "        text-align: right;\n",
       "    }\n",
       "</style>\n",
       "<table border=\"1\" class=\"dataframe\">\n",
       "  <thead>\n",
       "    <tr style=\"text-align: right;\">\n",
       "      <th></th>\n",
       "      <th>Headline</th>\n",
       "      <th>Body ID</th>\n",
       "      <th>Stance</th>\n",
       "    </tr>\n",
       "  </thead>\n",
       "  <tbody>\n",
       "    <tr>\n",
       "      <th>173</th>\n",
       "      <td>Cheese addiction breaks Kim Jong-un's ankles</td>\n",
       "      <td>2210</td>\n",
       "      <td>unrelated</td>\n",
       "    </tr>\n",
       "    <tr>\n",
       "      <th>1415</th>\n",
       "      <td>WSJ: Apple cut watch health features due to er...</td>\n",
       "      <td>1917</td>\n",
       "      <td>discuss</td>\n",
       "    </tr>\n",
       "    <tr>\n",
       "      <th>1418</th>\n",
       "      <td>Cheese blamed for North Korean leader Kim Jong...</td>\n",
       "      <td>1689</td>\n",
       "      <td>unrelated</td>\n",
       "    </tr>\n",
       "    <tr>\n",
       "      <th>1479</th>\n",
       "      <td>Cheese blamed for North Korean leader Kim Jong...</td>\n",
       "      <td>186</td>\n",
       "      <td>unrelated</td>\n",
       "    </tr>\n",
       "    <tr>\n",
       "      <th>1503</th>\n",
       "      <td>Cheese addiction breaks Kim Jong-un's ankles</td>\n",
       "      <td>2329</td>\n",
       "      <td>unrelated</td>\n",
       "    </tr>\n",
       "    <tr>\n",
       "      <th>...</th>\n",
       "      <td>...</td>\n",
       "      <td>...</td>\n",
       "      <td>...</td>\n",
       "    </tr>\n",
       "    <tr>\n",
       "      <th>48270</th>\n",
       "      <td>Apple was forced to nix key health features fr...</td>\n",
       "      <td>407</td>\n",
       "      <td>discuss</td>\n",
       "    </tr>\n",
       "    <tr>\n",
       "      <th>48852</th>\n",
       "      <td>Cheese blamed for North Korean leader Kim Jong...</td>\n",
       "      <td>2042</td>\n",
       "      <td>unrelated</td>\n",
       "    </tr>\n",
       "    <tr>\n",
       "      <th>49279</th>\n",
       "      <td>Cheese addiction breaks Kim Jong-un's ankles</td>\n",
       "      <td>1854</td>\n",
       "      <td>discuss</td>\n",
       "    </tr>\n",
       "    <tr>\n",
       "      <th>49349</th>\n",
       "      <td>Cheese blamed for North Korean leader Kim Jong...</td>\n",
       "      <td>2344</td>\n",
       "      <td>unrelated</td>\n",
       "    </tr>\n",
       "    <tr>\n",
       "      <th>49683</th>\n",
       "      <td>Cheese blamed for North Korean leader Kim Jong...</td>\n",
       "      <td>2327</td>\n",
       "      <td>unrelated</td>\n",
       "    </tr>\n",
       "  </tbody>\n",
       "</table>\n",
       "<p>156 rows × 3 columns</p>\n",
       "</div>"
      ],
      "text/plain": [
       "                                                Headline  Body ID     Stance\n",
       "173         Cheese addiction breaks Kim Jong-un's ankles     2210  unrelated\n",
       "1415   WSJ: Apple cut watch health features due to er...     1917    discuss\n",
       "1418   Cheese blamed for North Korean leader Kim Jong...     1689  unrelated\n",
       "1479   Cheese blamed for North Korean leader Kim Jong...      186  unrelated\n",
       "1503        Cheese addiction breaks Kim Jong-un's ankles     2329  unrelated\n",
       "...                                                  ...      ...        ...\n",
       "48270  Apple was forced to nix key health features fr...      407    discuss\n",
       "48852  Cheese blamed for North Korean leader Kim Jong...     2042  unrelated\n",
       "49279       Cheese addiction breaks Kim Jong-un's ankles     1854    discuss\n",
       "49349  Cheese blamed for North Korean leader Kim Jong...     2344  unrelated\n",
       "49683  Cheese blamed for North Korean leader Kim Jong...     2327  unrelated\n",
       "\n",
       "[156 rows x 3 columns]"
      ]
     },
     "execution_count": 5,
     "metadata": {},
     "output_type": "execute_result"
    }
   ],
   "source": [
    "train_stances.loc[train_stances[\"Headline\"].isin(test_stances[\"Headline\"])]"
   ]
  },
  {
   "cell_type": "code",
   "execution_count": 6,
   "id": "1c74a7d3-6556-4ee9-a420-afc665bea41c",
   "metadata": {
    "tags": []
   },
   "outputs": [
    {
     "data": {
      "text/html": [
       "<div>\n",
       "<style scoped>\n",
       "    .dataframe tbody tr th:only-of-type {\n",
       "        vertical-align: middle;\n",
       "    }\n",
       "\n",
       "    .dataframe tbody tr th {\n",
       "        vertical-align: top;\n",
       "    }\n",
       "\n",
       "    .dataframe thead th {\n",
       "        text-align: right;\n",
       "    }\n",
       "</style>\n",
       "<table border=\"1\" class=\"dataframe\">\n",
       "  <thead>\n",
       "    <tr style=\"text-align: right;\">\n",
       "      <th></th>\n",
       "      <th>Headline</th>\n",
       "      <th>Body ID</th>\n",
       "      <th>Stance</th>\n",
       "    </tr>\n",
       "  </thead>\n",
       "  <tbody>\n",
       "  </tbody>\n",
       "</table>\n",
       "</div>"
      ],
      "text/plain": [
       "Empty DataFrame\n",
       "Columns: [Headline, Body ID, Stance]\n",
       "Index: []"
      ]
     },
     "execution_count": 6,
     "metadata": {},
     "output_type": "execute_result"
    }
   ],
   "source": [
    "train_stances.loc[train_stances[\"Body ID\"].isin(test_stances[\"Body ID\"])]"
   ]
  },
  {
   "cell_type": "markdown",
   "id": "2940c0a4-12bc-4c31-8212-9062966fcc53",
   "metadata": {},
   "source": [
    "So there is overlap of the headlines in both the training and the test data but there is no overlap with the bodies of the articles so we should split the training set into training and validation such that the bodies of the articles are disjoint."
   ]
  },
  {
   "cell_type": "code",
   "execution_count": 7,
   "id": "7c157cd5-c85c-4cb3-82e9-13816de152df",
   "metadata": {
    "tags": []
   },
   "outputs": [],
   "source": [
    "test_df = test_stances.merge(test_bodies, on=\"Body ID\")\n",
    "test_df[\"Related\"] = (test_df[\"Stance\"] != \"unrelated\").astype(int)"
   ]
  },
  {
   "cell_type": "code",
   "execution_count": 8,
   "id": "a709b6c8-ba8f-4bdf-b61e-08e2728f64eb",
   "metadata": {
    "tags": []
   },
   "outputs": [
    {
     "data": {
      "text/html": [
       "<div>\n",
       "<style scoped>\n",
       "    .dataframe tbody tr th:only-of-type {\n",
       "        vertical-align: middle;\n",
       "    }\n",
       "\n",
       "    .dataframe tbody tr th {\n",
       "        vertical-align: top;\n",
       "    }\n",
       "\n",
       "    .dataframe thead th {\n",
       "        text-align: right;\n",
       "    }\n",
       "</style>\n",
       "<table border=\"1\" class=\"dataframe\">\n",
       "  <thead>\n",
       "    <tr style=\"text-align: right;\">\n",
       "      <th></th>\n",
       "      <th>Headline</th>\n",
       "      <th>Body ID</th>\n",
       "      <th>Stance</th>\n",
       "      <th>articleBody</th>\n",
       "      <th>Related</th>\n",
       "    </tr>\n",
       "  </thead>\n",
       "  <tbody>\n",
       "    <tr>\n",
       "      <th>0</th>\n",
       "      <td>Ferguson riots: Pregnant woman loses eye after...</td>\n",
       "      <td>2008</td>\n",
       "      <td>unrelated</td>\n",
       "      <td>A RESPECTED senior French police officer inves...</td>\n",
       "      <td>0</td>\n",
       "    </tr>\n",
       "    <tr>\n",
       "      <th>1</th>\n",
       "      <td>Apple Stores to install safes to secure gold A...</td>\n",
       "      <td>2008</td>\n",
       "      <td>unrelated</td>\n",
       "      <td>A RESPECTED senior French police officer inves...</td>\n",
       "      <td>0</td>\n",
       "    </tr>\n",
       "    <tr>\n",
       "      <th>2</th>\n",
       "      <td>Pregnant woman loses eye after police shoot be...</td>\n",
       "      <td>2008</td>\n",
       "      <td>unrelated</td>\n",
       "      <td>A RESPECTED senior French police officer inves...</td>\n",
       "      <td>0</td>\n",
       "    </tr>\n",
       "    <tr>\n",
       "      <th>3</th>\n",
       "      <td>We just found out the #Ferguson Protester who ...</td>\n",
       "      <td>2008</td>\n",
       "      <td>unrelated</td>\n",
       "      <td>A RESPECTED senior French police officer inves...</td>\n",
       "      <td>0</td>\n",
       "    </tr>\n",
       "    <tr>\n",
       "      <th>4</th>\n",
       "      <td>Police Chief In Charge of Paris Attacks Commit...</td>\n",
       "      <td>2008</td>\n",
       "      <td>discuss</td>\n",
       "      <td>A RESPECTED senior French police officer inves...</td>\n",
       "      <td>1</td>\n",
       "    </tr>\n",
       "    <tr>\n",
       "      <th>...</th>\n",
       "      <td>...</td>\n",
       "      <td>...</td>\n",
       "      <td>...</td>\n",
       "      <td>...</td>\n",
       "      <td>...</td>\n",
       "    </tr>\n",
       "    <tr>\n",
       "      <th>25408</th>\n",
       "      <td>A Sign That Obamacare Exchanges Are Failing</td>\n",
       "      <td>2586</td>\n",
       "      <td>disagree</td>\n",
       "      <td>Remember how much Republicans wanted to repeal...</td>\n",
       "      <td>1</td>\n",
       "    </tr>\n",
       "    <tr>\n",
       "      <th>25409</th>\n",
       "      <td>Republicans call Obamacare a 'failure.' These ...</td>\n",
       "      <td>2586</td>\n",
       "      <td>agree</td>\n",
       "      <td>Remember how much Republicans wanted to repeal...</td>\n",
       "      <td>1</td>\n",
       "    </tr>\n",
       "    <tr>\n",
       "      <th>25410</th>\n",
       "      <td>CBO’s Alternate Facts Show Obamacare is Unsust...</td>\n",
       "      <td>2586</td>\n",
       "      <td>disagree</td>\n",
       "      <td>Remember how much Republicans wanted to repeal...</td>\n",
       "      <td>1</td>\n",
       "    </tr>\n",
       "    <tr>\n",
       "      <th>25411</th>\n",
       "      <td>Why Obamacare failed</td>\n",
       "      <td>2586</td>\n",
       "      <td>disagree</td>\n",
       "      <td>Remember how much Republicans wanted to repeal...</td>\n",
       "      <td>1</td>\n",
       "    </tr>\n",
       "    <tr>\n",
       "      <th>25412</th>\n",
       "      <td>The success of the Affordable Care Act is a hu...</td>\n",
       "      <td>2586</td>\n",
       "      <td>agree</td>\n",
       "      <td>Remember how much Republicans wanted to repeal...</td>\n",
       "      <td>1</td>\n",
       "    </tr>\n",
       "  </tbody>\n",
       "</table>\n",
       "<p>25413 rows × 5 columns</p>\n",
       "</div>"
      ],
      "text/plain": [
       "                                                Headline  Body ID     Stance  \\\n",
       "0      Ferguson riots: Pregnant woman loses eye after...     2008  unrelated   \n",
       "1      Apple Stores to install safes to secure gold A...     2008  unrelated   \n",
       "2      Pregnant woman loses eye after police shoot be...     2008  unrelated   \n",
       "3      We just found out the #Ferguson Protester who ...     2008  unrelated   \n",
       "4      Police Chief In Charge of Paris Attacks Commit...     2008    discuss   \n",
       "...                                                  ...      ...        ...   \n",
       "25408        A Sign That Obamacare Exchanges Are Failing     2586   disagree   \n",
       "25409  Republicans call Obamacare a 'failure.' These ...     2586      agree   \n",
       "25410  CBO’s Alternate Facts Show Obamacare is Unsust...     2586   disagree   \n",
       "25411                               Why Obamacare failed     2586   disagree   \n",
       "25412  The success of the Affordable Care Act is a hu...     2586      agree   \n",
       "\n",
       "                                             articleBody  Related  \n",
       "0      A RESPECTED senior French police officer inves...        0  \n",
       "1      A RESPECTED senior French police officer inves...        0  \n",
       "2      A RESPECTED senior French police officer inves...        0  \n",
       "3      A RESPECTED senior French police officer inves...        0  \n",
       "4      A RESPECTED senior French police officer inves...        1  \n",
       "...                                                  ...      ...  \n",
       "25408  Remember how much Republicans wanted to repeal...        1  \n",
       "25409  Remember how much Republicans wanted to repeal...        1  \n",
       "25410  Remember how much Republicans wanted to repeal...        1  \n",
       "25411  Remember how much Republicans wanted to repeal...        1  \n",
       "25412  Remember how much Republicans wanted to repeal...        1  \n",
       "\n",
       "[25413 rows x 5 columns]"
      ]
     },
     "execution_count": 8,
     "metadata": {},
     "output_type": "execute_result"
    }
   ],
   "source": [
    "test_df"
   ]
  },
  {
   "cell_type": "code",
   "execution_count": 9,
   "id": "e2f3eadb-e5b5-421f-a374-07fd8eafccc4",
   "metadata": {
    "tags": []
   },
   "outputs": [],
   "source": [
    "train_and_val_df = train_stances.merge(train_bodies, on=\"Body ID\")\n",
    "train_and_val_df[\"Related\"] = (train_and_val_df[\"Stance\"] != \"unrelated\").astype(int)"
   ]
  },
  {
   "cell_type": "markdown",
   "id": "39776b76-e628-4ebc-a62f-58c820e86b62",
   "metadata": {},
   "source": [
    "# Exploratory Data Analysis\n",
    "TODO: Data analysis"
   ]
  },
  {
   "cell_type": "code",
   "execution_count": 10,
   "id": "aaf2b2f4-1e9b-47f0-9084-4430a64251ce",
   "metadata": {
    "tags": []
   },
   "outputs": [
    {
     "data": {
      "text/html": [
       "<div>\n",
       "<style scoped>\n",
       "    .dataframe tbody tr th:only-of-type {\n",
       "        vertical-align: middle;\n",
       "    }\n",
       "\n",
       "    .dataframe tbody tr th {\n",
       "        vertical-align: top;\n",
       "    }\n",
       "\n",
       "    .dataframe thead th {\n",
       "        text-align: right;\n",
       "    }\n",
       "</style>\n",
       "<table border=\"1\" class=\"dataframe\">\n",
       "  <thead>\n",
       "    <tr style=\"text-align: right;\">\n",
       "      <th></th>\n",
       "      <th>Headline</th>\n",
       "      <th>Body ID</th>\n",
       "      <th>Stance</th>\n",
       "      <th>articleBody</th>\n",
       "      <th>Related</th>\n",
       "    </tr>\n",
       "  </thead>\n",
       "  <tbody>\n",
       "    <tr>\n",
       "      <th>0</th>\n",
       "      <td>Police find mass graves with at least '15 bodi...</td>\n",
       "      <td>712</td>\n",
       "      <td>unrelated</td>\n",
       "      <td>Danny Boyle is directing the untitled film\\r\\n...</td>\n",
       "      <td>0</td>\n",
       "    </tr>\n",
       "    <tr>\n",
       "      <th>1</th>\n",
       "      <td>Seth Rogen to Play Apple’s Steve Wozniak</td>\n",
       "      <td>712</td>\n",
       "      <td>discuss</td>\n",
       "      <td>Danny Boyle is directing the untitled film\\r\\n...</td>\n",
       "      <td>1</td>\n",
       "    </tr>\n",
       "    <tr>\n",
       "      <th>2</th>\n",
       "      <td>Mexico police find mass grave near site 43 stu...</td>\n",
       "      <td>712</td>\n",
       "      <td>unrelated</td>\n",
       "      <td>Danny Boyle is directing the untitled film\\r\\n...</td>\n",
       "      <td>0</td>\n",
       "    </tr>\n",
       "    <tr>\n",
       "      <th>3</th>\n",
       "      <td>Mexico Says Missing Students Not Found In Firs...</td>\n",
       "      <td>712</td>\n",
       "      <td>unrelated</td>\n",
       "      <td>Danny Boyle is directing the untitled film\\r\\n...</td>\n",
       "      <td>0</td>\n",
       "    </tr>\n",
       "    <tr>\n",
       "      <th>4</th>\n",
       "      <td>New iOS 8 bug can delete all of your iCloud do...</td>\n",
       "      <td>712</td>\n",
       "      <td>unrelated</td>\n",
       "      <td>Danny Boyle is directing the untitled film\\r\\n...</td>\n",
       "      <td>0</td>\n",
       "    </tr>\n",
       "    <tr>\n",
       "      <th>...</th>\n",
       "      <td>...</td>\n",
       "      <td>...</td>\n",
       "      <td>...</td>\n",
       "      <td>...</td>\n",
       "      <td>...</td>\n",
       "    </tr>\n",
       "    <tr>\n",
       "      <th>49967</th>\n",
       "      <td>Amazon Is Opening a Brick-and-Mortar Store in ...</td>\n",
       "      <td>464</td>\n",
       "      <td>agree</td>\n",
       "      <td>Amazon, the cyber store that sells everything,...</td>\n",
       "      <td>1</td>\n",
       "    </tr>\n",
       "    <tr>\n",
       "      <th>49968</th>\n",
       "      <td>Elon University has not banned the term ‘fresh...</td>\n",
       "      <td>362</td>\n",
       "      <td>agree</td>\n",
       "      <td>ELON, N.C. – A recent rumor claims that Elon U...</td>\n",
       "      <td>1</td>\n",
       "    </tr>\n",
       "    <tr>\n",
       "      <th>49969</th>\n",
       "      <td>Fake BBC News website set up to carry Charlie ...</td>\n",
       "      <td>915</td>\n",
       "      <td>agree</td>\n",
       "      <td>A realistic-looking fake BBC News website has ...</td>\n",
       "      <td>1</td>\n",
       "    </tr>\n",
       "    <tr>\n",
       "      <th>49970</th>\n",
       "      <td>Apple was forced to nix key health features fr...</td>\n",
       "      <td>407</td>\n",
       "      <td>discuss</td>\n",
       "      <td>The health-focused smartwatch that Apple initi...</td>\n",
       "      <td>1</td>\n",
       "    </tr>\n",
       "    <tr>\n",
       "      <th>49971</th>\n",
       "      <td>If you want an Apple Watch, you’ll probably be...</td>\n",
       "      <td>1066</td>\n",
       "      <td>discuss</td>\n",
       "      <td>We still don’t know the exact date the Apple W...</td>\n",
       "      <td>1</td>\n",
       "    </tr>\n",
       "  </tbody>\n",
       "</table>\n",
       "<p>49972 rows × 5 columns</p>\n",
       "</div>"
      ],
      "text/plain": [
       "                                                Headline  Body ID     Stance  \\\n",
       "0      Police find mass graves with at least '15 bodi...      712  unrelated   \n",
       "1               Seth Rogen to Play Apple’s Steve Wozniak      712    discuss   \n",
       "2      Mexico police find mass grave near site 43 stu...      712  unrelated   \n",
       "3      Mexico Says Missing Students Not Found In Firs...      712  unrelated   \n",
       "4      New iOS 8 bug can delete all of your iCloud do...      712  unrelated   \n",
       "...                                                  ...      ...        ...   \n",
       "49967  Amazon Is Opening a Brick-and-Mortar Store in ...      464      agree   \n",
       "49968  Elon University has not banned the term ‘fresh...      362      agree   \n",
       "49969  Fake BBC News website set up to carry Charlie ...      915      agree   \n",
       "49970  Apple was forced to nix key health features fr...      407    discuss   \n",
       "49971  If you want an Apple Watch, you’ll probably be...     1066    discuss   \n",
       "\n",
       "                                             articleBody  Related  \n",
       "0      Danny Boyle is directing the untitled film\\r\\n...        0  \n",
       "1      Danny Boyle is directing the untitled film\\r\\n...        1  \n",
       "2      Danny Boyle is directing the untitled film\\r\\n...        0  \n",
       "3      Danny Boyle is directing the untitled film\\r\\n...        0  \n",
       "4      Danny Boyle is directing the untitled film\\r\\n...        0  \n",
       "...                                                  ...      ...  \n",
       "49967  Amazon, the cyber store that sells everything,...        1  \n",
       "49968  ELON, N.C. – A recent rumor claims that Elon U...        1  \n",
       "49969  A realistic-looking fake BBC News website has ...        1  \n",
       "49970  The health-focused smartwatch that Apple initi...        1  \n",
       "49971  We still don’t know the exact date the Apple W...        1  \n",
       "\n",
       "[49972 rows x 5 columns]"
      ]
     },
     "execution_count": 10,
     "metadata": {},
     "output_type": "execute_result"
    }
   ],
   "source": [
    "train_and_val_df"
   ]
  },
  {
   "cell_type": "markdown",
   "id": "f526a644-1b77-44d7-9e0c-75640869f4aa",
   "metadata": {},
   "source": [
    "Drop all rows that are unrelated"
   ]
  },
  {
   "cell_type": "code",
   "execution_count": 11,
   "id": "01bc283d-f57b-468b-a141-c36c2d9225a6",
   "metadata": {
    "tags": []
   },
   "outputs": [],
   "source": [
    "train_and_val_df = train_and_val_df[train_and_val_df[\"Related\"] == True]"
   ]
  },
  {
   "cell_type": "code",
   "execution_count": 12,
   "id": "e6fca20f-7a7e-40db-965d-da6ddeb6fab8",
   "metadata": {
    "tags": []
   },
   "outputs": [
    {
     "data": {
      "text/html": [
       "<div>\n",
       "<style scoped>\n",
       "    .dataframe tbody tr th:only-of-type {\n",
       "        vertical-align: middle;\n",
       "    }\n",
       "\n",
       "    .dataframe tbody tr th {\n",
       "        vertical-align: top;\n",
       "    }\n",
       "\n",
       "    .dataframe thead th {\n",
       "        text-align: right;\n",
       "    }\n",
       "</style>\n",
       "<table border=\"1\" class=\"dataframe\">\n",
       "  <thead>\n",
       "    <tr style=\"text-align: right;\">\n",
       "      <th></th>\n",
       "      <th>Headline</th>\n",
       "      <th>Body ID</th>\n",
       "      <th>Stance</th>\n",
       "      <th>articleBody</th>\n",
       "      <th>Related</th>\n",
       "    </tr>\n",
       "  </thead>\n",
       "  <tbody>\n",
       "    <tr>\n",
       "      <th>1</th>\n",
       "      <td>Seth Rogen to Play Apple’s Steve Wozniak</td>\n",
       "      <td>712</td>\n",
       "      <td>discuss</td>\n",
       "      <td>Danny Boyle is directing the untitled film\\r\\n...</td>\n",
       "      <td>1</td>\n",
       "    </tr>\n",
       "    <tr>\n",
       "      <th>5</th>\n",
       "      <td>Return of the Mac: Seth Rogen in talks to star...</td>\n",
       "      <td>712</td>\n",
       "      <td>discuss</td>\n",
       "      <td>Danny Boyle is directing the untitled film\\r\\n...</td>\n",
       "      <td>1</td>\n",
       "    </tr>\n",
       "    <tr>\n",
       "      <th>6</th>\n",
       "      <td>Seth Rogen Is Woz</td>\n",
       "      <td>712</td>\n",
       "      <td>discuss</td>\n",
       "      <td>Danny Boyle is directing the untitled film\\r\\n...</td>\n",
       "      <td>1</td>\n",
       "    </tr>\n",
       "    <tr>\n",
       "      <th>15</th>\n",
       "      <td>Steve Jobs Biopic Eyes Seth Rogen to Play Appl...</td>\n",
       "      <td>712</td>\n",
       "      <td>discuss</td>\n",
       "      <td>Danny Boyle is directing the untitled film\\r\\n...</td>\n",
       "      <td>1</td>\n",
       "    </tr>\n",
       "    <tr>\n",
       "      <th>20</th>\n",
       "      <td>Seth Rogen Eyed to Play Apple's Steve Wozniak ...</td>\n",
       "      <td>712</td>\n",
       "      <td>discuss</td>\n",
       "      <td>Danny Boyle is directing the untitled film\\r\\n...</td>\n",
       "      <td>1</td>\n",
       "    </tr>\n",
       "    <tr>\n",
       "      <th>...</th>\n",
       "      <td>...</td>\n",
       "      <td>...</td>\n",
       "      <td>...</td>\n",
       "      <td>...</td>\n",
       "      <td>...</td>\n",
       "    </tr>\n",
       "    <tr>\n",
       "      <th>49967</th>\n",
       "      <td>Amazon Is Opening a Brick-and-Mortar Store in ...</td>\n",
       "      <td>464</td>\n",
       "      <td>agree</td>\n",
       "      <td>Amazon, the cyber store that sells everything,...</td>\n",
       "      <td>1</td>\n",
       "    </tr>\n",
       "    <tr>\n",
       "      <th>49968</th>\n",
       "      <td>Elon University has not banned the term ‘fresh...</td>\n",
       "      <td>362</td>\n",
       "      <td>agree</td>\n",
       "      <td>ELON, N.C. – A recent rumor claims that Elon U...</td>\n",
       "      <td>1</td>\n",
       "    </tr>\n",
       "    <tr>\n",
       "      <th>49969</th>\n",
       "      <td>Fake BBC News website set up to carry Charlie ...</td>\n",
       "      <td>915</td>\n",
       "      <td>agree</td>\n",
       "      <td>A realistic-looking fake BBC News website has ...</td>\n",
       "      <td>1</td>\n",
       "    </tr>\n",
       "    <tr>\n",
       "      <th>49970</th>\n",
       "      <td>Apple was forced to nix key health features fr...</td>\n",
       "      <td>407</td>\n",
       "      <td>discuss</td>\n",
       "      <td>The health-focused smartwatch that Apple initi...</td>\n",
       "      <td>1</td>\n",
       "    </tr>\n",
       "    <tr>\n",
       "      <th>49971</th>\n",
       "      <td>If you want an Apple Watch, you’ll probably be...</td>\n",
       "      <td>1066</td>\n",
       "      <td>discuss</td>\n",
       "      <td>We still don’t know the exact date the Apple W...</td>\n",
       "      <td>1</td>\n",
       "    </tr>\n",
       "  </tbody>\n",
       "</table>\n",
       "<p>13427 rows × 5 columns</p>\n",
       "</div>"
      ],
      "text/plain": [
       "                                                Headline  Body ID   Stance  \\\n",
       "1               Seth Rogen to Play Apple’s Steve Wozniak      712  discuss   \n",
       "5      Return of the Mac: Seth Rogen in talks to star...      712  discuss   \n",
       "6                                      Seth Rogen Is Woz      712  discuss   \n",
       "15     Steve Jobs Biopic Eyes Seth Rogen to Play Appl...      712  discuss   \n",
       "20     Seth Rogen Eyed to Play Apple's Steve Wozniak ...      712  discuss   \n",
       "...                                                  ...      ...      ...   \n",
       "49967  Amazon Is Opening a Brick-and-Mortar Store in ...      464    agree   \n",
       "49968  Elon University has not banned the term ‘fresh...      362    agree   \n",
       "49969  Fake BBC News website set up to carry Charlie ...      915    agree   \n",
       "49970  Apple was forced to nix key health features fr...      407  discuss   \n",
       "49971  If you want an Apple Watch, you’ll probably be...     1066  discuss   \n",
       "\n",
       "                                             articleBody  Related  \n",
       "1      Danny Boyle is directing the untitled film\\r\\n...        1  \n",
       "5      Danny Boyle is directing the untitled film\\r\\n...        1  \n",
       "6      Danny Boyle is directing the untitled film\\r\\n...        1  \n",
       "15     Danny Boyle is directing the untitled film\\r\\n...        1  \n",
       "20     Danny Boyle is directing the untitled film\\r\\n...        1  \n",
       "...                                                  ...      ...  \n",
       "49967  Amazon, the cyber store that sells everything,...        1  \n",
       "49968  ELON, N.C. – A recent rumor claims that Elon U...        1  \n",
       "49969  A realistic-looking fake BBC News website has ...        1  \n",
       "49970  The health-focused smartwatch that Apple initi...        1  \n",
       "49971  We still don’t know the exact date the Apple W...        1  \n",
       "\n",
       "[13427 rows x 5 columns]"
      ]
     },
     "execution_count": 12,
     "metadata": {},
     "output_type": "execute_result"
    }
   ],
   "source": [
    "train_and_val_df"
   ]
  },
  {
   "cell_type": "code",
   "execution_count": 13,
   "id": "93bb2202-a367-49b3-8c0b-7c2899e07c6d",
   "metadata": {
    "tags": []
   },
   "outputs": [],
   "source": [
    "test_df = test_df[test_df[\"Related\"] == True]"
   ]
  },
  {
   "cell_type": "code",
   "execution_count": 14,
   "id": "cd4459cd-5e1a-4b18-aa14-c8174c2bc8b4",
   "metadata": {
    "tags": []
   },
   "outputs": [
    {
     "data": {
      "text/html": [
       "<div>\n",
       "<style scoped>\n",
       "    .dataframe tbody tr th:only-of-type {\n",
       "        vertical-align: middle;\n",
       "    }\n",
       "\n",
       "    .dataframe tbody tr th {\n",
       "        vertical-align: top;\n",
       "    }\n",
       "\n",
       "    .dataframe thead th {\n",
       "        text-align: right;\n",
       "    }\n",
       "</style>\n",
       "<table border=\"1\" class=\"dataframe\">\n",
       "  <thead>\n",
       "    <tr style=\"text-align: right;\">\n",
       "      <th></th>\n",
       "      <th>Headline</th>\n",
       "      <th>Body ID</th>\n",
       "      <th>Stance</th>\n",
       "      <th>articleBody</th>\n",
       "      <th>Related</th>\n",
       "    </tr>\n",
       "  </thead>\n",
       "  <tbody>\n",
       "    <tr>\n",
       "      <th>4</th>\n",
       "      <td>Police Chief In Charge of Paris Attacks Commit...</td>\n",
       "      <td>2008</td>\n",
       "      <td>discuss</td>\n",
       "      <td>A RESPECTED senior French police officer inves...</td>\n",
       "      <td>1</td>\n",
       "    </tr>\n",
       "    <tr>\n",
       "      <th>8</th>\n",
       "      <td>Police officer in Charlie Hebdo investigation ...</td>\n",
       "      <td>2008</td>\n",
       "      <td>discuss</td>\n",
       "      <td>A RESPECTED senior French police officer inves...</td>\n",
       "      <td>1</td>\n",
       "    </tr>\n",
       "    <tr>\n",
       "      <th>11</th>\n",
       "      <td>Top cop investigating Charlie Hebdo attacks ki...</td>\n",
       "      <td>2008</td>\n",
       "      <td>discuss</td>\n",
       "      <td>A RESPECTED senior French police officer inves...</td>\n",
       "      <td>1</td>\n",
       "    </tr>\n",
       "    <tr>\n",
       "      <th>13</th>\n",
       "      <td>New Twist: Charlie Hebdo Police Investigator T...</td>\n",
       "      <td>2008</td>\n",
       "      <td>discuss</td>\n",
       "      <td>A RESPECTED senior French police officer inves...</td>\n",
       "      <td>1</td>\n",
       "    </tr>\n",
       "    <tr>\n",
       "      <th>35</th>\n",
       "      <td>Report: Apple May Buy Social Network Path</td>\n",
       "      <td>1550</td>\n",
       "      <td>discuss</td>\n",
       "      <td>Dave Morin's social networking company Path is...</td>\n",
       "      <td>1</td>\n",
       "    </tr>\n",
       "    <tr>\n",
       "      <th>...</th>\n",
       "      <td>...</td>\n",
       "      <td>...</td>\n",
       "      <td>...</td>\n",
       "      <td>...</td>\n",
       "      <td>...</td>\n",
       "    </tr>\n",
       "    <tr>\n",
       "      <th>25408</th>\n",
       "      <td>A Sign That Obamacare Exchanges Are Failing</td>\n",
       "      <td>2586</td>\n",
       "      <td>disagree</td>\n",
       "      <td>Remember how much Republicans wanted to repeal...</td>\n",
       "      <td>1</td>\n",
       "    </tr>\n",
       "    <tr>\n",
       "      <th>25409</th>\n",
       "      <td>Republicans call Obamacare a 'failure.' These ...</td>\n",
       "      <td>2586</td>\n",
       "      <td>agree</td>\n",
       "      <td>Remember how much Republicans wanted to repeal...</td>\n",
       "      <td>1</td>\n",
       "    </tr>\n",
       "    <tr>\n",
       "      <th>25410</th>\n",
       "      <td>CBO’s Alternate Facts Show Obamacare is Unsust...</td>\n",
       "      <td>2586</td>\n",
       "      <td>disagree</td>\n",
       "      <td>Remember how much Republicans wanted to repeal...</td>\n",
       "      <td>1</td>\n",
       "    </tr>\n",
       "    <tr>\n",
       "      <th>25411</th>\n",
       "      <td>Why Obamacare failed</td>\n",
       "      <td>2586</td>\n",
       "      <td>disagree</td>\n",
       "      <td>Remember how much Republicans wanted to repeal...</td>\n",
       "      <td>1</td>\n",
       "    </tr>\n",
       "    <tr>\n",
       "      <th>25412</th>\n",
       "      <td>The success of the Affordable Care Act is a hu...</td>\n",
       "      <td>2586</td>\n",
       "      <td>agree</td>\n",
       "      <td>Remember how much Republicans wanted to repeal...</td>\n",
       "      <td>1</td>\n",
       "    </tr>\n",
       "  </tbody>\n",
       "</table>\n",
       "<p>7064 rows × 5 columns</p>\n",
       "</div>"
      ],
      "text/plain": [
       "                                                Headline  Body ID    Stance  \\\n",
       "4      Police Chief In Charge of Paris Attacks Commit...     2008   discuss   \n",
       "8      Police officer in Charlie Hebdo investigation ...     2008   discuss   \n",
       "11     Top cop investigating Charlie Hebdo attacks ki...     2008   discuss   \n",
       "13     New Twist: Charlie Hebdo Police Investigator T...     2008   discuss   \n",
       "35             Report: Apple May Buy Social Network Path     1550   discuss   \n",
       "...                                                  ...      ...       ...   \n",
       "25408        A Sign That Obamacare Exchanges Are Failing     2586  disagree   \n",
       "25409  Republicans call Obamacare a 'failure.' These ...     2586     agree   \n",
       "25410  CBO’s Alternate Facts Show Obamacare is Unsust...     2586  disagree   \n",
       "25411                               Why Obamacare failed     2586  disagree   \n",
       "25412  The success of the Affordable Care Act is a hu...     2586     agree   \n",
       "\n",
       "                                             articleBody  Related  \n",
       "4      A RESPECTED senior French police officer inves...        1  \n",
       "8      A RESPECTED senior French police officer inves...        1  \n",
       "11     A RESPECTED senior French police officer inves...        1  \n",
       "13     A RESPECTED senior French police officer inves...        1  \n",
       "35     Dave Morin's social networking company Path is...        1  \n",
       "...                                                  ...      ...  \n",
       "25408  Remember how much Republicans wanted to repeal...        1  \n",
       "25409  Remember how much Republicans wanted to repeal...        1  \n",
       "25410  Remember how much Republicans wanted to repeal...        1  \n",
       "25411  Remember how much Republicans wanted to repeal...        1  \n",
       "25412  Remember how much Republicans wanted to repeal...        1  \n",
       "\n",
       "[7064 rows x 5 columns]"
      ]
     },
     "execution_count": 14,
     "metadata": {},
     "output_type": "execute_result"
    }
   ],
   "source": [
    "test_df"
   ]
  },
  {
   "cell_type": "markdown",
   "id": "53f91412-16fa-44db-b746-23f6893beb05",
   "metadata": {},
   "source": [
    "# Data Splitting\n",
    "Now we need to split the training data into a training and validation set. We leave the test set untouched in this respect."
   ]
  },
  {
   "cell_type": "code",
   "execution_count": 15,
   "id": "2b47934c-1410-45d4-8fb7-2cc52a804cbb",
   "metadata": {
    "tags": []
   },
   "outputs": [],
   "source": [
    "val_split_ratio = 0.2"
   ]
  },
  {
   "cell_type": "code",
   "execution_count": 16,
   "id": "75b918ac-1bd1-43a9-8c7a-2d0b773b6379",
   "metadata": {
    "tags": []
   },
   "outputs": [],
   "source": [
    "def split_train_val(df, ratio):\n",
    "    val_count = int(ratio * df[\"Body ID\"].nunique())\n",
    "    all_ids = list(df[\"Body ID\"].unique())\n",
    "    val_body_ids = random.sample(all_ids, val_count)\n",
    "    train_body_ids = set(all_ids) - set(val_body_ids)\n",
    "    \n",
    "    assert len(set(val_body_ids) & train_body_ids) == 0\n",
    "    \n",
    "    val_df = df.loc[df[\"Body ID\"].isin(val_body_ids)]\n",
    "    train_df = df.loc[df[\"Body ID\"].isin(train_body_ids)]\n",
    "    \n",
    "    return val_df, train_df"
   ]
  },
  {
   "cell_type": "code",
   "execution_count": 17,
   "id": "86ef902a-262b-4ae5-9156-1df31b9dfed2",
   "metadata": {
    "tags": []
   },
   "outputs": [],
   "source": [
    "val_df, train_df = split_train_val(train_and_val_df, val_split_ratio)"
   ]
  },
  {
   "cell_type": "code",
   "execution_count": 18,
   "id": "0e19675d-edf6-4e71-b771-6d58825508c7",
   "metadata": {
    "tags": []
   },
   "outputs": [
    {
     "data": {
      "text/plain": [
       "336"
      ]
     },
     "execution_count": 18,
     "metadata": {},
     "output_type": "execute_result"
    }
   ],
   "source": [
    "val_df[\"Body ID\"].nunique()"
   ]
  },
  {
   "cell_type": "code",
   "execution_count": 19,
   "id": "12d1726f-bd9a-4a08-b19b-503a2a1eee80",
   "metadata": {
    "tags": []
   },
   "outputs": [
    {
     "data": {
      "text/plain": [
       "904"
      ]
     },
     "execution_count": 19,
     "metadata": {},
     "output_type": "execute_result"
    }
   ],
   "source": [
    "test_df[\"Body ID\"].nunique()"
   ]
  },
  {
   "cell_type": "code",
   "execution_count": 20,
   "id": "5205b36c-2694-4469-aab3-cfd936b60d86",
   "metadata": {
    "tags": []
   },
   "outputs": [
    {
     "data": {
      "text/plain": [
       "1347"
      ]
     },
     "execution_count": 20,
     "metadata": {},
     "output_type": "execute_result"
    }
   ],
   "source": [
    "train_df[\"Body ID\"].nunique()"
   ]
  },
  {
   "cell_type": "code",
   "execution_count": 21,
   "id": "8b48d34d-82ff-48ed-b741-6a6508f0454e",
   "metadata": {
    "tags": []
   },
   "outputs": [],
   "source": [
    "def prepare_df(df):\n",
    "    df = df.drop(\"Body ID\", axis=1)\n",
    "    df = df.reset_index()\n",
    "    df = df.drop(\"index\", axis=1)\n",
    "    df[\"Related\"] = df[\"Stance\"] != \"unrelated\"\n",
    "    return df"
   ]
  },
  {
   "cell_type": "code",
   "execution_count": 22,
   "id": "26712e05-7471-4c55-9584-13031fd3b01b",
   "metadata": {
    "tags": []
   },
   "outputs": [],
   "source": [
    "val_df = prepare_df(val_df)\n",
    "train_df = prepare_df(train_df)\n",
    "test_df = prepare_df(test_df)"
   ]
  },
  {
   "cell_type": "code",
   "execution_count": 23,
   "id": "ee1c5501-b66b-4a33-bb32-7f1a05122d35",
   "metadata": {
    "tags": []
   },
   "outputs": [
    {
     "data": {
      "text/plain": [
       "discuss     0.674624\n",
       "agree       0.270290\n",
       "disagree    0.055086\n",
       "Name: Stance, dtype: float64"
      ]
     },
     "execution_count": 23,
     "metadata": {},
     "output_type": "execute_result"
    }
   ],
   "source": [
    "val_df[\"Stance\"].value_counts(normalize=True)#.plot(kind=\"bar\")"
   ]
  },
  {
   "cell_type": "code",
   "execution_count": 24,
   "id": "39629975-8ef2-4a78-a111-8fcd0872d100",
   "metadata": {
    "tags": []
   },
   "outputs": [
    {
     "data": {
      "text/plain": [
       "discuss     0.660688\n",
       "agree       0.274851\n",
       "disagree    0.064462\n",
       "Name: Stance, dtype: float64"
      ]
     },
     "execution_count": 24,
     "metadata": {},
     "output_type": "execute_result"
    }
   ],
   "source": [
    "train_df[\"Stance\"].value_counts(normalize=True)#.plot(kind=\"bar\")"
   ]
  },
  {
   "cell_type": "code",
   "execution_count": 25,
   "id": "d465624d-0694-4783-90b7-4f19b6d21aa5",
   "metadata": {
    "tags": []
   },
   "outputs": [
    {
     "data": {
      "text/plain": [
       "discuss     0.631937\n",
       "agree       0.269394\n",
       "disagree    0.098669\n",
       "Name: Stance, dtype: float64"
      ]
     },
     "execution_count": 25,
     "metadata": {},
     "output_type": "execute_result"
    }
   ],
   "source": [
    "test_df[\"Stance\"].value_counts(normalize=True)#.plot(kind=\"bar\")"
   ]
  },
  {
   "cell_type": "markdown",
   "id": "bb0a7a9a-3345-4336-9a60-0413b595945b",
   "metadata": {},
   "source": [
    "# Clean the Data\n",
    "Now we have the data, need to clean the data and extract the TF-IDF features. Basic things to consider doing:\n",
    "* Remove punctuation\n",
    "* Remove URLs\n",
    "* Remove HTML\n",
    "* Remove numbers\n",
    "* Remove emojis\n",
    "* Convert to lowercase\n",
    "\n",
    "And we should also:\n",
    "* Tokenise\n",
    "* Remove stopwords\n",
    "* Lemmatisation or Stemming"
   ]
  },
  {
   "cell_type": "code",
   "execution_count": 26,
   "id": "40939c5f-0474-45ee-a941-a30cb46d74e8",
   "metadata": {
    "tags": []
   },
   "outputs": [],
   "source": [
    "# Most of this from the first practical\n",
    "additional_specials = [\"—\", \"”\", \"“\", \"’\", \"‘\"]\n",
    "\n",
    "def remove_excess_whitespace(text):\n",
    "    text = text.replace(\"\\n\", \" \")\n",
    "    text = text.replace(\"\\t\", \" \")\n",
    "    text = text.replace(\"\\r\", \" \")\n",
    "    text = text.strip()\n",
    "    return text\n",
    "\n",
    "def remove_punctuation(text):\n",
    "    punc = str.maketrans('', '', string.punctuation)\n",
    "    text = text.translate(punc)\n",
    "    \n",
    "    for special in additional_specials:\n",
    "        text = text.replace(special, \"\")\n",
    "    \n",
    "    return text\n",
    "\n",
    "def remove_urls(text):\n",
    "    url = re.compile(r'https?://\\S+|www\\.\\S+')\n",
    "    return url.sub('', text)\n",
    "\n",
    "def remove_html(text):\n",
    "    html = re.compile(r'<.*?>')\n",
    "    return html.sub('', text)\n",
    "\n",
    "def remove_numbers(text):\n",
    "    numbers = re.compile(r'\\d+')\n",
    "    return numbers.sub('', text)\n",
    "\n",
    "def remove_emojis(text):\n",
    "    emoji_pattern = re.compile(\"[\"\n",
    "                           u\"\\U0001F600-\\U0001F64F\"  # emoticons\n",
    "                           u\"\\U0001F300-\\U0001F5FF\"  # symbols & pictographs\n",
    "                           u\"\\U0001F680-\\U0001F6FF\"  # transport & map symbols\n",
    "                           u\"\\U0001F1E0-\\U0001F1FF\"  # flags (iOS)\n",
    "                           u\"\\U00002702-\\U000027B0\"\n",
    "                           u\"\\U000024C2-\\U0001F251\"\n",
    "                           \"]+\", flags=re.UNICODE)\n",
    "    \n",
    "    return emoji_pattern.sub(r'', text)\n",
    "\n",
    "def apply_cleaning(text, excess=True, punc=True, urls=True, html=True, numbers=True, emojis=True, lower=True):\n",
    "    if excess:\n",
    "        text = \" \".join(text.split())\n",
    "        \n",
    "    if punc:\n",
    "        text = remove_punctuation(text)\n",
    "    \n",
    "    if urls:\n",
    "        text = remove_urls(text)\n",
    "    \n",
    "    if html:\n",
    "        text = remove_html(text)\n",
    "    \n",
    "    if numbers:\n",
    "        text = remove_numbers(text)\n",
    "        \n",
    "    if emojis:\n",
    "        text = remove_emojis(text)\n",
    "        \n",
    "    if lower:\n",
    "        text = text.lower()\n",
    "    \n",
    "    return text"
   ]
  },
  {
   "cell_type": "code",
   "execution_count": 27,
   "id": "e6faa375-e271-428a-ba17-01b89b7c2120",
   "metadata": {
    "tags": []
   },
   "outputs": [],
   "source": [
    "config_remove_excess_whitespace = True\n",
    "config_remove_punctuation = False\n",
    "config_remove_urls = True\n",
    "config_remove_html = True\n",
    "config_remove_numbers = False\n",
    "config_remove_emojis = True\n",
    "config_convert_to_lowercase = False"
   ]
  },
  {
   "cell_type": "code",
   "execution_count": 28,
   "id": "0a2133b2-7cb9-4992-8553-4990c846c275",
   "metadata": {
    "tags": []
   },
   "outputs": [],
   "source": [
    "def process_text(text):\n",
    "    text = apply_cleaning(\n",
    "        text, \n",
    "        excess=config_remove_excess_whitespace, \n",
    "        punc=config_remove_punctuation, \n",
    "        urls=config_remove_urls, \n",
    "        html=config_remove_html, \n",
    "        numbers=config_remove_numbers, \n",
    "        emojis=config_remove_emojis, \n",
    "        lower=config_convert_to_lowercase\n",
    "    )\n",
    "    \n",
    "    return text"
   ]
  },
  {
   "cell_type": "code",
   "execution_count": 29,
   "id": "e5c5223f-c3bf-435d-84b9-4bf3d61691c6",
   "metadata": {
    "tags": []
   },
   "outputs": [
    {
     "name": "stdout",
     "output_type": "stream",
     "text": [
      "Unprocessed:\n",
      "It's not exactly legalization, but in New York City it could become the next best thing: tickets for marijuana possession instead of arrests.\n",
      "\n",
      "According to a report on Sunday from The New York Times, the New York Police Department (NYPD) is planning to announce new guidelines that would allow those found in possession of small amounts of marijuana to walk away with a ticket instead of spending time in handcuffs.\n",
      "\n",
      "The change in policy could have wide-ranging effects in a city known for arresting thousands citizens each year for marijuana possession.\n",
      "\n",
      "If true, the change in policy could also have a significant impact on the city's black and Hispanic community, which some studies say are disproportionately affected by the police department's current marijuana arrest policy.\n",
      "\n",
      "The upcoming shift in enforcement, which the report says is something of a throwback to the city's policy in the late '70s, comes just days after Alaska, Oregon and Washington D.C. voted to legalize cannabis, joining Colorado and Washington, events that may point toward a national trend.\n",
      "\n",
      "Have something to add to this story? Share it in the comments.\n",
      "\n",
      "Processed:\n",
      "It's not exactly legalization, but in New York City it could become the next best thing: tickets for marijuana possession instead of arrests. According to a report on Sunday from The New York Times, the New York Police Department (NYPD) is planning to announce new guidelines that would allow those found in possession of small amounts of marijuana to walk away with a ticket instead of spending time in handcuffs. The change in policy could have wide-ranging effects in a city known for arresting thousands citizens each year for marijuana possession. If true, the change in policy could also have a significant impact on the city's black and Hispanic community, which some studies say are disproportionately affected by the police department's current marijuana arrest policy. The upcoming shift in enforcement, which the report says is something of a throwback to the city's policy in the late '70s, comes just days after Alaska, Oregon and Washington D.C. voted to legalize cannabis, joining Colorado and Washington, events that may point toward a national trend. Have something to add to this story? Share it in the comments.\n"
     ]
    }
   ],
   "source": [
    "test_text = train_df.iloc[812][\"articleBody\"]\n",
    "print(\"Unprocessed:\")\n",
    "print(test_text)\n",
    "print()\n",
    "test_processed = process_text(test_text)\n",
    "print(\"Processed:\")\n",
    "print(test_processed)"
   ]
  },
  {
   "cell_type": "code",
   "execution_count": 30,
   "id": "2f9aa027-535f-49c1-b63b-195c1bec0965",
   "metadata": {
    "tags": []
   },
   "outputs": [
    {
     "data": {
      "text/html": [
       "<div>\n",
       "<style scoped>\n",
       "    .dataframe tbody tr th:only-of-type {\n",
       "        vertical-align: middle;\n",
       "    }\n",
       "\n",
       "    .dataframe tbody tr th {\n",
       "        vertical-align: top;\n",
       "    }\n",
       "\n",
       "    .dataframe thead th {\n",
       "        text-align: right;\n",
       "    }\n",
       "</style>\n",
       "<table border=\"1\" class=\"dataframe\">\n",
       "  <thead>\n",
       "    <tr style=\"text-align: right;\">\n",
       "      <th></th>\n",
       "      <th>Headline</th>\n",
       "      <th>Stance</th>\n",
       "      <th>articleBody</th>\n",
       "      <th>Related</th>\n",
       "    </tr>\n",
       "  </thead>\n",
       "  <tbody>\n",
       "    <tr>\n",
       "      <th>0</th>\n",
       "      <td>Seth Rogen to Play Apple’s Steve Wozniak</td>\n",
       "      <td>discuss</td>\n",
       "      <td>Danny Boyle is directing the untitled film\\r\\n...</td>\n",
       "      <td>True</td>\n",
       "    </tr>\n",
       "    <tr>\n",
       "      <th>1</th>\n",
       "      <td>Return of the Mac: Seth Rogen in talks to star...</td>\n",
       "      <td>discuss</td>\n",
       "      <td>Danny Boyle is directing the untitled film\\r\\n...</td>\n",
       "      <td>True</td>\n",
       "    </tr>\n",
       "    <tr>\n",
       "      <th>2</th>\n",
       "      <td>Seth Rogen Is Woz</td>\n",
       "      <td>discuss</td>\n",
       "      <td>Danny Boyle is directing the untitled film\\r\\n...</td>\n",
       "      <td>True</td>\n",
       "    </tr>\n",
       "    <tr>\n",
       "      <th>3</th>\n",
       "      <td>Steve Jobs Biopic Eyes Seth Rogen to Play Appl...</td>\n",
       "      <td>discuss</td>\n",
       "      <td>Danny Boyle is directing the untitled film\\r\\n...</td>\n",
       "      <td>True</td>\n",
       "    </tr>\n",
       "    <tr>\n",
       "      <th>4</th>\n",
       "      <td>Seth Rogen Eyed to Play Apple's Steve Wozniak ...</td>\n",
       "      <td>discuss</td>\n",
       "      <td>Danny Boyle is directing the untitled film\\r\\n...</td>\n",
       "      <td>True</td>\n",
       "    </tr>\n",
       "    <tr>\n",
       "      <th>...</th>\n",
       "      <td>...</td>\n",
       "      <td>...</td>\n",
       "      <td>...</td>\n",
       "      <td>...</td>\n",
       "    </tr>\n",
       "    <tr>\n",
       "      <th>10699</th>\n",
       "      <td>“Willie Nelson dead 2015” : Guitarist killed b...</td>\n",
       "      <td>agree</td>\n",
       "      <td>News of guitarist Willie Nelson’s death spread...</td>\n",
       "      <td>True</td>\n",
       "    </tr>\n",
       "    <tr>\n",
       "      <th>10700</th>\n",
       "      <td>Amazon Is Opening a Brick-and-Mortar Store in ...</td>\n",
       "      <td>agree</td>\n",
       "      <td>Amazon, the cyber store that sells everything,...</td>\n",
       "      <td>True</td>\n",
       "    </tr>\n",
       "    <tr>\n",
       "      <th>10701</th>\n",
       "      <td>Elon University has not banned the term ‘fresh...</td>\n",
       "      <td>agree</td>\n",
       "      <td>ELON, N.C. – A recent rumor claims that Elon U...</td>\n",
       "      <td>True</td>\n",
       "    </tr>\n",
       "    <tr>\n",
       "      <th>10702</th>\n",
       "      <td>Fake BBC News website set up to carry Charlie ...</td>\n",
       "      <td>agree</td>\n",
       "      <td>A realistic-looking fake BBC News website has ...</td>\n",
       "      <td>True</td>\n",
       "    </tr>\n",
       "    <tr>\n",
       "      <th>10703</th>\n",
       "      <td>If you want an Apple Watch, you’ll probably be...</td>\n",
       "      <td>discuss</td>\n",
       "      <td>We still don’t know the exact date the Apple W...</td>\n",
       "      <td>True</td>\n",
       "    </tr>\n",
       "  </tbody>\n",
       "</table>\n",
       "<p>10704 rows × 4 columns</p>\n",
       "</div>"
      ],
      "text/plain": [
       "                                                Headline   Stance  \\\n",
       "0               Seth Rogen to Play Apple’s Steve Wozniak  discuss   \n",
       "1      Return of the Mac: Seth Rogen in talks to star...  discuss   \n",
       "2                                      Seth Rogen Is Woz  discuss   \n",
       "3      Steve Jobs Biopic Eyes Seth Rogen to Play Appl...  discuss   \n",
       "4      Seth Rogen Eyed to Play Apple's Steve Wozniak ...  discuss   \n",
       "...                                                  ...      ...   \n",
       "10699  “Willie Nelson dead 2015” : Guitarist killed b...    agree   \n",
       "10700  Amazon Is Opening a Brick-and-Mortar Store in ...    agree   \n",
       "10701  Elon University has not banned the term ‘fresh...    agree   \n",
       "10702  Fake BBC News website set up to carry Charlie ...    agree   \n",
       "10703  If you want an Apple Watch, you’ll probably be...  discuss   \n",
       "\n",
       "                                             articleBody  Related  \n",
       "0      Danny Boyle is directing the untitled film\\r\\n...     True  \n",
       "1      Danny Boyle is directing the untitled film\\r\\n...     True  \n",
       "2      Danny Boyle is directing the untitled film\\r\\n...     True  \n",
       "3      Danny Boyle is directing the untitled film\\r\\n...     True  \n",
       "4      Danny Boyle is directing the untitled film\\r\\n...     True  \n",
       "...                                                  ...      ...  \n",
       "10699  News of guitarist Willie Nelson’s death spread...     True  \n",
       "10700  Amazon, the cyber store that sells everything,...     True  \n",
       "10701  ELON, N.C. – A recent rumor claims that Elon U...     True  \n",
       "10702  A realistic-looking fake BBC News website has ...     True  \n",
       "10703  We still don’t know the exact date the Apple W...     True  \n",
       "\n",
       "[10704 rows x 4 columns]"
      ]
     },
     "execution_count": 30,
     "metadata": {},
     "output_type": "execute_result"
    }
   ],
   "source": [
    "train_df"
   ]
  },
  {
   "cell_type": "code",
   "execution_count": 31,
   "id": "941daa6e-3d43-4b47-8d6f-612e282826cd",
   "metadata": {
    "tags": []
   },
   "outputs": [
    {
     "data": {
      "application/vnd.jupyter.widget-view+json": {
       "model_id": "b9d0efc910a74cd8ac28b9ab912a0c41",
       "version_major": 2,
       "version_minor": 0
      },
      "text/plain": [
       "  0%|          | 0/10704 [00:00<?, ?it/s]"
      ]
     },
     "metadata": {},
     "output_type": "display_data"
    },
    {
     "data": {
      "application/vnd.jupyter.widget-view+json": {
       "model_id": "12c5caf13ea5426e8e0fb92df85f3588",
       "version_major": 2,
       "version_minor": 0
      },
      "text/plain": [
       "  0%|          | 0/10704 [00:00<?, ?it/s]"
      ]
     },
     "metadata": {},
     "output_type": "display_data"
    }
   ],
   "source": [
    "train_df[\"Processed Headline\"] = train_df[\"Headline\"].progress_apply(process_text)\n",
    "train_df[\"Processed Body\"] = train_df[\"articleBody\"].progress_apply(process_text)"
   ]
  },
  {
   "cell_type": "code",
   "execution_count": 32,
   "id": "c79dabaa-044f-4761-a849-e89cce44c361",
   "metadata": {
    "tags": []
   },
   "outputs": [
    {
     "data": {
      "text/html": [
       "<div>\n",
       "<style scoped>\n",
       "    .dataframe tbody tr th:only-of-type {\n",
       "        vertical-align: middle;\n",
       "    }\n",
       "\n",
       "    .dataframe tbody tr th {\n",
       "        vertical-align: top;\n",
       "    }\n",
       "\n",
       "    .dataframe thead th {\n",
       "        text-align: right;\n",
       "    }\n",
       "</style>\n",
       "<table border=\"1\" class=\"dataframe\">\n",
       "  <thead>\n",
       "    <tr style=\"text-align: right;\">\n",
       "      <th></th>\n",
       "      <th>Headline</th>\n",
       "      <th>Stance</th>\n",
       "      <th>articleBody</th>\n",
       "      <th>Related</th>\n",
       "      <th>Processed Headline</th>\n",
       "      <th>Processed Body</th>\n",
       "    </tr>\n",
       "  </thead>\n",
       "  <tbody>\n",
       "    <tr>\n",
       "      <th>0</th>\n",
       "      <td>Seth Rogen to Play Apple’s Steve Wozniak</td>\n",
       "      <td>discuss</td>\n",
       "      <td>Danny Boyle is directing the untitled film\\r\\n...</td>\n",
       "      <td>True</td>\n",
       "      <td>Seth Rogen to Play Apple’s Steve Wozniak</td>\n",
       "      <td>Danny Boyle is directing the untitled film Set...</td>\n",
       "    </tr>\n",
       "    <tr>\n",
       "      <th>1</th>\n",
       "      <td>Return of the Mac: Seth Rogen in talks to star...</td>\n",
       "      <td>discuss</td>\n",
       "      <td>Danny Boyle is directing the untitled film\\r\\n...</td>\n",
       "      <td>True</td>\n",
       "      <td>Return of the Mac: Seth Rogen in talks to star...</td>\n",
       "      <td>Danny Boyle is directing the untitled film Set...</td>\n",
       "    </tr>\n",
       "    <tr>\n",
       "      <th>2</th>\n",
       "      <td>Seth Rogen Is Woz</td>\n",
       "      <td>discuss</td>\n",
       "      <td>Danny Boyle is directing the untitled film\\r\\n...</td>\n",
       "      <td>True</td>\n",
       "      <td>Seth Rogen Is Woz</td>\n",
       "      <td>Danny Boyle is directing the untitled film Set...</td>\n",
       "    </tr>\n",
       "    <tr>\n",
       "      <th>3</th>\n",
       "      <td>Steve Jobs Biopic Eyes Seth Rogen to Play Appl...</td>\n",
       "      <td>discuss</td>\n",
       "      <td>Danny Boyle is directing the untitled film\\r\\n...</td>\n",
       "      <td>True</td>\n",
       "      <td>Steve Jobs Biopic Eyes Seth Rogen to Play Appl...</td>\n",
       "      <td>Danny Boyle is directing the untitled film Set...</td>\n",
       "    </tr>\n",
       "    <tr>\n",
       "      <th>4</th>\n",
       "      <td>Seth Rogen Eyed to Play Apple's Steve Wozniak ...</td>\n",
       "      <td>discuss</td>\n",
       "      <td>Danny Boyle is directing the untitled film\\r\\n...</td>\n",
       "      <td>True</td>\n",
       "      <td>Seth Rogen Eyed to Play Apple's Steve Wozniak ...</td>\n",
       "      <td>Danny Boyle is directing the untitled film Set...</td>\n",
       "    </tr>\n",
       "    <tr>\n",
       "      <th>...</th>\n",
       "      <td>...</td>\n",
       "      <td>...</td>\n",
       "      <td>...</td>\n",
       "      <td>...</td>\n",
       "      <td>...</td>\n",
       "      <td>...</td>\n",
       "    </tr>\n",
       "    <tr>\n",
       "      <th>10699</th>\n",
       "      <td>“Willie Nelson dead 2015” : Guitarist killed b...</td>\n",
       "      <td>agree</td>\n",
       "      <td>News of guitarist Willie Nelson’s death spread...</td>\n",
       "      <td>True</td>\n",
       "      <td>“Willie Nelson dead 2015” : Guitarist killed b...</td>\n",
       "      <td>News of guitarist Willie Nelson’s death spread...</td>\n",
       "    </tr>\n",
       "    <tr>\n",
       "      <th>10700</th>\n",
       "      <td>Amazon Is Opening a Brick-and-Mortar Store in ...</td>\n",
       "      <td>agree</td>\n",
       "      <td>Amazon, the cyber store that sells everything,...</td>\n",
       "      <td>True</td>\n",
       "      <td>Amazon Is Opening a Brick-and-Mortar Store in ...</td>\n",
       "      <td>Amazon, the cyber store that sells everything,...</td>\n",
       "    </tr>\n",
       "    <tr>\n",
       "      <th>10701</th>\n",
       "      <td>Elon University has not banned the term ‘fresh...</td>\n",
       "      <td>agree</td>\n",
       "      <td>ELON, N.C. – A recent rumor claims that Elon U...</td>\n",
       "      <td>True</td>\n",
       "      <td>Elon University has not banned the term ‘fresh...</td>\n",
       "      <td>ELON, N.C. – A recent rumor claims that Elon U...</td>\n",
       "    </tr>\n",
       "    <tr>\n",
       "      <th>10702</th>\n",
       "      <td>Fake BBC News website set up to carry Charlie ...</td>\n",
       "      <td>agree</td>\n",
       "      <td>A realistic-looking fake BBC News website has ...</td>\n",
       "      <td>True</td>\n",
       "      <td>Fake BBC News website set up to carry Charlie ...</td>\n",
       "      <td>A realistic-looking fake BBC News website has ...</td>\n",
       "    </tr>\n",
       "    <tr>\n",
       "      <th>10703</th>\n",
       "      <td>If you want an Apple Watch, you’ll probably be...</td>\n",
       "      <td>discuss</td>\n",
       "      <td>We still don’t know the exact date the Apple W...</td>\n",
       "      <td>True</td>\n",
       "      <td>If you want an Apple Watch, you’ll probably be...</td>\n",
       "      <td>We still don’t know the exact date the Apple W...</td>\n",
       "    </tr>\n",
       "  </tbody>\n",
       "</table>\n",
       "<p>10704 rows × 6 columns</p>\n",
       "</div>"
      ],
      "text/plain": [
       "                                                Headline   Stance  \\\n",
       "0               Seth Rogen to Play Apple’s Steve Wozniak  discuss   \n",
       "1      Return of the Mac: Seth Rogen in talks to star...  discuss   \n",
       "2                                      Seth Rogen Is Woz  discuss   \n",
       "3      Steve Jobs Biopic Eyes Seth Rogen to Play Appl...  discuss   \n",
       "4      Seth Rogen Eyed to Play Apple's Steve Wozniak ...  discuss   \n",
       "...                                                  ...      ...   \n",
       "10699  “Willie Nelson dead 2015” : Guitarist killed b...    agree   \n",
       "10700  Amazon Is Opening a Brick-and-Mortar Store in ...    agree   \n",
       "10701  Elon University has not banned the term ‘fresh...    agree   \n",
       "10702  Fake BBC News website set up to carry Charlie ...    agree   \n",
       "10703  If you want an Apple Watch, you’ll probably be...  discuss   \n",
       "\n",
       "                                             articleBody  Related  \\\n",
       "0      Danny Boyle is directing the untitled film\\r\\n...     True   \n",
       "1      Danny Boyle is directing the untitled film\\r\\n...     True   \n",
       "2      Danny Boyle is directing the untitled film\\r\\n...     True   \n",
       "3      Danny Boyle is directing the untitled film\\r\\n...     True   \n",
       "4      Danny Boyle is directing the untitled film\\r\\n...     True   \n",
       "...                                                  ...      ...   \n",
       "10699  News of guitarist Willie Nelson’s death spread...     True   \n",
       "10700  Amazon, the cyber store that sells everything,...     True   \n",
       "10701  ELON, N.C. – A recent rumor claims that Elon U...     True   \n",
       "10702  A realistic-looking fake BBC News website has ...     True   \n",
       "10703  We still don’t know the exact date the Apple W...     True   \n",
       "\n",
       "                                      Processed Headline  \\\n",
       "0               Seth Rogen to Play Apple’s Steve Wozniak   \n",
       "1      Return of the Mac: Seth Rogen in talks to star...   \n",
       "2                                      Seth Rogen Is Woz   \n",
       "3      Steve Jobs Biopic Eyes Seth Rogen to Play Appl...   \n",
       "4      Seth Rogen Eyed to Play Apple's Steve Wozniak ...   \n",
       "...                                                  ...   \n",
       "10699  “Willie Nelson dead 2015” : Guitarist killed b...   \n",
       "10700  Amazon Is Opening a Brick-and-Mortar Store in ...   \n",
       "10701  Elon University has not banned the term ‘fresh...   \n",
       "10702  Fake BBC News website set up to carry Charlie ...   \n",
       "10703  If you want an Apple Watch, you’ll probably be...   \n",
       "\n",
       "                                          Processed Body  \n",
       "0      Danny Boyle is directing the untitled film Set...  \n",
       "1      Danny Boyle is directing the untitled film Set...  \n",
       "2      Danny Boyle is directing the untitled film Set...  \n",
       "3      Danny Boyle is directing the untitled film Set...  \n",
       "4      Danny Boyle is directing the untitled film Set...  \n",
       "...                                                  ...  \n",
       "10699  News of guitarist Willie Nelson’s death spread...  \n",
       "10700  Amazon, the cyber store that sells everything,...  \n",
       "10701  ELON, N.C. – A recent rumor claims that Elon U...  \n",
       "10702  A realistic-looking fake BBC News website has ...  \n",
       "10703  We still don’t know the exact date the Apple W...  \n",
       "\n",
       "[10704 rows x 6 columns]"
      ]
     },
     "execution_count": 32,
     "metadata": {},
     "output_type": "execute_result"
    }
   ],
   "source": [
    "train_df"
   ]
  },
  {
   "cell_type": "code",
   "execution_count": 33,
   "id": "04593f97-ae55-4b51-9418-577362fa703c",
   "metadata": {
    "tags": []
   },
   "outputs": [
    {
     "data": {
      "application/vnd.jupyter.widget-view+json": {
       "model_id": "11e7fdd7e7674da7886b835f662da56b",
       "version_major": 2,
       "version_minor": 0
      },
      "text/plain": [
       "  0%|          | 0/2723 [00:00<?, ?it/s]"
      ]
     },
     "metadata": {},
     "output_type": "display_data"
    },
    {
     "data": {
      "application/vnd.jupyter.widget-view+json": {
       "model_id": "0fffbb15a40c4649aeb3a041944aa265",
       "version_major": 2,
       "version_minor": 0
      },
      "text/plain": [
       "  0%|          | 0/2723 [00:00<?, ?it/s]"
      ]
     },
     "metadata": {},
     "output_type": "display_data"
    }
   ],
   "source": [
    "val_df[\"Processed Headline\"] = val_df[\"Headline\"].progress_apply(process_text)\n",
    "val_df[\"Processed Body\"] = val_df[\"articleBody\"].progress_apply(process_text)"
   ]
  },
  {
   "cell_type": "code",
   "execution_count": 34,
   "id": "e97b5950-887d-481e-babb-047aee6caf17",
   "metadata": {
    "tags": []
   },
   "outputs": [
    {
     "data": {
      "text/html": [
       "<div>\n",
       "<style scoped>\n",
       "    .dataframe tbody tr th:only-of-type {\n",
       "        vertical-align: middle;\n",
       "    }\n",
       "\n",
       "    .dataframe tbody tr th {\n",
       "        vertical-align: top;\n",
       "    }\n",
       "\n",
       "    .dataframe thead th {\n",
       "        text-align: right;\n",
       "    }\n",
       "</style>\n",
       "<table border=\"1\" class=\"dataframe\">\n",
       "  <thead>\n",
       "    <tr style=\"text-align: right;\">\n",
       "      <th></th>\n",
       "      <th>Headline</th>\n",
       "      <th>Stance</th>\n",
       "      <th>articleBody</th>\n",
       "      <th>Related</th>\n",
       "      <th>Processed Headline</th>\n",
       "      <th>Processed Body</th>\n",
       "    </tr>\n",
       "  </thead>\n",
       "  <tbody>\n",
       "    <tr>\n",
       "      <th>0</th>\n",
       "      <td>Breaking: Soldier shot at National War Memoria...</td>\n",
       "      <td>discuss</td>\n",
       "      <td>(Reuters) - A Canadian soldier was shot at the...</td>\n",
       "      <td>True</td>\n",
       "      <td>Breaking: Soldier shot at National War Memoria...</td>\n",
       "      <td>(Reuters) - A Canadian soldier was shot at the...</td>\n",
       "    </tr>\n",
       "    <tr>\n",
       "      <th>1</th>\n",
       "      <td>A soldier has been shot at Canada’s war memori...</td>\n",
       "      <td>discuss</td>\n",
       "      <td>(Reuters) - A Canadian soldier was shot at the...</td>\n",
       "      <td>True</td>\n",
       "      <td>A soldier has been shot at Canada’s war memori...</td>\n",
       "      <td>(Reuters) - A Canadian soldier was shot at the...</td>\n",
       "    </tr>\n",
       "    <tr>\n",
       "      <th>2</th>\n",
       "      <td>There has been a shooting at the War Memorial ...</td>\n",
       "      <td>discuss</td>\n",
       "      <td>(Reuters) - A Canadian soldier was shot at the...</td>\n",
       "      <td>True</td>\n",
       "      <td>There has been a shooting at the War Memorial ...</td>\n",
       "      <td>(Reuters) - A Canadian soldier was shot at the...</td>\n",
       "    </tr>\n",
       "    <tr>\n",
       "      <th>3</th>\n",
       "      <td>Soldier shot near Canadian parliament building</td>\n",
       "      <td>discuss</td>\n",
       "      <td>(Reuters) - A Canadian soldier was shot at the...</td>\n",
       "      <td>True</td>\n",
       "      <td>Soldier shot near Canadian parliament building</td>\n",
       "      <td>(Reuters) - A Canadian soldier was shot at the...</td>\n",
       "    </tr>\n",
       "    <tr>\n",
       "      <th>4</th>\n",
       "      <td>Banksy 'Arrested &amp; Real Identity Revealed' Is ...</td>\n",
       "      <td>agree</td>\n",
       "      <td>If you’ve seen a story floating around on your...</td>\n",
       "      <td>True</td>\n",
       "      <td>Banksy 'Arrested &amp; Real Identity Revealed' Is ...</td>\n",
       "      <td>If you’ve seen a story floating around on your...</td>\n",
       "    </tr>\n",
       "    <tr>\n",
       "      <th>...</th>\n",
       "      <td>...</td>\n",
       "      <td>...</td>\n",
       "      <td>...</td>\n",
       "      <td>...</td>\n",
       "      <td>...</td>\n",
       "      <td>...</td>\n",
       "    </tr>\n",
       "    <tr>\n",
       "      <th>2718</th>\n",
       "      <td>Is Apple about to launch a totally redesigned,...</td>\n",
       "      <td>discuss</td>\n",
       "      <td>Every year, Apple does some counterprogramming...</td>\n",
       "      <td>True</td>\n",
       "      <td>Is Apple about to launch a totally redesigned,...</td>\n",
       "      <td>Every year, Apple does some counterprogramming...</td>\n",
       "    </tr>\n",
       "    <tr>\n",
       "      <th>2719</th>\n",
       "      <td>Chinese 'mistress' is stripped naked and beate...</td>\n",
       "      <td>agree</td>\n",
       "      <td>She was violently stripped naked and beaten se...</td>\n",
       "      <td>True</td>\n",
       "      <td>Chinese 'mistress' is stripped naked and beate...</td>\n",
       "      <td>She was violently stripped naked and beaten se...</td>\n",
       "    </tr>\n",
       "    <tr>\n",
       "      <th>2720</th>\n",
       "      <td>Predator drones being flown over Isil's Syrian...</td>\n",
       "      <td>agree</td>\n",
       "      <td>US drones are being flown over Isil's Syrian \"...</td>\n",
       "      <td>True</td>\n",
       "      <td>Predator drones being flown over Isil's Syrian...</td>\n",
       "      <td>US drones are being flown over Isil's Syrian \"...</td>\n",
       "    </tr>\n",
       "    <tr>\n",
       "      <th>2721</th>\n",
       "      <td>NASA: Planetary Alignment On Jan 4, 2015 Will ...</td>\n",
       "      <td>discuss</td>\n",
       "      <td>via Daily Buzz Live\\r\\n\\r\\nStrange natural occ...</td>\n",
       "      <td>True</td>\n",
       "      <td>NASA: Planetary Alignment On Jan 4, 2015 Will ...</td>\n",
       "      <td>via Daily Buzz Live Strange natural occurrence...</td>\n",
       "    </tr>\n",
       "    <tr>\n",
       "      <th>2722</th>\n",
       "      <td>Apple was forced to nix key health features fr...</td>\n",
       "      <td>discuss</td>\n",
       "      <td>The health-focused smartwatch that Apple initi...</td>\n",
       "      <td>True</td>\n",
       "      <td>Apple was forced to nix key health features fr...</td>\n",
       "      <td>The health-focused smartwatch that Apple initi...</td>\n",
       "    </tr>\n",
       "  </tbody>\n",
       "</table>\n",
       "<p>2723 rows × 6 columns</p>\n",
       "</div>"
      ],
      "text/plain": [
       "                                               Headline   Stance  \\\n",
       "0     Breaking: Soldier shot at National War Memoria...  discuss   \n",
       "1     A soldier has been shot at Canada’s war memori...  discuss   \n",
       "2     There has been a shooting at the War Memorial ...  discuss   \n",
       "3        Soldier shot near Canadian parliament building  discuss   \n",
       "4     Banksy 'Arrested & Real Identity Revealed' Is ...    agree   \n",
       "...                                                 ...      ...   \n",
       "2718  Is Apple about to launch a totally redesigned,...  discuss   \n",
       "2719  Chinese 'mistress' is stripped naked and beate...    agree   \n",
       "2720  Predator drones being flown over Isil's Syrian...    agree   \n",
       "2721  NASA: Planetary Alignment On Jan 4, 2015 Will ...  discuss   \n",
       "2722  Apple was forced to nix key health features fr...  discuss   \n",
       "\n",
       "                                            articleBody  Related  \\\n",
       "0     (Reuters) - A Canadian soldier was shot at the...     True   \n",
       "1     (Reuters) - A Canadian soldier was shot at the...     True   \n",
       "2     (Reuters) - A Canadian soldier was shot at the...     True   \n",
       "3     (Reuters) - A Canadian soldier was shot at the...     True   \n",
       "4     If you’ve seen a story floating around on your...     True   \n",
       "...                                                 ...      ...   \n",
       "2718  Every year, Apple does some counterprogramming...     True   \n",
       "2719  She was violently stripped naked and beaten se...     True   \n",
       "2720  US drones are being flown over Isil's Syrian \"...     True   \n",
       "2721  via Daily Buzz Live\\r\\n\\r\\nStrange natural occ...     True   \n",
       "2722  The health-focused smartwatch that Apple initi...     True   \n",
       "\n",
       "                                     Processed Headline  \\\n",
       "0     Breaking: Soldier shot at National War Memoria...   \n",
       "1     A soldier has been shot at Canada’s war memori...   \n",
       "2     There has been a shooting at the War Memorial ...   \n",
       "3        Soldier shot near Canadian parliament building   \n",
       "4     Banksy 'Arrested & Real Identity Revealed' Is ...   \n",
       "...                                                 ...   \n",
       "2718  Is Apple about to launch a totally redesigned,...   \n",
       "2719  Chinese 'mistress' is stripped naked and beate...   \n",
       "2720  Predator drones being flown over Isil's Syrian...   \n",
       "2721  NASA: Planetary Alignment On Jan 4, 2015 Will ...   \n",
       "2722  Apple was forced to nix key health features fr...   \n",
       "\n",
       "                                         Processed Body  \n",
       "0     (Reuters) - A Canadian soldier was shot at the...  \n",
       "1     (Reuters) - A Canadian soldier was shot at the...  \n",
       "2     (Reuters) - A Canadian soldier was shot at the...  \n",
       "3     (Reuters) - A Canadian soldier was shot at the...  \n",
       "4     If you’ve seen a story floating around on your...  \n",
       "...                                                 ...  \n",
       "2718  Every year, Apple does some counterprogramming...  \n",
       "2719  She was violently stripped naked and beaten se...  \n",
       "2720  US drones are being flown over Isil's Syrian \"...  \n",
       "2721  via Daily Buzz Live Strange natural occurrence...  \n",
       "2722  The health-focused smartwatch that Apple initi...  \n",
       "\n",
       "[2723 rows x 6 columns]"
      ]
     },
     "execution_count": 34,
     "metadata": {},
     "output_type": "execute_result"
    }
   ],
   "source": [
    "val_df"
   ]
  },
  {
   "cell_type": "code",
   "execution_count": 35,
   "id": "c2b6749e-e865-46e9-98c4-217da58949e7",
   "metadata": {
    "tags": []
   },
   "outputs": [
    {
     "data": {
      "application/vnd.jupyter.widget-view+json": {
       "model_id": "82016457d56748d7a93fac3aebb76435",
       "version_major": 2,
       "version_minor": 0
      },
      "text/plain": [
       "  0%|          | 0/7064 [00:00<?, ?it/s]"
      ]
     },
     "metadata": {},
     "output_type": "display_data"
    },
    {
     "data": {
      "application/vnd.jupyter.widget-view+json": {
       "model_id": "0711a40cefc9404795d65b99a71c43b1",
       "version_major": 2,
       "version_minor": 0
      },
      "text/plain": [
       "  0%|          | 0/7064 [00:00<?, ?it/s]"
      ]
     },
     "metadata": {},
     "output_type": "display_data"
    }
   ],
   "source": [
    "test_df[\"Processed Headline\"] = test_df[\"Headline\"].progress_apply(process_text)\n",
    "test_df[\"Processed Body\"] = test_df[\"articleBody\"].progress_apply(process_text)"
   ]
  },
  {
   "cell_type": "code",
   "execution_count": 36,
   "id": "476a0d90-0785-4e5d-817c-3e740d5792f3",
   "metadata": {
    "tags": []
   },
   "outputs": [
    {
     "data": {
      "text/html": [
       "<div>\n",
       "<style scoped>\n",
       "    .dataframe tbody tr th:only-of-type {\n",
       "        vertical-align: middle;\n",
       "    }\n",
       "\n",
       "    .dataframe tbody tr th {\n",
       "        vertical-align: top;\n",
       "    }\n",
       "\n",
       "    .dataframe thead th {\n",
       "        text-align: right;\n",
       "    }\n",
       "</style>\n",
       "<table border=\"1\" class=\"dataframe\">\n",
       "  <thead>\n",
       "    <tr style=\"text-align: right;\">\n",
       "      <th></th>\n",
       "      <th>Headline</th>\n",
       "      <th>Stance</th>\n",
       "      <th>articleBody</th>\n",
       "      <th>Related</th>\n",
       "      <th>Processed Headline</th>\n",
       "      <th>Processed Body</th>\n",
       "    </tr>\n",
       "  </thead>\n",
       "  <tbody>\n",
       "    <tr>\n",
       "      <th>0</th>\n",
       "      <td>Police Chief In Charge of Paris Attacks Commit...</td>\n",
       "      <td>discuss</td>\n",
       "      <td>A RESPECTED senior French police officer inves...</td>\n",
       "      <td>True</td>\n",
       "      <td>Police Chief In Charge of Paris Attacks Commit...</td>\n",
       "      <td>A RESPECTED senior French police officer inves...</td>\n",
       "    </tr>\n",
       "    <tr>\n",
       "      <th>1</th>\n",
       "      <td>Police officer in Charlie Hebdo investigation ...</td>\n",
       "      <td>discuss</td>\n",
       "      <td>A RESPECTED senior French police officer inves...</td>\n",
       "      <td>True</td>\n",
       "      <td>Police officer in Charlie Hebdo investigation ...</td>\n",
       "      <td>A RESPECTED senior French police officer inves...</td>\n",
       "    </tr>\n",
       "    <tr>\n",
       "      <th>2</th>\n",
       "      <td>Top cop investigating Charlie Hebdo attacks ki...</td>\n",
       "      <td>discuss</td>\n",
       "      <td>A RESPECTED senior French police officer inves...</td>\n",
       "      <td>True</td>\n",
       "      <td>Top cop investigating Charlie Hebdo attacks ki...</td>\n",
       "      <td>A RESPECTED senior French police officer inves...</td>\n",
       "    </tr>\n",
       "    <tr>\n",
       "      <th>3</th>\n",
       "      <td>New Twist: Charlie Hebdo Police Investigator T...</td>\n",
       "      <td>discuss</td>\n",
       "      <td>A RESPECTED senior French police officer inves...</td>\n",
       "      <td>True</td>\n",
       "      <td>New Twist: Charlie Hebdo Police Investigator T...</td>\n",
       "      <td>A RESPECTED senior French police officer inves...</td>\n",
       "    </tr>\n",
       "    <tr>\n",
       "      <th>4</th>\n",
       "      <td>Report: Apple May Buy Social Network Path</td>\n",
       "      <td>discuss</td>\n",
       "      <td>Dave Morin's social networking company Path is...</td>\n",
       "      <td>True</td>\n",
       "      <td>Report: Apple May Buy Social Network Path</td>\n",
       "      <td>Dave Morin's social networking company Path is...</td>\n",
       "    </tr>\n",
       "    <tr>\n",
       "      <th>...</th>\n",
       "      <td>...</td>\n",
       "      <td>...</td>\n",
       "      <td>...</td>\n",
       "      <td>...</td>\n",
       "      <td>...</td>\n",
       "      <td>...</td>\n",
       "    </tr>\n",
       "    <tr>\n",
       "      <th>7059</th>\n",
       "      <td>A Sign That Obamacare Exchanges Are Failing</td>\n",
       "      <td>disagree</td>\n",
       "      <td>Remember how much Republicans wanted to repeal...</td>\n",
       "      <td>True</td>\n",
       "      <td>A Sign That Obamacare Exchanges Are Failing</td>\n",
       "      <td>Remember how much Republicans wanted to repeal...</td>\n",
       "    </tr>\n",
       "    <tr>\n",
       "      <th>7060</th>\n",
       "      <td>Republicans call Obamacare a 'failure.' These ...</td>\n",
       "      <td>agree</td>\n",
       "      <td>Remember how much Republicans wanted to repeal...</td>\n",
       "      <td>True</td>\n",
       "      <td>Republicans call Obamacare a 'failure.' These ...</td>\n",
       "      <td>Remember how much Republicans wanted to repeal...</td>\n",
       "    </tr>\n",
       "    <tr>\n",
       "      <th>7061</th>\n",
       "      <td>CBO’s Alternate Facts Show Obamacare is Unsust...</td>\n",
       "      <td>disagree</td>\n",
       "      <td>Remember how much Republicans wanted to repeal...</td>\n",
       "      <td>True</td>\n",
       "      <td>CBO’s Alternate Facts Show Obamacare is Unsust...</td>\n",
       "      <td>Remember how much Republicans wanted to repeal...</td>\n",
       "    </tr>\n",
       "    <tr>\n",
       "      <th>7062</th>\n",
       "      <td>Why Obamacare failed</td>\n",
       "      <td>disagree</td>\n",
       "      <td>Remember how much Republicans wanted to repeal...</td>\n",
       "      <td>True</td>\n",
       "      <td>Why Obamacare failed</td>\n",
       "      <td>Remember how much Republicans wanted to repeal...</td>\n",
       "    </tr>\n",
       "    <tr>\n",
       "      <th>7063</th>\n",
       "      <td>The success of the Affordable Care Act is a hu...</td>\n",
       "      <td>agree</td>\n",
       "      <td>Remember how much Republicans wanted to repeal...</td>\n",
       "      <td>True</td>\n",
       "      <td>The success of the Affordable Care Act is a hu...</td>\n",
       "      <td>Remember how much Republicans wanted to repeal...</td>\n",
       "    </tr>\n",
       "  </tbody>\n",
       "</table>\n",
       "<p>7064 rows × 6 columns</p>\n",
       "</div>"
      ],
      "text/plain": [
       "                                               Headline    Stance  \\\n",
       "0     Police Chief In Charge of Paris Attacks Commit...   discuss   \n",
       "1     Police officer in Charlie Hebdo investigation ...   discuss   \n",
       "2     Top cop investigating Charlie Hebdo attacks ki...   discuss   \n",
       "3     New Twist: Charlie Hebdo Police Investigator T...   discuss   \n",
       "4             Report: Apple May Buy Social Network Path   discuss   \n",
       "...                                                 ...       ...   \n",
       "7059        A Sign That Obamacare Exchanges Are Failing  disagree   \n",
       "7060  Republicans call Obamacare a 'failure.' These ...     agree   \n",
       "7061  CBO’s Alternate Facts Show Obamacare is Unsust...  disagree   \n",
       "7062                               Why Obamacare failed  disagree   \n",
       "7063  The success of the Affordable Care Act is a hu...     agree   \n",
       "\n",
       "                                            articleBody  Related  \\\n",
       "0     A RESPECTED senior French police officer inves...     True   \n",
       "1     A RESPECTED senior French police officer inves...     True   \n",
       "2     A RESPECTED senior French police officer inves...     True   \n",
       "3     A RESPECTED senior French police officer inves...     True   \n",
       "4     Dave Morin's social networking company Path is...     True   \n",
       "...                                                 ...      ...   \n",
       "7059  Remember how much Republicans wanted to repeal...     True   \n",
       "7060  Remember how much Republicans wanted to repeal...     True   \n",
       "7061  Remember how much Republicans wanted to repeal...     True   \n",
       "7062  Remember how much Republicans wanted to repeal...     True   \n",
       "7063  Remember how much Republicans wanted to repeal...     True   \n",
       "\n",
       "                                     Processed Headline  \\\n",
       "0     Police Chief In Charge of Paris Attacks Commit...   \n",
       "1     Police officer in Charlie Hebdo investigation ...   \n",
       "2     Top cop investigating Charlie Hebdo attacks ki...   \n",
       "3     New Twist: Charlie Hebdo Police Investigator T...   \n",
       "4             Report: Apple May Buy Social Network Path   \n",
       "...                                                 ...   \n",
       "7059        A Sign That Obamacare Exchanges Are Failing   \n",
       "7060  Republicans call Obamacare a 'failure.' These ...   \n",
       "7061  CBO’s Alternate Facts Show Obamacare is Unsust...   \n",
       "7062                               Why Obamacare failed   \n",
       "7063  The success of the Affordable Care Act is a hu...   \n",
       "\n",
       "                                         Processed Body  \n",
       "0     A RESPECTED senior French police officer inves...  \n",
       "1     A RESPECTED senior French police officer inves...  \n",
       "2     A RESPECTED senior French police officer inves...  \n",
       "3     A RESPECTED senior French police officer inves...  \n",
       "4     Dave Morin's social networking company Path is...  \n",
       "...                                                 ...  \n",
       "7059  Remember how much Republicans wanted to repeal...  \n",
       "7060  Remember how much Republicans wanted to repeal...  \n",
       "7061  Remember how much Republicans wanted to repeal...  \n",
       "7062  Remember how much Republicans wanted to repeal...  \n",
       "7063  Remember how much Republicans wanted to repeal...  \n",
       "\n",
       "[7064 rows x 6 columns]"
      ]
     },
     "execution_count": 36,
     "metadata": {},
     "output_type": "execute_result"
    }
   ],
   "source": [
    "test_df"
   ]
  },
  {
   "cell_type": "markdown",
   "id": "fafbc18e-9f85-4204-9b29-4ad4524eb86c",
   "metadata": {},
   "source": [
    "# BERT Tokeniser"
   ]
  },
  {
   "cell_type": "code",
   "execution_count": 37,
   "id": "0f84d9d0-49ab-4ac5-aa49-b49599ccfb9f",
   "metadata": {
    "tags": []
   },
   "outputs": [],
   "source": [
    "selected_model = \"bert-base-uncased\""
   ]
  },
  {
   "cell_type": "code",
   "execution_count": 38,
   "id": "bf786855-a55c-44b3-bba8-54e5669ecd7e",
   "metadata": {
    "tags": []
   },
   "outputs": [],
   "source": [
    "tokeniser = BertTokenizer.from_pretrained(selected_model)"
   ]
  },
  {
   "cell_type": "code",
   "execution_count": 39,
   "id": "664a69c2-d428-4b74-8c5b-ebfe7618376e",
   "metadata": {
    "tags": []
   },
   "outputs": [
    {
     "data": {
      "text/plain": [
       "\"It's not exactly legalization, but in New York City it could become the next best thing: tickets for marijuana possession instead of arrests. According to a report on Sunday from The New York Times, the New York Police Department (NYPD) is planning to announce new guidelines that would allow those found in possession of small amounts of marijuana to walk away with a ticket instead of spending time in handcuffs. The change in policy could have wide-ranging effects in a city known for arresting thousands citizens each year for marijuana possession. If true, the change in policy could also have a significant impact on the city's black and Hispanic community, which some studies say are disproportionately affected by the police department's current marijuana arrest policy. The upcoming shift in enforcement, which the report says is something of a throwback to the city's policy in the late '70s, comes just days after Alaska, Oregon and Washington D.C. voted to legalize cannabis, joining Colorado and Washington, events that may point toward a national trend. Have something to add to this story? Share it in the comments.\""
      ]
     },
     "execution_count": 39,
     "metadata": {},
     "output_type": "execute_result"
    }
   ],
   "source": [
    "test_processed"
   ]
  },
  {
   "cell_type": "code",
   "execution_count": 40,
   "id": "935dfdcf-cea0-48ad-88fd-bac86586a810",
   "metadata": {
    "tags": []
   },
   "outputs": [
    {
     "name": "stdout",
     "output_type": "stream",
     "text": [
      "['it', \"'\", 's', 'not', 'exactly', 'legal', '##ization', ',', 'but', 'in', 'new', 'york', 'city', 'it', 'could', 'become', 'the', 'next', 'best', 'thing', ':', 'tickets', 'for', 'marijuana', 'possession', 'instead', 'of', 'arrests', '.', 'according', 'to', 'a', 'report', 'on', 'sunday', 'from', 'the', 'new', 'york', 'times', ',', 'the', 'new', 'york', 'police', 'department', '(', 'ny', '##pd', ')', 'is', 'planning', 'to', 'announce', 'new', 'guidelines', 'that', 'would', 'allow', 'those', 'found', 'in', 'possession', 'of', 'small', 'amounts', 'of', 'marijuana', 'to', 'walk', 'away', 'with', 'a', 'ticket', 'instead', 'of', 'spending', 'time', 'in', 'handcuffs', '.', 'the', 'change', 'in', 'policy', 'could', 'have', 'wide', '-', 'ranging', 'effects', 'in', 'a', 'city', 'known', 'for', 'arresting', 'thousands', 'citizens', 'each', 'year', 'for', 'marijuana', 'possession', '.', 'if', 'true', ',', 'the', 'change', 'in', 'policy', 'could', 'also', 'have', 'a', 'significant', 'impact', 'on', 'the', 'city', \"'\", 's', 'black', 'and', 'hispanic', 'community', ',', 'which', 'some', 'studies', 'say', 'are', 'di', '##sp', '##rop', '##ort', '##ion', '##ately', 'affected', 'by', 'the', 'police', 'department', \"'\", 's', 'current', 'marijuana', 'arrest', 'policy', '.', 'the', 'upcoming', 'shift', 'in', 'enforcement', ',', 'which', 'the', 'report', 'says', 'is', 'something', 'of', 'a', 'throw', '##back', 'to', 'the', 'city', \"'\", 's', 'policy', 'in', 'the', 'late', \"'\", '70s', ',', 'comes', 'just', 'days', 'after', 'alaska', ',', 'oregon', 'and', 'washington', 'd', '.', 'c', '.', 'voted', 'to', 'legal', '##ize', 'cannabis', ',', 'joining', 'colorado', 'and', 'washington', ',', 'events', 'that', 'may', 'point', 'toward', 'a', 'national', 'trend', '.', 'have', 'something', 'to', 'add', 'to', 'this', 'story', '?', 'share', 'it', 'in', 'the', 'comments', '.']\n"
     ]
    }
   ],
   "source": [
    "test_processed_tokens = tokeniser.tokenize(test_processed)\n",
    "print(test_processed_tokens)"
   ]
  },
  {
   "cell_type": "code",
   "execution_count": 41,
   "id": "908ba31f-8e9b-4321-a9cb-a923100754fb",
   "metadata": {
    "tags": []
   },
   "outputs": [
    {
     "name": "stdout",
     "output_type": "stream",
     "text": [
      "[2009, 1005, 1055, 2025, 3599, 3423, 3989, 1010, 2021, 1999, 2047, 2259, 2103, 2009, 2071, 2468, 1996, 2279, 2190, 2518, 1024, 9735, 2005, 16204, 6664, 2612, 1997, 17615, 1012, 2429, 2000, 1037, 3189, 2006, 4465, 2013, 1996, 2047, 2259, 2335, 1010, 1996, 2047, 2259, 2610, 2533, 1006, 6396, 17299, 1007, 2003, 4041, 2000, 14970, 2047, 11594, 2008, 2052, 3499, 2216, 2179, 1999, 6664, 1997, 2235, 8310, 1997, 16204, 2000, 3328, 2185, 2007, 1037, 7281, 2612, 1997, 5938, 2051, 1999, 28338, 1012, 1996, 2689, 1999, 3343, 2071, 2031, 2898, 1011, 7478, 3896, 1999, 1037, 2103, 2124, 2005, 28427, 5190, 4480, 2169, 2095, 2005, 16204, 6664, 1012, 2065, 2995, 1010, 1996, 2689, 1999, 3343, 2071, 2036, 2031, 1037, 3278, 4254, 2006, 1996, 2103, 1005, 1055, 2304, 1998, 6696, 2451, 1010, 2029, 2070, 2913, 2360, 2024, 4487, 13102, 18981, 11589, 3258, 28239, 5360, 2011, 1996, 2610, 2533, 1005, 1055, 2783, 16204, 6545, 3343, 1012, 1996, 9046, 5670, 1999, 7285, 1010, 2029, 1996, 3189, 2758, 2003, 2242, 1997, 1037, 5466, 5963, 2000, 1996, 2103, 1005, 1055, 3343, 1999, 1996, 2397, 1005, 17549, 1010, 3310, 2074, 2420, 2044, 7397, 1010, 5392, 1998, 2899, 1040, 1012, 1039, 1012, 5444, 2000, 3423, 4697, 17985, 1010, 5241, 5169, 1998, 2899, 1010, 2824, 2008, 2089, 2391, 2646, 1037, 2120, 9874, 1012, 2031, 2242, 2000, 5587, 2000, 2023, 2466, 1029, 3745, 2009, 1999, 1996, 7928, 1012]\n"
     ]
    }
   ],
   "source": [
    "test_processed_indexes = tokeniser.convert_tokens_to_ids(test_processed_tokens)\n",
    "print(test_processed_indexes)"
   ]
  },
  {
   "cell_type": "code",
   "execution_count": 42,
   "id": "ae05fc8c-eae0-4f90-af52-2f3f302f1653",
   "metadata": {
    "tags": []
   },
   "outputs": [
    {
     "data": {
      "text/plain": [
       "512"
      ]
     },
     "execution_count": 42,
     "metadata": {},
     "output_type": "execute_result"
    }
   ],
   "source": [
    "max_input_length = tokeniser.max_model_input_sizes[selected_model]\n",
    "max_input_length"
   ]
  },
  {
   "cell_type": "code",
   "execution_count": 43,
   "id": "ca48eaf0-c10d-470d-a96f-6f6370a168af",
   "metadata": {
    "tags": []
   },
   "outputs": [
    {
     "name": "stdout",
     "output_type": "stream",
     "text": [
      "['[CLS]', 'it', \"'\", 's', 'not', 'exactly', 'legal', '##ization', ',', 'but', 'in', 'new', 'york', 'city', 'it', 'could', 'become', 'the', 'next', 'best', 'thing', ':', 'tickets', 'for', 'marijuana', 'possession', 'instead', 'of', 'arrests', '.', 'according', 'to', 'a', 'report', 'on', 'sunday', 'from', 'the', 'new', 'york', 'times', ',', 'the', 'new', 'york', 'police', 'department', '(', 'ny', '##pd', ')', 'is', 'planning', 'to', 'announce', 'new', 'guidelines', 'that', 'would', 'allow', 'those', 'found', 'in', 'possession', 'of', 'small', 'amounts', 'of', 'marijuana', 'to', 'walk', 'away', 'with', 'a', 'ticket', 'instead', 'of', 'spending', 'time', 'in', 'handcuffs', '.', 'the', 'change', 'in', 'policy', 'could', 'have', 'wide', '-', 'ranging', 'effects', 'in', 'a', 'city', 'known', 'for', 'arresting', 'thousands', 'ci', '##ti', '[SEP]']\n"
     ]
    }
   ],
   "source": [
    "test_processed_encoded = tokeniser.encode(test_processed[:max_input_length])\n",
    "test_processed_encoded_rev = tokeniser.convert_ids_to_tokens(test_processed_encoded)\n",
    "print(test_processed_encoded_rev)"
   ]
  },
  {
   "cell_type": "code",
   "execution_count": 44,
   "id": "88a1eef7-fc37-4201-8442-93f47606da55",
   "metadata": {
    "tags": []
   },
   "outputs": [
    {
     "data": {
      "text/plain": [
       "{'input_ids': [101, 2009, 1005, 1055, 2025, 3599, 3423, 3989, 1010, 2021, 1999, 2047, 2259, 2103, 2009, 2071, 2468, 1996, 2279, 2190, 2518, 1024, 9735, 2005, 16204, 6664, 2612, 1997, 17615, 1012, 2429, 2000, 1037, 3189, 2006, 4465, 2013, 1996, 2047, 2259, 2335, 1010, 1996, 2047, 2259, 2610, 2533, 1006, 6396, 17299, 1007, 2003, 4041, 2000, 14970, 2047, 11594, 2008, 2052, 3499, 2216, 2179, 1999, 6664, 1997, 2235, 8310, 1997, 16204, 2000, 3328, 2185, 2007, 1037, 7281, 2612, 1997, 5938, 2051, 1999, 28338, 1012, 1996, 2689, 1999, 3343, 2071, 2031, 2898, 1011, 7478, 3896, 1999, 1037, 2103, 2124, 2005, 28427, 5190, 4480, 2169, 2095, 2005, 16204, 6664, 1012, 2065, 2995, 1010, 1996, 2689, 1999, 3343, 2071, 2036, 2031, 1037, 3278, 4254, 2006, 1996, 2103, 1005, 1055, 2304, 1998, 6696, 2451, 1010, 2029, 2070, 2913, 2360, 2024, 4487, 13102, 18981, 11589, 3258, 28239, 5360, 2011, 1996, 2610, 2533, 1005, 1055, 2783, 16204, 6545, 3343, 1012, 1996, 9046, 5670, 1999, 7285, 1010, 2029, 1996, 3189, 2758, 2003, 2242, 1997, 1037, 5466, 5963, 2000, 1996, 2103, 1005, 1055, 3343, 1999, 1996, 2397, 1005, 17549, 1010, 3310, 2074, 2420, 2044, 7397, 1010, 5392, 1998, 2899, 1040, 1012, 1039, 1012, 5444, 2000, 3423, 4697, 17985, 1010, 5241, 5169, 1998, 2899, 1010, 2824, 2008, 2089, 2391, 2646, 1037, 2120, 9874, 1012, 2031, 2242, 2000, 5587, 2000, 2023, 2466, 1029, 3745, 2009, 1999, 1996, 7928, 1012, 102], 'token_type_ids': [0, 0, 0, 0, 0, 0, 0, 0, 0, 0, 0, 0, 0, 0, 0, 0, 0, 0, 0, 0, 0, 0, 0, 0, 0, 0, 0, 0, 0, 0, 0, 0, 0, 0, 0, 0, 0, 0, 0, 0, 0, 0, 0, 0, 0, 0, 0, 0, 0, 0, 0, 0, 0, 0, 0, 0, 0, 0, 0, 0, 0, 0, 0, 0, 0, 0, 0, 0, 0, 0, 0, 0, 0, 0, 0, 0, 0, 0, 0, 0, 0, 0, 0, 0, 0, 0, 0, 0, 0, 0, 0, 0, 0, 0, 0, 0, 0, 0, 0, 0, 0, 0, 0, 0, 0, 0, 0, 0, 0, 0, 0, 0, 0, 0, 0, 0, 0, 0, 0, 0, 0, 0, 0, 0, 0, 0, 0, 0, 0, 0, 0, 0, 0, 0, 0, 0, 0, 0, 0, 0, 0, 0, 0, 0, 0, 0, 0, 0, 0, 0, 0, 0, 0, 0, 0, 0, 0, 0, 0, 0, 0, 0, 0, 0, 0, 0, 0, 0, 0, 0, 0, 0, 0, 0, 0, 0, 0, 0, 0, 0, 0, 0, 0, 0, 0, 0, 0, 0, 0, 0, 0, 0, 0, 0, 0, 0, 0, 0, 0, 0, 0, 0, 0, 0, 0, 0, 0, 0, 0, 0, 0, 0, 0, 0, 0, 0, 0, 0, 0, 0, 0, 0, 0, 0, 0, 0, 0, 0], 'attention_mask': [1, 1, 1, 1, 1, 1, 1, 1, 1, 1, 1, 1, 1, 1, 1, 1, 1, 1, 1, 1, 1, 1, 1, 1, 1, 1, 1, 1, 1, 1, 1, 1, 1, 1, 1, 1, 1, 1, 1, 1, 1, 1, 1, 1, 1, 1, 1, 1, 1, 1, 1, 1, 1, 1, 1, 1, 1, 1, 1, 1, 1, 1, 1, 1, 1, 1, 1, 1, 1, 1, 1, 1, 1, 1, 1, 1, 1, 1, 1, 1, 1, 1, 1, 1, 1, 1, 1, 1, 1, 1, 1, 1, 1, 1, 1, 1, 1, 1, 1, 1, 1, 1, 1, 1, 1, 1, 1, 1, 1, 1, 1, 1, 1, 1, 1, 1, 1, 1, 1, 1, 1, 1, 1, 1, 1, 1, 1, 1, 1, 1, 1, 1, 1, 1, 1, 1, 1, 1, 1, 1, 1, 1, 1, 1, 1, 1, 1, 1, 1, 1, 1, 1, 1, 1, 1, 1, 1, 1, 1, 1, 1, 1, 1, 1, 1, 1, 1, 1, 1, 1, 1, 1, 1, 1, 1, 1, 1, 1, 1, 1, 1, 1, 1, 1, 1, 1, 1, 1, 1, 1, 1, 1, 1, 1, 1, 1, 1, 1, 1, 1, 1, 1, 1, 1, 1, 1, 1, 1, 1, 1, 1, 1, 1, 1, 1, 1, 1, 1, 1, 1, 1, 1, 1, 1, 1, 1, 1, 1]}"
      ]
     },
     "execution_count": 44,
     "metadata": {},
     "output_type": "execute_result"
    }
   ],
   "source": [
    "tokeniser(test_processed, truncation=True)"
   ]
  },
  {
   "cell_type": "code",
   "execution_count": 45,
   "id": "df52a6ea-33be-4281-866a-8522c3ff87ff",
   "metadata": {
    "tags": []
   },
   "outputs": [],
   "source": [
    "test_headline = train_df.iloc[812][\"Processed Headline\"]\n",
    "test_body = train_df.iloc[812][\"Processed Body\"]"
   ]
  },
  {
   "cell_type": "code",
   "execution_count": 46,
   "id": "f5d75140-4c92-4bb6-8e62-b1a82b0b70c0",
   "metadata": {
    "tags": []
   },
   "outputs": [
    {
     "data": {
      "text/plain": [
       "'NYC relaxes response to marijuana possession'"
      ]
     },
     "execution_count": 46,
     "metadata": {},
     "output_type": "execute_result"
    }
   ],
   "source": [
    "test_headline"
   ]
  },
  {
   "cell_type": "code",
   "execution_count": 47,
   "id": "3fe34337-d33e-4205-8dae-67f5ea22f71a",
   "metadata": {
    "tags": []
   },
   "outputs": [
    {
     "data": {
      "text/plain": [
       "\"It's not exactly legalization, but in New York City it could become the next best thing: tickets for marijuana possession instead of arrests. According to a report on Sunday from The New York Times, the New York Police Department (NYPD) is planning to announce new guidelines that would allow those found in possession of small amounts of marijuana to walk away with a ticket instead of spending time in handcuffs. The change in policy could have wide-ranging effects in a city known for arresting thousands citizens each year for marijuana possession. If true, the change in policy could also have a significant impact on the city's black and Hispanic community, which some studies say are disproportionately affected by the police department's current marijuana arrest policy. The upcoming shift in enforcement, which the report says is something of a throwback to the city's policy in the late '70s, comes just days after Alaska, Oregon and Washington D.C. voted to legalize cannabis, joining Colorado and Washington, events that may point toward a national trend. Have something to add to this story? Share it in the comments.\""
      ]
     },
     "execution_count": 47,
     "metadata": {},
     "output_type": "execute_result"
    }
   ],
   "source": [
    "test_body"
   ]
  },
  {
   "cell_type": "code",
   "execution_count": 48,
   "id": "1918c79b-7bf7-46bc-9da8-4bbf0c0db783",
   "metadata": {
    "tags": []
   },
   "outputs": [],
   "source": [
    "test_concat_ids = tokeniser(test_headline, test_body, truncation=\"longest_first\", padding=\"max_length\")[\"input_ids\"]"
   ]
  },
  {
   "cell_type": "code",
   "execution_count": 49,
   "id": "e44f8743-e7bc-4760-b33e-a95a017604ee",
   "metadata": {
    "tags": []
   },
   "outputs": [
    {
     "name": "stdout",
     "output_type": "stream",
     "text": [
      "['[CLS]', 'nyc', 'relax', '##es', 'response', 'to', 'marijuana', 'possession', '[SEP]', 'it', \"'\", 's', 'not', 'exactly', 'legal', '##ization', ',', 'but', 'in', 'new', 'york', 'city', 'it', 'could', 'become', 'the', 'next', 'best', 'thing', ':', 'tickets', 'for', 'marijuana', 'possession', 'instead', 'of', 'arrests', '.', 'according', 'to', 'a', 'report', 'on', 'sunday', 'from', 'the', 'new', 'york', 'times', ',', 'the', 'new', 'york', 'police', 'department', '(', 'ny', '##pd', ')', 'is', 'planning', 'to', 'announce', 'new', 'guidelines', 'that', 'would', 'allow', 'those', 'found', 'in', 'possession', 'of', 'small', 'amounts', 'of', 'marijuana', 'to', 'walk', 'away', 'with', 'a', 'ticket', 'instead', 'of', 'spending', 'time', 'in', 'handcuffs', '.', 'the', 'change', 'in', 'policy', 'could', 'have', 'wide', '-', 'ranging', 'effects', 'in', 'a', 'city', 'known', 'for', 'arresting', 'thousands', 'citizens', 'each', 'year', 'for', 'marijuana', 'possession', '.', 'if', 'true', ',', 'the', 'change', 'in', 'policy', 'could', 'also', 'have', 'a', 'significant', 'impact', 'on', 'the', 'city', \"'\", 's', 'black', 'and', 'hispanic', 'community', ',', 'which', 'some', 'studies', 'say', 'are', 'di', '##sp', '##rop', '##ort', '##ion', '##ately', 'affected', 'by', 'the', 'police', 'department', \"'\", 's', 'current', 'marijuana', 'arrest', 'policy', '.', 'the', 'upcoming', 'shift', 'in', 'enforcement', ',', 'which', 'the', 'report', 'says', 'is', 'something', 'of', 'a', 'throw', '##back', 'to', 'the', 'city', \"'\", 's', 'policy', 'in', 'the', 'late', \"'\", '70s', ',', 'comes', 'just', 'days', 'after', 'alaska', ',', 'oregon', 'and', 'washington', 'd', '.', 'c', '.', 'voted', 'to', 'legal', '##ize', 'cannabis', ',', 'joining', 'colorado', 'and', 'washington', ',', 'events', 'that', 'may', 'point', 'toward', 'a', 'national', 'trend', '.', 'have', 'something', 'to', 'add', 'to', 'this', 'story', '?', 'share', 'it', 'in', 'the', 'comments', '.', '[SEP]', '[PAD]', '[PAD]', '[PAD]', '[PAD]', '[PAD]', '[PAD]', '[PAD]', '[PAD]', '[PAD]', '[PAD]', '[PAD]', '[PAD]', '[PAD]', '[PAD]', '[PAD]', '[PAD]', '[PAD]', '[PAD]', '[PAD]', '[PAD]', '[PAD]', '[PAD]', '[PAD]', '[PAD]', '[PAD]', '[PAD]', '[PAD]', '[PAD]', '[PAD]', '[PAD]', '[PAD]', '[PAD]', '[PAD]', '[PAD]', '[PAD]', '[PAD]', '[PAD]', '[PAD]', '[PAD]', '[PAD]', '[PAD]', '[PAD]', '[PAD]', '[PAD]', '[PAD]', '[PAD]', '[PAD]', '[PAD]', '[PAD]', '[PAD]', '[PAD]', '[PAD]', '[PAD]', '[PAD]', '[PAD]', '[PAD]', '[PAD]', '[PAD]', '[PAD]', '[PAD]', '[PAD]', '[PAD]', '[PAD]', '[PAD]', '[PAD]', '[PAD]', '[PAD]', '[PAD]', '[PAD]', '[PAD]', '[PAD]', '[PAD]', '[PAD]', '[PAD]', '[PAD]', '[PAD]', '[PAD]', '[PAD]', '[PAD]', '[PAD]', '[PAD]', '[PAD]', '[PAD]', '[PAD]', '[PAD]', '[PAD]', '[PAD]', '[PAD]', '[PAD]', '[PAD]', '[PAD]', '[PAD]', '[PAD]', '[PAD]', '[PAD]', '[PAD]', '[PAD]', '[PAD]', '[PAD]', '[PAD]', '[PAD]', '[PAD]', '[PAD]', '[PAD]', '[PAD]', '[PAD]', '[PAD]', '[PAD]', '[PAD]', '[PAD]', '[PAD]', '[PAD]', '[PAD]', '[PAD]', '[PAD]', '[PAD]', '[PAD]', '[PAD]', '[PAD]', '[PAD]', '[PAD]', '[PAD]', '[PAD]', '[PAD]', '[PAD]', '[PAD]', '[PAD]', '[PAD]', '[PAD]', '[PAD]', '[PAD]', '[PAD]', '[PAD]', '[PAD]', '[PAD]', '[PAD]', '[PAD]', '[PAD]', '[PAD]', '[PAD]', '[PAD]', '[PAD]', '[PAD]', '[PAD]', '[PAD]', '[PAD]', '[PAD]', '[PAD]', '[PAD]', '[PAD]', '[PAD]', '[PAD]', '[PAD]', '[PAD]', '[PAD]', '[PAD]', '[PAD]', '[PAD]', '[PAD]', '[PAD]', '[PAD]', '[PAD]', '[PAD]', '[PAD]', '[PAD]', '[PAD]', '[PAD]', '[PAD]', '[PAD]', '[PAD]', '[PAD]', '[PAD]', '[PAD]', '[PAD]', '[PAD]', '[PAD]', '[PAD]', '[PAD]', '[PAD]', '[PAD]', '[PAD]', '[PAD]', '[PAD]', '[PAD]', '[PAD]', '[PAD]', '[PAD]', '[PAD]', '[PAD]', '[PAD]', '[PAD]', '[PAD]', '[PAD]', '[PAD]', '[PAD]', '[PAD]', '[PAD]', '[PAD]', '[PAD]', '[PAD]', '[PAD]', '[PAD]', '[PAD]', '[PAD]', '[PAD]', '[PAD]', '[PAD]', '[PAD]', '[PAD]', '[PAD]', '[PAD]', '[PAD]', '[PAD]', '[PAD]', '[PAD]', '[PAD]', '[PAD]', '[PAD]', '[PAD]', '[PAD]', '[PAD]', '[PAD]', '[PAD]', '[PAD]', '[PAD]', '[PAD]', '[PAD]', '[PAD]', '[PAD]', '[PAD]', '[PAD]', '[PAD]', '[PAD]', '[PAD]', '[PAD]', '[PAD]', '[PAD]', '[PAD]', '[PAD]', '[PAD]', '[PAD]', '[PAD]', '[PAD]', '[PAD]', '[PAD]', '[PAD]', '[PAD]', '[PAD]', '[PAD]', '[PAD]', '[PAD]', '[PAD]', '[PAD]', '[PAD]', '[PAD]', '[PAD]', '[PAD]', '[PAD]', '[PAD]', '[PAD]', '[PAD]', '[PAD]', '[PAD]', '[PAD]', '[PAD]', '[PAD]', '[PAD]', '[PAD]', '[PAD]', '[PAD]', '[PAD]', '[PAD]', '[PAD]', '[PAD]', '[PAD]', '[PAD]']\n"
     ]
    }
   ],
   "source": [
    "test_concat_tokens = tokeniser.convert_ids_to_tokens(test_concat_ids)\n",
    "print(test_concat_tokens)"
   ]
  },
  {
   "cell_type": "code",
   "execution_count": 50,
   "id": "f7ce25c8-911f-4c2a-b3c7-25b570703de4",
   "metadata": {
    "tags": []
   },
   "outputs": [],
   "source": [
    "def concated_headline_body_tokens(headline, body):\n",
    "    concated_ids = tokeniser(headline, body, truncation=\"longest_first\", padding=\"max_length\", return_tensors=\"pt\")[\"input_ids\"]\n",
    "    return concated_ids"
   ]
  },
  {
   "cell_type": "code",
   "execution_count": 51,
   "id": "7e5b7b84-9a4b-4f75-9326-71493f1d76ff",
   "metadata": {
    "tags": []
   },
   "outputs": [
    {
     "data": {
      "text/html": [
       "<div>\n",
       "<style scoped>\n",
       "    .dataframe tbody tr th:only-of-type {\n",
       "        vertical-align: middle;\n",
       "    }\n",
       "\n",
       "    .dataframe tbody tr th {\n",
       "        vertical-align: top;\n",
       "    }\n",
       "\n",
       "    .dataframe thead th {\n",
       "        text-align: right;\n",
       "    }\n",
       "</style>\n",
       "<table border=\"1\" class=\"dataframe\">\n",
       "  <thead>\n",
       "    <tr style=\"text-align: right;\">\n",
       "      <th></th>\n",
       "      <th>Headline</th>\n",
       "      <th>Stance</th>\n",
       "      <th>articleBody</th>\n",
       "      <th>Related</th>\n",
       "      <th>Processed Headline</th>\n",
       "      <th>Processed Body</th>\n",
       "    </tr>\n",
       "  </thead>\n",
       "  <tbody>\n",
       "    <tr>\n",
       "      <th>0</th>\n",
       "      <td>Seth Rogen to Play Apple’s Steve Wozniak</td>\n",
       "      <td>discuss</td>\n",
       "      <td>Danny Boyle is directing the untitled film\\r\\n...</td>\n",
       "      <td>True</td>\n",
       "      <td>Seth Rogen to Play Apple’s Steve Wozniak</td>\n",
       "      <td>Danny Boyle is directing the untitled film Set...</td>\n",
       "    </tr>\n",
       "    <tr>\n",
       "      <th>1</th>\n",
       "      <td>Return of the Mac: Seth Rogen in talks to star...</td>\n",
       "      <td>discuss</td>\n",
       "      <td>Danny Boyle is directing the untitled film\\r\\n...</td>\n",
       "      <td>True</td>\n",
       "      <td>Return of the Mac: Seth Rogen in talks to star...</td>\n",
       "      <td>Danny Boyle is directing the untitled film Set...</td>\n",
       "    </tr>\n",
       "    <tr>\n",
       "      <th>2</th>\n",
       "      <td>Seth Rogen Is Woz</td>\n",
       "      <td>discuss</td>\n",
       "      <td>Danny Boyle is directing the untitled film\\r\\n...</td>\n",
       "      <td>True</td>\n",
       "      <td>Seth Rogen Is Woz</td>\n",
       "      <td>Danny Boyle is directing the untitled film Set...</td>\n",
       "    </tr>\n",
       "    <tr>\n",
       "      <th>3</th>\n",
       "      <td>Steve Jobs Biopic Eyes Seth Rogen to Play Appl...</td>\n",
       "      <td>discuss</td>\n",
       "      <td>Danny Boyle is directing the untitled film\\r\\n...</td>\n",
       "      <td>True</td>\n",
       "      <td>Steve Jobs Biopic Eyes Seth Rogen to Play Appl...</td>\n",
       "      <td>Danny Boyle is directing the untitled film Set...</td>\n",
       "    </tr>\n",
       "    <tr>\n",
       "      <th>4</th>\n",
       "      <td>Seth Rogen Eyed to Play Apple's Steve Wozniak ...</td>\n",
       "      <td>discuss</td>\n",
       "      <td>Danny Boyle is directing the untitled film\\r\\n...</td>\n",
       "      <td>True</td>\n",
       "      <td>Seth Rogen Eyed to Play Apple's Steve Wozniak ...</td>\n",
       "      <td>Danny Boyle is directing the untitled film Set...</td>\n",
       "    </tr>\n",
       "    <tr>\n",
       "      <th>...</th>\n",
       "      <td>...</td>\n",
       "      <td>...</td>\n",
       "      <td>...</td>\n",
       "      <td>...</td>\n",
       "      <td>...</td>\n",
       "      <td>...</td>\n",
       "    </tr>\n",
       "    <tr>\n",
       "      <th>10699</th>\n",
       "      <td>“Willie Nelson dead 2015” : Guitarist killed b...</td>\n",
       "      <td>agree</td>\n",
       "      <td>News of guitarist Willie Nelson’s death spread...</td>\n",
       "      <td>True</td>\n",
       "      <td>“Willie Nelson dead 2015” : Guitarist killed b...</td>\n",
       "      <td>News of guitarist Willie Nelson’s death spread...</td>\n",
       "    </tr>\n",
       "    <tr>\n",
       "      <th>10700</th>\n",
       "      <td>Amazon Is Opening a Brick-and-Mortar Store in ...</td>\n",
       "      <td>agree</td>\n",
       "      <td>Amazon, the cyber store that sells everything,...</td>\n",
       "      <td>True</td>\n",
       "      <td>Amazon Is Opening a Brick-and-Mortar Store in ...</td>\n",
       "      <td>Amazon, the cyber store that sells everything,...</td>\n",
       "    </tr>\n",
       "    <tr>\n",
       "      <th>10701</th>\n",
       "      <td>Elon University has not banned the term ‘fresh...</td>\n",
       "      <td>agree</td>\n",
       "      <td>ELON, N.C. – A recent rumor claims that Elon U...</td>\n",
       "      <td>True</td>\n",
       "      <td>Elon University has not banned the term ‘fresh...</td>\n",
       "      <td>ELON, N.C. – A recent rumor claims that Elon U...</td>\n",
       "    </tr>\n",
       "    <tr>\n",
       "      <th>10702</th>\n",
       "      <td>Fake BBC News website set up to carry Charlie ...</td>\n",
       "      <td>agree</td>\n",
       "      <td>A realistic-looking fake BBC News website has ...</td>\n",
       "      <td>True</td>\n",
       "      <td>Fake BBC News website set up to carry Charlie ...</td>\n",
       "      <td>A realistic-looking fake BBC News website has ...</td>\n",
       "    </tr>\n",
       "    <tr>\n",
       "      <th>10703</th>\n",
       "      <td>If you want an Apple Watch, you’ll probably be...</td>\n",
       "      <td>discuss</td>\n",
       "      <td>We still don’t know the exact date the Apple W...</td>\n",
       "      <td>True</td>\n",
       "      <td>If you want an Apple Watch, you’ll probably be...</td>\n",
       "      <td>We still don’t know the exact date the Apple W...</td>\n",
       "    </tr>\n",
       "  </tbody>\n",
       "</table>\n",
       "<p>10704 rows × 6 columns</p>\n",
       "</div>"
      ],
      "text/plain": [
       "                                                Headline   Stance  \\\n",
       "0               Seth Rogen to Play Apple’s Steve Wozniak  discuss   \n",
       "1      Return of the Mac: Seth Rogen in talks to star...  discuss   \n",
       "2                                      Seth Rogen Is Woz  discuss   \n",
       "3      Steve Jobs Biopic Eyes Seth Rogen to Play Appl...  discuss   \n",
       "4      Seth Rogen Eyed to Play Apple's Steve Wozniak ...  discuss   \n",
       "...                                                  ...      ...   \n",
       "10699  “Willie Nelson dead 2015” : Guitarist killed b...    agree   \n",
       "10700  Amazon Is Opening a Brick-and-Mortar Store in ...    agree   \n",
       "10701  Elon University has not banned the term ‘fresh...    agree   \n",
       "10702  Fake BBC News website set up to carry Charlie ...    agree   \n",
       "10703  If you want an Apple Watch, you’ll probably be...  discuss   \n",
       "\n",
       "                                             articleBody  Related  \\\n",
       "0      Danny Boyle is directing the untitled film\\r\\n...     True   \n",
       "1      Danny Boyle is directing the untitled film\\r\\n...     True   \n",
       "2      Danny Boyle is directing the untitled film\\r\\n...     True   \n",
       "3      Danny Boyle is directing the untitled film\\r\\n...     True   \n",
       "4      Danny Boyle is directing the untitled film\\r\\n...     True   \n",
       "...                                                  ...      ...   \n",
       "10699  News of guitarist Willie Nelson’s death spread...     True   \n",
       "10700  Amazon, the cyber store that sells everything,...     True   \n",
       "10701  ELON, N.C. – A recent rumor claims that Elon U...     True   \n",
       "10702  A realistic-looking fake BBC News website has ...     True   \n",
       "10703  We still don’t know the exact date the Apple W...     True   \n",
       "\n",
       "                                      Processed Headline  \\\n",
       "0               Seth Rogen to Play Apple’s Steve Wozniak   \n",
       "1      Return of the Mac: Seth Rogen in talks to star...   \n",
       "2                                      Seth Rogen Is Woz   \n",
       "3      Steve Jobs Biopic Eyes Seth Rogen to Play Appl...   \n",
       "4      Seth Rogen Eyed to Play Apple's Steve Wozniak ...   \n",
       "...                                                  ...   \n",
       "10699  “Willie Nelson dead 2015” : Guitarist killed b...   \n",
       "10700  Amazon Is Opening a Brick-and-Mortar Store in ...   \n",
       "10701  Elon University has not banned the term ‘fresh...   \n",
       "10702  Fake BBC News website set up to carry Charlie ...   \n",
       "10703  If you want an Apple Watch, you’ll probably be...   \n",
       "\n",
       "                                          Processed Body  \n",
       "0      Danny Boyle is directing the untitled film Set...  \n",
       "1      Danny Boyle is directing the untitled film Set...  \n",
       "2      Danny Boyle is directing the untitled film Set...  \n",
       "3      Danny Boyle is directing the untitled film Set...  \n",
       "4      Danny Boyle is directing the untitled film Set...  \n",
       "...                                                  ...  \n",
       "10699  News of guitarist Willie Nelson’s death spread...  \n",
       "10700  Amazon, the cyber store that sells everything,...  \n",
       "10701  ELON, N.C. – A recent rumor claims that Elon U...  \n",
       "10702  A realistic-looking fake BBC News website has ...  \n",
       "10703  We still don’t know the exact date the Apple W...  \n",
       "\n",
       "[10704 rows x 6 columns]"
      ]
     },
     "execution_count": 51,
     "metadata": {},
     "output_type": "execute_result"
    }
   ],
   "source": [
    "train_df"
   ]
  },
  {
   "cell_type": "code",
   "execution_count": 52,
   "id": "d3a75549-35b7-4f30-8f51-5171a4826ac2",
   "metadata": {
    "tags": []
   },
   "outputs": [
    {
     "data": {
      "text/html": [
       "<div>\n",
       "<style scoped>\n",
       "    .dataframe tbody tr th:only-of-type {\n",
       "        vertical-align: middle;\n",
       "    }\n",
       "\n",
       "    .dataframe tbody tr th {\n",
       "        vertical-align: top;\n",
       "    }\n",
       "\n",
       "    .dataframe thead th {\n",
       "        text-align: right;\n",
       "    }\n",
       "</style>\n",
       "<table border=\"1\" class=\"dataframe\">\n",
       "  <thead>\n",
       "    <tr style=\"text-align: right;\">\n",
       "      <th></th>\n",
       "      <th>Headline</th>\n",
       "      <th>Stance</th>\n",
       "      <th>articleBody</th>\n",
       "      <th>Related</th>\n",
       "      <th>Processed Headline</th>\n",
       "      <th>Processed Body</th>\n",
       "    </tr>\n",
       "  </thead>\n",
       "  <tbody>\n",
       "    <tr>\n",
       "      <th>0</th>\n",
       "      <td>Seth Rogen to Play Apple’s Steve Wozniak</td>\n",
       "      <td>discuss</td>\n",
       "      <td>Danny Boyle is directing the untitled film\\r\\n...</td>\n",
       "      <td>True</td>\n",
       "      <td>Seth Rogen to Play Apple’s Steve Wozniak</td>\n",
       "      <td>Danny Boyle is directing the untitled film Set...</td>\n",
       "    </tr>\n",
       "    <tr>\n",
       "      <th>1</th>\n",
       "      <td>Return of the Mac: Seth Rogen in talks to star...</td>\n",
       "      <td>discuss</td>\n",
       "      <td>Danny Boyle is directing the untitled film\\r\\n...</td>\n",
       "      <td>True</td>\n",
       "      <td>Return of the Mac: Seth Rogen in talks to star...</td>\n",
       "      <td>Danny Boyle is directing the untitled film Set...</td>\n",
       "    </tr>\n",
       "    <tr>\n",
       "      <th>2</th>\n",
       "      <td>Seth Rogen Is Woz</td>\n",
       "      <td>discuss</td>\n",
       "      <td>Danny Boyle is directing the untitled film\\r\\n...</td>\n",
       "      <td>True</td>\n",
       "      <td>Seth Rogen Is Woz</td>\n",
       "      <td>Danny Boyle is directing the untitled film Set...</td>\n",
       "    </tr>\n",
       "    <tr>\n",
       "      <th>3</th>\n",
       "      <td>Steve Jobs Biopic Eyes Seth Rogen to Play Appl...</td>\n",
       "      <td>discuss</td>\n",
       "      <td>Danny Boyle is directing the untitled film\\r\\n...</td>\n",
       "      <td>True</td>\n",
       "      <td>Steve Jobs Biopic Eyes Seth Rogen to Play Appl...</td>\n",
       "      <td>Danny Boyle is directing the untitled film Set...</td>\n",
       "    </tr>\n",
       "    <tr>\n",
       "      <th>4</th>\n",
       "      <td>Seth Rogen Eyed to Play Apple's Steve Wozniak ...</td>\n",
       "      <td>discuss</td>\n",
       "      <td>Danny Boyle is directing the untitled film\\r\\n...</td>\n",
       "      <td>True</td>\n",
       "      <td>Seth Rogen Eyed to Play Apple's Steve Wozniak ...</td>\n",
       "      <td>Danny Boyle is directing the untitled film Set...</td>\n",
       "    </tr>\n",
       "    <tr>\n",
       "      <th>...</th>\n",
       "      <td>...</td>\n",
       "      <td>...</td>\n",
       "      <td>...</td>\n",
       "      <td>...</td>\n",
       "      <td>...</td>\n",
       "      <td>...</td>\n",
       "    </tr>\n",
       "    <tr>\n",
       "      <th>10699</th>\n",
       "      <td>“Willie Nelson dead 2015” : Guitarist killed b...</td>\n",
       "      <td>agree</td>\n",
       "      <td>News of guitarist Willie Nelson’s death spread...</td>\n",
       "      <td>True</td>\n",
       "      <td>“Willie Nelson dead 2015” : Guitarist killed b...</td>\n",
       "      <td>News of guitarist Willie Nelson’s death spread...</td>\n",
       "    </tr>\n",
       "    <tr>\n",
       "      <th>10700</th>\n",
       "      <td>Amazon Is Opening a Brick-and-Mortar Store in ...</td>\n",
       "      <td>agree</td>\n",
       "      <td>Amazon, the cyber store that sells everything,...</td>\n",
       "      <td>True</td>\n",
       "      <td>Amazon Is Opening a Brick-and-Mortar Store in ...</td>\n",
       "      <td>Amazon, the cyber store that sells everything,...</td>\n",
       "    </tr>\n",
       "    <tr>\n",
       "      <th>10701</th>\n",
       "      <td>Elon University has not banned the term ‘fresh...</td>\n",
       "      <td>agree</td>\n",
       "      <td>ELON, N.C. – A recent rumor claims that Elon U...</td>\n",
       "      <td>True</td>\n",
       "      <td>Elon University has not banned the term ‘fresh...</td>\n",
       "      <td>ELON, N.C. – A recent rumor claims that Elon U...</td>\n",
       "    </tr>\n",
       "    <tr>\n",
       "      <th>10702</th>\n",
       "      <td>Fake BBC News website set up to carry Charlie ...</td>\n",
       "      <td>agree</td>\n",
       "      <td>A realistic-looking fake BBC News website has ...</td>\n",
       "      <td>True</td>\n",
       "      <td>Fake BBC News website set up to carry Charlie ...</td>\n",
       "      <td>A realistic-looking fake BBC News website has ...</td>\n",
       "    </tr>\n",
       "    <tr>\n",
       "      <th>10703</th>\n",
       "      <td>If you want an Apple Watch, you’ll probably be...</td>\n",
       "      <td>discuss</td>\n",
       "      <td>We still don’t know the exact date the Apple W...</td>\n",
       "      <td>True</td>\n",
       "      <td>If you want an Apple Watch, you’ll probably be...</td>\n",
       "      <td>We still don’t know the exact date the Apple W...</td>\n",
       "    </tr>\n",
       "  </tbody>\n",
       "</table>\n",
       "<p>10704 rows × 6 columns</p>\n",
       "</div>"
      ],
      "text/plain": [
       "                                                Headline   Stance  \\\n",
       "0               Seth Rogen to Play Apple’s Steve Wozniak  discuss   \n",
       "1      Return of the Mac: Seth Rogen in talks to star...  discuss   \n",
       "2                                      Seth Rogen Is Woz  discuss   \n",
       "3      Steve Jobs Biopic Eyes Seth Rogen to Play Appl...  discuss   \n",
       "4      Seth Rogen Eyed to Play Apple's Steve Wozniak ...  discuss   \n",
       "...                                                  ...      ...   \n",
       "10699  “Willie Nelson dead 2015” : Guitarist killed b...    agree   \n",
       "10700  Amazon Is Opening a Brick-and-Mortar Store in ...    agree   \n",
       "10701  Elon University has not banned the term ‘fresh...    agree   \n",
       "10702  Fake BBC News website set up to carry Charlie ...    agree   \n",
       "10703  If you want an Apple Watch, you’ll probably be...  discuss   \n",
       "\n",
       "                                             articleBody  Related  \\\n",
       "0      Danny Boyle is directing the untitled film\\r\\n...     True   \n",
       "1      Danny Boyle is directing the untitled film\\r\\n...     True   \n",
       "2      Danny Boyle is directing the untitled film\\r\\n...     True   \n",
       "3      Danny Boyle is directing the untitled film\\r\\n...     True   \n",
       "4      Danny Boyle is directing the untitled film\\r\\n...     True   \n",
       "...                                                  ...      ...   \n",
       "10699  News of guitarist Willie Nelson’s death spread...     True   \n",
       "10700  Amazon, the cyber store that sells everything,...     True   \n",
       "10701  ELON, N.C. – A recent rumor claims that Elon U...     True   \n",
       "10702  A realistic-looking fake BBC News website has ...     True   \n",
       "10703  We still don’t know the exact date the Apple W...     True   \n",
       "\n",
       "                                      Processed Headline  \\\n",
       "0               Seth Rogen to Play Apple’s Steve Wozniak   \n",
       "1      Return of the Mac: Seth Rogen in talks to star...   \n",
       "2                                      Seth Rogen Is Woz   \n",
       "3      Steve Jobs Biopic Eyes Seth Rogen to Play Appl...   \n",
       "4      Seth Rogen Eyed to Play Apple's Steve Wozniak ...   \n",
       "...                                                  ...   \n",
       "10699  “Willie Nelson dead 2015” : Guitarist killed b...   \n",
       "10700  Amazon Is Opening a Brick-and-Mortar Store in ...   \n",
       "10701  Elon University has not banned the term ‘fresh...   \n",
       "10702  Fake BBC News website set up to carry Charlie ...   \n",
       "10703  If you want an Apple Watch, you’ll probably be...   \n",
       "\n",
       "                                          Processed Body  \n",
       "0      Danny Boyle is directing the untitled film Set...  \n",
       "1      Danny Boyle is directing the untitled film Set...  \n",
       "2      Danny Boyle is directing the untitled film Set...  \n",
       "3      Danny Boyle is directing the untitled film Set...  \n",
       "4      Danny Boyle is directing the untitled film Set...  \n",
       "...                                                  ...  \n",
       "10699  News of guitarist Willie Nelson’s death spread...  \n",
       "10700  Amazon, the cyber store that sells everything,...  \n",
       "10701  ELON, N.C. – A recent rumor claims that Elon U...  \n",
       "10702  A realistic-looking fake BBC News website has ...  \n",
       "10703  We still don’t know the exact date the Apple W...  \n",
       "\n",
       "[10704 rows x 6 columns]"
      ]
     },
     "execution_count": 52,
     "metadata": {},
     "output_type": "execute_result"
    }
   ],
   "source": [
    "train_df"
   ]
  },
  {
   "cell_type": "code",
   "execution_count": 53,
   "id": "4edc62c0-6f0a-451c-bc9a-542c3a2e2344",
   "metadata": {
    "tags": []
   },
   "outputs": [
    {
     "data": {
      "application/vnd.jupyter.widget-view+json": {
       "model_id": "20bb5c369aab40548e6a225a6fda9920",
       "version_major": 2,
       "version_minor": 0
      },
      "text/plain": [
       "  0%|          | 0/10704 [00:00<?, ?it/s]"
      ]
     },
     "metadata": {},
     "output_type": "display_data"
    }
   ],
   "source": [
    "transformers.logging.set_verbosity_error()\n",
    "train_df[\"Transformer Input\"] = train_df.progress_apply(lambda row: concated_headline_body_tokens(row[\"Processed Headline\"], row[\"Processed Body\"]), axis=1)\n",
    "transformers.logging.set_verbosity_warning()"
   ]
  },
  {
   "cell_type": "code",
   "execution_count": 54,
   "id": "90e2b8b8-f3d6-4b96-b36c-44113482d264",
   "metadata": {},
   "outputs": [
    {
     "data": {
      "text/html": [
       "<div>\n",
       "<style scoped>\n",
       "    .dataframe tbody tr th:only-of-type {\n",
       "        vertical-align: middle;\n",
       "    }\n",
       "\n",
       "    .dataframe tbody tr th {\n",
       "        vertical-align: top;\n",
       "    }\n",
       "\n",
       "    .dataframe thead th {\n",
       "        text-align: right;\n",
       "    }\n",
       "</style>\n",
       "<table border=\"1\" class=\"dataframe\">\n",
       "  <thead>\n",
       "    <tr style=\"text-align: right;\">\n",
       "      <th></th>\n",
       "      <th>Headline</th>\n",
       "      <th>Stance</th>\n",
       "      <th>articleBody</th>\n",
       "      <th>Related</th>\n",
       "      <th>Processed Headline</th>\n",
       "      <th>Processed Body</th>\n",
       "      <th>Transformer Input</th>\n",
       "    </tr>\n",
       "  </thead>\n",
       "  <tbody>\n",
       "    <tr>\n",
       "      <th>0</th>\n",
       "      <td>Seth Rogen to Play Apple’s Steve Wozniak</td>\n",
       "      <td>discuss</td>\n",
       "      <td>Danny Boyle is directing the untitled film\\r\\n...</td>\n",
       "      <td>True</td>\n",
       "      <td>Seth Rogen to Play Apple’s Steve Wozniak</td>\n",
       "      <td>Danny Boyle is directing the untitled film Set...</td>\n",
       "      <td>[[tensor(101), tensor(6662), tensor(20996), te...</td>\n",
       "    </tr>\n",
       "    <tr>\n",
       "      <th>1</th>\n",
       "      <td>Return of the Mac: Seth Rogen in talks to star...</td>\n",
       "      <td>discuss</td>\n",
       "      <td>Danny Boyle is directing the untitled film\\r\\n...</td>\n",
       "      <td>True</td>\n",
       "      <td>Return of the Mac: Seth Rogen in talks to star...</td>\n",
       "      <td>Danny Boyle is directing the untitled film Set...</td>\n",
       "      <td>[[tensor(101), tensor(2709), tensor(1997), ten...</td>\n",
       "    </tr>\n",
       "    <tr>\n",
       "      <th>2</th>\n",
       "      <td>Seth Rogen Is Woz</td>\n",
       "      <td>discuss</td>\n",
       "      <td>Danny Boyle is directing the untitled film\\r\\n...</td>\n",
       "      <td>True</td>\n",
       "      <td>Seth Rogen Is Woz</td>\n",
       "      <td>Danny Boyle is directing the untitled film Set...</td>\n",
       "      <td>[[tensor(101), tensor(6662), tensor(20996), te...</td>\n",
       "    </tr>\n",
       "    <tr>\n",
       "      <th>3</th>\n",
       "      <td>Steve Jobs Biopic Eyes Seth Rogen to Play Appl...</td>\n",
       "      <td>discuss</td>\n",
       "      <td>Danny Boyle is directing the untitled film\\r\\n...</td>\n",
       "      <td>True</td>\n",
       "      <td>Steve Jobs Biopic Eyes Seth Rogen to Play Appl...</td>\n",
       "      <td>Danny Boyle is directing the untitled film Set...</td>\n",
       "      <td>[[tensor(101), tensor(3889), tensor(5841), ten...</td>\n",
       "    </tr>\n",
       "    <tr>\n",
       "      <th>4</th>\n",
       "      <td>Seth Rogen Eyed to Play Apple's Steve Wozniak ...</td>\n",
       "      <td>discuss</td>\n",
       "      <td>Danny Boyle is directing the untitled film\\r\\n...</td>\n",
       "      <td>True</td>\n",
       "      <td>Seth Rogen Eyed to Play Apple's Steve Wozniak ...</td>\n",
       "      <td>Danny Boyle is directing the untitled film Set...</td>\n",
       "      <td>[[tensor(101), tensor(6662), tensor(20996), te...</td>\n",
       "    </tr>\n",
       "    <tr>\n",
       "      <th>...</th>\n",
       "      <td>...</td>\n",
       "      <td>...</td>\n",
       "      <td>...</td>\n",
       "      <td>...</td>\n",
       "      <td>...</td>\n",
       "      <td>...</td>\n",
       "      <td>...</td>\n",
       "    </tr>\n",
       "    <tr>\n",
       "      <th>10699</th>\n",
       "      <td>“Willie Nelson dead 2015” : Guitarist killed b...</td>\n",
       "      <td>agree</td>\n",
       "      <td>News of guitarist Willie Nelson’s death spread...</td>\n",
       "      <td>True</td>\n",
       "      <td>“Willie Nelson dead 2015” : Guitarist killed b...</td>\n",
       "      <td>News of guitarist Willie Nelson’s death spread...</td>\n",
       "      <td>[[tensor(101), tensor(1523), tensor(9893), ten...</td>\n",
       "    </tr>\n",
       "    <tr>\n",
       "      <th>10700</th>\n",
       "      <td>Amazon Is Opening a Brick-and-Mortar Store in ...</td>\n",
       "      <td>agree</td>\n",
       "      <td>Amazon, the cyber store that sells everything,...</td>\n",
       "      <td>True</td>\n",
       "      <td>Amazon Is Opening a Brick-and-Mortar Store in ...</td>\n",
       "      <td>Amazon, the cyber store that sells everything,...</td>\n",
       "      <td>[[tensor(101), tensor(9733), tensor(2003), ten...</td>\n",
       "    </tr>\n",
       "    <tr>\n",
       "      <th>10701</th>\n",
       "      <td>Elon University has not banned the term ‘fresh...</td>\n",
       "      <td>agree</td>\n",
       "      <td>ELON, N.C. – A recent rumor claims that Elon U...</td>\n",
       "      <td>True</td>\n",
       "      <td>Elon University has not banned the term ‘fresh...</td>\n",
       "      <td>ELON, N.C. – A recent rumor claims that Elon U...</td>\n",
       "      <td>[[tensor(101), tensor(3449), tensor(2239), ten...</td>\n",
       "    </tr>\n",
       "    <tr>\n",
       "      <th>10702</th>\n",
       "      <td>Fake BBC News website set up to carry Charlie ...</td>\n",
       "      <td>agree</td>\n",
       "      <td>A realistic-looking fake BBC News website has ...</td>\n",
       "      <td>True</td>\n",
       "      <td>Fake BBC News website set up to carry Charlie ...</td>\n",
       "      <td>A realistic-looking fake BBC News website has ...</td>\n",
       "      <td>[[tensor(101), tensor(8275), tensor(4035), ten...</td>\n",
       "    </tr>\n",
       "    <tr>\n",
       "      <th>10703</th>\n",
       "      <td>If you want an Apple Watch, you’ll probably be...</td>\n",
       "      <td>discuss</td>\n",
       "      <td>We still don’t know the exact date the Apple W...</td>\n",
       "      <td>True</td>\n",
       "      <td>If you want an Apple Watch, you’ll probably be...</td>\n",
       "      <td>We still don’t know the exact date the Apple W...</td>\n",
       "      <td>[[tensor(101), tensor(2065), tensor(2017), ten...</td>\n",
       "    </tr>\n",
       "  </tbody>\n",
       "</table>\n",
       "<p>10704 rows × 7 columns</p>\n",
       "</div>"
      ],
      "text/plain": [
       "                                                Headline   Stance  \\\n",
       "0               Seth Rogen to Play Apple’s Steve Wozniak  discuss   \n",
       "1      Return of the Mac: Seth Rogen in talks to star...  discuss   \n",
       "2                                      Seth Rogen Is Woz  discuss   \n",
       "3      Steve Jobs Biopic Eyes Seth Rogen to Play Appl...  discuss   \n",
       "4      Seth Rogen Eyed to Play Apple's Steve Wozniak ...  discuss   \n",
       "...                                                  ...      ...   \n",
       "10699  “Willie Nelson dead 2015” : Guitarist killed b...    agree   \n",
       "10700  Amazon Is Opening a Brick-and-Mortar Store in ...    agree   \n",
       "10701  Elon University has not banned the term ‘fresh...    agree   \n",
       "10702  Fake BBC News website set up to carry Charlie ...    agree   \n",
       "10703  If you want an Apple Watch, you’ll probably be...  discuss   \n",
       "\n",
       "                                             articleBody  Related  \\\n",
       "0      Danny Boyle is directing the untitled film\\r\\n...     True   \n",
       "1      Danny Boyle is directing the untitled film\\r\\n...     True   \n",
       "2      Danny Boyle is directing the untitled film\\r\\n...     True   \n",
       "3      Danny Boyle is directing the untitled film\\r\\n...     True   \n",
       "4      Danny Boyle is directing the untitled film\\r\\n...     True   \n",
       "...                                                  ...      ...   \n",
       "10699  News of guitarist Willie Nelson’s death spread...     True   \n",
       "10700  Amazon, the cyber store that sells everything,...     True   \n",
       "10701  ELON, N.C. – A recent rumor claims that Elon U...     True   \n",
       "10702  A realistic-looking fake BBC News website has ...     True   \n",
       "10703  We still don’t know the exact date the Apple W...     True   \n",
       "\n",
       "                                      Processed Headline  \\\n",
       "0               Seth Rogen to Play Apple’s Steve Wozniak   \n",
       "1      Return of the Mac: Seth Rogen in talks to star...   \n",
       "2                                      Seth Rogen Is Woz   \n",
       "3      Steve Jobs Biopic Eyes Seth Rogen to Play Appl...   \n",
       "4      Seth Rogen Eyed to Play Apple's Steve Wozniak ...   \n",
       "...                                                  ...   \n",
       "10699  “Willie Nelson dead 2015” : Guitarist killed b...   \n",
       "10700  Amazon Is Opening a Brick-and-Mortar Store in ...   \n",
       "10701  Elon University has not banned the term ‘fresh...   \n",
       "10702  Fake BBC News website set up to carry Charlie ...   \n",
       "10703  If you want an Apple Watch, you’ll probably be...   \n",
       "\n",
       "                                          Processed Body  \\\n",
       "0      Danny Boyle is directing the untitled film Set...   \n",
       "1      Danny Boyle is directing the untitled film Set...   \n",
       "2      Danny Boyle is directing the untitled film Set...   \n",
       "3      Danny Boyle is directing the untitled film Set...   \n",
       "4      Danny Boyle is directing the untitled film Set...   \n",
       "...                                                  ...   \n",
       "10699  News of guitarist Willie Nelson’s death spread...   \n",
       "10700  Amazon, the cyber store that sells everything,...   \n",
       "10701  ELON, N.C. – A recent rumor claims that Elon U...   \n",
       "10702  A realistic-looking fake BBC News website has ...   \n",
       "10703  We still don’t know the exact date the Apple W...   \n",
       "\n",
       "                                       Transformer Input  \n",
       "0      [[tensor(101), tensor(6662), tensor(20996), te...  \n",
       "1      [[tensor(101), tensor(2709), tensor(1997), ten...  \n",
       "2      [[tensor(101), tensor(6662), tensor(20996), te...  \n",
       "3      [[tensor(101), tensor(3889), tensor(5841), ten...  \n",
       "4      [[tensor(101), tensor(6662), tensor(20996), te...  \n",
       "...                                                  ...  \n",
       "10699  [[tensor(101), tensor(1523), tensor(9893), ten...  \n",
       "10700  [[tensor(101), tensor(9733), tensor(2003), ten...  \n",
       "10701  [[tensor(101), tensor(3449), tensor(2239), ten...  \n",
       "10702  [[tensor(101), tensor(8275), tensor(4035), ten...  \n",
       "10703  [[tensor(101), tensor(2065), tensor(2017), ten...  \n",
       "\n",
       "[10704 rows x 7 columns]"
      ]
     },
     "execution_count": 54,
     "metadata": {},
     "output_type": "execute_result"
    }
   ],
   "source": [
    "train_df"
   ]
  },
  {
   "cell_type": "code",
   "execution_count": 55,
   "id": "75e76fac-d344-4803-9b43-8dd023c3f44e",
   "metadata": {
    "tags": []
   },
   "outputs": [
    {
     "data": {
      "application/vnd.jupyter.widget-view+json": {
       "model_id": "04cf6840c77c49b3a9a5f2b739dfa661",
       "version_major": 2,
       "version_minor": 0
      },
      "text/plain": [
       "  0%|          | 0/2723 [00:00<?, ?it/s]"
      ]
     },
     "metadata": {},
     "output_type": "display_data"
    }
   ],
   "source": [
    "transformers.logging.set_verbosity_error()\n",
    "val_df[\"Transformer Input\"] = val_df.progress_apply(lambda row: concated_headline_body_tokens(row[\"Processed Headline\"], row[\"Processed Body\"]), axis=1)\n",
    "transformers.logging.set_verbosity_warning()"
   ]
  },
  {
   "cell_type": "code",
   "execution_count": 115,
   "id": "75eb4b1a-9b29-4dad-a917-c51ddcfb86b0",
   "metadata": {
    "tags": []
   },
   "outputs": [
    {
     "name": "stderr",
     "output_type": "stream",
     "text": [
      "Some weights of the model checkpoint at bert-base-uncased were not used when initializing BertModel: ['cls.seq_relationship.bias', 'cls.predictions.transform.LayerNorm.bias', 'cls.predictions.bias', 'cls.predictions.decoder.weight', 'cls.predictions.transform.dense.weight', 'cls.predictions.transform.dense.bias', 'cls.predictions.transform.LayerNorm.weight', 'cls.seq_relationship.weight']\n",
      "- This IS expected if you are initializing BertModel from the checkpoint of a model trained on another task or with another architecture (e.g. initializing a BertForSequenceClassification model from a BertForPreTraining model).\n",
      "- This IS NOT expected if you are initializing BertModel from the checkpoint of a model that you expect to be exactly identical (initializing a BertForSequenceClassification model from a BertForSequenceClassification model).\n"
     ]
    }
   ],
   "source": [
    "bert = BertModel.from_pretrained(selected_model)\n",
    "bert = bert.to(device)"
   ]
  },
  {
   "cell_type": "code",
   "execution_count": 116,
   "id": "f53e9dde-e4a4-4c66-9aeb-ea72af4f77d0",
   "metadata": {
    "tags": []
   },
   "outputs": [
    {
     "data": {
      "text/plain": [
       "torch.Size([1, 512])"
      ]
     },
     "execution_count": 116,
     "metadata": {},
     "output_type": "execute_result"
    }
   ],
   "source": [
    "test_row = train_df.iloc[812]\n",
    "test_row_tokens = test_row[\"Transformer Input\"].to(device)\n",
    "test_row_tokens.shape"
   ]
  },
  {
   "cell_type": "code",
   "execution_count": 117,
   "id": "a97f2b32-58ad-4010-b7ad-9b442ca59dfe",
   "metadata": {
    "tags": []
   },
   "outputs": [],
   "source": [
    "bert_embedded_test = bert(test_row_tokens)[0]"
   ]
  },
  {
   "cell_type": "code",
   "execution_count": 118,
   "id": "1b9a0333-785d-4120-bd18-900f1af31e1b",
   "metadata": {
    "tags": []
   },
   "outputs": [
    {
     "data": {
      "text/plain": [
       "torch.Size([1, 512, 768])"
      ]
     },
     "execution_count": 118,
     "metadata": {},
     "output_type": "execute_result"
    }
   ],
   "source": [
    "bert_embedded_test.shape\n",
    "# So the CLS token output is at [i][0] for input i"
   ]
  },
  {
   "cell_type": "code",
   "execution_count": 119,
   "id": "9f6b565a-3991-4d2b-8729-92eea62cdbfd",
   "metadata": {
    "tags": []
   },
   "outputs": [],
   "source": [
    "label_map = {\n",
    "    \"agree\": 0,\n",
    "    \"disagree\": 1,\n",
    "    \"discuss\": 2\n",
    "}"
   ]
  },
  {
   "cell_type": "code",
   "execution_count": 120,
   "id": "5eff0fe8-63db-4131-bffe-0b6b38e1f88c",
   "metadata": {
    "tags": []
   },
   "outputs": [
    {
     "data": {
      "text/plain": [
       "torch.Size([10704, 1])"
      ]
     },
     "execution_count": 120,
     "metadata": {},
     "output_type": "execute_result"
    }
   ],
   "source": [
    "train_labels = np.array([label_map[x] for x in train_df[\"Stance\"].values])\n",
    "train_labels_tensor = torch.LongTensor(train_labels).unsqueeze(1)\n",
    "train_labels_tensor.shape"
   ]
  },
  {
   "cell_type": "code",
   "execution_count": 121,
   "id": "02d283cc-1812-4e0f-9a3a-637e57a389ff",
   "metadata": {
    "tags": []
   },
   "outputs": [
    {
     "data": {
      "text/plain": [
       "torch.Size([2723, 1])"
      ]
     },
     "execution_count": 121,
     "metadata": {},
     "output_type": "execute_result"
    }
   ],
   "source": [
    "val_labels = np.array([label_map[x] for x in val_df[\"Stance\"].values])\n",
    "val_labels_tensor = torch.LongTensor(val_labels).unsqueeze(1)\n",
    "val_labels_tensor.shape"
   ]
  },
  {
   "cell_type": "code",
   "execution_count": 122,
   "id": "2a4c5658-e7fc-4850-a11b-e44719e1bbb8",
   "metadata": {
    "tags": []
   },
   "outputs": [],
   "source": [
    "train_transformer_token_ids = torch.concat(list(train_df[\"Transformer Input\"].values))"
   ]
  },
  {
   "cell_type": "code",
   "execution_count": 123,
   "id": "a160d970-87c3-435e-adfc-e09ef27e9d15",
   "metadata": {
    "tags": []
   },
   "outputs": [
    {
     "data": {
      "text/plain": [
       "torch.Size([10704, 512])"
      ]
     },
     "execution_count": 123,
     "metadata": {},
     "output_type": "execute_result"
    }
   ],
   "source": [
    "train_transformer_token_ids.shape"
   ]
  },
  {
   "cell_type": "code",
   "execution_count": 124,
   "id": "f4e13a41-fcee-4b33-bb86-a72aa7bc40ea",
   "metadata": {
    "tags": []
   },
   "outputs": [],
   "source": [
    "val_transformer_token_ids = torch.concat(list(val_df[\"Transformer Input\"].values))"
   ]
  },
  {
   "cell_type": "code",
   "execution_count": 125,
   "id": "fe5f0fcb-3f6a-4a39-a90a-11600282d135",
   "metadata": {
    "tags": []
   },
   "outputs": [
    {
     "data": {
      "text/plain": [
       "torch.Size([2723, 512])"
      ]
     },
     "execution_count": 125,
     "metadata": {},
     "output_type": "execute_result"
    }
   ],
   "source": [
    "val_transformer_token_ids.shape"
   ]
  },
  {
   "cell_type": "code",
   "execution_count": 126,
   "id": "3b2effaf-737c-4c92-ac46-299103f9dd3f",
   "metadata": {
    "tags": []
   },
   "outputs": [
    {
     "data": {
      "text/plain": [
       "tensor([1.2128, 5.1710, 0.5045], dtype=torch.float64)"
      ]
     },
     "execution_count": 126,
     "metadata": {},
     "output_type": "execute_result"
    }
   ],
   "source": [
    "unique_class_labels = np.unique(train_labels)\n",
    "class_weights = compute_class_weight(\"balanced\", classes=unique_class_labels, y=train_labels)\n",
    "class_weights = torch.from_numpy(class_weights)\n",
    "class_weights"
   ]
  },
  {
   "cell_type": "code",
   "execution_count": 150,
   "id": "414cce6a-992c-476a-aeaf-f0ca7b51f748",
   "metadata": {
    "tags": []
   },
   "outputs": [],
   "source": [
    "# Create the confusion matrix - from Practical 1\n",
    "def plot_confusion_matrix(y_test, y_pred):\n",
    "    ''' Plot the confusion matrix for the target labels and predictions '''\n",
    "    cm = confusion_matrix(y_test, y_pred)\n",
    "\n",
    "    # Create a dataframe with the confusion matrix values\n",
    "    df_cm = pd.DataFrame(cm, range(cm.shape[0]),\n",
    "                  range(cm.shape[1]))\n",
    "\n",
    "    # Plot the confusion matrix\n",
    "    sns.set(font_scale=1.4) # for label size\n",
    "    sns.heatmap(df_cm, annot=True,fmt='.0f',cmap=\"YlGnBu\",annot_kws={\"size\": 10}) # font size\n",
    "    plt.show()"
   ]
  },
  {
   "cell_type": "code",
   "execution_count": 151,
   "id": "06fb2b72-83f6-484b-8426-bd70cb20b2df",
   "metadata": {
    "tags": []
   },
   "outputs": [],
   "source": [
    "# ROC Curve\n",
    "# plot no skill\n",
    "# Calculate the points in the ROC curve - from Practical 1\n",
    "def plot_roc_curve(y_test, y_pred):\n",
    "    ''' Plot the ROC curve for the target labels and predictions'''\n",
    "    fpr, tpr, thresholds = roc_curve(y_test, y_pred, pos_label=1)\n",
    "    roc_auc= auc(fpr,tpr)\n",
    "    plt.figure(figsize=(12, 12))\n",
    "    ax = plt.subplot(121)\n",
    "    ax.set_aspect(1)\n",
    "    \n",
    "    plt.title('Receiver Operating Characteristic')\n",
    "    plt.plot(fpr, tpr, 'b', label = 'AUC = %0.2f' % roc_auc)\n",
    "    plt.legend(loc = 'lower right')\n",
    "    plt.plot([0, 1], [0, 1],'r--')\n",
    "    plt.xlim([0, 1])\n",
    "    plt.ylim([0, 1])\n",
    "    plt.ylabel('True Positive Rate')\n",
    "    plt.xlabel('False Positive Rate')\n",
    "    plt.show()"
   ]
  },
  {
   "cell_type": "code",
   "execution_count": 204,
   "id": "1213d40a-ce44-4a2a-b482-6cfa431002c7",
   "metadata": {
    "tags": []
   },
   "outputs": [],
   "source": [
    "batch_size = 32\n",
    "apply_loss_weighting = True"
   ]
  },
  {
   "cell_type": "code",
   "execution_count": 205,
   "id": "ad3f2618-a944-448b-8f34-e08081f8b959",
   "metadata": {
    "tags": []
   },
   "outputs": [],
   "source": [
    "train_dataset = torch.utils.data.TensorDataset(train_transformer_token_ids, train_labels_tensor)\n",
    "train_dataloader_enc = torch.utils.data.DataLoader(train_dataset, batch_size=batch_size, shuffle=False)\n",
    "train_dataloader = torch.utils.data.DataLoader(train_dataset, batch_size=batch_size, shuffle=True)"
   ]
  },
  {
   "cell_type": "code",
   "execution_count": 206,
   "id": "c84b2307-9f17-4aba-a530-2a8a5564cffa",
   "metadata": {
    "tags": []
   },
   "outputs": [],
   "source": [
    "val_dataset = torch.utils.data.TensorDataset(val_transformer_token_ids, val_labels_tensor)\n",
    "val_dataloader = torch.utils.data.DataLoader(val_dataset, batch_size=batch_size, shuffle=False)"
   ]
  },
  {
   "cell_type": "code",
   "execution_count": 215,
   "id": "24d9a307-90c1-4374-91fe-924f07eede67",
   "metadata": {
    "tags": []
   },
   "outputs": [],
   "source": [
    "class BERTGRUSentiment(nn.Module):\n",
    "    def __init__(self,\n",
    "                 bert,\n",
    "                 hidden_dim,\n",
    "                 output_dim,\n",
    "                 n_layers,\n",
    "                 bidirectional,\n",
    "                 dropout):\n",
    "        \n",
    "        super().__init__()\n",
    "        \n",
    "        self.bert = bert\n",
    "        \n",
    "        embedding_dim = bert.config.to_dict()['hidden_size']\n",
    "        \n",
    "        self.rnn = nn.GRU(embedding_dim,\n",
    "                          hidden_dim,\n",
    "                          num_layers = n_layers,\n",
    "                          bidirectional = bidirectional,\n",
    "                          batch_first = True,\n",
    "                          dropout = 0 if n_layers < 2 else dropout)\n",
    "        \n",
    "        self.out = nn.Linear(hidden_dim * 2 if bidirectional else hidden_dim, output_dim)\n",
    "        \n",
    "        self.dropout = nn.Dropout(dropout)\n",
    "        \n",
    "    def forward(self, ids):\n",
    "        with torch.no_grad():\n",
    "            embedded = self.bert(ids)[0]\n",
    "        \n",
    "        # print(embedded.shape)\n",
    "        \n",
    "        _, hidden = self.rnn(embedded)\n",
    "    \n",
    "        \n",
    "        if self.rnn.bidirectional:\n",
    "            hidden = self.dropout(torch.cat((hidden[-2,:,:], hidden[-1,:,:]), dim = 1))\n",
    "        else:\n",
    "            hidden = self.dropout(hidden[-1,:,:])\n",
    "        \n",
    "        output = self.out(hidden)        \n",
    "        \n",
    "        return output"
   ]
  },
  {
   "cell_type": "code",
   "execution_count": 216,
   "id": "74b26736-d529-4f80-ab10-44b371cc9a35",
   "metadata": {
    "tags": []
   },
   "outputs": [],
   "source": [
    "HIDDEN_DIM = 256\n",
    "OUTPUT_DIM = 3\n",
    "N_LAYERS = 2\n",
    "BIDIRECTIONAL = True\n",
    "DROPOUT = 0.25\n",
    "\n",
    "model = BERTGRUSentiment(bert,\n",
    "                         HIDDEN_DIM,\n",
    "                         OUTPUT_DIM,\n",
    "                         N_LAYERS,\n",
    "                         BIDIRECTIONAL,\n",
    "                         DROPOUT)"
   ]
  },
  {
   "cell_type": "code",
   "execution_count": 217,
   "id": "689766ca-458c-4dba-bba0-0c6fbd91ae86",
   "metadata": {
    "tags": []
   },
   "outputs": [],
   "source": [
    "for name, param in model.named_parameters():                \n",
    "    if name.startswith('bert'):\n",
    "        param.requires_grad = False"
   ]
  },
  {
   "cell_type": "code",
   "execution_count": 218,
   "id": "5c5eebf6-9974-40eb-8656-380a60c3fc7a",
   "metadata": {
    "tags": []
   },
   "outputs": [
    {
     "name": "stdout",
     "output_type": "stream",
     "text": [
      "rnn.weight_ih_l0\n",
      "rnn.weight_hh_l0\n",
      "rnn.bias_ih_l0\n",
      "rnn.bias_hh_l0\n",
      "rnn.weight_ih_l0_reverse\n",
      "rnn.weight_hh_l0_reverse\n",
      "rnn.bias_ih_l0_reverse\n",
      "rnn.bias_hh_l0_reverse\n",
      "rnn.weight_ih_l1\n",
      "rnn.weight_hh_l1\n",
      "rnn.bias_ih_l1\n",
      "rnn.bias_hh_l1\n",
      "rnn.weight_ih_l1_reverse\n",
      "rnn.weight_hh_l1_reverse\n",
      "rnn.bias_ih_l1_reverse\n",
      "rnn.bias_hh_l1_reverse\n",
      "out.weight\n",
      "out.bias\n"
     ]
    }
   ],
   "source": [
    "for name, param in model.named_parameters():                \n",
    "    if param.requires_grad:\n",
    "        print(name)"
   ]
  },
  {
   "cell_type": "code",
   "execution_count": 219,
   "id": "cf32d3b1-67fa-4973-8bb3-5c6f341c9091",
   "metadata": {
    "tags": []
   },
   "outputs": [],
   "source": [
    "opt = optim.Adam(model.parameters())"
   ]
  },
  {
   "cell_type": "code",
   "execution_count": 220,
   "id": "512123f4-18be-4118-ae0b-48392cdce3f9",
   "metadata": {
    "tags": []
   },
   "outputs": [],
   "source": [
    "model = model.to(device)"
   ]
  },
  {
   "cell_type": "code",
   "execution_count": 221,
   "id": "983d9bf2-b8b4-49e8-96fe-adfd277b0938",
   "metadata": {
    "tags": []
   },
   "outputs": [],
   "source": [
    "def evaluate_model(model, dataloader, labels, apply_loss_weighting):\n",
    "    if not apply_loss_weighting:\n",
    "        loss_func = nn.CrossEntropyLoss()\n",
    "    else:\n",
    "        loss_func = nn.CrossEntropyLoss(weight=class_weights.float().to(device))\n",
    "    \n",
    "    with torch.no_grad():\n",
    "        model.eval()\n",
    "        \n",
    "        all_pred = np.array([])\n",
    "        total_loss = 0\n",
    "        \n",
    "        for inp, labels in tqdm(dataloader):\n",
    "            inp = inp.to(device)\n",
    "            labels = labels.to(device).squeeze()\n",
    "        \n",
    "            pred = model(inp)\n",
    "            loss = loss_func(pred, labels)\n",
    "            _, pred = torch.max(pred.data, 1)\n",
    "            \n",
    "            all_pred = np.concatenate([all_pred, pred.cpu().numpy().squeeze()])\n",
    "            total_loss += loss.item()\n",
    "        \n",
    "        model.train()\n",
    "    \n",
    "    return all_pred, total_loss / len(dataloader)"
   ]
  },
  {
   "cell_type": "code",
   "execution_count": 222,
   "id": "63327afd-e02f-40cd-85fb-d7bcf2f06ffd",
   "metadata": {
    "tags": []
   },
   "outputs": [
    {
     "data": {
      "application/vnd.jupyter.widget-view+json": {
       "model_id": "e97637c6be654125b35c6af83d230bd0",
       "version_major": 2,
       "version_minor": 0
      },
      "text/plain": [
       "  0%|          | 0/335 [00:00<?, ?it/s]"
      ]
     },
     "metadata": {},
     "output_type": "display_data"
    },
    {
     "name": "stdout",
     "output_type": "stream",
     "text": [
      "[1:40] Loss: 1.125\n",
      "[1:80] Loss: 1.070\n",
      "[1:120] Loss: 0.915\n",
      "[1:160] Loss: 0.886\n",
      "[1:200] Loss: 0.861\n",
      "[1:240] Loss: 0.819\n",
      "[1:280] Loss: 0.780\n",
      "[1:320] Loss: 0.796\n",
      "[1:END] Took 269.600s\n",
      "[1:END] Training Loss: 0.898\n"
     ]
    },
    {
     "data": {
      "application/vnd.jupyter.widget-view+json": {
       "model_id": "4945f4f9b19045bf827f97cf7145cce9",
       "version_major": 2,
       "version_minor": 0
      },
      "text/plain": [
       "  0%|          | 0/86 [00:00<?, ?it/s]"
      ]
     },
     "metadata": {},
     "output_type": "display_data"
    },
    {
     "name": "stdout",
     "output_type": "stream",
     "text": [
      "[1:END] Validation Loss: 0.710\n",
      "[1:END] Validation Accuracy: 70.290%\n",
      "              precision    recall  f1-score   support\n",
      "\n",
      "           0       0.61      0.70      0.65       736\n",
      "           1       0.22      0.75      0.34       150\n",
      "           2       0.94      0.70      0.80      1837\n",
      "\n",
      "    accuracy                           0.70      2723\n",
      "   macro avg       0.59      0.72      0.60      2723\n",
      "weighted avg       0.81      0.70      0.74      2723\n",
      "\n"
     ]
    },
    {
     "data": {
      "image/png": "[encoded data removed]",
      "text/plain": [
       "<Figure size 640x480 with 2 Axes>"
      ]
     },
     "metadata": {},
     "output_type": "display_data"
    },
    {
     "name": "stdout",
     "output_type": "stream",
     "text": [
      "[1:END] Validation loss improved, saved model to ./runs/2/1679587975.7776968_BERTGRUSentiment_weighted/model_1.pth\n"
     ]
    },
    {
     "data": {
      "application/vnd.jupyter.widget-view+json": {
       "model_id": "a4f591c7720244498a9b23eb44882133",
       "version_major": 2,
       "version_minor": 0
      },
      "text/plain": [
       "  0%|          | 0/335 [00:00<?, ?it/s]"
      ]
     },
     "metadata": {},
     "output_type": "display_data"
    },
    {
     "name": "stdout",
     "output_type": "stream",
     "text": [
      "[2:40] Loss: 0.669\n",
      "[2:80] Loss: 0.578\n",
      "[2:120] Loss: 0.635\n",
      "[2:160] Loss: 0.604\n",
      "[2:200] Loss: 0.575\n",
      "[2:240] Loss: 0.648\n",
      "[2:280] Loss: 0.563\n",
      "[2:320] Loss: 0.540\n",
      "[2:END] Took 269.420s\n",
      "[2:END] Training Loss: 0.598\n"
     ]
    },
    {
     "data": {
      "application/vnd.jupyter.widget-view+json": {
       "model_id": "6b9a39c784e04a42a6fb2e6bbe33d1d1",
       "version_major": 2,
       "version_minor": 0
      },
      "text/plain": [
       "  0%|          | 0/86 [00:00<?, ?it/s]"
      ]
     },
     "metadata": {},
     "output_type": "display_data"
    },
    {
     "name": "stdout",
     "output_type": "stream",
     "text": [
      "[2:END] Validation Loss: 0.593\n",
      "[2:END] Validation Accuracy: 78.039%\n",
      "              precision    recall  f1-score   support\n",
      "\n",
      "           0       0.66      0.83      0.74       736\n",
      "           1       0.34      0.71      0.46       150\n",
      "           2       0.95      0.76      0.85      1837\n",
      "\n",
      "    accuracy                           0.78      2723\n",
      "   macro avg       0.65      0.77      0.68      2723\n",
      "weighted avg       0.84      0.78      0.80      2723\n",
      "\n"
     ]
    },
    {
     "data": {
      "image/png": "[encoded data removed]",
      "text/plain": [
       "<Figure size 640x480 with 2 Axes>"
      ]
     },
     "metadata": {},
     "output_type": "display_data"
    },
    {
     "name": "stdout",
     "output_type": "stream",
     "text": [
      "[2:END] Validation loss improved, saved model to ./runs/2/1679587975.7776968_BERTGRUSentiment_weighted/model_2.pth\n"
     ]
    },
    {
     "data": {
      "application/vnd.jupyter.widget-view+json": {
       "model_id": "5b39ac5662554c0191cd2201d7497f1f",
       "version_major": 2,
       "version_minor": 0
      },
      "text/plain": [
       "  0%|          | 0/335 [00:00<?, ?it/s]"
      ]
     },
     "metadata": {},
     "output_type": "display_data"
    },
    {
     "name": "stdout",
     "output_type": "stream",
     "text": [
      "[3:40] Loss: 0.451\n",
      "[3:80] Loss: 0.470\n",
      "[3:120] Loss: 0.389\n",
      "[3:160] Loss: 0.407\n",
      "[3:200] Loss: 0.446\n",
      "[3:240] Loss: 0.349\n",
      "[3:280] Loss: 0.450\n",
      "[3:320] Loss: 0.420\n",
      "[3:END] Took 269.020s\n",
      "[3:END] Training Loss: 0.423\n"
     ]
    },
    {
     "data": {
      "application/vnd.jupyter.widget-view+json": {
       "model_id": "e6d0e0c954a347c796dd6d3ecabfce90",
       "version_major": 2,
       "version_minor": 0
      },
      "text/plain": [
       "  0%|          | 0/86 [00:00<?, ?it/s]"
      ]
     },
     "metadata": {},
     "output_type": "display_data"
    },
    {
     "name": "stdout",
     "output_type": "stream",
     "text": [
      "[3:END] Validation Loss: 0.686\n",
      "[3:END] Validation Accuracy: 72.237%\n",
      "              precision    recall  f1-score   support\n",
      "\n",
      "           0       0.54      0.87      0.67       736\n",
      "           1       0.38      0.76      0.51       150\n",
      "           2       0.98      0.66      0.79      1837\n",
      "\n",
      "    accuracy                           0.72      2723\n",
      "   macro avg       0.63      0.76      0.65      2723\n",
      "weighted avg       0.83      0.72      0.74      2723\n",
      "\n"
     ]
    },
    {
     "data": {
      "image/png": "[encoded data removed]",
      "text/plain": [
       "<Figure size 640x480 with 2 Axes>"
      ]
     },
     "metadata": {},
     "output_type": "display_data"
    },
    {
     "data": {
      "application/vnd.jupyter.widget-view+json": {
       "model_id": "e1a763fd05bf499ea78cdafb016bca3a",
       "version_major": 2,
       "version_minor": 0
      },
      "text/plain": [
       "  0%|          | 0/335 [00:00<?, ?it/s]"
      ]
     },
     "metadata": {},
     "output_type": "display_data"
    },
    {
     "name": "stdout",
     "output_type": "stream",
     "text": [
      "[4:40] Loss: 0.305\n",
      "[4:80] Loss: 0.298\n",
      "[4:120] Loss: 0.277\n",
      "[4:160] Loss: 0.255\n",
      "[4:200] Loss: 0.324\n",
      "[4:240] Loss: 0.302\n",
      "[4:280] Loss: 0.316\n",
      "[4:320] Loss: 0.276\n",
      "[4:END] Took 277.464s\n",
      "[4:END] Training Loss: 0.294\n"
     ]
    },
    {
     "data": {
      "application/vnd.jupyter.widget-view+json": {
       "model_id": "b3274f959ce04976a8d54951189dd203",
       "version_major": 2,
       "version_minor": 0
      },
      "text/plain": [
       "  0%|          | 0/86 [00:00<?, ?it/s]"
      ]
     },
     "metadata": {},
     "output_type": "display_data"
    },
    {
     "name": "stdout",
     "output_type": "stream",
     "text": [
      "[4:END] Validation Loss: 0.632\n",
      "[4:END] Validation Accuracy: 83.474%\n",
      "              precision    recall  f1-score   support\n",
      "\n",
      "           0       0.75      0.79      0.77       736\n",
      "           1       0.43      0.64      0.52       150\n",
      "           2       0.93      0.87      0.90      1837\n",
      "\n",
      "    accuracy                           0.83      2723\n",
      "   macro avg       0.70      0.77      0.73      2723\n",
      "weighted avg       0.85      0.83      0.84      2723\n",
      "\n"
     ]
    },
    {
     "data": {
      "image/png": "[encoded data removed]",
      "text/plain": [
       "<Figure size 640x480 with 2 Axes>"
      ]
     },
     "metadata": {},
     "output_type": "display_data"
    },
    {
     "data": {
      "application/vnd.jupyter.widget-view+json": {
       "model_id": "fb8c36d79936428eb4bcbb7d18e3ce8f",
       "version_major": 2,
       "version_minor": 0
      },
      "text/plain": [
       "  0%|          | 0/335 [00:00<?, ?it/s]"
      ]
     },
     "metadata": {},
     "output_type": "display_data"
    },
    {
     "name": "stdout",
     "output_type": "stream",
     "text": [
      "[5:40] Loss: 0.202\n",
      "[5:80] Loss: 0.195\n",
      "[5:120] Loss: 0.204\n",
      "[5:160] Loss: 0.186\n",
      "[5:200] Loss: 0.225\n",
      "[5:240] Loss: 0.223\n",
      "[5:280] Loss: 0.235\n",
      "[5:320] Loss: 0.241\n",
      "[5:END] Took 269.184s\n",
      "[5:END] Training Loss: 0.216\n"
     ]
    },
    {
     "data": {
      "application/vnd.jupyter.widget-view+json": {
       "model_id": "d832f14943a14e0e80b655fa2efc8b32",
       "version_major": 2,
       "version_minor": 0
      },
      "text/plain": [
       "  0%|          | 0/86 [00:00<?, ?it/s]"
      ]
     },
     "metadata": {},
     "output_type": "display_data"
    },
    {
     "name": "stdout",
     "output_type": "stream",
     "text": [
      "[5:END] Validation Loss: 0.628\n",
      "[5:END] Validation Accuracy: 80.059%\n",
      "              precision    recall  f1-score   support\n",
      "\n",
      "           0       0.65      0.84      0.73       736\n",
      "           1       0.45      0.77      0.57       150\n",
      "           2       0.95      0.79      0.86      1837\n",
      "\n",
      "    accuracy                           0.80      2723\n",
      "   macro avg       0.69      0.80      0.72      2723\n",
      "weighted avg       0.84      0.80      0.81      2723\n",
      "\n"
     ]
    },
    {
     "data": {
      "image/png": "[encoded data removed]",
      "text/plain": [
       "<Figure size 640x480 with 2 Axes>"
      ]
     },
     "metadata": {},
     "output_type": "display_data"
    },
    {
     "data": {
      "application/vnd.jupyter.widget-view+json": {
       "model_id": "aa76e51df1ca497ea5b8bbe5d902cb1d",
       "version_major": 2,
       "version_minor": 0
      },
      "text/plain": [
       "  0%|          | 0/335 [00:00<?, ?it/s]"
      ]
     },
     "metadata": {},
     "output_type": "display_data"
    },
    {
     "name": "stdout",
     "output_type": "stream",
     "text": [
      "[6:40] Loss: 0.192\n",
      "[6:80] Loss: 0.186\n",
      "[6:120] Loss: 0.195\n",
      "[6:160] Loss: 0.137\n",
      "[6:200] Loss: 0.197\n",
      "[6:240] Loss: 0.211\n",
      "[6:280] Loss: 0.147\n",
      "[6:320] Loss: 0.166\n",
      "[6:END] Took 269.345s\n",
      "[6:END] Training Loss: 0.180\n"
     ]
    },
    {
     "data": {
      "application/vnd.jupyter.widget-view+json": {
       "model_id": "9e287c62ba1e40ab9b5c517d0fb83a0d",
       "version_major": 2,
       "version_minor": 0
      },
      "text/plain": [
       "  0%|          | 0/86 [00:00<?, ?it/s]"
      ]
     },
     "metadata": {},
     "output_type": "display_data"
    },
    {
     "name": "stdout",
     "output_type": "stream",
     "text": [
      "[6:END] Validation Loss: 0.693\n",
      "[6:END] Validation Accuracy: 85.017%\n",
      "              precision    recall  f1-score   support\n",
      "\n",
      "           0       0.79      0.77      0.78       736\n",
      "           1       0.50      0.72      0.59       150\n",
      "           2       0.92      0.89      0.90      1837\n",
      "\n",
      "    accuracy                           0.85      2723\n",
      "   macro avg       0.74      0.79      0.76      2723\n",
      "weighted avg       0.86      0.85      0.85      2723\n",
      "\n"
     ]
    },
    {
     "data": {
      "image/png": "[encoded data removed]",
      "text/plain": [
       "<Figure size 640x480 with 2 Axes>"
      ]
     },
     "metadata": {},
     "output_type": "display_data"
    },
    {
     "name": "stdout",
     "output_type": "stream",
     "text": [
      "[END] Stopping early as validation loss hasn't improved in 4 epochs\n",
      "Training complete\n"
     ]
    }
   ],
   "source": [
    "best_validation_loss = 1e9\n",
    "save_path = f\"./runs/2/{time.time()}_{model.__class__.__qualname__}_{'weighted' if apply_loss_weighting else 'no_weight'}\"\n",
    "epochs_since_best_validation = 0\n",
    "\n",
    "os.makedirs(save_path, exist_ok=True)\n",
    "\n",
    "if not apply_loss_weighting:\n",
    "    loss_func = nn.CrossEntropyLoss()\n",
    "else:\n",
    "    loss_func = nn.CrossEntropyLoss(weight=class_weights.float().to(device))\n",
    "    \n",
    "for epoch in range(1, 101):\n",
    "    model.train()\n",
    "    epoch_st = time.time()\n",
    "    epoch_loss = 0\n",
    "    \n",
    "    batch_acc_loss = 0\n",
    "    \n",
    "    for batch_no, (inp, labels) in enumerate(tqdm(train_dataloader)):\n",
    "        inp = inp.to(device)\n",
    "        labels = labels.to(device).squeeze()\n",
    "        \n",
    "        # print(inp.shape, labels.shape)\n",
    "\n",
    "        predictions = model(inp)\n",
    "        loss = loss_func(predictions, labels)\n",
    "\n",
    "        opt.zero_grad()\n",
    "        loss.backward()\n",
    "        opt.step()\n",
    "\n",
    "        epoch_loss += loss.item()\n",
    "        batch_acc_loss += loss.item()\n",
    "\n",
    "        if batch_no != 0 and batch_no % 40 == 0:\n",
    "            print(f\"[{epoch}:{batch_no}] Loss: {(batch_acc_loss / 40):.3f}\")\n",
    "            batch_acc_loss = 0\n",
    "\n",
    "    epoch_dt = time.time() - epoch_st\n",
    "    print(f\"[{epoch}:END] Took {epoch_dt:.3f}s\")\n",
    "    print(f\"[{epoch}:END] Training Loss: {(epoch_loss / len(train_dataloader)):.3f}\")\n",
    "    \n",
    "    validation_pred, avg_validation_loss = evaluate_model(model, val_dataloader, val_labels, apply_loss_weighting)\n",
    "    print(f\"[{epoch}:END] Validation Loss: {avg_validation_loss:.3f}\")\n",
    "    print(f\"[{epoch}:END] Validation Accuracy: {(validation_pred == val_labels).mean() * 100:.3f}%\")\n",
    "    \n",
    "    print(metrics.classification_report(val_labels, validation_pred))\n",
    "    plot_confusion_matrix(val_labels, validation_pred) \n",
    "    # plot_roc_curve(val_labels, validation_pred) # meaningless for multi-class\n",
    "    \n",
    "    epochs_since_best_validation += 1\n",
    "    \n",
    "    if avg_validation_loss < best_validation_loss:\n",
    "        epochs_since_best_validation = 0\n",
    "        best_validation_loss = avg_validation_loss\n",
    "        torch.save(model.state_dict(), f\"{save_path}/model_{epoch}.pth\")\n",
    "        print(f\"[{epoch}:END] Validation loss improved, saved model to {save_path}/model_{epoch}.pth\")\n",
    "    \n",
    "    if epochs_since_best_validation >= 4:\n",
    "        print(f\"[END] Stopping early as validation loss hasn't improved in 4 epochs\")\n",
    "        break\n",
    "        \n",
    "print(\"Training complete\")"
   ]
  },
  {
   "cell_type": "code",
   "execution_count": null,
   "id": "ed3d4d02-560c-4024-9841-e2eb0548d1c3",
   "metadata": {},
   "outputs": [],
   "source": []
  }
 ],
 "metadata": {
  "kernelspec": {
   "display_name": "Python 3 (ipykernel)",
   "language": "python",
   "name": "python3"
  },
  "language_info": {
   "codemirror_mode": {
    "name": "ipython",
    "version": 3
   },
   "file_extension": ".py",
   "mimetype": "text/x-python",
   "name": "python",
   "nbconvert_exporter": "python",
   "pygments_lexer": "ipython3",
   "version": "3.10.7"
  }
 },
 "nbformat": 4,
 "nbformat_minor": 5
}
